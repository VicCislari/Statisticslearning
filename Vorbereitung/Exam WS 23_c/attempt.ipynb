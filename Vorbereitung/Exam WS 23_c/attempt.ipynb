{
 "cells": [
  {
   "cell_type": "code",
   "execution_count": 5,
   "metadata": {
    "vscode": {
     "languageId": "r"
    }
   },
   "outputs": [
    {
     "name": "stdout",
     "output_type": "stream",
     "text": [
      "\n",
      "Die heruntergeladenen Bin\"arpakete sind in \n",
      "\t/var/folders/t0/f054bgvj7d514yq2qlg1czv80000gp/T//Rtmpl2CPe5/downloaded_packages\n",
      "\n",
      "Die heruntergeladenen Bin\"arpakete sind in \n",
      "\t/var/folders/t0/f054bgvj7d514yq2qlg1czv80000gp/T//Rtmpl2CPe5/downloaded_packages\n"
     ]
    }
   ],
   "source": [
    "install.packages(\"dplyr\")\n",
    "install.packages(\"nortest\")\n",
    "\n",
    "library(tibble)\n",
    "library(tidyr)\n",
    "library(dplyr)\n",
    "library(ggplot2)\n",
    "library(nortest)"
   ]
  },
  {
   "cell_type": "code",
   "execution_count": 6,
   "metadata": {
    "vscode": {
     "languageId": "r"
    }
   },
   "outputs": [],
   "source": [
    "# 1 Aufgabe\n",
    "# (a) Import the files stud.data, exam.data as tibbles"
   ]
  },
  {
   "cell_type": "code",
   "execution_count": 7,
   "metadata": {
    "vscode": {
     "languageId": "r"
    }
   },
   "outputs": [],
   "source": [
    "#stud_data <- read.csv(\"stud.data.csv\")\n",
    "exam_data <- read.csv(\"exam_data.csv\")"
   ]
  },
  {
   "cell_type": "code",
   "execution_count": 8,
   "metadata": {
    "vscode": {
     "languageId": "r"
    }
   },
   "outputs": [],
   "source": [
    "# Convert data frames to tibbles\n",
    "#stud_data <- as_tibble(stud_data)\n",
    "exam_data <- as_tibble(exam_data)"
   ]
  },
  {
   "cell_type": "code",
   "execution_count": 9,
   "metadata": {
    "vscode": {
     "languageId": "r"
    }
   },
   "outputs": [
    {
     "name": "stdout",
     "output_type": "stream",
     "text": [
      "tibble [1,137 x 4] (S3: tbl_df/tbl/data.frame)\n",
      " $ X      : int [1:1137] 1 2 3 4 5 6 7 8 9 10 ...\n",
      " $ exam   : chr [1:1137] \"516647/Mathematics\" \"193841/Data Bases\" \"326761/Computer Networks\" \"230275/Data Bases\" ...\n",
      " $ attempt: int [1:1137] 1 2 2 1 1 1 2 2 2 1 ...\n",
      " $ score  : int [1:1137] 75 49 75 73 55 33 56 102 26 67 ...\n"
     ]
    }
   ],
   "source": [
    "# (b) Determine the scale and type of all variables\n",
    "#str(stud_data)\n",
    "str(exam_data)"
   ]
  },
  {
   "cell_type": "code",
   "execution_count": 10,
   "metadata": {
    "vscode": {
     "languageId": "r"
    }
   },
   "outputs": [
    {
     "data": {
      "text/html": [
       "<table class=\"dataframe\">\n",
       "<caption>A tibble: 1137 x 5</caption>\n",
       "<thead>\n",
       "\t<tr><th scope=col>X</th><th scope=col>exam</th><th scope=col>attempt</th><th scope=col>score</th><th scope=col>grade</th></tr>\n",
       "\t<tr><th scope=col>&lt;int&gt;</th><th scope=col>&lt;chr&gt;</th><th scope=col>&lt;int&gt;</th><th scope=col>&lt;int&gt;</th><th scope=col>&lt;fct&gt;</th></tr>\n",
       "</thead>\n",
       "<tbody>\n",
       "\t<tr><td> 1</td><td>516647/Mathematics         </td><td>1</td><td> 75</td><td>Grade 3</td></tr>\n",
       "\t<tr><td> 2</td><td>193841/Data Bases          </td><td>2</td><td> 49</td><td>Grade 5</td></tr>\n",
       "\t<tr><td> 3</td><td>326761/Computer Networks   </td><td>2</td><td> 75</td><td>Grade 3</td></tr>\n",
       "\t<tr><td> 4</td><td>230275/Data Bases          </td><td>1</td><td> 73</td><td>Grade 3</td></tr>\n",
       "\t<tr><td> 5</td><td>911920/OOP                 </td><td>1</td><td> 55</td><td>Grade 4</td></tr>\n",
       "\t<tr><td> 6</td><td>840873/Formal Languages    </td><td>1</td><td> 33</td><td>Grade 5</td></tr>\n",
       "\t<tr><td> 7</td><td>473291/Mathematics         </td><td>2</td><td> 56</td><td>Grade 4</td></tr>\n",
       "\t<tr><td> 8</td><td>412501/Mathematics         </td><td>2</td><td>102</td><td>Grade 1</td></tr>\n",
       "\t<tr><td> 9</td><td>320446/Formal Languages    </td><td>2</td><td> 26</td><td>Grade 5</td></tr>\n",
       "\t<tr><td>10</td><td>332749/Formal Languages    </td><td>1</td><td> 67</td><td>Grade 3</td></tr>\n",
       "\t<tr><td>11</td><td>310006/Mathematics         </td><td>1</td><td> 25</td><td>Grade 5</td></tr>\n",
       "\t<tr><td>12</td><td>702390/Mathematics         </td><td>2</td><td> 50</td><td>Grade 4</td></tr>\n",
       "\t<tr><td>13</td><td>971258/Computer Networks   </td><td>1</td><td> 70</td><td>Grade 3</td></tr>\n",
       "\t<tr><td>14</td><td>899219/Mathematics         </td><td>2</td><td> 50</td><td>Grade 4</td></tr>\n",
       "\t<tr><td>15</td><td>212398/OOP                 </td><td>2</td><td> 43</td><td>Grade 5</td></tr>\n",
       "\t<tr><td>16</td><td>880476/Mathematics         </td><td>1</td><td> 76</td><td>Grade 3</td></tr>\n",
       "\t<tr><td>17</td><td>839384/Formal Languages    </td><td>3</td><td> 63</td><td>Grade 4</td></tr>\n",
       "\t<tr><td>18</td><td>326761/OOP                 </td><td>1</td><td> 48</td><td>Grade 5</td></tr>\n",
       "\t<tr><td>19</td><td>230275/Software Engineering</td><td>1</td><td> 66</td><td>Grade 3</td></tr>\n",
       "\t<tr><td>20</td><td>494708/Formal Languages    </td><td>1</td><td> 60</td><td>Grade 4</td></tr>\n",
       "\t<tr><td>21</td><td>165954/Computer Networks   </td><td>2</td><td> 46</td><td>Grade 5</td></tr>\n",
       "\t<tr><td>22</td><td>998688/OOP                 </td><td>1</td><td> 71</td><td>Grade 3</td></tr>\n",
       "\t<tr><td>23</td><td>178873/OOP                 </td><td>2</td><td> 77</td><td>Grade 3</td></tr>\n",
       "\t<tr><td>24</td><td>161160/Data Bases          </td><td>1</td><td> 44</td><td>Grade 5</td></tr>\n",
       "\t<tr><td>25</td><td>736413/Formal Languages    </td><td>2</td><td> 68</td><td>Grade 3</td></tr>\n",
       "\t<tr><td>26</td><td>750187/Data Bases          </td><td>1</td><td> 82</td><td>Grade 2</td></tr>\n",
       "\t<tr><td>27</td><td>833358/OOP                 </td><td>2</td><td> 62</td><td>Grade 4</td></tr>\n",
       "\t<tr><td>28</td><td>865792/Formal Languages    </td><td>1</td><td> 73</td><td>Grade 3</td></tr>\n",
       "\t<tr><td>29</td><td>172676/Software Engineering</td><td>1</td><td> 49</td><td>Grade 5</td></tr>\n",
       "\t<tr><td>30</td><td>394291/Mathematics         </td><td>2</td><td> 58</td><td>Grade 4</td></tr>\n",
       "\t<tr><td>...</td><td>...</td><td>...</td><td>...</td><td>...</td></tr>\n",
       "\t<tr><td>1108</td><td>428911/Data Bases          </td><td>2</td><td>54</td><td>Grade 4</td></tr>\n",
       "\t<tr><td>1109</td><td>313057/Formal Languages    </td><td>1</td><td>55</td><td>Grade 4</td></tr>\n",
       "\t<tr><td>1110</td><td>865792/OOP                 </td><td>2</td><td>38</td><td>Grade 5</td></tr>\n",
       "\t<tr><td>1111</td><td>788026/Mathematics         </td><td>1</td><td>48</td><td>Grade 5</td></tr>\n",
       "\t<tr><td>1112</td><td>950706/Data Bases          </td><td>2</td><td>47</td><td>Grade 5</td></tr>\n",
       "\t<tr><td>1113</td><td>973130/Formal Languages    </td><td>1</td><td>65</td><td>Grade 3</td></tr>\n",
       "\t<tr><td>1114</td><td>166089/Software Engineering</td><td>1</td><td>59</td><td>Grade 4</td></tr>\n",
       "\t<tr><td>1115</td><td>401424/Software Engineering</td><td>1</td><td>39</td><td>Grade 5</td></tr>\n",
       "\t<tr><td>1116</td><td>878587/Formal Languages    </td><td>3</td><td>62</td><td>Grade 4</td></tr>\n",
       "\t<tr><td>1117</td><td>956349/Computer Networks   </td><td>2</td><td>63</td><td>Grade 4</td></tr>\n",
       "\t<tr><td>1118</td><td>166089/Computer Networks   </td><td>1</td><td>32</td><td>Grade 5</td></tr>\n",
       "\t<tr><td>1119</td><td>105583/Formal Languages    </td><td>2</td><td>68</td><td>Grade 3</td></tr>\n",
       "\t<tr><td>1120</td><td>963842/Formal Languages    </td><td>1</td><td>79</td><td>Grade 3</td></tr>\n",
       "\t<tr><td>1121</td><td>166089/OOP                 </td><td>1</td><td>53</td><td>Grade 4</td></tr>\n",
       "\t<tr><td>1122</td><td>509605/Formal Languages    </td><td>2</td><td>58</td><td>Grade 4</td></tr>\n",
       "\t<tr><td>1123</td><td>397272/Computer Networks   </td><td>1</td><td>75</td><td>Grade 3</td></tr>\n",
       "\t<tr><td>1124</td><td>152618/OOP                 </td><td>1</td><td>30</td><td>Grade 5</td></tr>\n",
       "\t<tr><td>1125</td><td>801251/Data Bases          </td><td>2</td><td>72</td><td>Grade 3</td></tr>\n",
       "\t<tr><td>1126</td><td>628205/Mathematics         </td><td>1</td><td>46</td><td>Grade 5</td></tr>\n",
       "\t<tr><td>1127</td><td>421675/OOP                 </td><td>2</td><td>58</td><td>Grade 4</td></tr>\n",
       "\t<tr><td>1128</td><td>289839/Mathematics         </td><td>2</td><td>72</td><td>Grade 3</td></tr>\n",
       "\t<tr><td>1129</td><td>132157/Computer Networks   </td><td>1</td><td>52</td><td>Grade 4</td></tr>\n",
       "\t<tr><td>1130</td><td>602527/Computer Networks   </td><td>2</td><td>37</td><td>Grade 5</td></tr>\n",
       "\t<tr><td>1131</td><td>602527/Formal Languages    </td><td>1</td><td>63</td><td>Grade 4</td></tr>\n",
       "\t<tr><td>1132</td><td>432144/Software Engineering</td><td>2</td><td>47</td><td>Grade 5</td></tr>\n",
       "\t<tr><td>1133</td><td>143714/OOP                 </td><td>3</td><td>45</td><td>Grade 5</td></tr>\n",
       "\t<tr><td>1134</td><td>302972/Software Engineering</td><td>2</td><td>84</td><td>Grade 2</td></tr>\n",
       "\t<tr><td>1135</td><td>210267/Data Bases          </td><td>2</td><td>63</td><td>Grade 4</td></tr>\n",
       "\t<tr><td>1136</td><td>697254/Computer Networks   </td><td>1</td><td>64</td><td>Grade 4</td></tr>\n",
       "\t<tr><td>1137</td><td>558972/OOP                 </td><td>1</td><td>43</td><td>Grade 5</td></tr>\n",
       "</tbody>\n",
       "</table>\n"
      ],
      "text/latex": [
       "A tibble: 1137 x 5\n",
       "\\begin{tabular}{lllll}\n",
       " X & exam & attempt & score & grade\\\\\n",
       " <int> & <chr> & <int> & <int> & <fct>\\\\\n",
       "\\hline\n",
       "\t  1 & 516647/Mathematics          & 1 &  75 & Grade 3\\\\\n",
       "\t  2 & 193841/Data Bases           & 2 &  49 & Grade 5\\\\\n",
       "\t  3 & 326761/Computer Networks    & 2 &  75 & Grade 3\\\\\n",
       "\t  4 & 230275/Data Bases           & 1 &  73 & Grade 3\\\\\n",
       "\t  5 & 911920/OOP                  & 1 &  55 & Grade 4\\\\\n",
       "\t  6 & 840873/Formal Languages     & 1 &  33 & Grade 5\\\\\n",
       "\t  7 & 473291/Mathematics          & 2 &  56 & Grade 4\\\\\n",
       "\t  8 & 412501/Mathematics          & 2 & 102 & Grade 1\\\\\n",
       "\t  9 & 320446/Formal Languages     & 2 &  26 & Grade 5\\\\\n",
       "\t 10 & 332749/Formal Languages     & 1 &  67 & Grade 3\\\\\n",
       "\t 11 & 310006/Mathematics          & 1 &  25 & Grade 5\\\\\n",
       "\t 12 & 702390/Mathematics          & 2 &  50 & Grade 4\\\\\n",
       "\t 13 & 971258/Computer Networks    & 1 &  70 & Grade 3\\\\\n",
       "\t 14 & 899219/Mathematics          & 2 &  50 & Grade 4\\\\\n",
       "\t 15 & 212398/OOP                  & 2 &  43 & Grade 5\\\\\n",
       "\t 16 & 880476/Mathematics          & 1 &  76 & Grade 3\\\\\n",
       "\t 17 & 839384/Formal Languages     & 3 &  63 & Grade 4\\\\\n",
       "\t 18 & 326761/OOP                  & 1 &  48 & Grade 5\\\\\n",
       "\t 19 & 230275/Software Engineering & 1 &  66 & Grade 3\\\\\n",
       "\t 20 & 494708/Formal Languages     & 1 &  60 & Grade 4\\\\\n",
       "\t 21 & 165954/Computer Networks    & 2 &  46 & Grade 5\\\\\n",
       "\t 22 & 998688/OOP                  & 1 &  71 & Grade 3\\\\\n",
       "\t 23 & 178873/OOP                  & 2 &  77 & Grade 3\\\\\n",
       "\t 24 & 161160/Data Bases           & 1 &  44 & Grade 5\\\\\n",
       "\t 25 & 736413/Formal Languages     & 2 &  68 & Grade 3\\\\\n",
       "\t 26 & 750187/Data Bases           & 1 &  82 & Grade 2\\\\\n",
       "\t 27 & 833358/OOP                  & 2 &  62 & Grade 4\\\\\n",
       "\t 28 & 865792/Formal Languages     & 1 &  73 & Grade 3\\\\\n",
       "\t 29 & 172676/Software Engineering & 1 &  49 & Grade 5\\\\\n",
       "\t 30 & 394291/Mathematics          & 2 &  58 & Grade 4\\\\\n",
       "\t ... & ... & ... & ... & ...\\\\\n",
       "\t 1108 & 428911/Data Bases           & 2 & 54 & Grade 4\\\\\n",
       "\t 1109 & 313057/Formal Languages     & 1 & 55 & Grade 4\\\\\n",
       "\t 1110 & 865792/OOP                  & 2 & 38 & Grade 5\\\\\n",
       "\t 1111 & 788026/Mathematics          & 1 & 48 & Grade 5\\\\\n",
       "\t 1112 & 950706/Data Bases           & 2 & 47 & Grade 5\\\\\n",
       "\t 1113 & 973130/Formal Languages     & 1 & 65 & Grade 3\\\\\n",
       "\t 1114 & 166089/Software Engineering & 1 & 59 & Grade 4\\\\\n",
       "\t 1115 & 401424/Software Engineering & 1 & 39 & Grade 5\\\\\n",
       "\t 1116 & 878587/Formal Languages     & 3 & 62 & Grade 4\\\\\n",
       "\t 1117 & 956349/Computer Networks    & 2 & 63 & Grade 4\\\\\n",
       "\t 1118 & 166089/Computer Networks    & 1 & 32 & Grade 5\\\\\n",
       "\t 1119 & 105583/Formal Languages     & 2 & 68 & Grade 3\\\\\n",
       "\t 1120 & 963842/Formal Languages     & 1 & 79 & Grade 3\\\\\n",
       "\t 1121 & 166089/OOP                  & 1 & 53 & Grade 4\\\\\n",
       "\t 1122 & 509605/Formal Languages     & 2 & 58 & Grade 4\\\\\n",
       "\t 1123 & 397272/Computer Networks    & 1 & 75 & Grade 3\\\\\n",
       "\t 1124 & 152618/OOP                  & 1 & 30 & Grade 5\\\\\n",
       "\t 1125 & 801251/Data Bases           & 2 & 72 & Grade 3\\\\\n",
       "\t 1126 & 628205/Mathematics          & 1 & 46 & Grade 5\\\\\n",
       "\t 1127 & 421675/OOP                  & 2 & 58 & Grade 4\\\\\n",
       "\t 1128 & 289839/Mathematics          & 2 & 72 & Grade 3\\\\\n",
       "\t 1129 & 132157/Computer Networks    & 1 & 52 & Grade 4\\\\\n",
       "\t 1130 & 602527/Computer Networks    & 2 & 37 & Grade 5\\\\\n",
       "\t 1131 & 602527/Formal Languages     & 1 & 63 & Grade 4\\\\\n",
       "\t 1132 & 432144/Software Engineering & 2 & 47 & Grade 5\\\\\n",
       "\t 1133 & 143714/OOP                  & 3 & 45 & Grade 5\\\\\n",
       "\t 1134 & 302972/Software Engineering & 2 & 84 & Grade 2\\\\\n",
       "\t 1135 & 210267/Data Bases           & 2 & 63 & Grade 4\\\\\n",
       "\t 1136 & 697254/Computer Networks    & 1 & 64 & Grade 4\\\\\n",
       "\t 1137 & 558972/OOP                  & 1 & 43 & Grade 5\\\\\n",
       "\\end{tabular}\n"
      ],
      "text/markdown": [
       "\n",
       "A tibble: 1137 x 5\n",
       "\n",
       "| X &lt;int&gt; | exam &lt;chr&gt; | attempt &lt;int&gt; | score &lt;int&gt; | grade &lt;fct&gt; |\n",
       "|---|---|---|---|---|\n",
       "|  1 | 516647/Mathematics          | 1 |  75 | Grade 3 |\n",
       "|  2 | 193841/Data Bases           | 2 |  49 | Grade 5 |\n",
       "|  3 | 326761/Computer Networks    | 2 |  75 | Grade 3 |\n",
       "|  4 | 230275/Data Bases           | 1 |  73 | Grade 3 |\n",
       "|  5 | 911920/OOP                  | 1 |  55 | Grade 4 |\n",
       "|  6 | 840873/Formal Languages     | 1 |  33 | Grade 5 |\n",
       "|  7 | 473291/Mathematics          | 2 |  56 | Grade 4 |\n",
       "|  8 | 412501/Mathematics          | 2 | 102 | Grade 1 |\n",
       "|  9 | 320446/Formal Languages     | 2 |  26 | Grade 5 |\n",
       "| 10 | 332749/Formal Languages     | 1 |  67 | Grade 3 |\n",
       "| 11 | 310006/Mathematics          | 1 |  25 | Grade 5 |\n",
       "| 12 | 702390/Mathematics          | 2 |  50 | Grade 4 |\n",
       "| 13 | 971258/Computer Networks    | 1 |  70 | Grade 3 |\n",
       "| 14 | 899219/Mathematics          | 2 |  50 | Grade 4 |\n",
       "| 15 | 212398/OOP                  | 2 |  43 | Grade 5 |\n",
       "| 16 | 880476/Mathematics          | 1 |  76 | Grade 3 |\n",
       "| 17 | 839384/Formal Languages     | 3 |  63 | Grade 4 |\n",
       "| 18 | 326761/OOP                  | 1 |  48 | Grade 5 |\n",
       "| 19 | 230275/Software Engineering | 1 |  66 | Grade 3 |\n",
       "| 20 | 494708/Formal Languages     | 1 |  60 | Grade 4 |\n",
       "| 21 | 165954/Computer Networks    | 2 |  46 | Grade 5 |\n",
       "| 22 | 998688/OOP                  | 1 |  71 | Grade 3 |\n",
       "| 23 | 178873/OOP                  | 2 |  77 | Grade 3 |\n",
       "| 24 | 161160/Data Bases           | 1 |  44 | Grade 5 |\n",
       "| 25 | 736413/Formal Languages     | 2 |  68 | Grade 3 |\n",
       "| 26 | 750187/Data Bases           | 1 |  82 | Grade 2 |\n",
       "| 27 | 833358/OOP                  | 2 |  62 | Grade 4 |\n",
       "| 28 | 865792/Formal Languages     | 1 |  73 | Grade 3 |\n",
       "| 29 | 172676/Software Engineering | 1 |  49 | Grade 5 |\n",
       "| 30 | 394291/Mathematics          | 2 |  58 | Grade 4 |\n",
       "| ... | ... | ... | ... | ... |\n",
       "| 1108 | 428911/Data Bases           | 2 | 54 | Grade 4 |\n",
       "| 1109 | 313057/Formal Languages     | 1 | 55 | Grade 4 |\n",
       "| 1110 | 865792/OOP                  | 2 | 38 | Grade 5 |\n",
       "| 1111 | 788026/Mathematics          | 1 | 48 | Grade 5 |\n",
       "| 1112 | 950706/Data Bases           | 2 | 47 | Grade 5 |\n",
       "| 1113 | 973130/Formal Languages     | 1 | 65 | Grade 3 |\n",
       "| 1114 | 166089/Software Engineering | 1 | 59 | Grade 4 |\n",
       "| 1115 | 401424/Software Engineering | 1 | 39 | Grade 5 |\n",
       "| 1116 | 878587/Formal Languages     | 3 | 62 | Grade 4 |\n",
       "| 1117 | 956349/Computer Networks    | 2 | 63 | Grade 4 |\n",
       "| 1118 | 166089/Computer Networks    | 1 | 32 | Grade 5 |\n",
       "| 1119 | 105583/Formal Languages     | 2 | 68 | Grade 3 |\n",
       "| 1120 | 963842/Formal Languages     | 1 | 79 | Grade 3 |\n",
       "| 1121 | 166089/OOP                  | 1 | 53 | Grade 4 |\n",
       "| 1122 | 509605/Formal Languages     | 2 | 58 | Grade 4 |\n",
       "| 1123 | 397272/Computer Networks    | 1 | 75 | Grade 3 |\n",
       "| 1124 | 152618/OOP                  | 1 | 30 | Grade 5 |\n",
       "| 1125 | 801251/Data Bases           | 2 | 72 | Grade 3 |\n",
       "| 1126 | 628205/Mathematics          | 1 | 46 | Grade 5 |\n",
       "| 1127 | 421675/OOP                  | 2 | 58 | Grade 4 |\n",
       "| 1128 | 289839/Mathematics          | 2 | 72 | Grade 3 |\n",
       "| 1129 | 132157/Computer Networks    | 1 | 52 | Grade 4 |\n",
       "| 1130 | 602527/Computer Networks    | 2 | 37 | Grade 5 |\n",
       "| 1131 | 602527/Formal Languages     | 1 | 63 | Grade 4 |\n",
       "| 1132 | 432144/Software Engineering | 2 | 47 | Grade 5 |\n",
       "| 1133 | 143714/OOP                  | 3 | 45 | Grade 5 |\n",
       "| 1134 | 302972/Software Engineering | 2 | 84 | Grade 2 |\n",
       "| 1135 | 210267/Data Bases           | 2 | 63 | Grade 4 |\n",
       "| 1136 | 697254/Computer Networks    | 1 | 64 | Grade 4 |\n",
       "| 1137 | 558972/OOP                  | 1 | 43 | Grade 5 |\n",
       "\n"
      ],
      "text/plain": [
       "     X    exam                        attempt score grade  \n",
       "1     1   516647/Mathematics          1        75   Grade 3\n",
       "2     2   193841/Data Bases           2        49   Grade 5\n",
       "3     3   326761/Computer Networks    2        75   Grade 3\n",
       "4     4   230275/Data Bases           1        73   Grade 3\n",
       "5     5   911920/OOP                  1        55   Grade 4\n",
       "6     6   840873/Formal Languages     1        33   Grade 5\n",
       "7     7   473291/Mathematics          2        56   Grade 4\n",
       "8     8   412501/Mathematics          2       102   Grade 1\n",
       "9     9   320446/Formal Languages     2        26   Grade 5\n",
       "10   10   332749/Formal Languages     1        67   Grade 3\n",
       "11   11   310006/Mathematics          1        25   Grade 5\n",
       "12   12   702390/Mathematics          2        50   Grade 4\n",
       "13   13   971258/Computer Networks    1        70   Grade 3\n",
       "14   14   899219/Mathematics          2        50   Grade 4\n",
       "15   15   212398/OOP                  2        43   Grade 5\n",
       "16   16   880476/Mathematics          1        76   Grade 3\n",
       "17   17   839384/Formal Languages     3        63   Grade 4\n",
       "18   18   326761/OOP                  1        48   Grade 5\n",
       "19   19   230275/Software Engineering 1        66   Grade 3\n",
       "20   20   494708/Formal Languages     1        60   Grade 4\n",
       "21   21   165954/Computer Networks    2        46   Grade 5\n",
       "22   22   998688/OOP                  1        71   Grade 3\n",
       "23   23   178873/OOP                  2        77   Grade 3\n",
       "24   24   161160/Data Bases           1        44   Grade 5\n",
       "25   25   736413/Formal Languages     2        68   Grade 3\n",
       "26   26   750187/Data Bases           1        82   Grade 2\n",
       "27   27   833358/OOP                  2        62   Grade 4\n",
       "28   28   865792/Formal Languages     1        73   Grade 3\n",
       "29   29   172676/Software Engineering 1        49   Grade 5\n",
       "30   30   394291/Mathematics          2        58   Grade 4\n",
       "...  ...  ...                         ...     ...   ...    \n",
       "1108 1108 428911/Data Bases           2       54    Grade 4\n",
       "1109 1109 313057/Formal Languages     1       55    Grade 4\n",
       "1110 1110 865792/OOP                  2       38    Grade 5\n",
       "1111 1111 788026/Mathematics          1       48    Grade 5\n",
       "1112 1112 950706/Data Bases           2       47    Grade 5\n",
       "1113 1113 973130/Formal Languages     1       65    Grade 3\n",
       "1114 1114 166089/Software Engineering 1       59    Grade 4\n",
       "1115 1115 401424/Software Engineering 1       39    Grade 5\n",
       "1116 1116 878587/Formal Languages     3       62    Grade 4\n",
       "1117 1117 956349/Computer Networks    2       63    Grade 4\n",
       "1118 1118 166089/Computer Networks    1       32    Grade 5\n",
       "1119 1119 105583/Formal Languages     2       68    Grade 3\n",
       "1120 1120 963842/Formal Languages     1       79    Grade 3\n",
       "1121 1121 166089/OOP                  1       53    Grade 4\n",
       "1122 1122 509605/Formal Languages     2       58    Grade 4\n",
       "1123 1123 397272/Computer Networks    1       75    Grade 3\n",
       "1124 1124 152618/OOP                  1       30    Grade 5\n",
       "1125 1125 801251/Data Bases           2       72    Grade 3\n",
       "1126 1126 628205/Mathematics          1       46    Grade 5\n",
       "1127 1127 421675/OOP                  2       58    Grade 4\n",
       "1128 1128 289839/Mathematics          2       72    Grade 3\n",
       "1129 1129 132157/Computer Networks    1       52    Grade 4\n",
       "1130 1130 602527/Computer Networks    2       37    Grade 5\n",
       "1131 1131 602527/Formal Languages     1       63    Grade 4\n",
       "1132 1132 432144/Software Engineering 2       47    Grade 5\n",
       "1133 1133 143714/OOP                  3       45    Grade 5\n",
       "1134 1134 302972/Software Engineering 2       84    Grade 2\n",
       "1135 1135 210267/Data Bases           2       63    Grade 4\n",
       "1136 1136 697254/Computer Networks    1       64    Grade 4\n",
       "1137 1137 558972/OOP                  1       43    Grade 5"
      ]
     },
     "metadata": {},
     "output_type": "display_data"
    }
   ],
   "source": [
    "# (c) Add a variable grade\n",
    "exam_data$grade <- cut(exam_data$score,\n",
    "                       breaks = c(-Inf, 49, 64, 79, 89, Inf),\n",
    "                       labels = c(\"Grade 5\", \"Grade 4\", \"Grade 3\", \"Grade 2\", \"Grade 1\"))\n",
    "exam_data"
   ]
  },
  {
   "cell_type": "code",
   "execution_count": 11,
   "metadata": {
    "vscode": {
     "languageId": "r"
    }
   },
   "outputs": [
    {
     "data": {
      "text/html": [
       "<style>\n",
       ".list-inline {list-style: none; margin:0; padding: 0}\n",
       ".list-inline>li {display: inline-block}\n",
       ".list-inline>li:not(:last-child)::after {content: \"\\00b7\"; padding: 0 .5ex}\n",
       "</style>\n",
       "<ol class=list-inline><li>'X'</li><li>'exam'</li><li>'attempt'</li><li>'score'</li><li>'grade'</li></ol>\n"
      ],
      "text/latex": [
       "\\begin{enumerate*}\n",
       "\\item 'X'\n",
       "\\item 'exam'\n",
       "\\item 'attempt'\n",
       "\\item 'score'\n",
       "\\item 'grade'\n",
       "\\end{enumerate*}\n"
      ],
      "text/markdown": [
       "1. 'X'\n",
       "2. 'exam'\n",
       "3. 'attempt'\n",
       "4. 'score'\n",
       "5. 'grade'\n",
       "\n",
       "\n"
      ],
      "text/plain": [
       "[1] \"X\"       \"exam\"    \"attempt\" \"score\"   \"grade\"  "
      ]
     },
     "metadata": {},
     "output_type": "display_data"
    }
   ],
   "source": [
    "# Check the column names in your dataset\n",
    "names(exam_data)\n"
   ]
  },
  {
   "cell_type": "code",
   "execution_count": 12,
   "metadata": {
    "vscode": {
     "languageId": "r"
    }
   },
   "outputs": [],
   "source": [
    "# Split the exam column into matriculation_number and exam_subject\n",
    "exam_data <- separate(exam_data, exam, into = c(\"matriculation_number\", \"exam_subject\"), sep = \"/\")\n"
   ]
  },
  {
   "cell_type": "code",
   "execution_count": 13,
   "metadata": {
    "vscode": {
     "languageId": "r"
    }
   },
   "outputs": [
    {
     "data": {
      "text/html": [
       "<style>\n",
       ".list-inline {list-style: none; margin:0; padding: 0}\n",
       ".list-inline>li {display: inline-block}\n",
       ".list-inline>li:not(:last-child)::after {content: \"\\00b7\"; padding: 0 .5ex}\n",
       "</style>\n",
       "<ol class=list-inline><li>'X'</li><li>'matriculation_number'</li><li>'exam_subject'</li><li>'attempt'</li><li>'score'</li><li>'grade'</li></ol>\n"
      ],
      "text/latex": [
       "\\begin{enumerate*}\n",
       "\\item 'X'\n",
       "\\item 'matriculation\\_number'\n",
       "\\item 'exam\\_subject'\n",
       "\\item 'attempt'\n",
       "\\item 'score'\n",
       "\\item 'grade'\n",
       "\\end{enumerate*}\n"
      ],
      "text/markdown": [
       "1. 'X'\n",
       "2. 'matriculation_number'\n",
       "3. 'exam_subject'\n",
       "4. 'attempt'\n",
       "5. 'score'\n",
       "6. 'grade'\n",
       "\n",
       "\n"
      ],
      "text/plain": [
       "[1] \"X\"                    \"matriculation_number\" \"exam_subject\"        \n",
       "[4] \"attempt\"              \"score\"                \"grade\"               "
      ]
     },
     "metadata": {},
     "output_type": "display_data"
    }
   ],
   "source": [
    "# Check the column names in your dataset\n",
    "names(exam_data)\n"
   ]
  },
  {
   "cell_type": "code",
   "execution_count": 14,
   "metadata": {
    "vscode": {
     "languageId": "r"
    }
   },
   "outputs": [
    {
     "data": {
      "text/html": [
       "1137"
      ],
      "text/latex": [
       "1137"
      ],
      "text/markdown": [
       "1137"
      ],
      "text/plain": [
       "[1] 1137"
      ]
     },
     "metadata": {},
     "output_type": "display_data"
    }
   ],
   "source": [
    "total_tests <- nrow(exam_data)#not part of the exam\n",
    "total_tests"
   ]
  },
  {
   "cell_type": "code",
   "execution_count": 15,
   "metadata": {
    "vscode": {
     "languageId": "r"
    }
   },
   "outputs": [
    {
     "data": {
      "text/html": [
       "243"
      ],
      "text/latex": [
       "243"
      ],
      "text/markdown": [
       "243"
      ],
      "text/plain": [
       "[1] 243"
      ]
     },
     "metadata": {},
     "output_type": "display_data"
    }
   ],
   "source": [
    "# (e).1 Determine the total number of tests in each exam and the number of students participating\n",
    "participants <- length(unique(exam_data$matriculation_number)) #wait what does this do? this is not part of the exam solution\n",
    "participants"
   ]
  },
  {
   "cell_type": "code",
   "execution_count": 16,
   "metadata": {
    "vscode": {
     "languageId": "r"
    }
   },
   "outputs": [
    {
     "name": "stderr",
     "output_type": "stream",
     "text": [
      "\u001b[1m\u001b[22m`summarise()` has grouped output by 'exam_subject'. You can override using the\n",
      "`.groups` argument.\n"
     ]
    },
    {
     "data": {
      "text/html": [
       "<table class=\"dataframe\">\n",
       "<caption>A grouped_df: 6 x 7</caption>\n",
       "<thead>\n",
       "\t<tr><th scope=col>exam_subject</th><th scope=col>Grade 5</th><th scope=col>Grade 4</th><th scope=col>Grade 3</th><th scope=col>Grade 2</th><th scope=col>Grade 1</th><th scope=col>grades</th></tr>\n",
       "\t<tr><th scope=col>&lt;chr&gt;</th><th scope=col>&lt;dbl&gt;</th><th scope=col>&lt;dbl&gt;</th><th scope=col>&lt;dbl&gt;</th><th scope=col>&lt;dbl&gt;</th><th scope=col>&lt;dbl&gt;</th><th scope=col>&lt;dbl&gt;</th></tr>\n",
       "</thead>\n",
       "<tbody>\n",
       "\t<tr><td>Computer Networks   </td><td>61</td><td>53</td><td>58</td><td> 8</td><td> 6</td><td>186</td></tr>\n",
       "\t<tr><td>Data Bases          </td><td>53</td><td>69</td><td>46</td><td>12</td><td>10</td><td>190</td></tr>\n",
       "\t<tr><td>Formal Languages    </td><td>48</td><td>75</td><td>57</td><td> 6</td><td> 4</td><td>190</td></tr>\n",
       "\t<tr><td>Mathematics         </td><td>50</td><td>72</td><td>43</td><td>16</td><td> 4</td><td>185</td></tr>\n",
       "\t<tr><td>OOP                 </td><td>46</td><td>69</td><td>62</td><td>15</td><td> 4</td><td>196</td></tr>\n",
       "\t<tr><td>Software Engineering</td><td>37</td><td>76</td><td>57</td><td>19</td><td> 1</td><td>190</td></tr>\n",
       "</tbody>\n",
       "</table>\n"
      ],
      "text/latex": [
       "A grouped\\_df: 6 x 7\n",
       "\\begin{tabular}{lllllll}\n",
       " exam\\_subject & Grade 5 & Grade 4 & Grade 3 & Grade 2 & Grade 1 & grades\\\\\n",
       " <chr> & <dbl> & <dbl> & <dbl> & <dbl> & <dbl> & <dbl>\\\\\n",
       "\\hline\n",
       "\t Computer Networks    & 61 & 53 & 58 &  8 &  6 & 186\\\\\n",
       "\t Data Bases           & 53 & 69 & 46 & 12 & 10 & 190\\\\\n",
       "\t Formal Languages     & 48 & 75 & 57 &  6 &  4 & 190\\\\\n",
       "\t Mathematics          & 50 & 72 & 43 & 16 &  4 & 185\\\\\n",
       "\t OOP                  & 46 & 69 & 62 & 15 &  4 & 196\\\\\n",
       "\t Software Engineering & 37 & 76 & 57 & 19 &  1 & 190\\\\\n",
       "\\end{tabular}\n"
      ],
      "text/markdown": [
       "\n",
       "A grouped_df: 6 x 7\n",
       "\n",
       "| exam_subject &lt;chr&gt; | Grade 5 &lt;dbl&gt; | Grade 4 &lt;dbl&gt; | Grade 3 &lt;dbl&gt; | Grade 2 &lt;dbl&gt; | Grade 1 &lt;dbl&gt; | grades &lt;dbl&gt; |\n",
       "|---|---|---|---|---|---|---|\n",
       "| Computer Networks    | 61 | 53 | 58 |  8 |  6 | 186 |\n",
       "| Data Bases           | 53 | 69 | 46 | 12 | 10 | 190 |\n",
       "| Formal Languages     | 48 | 75 | 57 |  6 |  4 | 190 |\n",
       "| Mathematics          | 50 | 72 | 43 | 16 |  4 | 185 |\n",
       "| OOP                  | 46 | 69 | 62 | 15 |  4 | 196 |\n",
       "| Software Engineering | 37 | 76 | 57 | 19 |  1 | 190 |\n",
       "\n"
      ],
      "text/plain": [
       "  exam_subject         Grade 5 Grade 4 Grade 3 Grade 2 Grade 1 grades\n",
       "1 Computer Networks    61      53      58       8       6      186   \n",
       "2 Data Bases           53      69      46      12      10      190   \n",
       "3 Formal Languages     48      75      57       6       4      190   \n",
       "4 Mathematics          50      72      43      16       4      185   \n",
       "5 OOP                  46      69      62      15       4      196   \n",
       "6 Software Engineering 37      76      57      19       1      190   "
      ]
     },
     "metadata": {},
     "output_type": "display_data"
    }
   ],
   "source": [
    "# this is the actual solution\n",
    "#grades_freq <- grades_freq %>%\n",
    "#  mutate(grades = Grade_5 + Grade_4 + Grade_3 + Grade_2 + Grade_1)\n",
    "# (e).2 Determine absolute frequencies of grades for each subject\n",
    "\n",
    "grades_freq <- exam_data %>%\n",
    "  group_by(exam_subject, grade) %>%\n",
    "  summarise(freq = n()) %>%\n",
    "  spread(grade, freq, fill = 0)\n",
    "\n",
    "grades_freq <- grades_freq %>%\n",
    "  mutate(grades = `Grade 5` + `Grade 4` + `Grade 3` + `Grade 2` + `Grade 1`)\n",
    "grades_freq"
   ]
  },
  {
   "cell_type": "code",
   "execution_count": 17,
   "metadata": {
    "vscode": {
     "languageId": "r"
    }
   },
   "outputs": [
    {
     "data": {
      "text/html": [
       "<table class=\"dataframe\">\n",
       "<caption>A tibble: 5 x 7</caption>\n",
       "<thead>\n",
       "\t<tr><th scope=col>grade</th><th scope=col>Computer Networks</th><th scope=col>Data Bases</th><th scope=col>Formal Languages</th><th scope=col>Mathematics</th><th scope=col>OOP</th><th scope=col>Software Engineering</th></tr>\n",
       "\t<tr><th scope=col>&lt;fct&gt;</th><th scope=col>&lt;int&gt;</th><th scope=col>&lt;int&gt;</th><th scope=col>&lt;int&gt;</th><th scope=col>&lt;int&gt;</th><th scope=col>&lt;int&gt;</th><th scope=col>&lt;int&gt;</th></tr>\n",
       "</thead>\n",
       "<tbody>\n",
       "\t<tr><td>Grade 5</td><td>61</td><td>53</td><td>48</td><td>50</td><td>46</td><td>37</td></tr>\n",
       "\t<tr><td>Grade 4</td><td>53</td><td>69</td><td>75</td><td>72</td><td>69</td><td>76</td></tr>\n",
       "\t<tr><td>Grade 3</td><td>58</td><td>46</td><td>57</td><td>43</td><td>62</td><td>57</td></tr>\n",
       "\t<tr><td>Grade 2</td><td> 8</td><td>12</td><td> 6</td><td>16</td><td>15</td><td>19</td></tr>\n",
       "\t<tr><td>Grade 1</td><td> 6</td><td>10</td><td> 4</td><td> 4</td><td> 4</td><td> 1</td></tr>\n",
       "</tbody>\n",
       "</table>\n"
      ],
      "text/latex": [
       "A tibble: 5 x 7\n",
       "\\begin{tabular}{lllllll}\n",
       " grade & Computer Networks & Data Bases & Formal Languages & Mathematics & OOP & Software Engineering\\\\\n",
       " <fct> & <int> & <int> & <int> & <int> & <int> & <int>\\\\\n",
       "\\hline\n",
       "\t Grade 5 & 61 & 53 & 48 & 50 & 46 & 37\\\\\n",
       "\t Grade 4 & 53 & 69 & 75 & 72 & 69 & 76\\\\\n",
       "\t Grade 3 & 58 & 46 & 57 & 43 & 62 & 57\\\\\n",
       "\t Grade 2 &  8 & 12 &  6 & 16 & 15 & 19\\\\\n",
       "\t Grade 1 &  6 & 10 &  4 &  4 &  4 &  1\\\\\n",
       "\\end{tabular}\n"
      ],
      "text/markdown": [
       "\n",
       "A tibble: 5 x 7\n",
       "\n",
       "| grade &lt;fct&gt; | Computer Networks &lt;int&gt; | Data Bases &lt;int&gt; | Formal Languages &lt;int&gt; | Mathematics &lt;int&gt; | OOP &lt;int&gt; | Software Engineering &lt;int&gt; |\n",
       "|---|---|---|---|---|---|---|\n",
       "| Grade 5 | 61 | 53 | 48 | 50 | 46 | 37 |\n",
       "| Grade 4 | 53 | 69 | 75 | 72 | 69 | 76 |\n",
       "| Grade 3 | 58 | 46 | 57 | 43 | 62 | 57 |\n",
       "| Grade 2 |  8 | 12 |  6 | 16 | 15 | 19 |\n",
       "| Grade 1 |  6 | 10 |  4 |  4 |  4 |  1 |\n",
       "\n"
      ],
      "text/plain": [
       "  grade   Computer Networks Data Bases Formal Languages Mathematics OOP\n",
       "1 Grade 5 61                53         48               50          46 \n",
       "2 Grade 4 53                69         75               72          69 \n",
       "3 Grade 3 58                46         57               43          62 \n",
       "4 Grade 2  8                12          6               16          15 \n",
       "5 Grade 1  6                10          4                4           4 \n",
       "  Software Engineering\n",
       "1 37                  \n",
       "2 76                  \n",
       "3 57                  \n",
       "4 19                  \n",
       "5  1                  "
      ]
     },
     "metadata": {},
     "output_type": "display_data"
    }
   ],
   "source": [
    "#f) For each subject, determine the absolute frequencies of the grades\n",
    "# and store the result in a tibble with the variables grade, Computer\n",
    "# Networks`, `Data Bases`, `Formal Languages`, Mathematics, OOP and  `Software Engineering`. \n",
    "\n",
    "exam_data %>%\n",
    "  count(exam_subject, grade) %>%\n",
    "  spread(key = exam_subject, value = n)"
   ]
  },
  {
   "cell_type": "code",
   "execution_count": 18,
   "metadata": {
    "vscode": {
     "languageId": "r"
    }
   },
   "outputs": [
    {
     "data": {
      "text/html": [
       "<table class=\"dataframe\">\n",
       "<caption>A tibble: 6 x 9</caption>\n",
       "<thead>\n",
       "\t<tr><th scope=col>exam_subject</th><th scope=col>min_score</th><th scope=col>max_score</th><th scope=col>q1</th><th scope=col>median_score</th><th scope=col>q3</th><th scope=col>mean_score</th><th scope=col>participants</th><th scope=col>dropout_rate</th></tr>\n",
       "\t<tr><th scope=col>&lt;chr&gt;</th><th scope=col>&lt;int&gt;</th><th scope=col>&lt;int&gt;</th><th scope=col>&lt;dbl&gt;</th><th scope=col>&lt;dbl&gt;</th><th scope=col>&lt;dbl&gt;</th><th scope=col>&lt;dbl&gt;</th><th scope=col>&lt;int&gt;</th><th scope=col>&lt;dbl&gt;</th></tr>\n",
       "</thead>\n",
       "<tbody>\n",
       "\t<tr><td>Computer Networks   </td><td>29</td><td>108</td><td>48.00</td><td>60.0</td><td>70.75</td><td>59.41398</td><td>186</td><td>0</td></tr>\n",
       "\t<tr><td>Data Bases          </td><td> 9</td><td> 95</td><td>49.00</td><td>59.5</td><td>71.00</td><td>60.31579</td><td>190</td><td>0</td></tr>\n",
       "\t<tr><td>Formal Languages    </td><td>18</td><td> 97</td><td>49.25</td><td>59.0</td><td>68.00</td><td>58.90000</td><td>190</td><td>0</td></tr>\n",
       "\t<tr><td>Mathematics         </td><td>19</td><td>102</td><td>49.00</td><td>57.0</td><td>70.00</td><td>58.61622</td><td>185</td><td>0</td></tr>\n",
       "\t<tr><td>OOP                 </td><td>22</td><td>102</td><td>50.00</td><td>61.0</td><td>69.00</td><td>60.34694</td><td>196</td><td>0</td></tr>\n",
       "\t<tr><td>Software Engineering</td><td>24</td><td> 94</td><td>52.00</td><td>60.0</td><td>71.75</td><td>61.15263</td><td>190</td><td>0</td></tr>\n",
       "</tbody>\n",
       "</table>\n"
      ],
      "text/latex": [
       "A tibble: 6 x 9\n",
       "\\begin{tabular}{lllllllll}\n",
       " exam\\_subject & min\\_score & max\\_score & q1 & median\\_score & q3 & mean\\_score & participants & dropout\\_rate\\\\\n",
       " <chr> & <int> & <int> & <dbl> & <dbl> & <dbl> & <dbl> & <int> & <dbl>\\\\\n",
       "\\hline\n",
       "\t Computer Networks    & 29 & 108 & 48.00 & 60.0 & 70.75 & 59.41398 & 186 & 0\\\\\n",
       "\t Data Bases           &  9 &  95 & 49.00 & 59.5 & 71.00 & 60.31579 & 190 & 0\\\\\n",
       "\t Formal Languages     & 18 &  97 & 49.25 & 59.0 & 68.00 & 58.90000 & 190 & 0\\\\\n",
       "\t Mathematics          & 19 & 102 & 49.00 & 57.0 & 70.00 & 58.61622 & 185 & 0\\\\\n",
       "\t OOP                  & 22 & 102 & 50.00 & 61.0 & 69.00 & 60.34694 & 196 & 0\\\\\n",
       "\t Software Engineering & 24 &  94 & 52.00 & 60.0 & 71.75 & 61.15263 & 190 & 0\\\\\n",
       "\\end{tabular}\n"
      ],
      "text/markdown": [
       "\n",
       "A tibble: 6 x 9\n",
       "\n",
       "| exam_subject &lt;chr&gt; | min_score &lt;int&gt; | max_score &lt;int&gt; | q1 &lt;dbl&gt; | median_score &lt;dbl&gt; | q3 &lt;dbl&gt; | mean_score &lt;dbl&gt; | participants &lt;int&gt; | dropout_rate &lt;dbl&gt; |\n",
       "|---|---|---|---|---|---|---|---|---|\n",
       "| Computer Networks    | 29 | 108 | 48.00 | 60.0 | 70.75 | 59.41398 | 186 | 0 |\n",
       "| Data Bases           |  9 |  95 | 49.00 | 59.5 | 71.00 | 60.31579 | 190 | 0 |\n",
       "| Formal Languages     | 18 |  97 | 49.25 | 59.0 | 68.00 | 58.90000 | 190 | 0 |\n",
       "| Mathematics          | 19 | 102 | 49.00 | 57.0 | 70.00 | 58.61622 | 185 | 0 |\n",
       "| OOP                  | 22 | 102 | 50.00 | 61.0 | 69.00 | 60.34694 | 196 | 0 |\n",
       "| Software Engineering | 24 |  94 | 52.00 | 60.0 | 71.75 | 61.15263 | 190 | 0 |\n",
       "\n"
      ],
      "text/plain": [
       "  exam_subject         min_score max_score q1    median_score q3    mean_score\n",
       "1 Computer Networks    29        108       48.00 60.0         70.75 59.41398  \n",
       "2 Data Bases            9         95       49.00 59.5         71.00 60.31579  \n",
       "3 Formal Languages     18         97       49.25 59.0         68.00 58.90000  \n",
       "4 Mathematics          19        102       49.00 57.0         70.00 58.61622  \n",
       "5 OOP                  22        102       50.00 61.0         69.00 60.34694  \n",
       "6 Software Engineering 24         94       52.00 60.0         71.75 61.15263  \n",
       "  participants dropout_rate\n",
       "1 186          0           \n",
       "2 190          0           \n",
       "3 190          0           \n",
       "4 185          0           \n",
       "5 196          0           \n",
       "6 190          0           "
      ]
     },
     "metadata": {},
     "output_type": "display_data"
    }
   ],
   "source": [
    "#(f) For each subject, determine statistics and dropout rates\n",
    "subject_stats <- exam_data %>%\n",
    "  group_by(exam_subject) %>%\n",
    "  summarise(min_score = min(score),\n",
    "            max_score = max(score),\n",
    "            q1 = quantile(score, 0.25),\n",
    "            median_score = median(score),\n",
    "            q3 = quantile(score, 0.75),\n",
    "            mean_score = mean(score),\n",
    "            participants = n_distinct(matriculation_number),\n",
    "            dropout_rate = sum(is.na(score))/n())\n",
    "\n",
    "subject_stats"
   ]
  },
  {
   "cell_type": "code",
   "execution_count": 19,
   "metadata": {
    "vscode": {
     "languageId": "r"
    }
   },
   "outputs": [
    {
     "data": {
      "text/html": [
       "<style>\n",
       ".list-inline {list-style: none; margin:0; padding: 0}\n",
       ".list-inline>li {display: inline-block}\n",
       ".list-inline>li:not(:last-child)::after {content: \"\\00b7\"; padding: 0 .5ex}\n",
       "</style>\n",
       "<ol class=list-inline><li>'X'</li><li>'matriculation_number'</li><li>'exam_subject'</li><li>'attempt'</li><li>'score'</li><li>'grade'</li></ol>\n"
      ],
      "text/latex": [
       "\\begin{enumerate*}\n",
       "\\item 'X'\n",
       "\\item 'matriculation\\_number'\n",
       "\\item 'exam\\_subject'\n",
       "\\item 'attempt'\n",
       "\\item 'score'\n",
       "\\item 'grade'\n",
       "\\end{enumerate*}\n"
      ],
      "text/markdown": [
       "1. 'X'\n",
       "2. 'matriculation_number'\n",
       "3. 'exam_subject'\n",
       "4. 'attempt'\n",
       "5. 'score'\n",
       "6. 'grade'\n",
       "\n",
       "\n"
      ],
      "text/plain": [
       "[1] \"X\"                    \"matriculation_number\" \"exam_subject\"        \n",
       "[4] \"attempt\"              \"score\"                \"grade\"               "
      ]
     },
     "metadata": {},
     "output_type": "display_data"
    }
   ],
   "source": [
    "names(exam_data)"
   ]
  },
  {
   "cell_type": "code",
   "execution_count": 20,
   "metadata": {
    "vscode": {
     "languageId": "r"
    }
   },
   "outputs": [
    {
     "data": {
      "image/png": "[encoded data removed]",
      "text/plain": [
       "plot without title"
      ]
     },
     "metadata": {
      "image/png": {
       "height": 420,
       "width": 420
      }
     },
     "output_type": "display_data"
    }
   ],
   "source": [
    "# (h) Create side by side boxplots of the score for each subject\n",
    "\n",
    "ggplot(exam_data, aes(x = exam_subject, y = score)) +\n",
    "  geom_boxplot() +\n",
    "  labs(title = \"Boxplots of Scores by Subject\",\n",
    "       x = \"Subject\",\n",
    "       y = \"Score\")"
   ]
  },
  {
   "cell_type": "code",
   "execution_count": 21,
   "metadata": {
    "vscode": {
     "languageId": "r"
    }
   },
   "outputs": [
    {
     "name": "stderr",
     "output_type": "stream",
     "text": [
      "Warning message in chisq.test(cont_table):\n",
      "\"Chi-Quadrat-Approximation kann inkorrekt sein\"\n"
     ]
    }
   ],
   "source": [
    "# (i) Determine contingency table and chi-square value\n",
    "cont_table <- table(exam_data$attempt, exam_data$grade)\n",
    "chisq <- chisq.test(cont_table)"
   ]
  },
  {
   "cell_type": "code",
   "execution_count": 22,
   "metadata": {
    "vscode": {
     "languageId": "r"
    }
   },
   "outputs": [
    {
     "name": "stderr",
     "output_type": "stream",
     "text": [
      "Warning message in chisq.test(exam_data$attempt, exam_data$grade):\n",
      "\"Chi-Quadrat-Approximation kann inkorrekt sein\"\n"
     ]
    },
    {
     "data": {
      "text/html": [
       "<table class=\"dataframe\">\n",
       "<caption>A table: 4 x 6 of type dbl</caption>\n",
       "<thead>\n",
       "\t<tr><th></th><th scope=col>Grade 5</th><th scope=col>Grade 4</th><th scope=col>Grade 3</th><th scope=col>Grade 2</th><th scope=col>Grade 1</th><th scope=col>Sum</th></tr>\n",
       "</thead>\n",
       "<tbody>\n",
       "\t<tr><th scope=row>1</th><td>184</td><td>226</td><td>206</td><td>49</td><td>14</td><td> 679</td></tr>\n",
       "\t<tr><th scope=row>2</th><td> 84</td><td>142</td><td> 84</td><td>21</td><td>14</td><td> 345</td></tr>\n",
       "\t<tr><th scope=row>3</th><td> 27</td><td> 46</td><td> 33</td><td> 6</td><td> 1</td><td> 113</td></tr>\n",
       "\t<tr><th scope=row>Sum</th><td>295</td><td>414</td><td>323</td><td>76</td><td>29</td><td>1137</td></tr>\n",
       "</tbody>\n",
       "</table>\n"
      ],
      "text/latex": [
       "A table: 4 x 6 of type dbl\n",
       "\\begin{tabular}{r|llllll}\n",
       "  & Grade 5 & Grade 4 & Grade 3 & Grade 2 & Grade 1 & Sum\\\\\n",
       "\\hline\n",
       "\t1 & 184 & 226 & 206 & 49 & 14 &  679\\\\\n",
       "\t2 &  84 & 142 &  84 & 21 & 14 &  345\\\\\n",
       "\t3 &  27 &  46 &  33 &  6 &  1 &  113\\\\\n",
       "\tSum & 295 & 414 & 323 & 76 & 29 & 1137\\\\\n",
       "\\end{tabular}\n"
      ],
      "text/markdown": [
       "\n",
       "A table: 4 x 6 of type dbl\n",
       "\n",
       "| <!--/--> | Grade 5 | Grade 4 | Grade 3 | Grade 2 | Grade 1 | Sum |\n",
       "|---|---|---|---|---|---|---|\n",
       "| 1 | 184 | 226 | 206 | 49 | 14 |  679 |\n",
       "| 2 |  84 | 142 |  84 | 21 | 14 |  345 |\n",
       "| 3 |  27 |  46 |  33 |  6 |  1 |  113 |\n",
       "| Sum | 295 | 414 | 323 | 76 | 29 | 1137 |\n",
       "\n"
      ],
      "text/plain": [
       "                 exam_data$grade\n",
       "exam_data$attempt Grade 5 Grade 4 Grade 3 Grade 2 Grade 1 Sum \n",
       "              1   184     226     206     49      14       679\n",
       "              2    84     142      84     21      14       345\n",
       "              3    27      46      33      6       1       113\n",
       "              Sum 295     414     323     76      29      1137"
      ]
     },
     "metadata": {},
     "output_type": "display_data"
    }
   ],
   "source": [
    "chisq.test(exam_data$attempt, exam_data$grade)$observed %>% addmargins()"
   ]
  },
  {
   "cell_type": "code",
   "execution_count": 23,
   "metadata": {
    "vscode": {
     "languageId": "r"
    }
   },
   "outputs": [
    {
     "name": "stderr",
     "output_type": "stream",
     "text": [
      "Warning message in chisq.test(exam_data$attempt, exam_data$grade):\n",
      "\"Chi-Quadrat-Approximation kann inkorrekt sein\"\n"
     ]
    },
    {
     "data": {
      "text/html": [
       "<table class=\"dataframe\">\n",
       "<caption>A matrix: 4 x 6 of type dbl</caption>\n",
       "<thead>\n",
       "\t<tr><th></th><th scope=col>Grade 5</th><th scope=col>Grade 4</th><th scope=col>Grade 3</th><th scope=col>Grade 2</th><th scope=col>Grade 1</th><th scope=col>Sum</th></tr>\n",
       "</thead>\n",
       "<tbody>\n",
       "\t<tr><th scope=row>1</th><td>176.16974</td><td>247.23483</td><td>192.89094</td><td>45.38610</td><td>17.318382</td><td> 679</td></tr>\n",
       "\t<tr><th scope=row>2</th><td> 89.51187</td><td>125.62005</td><td> 98.00792</td><td>23.06069</td><td> 8.799472</td><td> 345</td></tr>\n",
       "\t<tr><th scope=row>3</th><td> 29.31838</td><td> 41.14512</td><td> 32.10114</td><td> 7.55321</td><td> 2.882146</td><td> 113</td></tr>\n",
       "\t<tr><th scope=row>Sum</th><td>295.00000</td><td>414.00000</td><td>323.00000</td><td>76.00000</td><td>29.000000</td><td>1137</td></tr>\n",
       "</tbody>\n",
       "</table>\n"
      ],
      "text/latex": [
       "A matrix: 4 x 6 of type dbl\n",
       "\\begin{tabular}{r|llllll}\n",
       "  & Grade 5 & Grade 4 & Grade 3 & Grade 2 & Grade 1 & Sum\\\\\n",
       "\\hline\n",
       "\t1 & 176.16974 & 247.23483 & 192.89094 & 45.38610 & 17.318382 &  679\\\\\n",
       "\t2 &  89.51187 & 125.62005 &  98.00792 & 23.06069 &  8.799472 &  345\\\\\n",
       "\t3 &  29.31838 &  41.14512 &  32.10114 &  7.55321 &  2.882146 &  113\\\\\n",
       "\tSum & 295.00000 & 414.00000 & 323.00000 & 76.00000 & 29.000000 & 1137\\\\\n",
       "\\end{tabular}\n"
      ],
      "text/markdown": [
       "\n",
       "A matrix: 4 x 6 of type dbl\n",
       "\n",
       "| <!--/--> | Grade 5 | Grade 4 | Grade 3 | Grade 2 | Grade 1 | Sum |\n",
       "|---|---|---|---|---|---|---|\n",
       "| 1 | 176.16974 | 247.23483 | 192.89094 | 45.38610 | 17.318382 |  679 |\n",
       "| 2 |  89.51187 | 125.62005 |  98.00792 | 23.06069 |  8.799472 |  345 |\n",
       "| 3 |  29.31838 |  41.14512 |  32.10114 |  7.55321 |  2.882146 |  113 |\n",
       "| Sum | 295.00000 | 414.00000 | 323.00000 | 76.00000 | 29.000000 | 1137 |\n",
       "\n"
      ],
      "text/plain": [
       "                 exam_data$grade\n",
       "exam_data$attempt Grade 5   Grade 4   Grade 3   Grade 2  Grade 1   Sum \n",
       "              1   176.16974 247.23483 192.89094 45.38610 17.318382  679\n",
       "              2    89.51187 125.62005  98.00792 23.06069  8.799472  345\n",
       "              3    29.31838  41.14512  32.10114  7.55321  2.882146  113\n",
       "              Sum 295.00000 414.00000 323.00000 76.00000 29.000000 1137"
      ]
     },
     "metadata": {},
     "output_type": "display_data"
    }
   ],
   "source": [
    "chisq.test(exam_data$attempt, exam_data$grade)$expected %>% addmargins()"
   ]
  },
  {
   "cell_type": "code",
   "execution_count": 24,
   "metadata": {
    "vscode": {
     "languageId": "r"
    }
   },
   "outputs": [
    {
     "name": "stderr",
     "output_type": "stream",
     "text": [
      "Warning message in chisq.test(exam_data$attempt, exam_data$grade):\n",
      "\"Chi-Quadrat-Approximation kann inkorrekt sein\"\n"
     ]
    },
    {
     "data": {
      "text/html": [
       "<strong>X-squared:</strong> 14.0512358182684"
      ],
      "text/latex": [
       "\\textbf{X-squared:} 14.0512358182684"
      ],
      "text/markdown": [
       "**X-squared:** 14.0512358182684"
      ],
      "text/plain": [
       "X-squared \n",
       " 14.05124 "
      ]
     },
     "metadata": {},
     "output_type": "display_data"
    }
   ],
   "source": [
    "chisq.test(exam_data$attempt, exam_data$grade)$statistic"
   ]
  },
  {
   "cell_type": "code",
   "execution_count": 25,
   "metadata": {
    "vscode": {
     "languageId": "r"
    }
   },
   "outputs": [
    {
     "name": "stdout",
     "output_type": "stream",
     "text": [
      "Density of X: 0.2938384 0.3543184 0.2223674 0.09823347 0.02774335 0.003499067 \n",
      "Expected value of X: 1.222222 \n",
      "Variance of X: 1.165432 \n",
      "Probability that the coin showed head given 3 sixes: 0.7818109 \n"
     ]
    }
   ],
   "source": [
    "# (a) Determine the density of the random variable X which counts the number of sixes.\n",
    "\n",
    "# Define probabilities\n",
    "p_head <- 1/3  # Probability of getting head\n",
    "p_six_biased <- 0.4  # Probability of getting six on the biased die\n",
    "p_six_fair <- 1/6  # Probability of getting six on the fair die\n",
    "\n",
    "# Probability mass function for X (number of sixes)\n",
    "pmf_X <- function(x) {\n",
    "  # Probability of getting x sixes\n",
    "  # If coin shows head, roll biased die; otherwise, roll fair die\n",
    "  p_x_given_head <- dbinom(x, size = 5, prob = p_six_biased)\n",
    "  p_x_given_tail <- dbinom(x, size = 5, prob = p_six_fair)\n",
    "  p_x <- p_head * p_x_given_head + (1 - p_head) * p_x_given_tail\n",
    "  return(p_x)\n",
    "}\n",
    "\n",
    "# (b) Evaluate the expected value and the variance of the random variable X.\n",
    "\n",
    "# Expected value of X\n",
    "mean_X <- sum(0:5 * pmf_X(0:5))\n",
    "\n",
    "# Variance of X\n",
    "var_X <- sum((0:5 - mean_X)^2 * pmf_X(0:5))\n",
    "\n",
    "# (c) What is the probability that the coin had shown a head if 3 sixes has been in the 5 rolls?\n",
    "\n",
    "# Using Bayes' theorem: P(head | 3 sixes) = P(3 sixes | head) * P(head) / P(3 sixes)\n",
    "p_3_sixes_given_head <- dbinom(3, size = 5, prob = p_six_biased)\n",
    "p_3_sixes_given_tail <- dbinom(3, size = 5, prob = p_six_fair)\n",
    "p_3_sixes <- p_head * p_3_sixes_given_head + (1 - p_head) * p_3_sixes_given_tail\n",
    "p_head_given_3_sixes <- (p_3_sixes_given_head * p_head) / p_3_sixes\n",
    "\n",
    "# Output results\n",
    "cat(\"Density of X:\", pmf_X(0:5), \"\\n\")\n",
    "cat(\"Expected value of X:\", mean_X, \"\\n\")\n",
    "cat(\"Variance of X:\", var_X, \"\\n\")\n",
    "cat(\"Probability that the coin showed head given 3 sixes:\", p_head_given_3_sixes, \"\\n\")"
   ]
  },
  {
   "cell_type": "code",
   "execution_count": 26,
   "metadata": {
    "vscode": {
     "languageId": "r"
    }
   },
   "outputs": [],
   "source": [
    "# Aufgabe 2\n",
    "# Biased coin (head with probability 1/3) is tossed.\n",
    "# If the coin shows tail, a fair die is rolled 5 times.\n",
    "# If the coin shows head, a biased die\n",
    "# (6 with probability 0.4 and the other sides of the\n",
    "# die each have the same probability) is rolled 5 times.\n",
    "# The number of sixes are counted."
   ]
  },
  {
   "cell_type": "code",
   "execution_count": 27,
   "metadata": {
    "vscode": {
     "languageId": "r"
    }
   },
   "outputs": [
    {
     "data": {
      "text/html": [
       "<table class=\"dataframe\">\n",
       "<caption>A tibble: 6 x 4</caption>\n",
       "<thead>\n",
       "\t<tr><th scope=col>no</th><th scope=col>dens.head</th><th scope=col>dens.tail</th><th scope=col>dens</th></tr>\n",
       "\t<tr><th scope=col>&lt;int&gt;</th><th scope=col>&lt;dbl&gt;</th><th scope=col>&lt;dbl&gt;</th><th scope=col>&lt;dbl&gt;</th></tr>\n",
       "</thead>\n",
       "<tbody>\n",
       "\t<tr><td>0</td><td>0.07776</td><td>0.4018775720</td><td>0.293838381</td></tr>\n",
       "\t<tr><td>1</td><td>0.25920</td><td>0.4018775720</td><td>0.354318381</td></tr>\n",
       "\t<tr><td>2</td><td>0.34560</td><td>0.1607510288</td><td>0.222367353</td></tr>\n",
       "\t<tr><td>3</td><td>0.23040</td><td>0.0321502058</td><td>0.098233471</td></tr>\n",
       "\t<tr><td>4</td><td>0.07680</td><td>0.0032150206</td><td>0.027743347</td></tr>\n",
       "\t<tr><td>5</td><td>0.01024</td><td>0.0001286008</td><td>0.003499067</td></tr>\n",
       "</tbody>\n",
       "</table>\n"
      ],
      "text/latex": [
       "A tibble: 6 x 4\n",
       "\\begin{tabular}{llll}\n",
       " no & dens.head & dens.tail & dens\\\\\n",
       " <int> & <dbl> & <dbl> & <dbl>\\\\\n",
       "\\hline\n",
       "\t 0 & 0.07776 & 0.4018775720 & 0.293838381\\\\\n",
       "\t 1 & 0.25920 & 0.4018775720 & 0.354318381\\\\\n",
       "\t 2 & 0.34560 & 0.1607510288 & 0.222367353\\\\\n",
       "\t 3 & 0.23040 & 0.0321502058 & 0.098233471\\\\\n",
       "\t 4 & 0.07680 & 0.0032150206 & 0.027743347\\\\\n",
       "\t 5 & 0.01024 & 0.0001286008 & 0.003499067\\\\\n",
       "\\end{tabular}\n"
      ],
      "text/markdown": [
       "\n",
       "A tibble: 6 x 4\n",
       "\n",
       "| no &lt;int&gt; | dens.head &lt;dbl&gt; | dens.tail &lt;dbl&gt; | dens &lt;dbl&gt; |\n",
       "|---|---|---|---|\n",
       "| 0 | 0.07776 | 0.4018775720 | 0.293838381 |\n",
       "| 1 | 0.25920 | 0.4018775720 | 0.354318381 |\n",
       "| 2 | 0.34560 | 0.1607510288 | 0.222367353 |\n",
       "| 3 | 0.23040 | 0.0321502058 | 0.098233471 |\n",
       "| 4 | 0.07680 | 0.0032150206 | 0.027743347 |\n",
       "| 5 | 0.01024 | 0.0001286008 | 0.003499067 |\n",
       "\n"
      ],
      "text/plain": [
       "  no dens.head dens.tail    dens       \n",
       "1 0  0.07776   0.4018775720 0.293838381\n",
       "2 1  0.25920   0.4018775720 0.354318381\n",
       "3 2  0.34560   0.1607510288 0.222367353\n",
       "4 3  0.23040   0.0321502058 0.098233471\n",
       "5 4  0.07680   0.0032150206 0.027743347\n",
       "6 5  0.01024   0.0001286008 0.003499067"
      ]
     },
     "metadata": {},
     "output_type": "display_data"
    }
   ],
   "source": [
    "# a)\n",
    "# Determine the density of the random X which counts the number of sixes.\n",
    "# In case of head X ~ B(n=5, p=0.4) and in case of a tail X~B(n=5, p=1/6).\n",
    "# Weg et P( X=i ) = P( X=i | head) / 3 + P(X=i | tail) * 2/3\n",
    "\n",
    "random.exp <- tibble(\n",
    "    no = 0:5,\n",
    "    dens.head = dbinom(no, size = 5, prob = 0.4),\n",
    "    dens.tail = dbinom(no, size = 5, prob = 1/6),\n",
    "    dens = dens.head/3 + 2*dens.tail/3)\n",
    "\n",
    "random.exp"
   ]
  },
  {
   "cell_type": "code",
   "execution_count": 28,
   "metadata": {
    "vscode": {
     "languageId": "r"
    }
   },
   "outputs": [
    {
     "data": {
      "text/html": [
       "1.22222222222222"
      ],
      "text/latex": [
       "1.22222222222222"
      ],
      "text/markdown": [
       "1.22222222222222"
      ],
      "text/plain": [
       "[1] 1.222222"
      ]
     },
     "metadata": {},
     "output_type": "display_data"
    },
    {
     "data": {
      "text/html": [
       "1.16543209876543"
      ],
      "text/latex": [
       "1.16543209876543"
      ],
      "text/markdown": [
       "1.16543209876543"
      ],
      "text/plain": [
       "[1] 1.165432"
      ]
     },
     "metadata": {},
     "output_type": "display_data"
    }
   ],
   "source": [
    "#b)\n",
    "# Evaluate the expected value and the variance of the random variable X.\n",
    "\n",
    "EX <- sum(random.exp$no * random.exp$dens)\n",
    "EX2 <- sum(random.exp$no^2 * random.exp$dens)\n",
    "VarX <- EX2 - EX^2\n",
    "EX\n",
    "VarX"
   ]
  },
  {
   "cell_type": "code",
   "execution_count": 29,
   "metadata": {
    "vscode": {
     "languageId": "r"
    }
   },
   "outputs": [
    {
     "data": {
      "text/html": [
       "0.781810920485616"
      ],
      "text/latex": [
       "0.781810920485616"
      ],
      "text/markdown": [
       "0.781810920485616"
      ],
      "text/plain": [
       "[1] 0.7818109"
      ]
     },
     "metadata": {},
     "output_type": "display_data"
    }
   ],
   "source": [
    "# c)\n",
    "# P( head | X=3 ) =\n",
    "# P( head and X=3 ) / P(X=3) =\n",
    "# P( X=3 | head) * P(head) / P( X=3 ) =\n",
    "# dbinom(3,size=5,prob=0.4) * (1/3) / 0.0982 =\n",
    "# 0.782\n",
    "\n",
    "p_3_sixes_given_head <- dbinom(3, size = 5, prob = p_six_biased)\n",
    "p_3_sixes_given_tail <- dbinom(3, size = 5, prob = p_six_fair)\n",
    "p_3_sixes <- p_head * p_3_sixes_given_head + (1 - p_head) * p_3_sixes_given_tail\n",
    "p_head_given_3_sixes <- (p_3_sixes_given_head * p_head) / p_3_sixes\n",
    "p_head_given_3_sixes"
   ]
  },
  {
   "cell_type": "code",
   "execution_count": 30,
   "metadata": {
    "vscode": {
     "languageId": "r"
    }
   },
   "outputs": [],
   "source": [
    "# Aufgabe 3\n",
    "\n",
    "# The weight of bags of grain can be assumed to be a random variable\n",
    "# with expected value 50 kg and standard deviation 2 kg. The price for\n",
    "# one kilogram grain, which a farmer achieves, is 0.53 Euro per kg. 300\n",
    "# bags of grain fit into a truck. Let X be the price a farmer can obtain\n",
    "# for a fully loaded truck. You can assume that the weights of bags are\n",
    "# independent and identically distributed random variables."
   ]
  },
  {
   "cell_type": "code",
   "execution_count": 31,
   "metadata": {
    "vscode": {
     "languageId": "r"
    }
   },
   "outputs": [
    {
     "data": {
      "text/html": [
       "18.3597385602301"
      ],
      "text/latex": [
       "18.3597385602301"
      ],
      "text/markdown": [
       "18.3597385602301"
      ],
      "text/plain": [
       "[1] 18.35974"
      ]
     },
     "metadata": {},
     "output_type": "display_data"
    }
   ],
   "source": [
    "# (a) Determine an approximate distribution of the random variable X.\n",
    "\n",
    "# Given parameters\n",
    "mu <- 50  # Expected value of weight of bags (kg)\n",
    "sigma <- 2  # Standard deviation of weight of bags (kg)\n",
    "price_per_kg <- 0.53  # Price per kilogram (Euro)\n",
    "num_bags_in_truck <- 300  # Number of bags in a truck\n",
    "\n",
    "# Calculate the total weight of grain in a fully loaded truck\n",
    "total_weight_truck <- num_bags_in_truck * mu\n",
    "\n",
    "# Calculate the expected value and standard deviation of the total price\n",
    "mu_x <- total_weight_truck * price_per_kg\n",
    "sigma_x <- sqrt(num_bags_in_truck) * sigma * price_per_kg\n",
    "\n",
    "# Solution-Proposal:\n",
    "# Applying the central limit theorem we get X approximately\n",
    "# N(mu = 0.53*300*50, sigma^2 = 300*0.53^2*2^2)\n",
    "\n",
    "sigma_x"
   ]
  },
  {
   "cell_type": "code",
   "execution_count": 32,
   "metadata": {
    "vscode": {
     "languageId": "r"
    }
   },
   "outputs": [
    {
     "name": "stdout",
     "output_type": "stream",
     "text": [
      "Approximate distribution of X: Normal( 7950 , 18.35974 )\n"
     ]
    }
   ],
   "source": [
    "# Given parameters\n",
    "mu <- 0.53 * 300 * 50  # Expected value of X\n",
    "sigma_squared <- 300 * 0.53^2 * 2^2  # Variance of X\n",
    "\n",
    "# Calculate standard deviation of X\n",
    "sigma <- sqrt(sigma_squared)\n",
    "\n",
    "# Standard Normal Distribution\n",
    "# Output results\n",
    "cat(\"Approximate distribution of X: Normal(\", mu, \",\", sigma, \")\\n\")\n"
   ]
  },
  {
   "cell_type": "code",
   "execution_count": 33,
   "metadata": {
    "vscode": {
     "languageId": "r"
    }
   },
   "outputs": [],
   "source": [
    "# (b) Find the probability that X is bigger than 8000 Euro.\n",
    "\n",
    "# Using normal approximation since X is approximately normally distributed\n",
    "p_X_gt_8000 <- 1 - pnorm(8000, mean = mu_x, sd = sigma_x)"
   ]
  },
  {
   "cell_type": "code",
   "execution_count": 34,
   "metadata": {
    "vscode": {
     "languageId": "r"
    }
   },
   "outputs": [],
   "source": [
    "# (c)\n",
    "# What are the lower and upper bounds of the interval containing\n",
    "# the middle 80% of X?\n",
    "\n",
    "# Using normal approximation\n",
    "lower_bound <- qnorm(0.1, mean = mu_x, sd = sigma_x)\n",
    "upper_bound <- qnorm(0.9, mean = mu_x, sd = sigma_x)"
   ]
  },
  {
   "cell_type": "code",
   "execution_count": 35,
   "metadata": {
    "vscode": {
     "languageId": "r"
    }
   },
   "outputs": [
    {
     "name": "stdout",
     "output_type": "stream",
     "text": [
      "Approximate distribution of X: Normal( 7950 , 18.35974 )\n",
      "Probability that X is bigger than 8000 Euro: 0.003231175 \n",
      "Lower bound of the middle 80% interval: 7926.471 \n",
      "Upper bound of the middle 80% interval: 7973.529 \n",
      "Minimum number of bags to earn at least 20000 Euro with 95% probability: 272 \n"
     ]
    }
   ],
   "source": [
    "# (d)\n",
    "# What is the minimum number of bags a farmer must\n",
    "# sell to earn at least 20000 euros with a probability of 95%?\n",
    "\n",
    "# Using normal approximation\n",
    "min_bags_for_20000 <- ceiling((qnorm(0.05, mean = mu_x, sd = sigma_x) - mu_x) / (sigma_x / sqrt(num_bags_in_truck))) + num_bags_in_truck\n",
    "\n",
    "# Output results\n",
    "cat(\"Approximate distribution of X: Normal(\", mu_x, \",\", sigma_x, \")\\n\")\n",
    "cat(\"Probability that X is bigger than 8000 Euro:\", p_X_gt_8000, \"\\n\")\n",
    "cat(\"Lower bound of the middle 80% interval:\", lower_bound, \"\\n\")\n",
    "cat(\"Upper bound of the middle 80% interval:\", upper_bound, \"\\n\")\n",
    "cat(\n",
    "    \"Minimum number of bags to earn at least 20000 Euro with 95% probability:\",\n",
    "    min_bags_for_20000,\n",
    "    \"\\n\")"
   ]
  },
  {
   "cell_type": "code",
   "execution_count": 36,
   "metadata": {
    "vscode": {
     "languageId": "r"
    }
   },
   "outputs": [
    {
     "name": "stdout",
     "output_type": "stream",
     "text": [
      "Approximate distribution of X: N( 7950 , 18.35974 ^2)\n"
     ]
    }
   ],
   "source": [
    "# Given parameters\n",
    "mu <- 50  # Expected value of weight of bags (kg)\n",
    "sigma <- 2  # Standard deviation of weight of bags (kg)\n",
    "price_per_kg <- 0.53  # Price per kilogram (Euro)\n",
    "num_bags_in_truck <- 300  # Number of bags in a truck\n",
    "\n",
    "# Calculate the total weight of grain in a fully loaded truck\n",
    "total_weight_truck <- num_bags_in_truck * mu\n",
    "\n",
    "# Calculate the expected value and variance of the total price\n",
    "mu_x <- total_weight_truck * price_per_kg\n",
    "sigma_x_squared <- num_bags_in_truck * price_per_kg^2 * sigma^2\n",
    "\n",
    "# Output the approximate distribution of X\n",
    "cat(\"Approximate distribution of X: N(\", mu_x, \",\", sqrt(sigma_x_squared), \"^2)\\n\")\n"
   ]
  },
  {
   "cell_type": "code",
   "execution_count": 37,
   "metadata": {
    "vscode": {
     "languageId": "r"
    }
   },
   "outputs": [
    {
     "data": {
      "text/html": [
       "7950"
      ],
      "text/latex": [
       "7950"
      ],
      "text/markdown": [
       "7950"
      ],
      "text/plain": [
       "[1] 7950"
      ]
     },
     "metadata": {},
     "output_type": "display_data"
    }
   ],
   "source": [
    "0.53 * 300 * 50"
   ]
  },
  {
   "cell_type": "code",
   "execution_count": 38,
   "metadata": {
    "vscode": {
     "languageId": "r"
    }
   },
   "outputs": [
    {
     "data": {
      "text/html": [
       "337.08"
      ],
      "text/latex": [
       "337.08"
      ],
      "text/markdown": [
       "337.08"
      ],
      "text/plain": [
       "[1] 337.08"
      ]
     },
     "metadata": {},
     "output_type": "display_data"
    }
   ],
   "source": [
    "300 * 0.53^2 * 2^2"
   ]
  },
  {
   "cell_type": "code",
   "execution_count": 39,
   "metadata": {
    "vscode": {
     "languageId": "r"
    }
   },
   "outputs": [
    {
     "data": {
      "text/html": [
       "337.0800528676"
      ],
      "text/latex": [
       "337.0800528676"
      ],
      "text/markdown": [
       "337.0800528676"
      ],
      "text/plain": [
       "[1] 337.0801"
      ]
     },
     "metadata": {},
     "output_type": "display_data"
    }
   ],
   "source": [
    "18.35974 ^2"
   ]
  },
  {
   "cell_type": "code",
   "execution_count": 40,
   "metadata": {
    "vscode": {
     "languageId": "r"
    }
   },
   "outputs": [],
   "source": [
    "# Aufgabe 4\n",
    "# Exercise Description:\n",
    "# In a representative sample, 100 people were asked if they prefer candidate A or not if the election were held next Sunday. \n",
    "# The following values were obtained (1=yes, 0=no):\n",
    "# 1, 0, 1, 0, 1, 0, 0, 0, 0, 0, 0, 0, 1, 0, 0, 0, 0, 1, 0, 1, 0, 1, 0, 1, 0, 1, 0, 0, 0, 0, 1, 0, 0, 0, 0, 0, 0, 0, 1, 0, 1, 0, 0, 0, 1, 0, 0, 1, 0, 1, 0, 0, 0, 0, 0, 0, 0, 1, 1, 1, 0, 1, 1, 1, 1, 0, 0, 1, 0, 0, 0, 0, 0, 0, 1, 0, 1, 1, 0, 0, 0, 0, 1, 0, 1, 0, 1, 0, 0, 1, 0, 0, 0, 1, 0, 1, 0, 0, 0"
   ]
  },
  {
   "cell_type": "code",
   "execution_count": 41,
   "metadata": {
    "vscode": {
     "languageId": "r"
    }
   },
   "outputs": [
    {
     "name": "stdout",
     "output_type": "stream",
     "text": [
      "[1] \"Relative Frequency of Voters Preferring A: 0.323232323232323\"\n"
     ]
    }
   ],
   "source": [
    "# Solution in R:\n",
    "\n",
    "# Given sample data\n",
    "sample_data <- c(1, 0, 1, 0, 1, 0, 0, 0, 0, 0, 0, 0, 1, 0, 0, 0, 0, 1, 0, 1, 0, 1, 0, 1, 0, 1, 0, 0, 0, 0, 1, 0, 0, 0, 0, 0, 0, 0, 1, 0, 1, 0, 0, 0, 1, 0, 0, 1, 0, 1, 0, 0, 0, 0, 0, 0, 0, 1, 1, 1, 0, 1, 1, 1, 1, 0, 0, 1, 0, 0, 0, 0, 0, 0, 1, 0, 1, 1, 0, 0, 0, 0, 1, 0, 1, 0, 1, 0, 0, 1, 0, 0, 0, 1, 0, 1, 0, 0, 0)\n",
    "\n",
    "# (a) Relative frequency of voters preferring A\n",
    "relative_frequency <- mean(sample_data)\n",
    "print(paste(\"Relative Frequency of Voters Preferring A:\", relative_frequency))"
   ]
  },
  {
   "cell_type": "code",
   "execution_count": 42,
   "metadata": {
    "vscode": {
     "languageId": "r"
    }
   },
   "outputs": [],
   "source": [
    "# In R, the paste() function concatenates its arguments into a single string.\n",
    "# It's often used to combine strings with variables or other values.\n",
    "# In this case, paste() is combining the string \"Minimal Sample Size\n",
    "# for CI Length < 0.1:\"\n",
    "# with the calculated value of required_sample_size.\n",
    "# The result will be printed out to the console with a clear indication\n",
    "# of what the value represents.\n",
    "# Essentially, it's just a way to format the output nicely for readability."
   ]
  },
  {
   "cell_type": "code",
   "execution_count": 43,
   "metadata": {
    "vscode": {
     "languageId": "r"
    }
   },
   "outputs": [],
   "source": [
    "\n",
    "# (b) Showing that the relative frequency is an unbiased point estimator\n",
    "#     Let p be the true proportion of voters preferring A in the population\n",
    "#     E[Relative Frequency] = E[X/n] = p,\n",
    "#     thus the relative frequency is an unbiased estimator for p"
   ]
  },
  {
   "cell_type": "code",
   "execution_count": 44,
   "metadata": {
    "vscode": {
     "languageId": "r"
    }
   },
   "outputs": [
    {
     "name": "stdout",
     "output_type": "stream",
     "text": [
      "[1] \"95% Confidence Interval for Proportion of Voters Preferring A: ( 0.231100919197858 , 0.415363727266788 )\"\n"
     ]
    }
   ],
   "source": [
    "# (c) Normal approximation of two-sided 95% confidence intervals\n",
    "n <- length(sample_data)\n",
    "se <- sqrt((relative_frequency * (1 - relative_frequency)) / n)\n",
    "margin_of_error <- qnorm(0.975) * se\n",
    "lower_ci <- relative_frequency - margin_of_error\n",
    "upper_ci <- relative_frequency + margin_of_error\n",
    "print(paste(\n",
    "            \"95% Confidence Interval for Proportion of Voters Preferring A: (\",\n",
    "            lower_ci,\n",
    "            \",\",\n",
    "            upper_ci, \")\")\n",
    ")"
   ]
  },
  {
   "cell_type": "code",
   "execution_count": 45,
   "metadata": {
    "vscode": {
     "languageId": "r"
    }
   },
   "outputs": [
    {
     "name": "stdout",
     "output_type": "stream",
     "text": [
      "[1] \"Minimal Sample Size for CI Length < 0.1: 85\"\n"
     ]
    }
   ],
   "source": [
    "# (d) Finding minimal sample size for a 95% confidence interval length < 0.1\n",
    "required_sample_size <- ceiling((qnorm(0.975) / 0.1) ^ 2 * (relative_frequency * (1 - relative_frequency)))\n",
    "print(paste(\"Minimal Sample Size for CI Length < 0.1:\", required_sample_size)) #why paste?, what does it do?"
   ]
  },
  {
   "cell_type": "code",
   "execution_count": 46,
   "metadata": {
    "vscode": {
     "languageId": "r"
    }
   },
   "outputs": [
    {
     "name": "stdout",
     "output_type": "stream",
     "text": [
      "[1] \"Confidence Level for CI Width = 0.1: -0.0792028421547559\"\n"
     ]
    }
   ],
   "source": [
    "# (e) Determining confidence level for CI width = 0.1\n",
    "required_confidence_level <- 2 * pnorm(qnorm(0.975) * sqrt((relative_frequency * (1 - relative_frequency)) / required_sample_size), lower.tail = FALSE) - 1\n",
    "print(paste(\"Confidence Level for CI Width = 0.1:\", required_confidence_level))"
   ]
  },
  {
   "cell_type": "code",
   "execution_count": 47,
   "metadata": {
    "vscode": {
     "languageId": "r"
    }
   },
   "outputs": [],
   "source": [
    "# Aufgabe 5\n",
    "# According to the manufacturer, the car model XYZ\n",
    "# should consume no more than 5 liters per 100 km on average.\n",
    "# A car magazine doubts this claim and tests the consumption\n",
    "# of 20 randomly selected vehicles.\n",
    "# The average consumption per 100 km of the 20 cars is:\n",
    "# 5.51, 5.42, 5.39, 5.07, 5.03, 4.85, 5.31, 4.96, 5.14, 5.24,\n",
    "# 4.95, 4.84, 5.16, 5.23, 5.19, 5.47, 5.06, 5.23, 5.04, 5.36"
   ]
  },
  {
   "cell_type": "code",
   "execution_count": 48,
   "metadata": {
    "vscode": {
     "languageId": "r"
    }
   },
   "outputs": [],
   "source": [
    "# (a)\n",
    "# The null hypothesis (H0) typically asserts that there is no significant\n",
    "# difference or no effect, while the alternative hypothesis (H1) suggests\n",
    "# otherwise. For this scenario, if we're testing whether the average consumption\n",
    "# of the car model XYZ exceeds 5 liters per 100 km, the hypotheses would be:\n",
    "#\n",
    "# Null Hypothesis (H0): The average consumption of the car model XYZ is 5 liters\n",
    "# per 100 km or less.\n",
    "# Alternative Hypothesis (H1): The average consumption of the car model XYZ\n",
    "# exceeds 5 liters per 100 km.\n",
    "#\n",
    "# These hypotheses can be tested using a one-sample t-test or a confidence\n",
    "# interval for the population mean.\n",
    "\n",
    "# Solution: H0: mu <= 5, H1: mu > 5"
   ]
  },
  {
   "cell_type": "code",
   "execution_count": 49,
   "metadata": {
    "vscode": {
     "languageId": "r"
    }
   },
   "outputs": [
    {
     "data": {
      "text/plain": [
       "\n",
       "\tOne Sample t-test\n",
       "\n",
       "data:  x\n",
       "t = 3.8881, df = 19, p-value = 0.0004947\n",
       "alternative hypothesis: true mean is greater than 5\n",
       "95 percent confidence interval:\n",
       " 5.095785      Inf\n",
       "sample estimates:\n",
       "mean of x \n",
       "   5.1725 \n"
      ]
     },
     "metadata": {},
     "output_type": "display_data"
    }
   ],
   "source": [
    "# (b)\n",
    "# Perform a statistical test to verify the null hypothesis at the 5% level.\n",
    "# Test decision and p-value:\n",
    "# Creating a tibble named X with the given parameters:\n",
    "\n",
    "# Solution\n",
    "x <- c(5.51, 5.42, 5.39, 5.07, 5.03, 4.85, 5.31, 4.96, 5.14, 5.24,\n",
    "       4.95, 4.84, 5.16, 5.23, 5.19, 5.47, 5.06, 5.23, 5.04, 5.36)\n",
    "\n",
    "t.test(x, alternative = \"greater\", mu = 5, conf.level = 0.95)"
   ]
  },
  {
   "cell_type": "code",
   "execution_count": 50,
   "metadata": {
    "vscode": {
     "languageId": "r"
    }
   },
   "outputs": [],
   "source": [
    "# c)\n",
    "# In making the above conclusion, which type of error are you risking,\n",
    "# type I or type II?\n",
    "# Solution: type I error\n",
    "\n",
    "# Errors explaine:\n",
    "\n",
    "# Type I error: Rejecting the null hypothesis when it is true, indicating a\n",
    "# false positive. Involves concluding\n",
    "# there is an effect or difference when there isn't\n",
    "\n",
    "# Type II error - failing to reject a false null hypothesis,\n",
    "# leading to a missed opportunity. involves failing to detect\n",
    "# an effect or difference when there actually is one.\n",
    "\n",
    "# Type III error - correctly rejecting the\n",
    "# null hypothesis for the wrong reason.\n",
    "\n",
    "# Type IV error - incorrectly failing to\n",
    "# reject the null hypothesis for the wrong reason. These errors vary in impact\n",
    "# and significance depending on the context of the hypothesis test."
   ]
  },
  {
   "cell_type": "code",
   "execution_count": 51,
   "metadata": {
    "vscode": {
     "languageId": "r"
    }
   },
   "outputs": [
    {
     "data": {
      "text/plain": [
       "\n",
       "\tOne Sample t-test\n",
       "\n",
       "data:  fuel_supplement\n",
       "t = -1.9479, df = 19, p-value = 0.06636\n",
       "alternative hypothesis: true mean is not equal to 5.1725\n",
       "95 percent confidence interval:\n",
       " 4.835393 5.184607\n",
       "sample estimates:\n",
       "mean of x \n",
       "     5.01 \n"
      ]
     },
     "metadata": {},
     "output_type": "display_data"
    }
   ],
   "source": [
    "# (d)\n",
    "# The manufacturer promotes a new fuel supplement, claiming it reduces\n",
    "# average consumption per 100 km of car model XYZ. The car magazine doubts\n",
    "# this, believing the supplement has no influence. To test, they measure\n",
    "# consumption of 20 cars with the supplement.\n",
    "\n",
    "# Solution\n",
    "# Perform a statistical test to verify the conjecture at the 5% level and\n",
    "# determine the p-value:\n",
    "\n",
    "# !NOT Solution!\n",
    "fuel_supplement <- c(5.11, 5.20, 4.91, 4.94, 5.22, 4.59, 5.45, 4.80, 5.13, 4.79,\n",
    "                     4.69, 4.14, 4.64, 5.20, 5.16, 5.49, 4.94, 5.75, 5.36, 4.69)\n",
    "\n",
    "t.test(fuel_supplement, mu = mean(x), conf.level = 0.95)\n"
   ]
  },
  {
   "cell_type": "code",
   "execution_count": 52,
   "metadata": {
    "vscode": {
     "languageId": "r"
    }
   },
   "outputs": [
    {
     "data": {
      "text/plain": [
       "\n",
       "\tPaired t-test\n",
       "\n",
       "data:  x and fuel_supplement\n",
       "t = 2.2711, df = 19, p-value = 0.03496\n",
       "alternative hypothesis: true mean difference is not equal to 0\n",
       "95 percent confidence interval:\n",
       " 0.01274405 0.31225595\n",
       "sample estimates:\n",
       "mean difference \n",
       "         0.1625 \n"
      ]
     },
     "metadata": {},
     "output_type": "display_data"
    }
   ],
   "source": [
    "# (d)\n",
    "t.test(\n",
    "x,\n",
    "fuel_supplement,\n",
    "alternative = \"two.sided\",\n",
    "paired = TRUE,\n",
    "var.equal = TRUE,\n",
    "conf.level = 0.95)"
   ]
  },
  {
   "cell_type": "code",
   "execution_count": 53,
   "metadata": {
    "vscode": {
     "languageId": "r"
    }
   },
   "outputs": [],
   "source": [
    "# Sidenote:\n",
    "\n",
    "# t.test() arguments:\n",
    "\n",
    "# x_before: Vector of data representing consumption of car model XYZ\n",
    "# before the fuel supplement.\n",
    "\n",
    "# x_after: Vector of data representing consumption of car model XYZ\n",
    "# after the fuel supplement.\n",
    "\n",
    "# alternative = \"two.sided\": Specifies the alternative hypothesis\n",
    "# for the test as two-sided.\n",
    "\n",
    "# paired = TRUE: Indicates that the observations in x_before and\n",
    "# x_after are paired.\n",
    "\n",
    "# var.equal = TRUE: Assumes equal variances between the two groups\n",
    "# (before and after).\n",
    "\n",
    "# conf.level = 0.95: Sets the confidence level for the confidence\n",
    "# interval to 95%.\n"
   ]
  },
  {
   "cell_type": "code",
   "execution_count": 54,
   "metadata": {
    "vscode": {
     "languageId": "r"
    }
   },
   "outputs": [
    {
     "data": {
      "image/png": "[encoded data removed]",
      "text/plain": [
       "Plot with title \"Histogram of Data\""
      ]
     },
     "metadata": {
      "image/png": {
       "height": 420,
       "width": 420
      }
     },
     "output_type": "display_data"
    },
    {
     "data": {
      "text/plain": [
       "\n",
       "\tShapiro-Wilk normality test\n",
       "\n",
       "data:  data\n",
       "W = 0.98177, p-value = 0.9548\n"
      ]
     },
     "metadata": {},
     "output_type": "display_data"
    },
    {
     "name": "stderr",
     "output_type": "stream",
     "text": [
      "Warning message in ks.test.default(data, \"pnorm\", mean = mean(data), sd = sd(data)):\n",
      "\"f\"ur den Komogorov-Smirnov-Test sollten keine Bindungen vorhanden sein\"\n"
     ]
    },
    {
     "data": {
      "text/plain": [
       "\n",
       "\tAsymptotic one-sample Kolmogorov-Smirnov test\n",
       "\n",
       "data:  data\n",
       "D = 0.10567, p-value = 0.9789\n",
       "alternative hypothesis: two-sided\n"
      ]
     },
     "metadata": {},
     "output_type": "display_data"
    },
    {
     "data": {
      "text/plain": [
       "\n",
       "\tAnderson-Darling normality test\n",
       "\n",
       "data:  data\n",
       "A = 0.20347, p-value = 0.8556\n"
      ]
     },
     "metadata": {},
     "output_type": "display_data"
    },
    {
     "data": {
      "image/png": "[encoded data removed]",
      "text/plain": [
       "Plot with title \"Normal Q-Q Plot\""
      ]
     },
     "metadata": {
      "image/png": {
       "height": 420,
       "width": 420
      }
     },
     "output_type": "display_data"
    }
   ],
   "source": [
    "# Sidenote\n",
    "\n",
    "# Testing for data normal distribution, I don't know if this will be\n",
    "# necessary...\n",
    "\n",
    "# Example data\n",
    "data <- c(5.11, 5.20, 4.91, 4.94, 5.22, 4.59, 5.45, 4.80, 5.13, 4.79,\n",
    "          4.69, 4.14, 4.64, 5.20, 5.16, 5.49, 4.94, 5.75, 5.36, 4.69)\n",
    "\n",
    "# Histogram\n",
    "hist(data, main = \"Histogram of Data\", xlab = \"Values\", ylab = \"Frequency\")\n",
    "\n",
    "# Q-Q plot\n",
    "qqnorm(data)\n",
    "qqline(data)\n",
    "\n",
    "# Shapiro-Wilk test\n",
    "shapiro.test(data)\n",
    "\n",
    "# Kolmogorov-Smirnov test\n",
    "ks.test(data, \"pnorm\", mean = mean(data), sd = sd(data))\n",
    "\n",
    "# Anderson-Darling test\n",
    "library(nortest) # Load the nortest package for Anderson-Darling test\n",
    "ad.test(data)\n"
   ]
  },
  {
   "cell_type": "code",
   "execution_count": 55,
   "metadata": {
    "vscode": {
     "languageId": "r"
    }
   },
   "outputs": [],
   "source": [
    "# Sidenote\n",
    "\n",
    "# In the problem description, the hint suggests assuming a normal distribution\n",
    "# for the average consumption. This implies the need for a statistical test,\n",
    "# likely involving additional settings beyond just the data vectors. Clues in\n",
    "# the problem description, such as comparing consumption before and after a\n",
    "# supplement, suggest the use of a paired t-test. Therefore, including\n",
    "# additional arguments like paired = TRUE, var.equal = TRUE, and specifying\n",
    "# alternative = \"two.sided\" aligns with the context provided."
   ]
  },
  {
   "cell_type": "code",
   "execution_count": 56,
   "metadata": {
    "vscode": {
     "languageId": "r"
    }
   },
   "outputs": [],
   "source": [
    "# Sidenote\n",
    "\n",
    "# If the distribution of the data were different from normal, non-parametric\n",
    "# tests could be considered. For comparing paired samples, the Wilcoxon\n",
    "# signed-rank test is suitable, as it compares the medians of two paired\n",
    "# samples and is robust to deviations from normality. Alternatively, for\n",
    "# independent samples, the Mann-Whitney U test (Wilcoxon rank-sum test) can\n",
    "# be used to compare the distributions of two independent samples and is also\n",
    "# robust to non-normality. These non-parametric tests are useful alternatives\n",
    "# when the assumption of normality is not met or when the data distribution is\n",
    "# unknown or highly skewed.\n"
   ]
  },
  {
   "cell_type": "code",
   "execution_count": 5,
   "metadata": {
    "vscode": {
     "languageId": "r"
    }
   },
   "outputs": [
    {
     "name": "stdout",
     "output_type": "stream",
     "text": [
      "[1] 385\n"
     ]
    }
   ],
   "source": [
    "get_min_sample_size <- function(p_hat, L, alpha = 0.05) {\n",
    "  z_alpha_over_2 <- qnorm(1 - alpha / 2)\n",
    "  n <- ceiling((p_hat * (1 - p_hat)) / ((L / (2 * z_alpha_over_2))^2))\n",
    "  return(n)\n",
    "}\n",
    "\n",
    "# Example usage:\n",
    "p_hat <- 0.5  # Sample proportion\n",
    "L <- 0.1  # Desired width of the confidence interval\n",
    "alpha <- 0.05  # Significance level (default is 0.05 for a 95% confidence level)\n",
    "\n",
    "min_sample_size <- get_min_sample_size(p_hat, L, alpha)\n",
    "print(min_sample_size)\n"
   ]
  },
  {
   "cell_type": "code",
   "execution_count": 7,
   "metadata": {
    "vscode": {
     "languageId": "r"
    }
   },
   "outputs": [
    {
     "name": "stdout",
     "output_type": "stream",
     "text": [
      "[1] 385\n"
     ]
    }
   ],
   "source": [
    "# Given values\n",
    "#p_hat <- 0.5  # Sample proportion (worst-case scenario for maximum width)\n",
    "alpha <- 0.05  # Significance level for a 95% confidence interval\n",
    "length = 0.1\n",
    "\n",
    "# Calculate the minimum sample size\n",
    "n <- ceiling((qnorm(1 - alpha/2, mean = 0, sd = 1) / length)^2)\n",
    "print(n)\n"
   ]
  },
  {
   "cell_type": "code",
   "execution_count": 14,
   "metadata": {
    "vscode": {
     "languageId": "r"
    }
   },
   "outputs": [
    {
     "name": "stdout",
     "output_type": "stream",
     "text": [
      "[1] 0.03545237\n"
     ]
    }
   ],
   "source": [
    "# Given values\n",
    "p_hat <- 0.32  # Sample proportion\n",
    "L <- 0.1  # Desired width of the confidence interval\n",
    "\n",
    "# Calculate the value of 1 - alpha\n",
    "alpha_complement <- 2 * pnorm(L / (2 * sqrt(p_hat * (1 - p_hat) / n))) - 1\n",
    "\n",
    "# Calculate the confidence level\n",
    "confidence_level <- 1 - alpha_complement\n",
    "\n",
    "print(confidence_level)\n"
   ]
  },
  {
   "cell_type": "code",
   "execution_count": 13,
   "metadata": {
    "vscode": {
     "languageId": "r"
    }
   },
   "outputs": [
    {
     "data": {
      "text/html": [
       "0.950254009278497"
      ],
      "text/latex": [
       "0.950254009278497"
      ],
      "text/markdown": [
       "0.950254009278497"
      ],
      "text/plain": [
       "[1] 0.950254"
      ]
     },
     "metadata": {},
     "output_type": "display_data"
    }
   ],
   "source": [
    "2*pnorm(0.1/(2*sqrt(p_hat*(1-p_hat)/n)))-1 # 0.7162198"
   ]
  },
  {
   "cell_type": "code",
   "execution_count": 18,
   "metadata": {
    "vscode": {
     "languageId": "r"
    }
   },
   "outputs": [
    {
     "data": {
      "text/html": [
       "0.950254009278497"
      ],
      "text/latex": [
       "0.950254009278497"
      ],
      "text/markdown": [
       "0.950254009278497"
      ],
      "text/plain": [
       "[1] 0.950254"
      ]
     },
     "metadata": {},
     "output_type": "display_data"
    }
   ],
   "source": [
    "p.hat = 0.5\n",
    "n = 385\n",
    "2*pnorm(0.1/(2*sqrt(p.hat*(1-p.hat)/n)))-1 \n",
    "# should be 0.7162198, but is 0.9.."
   ]
  },
  {
   "cell_type": "code",
   "execution_count": 19,
   "metadata": {
    "vscode": {
     "languageId": "r"
    }
   },
   "outputs": [
    {
     "name": "stdout",
     "output_type": "stream",
     "text": [
      "[1] 0.04974599\n"
     ]
    }
   ],
   "source": [
    "# Given values\n",
    "p_hat <- 0.5  # Sample proportion\n",
    "n <- 385  # Sample size\n",
    "L <- 0.1  # Desired width of the confidence interval\n",
    "\n",
    "# Calculate the confidence level\n",
    "alpha_complement <- 2 * pnorm(0.1 / (2 * sqrt(p_hat * (1 - p_hat) / n))) - 1\n",
    "confidence_level <- 1 - alpha_complement\n",
    "\n",
    "print(confidence_level)\n"
   ]
  },
  {
   "cell_type": "code",
   "execution_count": 25,
   "metadata": {
    "vscode": {
     "languageId": "r"
    }
   },
   "outputs": [
    {
     "name": "stdout",
     "output_type": "stream",
     "text": [
      "[1] 0.7162198\n",
      "[1] 0.2837802\n"
     ]
    }
   ],
   "source": [
    "# Given values\n",
    "p_hat <- 0.32  # Sample proportion\n",
    "n <- 100  # Sample size\n",
    "L <- 0.1  # Desired width of the confidence interval\n",
    "\n",
    "# Calculate the confidence level\n",
    "confidence_level <- 2 * pnorm(L / (2 * sqrt(p_hat * (1 - p_hat) / n))) - 1\n",
    "print(confidence_level)\n",
    "alpha <- 1 - confidence_level\n",
    "print(alpha)\n"
   ]
  },
  {
   "cell_type": "code",
   "execution_count": null,
   "metadata": {
    "vscode": {
     "languageId": "r"
    }
   },
   "outputs": [],
   "source": []
  }
 ],
 "metadata": {
  "kernelspec": {
   "display_name": "R",
   "language": "R",
   "name": "ir"
  },
  "language_info": {
   "codemirror_mode": "r",
   "file_extension": ".r",
   "mimetype": "text/x-r-source",
   "name": "R",
   "pygments_lexer": "r",
   "version": "4.3.2"
  }
 },
 "nbformat": 4,
 "nbformat_minor": 2
}
