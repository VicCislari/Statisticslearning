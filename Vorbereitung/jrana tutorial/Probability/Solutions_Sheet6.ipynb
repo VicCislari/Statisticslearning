{
 "cells": [
  {
   "attachments": {},
   "cell_type": "markdown",
   "id": "cccc39a1",
   "metadata": {},
   "source": [
    "<h1 style=\"color:blue;text-align:center\">Sheet 6 (Probablity)<h1>"
   ]
  },
  {
   "attachments": {},
   "cell_type": "markdown",
   "id": "2f5f2d92",
   "metadata": {},
   "source": [
    "<h2 style=\"color:green;text-align:center\">Discrete Random Variables and Distributions<h2>"
   ]
  },
  {
   "attachments": {},
   "cell_type": "markdown",
   "id": "26071c79",
   "metadata": {},
   "source": [
    "<h2 style=\"color:purple;text-align:center\">Exercise 1<h2>"
   ]
  },
  {
   "attachments": {},
   "cell_type": "markdown",
   "id": "59869be3",
   "metadata": {},
   "source": [
    "Suppose that two fair, standard dice are tossed and the sequence of\n",
    "scores $(X_1 , X_2 )$ recorded. Let $Y = X_1 + X_2$ , denote the sum of the\n",
    "scores, $U = min(X_1 , X_2 )$, the minimum score, and $V = max(X_1 , X_2 )$\n",
    "the maximum score."
   ]
  },
  {
   "attachments": {},
   "cell_type": "markdown",
   "id": "23e6ec79",
   "metadata": {},
   "source": [
    "+ Find the probability density function of $(X_1 , X_2 )$"
   ]
  },
  {
   "cell_type": "code",
   "execution_count": null,
   "id": "e6c0f7ae",
   "metadata": {
    "vscode": {
     "languageId": "r"
    }
   },
   "outputs": [],
   "source": [
    "# P(X=(x1,x2))=(i,j)=1/36, where i,j in {1:6}"
   ]
  },
  {
   "attachments": {},
   "cell_type": "markdown",
   "id": "aea59059",
   "metadata": {},
   "source": [
    "+ Find the probability density function of Y"
   ]
  },
  {
   "cell_type": "code",
   "execution_count": 2,
   "id": "2464623c",
   "metadata": {
    "vscode": {
     "languageId": "r"
    }
   },
   "outputs": [],
   "source": [
    "library(tidyverse)"
   ]
  },
  {
   "cell_type": "code",
   "execution_count": 2,
   "id": "8e77a666",
   "metadata": {
    "scrolled": true,
    "vscode": {
     "languageId": "r"
    }
   },
   "outputs": [
    {
     "data": {
      "text/html": [
       "<table class=\"dataframe\">\n",
       "<caption>A tibble: 36 × 2</caption>\n",
       "<thead>\n",
       "\t<tr><th scope=col>x1</th><th scope=col>x2</th></tr>\n",
       "\t<tr><th scope=col>&lt;int&gt;</th><th scope=col>&lt;int&gt;</th></tr>\n",
       "</thead>\n",
       "<tbody>\n",
       "\t<tr><td>1</td><td>1</td></tr>\n",
       "\t<tr><td>1</td><td>2</td></tr>\n",
       "\t<tr><td>1</td><td>3</td></tr>\n",
       "\t<tr><td>1</td><td>4</td></tr>\n",
       "\t<tr><td>1</td><td>5</td></tr>\n",
       "\t<tr><td>1</td><td>6</td></tr>\n",
       "\t<tr><td>2</td><td>1</td></tr>\n",
       "\t<tr><td>2</td><td>2</td></tr>\n",
       "\t<tr><td>2</td><td>3</td></tr>\n",
       "\t<tr><td>2</td><td>4</td></tr>\n",
       "\t<tr><td>2</td><td>5</td></tr>\n",
       "\t<tr><td>2</td><td>6</td></tr>\n",
       "\t<tr><td>3</td><td>1</td></tr>\n",
       "\t<tr><td>3</td><td>2</td></tr>\n",
       "\t<tr><td>3</td><td>3</td></tr>\n",
       "\t<tr><td>3</td><td>4</td></tr>\n",
       "\t<tr><td>3</td><td>5</td></tr>\n",
       "\t<tr><td>3</td><td>6</td></tr>\n",
       "\t<tr><td>4</td><td>1</td></tr>\n",
       "\t<tr><td>4</td><td>2</td></tr>\n",
       "\t<tr><td>4</td><td>3</td></tr>\n",
       "\t<tr><td>4</td><td>4</td></tr>\n",
       "\t<tr><td>4</td><td>5</td></tr>\n",
       "\t<tr><td>4</td><td>6</td></tr>\n",
       "\t<tr><td>5</td><td>1</td></tr>\n",
       "\t<tr><td>5</td><td>2</td></tr>\n",
       "\t<tr><td>5</td><td>3</td></tr>\n",
       "\t<tr><td>5</td><td>4</td></tr>\n",
       "\t<tr><td>5</td><td>5</td></tr>\n",
       "\t<tr><td>5</td><td>6</td></tr>\n",
       "\t<tr><td>6</td><td>1</td></tr>\n",
       "\t<tr><td>6</td><td>2</td></tr>\n",
       "\t<tr><td>6</td><td>3</td></tr>\n",
       "\t<tr><td>6</td><td>4</td></tr>\n",
       "\t<tr><td>6</td><td>5</td></tr>\n",
       "\t<tr><td>6</td><td>6</td></tr>\n",
       "</tbody>\n",
       "</table>\n"
      ],
      "text/latex": [
       "A tibble: 36 × 2\n",
       "\\begin{tabular}{ll}\n",
       " x1 & x2\\\\\n",
       " <int> & <int>\\\\\n",
       "\\hline\n",
       "\t 1 & 1\\\\\n",
       "\t 1 & 2\\\\\n",
       "\t 1 & 3\\\\\n",
       "\t 1 & 4\\\\\n",
       "\t 1 & 5\\\\\n",
       "\t 1 & 6\\\\\n",
       "\t 2 & 1\\\\\n",
       "\t 2 & 2\\\\\n",
       "\t 2 & 3\\\\\n",
       "\t 2 & 4\\\\\n",
       "\t 2 & 5\\\\\n",
       "\t 2 & 6\\\\\n",
       "\t 3 & 1\\\\\n",
       "\t 3 & 2\\\\\n",
       "\t 3 & 3\\\\\n",
       "\t 3 & 4\\\\\n",
       "\t 3 & 5\\\\\n",
       "\t 3 & 6\\\\\n",
       "\t 4 & 1\\\\\n",
       "\t 4 & 2\\\\\n",
       "\t 4 & 3\\\\\n",
       "\t 4 & 4\\\\\n",
       "\t 4 & 5\\\\\n",
       "\t 4 & 6\\\\\n",
       "\t 5 & 1\\\\\n",
       "\t 5 & 2\\\\\n",
       "\t 5 & 3\\\\\n",
       "\t 5 & 4\\\\\n",
       "\t 5 & 5\\\\\n",
       "\t 5 & 6\\\\\n",
       "\t 6 & 1\\\\\n",
       "\t 6 & 2\\\\\n",
       "\t 6 & 3\\\\\n",
       "\t 6 & 4\\\\\n",
       "\t 6 & 5\\\\\n",
       "\t 6 & 6\\\\\n",
       "\\end{tabular}\n"
      ],
      "text/markdown": [
       "\n",
       "A tibble: 36 × 2\n",
       "\n",
       "| x1 &lt;int&gt; | x2 &lt;int&gt; |\n",
       "|---|---|\n",
       "| 1 | 1 |\n",
       "| 1 | 2 |\n",
       "| 1 | 3 |\n",
       "| 1 | 4 |\n",
       "| 1 | 5 |\n",
       "| 1 | 6 |\n",
       "| 2 | 1 |\n",
       "| 2 | 2 |\n",
       "| 2 | 3 |\n",
       "| 2 | 4 |\n",
       "| 2 | 5 |\n",
       "| 2 | 6 |\n",
       "| 3 | 1 |\n",
       "| 3 | 2 |\n",
       "| 3 | 3 |\n",
       "| 3 | 4 |\n",
       "| 3 | 5 |\n",
       "| 3 | 6 |\n",
       "| 4 | 1 |\n",
       "| 4 | 2 |\n",
       "| 4 | 3 |\n",
       "| 4 | 4 |\n",
       "| 4 | 5 |\n",
       "| 4 | 6 |\n",
       "| 5 | 1 |\n",
       "| 5 | 2 |\n",
       "| 5 | 3 |\n",
       "| 5 | 4 |\n",
       "| 5 | 5 |\n",
       "| 5 | 6 |\n",
       "| 6 | 1 |\n",
       "| 6 | 2 |\n",
       "| 6 | 3 |\n",
       "| 6 | 4 |\n",
       "| 6 | 5 |\n",
       "| 6 | 6 |\n",
       "\n"
      ],
      "text/plain": [
       "   x1 x2\n",
       "1  1  1 \n",
       "2  1  2 \n",
       "3  1  3 \n",
       "4  1  4 \n",
       "5  1  5 \n",
       "6  1  6 \n",
       "7  2  1 \n",
       "8  2  2 \n",
       "9  2  3 \n",
       "10 2  4 \n",
       "11 2  5 \n",
       "12 2  6 \n",
       "13 3  1 \n",
       "14 3  2 \n",
       "15 3  3 \n",
       "16 3  4 \n",
       "17 3  5 \n",
       "18 3  6 \n",
       "19 4  1 \n",
       "20 4  2 \n",
       "21 4  3 \n",
       "22 4  4 \n",
       "23 4  5 \n",
       "24 4  6 \n",
       "25 5  1 \n",
       "26 5  2 \n",
       "27 5  3 \n",
       "28 5  4 \n",
       "29 5  5 \n",
       "30 5  6 \n",
       "31 6  1 \n",
       "32 6  2 \n",
       "33 6  3 \n",
       "34 6  4 \n",
       "35 6  5 \n",
       "36 6  6 "
      ]
     },
     "metadata": {},
     "output_type": "display_data"
    }
   ],
   "source": [
    "expand_grid(x1=1:6,x2=1:6)"
   ]
  },
  {
   "cell_type": "code",
   "execution_count": 3,
   "id": "4c7c0a65",
   "metadata": {
    "scrolled": true,
    "vscode": {
     "languageId": "r"
    }
   },
   "outputs": [
    {
     "data": {
      "text/html": [
       "<table class=\"dataframe\">\n",
       "<caption>A tibble: 36 × 3</caption>\n",
       "<thead>\n",
       "\t<tr><th scope=col>x1</th><th scope=col>x2</th><th scope=col>y</th></tr>\n",
       "\t<tr><th scope=col>&lt;int&gt;</th><th scope=col>&lt;int&gt;</th><th scope=col>&lt;int&gt;</th></tr>\n",
       "</thead>\n",
       "<tbody>\n",
       "\t<tr><td>1</td><td>1</td><td> 2</td></tr>\n",
       "\t<tr><td>1</td><td>2</td><td> 3</td></tr>\n",
       "\t<tr><td>1</td><td>3</td><td> 4</td></tr>\n",
       "\t<tr><td>1</td><td>4</td><td> 5</td></tr>\n",
       "\t<tr><td>1</td><td>5</td><td> 6</td></tr>\n",
       "\t<tr><td>1</td><td>6</td><td> 7</td></tr>\n",
       "\t<tr><td>2</td><td>1</td><td> 3</td></tr>\n",
       "\t<tr><td>2</td><td>2</td><td> 4</td></tr>\n",
       "\t<tr><td>2</td><td>3</td><td> 5</td></tr>\n",
       "\t<tr><td>2</td><td>4</td><td> 6</td></tr>\n",
       "\t<tr><td>2</td><td>5</td><td> 7</td></tr>\n",
       "\t<tr><td>2</td><td>6</td><td> 8</td></tr>\n",
       "\t<tr><td>3</td><td>1</td><td> 4</td></tr>\n",
       "\t<tr><td>3</td><td>2</td><td> 5</td></tr>\n",
       "\t<tr><td>3</td><td>3</td><td> 6</td></tr>\n",
       "\t<tr><td>3</td><td>4</td><td> 7</td></tr>\n",
       "\t<tr><td>3</td><td>5</td><td> 8</td></tr>\n",
       "\t<tr><td>3</td><td>6</td><td> 9</td></tr>\n",
       "\t<tr><td>4</td><td>1</td><td> 5</td></tr>\n",
       "\t<tr><td>4</td><td>2</td><td> 6</td></tr>\n",
       "\t<tr><td>4</td><td>3</td><td> 7</td></tr>\n",
       "\t<tr><td>4</td><td>4</td><td> 8</td></tr>\n",
       "\t<tr><td>4</td><td>5</td><td> 9</td></tr>\n",
       "\t<tr><td>4</td><td>6</td><td>10</td></tr>\n",
       "\t<tr><td>5</td><td>1</td><td> 6</td></tr>\n",
       "\t<tr><td>5</td><td>2</td><td> 7</td></tr>\n",
       "\t<tr><td>5</td><td>3</td><td> 8</td></tr>\n",
       "\t<tr><td>5</td><td>4</td><td> 9</td></tr>\n",
       "\t<tr><td>5</td><td>5</td><td>10</td></tr>\n",
       "\t<tr><td>5</td><td>6</td><td>11</td></tr>\n",
       "\t<tr><td>6</td><td>1</td><td> 7</td></tr>\n",
       "\t<tr><td>6</td><td>2</td><td> 8</td></tr>\n",
       "\t<tr><td>6</td><td>3</td><td> 9</td></tr>\n",
       "\t<tr><td>6</td><td>4</td><td>10</td></tr>\n",
       "\t<tr><td>6</td><td>5</td><td>11</td></tr>\n",
       "\t<tr><td>6</td><td>6</td><td>12</td></tr>\n",
       "</tbody>\n",
       "</table>\n"
      ],
      "text/latex": [
       "A tibble: 36 × 3\n",
       "\\begin{tabular}{lll}\n",
       " x1 & x2 & y\\\\\n",
       " <int> & <int> & <int>\\\\\n",
       "\\hline\n",
       "\t 1 & 1 &  2\\\\\n",
       "\t 1 & 2 &  3\\\\\n",
       "\t 1 & 3 &  4\\\\\n",
       "\t 1 & 4 &  5\\\\\n",
       "\t 1 & 5 &  6\\\\\n",
       "\t 1 & 6 &  7\\\\\n",
       "\t 2 & 1 &  3\\\\\n",
       "\t 2 & 2 &  4\\\\\n",
       "\t 2 & 3 &  5\\\\\n",
       "\t 2 & 4 &  6\\\\\n",
       "\t 2 & 5 &  7\\\\\n",
       "\t 2 & 6 &  8\\\\\n",
       "\t 3 & 1 &  4\\\\\n",
       "\t 3 & 2 &  5\\\\\n",
       "\t 3 & 3 &  6\\\\\n",
       "\t 3 & 4 &  7\\\\\n",
       "\t 3 & 5 &  8\\\\\n",
       "\t 3 & 6 &  9\\\\\n",
       "\t 4 & 1 &  5\\\\\n",
       "\t 4 & 2 &  6\\\\\n",
       "\t 4 & 3 &  7\\\\\n",
       "\t 4 & 4 &  8\\\\\n",
       "\t 4 & 5 &  9\\\\\n",
       "\t 4 & 6 & 10\\\\\n",
       "\t 5 & 1 &  6\\\\\n",
       "\t 5 & 2 &  7\\\\\n",
       "\t 5 & 3 &  8\\\\\n",
       "\t 5 & 4 &  9\\\\\n",
       "\t 5 & 5 & 10\\\\\n",
       "\t 5 & 6 & 11\\\\\n",
       "\t 6 & 1 &  7\\\\\n",
       "\t 6 & 2 &  8\\\\\n",
       "\t 6 & 3 &  9\\\\\n",
       "\t 6 & 4 & 10\\\\\n",
       "\t 6 & 5 & 11\\\\\n",
       "\t 6 & 6 & 12\\\\\n",
       "\\end{tabular}\n"
      ],
      "text/markdown": [
       "\n",
       "A tibble: 36 × 3\n",
       "\n",
       "| x1 &lt;int&gt; | x2 &lt;int&gt; | y &lt;int&gt; |\n",
       "|---|---|---|\n",
       "| 1 | 1 |  2 |\n",
       "| 1 | 2 |  3 |\n",
       "| 1 | 3 |  4 |\n",
       "| 1 | 4 |  5 |\n",
       "| 1 | 5 |  6 |\n",
       "| 1 | 6 |  7 |\n",
       "| 2 | 1 |  3 |\n",
       "| 2 | 2 |  4 |\n",
       "| 2 | 3 |  5 |\n",
       "| 2 | 4 |  6 |\n",
       "| 2 | 5 |  7 |\n",
       "| 2 | 6 |  8 |\n",
       "| 3 | 1 |  4 |\n",
       "| 3 | 2 |  5 |\n",
       "| 3 | 3 |  6 |\n",
       "| 3 | 4 |  7 |\n",
       "| 3 | 5 |  8 |\n",
       "| 3 | 6 |  9 |\n",
       "| 4 | 1 |  5 |\n",
       "| 4 | 2 |  6 |\n",
       "| 4 | 3 |  7 |\n",
       "| 4 | 4 |  8 |\n",
       "| 4 | 5 |  9 |\n",
       "| 4 | 6 | 10 |\n",
       "| 5 | 1 |  6 |\n",
       "| 5 | 2 |  7 |\n",
       "| 5 | 3 |  8 |\n",
       "| 5 | 4 |  9 |\n",
       "| 5 | 5 | 10 |\n",
       "| 5 | 6 | 11 |\n",
       "| 6 | 1 |  7 |\n",
       "| 6 | 2 |  8 |\n",
       "| 6 | 3 |  9 |\n",
       "| 6 | 4 | 10 |\n",
       "| 6 | 5 | 11 |\n",
       "| 6 | 6 | 12 |\n",
       "\n"
      ],
      "text/plain": [
       "   x1 x2 y \n",
       "1  1  1   2\n",
       "2  1  2   3\n",
       "3  1  3   4\n",
       "4  1  4   5\n",
       "5  1  5   6\n",
       "6  1  6   7\n",
       "7  2  1   3\n",
       "8  2  2   4\n",
       "9  2  3   5\n",
       "10 2  4   6\n",
       "11 2  5   7\n",
       "12 2  6   8\n",
       "13 3  1   4\n",
       "14 3  2   5\n",
       "15 3  3   6\n",
       "16 3  4   7\n",
       "17 3  5   8\n",
       "18 3  6   9\n",
       "19 4  1   5\n",
       "20 4  2   6\n",
       "21 4  3   7\n",
       "22 4  4   8\n",
       "23 4  5   9\n",
       "24 4  6  10\n",
       "25 5  1   6\n",
       "26 5  2   7\n",
       "27 5  3   8\n",
       "28 5  4   9\n",
       "29 5  5  10\n",
       "30 5  6  11\n",
       "31 6  1   7\n",
       "32 6  2   8\n",
       "33 6  3   9\n",
       "34 6  4  10\n",
       "35 6  5  11\n",
       "36 6  6  12"
      ]
     },
     "metadata": {},
     "output_type": "display_data"
    }
   ],
   "source": [
    "expand_grid(x1=1:6,x2=1:6) %>% mutate(y=x1+x2)"
   ]
  },
  {
   "cell_type": "code",
   "execution_count": 4,
   "id": "20a232dc",
   "metadata": {
    "scrolled": true,
    "vscode": {
     "languageId": "r"
    }
   },
   "outputs": [
    {
     "data": {
      "text/html": [
       "<table class=\"dataframe\">\n",
       "<caption>A tibble: 11 × 2</caption>\n",
       "<thead>\n",
       "\t<tr><th scope=col>y</th><th scope=col>n</th></tr>\n",
       "\t<tr><th scope=col>&lt;int&gt;</th><th scope=col>&lt;int&gt;</th></tr>\n",
       "</thead>\n",
       "<tbody>\n",
       "\t<tr><td> 2</td><td>1</td></tr>\n",
       "\t<tr><td> 3</td><td>2</td></tr>\n",
       "\t<tr><td> 4</td><td>3</td></tr>\n",
       "\t<tr><td> 5</td><td>4</td></tr>\n",
       "\t<tr><td> 6</td><td>5</td></tr>\n",
       "\t<tr><td> 7</td><td>6</td></tr>\n",
       "\t<tr><td> 8</td><td>5</td></tr>\n",
       "\t<tr><td> 9</td><td>4</td></tr>\n",
       "\t<tr><td>10</td><td>3</td></tr>\n",
       "\t<tr><td>11</td><td>2</td></tr>\n",
       "\t<tr><td>12</td><td>1</td></tr>\n",
       "</tbody>\n",
       "</table>\n"
      ],
      "text/latex": [
       "A tibble: 11 × 2\n",
       "\\begin{tabular}{ll}\n",
       " y & n\\\\\n",
       " <int> & <int>\\\\\n",
       "\\hline\n",
       "\t  2 & 1\\\\\n",
       "\t  3 & 2\\\\\n",
       "\t  4 & 3\\\\\n",
       "\t  5 & 4\\\\\n",
       "\t  6 & 5\\\\\n",
       "\t  7 & 6\\\\\n",
       "\t  8 & 5\\\\\n",
       "\t  9 & 4\\\\\n",
       "\t 10 & 3\\\\\n",
       "\t 11 & 2\\\\\n",
       "\t 12 & 1\\\\\n",
       "\\end{tabular}\n"
      ],
      "text/markdown": [
       "\n",
       "A tibble: 11 × 2\n",
       "\n",
       "| y &lt;int&gt; | n &lt;int&gt; |\n",
       "|---|---|\n",
       "|  2 | 1 |\n",
       "|  3 | 2 |\n",
       "|  4 | 3 |\n",
       "|  5 | 4 |\n",
       "|  6 | 5 |\n",
       "|  7 | 6 |\n",
       "|  8 | 5 |\n",
       "|  9 | 4 |\n",
       "| 10 | 3 |\n",
       "| 11 | 2 |\n",
       "| 12 | 1 |\n",
       "\n"
      ],
      "text/plain": [
       "   y  n\n",
       "1   2 1\n",
       "2   3 2\n",
       "3   4 3\n",
       "4   5 4\n",
       "5   6 5\n",
       "6   7 6\n",
       "7   8 5\n",
       "8   9 4\n",
       "9  10 3\n",
       "10 11 2\n",
       "11 12 1"
      ]
     },
     "metadata": {},
     "output_type": "display_data"
    }
   ],
   "source": [
    "expand_grid(x1=1:6,x2=1:6) %>% mutate(y=x1+x2) %>% count(y)"
   ]
  },
  {
   "cell_type": "code",
   "execution_count": 5,
   "id": "64820e86",
   "metadata": {
    "scrolled": true,
    "vscode": {
     "languageId": "r"
    }
   },
   "outputs": [
    {
     "data": {
      "text/html": [
       "<table class=\"dataframe\">\n",
       "<caption>A tibble: 11 × 3</caption>\n",
       "<thead>\n",
       "\t<tr><th scope=col>y</th><th scope=col>n</th><th scope=col>prob</th></tr>\n",
       "\t<tr><th scope=col>&lt;int&gt;</th><th scope=col>&lt;int&gt;</th><th scope=col>&lt;dbl&gt;</th></tr>\n",
       "</thead>\n",
       "<tbody>\n",
       "\t<tr><td> 2</td><td>1</td><td>0.02777778</td></tr>\n",
       "\t<tr><td> 3</td><td>2</td><td>0.05555556</td></tr>\n",
       "\t<tr><td> 4</td><td>3</td><td>0.08333333</td></tr>\n",
       "\t<tr><td> 5</td><td>4</td><td>0.11111111</td></tr>\n",
       "\t<tr><td> 6</td><td>5</td><td>0.13888889</td></tr>\n",
       "\t<tr><td> 7</td><td>6</td><td>0.16666667</td></tr>\n",
       "\t<tr><td> 8</td><td>5</td><td>0.13888889</td></tr>\n",
       "\t<tr><td> 9</td><td>4</td><td>0.11111111</td></tr>\n",
       "\t<tr><td>10</td><td>3</td><td>0.08333333</td></tr>\n",
       "\t<tr><td>11</td><td>2</td><td>0.05555556</td></tr>\n",
       "\t<tr><td>12</td><td>1</td><td>0.02777778</td></tr>\n",
       "</tbody>\n",
       "</table>\n"
      ],
      "text/latex": [
       "A tibble: 11 × 3\n",
       "\\begin{tabular}{lll}\n",
       " y & n & prob\\\\\n",
       " <int> & <int> & <dbl>\\\\\n",
       "\\hline\n",
       "\t  2 & 1 & 0.02777778\\\\\n",
       "\t  3 & 2 & 0.05555556\\\\\n",
       "\t  4 & 3 & 0.08333333\\\\\n",
       "\t  5 & 4 & 0.11111111\\\\\n",
       "\t  6 & 5 & 0.13888889\\\\\n",
       "\t  7 & 6 & 0.16666667\\\\\n",
       "\t  8 & 5 & 0.13888889\\\\\n",
       "\t  9 & 4 & 0.11111111\\\\\n",
       "\t 10 & 3 & 0.08333333\\\\\n",
       "\t 11 & 2 & 0.05555556\\\\\n",
       "\t 12 & 1 & 0.02777778\\\\\n",
       "\\end{tabular}\n"
      ],
      "text/markdown": [
       "\n",
       "A tibble: 11 × 3\n",
       "\n",
       "| y &lt;int&gt; | n &lt;int&gt; | prob &lt;dbl&gt; |\n",
       "|---|---|---|\n",
       "|  2 | 1 | 0.02777778 |\n",
       "|  3 | 2 | 0.05555556 |\n",
       "|  4 | 3 | 0.08333333 |\n",
       "|  5 | 4 | 0.11111111 |\n",
       "|  6 | 5 | 0.13888889 |\n",
       "|  7 | 6 | 0.16666667 |\n",
       "|  8 | 5 | 0.13888889 |\n",
       "|  9 | 4 | 0.11111111 |\n",
       "| 10 | 3 | 0.08333333 |\n",
       "| 11 | 2 | 0.05555556 |\n",
       "| 12 | 1 | 0.02777778 |\n",
       "\n"
      ],
      "text/plain": [
       "   y  n prob      \n",
       "1   2 1 0.02777778\n",
       "2   3 2 0.05555556\n",
       "3   4 3 0.08333333\n",
       "4   5 4 0.11111111\n",
       "5   6 5 0.13888889\n",
       "6   7 6 0.16666667\n",
       "7   8 5 0.13888889\n",
       "8   9 4 0.11111111\n",
       "9  10 3 0.08333333\n",
       "10 11 2 0.05555556\n",
       "11 12 1 0.02777778"
      ]
     },
     "metadata": {},
     "output_type": "display_data"
    }
   ],
   "source": [
    "expand_grid(x1=1:6,x2=1:6) %>% mutate(y=x1+x2) %>% count(y) %>% mutate(prob=n/36)"
   ]
  },
  {
   "attachments": {},
   "cell_type": "markdown",
   "id": "10733a7c",
   "metadata": {},
   "source": [
    "+ Find the probability density function of U."
   ]
  },
  {
   "cell_type": "code",
   "execution_count": 6,
   "id": "eb1b820d",
   "metadata": {
    "scrolled": true,
    "vscode": {
     "languageId": "r"
    }
   },
   "outputs": [
    {
     "data": {
      "text/html": [
       "<table class=\"dataframe\">\n",
       "<caption>A rowwise_df: 6 × 3</caption>\n",
       "<thead>\n",
       "\t<tr><th scope=col>u</th><th scope=col>n</th><th scope=col>prob</th></tr>\n",
       "\t<tr><th scope=col>&lt;int&gt;</th><th scope=col>&lt;int&gt;</th><th scope=col>&lt;dbl&gt;</th></tr>\n",
       "</thead>\n",
       "<tbody>\n",
       "\t<tr><td>1</td><td>11</td><td>0.30555556</td></tr>\n",
       "\t<tr><td>2</td><td> 9</td><td>0.25000000</td></tr>\n",
       "\t<tr><td>3</td><td> 7</td><td>0.19444444</td></tr>\n",
       "\t<tr><td>4</td><td> 5</td><td>0.13888889</td></tr>\n",
       "\t<tr><td>5</td><td> 3</td><td>0.08333333</td></tr>\n",
       "\t<tr><td>6</td><td> 1</td><td>0.02777778</td></tr>\n",
       "</tbody>\n",
       "</table>\n"
      ],
      "text/latex": [
       "A rowwise\\_df: 6 × 3\n",
       "\\begin{tabular}{lll}\n",
       " u & n & prob\\\\\n",
       " <int> & <int> & <dbl>\\\\\n",
       "\\hline\n",
       "\t 1 & 11 & 0.30555556\\\\\n",
       "\t 2 &  9 & 0.25000000\\\\\n",
       "\t 3 &  7 & 0.19444444\\\\\n",
       "\t 4 &  5 & 0.13888889\\\\\n",
       "\t 5 &  3 & 0.08333333\\\\\n",
       "\t 6 &  1 & 0.02777778\\\\\n",
       "\\end{tabular}\n"
      ],
      "text/markdown": [
       "\n",
       "A rowwise_df: 6 × 3\n",
       "\n",
       "| u &lt;int&gt; | n &lt;int&gt; | prob &lt;dbl&gt; |\n",
       "|---|---|---|\n",
       "| 1 | 11 | 0.30555556 |\n",
       "| 2 |  9 | 0.25000000 |\n",
       "| 3 |  7 | 0.19444444 |\n",
       "| 4 |  5 | 0.13888889 |\n",
       "| 5 |  3 | 0.08333333 |\n",
       "| 6 |  1 | 0.02777778 |\n",
       "\n"
      ],
      "text/plain": [
       "  u n  prob      \n",
       "1 1 11 0.30555556\n",
       "2 2  9 0.25000000\n",
       "3 3  7 0.19444444\n",
       "4 4  5 0.13888889\n",
       "5 5  3 0.08333333\n",
       "6 6  1 0.02777778"
      ]
     },
     "metadata": {},
     "output_type": "display_data"
    }
   ],
   "source": [
    "expand_grid(x1=1:6,x2=1:6) %>% rowwise() %>% mutate(u=min(x1,x2)) %>% \n",
    "                     count(u) %>% mutate(prob=n/36)"
   ]
  },
  {
   "attachments": {},
   "cell_type": "markdown",
   "id": "3f2e4337",
   "metadata": {},
   "source": [
    "+ Find the probability density function of V ."
   ]
  },
  {
   "cell_type": "code",
   "execution_count": 7,
   "id": "753f294a",
   "metadata": {
    "scrolled": true,
    "vscode": {
     "languageId": "r"
    }
   },
   "outputs": [
    {
     "data": {
      "text/html": [
       "<table class=\"dataframe\">\n",
       "<caption>A rowwise_df: 6 × 3</caption>\n",
       "<thead>\n",
       "\t<tr><th scope=col>v</th><th scope=col>n</th><th scope=col>prob</th></tr>\n",
       "\t<tr><th scope=col>&lt;int&gt;</th><th scope=col>&lt;int&gt;</th><th scope=col>&lt;dbl&gt;</th></tr>\n",
       "</thead>\n",
       "<tbody>\n",
       "\t<tr><td>1</td><td> 1</td><td>0.02777778</td></tr>\n",
       "\t<tr><td>2</td><td> 3</td><td>0.08333333</td></tr>\n",
       "\t<tr><td>3</td><td> 5</td><td>0.13888889</td></tr>\n",
       "\t<tr><td>4</td><td> 7</td><td>0.19444444</td></tr>\n",
       "\t<tr><td>5</td><td> 9</td><td>0.25000000</td></tr>\n",
       "\t<tr><td>6</td><td>11</td><td>0.30555556</td></tr>\n",
       "</tbody>\n",
       "</table>\n"
      ],
      "text/latex": [
       "A rowwise\\_df: 6 × 3\n",
       "\\begin{tabular}{lll}\n",
       " v & n & prob\\\\\n",
       " <int> & <int> & <dbl>\\\\\n",
       "\\hline\n",
       "\t 1 &  1 & 0.02777778\\\\\n",
       "\t 2 &  3 & 0.08333333\\\\\n",
       "\t 3 &  5 & 0.13888889\\\\\n",
       "\t 4 &  7 & 0.19444444\\\\\n",
       "\t 5 &  9 & 0.25000000\\\\\n",
       "\t 6 & 11 & 0.30555556\\\\\n",
       "\\end{tabular}\n"
      ],
      "text/markdown": [
       "\n",
       "A rowwise_df: 6 × 3\n",
       "\n",
       "| v &lt;int&gt; | n &lt;int&gt; | prob &lt;dbl&gt; |\n",
       "|---|---|---|\n",
       "| 1 |  1 | 0.02777778 |\n",
       "| 2 |  3 | 0.08333333 |\n",
       "| 3 |  5 | 0.13888889 |\n",
       "| 4 |  7 | 0.19444444 |\n",
       "| 5 |  9 | 0.25000000 |\n",
       "| 6 | 11 | 0.30555556 |\n",
       "\n"
      ],
      "text/plain": [
       "  v n  prob      \n",
       "1 1  1 0.02777778\n",
       "2 2  3 0.08333333\n",
       "3 3  5 0.13888889\n",
       "4 4  7 0.19444444\n",
       "5 5  9 0.25000000\n",
       "6 6 11 0.30555556"
      ]
     },
     "metadata": {},
     "output_type": "display_data"
    }
   ],
   "source": [
    "expand_grid(x1=1:6,x2=1:6) %>% rowwise() %>% mutate(v=max(x1,x2)) %>% \n",
    "                     count(v) %>% mutate(prob=n/36)"
   ]
  },
  {
   "attachments": {},
   "cell_type": "markdown",
   "id": "e6c7043c",
   "metadata": {},
   "source": [
    "+ Find the probability density function of $(U, V )$."
   ]
  },
  {
   "cell_type": "code",
   "execution_count": 8,
   "id": "ab637149",
   "metadata": {
    "scrolled": true,
    "vscode": {
     "languageId": "r"
    }
   },
   "outputs": [
    {
     "data": {
      "text/html": [
       "<table class=\"dataframe\">\n",
       "<caption>A rowwise_df: 21 × 4</caption>\n",
       "<thead>\n",
       "\t<tr><th scope=col>v</th><th scope=col>u</th><th scope=col>n</th><th scope=col>prob</th></tr>\n",
       "\t<tr><th scope=col>&lt;int&gt;</th><th scope=col>&lt;int&gt;</th><th scope=col>&lt;int&gt;</th><th scope=col>&lt;dbl&gt;</th></tr>\n",
       "</thead>\n",
       "<tbody>\n",
       "\t<tr><td>1</td><td>1</td><td>1</td><td>0.02777778</td></tr>\n",
       "\t<tr><td>2</td><td>1</td><td>2</td><td>0.05555556</td></tr>\n",
       "\t<tr><td>2</td><td>2</td><td>1</td><td>0.02777778</td></tr>\n",
       "\t<tr><td>3</td><td>1</td><td>2</td><td>0.05555556</td></tr>\n",
       "\t<tr><td>3</td><td>2</td><td>2</td><td>0.05555556</td></tr>\n",
       "\t<tr><td>3</td><td>3</td><td>1</td><td>0.02777778</td></tr>\n",
       "\t<tr><td>4</td><td>1</td><td>2</td><td>0.05555556</td></tr>\n",
       "\t<tr><td>4</td><td>2</td><td>2</td><td>0.05555556</td></tr>\n",
       "\t<tr><td>4</td><td>3</td><td>2</td><td>0.05555556</td></tr>\n",
       "\t<tr><td>4</td><td>4</td><td>1</td><td>0.02777778</td></tr>\n",
       "\t<tr><td>5</td><td>1</td><td>2</td><td>0.05555556</td></tr>\n",
       "\t<tr><td>5</td><td>2</td><td>2</td><td>0.05555556</td></tr>\n",
       "\t<tr><td>5</td><td>3</td><td>2</td><td>0.05555556</td></tr>\n",
       "\t<tr><td>5</td><td>4</td><td>2</td><td>0.05555556</td></tr>\n",
       "\t<tr><td>5</td><td>5</td><td>1</td><td>0.02777778</td></tr>\n",
       "\t<tr><td>6</td><td>1</td><td>2</td><td>0.05555556</td></tr>\n",
       "\t<tr><td>6</td><td>2</td><td>2</td><td>0.05555556</td></tr>\n",
       "\t<tr><td>6</td><td>3</td><td>2</td><td>0.05555556</td></tr>\n",
       "\t<tr><td>6</td><td>4</td><td>2</td><td>0.05555556</td></tr>\n",
       "\t<tr><td>6</td><td>5</td><td>2</td><td>0.05555556</td></tr>\n",
       "\t<tr><td>6</td><td>6</td><td>1</td><td>0.02777778</td></tr>\n",
       "</tbody>\n",
       "</table>\n"
      ],
      "text/latex": [
       "A rowwise\\_df: 21 × 4\n",
       "\\begin{tabular}{llll}\n",
       " v & u & n & prob\\\\\n",
       " <int> & <int> & <int> & <dbl>\\\\\n",
       "\\hline\n",
       "\t 1 & 1 & 1 & 0.02777778\\\\\n",
       "\t 2 & 1 & 2 & 0.05555556\\\\\n",
       "\t 2 & 2 & 1 & 0.02777778\\\\\n",
       "\t 3 & 1 & 2 & 0.05555556\\\\\n",
       "\t 3 & 2 & 2 & 0.05555556\\\\\n",
       "\t 3 & 3 & 1 & 0.02777778\\\\\n",
       "\t 4 & 1 & 2 & 0.05555556\\\\\n",
       "\t 4 & 2 & 2 & 0.05555556\\\\\n",
       "\t 4 & 3 & 2 & 0.05555556\\\\\n",
       "\t 4 & 4 & 1 & 0.02777778\\\\\n",
       "\t 5 & 1 & 2 & 0.05555556\\\\\n",
       "\t 5 & 2 & 2 & 0.05555556\\\\\n",
       "\t 5 & 3 & 2 & 0.05555556\\\\\n",
       "\t 5 & 4 & 2 & 0.05555556\\\\\n",
       "\t 5 & 5 & 1 & 0.02777778\\\\\n",
       "\t 6 & 1 & 2 & 0.05555556\\\\\n",
       "\t 6 & 2 & 2 & 0.05555556\\\\\n",
       "\t 6 & 3 & 2 & 0.05555556\\\\\n",
       "\t 6 & 4 & 2 & 0.05555556\\\\\n",
       "\t 6 & 5 & 2 & 0.05555556\\\\\n",
       "\t 6 & 6 & 1 & 0.02777778\\\\\n",
       "\\end{tabular}\n"
      ],
      "text/markdown": [
       "\n",
       "A rowwise_df: 21 × 4\n",
       "\n",
       "| v &lt;int&gt; | u &lt;int&gt; | n &lt;int&gt; | prob &lt;dbl&gt; |\n",
       "|---|---|---|---|\n",
       "| 1 | 1 | 1 | 0.02777778 |\n",
       "| 2 | 1 | 2 | 0.05555556 |\n",
       "| 2 | 2 | 1 | 0.02777778 |\n",
       "| 3 | 1 | 2 | 0.05555556 |\n",
       "| 3 | 2 | 2 | 0.05555556 |\n",
       "| 3 | 3 | 1 | 0.02777778 |\n",
       "| 4 | 1 | 2 | 0.05555556 |\n",
       "| 4 | 2 | 2 | 0.05555556 |\n",
       "| 4 | 3 | 2 | 0.05555556 |\n",
       "| 4 | 4 | 1 | 0.02777778 |\n",
       "| 5 | 1 | 2 | 0.05555556 |\n",
       "| 5 | 2 | 2 | 0.05555556 |\n",
       "| 5 | 3 | 2 | 0.05555556 |\n",
       "| 5 | 4 | 2 | 0.05555556 |\n",
       "| 5 | 5 | 1 | 0.02777778 |\n",
       "| 6 | 1 | 2 | 0.05555556 |\n",
       "| 6 | 2 | 2 | 0.05555556 |\n",
       "| 6 | 3 | 2 | 0.05555556 |\n",
       "| 6 | 4 | 2 | 0.05555556 |\n",
       "| 6 | 5 | 2 | 0.05555556 |\n",
       "| 6 | 6 | 1 | 0.02777778 |\n",
       "\n"
      ],
      "text/plain": [
       "   v u n prob      \n",
       "1  1 1 1 0.02777778\n",
       "2  2 1 2 0.05555556\n",
       "3  2 2 1 0.02777778\n",
       "4  3 1 2 0.05555556\n",
       "5  3 2 2 0.05555556\n",
       "6  3 3 1 0.02777778\n",
       "7  4 1 2 0.05555556\n",
       "8  4 2 2 0.05555556\n",
       "9  4 3 2 0.05555556\n",
       "10 4 4 1 0.02777778\n",
       "11 5 1 2 0.05555556\n",
       "12 5 2 2 0.05555556\n",
       "13 5 3 2 0.05555556\n",
       "14 5 4 2 0.05555556\n",
       "15 5 5 1 0.02777778\n",
       "16 6 1 2 0.05555556\n",
       "17 6 2 2 0.05555556\n",
       "18 6 3 2 0.05555556\n",
       "19 6 4 2 0.05555556\n",
       "20 6 5 2 0.05555556\n",
       "21 6 6 1 0.02777778"
      ]
     },
     "metadata": {},
     "output_type": "display_data"
    }
   ],
   "source": [
    "expand_grid(x1=1:6,x2=1:6) %>% rowwise() %>% mutate(v=max(x1,x2),u=min(x1,x2)) %>% \n",
    "                     count(v,u) %>% mutate(prob=n/36)"
   ]
  },
  {
   "attachments": {},
   "cell_type": "markdown",
   "id": "d6d8bcce",
   "metadata": {},
   "source": [
    "<h2 style=\"color:purple;text-align:center\">Exercise 2<h2>"
   ]
  },
  {
   "attachments": {},
   "cell_type": "markdown",
   "id": "d22f76b8",
   "metadata": {},
   "source": [
    "R offers for a large number of probability distributions functions. The\n",
    "commands for each distribution are prepended with a letter to indicate\n",
    "the functionality\n",
    "   +  “d” returns the height of the probability density function\n",
    "   + “p” returns the cumulative density function\n",
    "   + “q” returns the inverse cumulative density function (quantiles)\n",
    "   + “r” returns randomly generated numbers\n"
   ]
  },
  {
   "attachments": {},
   "cell_type": "markdown",
   "id": "c854a78e",
   "metadata": {},
   "source": [
    "Consider an urn with 100 balls, where are 30 balls of them are red. 20\n",
    "balls are randomly drawn and let X be the number of red drawn balls."
   ]
  },
  {
   "attachments": {},
   "cell_type": "markdown",
   "id": "d7d367b8",
   "metadata": {},
   "source": [
    "+ Determine the distribution of X if the balls are drawn with resp.\n",
    "   without replacement."
   ]
  },
  {
   "attachments": {},
   "cell_type": "markdown",
   "id": "1db8081f",
   "metadata": {},
   "source": [
    "## without replacement."
   ]
  },
  {
   "cell_type": "code",
   "execution_count": null,
   "id": "f6a166c2",
   "metadata": {
    "vscode": {
     "languageId": "r"
    }
   },
   "outputs": [],
   "source": [
    "# B~(n=20,prob=30/100) # binomial distribution"
   ]
  },
  {
   "attachments": {},
   "cell_type": "markdown",
   "id": "6f69fe11",
   "metadata": {},
   "source": [
    "+ Plot the density of X."
   ]
  },
  {
   "cell_type": "code",
   "execution_count": 12,
   "id": "e8cbc9f7",
   "metadata": {
    "scrolled": true,
    "vscode": {
     "languageId": "r"
    }
   },
   "outputs": [
    {
     "data": {
      "text/html": [
       "<style>\n",
       ".list-inline {list-style: none; margin:0; padding: 0}\n",
       ".list-inline>li {display: inline-block}\n",
       ".list-inline>li:not(:last-child)::after {content: \"\\00b7\"; padding: 0 .5ex}\n",
       "</style>\n",
       "<ol class=list-inline><li>-10</li><li>-9</li><li>-8</li><li>-7</li><li>-6</li><li>-5</li><li>-4</li><li>-3</li><li>-2</li><li>-1</li><li>0</li><li>1</li><li>2</li><li>3</li><li>4</li><li>5</li><li>6</li><li>7</li><li>8</li><li>9</li><li>10</li></ol>\n"
      ],
      "text/latex": [
       "\\begin{enumerate*}\n",
       "\\item -10\n",
       "\\item -9\n",
       "\\item -8\n",
       "\\item -7\n",
       "\\item -6\n",
       "\\item -5\n",
       "\\item -4\n",
       "\\item -3\n",
       "\\item -2\n",
       "\\item -1\n",
       "\\item 0\n",
       "\\item 1\n",
       "\\item 2\n",
       "\\item 3\n",
       "\\item 4\n",
       "\\item 5\n",
       "\\item 6\n",
       "\\item 7\n",
       "\\item 8\n",
       "\\item 9\n",
       "\\item 10\n",
       "\\end{enumerate*}\n"
      ],
      "text/markdown": [
       "1. -10\n",
       "2. -9\n",
       "3. -8\n",
       "4. -7\n",
       "5. -6\n",
       "6. -5\n",
       "7. -4\n",
       "8. -3\n",
       "9. -2\n",
       "10. -1\n",
       "11. 0\n",
       "12. 1\n",
       "13. 2\n",
       "14. 3\n",
       "15. 4\n",
       "16. 5\n",
       "17. 6\n",
       "18. 7\n",
       "19. 8\n",
       "20. 9\n",
       "21. 10\n",
       "\n",
       "\n"
      ],
      "text/plain": [
       " [1] -10  -9  -8  -7  -6  -5  -4  -3  -2  -1   0   1   2   3   4   5   6   7   8\n",
       "[20]   9  10"
      ]
     },
     "metadata": {},
     "output_type": "display_data"
    }
   ],
   "source": [
    "x=seq(-10,10)\n",
    "x"
   ]
  },
  {
   "cell_type": "code",
   "execution_count": 13,
   "id": "0735d8d0",
   "metadata": {
    "scrolled": true,
    "vscode": {
     "languageId": "r"
    }
   },
   "outputs": [
    {
     "data": {
      "image/png": "[encoded data removed]",
      "text/plain": [
       "plot without title"
      ]
     },
     "metadata": {
      "image/png": {
       "height": 420,
       "width": 420
      }
     },
     "output_type": "display_data"
    }
   ],
   "source": [
    "plot(x,dbinom(x,size=20,prob=30/100))"
   ]
  },
  {
   "cell_type": "code",
   "execution_count": 14,
   "id": "2ff2576a",
   "metadata": {
    "scrolled": true,
    "vscode": {
     "languageId": "r"
    }
   },
   "outputs": [
    {
     "data": {
      "image/png": "[encoded data removed]",
      "text/plain": [
       "plot without title"
      ]
     },
     "metadata": {
      "image/png": {
       "height": 420,
       "width": 420
      }
     },
     "output_type": "display_data"
    }
   ],
   "source": [
    "plot(x,dbinom(x,size=20,prob=30/100),type='l')"
   ]
  },
  {
   "attachments": {},
   "cell_type": "markdown",
   "id": "e762fef5",
   "metadata": {},
   "source": [
    "+ Generate a sample of size 20 of values of X."
   ]
  },
  {
   "cell_type": "code",
   "execution_count": 15,
   "id": "22eba58a",
   "metadata": {
    "scrolled": true,
    "vscode": {
     "languageId": "r"
    }
   },
   "outputs": [
    {
     "data": {
      "text/html": [
       "<style>\n",
       ".list-inline {list-style: none; margin:0; padding: 0}\n",
       ".list-inline>li {display: inline-block}\n",
       ".list-inline>li:not(:last-child)::after {content: \"\\00b7\"; padding: 0 .5ex}\n",
       "</style>\n",
       "<ol class=list-inline><li>2</li><li>8</li><li>5</li><li>5</li><li>6</li><li>5</li><li>6</li><li>5</li><li>6</li><li>8</li><li>6</li><li>6</li><li>10</li><li>9</li><li>3</li><li>5</li><li>4</li><li>4</li><li>7</li><li>8</li></ol>\n"
      ],
      "text/latex": [
       "\\begin{enumerate*}\n",
       "\\item 2\n",
       "\\item 8\n",
       "\\item 5\n",
       "\\item 5\n",
       "\\item 6\n",
       "\\item 5\n",
       "\\item 6\n",
       "\\item 5\n",
       "\\item 6\n",
       "\\item 8\n",
       "\\item 6\n",
       "\\item 6\n",
       "\\item 10\n",
       "\\item 9\n",
       "\\item 3\n",
       "\\item 5\n",
       "\\item 4\n",
       "\\item 4\n",
       "\\item 7\n",
       "\\item 8\n",
       "\\end{enumerate*}\n"
      ],
      "text/markdown": [
       "1. 2\n",
       "2. 8\n",
       "3. 5\n",
       "4. 5\n",
       "5. 6\n",
       "6. 5\n",
       "7. 6\n",
       "8. 5\n",
       "9. 6\n",
       "10. 8\n",
       "11. 6\n",
       "12. 6\n",
       "13. 10\n",
       "14. 9\n",
       "15. 3\n",
       "16. 5\n",
       "17. 4\n",
       "18. 4\n",
       "19. 7\n",
       "20. 8\n",
       "\n",
       "\n"
      ],
      "text/plain": [
       " [1]  2  8  5  5  6  5  6  5  6  8  6  6 10  9  3  5  4  4  7  8"
      ]
     },
     "metadata": {},
     "output_type": "display_data"
    }
   ],
   "source": [
    "rbinom(n = 20,size=20,prob=30/100)"
   ]
  },
  {
   "attachments": {},
   "cell_type": "markdown",
   "id": "b6b5a5d6",
   "metadata": {},
   "source": [
    "+ Compute $P (5 < X < 15)$."
   ]
  },
  {
   "cell_type": "code",
   "execution_count": 16,
   "id": "09a120be",
   "metadata": {
    "scrolled": true,
    "vscode": {
     "languageId": "r"
    }
   },
   "outputs": [
    {
     "data": {
      "text/html": [
       "0.583586230530565"
      ],
      "text/latex": [
       "0.583586230530565"
      ],
      "text/markdown": [
       "0.583586230530565"
      ],
      "text/plain": [
       "[1] 0.5835862"
      ]
     },
     "metadata": {},
     "output_type": "display_data"
    }
   ],
   "source": [
    "pbinom(q = 14,size=20,prob=30/100) - pbinom(q = 5,size=20,prob=30/100)"
   ]
  },
  {
   "attachments": {},
   "cell_type": "markdown",
   "id": "68a36032",
   "metadata": {},
   "source": [
    "# or"
   ]
  },
  {
   "cell_type": "code",
   "execution_count": 17,
   "id": "11143a62",
   "metadata": {
    "scrolled": true,
    "vscode": {
     "languageId": "r"
    }
   },
   "outputs": [
    {
     "data": {
      "text/html": [
       "0.583586230530565"
      ],
      "text/latex": [
       "0.583586230530565"
      ],
      "text/markdown": [
       "0.583586230530565"
      ],
      "text/plain": [
       "[1] 0.5835862"
      ]
     },
     "metadata": {},
     "output_type": "display_data"
    }
   ],
   "source": [
    "sum(dbinom(6:14,size=20,prob=30/100))"
   ]
  },
  {
   "attachments": {},
   "cell_type": "markdown",
   "id": "bf5b547b",
   "metadata": {},
   "source": [
    "+ Determine the 25% quantile, the median and the 75% quantile of\n",
    "  X."
   ]
  },
  {
   "cell_type": "code",
   "execution_count": 18,
   "id": "c116ce28",
   "metadata": {
    "scrolled": true,
    "vscode": {
     "languageId": "r"
    }
   },
   "outputs": [
    {
     "data": {
      "text/html": [
       "<style>\n",
       ".list-inline {list-style: none; margin:0; padding: 0}\n",
       ".list-inline>li {display: inline-block}\n",
       ".list-inline>li:not(:last-child)::after {content: \"\\00b7\"; padding: 0 .5ex}\n",
       "</style>\n",
       "<ol class=list-inline><li>5</li><li>7</li></ol>\n"
      ],
      "text/latex": [
       "\\begin{enumerate*}\n",
       "\\item 5\n",
       "\\item 7\n",
       "\\end{enumerate*}\n"
      ],
      "text/markdown": [
       "1. 5\n",
       "2. 7\n",
       "\n",
       "\n"
      ],
      "text/plain": [
       "[1] 5 7"
      ]
     },
     "metadata": {},
     "output_type": "display_data"
    }
   ],
   "source": [
    "qbinom(c(0.25,0.75),size=20,prob=30/100)"
   ]
  },
  {
   "attachments": {},
   "cell_type": "markdown",
   "id": "2cb9c976",
   "metadata": {},
   "source": [
    "# With Replacement"
   ]
  },
  {
   "cell_type": "code",
   "execution_count": null,
   "id": "61350bb9",
   "metadata": {
    "vscode": {
     "languageId": "r"
    }
   },
   "outputs": [],
   "source": [
    "## H~(n=20,M=30,N=100) hyper geometrical distributionb"
   ]
  },
  {
   "cell_type": "code",
   "execution_count": 21,
   "id": "65c1e1d6",
   "metadata": {
    "scrolled": true,
    "vscode": {
     "languageId": "r"
    }
   },
   "outputs": [
    {
     "data": {
      "image/png": "[encoded data removed]",
      "text/plain": [
       "plot without title"
      ]
     },
     "metadata": {
      "image/png": {
       "height": 420,
       "width": 420
      }
     },
     "output_type": "display_data"
    }
   ],
   "source": [
    "plot(x,dhyper(x = x,m=30,n=70,k=20),type='l')"
   ]
  },
  {
   "cell_type": "code",
   "execution_count": 23,
   "id": "e793344f",
   "metadata": {
    "scrolled": true,
    "vscode": {
     "languageId": "r"
    }
   },
   "outputs": [
    {
     "data": {
      "text/html": [
       "<style>\n",
       ".list-inline {list-style: none; margin:0; padding: 0}\n",
       ".list-inline>li {display: inline-block}\n",
       ".list-inline>li:not(:last-child)::after {content: \"\\00b7\"; padding: 0 .5ex}\n",
       "</style>\n",
       "<ol class=list-inline><li>7</li><li>6</li><li>6</li><li>5</li><li>5</li><li>3</li><li>8</li><li>4</li><li>5</li><li>5</li><li>4</li><li>8</li><li>8</li><li>8</li><li>4</li><li>7</li><li>5</li><li>8</li><li>7</li><li>7</li></ol>\n"
      ],
      "text/latex": [
       "\\begin{enumerate*}\n",
       "\\item 7\n",
       "\\item 6\n",
       "\\item 6\n",
       "\\item 5\n",
       "\\item 5\n",
       "\\item 3\n",
       "\\item 8\n",
       "\\item 4\n",
       "\\item 5\n",
       "\\item 5\n",
       "\\item 4\n",
       "\\item 8\n",
       "\\item 8\n",
       "\\item 8\n",
       "\\item 4\n",
       "\\item 7\n",
       "\\item 5\n",
       "\\item 8\n",
       "\\item 7\n",
       "\\item 7\n",
       "\\end{enumerate*}\n"
      ],
      "text/markdown": [
       "1. 7\n",
       "2. 6\n",
       "3. 6\n",
       "4. 5\n",
       "5. 5\n",
       "6. 3\n",
       "7. 8\n",
       "8. 4\n",
       "9. 5\n",
       "10. 5\n",
       "11. 4\n",
       "12. 8\n",
       "13. 8\n",
       "14. 8\n",
       "15. 4\n",
       "16. 7\n",
       "17. 5\n",
       "18. 8\n",
       "19. 7\n",
       "20. 7\n",
       "\n",
       "\n"
      ],
      "text/plain": [
       " [1] 7 6 6 5 5 3 8 4 5 5 4 8 8 8 4 7 5 8 7 7"
      ]
     },
     "metadata": {},
     "output_type": "display_data"
    }
   ],
   "source": [
    "rhyper(20,m=30,n=70,k=20) # random sample of size 20"
   ]
  },
  {
   "cell_type": "code",
   "execution_count": 25,
   "id": "28423fd7",
   "metadata": {
    "scrolled": true,
    "vscode": {
     "languageId": "r"
    }
   },
   "outputs": [
    {
     "data": {
      "text/html": [
       "0.599007442644728"
      ],
      "text/latex": [
       "0.599007442644728"
      ],
      "text/markdown": [
       "0.599007442644728"
      ],
      "text/plain": [
       "[1] 0.5990074"
      ]
     },
     "metadata": {},
     "output_type": "display_data"
    }
   ],
   "source": [
    "phyper(14,m=30,n=70,k=20) - phyper(5,m=30,n=70,k=20) # p(15>x>5)"
   ]
  },
  {
   "attachments": {},
   "cell_type": "markdown",
   "id": "243f683f",
   "metadata": {},
   "source": [
    "# or"
   ]
  },
  {
   "cell_type": "code",
   "execution_count": 26,
   "id": "15c5aa20",
   "metadata": {
    "vscode": {
     "languageId": "r"
    }
   },
   "outputs": [
    {
     "data": {
      "text/html": [
       "0.599007442644728"
      ],
      "text/latex": [
       "0.599007442644728"
      ],
      "text/markdown": [
       "0.599007442644728"
      ],
      "text/plain": [
       "[1] 0.5990074"
      ]
     },
     "metadata": {},
     "output_type": "display_data"
    }
   ],
   "source": [
    "sum(dhyper(6:14,m=30,n=70,k=20))"
   ]
  },
  {
   "attachments": {},
   "cell_type": "markdown",
   "id": "96e48f00",
   "metadata": {},
   "source": [
    "<h2 style=\"color:purple;text-align:center\">Exercise 3<h2>"
   ]
  },
  {
   "attachments": {},
   "cell_type": "markdown",
   "id": "374a29e7",
   "metadata": {},
   "source": [
    "+ In a game a player can bet $1$ doller on any of the numbers $1, 2, 3, 4, 5$ and\n",
    "      6 Three dice are rolled. If the players number appears k times, where $k ≥ 1$, the           player gets $k$ doller back plus the original stack of 1 doller. Over the\n",
    "      long run, how many cents per game a player expects to win or lose\n",
    "      playing this game?"
   ]
  },
  {
   "cell_type": "code",
   "execution_count": 35,
   "id": "21f49366",
   "metadata": {
    "scrolled": true,
    "vscode": {
     "languageId": "r"
    }
   },
   "outputs": [
    {
     "data": {
      "text/html": [
       "<table class=\"dataframe\">\n",
       "<caption>A tibble: 4 × 4</caption>\n",
       "<thead>\n",
       "\t<tr><th scope=col>x</th><th scope=col>earn</th><th scope=col>prob</th><th scope=col>prob.mul.earn</th></tr>\n",
       "\t<tr><th scope=col>&lt;int&gt;</th><th scope=col>&lt;dbl&gt;</th><th scope=col>&lt;dbl&gt;</th><th scope=col>&lt;dbl&gt;</th></tr>\n",
       "</thead>\n",
       "<tbody>\n",
       "\t<tr><td>0</td><td>-1</td><td>0.57870370</td><td>-0.57870370</td></tr>\n",
       "\t<tr><td>1</td><td> 1</td><td>0.34722222</td><td> 0.34722222</td></tr>\n",
       "\t<tr><td>2</td><td> 2</td><td>0.06944444</td><td> 0.13888889</td></tr>\n",
       "\t<tr><td>3</td><td> 3</td><td>0.00462963</td><td> 0.01388889</td></tr>\n",
       "</tbody>\n",
       "</table>\n"
      ],
      "text/latex": [
       "A tibble: 4 × 4\n",
       "\\begin{tabular}{llll}\n",
       " x & earn & prob & prob.mul.earn\\\\\n",
       " <int> & <dbl> & <dbl> & <dbl>\\\\\n",
       "\\hline\n",
       "\t 0 & -1 & 0.57870370 & -0.57870370\\\\\n",
       "\t 1 &  1 & 0.34722222 &  0.34722222\\\\\n",
       "\t 2 &  2 & 0.06944444 &  0.13888889\\\\\n",
       "\t 3 &  3 & 0.00462963 &  0.01388889\\\\\n",
       "\\end{tabular}\n"
      ],
      "text/markdown": [
       "\n",
       "A tibble: 4 × 4\n",
       "\n",
       "| x &lt;int&gt; | earn &lt;dbl&gt; | prob &lt;dbl&gt; | prob.mul.earn &lt;dbl&gt; |\n",
       "|---|---|---|---|\n",
       "| 0 | -1 | 0.57870370 | -0.57870370 |\n",
       "| 1 |  1 | 0.34722222 |  0.34722222 |\n",
       "| 2 |  2 | 0.06944444 |  0.13888889 |\n",
       "| 3 |  3 | 0.00462963 |  0.01388889 |\n",
       "\n"
      ],
      "text/plain": [
       "  x earn prob       prob.mul.earn\n",
       "1 0 -1   0.57870370 -0.57870370  \n",
       "2 1  1   0.34722222  0.34722222  \n",
       "3 2  2   0.06944444  0.13888889  \n",
       "4 3  3   0.00462963  0.01388889  "
      ]
     },
     "metadata": {},
     "output_type": "display_data"
    }
   ],
   "source": [
    "tibble(x=0:3,earn=if_else(x==0,-1,x),prob=dbinom(x,size=3,prob=1/6)) %>% \n",
    "       mutate(prob.mul.earn=prob*earn)"
   ]
  },
  {
   "cell_type": "code",
   "execution_count": 32,
   "id": "58545922",
   "metadata": {
    "scrolled": true,
    "vscode": {
     "languageId": "r"
    }
   },
   "outputs": [
    {
     "data": {
      "text/html": [
       "<table class=\"dataframe\">\n",
       "<caption>A tibble: 4 × 1</caption>\n",
       "<thead>\n",
       "\t<tr><th scope=col>prob.mul.earn</th></tr>\n",
       "\t<tr><th scope=col>&lt;dbl&gt;</th></tr>\n",
       "</thead>\n",
       "<tbody>\n",
       "\t<tr><td>-0.57870370</td></tr>\n",
       "\t<tr><td> 0.34722222</td></tr>\n",
       "\t<tr><td> 0.13888889</td></tr>\n",
       "\t<tr><td> 0.01388889</td></tr>\n",
       "</tbody>\n",
       "</table>\n"
      ],
      "text/latex": [
       "A tibble: 4 × 1\n",
       "\\begin{tabular}{l}\n",
       " prob.mul.earn\\\\\n",
       " <dbl>\\\\\n",
       "\\hline\n",
       "\t -0.57870370\\\\\n",
       "\t  0.34722222\\\\\n",
       "\t  0.13888889\\\\\n",
       "\t  0.01388889\\\\\n",
       "\\end{tabular}\n"
      ],
      "text/markdown": [
       "\n",
       "A tibble: 4 × 1\n",
       "\n",
       "| prob.mul.earn &lt;dbl&gt; |\n",
       "|---|\n",
       "| -0.57870370 |\n",
       "|  0.34722222 |\n",
       "|  0.13888889 |\n",
       "|  0.01388889 |\n",
       "\n"
      ],
      "text/plain": [
       "  prob.mul.earn\n",
       "1 -0.57870370  \n",
       "2  0.34722222  \n",
       "3  0.13888889  \n",
       "4  0.01388889  "
      ]
     },
     "metadata": {},
     "output_type": "display_data"
    }
   ],
   "source": [
    "tibble(x=0:3,earn=if_else(x==0,-1,x),prob=dbinom(x,size=3,prob=1/6)) %>% \n",
    "       mutate(prob.mul.earn=prob*earn) %>% select(prob.mul.earn) "
   ]
  },
  {
   "cell_type": "code",
   "execution_count": 34,
   "id": "f6c0c6d2",
   "metadata": {
    "vscode": {
     "languageId": "r"
    }
   },
   "outputs": [
    {
     "data": {
      "text/html": [
       "-0.0787037037037038"
      ],
      "text/latex": [
       "-0.0787037037037038"
      ],
      "text/markdown": [
       "-0.0787037037037038"
      ],
      "text/plain": [
       "[1] -0.0787037"
      ]
     },
     "metadata": {},
     "output_type": "display_data"
    }
   ],
   "source": [
    "tibble(x=0:3,earn=if_else(x==0,-1,x),prob=dbinom(x,size=3,prob=1/6)) %>% \n",
    "       mutate(prob.mul.earn=prob*earn) %>% select(prob.mul.earn) %>% sum() -> expected_value\n",
    "expected_value"
   ]
  },
  {
   "attachments": {},
   "cell_type": "markdown",
   "id": "c634838d",
   "metadata": {},
   "source": [
    "+ Consider the following random experiment: A fair die is rolled. Then,\n",
    "  a fair coin is flipped many times according to the score of the die. The\n",
    "   number of times heads occur is counted with the random variable X."
   ]
  },
  {
   "attachments": {},
   "cell_type": "markdown",
   "id": "d820bc7a",
   "metadata": {},
   "source": [
    "+ Determine the density of the random variable X. What are the\n",
    "  expected value and variance of X?"
   ]
  },
  {
   "cell_type": "code",
   "execution_count": null,
   "id": "3e962a35",
   "metadata": {
    "vscode": {
     "languageId": "r"
    }
   },
   "outputs": [],
   "source": [
    "## P(S=x) = 1/6 where s={1:6}\n",
    "# if S=s then random variable X is B~(n=s, prob=1/2) for coins\n",
    "## we have to find P(X=x|S=s)-> probability of head given that score"
   ]
  },
  {
   "cell_type": "code",
   "execution_count": 36,
   "id": "f4cf0ce7",
   "metadata": {
    "scrolled": true,
    "vscode": {
     "languageId": "r"
    }
   },
   "outputs": [
    {
     "data": {
      "text/html": [
       "<table class=\"dataframe\">\n",
       "<caption>A tibble: 42 × 2</caption>\n",
       "<thead>\n",
       "\t<tr><th scope=col>score</th><th scope=col>heads</th></tr>\n",
       "\t<tr><th scope=col>&lt;int&gt;</th><th scope=col>&lt;int&gt;</th></tr>\n",
       "</thead>\n",
       "<tbody>\n",
       "\t<tr><td>1</td><td>0</td></tr>\n",
       "\t<tr><td>1</td><td>1</td></tr>\n",
       "\t<tr><td>1</td><td>2</td></tr>\n",
       "\t<tr><td>1</td><td>3</td></tr>\n",
       "\t<tr><td>1</td><td>4</td></tr>\n",
       "\t<tr><td>1</td><td>5</td></tr>\n",
       "\t<tr><td>1</td><td>6</td></tr>\n",
       "\t<tr><td>2</td><td>0</td></tr>\n",
       "\t<tr><td>2</td><td>1</td></tr>\n",
       "\t<tr><td>2</td><td>2</td></tr>\n",
       "\t<tr><td>2</td><td>3</td></tr>\n",
       "\t<tr><td>2</td><td>4</td></tr>\n",
       "\t<tr><td>2</td><td>5</td></tr>\n",
       "\t<tr><td>2</td><td>6</td></tr>\n",
       "\t<tr><td>3</td><td>0</td></tr>\n",
       "\t<tr><td>3</td><td>1</td></tr>\n",
       "\t<tr><td>3</td><td>2</td></tr>\n",
       "\t<tr><td>3</td><td>3</td></tr>\n",
       "\t<tr><td>3</td><td>4</td></tr>\n",
       "\t<tr><td>3</td><td>5</td></tr>\n",
       "\t<tr><td>3</td><td>6</td></tr>\n",
       "\t<tr><td>4</td><td>0</td></tr>\n",
       "\t<tr><td>4</td><td>1</td></tr>\n",
       "\t<tr><td>4</td><td>2</td></tr>\n",
       "\t<tr><td>4</td><td>3</td></tr>\n",
       "\t<tr><td>4</td><td>4</td></tr>\n",
       "\t<tr><td>4</td><td>5</td></tr>\n",
       "\t<tr><td>4</td><td>6</td></tr>\n",
       "\t<tr><td>5</td><td>0</td></tr>\n",
       "\t<tr><td>5</td><td>1</td></tr>\n",
       "\t<tr><td>5</td><td>2</td></tr>\n",
       "\t<tr><td>5</td><td>3</td></tr>\n",
       "\t<tr><td>5</td><td>4</td></tr>\n",
       "\t<tr><td>5</td><td>5</td></tr>\n",
       "\t<tr><td>5</td><td>6</td></tr>\n",
       "\t<tr><td>6</td><td>0</td></tr>\n",
       "\t<tr><td>6</td><td>1</td></tr>\n",
       "\t<tr><td>6</td><td>2</td></tr>\n",
       "\t<tr><td>6</td><td>3</td></tr>\n",
       "\t<tr><td>6</td><td>4</td></tr>\n",
       "\t<tr><td>6</td><td>5</td></tr>\n",
       "\t<tr><td>6</td><td>6</td></tr>\n",
       "</tbody>\n",
       "</table>\n"
      ],
      "text/latex": [
       "A tibble: 42 × 2\n",
       "\\begin{tabular}{ll}\n",
       " score & heads\\\\\n",
       " <int> & <int>\\\\\n",
       "\\hline\n",
       "\t 1 & 0\\\\\n",
       "\t 1 & 1\\\\\n",
       "\t 1 & 2\\\\\n",
       "\t 1 & 3\\\\\n",
       "\t 1 & 4\\\\\n",
       "\t 1 & 5\\\\\n",
       "\t 1 & 6\\\\\n",
       "\t 2 & 0\\\\\n",
       "\t 2 & 1\\\\\n",
       "\t 2 & 2\\\\\n",
       "\t 2 & 3\\\\\n",
       "\t 2 & 4\\\\\n",
       "\t 2 & 5\\\\\n",
       "\t 2 & 6\\\\\n",
       "\t 3 & 0\\\\\n",
       "\t 3 & 1\\\\\n",
       "\t 3 & 2\\\\\n",
       "\t 3 & 3\\\\\n",
       "\t 3 & 4\\\\\n",
       "\t 3 & 5\\\\\n",
       "\t 3 & 6\\\\\n",
       "\t 4 & 0\\\\\n",
       "\t 4 & 1\\\\\n",
       "\t 4 & 2\\\\\n",
       "\t 4 & 3\\\\\n",
       "\t 4 & 4\\\\\n",
       "\t 4 & 5\\\\\n",
       "\t 4 & 6\\\\\n",
       "\t 5 & 0\\\\\n",
       "\t 5 & 1\\\\\n",
       "\t 5 & 2\\\\\n",
       "\t 5 & 3\\\\\n",
       "\t 5 & 4\\\\\n",
       "\t 5 & 5\\\\\n",
       "\t 5 & 6\\\\\n",
       "\t 6 & 0\\\\\n",
       "\t 6 & 1\\\\\n",
       "\t 6 & 2\\\\\n",
       "\t 6 & 3\\\\\n",
       "\t 6 & 4\\\\\n",
       "\t 6 & 5\\\\\n",
       "\t 6 & 6\\\\\n",
       "\\end{tabular}\n"
      ],
      "text/markdown": [
       "\n",
       "A tibble: 42 × 2\n",
       "\n",
       "| score &lt;int&gt; | heads &lt;int&gt; |\n",
       "|---|---|\n",
       "| 1 | 0 |\n",
       "| 1 | 1 |\n",
       "| 1 | 2 |\n",
       "| 1 | 3 |\n",
       "| 1 | 4 |\n",
       "| 1 | 5 |\n",
       "| 1 | 6 |\n",
       "| 2 | 0 |\n",
       "| 2 | 1 |\n",
       "| 2 | 2 |\n",
       "| 2 | 3 |\n",
       "| 2 | 4 |\n",
       "| 2 | 5 |\n",
       "| 2 | 6 |\n",
       "| 3 | 0 |\n",
       "| 3 | 1 |\n",
       "| 3 | 2 |\n",
       "| 3 | 3 |\n",
       "| 3 | 4 |\n",
       "| 3 | 5 |\n",
       "| 3 | 6 |\n",
       "| 4 | 0 |\n",
       "| 4 | 1 |\n",
       "| 4 | 2 |\n",
       "| 4 | 3 |\n",
       "| 4 | 4 |\n",
       "| 4 | 5 |\n",
       "| 4 | 6 |\n",
       "| 5 | 0 |\n",
       "| 5 | 1 |\n",
       "| 5 | 2 |\n",
       "| 5 | 3 |\n",
       "| 5 | 4 |\n",
       "| 5 | 5 |\n",
       "| 5 | 6 |\n",
       "| 6 | 0 |\n",
       "| 6 | 1 |\n",
       "| 6 | 2 |\n",
       "| 6 | 3 |\n",
       "| 6 | 4 |\n",
       "| 6 | 5 |\n",
       "| 6 | 6 |\n",
       "\n"
      ],
      "text/plain": [
       "   score heads\n",
       "1  1     0    \n",
       "2  1     1    \n",
       "3  1     2    \n",
       "4  1     3    \n",
       "5  1     4    \n",
       "6  1     5    \n",
       "7  1     6    \n",
       "8  2     0    \n",
       "9  2     1    \n",
       "10 2     2    \n",
       "11 2     3    \n",
       "12 2     4    \n",
       "13 2     5    \n",
       "14 2     6    \n",
       "15 3     0    \n",
       "16 3     1    \n",
       "17 3     2    \n",
       "18 3     3    \n",
       "19 3     4    \n",
       "20 3     5    \n",
       "21 3     6    \n",
       "22 4     0    \n",
       "23 4     1    \n",
       "24 4     2    \n",
       "25 4     3    \n",
       "26 4     4    \n",
       "27 4     5    \n",
       "28 4     6    \n",
       "29 5     0    \n",
       "30 5     1    \n",
       "31 5     2    \n",
       "32 5     3    \n",
       "33 5     4    \n",
       "34 5     5    \n",
       "35 5     6    \n",
       "36 6     0    \n",
       "37 6     1    \n",
       "38 6     2    \n",
       "39 6     3    \n",
       "40 6     4    \n",
       "41 6     5    \n",
       "42 6     6    "
      ]
     },
     "metadata": {},
     "output_type": "display_data"
    }
   ],
   "source": [
    "expand_grid(score=1:6,heads=0:6)  ## get all the possible combination between score and heads"
   ]
  },
  {
   "cell_type": "code",
   "execution_count": 41,
   "id": "76e9658b",
   "metadata": {
    "scrolled": true,
    "vscode": {
     "languageId": "r"
    }
   },
   "outputs": [
    {
     "data": {
      "text/html": [
       "<table class=\"dataframe\">\n",
       "<caption>A grouped_df: 42 × 3</caption>\n",
       "<thead>\n",
       "\t<tr><th scope=col>score</th><th scope=col>heads</th><th scope=col>prob.heads.given.score</th></tr>\n",
       "\t<tr><th scope=col>&lt;int&gt;</th><th scope=col>&lt;int&gt;</th><th scope=col>&lt;dbl&gt;</th></tr>\n",
       "</thead>\n",
       "<tbody>\n",
       "\t<tr><td>1</td><td>0</td><td>0.500000</td></tr>\n",
       "\t<tr><td>1</td><td>1</td><td>0.500000</td></tr>\n",
       "\t<tr><td>1</td><td>2</td><td>0.000000</td></tr>\n",
       "\t<tr><td>1</td><td>3</td><td>0.000000</td></tr>\n",
       "\t<tr><td>1</td><td>4</td><td>0.000000</td></tr>\n",
       "\t<tr><td>1</td><td>5</td><td>0.000000</td></tr>\n",
       "\t<tr><td>1</td><td>6</td><td>0.000000</td></tr>\n",
       "\t<tr><td>2</td><td>0</td><td>0.250000</td></tr>\n",
       "\t<tr><td>2</td><td>1</td><td>0.500000</td></tr>\n",
       "\t<tr><td>2</td><td>2</td><td>0.250000</td></tr>\n",
       "\t<tr><td>2</td><td>3</td><td>0.000000</td></tr>\n",
       "\t<tr><td>2</td><td>4</td><td>0.000000</td></tr>\n",
       "\t<tr><td>2</td><td>5</td><td>0.000000</td></tr>\n",
       "\t<tr><td>2</td><td>6</td><td>0.000000</td></tr>\n",
       "\t<tr><td>3</td><td>0</td><td>0.125000</td></tr>\n",
       "\t<tr><td>3</td><td>1</td><td>0.375000</td></tr>\n",
       "\t<tr><td>3</td><td>2</td><td>0.375000</td></tr>\n",
       "\t<tr><td>3</td><td>3</td><td>0.125000</td></tr>\n",
       "\t<tr><td>3</td><td>4</td><td>0.000000</td></tr>\n",
       "\t<tr><td>3</td><td>5</td><td>0.000000</td></tr>\n",
       "\t<tr><td>3</td><td>6</td><td>0.000000</td></tr>\n",
       "\t<tr><td>4</td><td>0</td><td>0.062500</td></tr>\n",
       "\t<tr><td>4</td><td>1</td><td>0.250000</td></tr>\n",
       "\t<tr><td>4</td><td>2</td><td>0.375000</td></tr>\n",
       "\t<tr><td>4</td><td>3</td><td>0.250000</td></tr>\n",
       "\t<tr><td>4</td><td>4</td><td>0.062500</td></tr>\n",
       "\t<tr><td>4</td><td>5</td><td>0.000000</td></tr>\n",
       "\t<tr><td>4</td><td>6</td><td>0.000000</td></tr>\n",
       "\t<tr><td>5</td><td>0</td><td>0.031250</td></tr>\n",
       "\t<tr><td>5</td><td>1</td><td>0.156250</td></tr>\n",
       "\t<tr><td>5</td><td>2</td><td>0.312500</td></tr>\n",
       "\t<tr><td>5</td><td>3</td><td>0.312500</td></tr>\n",
       "\t<tr><td>5</td><td>4</td><td>0.156250</td></tr>\n",
       "\t<tr><td>5</td><td>5</td><td>0.031250</td></tr>\n",
       "\t<tr><td>5</td><td>6</td><td>0.000000</td></tr>\n",
       "\t<tr><td>6</td><td>0</td><td>0.015625</td></tr>\n",
       "\t<tr><td>6</td><td>1</td><td>0.093750</td></tr>\n",
       "\t<tr><td>6</td><td>2</td><td>0.234375</td></tr>\n",
       "\t<tr><td>6</td><td>3</td><td>0.312500</td></tr>\n",
       "\t<tr><td>6</td><td>4</td><td>0.234375</td></tr>\n",
       "\t<tr><td>6</td><td>5</td><td>0.093750</td></tr>\n",
       "\t<tr><td>6</td><td>6</td><td>0.015625</td></tr>\n",
       "</tbody>\n",
       "</table>\n"
      ],
      "text/latex": [
       "A grouped\\_df: 42 × 3\n",
       "\\begin{tabular}{lll}\n",
       " score & heads & prob.heads.given.score\\\\\n",
       " <int> & <int> & <dbl>\\\\\n",
       "\\hline\n",
       "\t 1 & 0 & 0.500000\\\\\n",
       "\t 1 & 1 & 0.500000\\\\\n",
       "\t 1 & 2 & 0.000000\\\\\n",
       "\t 1 & 3 & 0.000000\\\\\n",
       "\t 1 & 4 & 0.000000\\\\\n",
       "\t 1 & 5 & 0.000000\\\\\n",
       "\t 1 & 6 & 0.000000\\\\\n",
       "\t 2 & 0 & 0.250000\\\\\n",
       "\t 2 & 1 & 0.500000\\\\\n",
       "\t 2 & 2 & 0.250000\\\\\n",
       "\t 2 & 3 & 0.000000\\\\\n",
       "\t 2 & 4 & 0.000000\\\\\n",
       "\t 2 & 5 & 0.000000\\\\\n",
       "\t 2 & 6 & 0.000000\\\\\n",
       "\t 3 & 0 & 0.125000\\\\\n",
       "\t 3 & 1 & 0.375000\\\\\n",
       "\t 3 & 2 & 0.375000\\\\\n",
       "\t 3 & 3 & 0.125000\\\\\n",
       "\t 3 & 4 & 0.000000\\\\\n",
       "\t 3 & 5 & 0.000000\\\\\n",
       "\t 3 & 6 & 0.000000\\\\\n",
       "\t 4 & 0 & 0.062500\\\\\n",
       "\t 4 & 1 & 0.250000\\\\\n",
       "\t 4 & 2 & 0.375000\\\\\n",
       "\t 4 & 3 & 0.250000\\\\\n",
       "\t 4 & 4 & 0.062500\\\\\n",
       "\t 4 & 5 & 0.000000\\\\\n",
       "\t 4 & 6 & 0.000000\\\\\n",
       "\t 5 & 0 & 0.031250\\\\\n",
       "\t 5 & 1 & 0.156250\\\\\n",
       "\t 5 & 2 & 0.312500\\\\\n",
       "\t 5 & 3 & 0.312500\\\\\n",
       "\t 5 & 4 & 0.156250\\\\\n",
       "\t 5 & 5 & 0.031250\\\\\n",
       "\t 5 & 6 & 0.000000\\\\\n",
       "\t 6 & 0 & 0.015625\\\\\n",
       "\t 6 & 1 & 0.093750\\\\\n",
       "\t 6 & 2 & 0.234375\\\\\n",
       "\t 6 & 3 & 0.312500\\\\\n",
       "\t 6 & 4 & 0.234375\\\\\n",
       "\t 6 & 5 & 0.093750\\\\\n",
       "\t 6 & 6 & 0.015625\\\\\n",
       "\\end{tabular}\n"
      ],
      "text/markdown": [
       "\n",
       "A grouped_df: 42 × 3\n",
       "\n",
       "| score &lt;int&gt; | heads &lt;int&gt; | prob.heads.given.score &lt;dbl&gt; |\n",
       "|---|---|---|\n",
       "| 1 | 0 | 0.500000 |\n",
       "| 1 | 1 | 0.500000 |\n",
       "| 1 | 2 | 0.000000 |\n",
       "| 1 | 3 | 0.000000 |\n",
       "| 1 | 4 | 0.000000 |\n",
       "| 1 | 5 | 0.000000 |\n",
       "| 1 | 6 | 0.000000 |\n",
       "| 2 | 0 | 0.250000 |\n",
       "| 2 | 1 | 0.500000 |\n",
       "| 2 | 2 | 0.250000 |\n",
       "| 2 | 3 | 0.000000 |\n",
       "| 2 | 4 | 0.000000 |\n",
       "| 2 | 5 | 0.000000 |\n",
       "| 2 | 6 | 0.000000 |\n",
       "| 3 | 0 | 0.125000 |\n",
       "| 3 | 1 | 0.375000 |\n",
       "| 3 | 2 | 0.375000 |\n",
       "| 3 | 3 | 0.125000 |\n",
       "| 3 | 4 | 0.000000 |\n",
       "| 3 | 5 | 0.000000 |\n",
       "| 3 | 6 | 0.000000 |\n",
       "| 4 | 0 | 0.062500 |\n",
       "| 4 | 1 | 0.250000 |\n",
       "| 4 | 2 | 0.375000 |\n",
       "| 4 | 3 | 0.250000 |\n",
       "| 4 | 4 | 0.062500 |\n",
       "| 4 | 5 | 0.000000 |\n",
       "| 4 | 6 | 0.000000 |\n",
       "| 5 | 0 | 0.031250 |\n",
       "| 5 | 1 | 0.156250 |\n",
       "| 5 | 2 | 0.312500 |\n",
       "| 5 | 3 | 0.312500 |\n",
       "| 5 | 4 | 0.156250 |\n",
       "| 5 | 5 | 0.031250 |\n",
       "| 5 | 6 | 0.000000 |\n",
       "| 6 | 0 | 0.015625 |\n",
       "| 6 | 1 | 0.093750 |\n",
       "| 6 | 2 | 0.234375 |\n",
       "| 6 | 3 | 0.312500 |\n",
       "| 6 | 4 | 0.234375 |\n",
       "| 6 | 5 | 0.093750 |\n",
       "| 6 | 6 | 0.015625 |\n",
       "\n"
      ],
      "text/plain": [
       "   score heads prob.heads.given.score\n",
       "1  1     0     0.500000              \n",
       "2  1     1     0.500000              \n",
       "3  1     2     0.000000              \n",
       "4  1     3     0.000000              \n",
       "5  1     4     0.000000              \n",
       "6  1     5     0.000000              \n",
       "7  1     6     0.000000              \n",
       "8  2     0     0.250000              \n",
       "9  2     1     0.500000              \n",
       "10 2     2     0.250000              \n",
       "11 2     3     0.000000              \n",
       "12 2     4     0.000000              \n",
       "13 2     5     0.000000              \n",
       "14 2     6     0.000000              \n",
       "15 3     0     0.125000              \n",
       "16 3     1     0.375000              \n",
       "17 3     2     0.375000              \n",
       "18 3     3     0.125000              \n",
       "19 3     4     0.000000              \n",
       "20 3     5     0.000000              \n",
       "21 3     6     0.000000              \n",
       "22 4     0     0.062500              \n",
       "23 4     1     0.250000              \n",
       "24 4     2     0.375000              \n",
       "25 4     3     0.250000              \n",
       "26 4     4     0.062500              \n",
       "27 4     5     0.000000              \n",
       "28 4     6     0.000000              \n",
       "29 5     0     0.031250              \n",
       "30 5     1     0.156250              \n",
       "31 5     2     0.312500              \n",
       "32 5     3     0.312500              \n",
       "33 5     4     0.156250              \n",
       "34 5     5     0.031250              \n",
       "35 5     6     0.000000              \n",
       "36 6     0     0.015625              \n",
       "37 6     1     0.093750              \n",
       "38 6     2     0.234375              \n",
       "39 6     3     0.312500              \n",
       "40 6     4     0.234375              \n",
       "41 6     5     0.093750              \n",
       "42 6     6     0.015625              "
      ]
     },
     "metadata": {},
     "output_type": "display_data"
    }
   ],
   "source": [
    "# find prob of heads given that score has already been occured\n",
    "   \n",
    "expand_grid(score=1:6,heads=0:6) %>% group_by(heads,score) %>%\n",
    "     mutate(prob.heads.given.score=sum(dbinom(heads,size=score,prob=1/2))) \n",
    "\n",
    "        "
   ]
  },
  {
   "cell_type": "code",
   "execution_count": 43,
   "id": "c2ba9e8f",
   "metadata": {
    "scrolled": true,
    "vscode": {
     "languageId": "r"
    }
   },
   "outputs": [
    {
     "data": {
      "text/html": [
       "<table class=\"dataframe\">\n",
       "<caption>A grouped_df: 42 × 4</caption>\n",
       "<thead>\n",
       "\t<tr><th scope=col>score</th><th scope=col>heads</th><th scope=col>prob.heads.given.score</th><th scope=col>prob.score</th></tr>\n",
       "\t<tr><th scope=col>&lt;int&gt;</th><th scope=col>&lt;int&gt;</th><th scope=col>&lt;dbl&gt;</th><th scope=col>&lt;dbl&gt;</th></tr>\n",
       "</thead>\n",
       "<tbody>\n",
       "\t<tr><td>1</td><td>0</td><td>0.500000</td><td>0.1666667</td></tr>\n",
       "\t<tr><td>1</td><td>1</td><td>0.500000</td><td>0.1666667</td></tr>\n",
       "\t<tr><td>1</td><td>2</td><td>0.000000</td><td>0.1666667</td></tr>\n",
       "\t<tr><td>1</td><td>3</td><td>0.000000</td><td>0.1666667</td></tr>\n",
       "\t<tr><td>1</td><td>4</td><td>0.000000</td><td>0.1666667</td></tr>\n",
       "\t<tr><td>1</td><td>5</td><td>0.000000</td><td>0.1666667</td></tr>\n",
       "\t<tr><td>1</td><td>6</td><td>0.000000</td><td>0.1666667</td></tr>\n",
       "\t<tr><td>2</td><td>0</td><td>0.250000</td><td>0.1666667</td></tr>\n",
       "\t<tr><td>2</td><td>1</td><td>0.500000</td><td>0.1666667</td></tr>\n",
       "\t<tr><td>2</td><td>2</td><td>0.250000</td><td>0.1666667</td></tr>\n",
       "\t<tr><td>2</td><td>3</td><td>0.000000</td><td>0.1666667</td></tr>\n",
       "\t<tr><td>2</td><td>4</td><td>0.000000</td><td>0.1666667</td></tr>\n",
       "\t<tr><td>2</td><td>5</td><td>0.000000</td><td>0.1666667</td></tr>\n",
       "\t<tr><td>2</td><td>6</td><td>0.000000</td><td>0.1666667</td></tr>\n",
       "\t<tr><td>3</td><td>0</td><td>0.125000</td><td>0.1666667</td></tr>\n",
       "\t<tr><td>3</td><td>1</td><td>0.375000</td><td>0.1666667</td></tr>\n",
       "\t<tr><td>3</td><td>2</td><td>0.375000</td><td>0.1666667</td></tr>\n",
       "\t<tr><td>3</td><td>3</td><td>0.125000</td><td>0.1666667</td></tr>\n",
       "\t<tr><td>3</td><td>4</td><td>0.000000</td><td>0.1666667</td></tr>\n",
       "\t<tr><td>3</td><td>5</td><td>0.000000</td><td>0.1666667</td></tr>\n",
       "\t<tr><td>3</td><td>6</td><td>0.000000</td><td>0.1666667</td></tr>\n",
       "\t<tr><td>4</td><td>0</td><td>0.062500</td><td>0.1666667</td></tr>\n",
       "\t<tr><td>4</td><td>1</td><td>0.250000</td><td>0.1666667</td></tr>\n",
       "\t<tr><td>4</td><td>2</td><td>0.375000</td><td>0.1666667</td></tr>\n",
       "\t<tr><td>4</td><td>3</td><td>0.250000</td><td>0.1666667</td></tr>\n",
       "\t<tr><td>4</td><td>4</td><td>0.062500</td><td>0.1666667</td></tr>\n",
       "\t<tr><td>4</td><td>5</td><td>0.000000</td><td>0.1666667</td></tr>\n",
       "\t<tr><td>4</td><td>6</td><td>0.000000</td><td>0.1666667</td></tr>\n",
       "\t<tr><td>5</td><td>0</td><td>0.031250</td><td>0.1666667</td></tr>\n",
       "\t<tr><td>5</td><td>1</td><td>0.156250</td><td>0.1666667</td></tr>\n",
       "\t<tr><td>5</td><td>2</td><td>0.312500</td><td>0.1666667</td></tr>\n",
       "\t<tr><td>5</td><td>3</td><td>0.312500</td><td>0.1666667</td></tr>\n",
       "\t<tr><td>5</td><td>4</td><td>0.156250</td><td>0.1666667</td></tr>\n",
       "\t<tr><td>5</td><td>5</td><td>0.031250</td><td>0.1666667</td></tr>\n",
       "\t<tr><td>5</td><td>6</td><td>0.000000</td><td>0.1666667</td></tr>\n",
       "\t<tr><td>6</td><td>0</td><td>0.015625</td><td>0.1666667</td></tr>\n",
       "\t<tr><td>6</td><td>1</td><td>0.093750</td><td>0.1666667</td></tr>\n",
       "\t<tr><td>6</td><td>2</td><td>0.234375</td><td>0.1666667</td></tr>\n",
       "\t<tr><td>6</td><td>3</td><td>0.312500</td><td>0.1666667</td></tr>\n",
       "\t<tr><td>6</td><td>4</td><td>0.234375</td><td>0.1666667</td></tr>\n",
       "\t<tr><td>6</td><td>5</td><td>0.093750</td><td>0.1666667</td></tr>\n",
       "\t<tr><td>6</td><td>6</td><td>0.015625</td><td>0.1666667</td></tr>\n",
       "</tbody>\n",
       "</table>\n"
      ],
      "text/latex": [
       "A grouped\\_df: 42 × 4\n",
       "\\begin{tabular}{llll}\n",
       " score & heads & prob.heads.given.score & prob.score\\\\\n",
       " <int> & <int> & <dbl> & <dbl>\\\\\n",
       "\\hline\n",
       "\t 1 & 0 & 0.500000 & 0.1666667\\\\\n",
       "\t 1 & 1 & 0.500000 & 0.1666667\\\\\n",
       "\t 1 & 2 & 0.000000 & 0.1666667\\\\\n",
       "\t 1 & 3 & 0.000000 & 0.1666667\\\\\n",
       "\t 1 & 4 & 0.000000 & 0.1666667\\\\\n",
       "\t 1 & 5 & 0.000000 & 0.1666667\\\\\n",
       "\t 1 & 6 & 0.000000 & 0.1666667\\\\\n",
       "\t 2 & 0 & 0.250000 & 0.1666667\\\\\n",
       "\t 2 & 1 & 0.500000 & 0.1666667\\\\\n",
       "\t 2 & 2 & 0.250000 & 0.1666667\\\\\n",
       "\t 2 & 3 & 0.000000 & 0.1666667\\\\\n",
       "\t 2 & 4 & 0.000000 & 0.1666667\\\\\n",
       "\t 2 & 5 & 0.000000 & 0.1666667\\\\\n",
       "\t 2 & 6 & 0.000000 & 0.1666667\\\\\n",
       "\t 3 & 0 & 0.125000 & 0.1666667\\\\\n",
       "\t 3 & 1 & 0.375000 & 0.1666667\\\\\n",
       "\t 3 & 2 & 0.375000 & 0.1666667\\\\\n",
       "\t 3 & 3 & 0.125000 & 0.1666667\\\\\n",
       "\t 3 & 4 & 0.000000 & 0.1666667\\\\\n",
       "\t 3 & 5 & 0.000000 & 0.1666667\\\\\n",
       "\t 3 & 6 & 0.000000 & 0.1666667\\\\\n",
       "\t 4 & 0 & 0.062500 & 0.1666667\\\\\n",
       "\t 4 & 1 & 0.250000 & 0.1666667\\\\\n",
       "\t 4 & 2 & 0.375000 & 0.1666667\\\\\n",
       "\t 4 & 3 & 0.250000 & 0.1666667\\\\\n",
       "\t 4 & 4 & 0.062500 & 0.1666667\\\\\n",
       "\t 4 & 5 & 0.000000 & 0.1666667\\\\\n",
       "\t 4 & 6 & 0.000000 & 0.1666667\\\\\n",
       "\t 5 & 0 & 0.031250 & 0.1666667\\\\\n",
       "\t 5 & 1 & 0.156250 & 0.1666667\\\\\n",
       "\t 5 & 2 & 0.312500 & 0.1666667\\\\\n",
       "\t 5 & 3 & 0.312500 & 0.1666667\\\\\n",
       "\t 5 & 4 & 0.156250 & 0.1666667\\\\\n",
       "\t 5 & 5 & 0.031250 & 0.1666667\\\\\n",
       "\t 5 & 6 & 0.000000 & 0.1666667\\\\\n",
       "\t 6 & 0 & 0.015625 & 0.1666667\\\\\n",
       "\t 6 & 1 & 0.093750 & 0.1666667\\\\\n",
       "\t 6 & 2 & 0.234375 & 0.1666667\\\\\n",
       "\t 6 & 3 & 0.312500 & 0.1666667\\\\\n",
       "\t 6 & 4 & 0.234375 & 0.1666667\\\\\n",
       "\t 6 & 5 & 0.093750 & 0.1666667\\\\\n",
       "\t 6 & 6 & 0.015625 & 0.1666667\\\\\n",
       "\\end{tabular}\n"
      ],
      "text/markdown": [
       "\n",
       "A grouped_df: 42 × 4\n",
       "\n",
       "| score &lt;int&gt; | heads &lt;int&gt; | prob.heads.given.score &lt;dbl&gt; | prob.score &lt;dbl&gt; |\n",
       "|---|---|---|---|\n",
       "| 1 | 0 | 0.500000 | 0.1666667 |\n",
       "| 1 | 1 | 0.500000 | 0.1666667 |\n",
       "| 1 | 2 | 0.000000 | 0.1666667 |\n",
       "| 1 | 3 | 0.000000 | 0.1666667 |\n",
       "| 1 | 4 | 0.000000 | 0.1666667 |\n",
       "| 1 | 5 | 0.000000 | 0.1666667 |\n",
       "| 1 | 6 | 0.000000 | 0.1666667 |\n",
       "| 2 | 0 | 0.250000 | 0.1666667 |\n",
       "| 2 | 1 | 0.500000 | 0.1666667 |\n",
       "| 2 | 2 | 0.250000 | 0.1666667 |\n",
       "| 2 | 3 | 0.000000 | 0.1666667 |\n",
       "| 2 | 4 | 0.000000 | 0.1666667 |\n",
       "| 2 | 5 | 0.000000 | 0.1666667 |\n",
       "| 2 | 6 | 0.000000 | 0.1666667 |\n",
       "| 3 | 0 | 0.125000 | 0.1666667 |\n",
       "| 3 | 1 | 0.375000 | 0.1666667 |\n",
       "| 3 | 2 | 0.375000 | 0.1666667 |\n",
       "| 3 | 3 | 0.125000 | 0.1666667 |\n",
       "| 3 | 4 | 0.000000 | 0.1666667 |\n",
       "| 3 | 5 | 0.000000 | 0.1666667 |\n",
       "| 3 | 6 | 0.000000 | 0.1666667 |\n",
       "| 4 | 0 | 0.062500 | 0.1666667 |\n",
       "| 4 | 1 | 0.250000 | 0.1666667 |\n",
       "| 4 | 2 | 0.375000 | 0.1666667 |\n",
       "| 4 | 3 | 0.250000 | 0.1666667 |\n",
       "| 4 | 4 | 0.062500 | 0.1666667 |\n",
       "| 4 | 5 | 0.000000 | 0.1666667 |\n",
       "| 4 | 6 | 0.000000 | 0.1666667 |\n",
       "| 5 | 0 | 0.031250 | 0.1666667 |\n",
       "| 5 | 1 | 0.156250 | 0.1666667 |\n",
       "| 5 | 2 | 0.312500 | 0.1666667 |\n",
       "| 5 | 3 | 0.312500 | 0.1666667 |\n",
       "| 5 | 4 | 0.156250 | 0.1666667 |\n",
       "| 5 | 5 | 0.031250 | 0.1666667 |\n",
       "| 5 | 6 | 0.000000 | 0.1666667 |\n",
       "| 6 | 0 | 0.015625 | 0.1666667 |\n",
       "| 6 | 1 | 0.093750 | 0.1666667 |\n",
       "| 6 | 2 | 0.234375 | 0.1666667 |\n",
       "| 6 | 3 | 0.312500 | 0.1666667 |\n",
       "| 6 | 4 | 0.234375 | 0.1666667 |\n",
       "| 6 | 5 | 0.093750 | 0.1666667 |\n",
       "| 6 | 6 | 0.015625 | 0.1666667 |\n",
       "\n"
      ],
      "text/plain": [
       "   score heads prob.heads.given.score prob.score\n",
       "1  1     0     0.500000               0.1666667 \n",
       "2  1     1     0.500000               0.1666667 \n",
       "3  1     2     0.000000               0.1666667 \n",
       "4  1     3     0.000000               0.1666667 \n",
       "5  1     4     0.000000               0.1666667 \n",
       "6  1     5     0.000000               0.1666667 \n",
       "7  1     6     0.000000               0.1666667 \n",
       "8  2     0     0.250000               0.1666667 \n",
       "9  2     1     0.500000               0.1666667 \n",
       "10 2     2     0.250000               0.1666667 \n",
       "11 2     3     0.000000               0.1666667 \n",
       "12 2     4     0.000000               0.1666667 \n",
       "13 2     5     0.000000               0.1666667 \n",
       "14 2     6     0.000000               0.1666667 \n",
       "15 3     0     0.125000               0.1666667 \n",
       "16 3     1     0.375000               0.1666667 \n",
       "17 3     2     0.375000               0.1666667 \n",
       "18 3     3     0.125000               0.1666667 \n",
       "19 3     4     0.000000               0.1666667 \n",
       "20 3     5     0.000000               0.1666667 \n",
       "21 3     6     0.000000               0.1666667 \n",
       "22 4     0     0.062500               0.1666667 \n",
       "23 4     1     0.250000               0.1666667 \n",
       "24 4     2     0.375000               0.1666667 \n",
       "25 4     3     0.250000               0.1666667 \n",
       "26 4     4     0.062500               0.1666667 \n",
       "27 4     5     0.000000               0.1666667 \n",
       "28 4     6     0.000000               0.1666667 \n",
       "29 5     0     0.031250               0.1666667 \n",
       "30 5     1     0.156250               0.1666667 \n",
       "31 5     2     0.312500               0.1666667 \n",
       "32 5     3     0.312500               0.1666667 \n",
       "33 5     4     0.156250               0.1666667 \n",
       "34 5     5     0.031250               0.1666667 \n",
       "35 5     6     0.000000               0.1666667 \n",
       "36 6     0     0.015625               0.1666667 \n",
       "37 6     1     0.093750               0.1666667 \n",
       "38 6     2     0.234375               0.1666667 \n",
       "39 6     3     0.312500               0.1666667 \n",
       "40 6     4     0.234375               0.1666667 \n",
       "41 6     5     0.093750               0.1666667 \n",
       "42 6     6     0.015625               0.1666667 "
      ]
     },
     "metadata": {},
     "output_type": "display_data"
    }
   ],
   "source": [
    "## find prob of heads and score\n",
    "expand_grid(score=1:6,heads=0:6) %>% group_by(heads,score) %>%\n",
    "     mutate(prob.heads.given.score=sum(dbinom(heads,size=score,prob=1/2)),prob.score=1/6) \n",
    "                  # as prob of any score is alws 1/6"
   ]
  },
  {
   "cell_type": "code",
   "execution_count": 48,
   "id": "f23c136f",
   "metadata": {
    "scrolled": true,
    "vscode": {
     "languageId": "r"
    }
   },
   "outputs": [
    {
     "data": {
      "text/html": [
       "<table class=\"dataframe\">\n",
       "<caption>A grouped_df: 42 × 5</caption>\n",
       "<thead>\n",
       "\t<tr><th scope=col>score</th><th scope=col>heads</th><th scope=col>prob.heads.given.score</th><th scope=col>prob.score</th><th scope=col>prob.heads.and.score</th></tr>\n",
       "\t<tr><th scope=col>&lt;int&gt;</th><th scope=col>&lt;int&gt;</th><th scope=col>&lt;dbl&gt;</th><th scope=col>&lt;dbl&gt;</th><th scope=col>&lt;dbl&gt;</th></tr>\n",
       "</thead>\n",
       "<tbody>\n",
       "\t<tr><td>1</td><td>0</td><td>0.500000</td><td>0.1666667</td><td>0.083333333</td></tr>\n",
       "\t<tr><td>1</td><td>1</td><td>0.500000</td><td>0.1666667</td><td>0.083333333</td></tr>\n",
       "\t<tr><td>1</td><td>2</td><td>0.000000</td><td>0.1666667</td><td>0.000000000</td></tr>\n",
       "\t<tr><td>1</td><td>3</td><td>0.000000</td><td>0.1666667</td><td>0.000000000</td></tr>\n",
       "\t<tr><td>1</td><td>4</td><td>0.000000</td><td>0.1666667</td><td>0.000000000</td></tr>\n",
       "\t<tr><td>1</td><td>5</td><td>0.000000</td><td>0.1666667</td><td>0.000000000</td></tr>\n",
       "\t<tr><td>1</td><td>6</td><td>0.000000</td><td>0.1666667</td><td>0.000000000</td></tr>\n",
       "\t<tr><td>2</td><td>0</td><td>0.250000</td><td>0.1666667</td><td>0.041666667</td></tr>\n",
       "\t<tr><td>2</td><td>1</td><td>0.500000</td><td>0.1666667</td><td>0.083333333</td></tr>\n",
       "\t<tr><td>2</td><td>2</td><td>0.250000</td><td>0.1666667</td><td>0.041666667</td></tr>\n",
       "\t<tr><td>2</td><td>3</td><td>0.000000</td><td>0.1666667</td><td>0.000000000</td></tr>\n",
       "\t<tr><td>2</td><td>4</td><td>0.000000</td><td>0.1666667</td><td>0.000000000</td></tr>\n",
       "\t<tr><td>2</td><td>5</td><td>0.000000</td><td>0.1666667</td><td>0.000000000</td></tr>\n",
       "\t<tr><td>2</td><td>6</td><td>0.000000</td><td>0.1666667</td><td>0.000000000</td></tr>\n",
       "\t<tr><td>3</td><td>0</td><td>0.125000</td><td>0.1666667</td><td>0.020833333</td></tr>\n",
       "\t<tr><td>3</td><td>1</td><td>0.375000</td><td>0.1666667</td><td>0.062500000</td></tr>\n",
       "\t<tr><td>3</td><td>2</td><td>0.375000</td><td>0.1666667</td><td>0.062500000</td></tr>\n",
       "\t<tr><td>3</td><td>3</td><td>0.125000</td><td>0.1666667</td><td>0.020833333</td></tr>\n",
       "\t<tr><td>3</td><td>4</td><td>0.000000</td><td>0.1666667</td><td>0.000000000</td></tr>\n",
       "\t<tr><td>3</td><td>5</td><td>0.000000</td><td>0.1666667</td><td>0.000000000</td></tr>\n",
       "\t<tr><td>3</td><td>6</td><td>0.000000</td><td>0.1666667</td><td>0.000000000</td></tr>\n",
       "\t<tr><td>4</td><td>0</td><td>0.062500</td><td>0.1666667</td><td>0.010416667</td></tr>\n",
       "\t<tr><td>4</td><td>1</td><td>0.250000</td><td>0.1666667</td><td>0.041666667</td></tr>\n",
       "\t<tr><td>4</td><td>2</td><td>0.375000</td><td>0.1666667</td><td>0.062500000</td></tr>\n",
       "\t<tr><td>4</td><td>3</td><td>0.250000</td><td>0.1666667</td><td>0.041666667</td></tr>\n",
       "\t<tr><td>4</td><td>4</td><td>0.062500</td><td>0.1666667</td><td>0.010416667</td></tr>\n",
       "\t<tr><td>4</td><td>5</td><td>0.000000</td><td>0.1666667</td><td>0.000000000</td></tr>\n",
       "\t<tr><td>4</td><td>6</td><td>0.000000</td><td>0.1666667</td><td>0.000000000</td></tr>\n",
       "\t<tr><td>5</td><td>0</td><td>0.031250</td><td>0.1666667</td><td>0.005208333</td></tr>\n",
       "\t<tr><td>5</td><td>1</td><td>0.156250</td><td>0.1666667</td><td>0.026041667</td></tr>\n",
       "\t<tr><td>5</td><td>2</td><td>0.312500</td><td>0.1666667</td><td>0.052083333</td></tr>\n",
       "\t<tr><td>5</td><td>3</td><td>0.312500</td><td>0.1666667</td><td>0.052083333</td></tr>\n",
       "\t<tr><td>5</td><td>4</td><td>0.156250</td><td>0.1666667</td><td>0.026041667</td></tr>\n",
       "\t<tr><td>5</td><td>5</td><td>0.031250</td><td>0.1666667</td><td>0.005208333</td></tr>\n",
       "\t<tr><td>5</td><td>6</td><td>0.000000</td><td>0.1666667</td><td>0.000000000</td></tr>\n",
       "\t<tr><td>6</td><td>0</td><td>0.015625</td><td>0.1666667</td><td>0.002604167</td></tr>\n",
       "\t<tr><td>6</td><td>1</td><td>0.093750</td><td>0.1666667</td><td>0.015625000</td></tr>\n",
       "\t<tr><td>6</td><td>2</td><td>0.234375</td><td>0.1666667</td><td>0.039062500</td></tr>\n",
       "\t<tr><td>6</td><td>3</td><td>0.312500</td><td>0.1666667</td><td>0.052083333</td></tr>\n",
       "\t<tr><td>6</td><td>4</td><td>0.234375</td><td>0.1666667</td><td>0.039062500</td></tr>\n",
       "\t<tr><td>6</td><td>5</td><td>0.093750</td><td>0.1666667</td><td>0.015625000</td></tr>\n",
       "\t<tr><td>6</td><td>6</td><td>0.015625</td><td>0.1666667</td><td>0.002604167</td></tr>\n",
       "</tbody>\n",
       "</table>\n"
      ],
      "text/latex": [
       "A grouped\\_df: 42 × 5\n",
       "\\begin{tabular}{lllll}\n",
       " score & heads & prob.heads.given.score & prob.score & prob.heads.and.score\\\\\n",
       " <int> & <int> & <dbl> & <dbl> & <dbl>\\\\\n",
       "\\hline\n",
       "\t 1 & 0 & 0.500000 & 0.1666667 & 0.083333333\\\\\n",
       "\t 1 & 1 & 0.500000 & 0.1666667 & 0.083333333\\\\\n",
       "\t 1 & 2 & 0.000000 & 0.1666667 & 0.000000000\\\\\n",
       "\t 1 & 3 & 0.000000 & 0.1666667 & 0.000000000\\\\\n",
       "\t 1 & 4 & 0.000000 & 0.1666667 & 0.000000000\\\\\n",
       "\t 1 & 5 & 0.000000 & 0.1666667 & 0.000000000\\\\\n",
       "\t 1 & 6 & 0.000000 & 0.1666667 & 0.000000000\\\\\n",
       "\t 2 & 0 & 0.250000 & 0.1666667 & 0.041666667\\\\\n",
       "\t 2 & 1 & 0.500000 & 0.1666667 & 0.083333333\\\\\n",
       "\t 2 & 2 & 0.250000 & 0.1666667 & 0.041666667\\\\\n",
       "\t 2 & 3 & 0.000000 & 0.1666667 & 0.000000000\\\\\n",
       "\t 2 & 4 & 0.000000 & 0.1666667 & 0.000000000\\\\\n",
       "\t 2 & 5 & 0.000000 & 0.1666667 & 0.000000000\\\\\n",
       "\t 2 & 6 & 0.000000 & 0.1666667 & 0.000000000\\\\\n",
       "\t 3 & 0 & 0.125000 & 0.1666667 & 0.020833333\\\\\n",
       "\t 3 & 1 & 0.375000 & 0.1666667 & 0.062500000\\\\\n",
       "\t 3 & 2 & 0.375000 & 0.1666667 & 0.062500000\\\\\n",
       "\t 3 & 3 & 0.125000 & 0.1666667 & 0.020833333\\\\\n",
       "\t 3 & 4 & 0.000000 & 0.1666667 & 0.000000000\\\\\n",
       "\t 3 & 5 & 0.000000 & 0.1666667 & 0.000000000\\\\\n",
       "\t 3 & 6 & 0.000000 & 0.1666667 & 0.000000000\\\\\n",
       "\t 4 & 0 & 0.062500 & 0.1666667 & 0.010416667\\\\\n",
       "\t 4 & 1 & 0.250000 & 0.1666667 & 0.041666667\\\\\n",
       "\t 4 & 2 & 0.375000 & 0.1666667 & 0.062500000\\\\\n",
       "\t 4 & 3 & 0.250000 & 0.1666667 & 0.041666667\\\\\n",
       "\t 4 & 4 & 0.062500 & 0.1666667 & 0.010416667\\\\\n",
       "\t 4 & 5 & 0.000000 & 0.1666667 & 0.000000000\\\\\n",
       "\t 4 & 6 & 0.000000 & 0.1666667 & 0.000000000\\\\\n",
       "\t 5 & 0 & 0.031250 & 0.1666667 & 0.005208333\\\\\n",
       "\t 5 & 1 & 0.156250 & 0.1666667 & 0.026041667\\\\\n",
       "\t 5 & 2 & 0.312500 & 0.1666667 & 0.052083333\\\\\n",
       "\t 5 & 3 & 0.312500 & 0.1666667 & 0.052083333\\\\\n",
       "\t 5 & 4 & 0.156250 & 0.1666667 & 0.026041667\\\\\n",
       "\t 5 & 5 & 0.031250 & 0.1666667 & 0.005208333\\\\\n",
       "\t 5 & 6 & 0.000000 & 0.1666667 & 0.000000000\\\\\n",
       "\t 6 & 0 & 0.015625 & 0.1666667 & 0.002604167\\\\\n",
       "\t 6 & 1 & 0.093750 & 0.1666667 & 0.015625000\\\\\n",
       "\t 6 & 2 & 0.234375 & 0.1666667 & 0.039062500\\\\\n",
       "\t 6 & 3 & 0.312500 & 0.1666667 & 0.052083333\\\\\n",
       "\t 6 & 4 & 0.234375 & 0.1666667 & 0.039062500\\\\\n",
       "\t 6 & 5 & 0.093750 & 0.1666667 & 0.015625000\\\\\n",
       "\t 6 & 6 & 0.015625 & 0.1666667 & 0.002604167\\\\\n",
       "\\end{tabular}\n"
      ],
      "text/markdown": [
       "\n",
       "A grouped_df: 42 × 5\n",
       "\n",
       "| score &lt;int&gt; | heads &lt;int&gt; | prob.heads.given.score &lt;dbl&gt; | prob.score &lt;dbl&gt; | prob.heads.and.score &lt;dbl&gt; |\n",
       "|---|---|---|---|---|\n",
       "| 1 | 0 | 0.500000 | 0.1666667 | 0.083333333 |\n",
       "| 1 | 1 | 0.500000 | 0.1666667 | 0.083333333 |\n",
       "| 1 | 2 | 0.000000 | 0.1666667 | 0.000000000 |\n",
       "| 1 | 3 | 0.000000 | 0.1666667 | 0.000000000 |\n",
       "| 1 | 4 | 0.000000 | 0.1666667 | 0.000000000 |\n",
       "| 1 | 5 | 0.000000 | 0.1666667 | 0.000000000 |\n",
       "| 1 | 6 | 0.000000 | 0.1666667 | 0.000000000 |\n",
       "| 2 | 0 | 0.250000 | 0.1666667 | 0.041666667 |\n",
       "| 2 | 1 | 0.500000 | 0.1666667 | 0.083333333 |\n",
       "| 2 | 2 | 0.250000 | 0.1666667 | 0.041666667 |\n",
       "| 2 | 3 | 0.000000 | 0.1666667 | 0.000000000 |\n",
       "| 2 | 4 | 0.000000 | 0.1666667 | 0.000000000 |\n",
       "| 2 | 5 | 0.000000 | 0.1666667 | 0.000000000 |\n",
       "| 2 | 6 | 0.000000 | 0.1666667 | 0.000000000 |\n",
       "| 3 | 0 | 0.125000 | 0.1666667 | 0.020833333 |\n",
       "| 3 | 1 | 0.375000 | 0.1666667 | 0.062500000 |\n",
       "| 3 | 2 | 0.375000 | 0.1666667 | 0.062500000 |\n",
       "| 3 | 3 | 0.125000 | 0.1666667 | 0.020833333 |\n",
       "| 3 | 4 | 0.000000 | 0.1666667 | 0.000000000 |\n",
       "| 3 | 5 | 0.000000 | 0.1666667 | 0.000000000 |\n",
       "| 3 | 6 | 0.000000 | 0.1666667 | 0.000000000 |\n",
       "| 4 | 0 | 0.062500 | 0.1666667 | 0.010416667 |\n",
       "| 4 | 1 | 0.250000 | 0.1666667 | 0.041666667 |\n",
       "| 4 | 2 | 0.375000 | 0.1666667 | 0.062500000 |\n",
       "| 4 | 3 | 0.250000 | 0.1666667 | 0.041666667 |\n",
       "| 4 | 4 | 0.062500 | 0.1666667 | 0.010416667 |\n",
       "| 4 | 5 | 0.000000 | 0.1666667 | 0.000000000 |\n",
       "| 4 | 6 | 0.000000 | 0.1666667 | 0.000000000 |\n",
       "| 5 | 0 | 0.031250 | 0.1666667 | 0.005208333 |\n",
       "| 5 | 1 | 0.156250 | 0.1666667 | 0.026041667 |\n",
       "| 5 | 2 | 0.312500 | 0.1666667 | 0.052083333 |\n",
       "| 5 | 3 | 0.312500 | 0.1666667 | 0.052083333 |\n",
       "| 5 | 4 | 0.156250 | 0.1666667 | 0.026041667 |\n",
       "| 5 | 5 | 0.031250 | 0.1666667 | 0.005208333 |\n",
       "| 5 | 6 | 0.000000 | 0.1666667 | 0.000000000 |\n",
       "| 6 | 0 | 0.015625 | 0.1666667 | 0.002604167 |\n",
       "| 6 | 1 | 0.093750 | 0.1666667 | 0.015625000 |\n",
       "| 6 | 2 | 0.234375 | 0.1666667 | 0.039062500 |\n",
       "| 6 | 3 | 0.312500 | 0.1666667 | 0.052083333 |\n",
       "| 6 | 4 | 0.234375 | 0.1666667 | 0.039062500 |\n",
       "| 6 | 5 | 0.093750 | 0.1666667 | 0.015625000 |\n",
       "| 6 | 6 | 0.015625 | 0.1666667 | 0.002604167 |\n",
       "\n"
      ],
      "text/plain": [
       "   score heads prob.heads.given.score prob.score prob.heads.and.score\n",
       "1  1     0     0.500000               0.1666667  0.083333333         \n",
       "2  1     1     0.500000               0.1666667  0.083333333         \n",
       "3  1     2     0.000000               0.1666667  0.000000000         \n",
       "4  1     3     0.000000               0.1666667  0.000000000         \n",
       "5  1     4     0.000000               0.1666667  0.000000000         \n",
       "6  1     5     0.000000               0.1666667  0.000000000         \n",
       "7  1     6     0.000000               0.1666667  0.000000000         \n",
       "8  2     0     0.250000               0.1666667  0.041666667         \n",
       "9  2     1     0.500000               0.1666667  0.083333333         \n",
       "10 2     2     0.250000               0.1666667  0.041666667         \n",
       "11 2     3     0.000000               0.1666667  0.000000000         \n",
       "12 2     4     0.000000               0.1666667  0.000000000         \n",
       "13 2     5     0.000000               0.1666667  0.000000000         \n",
       "14 2     6     0.000000               0.1666667  0.000000000         \n",
       "15 3     0     0.125000               0.1666667  0.020833333         \n",
       "16 3     1     0.375000               0.1666667  0.062500000         \n",
       "17 3     2     0.375000               0.1666667  0.062500000         \n",
       "18 3     3     0.125000               0.1666667  0.020833333         \n",
       "19 3     4     0.000000               0.1666667  0.000000000         \n",
       "20 3     5     0.000000               0.1666667  0.000000000         \n",
       "21 3     6     0.000000               0.1666667  0.000000000         \n",
       "22 4     0     0.062500               0.1666667  0.010416667         \n",
       "23 4     1     0.250000               0.1666667  0.041666667         \n",
       "24 4     2     0.375000               0.1666667  0.062500000         \n",
       "25 4     3     0.250000               0.1666667  0.041666667         \n",
       "26 4     4     0.062500               0.1666667  0.010416667         \n",
       "27 4     5     0.000000               0.1666667  0.000000000         \n",
       "28 4     6     0.000000               0.1666667  0.000000000         \n",
       "29 5     0     0.031250               0.1666667  0.005208333         \n",
       "30 5     1     0.156250               0.1666667  0.026041667         \n",
       "31 5     2     0.312500               0.1666667  0.052083333         \n",
       "32 5     3     0.312500               0.1666667  0.052083333         \n",
       "33 5     4     0.156250               0.1666667  0.026041667         \n",
       "34 5     5     0.031250               0.1666667  0.005208333         \n",
       "35 5     6     0.000000               0.1666667  0.000000000         \n",
       "36 6     0     0.015625               0.1666667  0.002604167         \n",
       "37 6     1     0.093750               0.1666667  0.015625000         \n",
       "38 6     2     0.234375               0.1666667  0.039062500         \n",
       "39 6     3     0.312500               0.1666667  0.052083333         \n",
       "40 6     4     0.234375               0.1666667  0.039062500         \n",
       "41 6     5     0.093750               0.1666667  0.015625000         \n",
       "42 6     6     0.015625               0.1666667  0.002604167         "
      ]
     },
     "metadata": {},
     "output_type": "display_data"
    }
   ],
   "source": [
    "expand_grid(score=1:6,heads=0:6) %>% group_by(heads,score) %>%\n",
    "     mutate(prob.heads.given.score=sum(dbinom(heads,size=score,prob=1/2)),prob.score=1/6) %>%\n",
    "     mutate(prob.heads.and.score=prob.score*prob.heads.given.score) %>%\n",
    "     unique()  "
   ]
  },
  {
   "cell_type": "code",
   "execution_count": 57,
   "id": "05e26cb9",
   "metadata": {
    "scrolled": true,
    "vscode": {
     "languageId": "r"
    }
   },
   "outputs": [],
   "source": [
    "## get total probability of each score for example for 0, for 1 till 6\n",
    "expand_grid(score=1:6,heads=0:6) %>% group_by(heads,score) %>%\n",
    "     mutate(prob.heads.given.score=sum(dbinom(heads,size=score,prob=1/2)),prob.score=1/6) %>%\n",
    "       mutate(prob.heads.and.score=prob.score*prob.heads.given.score) %>% group_by(heads) %>%\n",
    "       mutate(prob.heads=sum(prob.heads.and.score),prob.score.given.heads=prob.heads.and.score/prob.heads)->tmp\n",
    "    "
   ]
  },
  {
   "cell_type": "code",
   "execution_count": 62,
   "id": "1e93219b",
   "metadata": {
    "scrolled": false,
    "vscode": {
     "languageId": "r"
    }
   },
   "outputs": [
    {
     "data": {
      "text/html": [
       "<table class=\"dataframe\">\n",
       "<caption>A grouped_df: 7 × 2</caption>\n",
       "<thead>\n",
       "\t<tr><th scope=col>heads</th><th scope=col>prob.heads</th></tr>\n",
       "\t<tr><th scope=col>&lt;int&gt;</th><th scope=col>&lt;dbl&gt;</th></tr>\n",
       "</thead>\n",
       "<tbody>\n",
       "\t<tr><td>0</td><td>0.164062500</td></tr>\n",
       "\t<tr><td>1</td><td>0.312500000</td></tr>\n",
       "\t<tr><td>2</td><td>0.257812500</td></tr>\n",
       "\t<tr><td>3</td><td>0.166666667</td></tr>\n",
       "\t<tr><td>4</td><td>0.075520833</td></tr>\n",
       "\t<tr><td>5</td><td>0.020833333</td></tr>\n",
       "\t<tr><td>6</td><td>0.002604167</td></tr>\n",
       "</tbody>\n",
       "</table>\n"
      ],
      "text/latex": [
       "A grouped\\_df: 7 × 2\n",
       "\\begin{tabular}{ll}\n",
       " heads & prob.heads\\\\\n",
       " <int> & <dbl>\\\\\n",
       "\\hline\n",
       "\t 0 & 0.164062500\\\\\n",
       "\t 1 & 0.312500000\\\\\n",
       "\t 2 & 0.257812500\\\\\n",
       "\t 3 & 0.166666667\\\\\n",
       "\t 4 & 0.075520833\\\\\n",
       "\t 5 & 0.020833333\\\\\n",
       "\t 6 & 0.002604167\\\\\n",
       "\\end{tabular}\n"
      ],
      "text/markdown": [
       "\n",
       "A grouped_df: 7 × 2\n",
       "\n",
       "| heads &lt;int&gt; | prob.heads &lt;dbl&gt; |\n",
       "|---|---|\n",
       "| 0 | 0.164062500 |\n",
       "| 1 | 0.312500000 |\n",
       "| 2 | 0.257812500 |\n",
       "| 3 | 0.166666667 |\n",
       "| 4 | 0.075520833 |\n",
       "| 5 | 0.020833333 |\n",
       "| 6 | 0.002604167 |\n",
       "\n"
      ],
      "text/plain": [
       "  heads prob.heads \n",
       "1 0     0.164062500\n",
       "2 1     0.312500000\n",
       "3 2     0.257812500\n",
       "4 3     0.166666667\n",
       "5 4     0.075520833\n",
       "6 5     0.020833333\n",
       "7 6     0.002604167"
      ]
     },
     "metadata": {},
     "output_type": "display_data"
    }
   ],
   "source": [
    "tmp %>% select(heads,prob.heads) %>% unique()->dh\n",
    "dh"
   ]
  },
  {
   "cell_type": "code",
   "execution_count": 70,
   "id": "8b7f81b7",
   "metadata": {
    "vscode": {
     "languageId": "r"
    }
   },
   "outputs": [
    {
     "data": {
      "text/html": [
       "1.75"
      ],
      "text/latex": [
       "1.75"
      ],
      "text/markdown": [
       "1.75"
      ],
      "text/plain": [
       "[1] 1.75"
      ]
     },
     "metadata": {},
     "output_type": "display_data"
    }
   ],
   "source": [
    "sum(dh$heads*dh$prob.heads)->E.X\n",
    "E.X"
   ]
  },
  {
   "cell_type": "code",
   "execution_count": 69,
   "id": "6893788f",
   "metadata": {
    "scrolled": true,
    "vscode": {
     "languageId": "r"
    }
   },
   "outputs": [
    {
     "data": {
      "text/html": [
       "<style>\n",
       ".list-inline {list-style: none; margin:0; padding: 0}\n",
       ".list-inline>li {display: inline-block}\n",
       ".list-inline>li:not(:last-child)::after {content: \"\\00b7\"; padding: 0 .5ex}\n",
       "</style>\n",
       "<ol class=list-inline><li>0</li><li>0.3125</li><li>0.515625</li><li>0.5</li><li>0.302083333333333</li><li>0.104166666666667</li><li>0.015625</li></ol>\n"
      ],
      "text/latex": [
       "\\begin{enumerate*}\n",
       "\\item 0\n",
       "\\item 0.3125\n",
       "\\item 0.515625\n",
       "\\item 0.5\n",
       "\\item 0.302083333333333\n",
       "\\item 0.104166666666667\n",
       "\\item 0.015625\n",
       "\\end{enumerate*}\n"
      ],
      "text/markdown": [
       "1. 0\n",
       "2. 0.3125\n",
       "3. 0.515625\n",
       "4. 0.5\n",
       "5. 0.302083333333333\n",
       "6. 0.104166666666667\n",
       "7. 0.015625\n",
       "\n",
       "\n"
      ],
      "text/plain": [
       "[1] 0.0000000 0.3125000 0.5156250 0.5000000 0.3020833 0.1041667 0.0156250"
      ]
     },
     "metadata": {},
     "output_type": "display_data"
    }
   ],
   "source": [
    "dh$heads*dh$prob.heads"
   ]
  },
  {
   "cell_type": "code",
   "execution_count": 71,
   "id": "9112c7b8",
   "metadata": {
    "scrolled": true,
    "vscode": {
     "languageId": "r"
    }
   },
   "outputs": [
    {
     "data": {
      "text/html": [
       "4.66666666666667"
      ],
      "text/latex": [
       "4.66666666666667"
      ],
      "text/markdown": [
       "4.66666666666667"
      ],
      "text/plain": [
       "[1] 4.666667"
      ]
     },
     "metadata": {},
     "output_type": "display_data"
    }
   ],
   "source": [
    "E.X2<-sum(dh$heads**2*dh$prob.heads)\n",
    "E.X2"
   ]
  },
  {
   "cell_type": "code",
   "execution_count": 72,
   "id": "d9a024e6",
   "metadata": {
    "vscode": {
     "languageId": "r"
    }
   },
   "outputs": [
    {
     "data": {
      "text/html": [
       "1.60416666666667"
      ],
      "text/latex": [
       "1.60416666666667"
      ],
      "text/markdown": [
       "1.60416666666667"
      ],
      "text/plain": [
       "[1] 1.604167"
      ]
     },
     "metadata": {},
     "output_type": "display_data"
    }
   ],
   "source": [
    "V.X=E.X2-E.X**2\n",
    "V.X"
   ]
  },
  {
   "attachments": {},
   "cell_type": "markdown",
   "id": "e075a0b1",
   "metadata": {},
   "source": [
    "Consider a lottery of 20 tickets. Among the tickets there is are 1 first\n",
    "prize, 4 second prizes and 15 rivets. 5 tickets are drawn from the lottery\n",
    "drum. Determine the probability that\n",
    " + (a) 2 rivets have been drawn.\n",
    " + (b) 2 rivets, 2 second prizes and the first prize were drawn.\n",
    " + (c) the 5th ticket drawn is the first ticket which is not a rivet."
   ]
  },
  {
   "attachments": {},
   "cell_type": "markdown",
   "id": "950f5f98",
   "metadata": {},
   "source": [
    "# without replacement"
   ]
  },
  {
   "cell_type": "code",
   "execution_count": 85,
   "id": "6c7caf3d",
   "metadata": {
    "collapsed": true,
    "vscode": {
     "languageId": "r"
    }
   },
   "outputs": [
    {
     "data": {
      "text/html": [
       "0.088"
      ],
      "text/latex": [
       "0.088"
      ],
      "text/markdown": [
       "0.088"
      ],
      "text/plain": [
       "[1] 0.088"
      ]
     },
     "metadata": {},
     "output_type": "display_data"
    }
   ],
   "source": [
    "# (a)\n",
    "# p(X=2)\n",
    "dbinom(2,size=5,prob=15/20) %>% round(3)\n",
    "# or"
   ]
  },
  {
   "cell_type": "code",
   "execution_count": 82,
   "id": "f3c796b4",
   "metadata": {
    "vscode": {
     "languageId": "r"
    }
   },
   "outputs": [
    {
     "data": {
      "text/html": [
       "0.088"
      ],
      "text/latex": [
       "0.088"
      ],
      "text/markdown": [
       "0.088"
      ],
      "text/plain": [
       "[1] 0.088"
      ]
     },
     "metadata": {},
     "output_type": "display_data"
    }
   ],
   "source": [
    "(choose(5,2)*(15/20)**2*(5/20)**3) %>% round(3)"
   ]
  },
  {
   "cell_type": "code",
   "execution_count": 88,
   "id": "88b7c625",
   "metadata": {
    "vscode": {
     "languageId": "r"
    }
   },
   "outputs": [
    {
     "data": {
      "text/html": [
       "0.03375"
      ],
      "text/latex": [
       "0.03375"
      ],
      "text/markdown": [
       "0.03375"
      ],
      "text/plain": [
       "[1] 0.03375"
      ]
     },
     "metadata": {},
     "output_type": "display_data"
    }
   ],
   "source": [
    "# (b)\n",
    "# P(X_r=2,X_s=2,X_f=1)\n",
    "( (factorial(5))/(factorial(2)*factorial(2)*factorial(1)) )*(15/20)**2*(4/20)**2*(1/20)\n",
    "# or"
   ]
  },
  {
   "cell_type": "code",
   "execution_count": 87,
   "id": "ce1a6fed",
   "metadata": {
    "scrolled": true,
    "vscode": {
     "languageId": "r"
    }
   },
   "outputs": [
    {
     "data": {
      "text/html": [
       "0.03375"
      ],
      "text/latex": [
       "0.03375"
      ],
      "text/markdown": [
       "0.03375"
      ],
      "text/plain": [
       "[1] 0.03375"
      ]
     },
     "metadata": {},
     "output_type": "display_data"
    }
   ],
   "source": [
    "dmultinom(x=c(2,2,1),size=5,prob=c(15/20,4/20,1/20))"
   ]
  },
  {
   "cell_type": "code",
   "execution_count": 92,
   "id": "2000294f",
   "metadata": {
    "vscode": {
     "languageId": "r"
    }
   },
   "outputs": [
    {
     "data": {
      "text/html": [
       "0.0791015625"
      ],
      "text/latex": [
       "0.0791015625"
      ],
      "text/markdown": [
       "0.0791015625"
      ],
      "text/plain": [
       "[1] 0.07910156"
      ]
     },
     "metadata": {},
     "output_type": "display_data"
    }
   ],
   "source": [
    "# (c)\n",
    "# P(U=5) \n",
    "## first four trial are rivets so prob is,\n",
    "#(15/20)**4\n",
    "## the fith trial is not a rivet so prob is,\n",
    "#(5/20)\n",
    "\n",
    "# so \n",
    "((15/20)**4)*(5/20)\n"
   ]
  },
  {
   "attachments": {},
   "cell_type": "markdown",
   "id": "637e2c3c",
   "metadata": {},
   "source": [
    "# with replacement"
   ]
  },
  {
   "cell_type": "code",
   "execution_count": 95,
   "id": "35db9d98",
   "metadata": {
    "vscode": {
     "languageId": "r"
    }
   },
   "outputs": [
    {
     "data": {
      "text/html": [
       "0.0677244582043344"
      ],
      "text/latex": [
       "0.0677244582043344"
      ],
      "text/markdown": [
       "0.0677244582043344"
      ],
      "text/plain": [
       "[1] 0.06772446"
      ]
     },
     "metadata": {},
     "output_type": "display_data"
    }
   ],
   "source": [
    "# (a)\n",
    "( choose(15,2)*choose(5,3) )/choose(20,5)"
   ]
  },
  {
   "cell_type": "code",
   "execution_count": 96,
   "id": "9c2edea4",
   "metadata": {
    "vscode": {
     "languageId": "r"
    }
   },
   "outputs": [
    {
     "data": {
      "text/html": [
       "0.0406346749226006"
      ],
      "text/latex": [
       "0.0406346749226006"
      ],
      "text/markdown": [
       "0.0406346749226006"
      ],
      "text/plain": [
       "[1] 0.04063467"
      ]
     },
     "metadata": {},
     "output_type": "display_data"
    }
   ],
   "source": [
    "# (b)\n",
    "( choose(15,2)*choose(4,2) *choose(1,1))/choose(20,5)"
   ]
  },
  {
   "cell_type": "code",
   "execution_count": 97,
   "id": "b7afb412",
   "metadata": {
    "scrolled": true,
    "vscode": {
     "languageId": "r"
    }
   },
   "outputs": [
    {
     "data": {
      "text/html": [
       "0.0880417956656347"
      ],
      "text/latex": [
       "0.0880417956656347"
      ],
      "text/markdown": [
       "0.0880417956656347"
      ],
      "text/plain": [
       "[1] 0.0880418"
      ]
     },
     "metadata": {},
     "output_type": "display_data"
    }
   ],
   "source": [
    "# (c)\n",
    "\n",
    "(choose(15,4)/choose(20,4))*(5/16)"
   ]
  },
  {
   "attachments": {},
   "cell_type": "markdown",
   "id": "b71e9005",
   "metadata": {},
   "source": [
    "<h3 style=\"color:blue;text-align:center\">Normal Distributions<h3>"
   ]
  },
  {
   "attachments": {},
   "cell_type": "markdown",
   "id": "f3b170b8",
   "metadata": {},
   "source": [
    "<h2 style=\"color:purple;text-align:center\">Exercise 1<h2>\n"
   ]
  },
  {
   "attachments": {},
   "cell_type": "markdown",
   "id": "4dc9be53",
   "metadata": {},
   "source": [
    "R offers a number of functions for calculating with normal distributions.\n",
    "Call them up in the RStudio Help area with the keyword Normal and\n",
    "familiarize yourself with them.\n",
    "R has four in built functions to generate normal distribution."
   ]
  },
  {
   "attachments": {},
   "cell_type": "markdown",
   "id": "19ede828",
   "metadata": {},
   "source": [
    "+ The function <code>dnorm()</code> gives height of the probability distribution\n",
    "  at each point for a given mean and standard deviation. Apply this\n",
    "  function to create a plot the density of the normal distribution\n",
    "  with mean 2.5 and standard deviation 1.5."
   ]
  },
  {
   "cell_type": "code",
   "execution_count": 3,
   "id": "0050c68c",
   "metadata": {
    "scrolled": true,
    "vscode": {
     "languageId": "r"
    }
   },
   "outputs": [
    {
     "data": {
      "text/html": [
       "<style>\n",
       ".list-inline {list-style: none; margin:0; padding: 0}\n",
       ".list-inline>li {display: inline-block}\n",
       ".list-inline>li:not(:last-child)::after {content: \"\\00b7\"; padding: 0 .5ex}\n",
       "</style>\n",
       "<ol class=list-inline><li>-10</li><li>-9</li><li>-8</li><li>-7</li><li>-6</li><li>-5</li><li>-4</li><li>-3</li><li>-2</li><li>-1</li><li>0</li><li>1</li><li>2</li><li>3</li><li>4</li><li>5</li><li>6</li><li>7</li><li>8</li><li>9</li><li>10</li></ol>\n"
      ],
      "text/latex": [
       "\\begin{enumerate*}\n",
       "\\item -10\n",
       "\\item -9\n",
       "\\item -8\n",
       "\\item -7\n",
       "\\item -6\n",
       "\\item -5\n",
       "\\item -4\n",
       "\\item -3\n",
       "\\item -2\n",
       "\\item -1\n",
       "\\item 0\n",
       "\\item 1\n",
       "\\item 2\n",
       "\\item 3\n",
       "\\item 4\n",
       "\\item 5\n",
       "\\item 6\n",
       "\\item 7\n",
       "\\item 8\n",
       "\\item 9\n",
       "\\item 10\n",
       "\\end{enumerate*}\n"
      ],
      "text/markdown": [
       "1. -10\n",
       "2. -9\n",
       "3. -8\n",
       "4. -7\n",
       "5. -6\n",
       "6. -5\n",
       "7. -4\n",
       "8. -3\n",
       "9. -2\n",
       "10. -1\n",
       "11. 0\n",
       "12. 1\n",
       "13. 2\n",
       "14. 3\n",
       "15. 4\n",
       "16. 5\n",
       "17. 6\n",
       "18. 7\n",
       "19. 8\n",
       "20. 9\n",
       "21. 10\n",
       "\n",
       "\n"
      ],
      "text/plain": [
       " [1] -10  -9  -8  -7  -6  -5  -4  -3  -2  -1   0   1   2   3   4   5   6   7   8\n",
       "[20]   9  10"
      ]
     },
     "metadata": {},
     "output_type": "display_data"
    }
   ],
   "source": [
    "mu<-2.5\n",
    "sd<-1.5\n",
    "x<-seq(-10,10,by=1)\n",
    "x"
   ]
  },
  {
   "cell_type": "code",
   "execution_count": 9,
   "id": "c978c338",
   "metadata": {
    "scrolled": true,
    "vscode": {
     "languageId": "r"
    }
   },
   "outputs": [
    {
     "data": {
      "image/png": "[encoded data removed]",
      "text/plain": [
       "plot without title"
      ]
     },
     "metadata": {
      "image/png": {
       "height": 420,
       "width": 420
      }
     },
     "output_type": "display_data"
    }
   ],
   "source": [
    "plot(x,y=dnorm(x,mean = mu,sd = sd),type='l',col = 'blue')"
   ]
  },
  {
   "attachments": {},
   "cell_type": "markdown",
   "id": "92b5d44a",
   "metadata": {},
   "source": [
    "+ <code>pnorm()</code> gives the probability of a normally distributed random\n",
    "  number to be less that the value of a given number (cumulative\n",
    "  distribution function). Apply this function to create a plot of the\n",
    "   normal distribution function with mean 2.5 and standard devia-\n",
    "  tion 1.5. Furthermore evaluate the probabilities\n",
    "  \n",
    "  $$P(X<=2),P(X>3.1),P(1<X<=3.5)$$  where $$ X \\sim N(2.5,1.5^2)$$\n",
    "     "
   ]
  },
  {
   "cell_type": "code",
   "execution_count": 11,
   "id": "a00ee854",
   "metadata": {
    "vscode": {
     "languageId": "r"
    }
   },
   "outputs": [
    {
     "data": {
      "image/png": "[encoded data removed]",
      "text/plain": [
       "plot without title"
      ]
     },
     "metadata": {
      "image/png": {
       "height": 420,
       "width": 420
      }
     },
     "output_type": "display_data"
    }
   ],
   "source": [
    "plot(x,pnorm(x,mean=mu,sd=sd),type='l',col='blue')"
   ]
  },
  {
   "cell_type": "code",
   "execution_count": 13,
   "id": "98d5cd32",
   "metadata": {
    "scrolled": true,
    "vscode": {
     "languageId": "r"
    }
   },
   "outputs": [
    {
     "data": {
      "text/html": [
       "0.369441340181764"
      ],
      "text/latex": [
       "0.369441340181764"
      ],
      "text/markdown": [
       "0.369441340181764"
      ],
      "text/plain": [
       "[1] 0.3694413"
      ]
     },
     "metadata": {},
     "output_type": "display_data"
    }
   ],
   "source": [
    "#P(X<=2)\n",
    "pnorm(2,mean=mu,sd=sd)"
   ]
  },
  {
   "cell_type": "code",
   "execution_count": 14,
   "id": "511629fb",
   "metadata": {
    "vscode": {
     "languageId": "r"
    }
   },
   "outputs": [
    {
     "data": {
      "text/html": [
       "0.344578258389676"
      ],
      "text/latex": [
       "0.344578258389676"
      ],
      "text/markdown": [
       "0.344578258389676"
      ],
      "text/plain": [
       "[1] 0.3445783"
      ]
     },
     "metadata": {},
     "output_type": "display_data"
    }
   ],
   "source": [
    "#P(X>3.1)\n",
    "1-pnorm(q = 3.1,mean=mu,sd=sd)"
   ]
  },
  {
   "cell_type": "code",
   "execution_count": 16,
   "id": "86913d1d",
   "metadata": {
    "vscode": {
     "languageId": "r"
    }
   },
   "outputs": [
    {
     "data": {
      "text/html": [
       "0.58885220852162"
      ],
      "text/latex": [
       "0.58885220852162"
      ],
      "text/markdown": [
       "0.58885220852162"
      ],
      "text/plain": [
       "[1] 0.5888522"
      ]
     },
     "metadata": {},
     "output_type": "display_data"
    }
   ],
   "source": [
    "#P(1<X<=3.5)\n",
    "pnorm(q=3.5,mean=mu,sd=sd)-pnorm(q=1,mean=mu,sd=sd)"
   ]
  },
  {
   "attachments": {},
   "cell_type": "markdown",
   "id": "0af6debf",
   "metadata": {},
   "source": [
    "+ <code>qnorm()</code> takes the probability value and gives a number whose\n",
    "  cumulative value matches the probability value (quantile). Apply\n",
    "  this function to plot the quantiles of the normal distribution with\n",
    "  mean 2.5 and standard deviation 1.5 and evaluate the 3 quartiles\n",
    "  of the distribution."
   ]
  },
  {
   "cell_type": "code",
   "execution_count": 18,
   "id": "97302330",
   "metadata": {
    "vscode": {
     "languageId": "r"
    }
   },
   "outputs": [
    {
     "data": {
      "image/png": "[encoded data removed]",
      "text/plain": [
       "plot without title"
      ]
     },
     "metadata": {
      "image/png": {
       "height": 420,
       "width": 420
      }
     },
     "output_type": "display_data"
    }
   ],
   "source": [
    "plot(seq(0,1,by=0.02),qnorm(seq(0,1,by=0.02),mean=mu,sd=sd),type='l',col='blue')"
   ]
  },
  {
   "cell_type": "code",
   "execution_count": 19,
   "id": "8ce2abdf",
   "metadata": {
    "vscode": {
     "languageId": "r"
    }
   },
   "outputs": [
    {
     "data": {
      "text/html": [
       "<style>\n",
       ".list-inline {list-style: none; margin:0; padding: 0}\n",
       ".list-inline>li {display: inline-block}\n",
       ".list-inline>li:not(:last-child)::after {content: \"\\00b7\"; padding: 0 .5ex}\n",
       "</style>\n",
       "<ol class=list-inline><li>1.48826537470588</li><li>2.5</li><li>3.51173462529412</li></ol>\n"
      ],
      "text/latex": [
       "\\begin{enumerate*}\n",
       "\\item 1.48826537470588\n",
       "\\item 2.5\n",
       "\\item 3.51173462529412\n",
       "\\end{enumerate*}\n"
      ],
      "text/markdown": [
       "1. 1.48826537470588\n",
       "2. 2.5\n",
       "3. 3.51173462529412\n",
       "\n",
       "\n"
      ],
      "text/plain": [
       "[1] 1.488265 2.500000 3.511735"
      ]
     },
     "metadata": {},
     "output_type": "display_data"
    }
   ],
   "source": [
    "# Quartiles\n",
    "qnorm(c(0.25,0.5,0.75),mean=mu,sd=sd)"
   ]
  },
  {
   "attachments": {},
   "cell_type": "markdown",
   "id": "4cb77710",
   "metadata": {},
   "source": [
    "+ <code>rnorm()</code> is used to generate random numbers whose distribution is\n",
    "  normal. It takes the sample size as input and generates that many\n",
    "  random numbers. Draw a histogram to show the distribution of\n",
    "  the generated numbers which are normally distributed with mean\n",
    "  2.5 and standard deviation 1.5 ."
   ]
  },
  {
   "cell_type": "code",
   "execution_count": 22,
   "id": "08b7ac0e",
   "metadata": {
    "scrolled": true,
    "vscode": {
     "languageId": "r"
    }
   },
   "outputs": [
    {
     "data": {
      "image/png": "[encoded data removed]",
      "text/plain": [
       "Plot with title “Histogram of rnorm(100, mean = mu, sd = sd)”"
      ]
     },
     "metadata": {
      "image/png": {
       "height": 420,
       "width": 420
      }
     },
     "output_type": "display_data"
    }
   ],
   "source": [
    "hist(rnorm(100,mean=mu,sd=sd))"
   ]
  },
  {
   "attachments": {},
   "cell_type": "markdown",
   "id": "a3dd289d",
   "metadata": {},
   "source": [
    "<h2 style=\"color:purple;text-align:center\">Exercise 2<h2>\n"
   ]
  },
  {
   "attachments": {},
   "cell_type": "markdown",
   "id": "61f8600f",
   "metadata": {},
   "source": [
    "Suppose that weights of bags of potato chips coming from a factory\n",
    "follow a normal distribution with mean 12.8 ounces and standard de-\n",
    "viation 0.6 ounces. If the manufacturer wants to keep the mean at\n",
    "12.8 ounces but adjust the standard deviation so that only 1% of the\n",
    "bags weigh less than 12 ounces, how small does he need to make that\n",
    "standard deviation?"
   ]
  },
  {
   "cell_type": "code",
   "execution_count": 23,
   "id": "b5b11a70",
   "metadata": {
    "vscode": {
     "languageId": "r"
    }
   },
   "outputs": [],
   "source": [
    "mu<-12.8\n",
    "sd<-0.6\n",
    "# X~N(12,0.6**2)\n",
    "X_p<-12"
   ]
  },
  {
   "attachments": {},
   "cell_type": "markdown",
   "id": "632baa32",
   "metadata": {},
   "source": [
    "$X_p=\\mu + \\sigma\\cdot X_q$\n",
    "find $\\sigma$"
   ]
  },
  {
   "cell_type": "code",
   "execution_count": 26,
   "id": "5823f8ce",
   "metadata": {
    "vscode": {
     "languageId": "r"
    }
   },
   "outputs": [
    {
     "data": {
      "text/html": [
       "0.343886659827195"
      ],
      "text/latex": [
       "0.343886659827195"
      ],
      "text/markdown": [
       "0.343886659827195"
      ],
      "text/plain": [
       "[1] 0.3438867"
      ]
     },
     "metadata": {},
     "output_type": "display_data"
    }
   ],
   "source": [
    "(12-12.8)/qnorm(0.01)  ## standard normal distribution mu=0, sd=1 \n"
   ]
  },
  {
   "attachments": {},
   "cell_type": "markdown",
   "id": "8cd33721",
   "metadata": {},
   "source": [
    "<h2 style=\"color:purple;text-align:center\">Exercise 3<h2>\n"
   ]
  },
  {
   "attachments": {},
   "cell_type": "markdown",
   "id": "34314a8d",
   "metadata": {},
   "source": [
    "In a silk spinning mill, raw fibers from silk cocoons are prepared to\n",
    "silk threads. It can be assumed that the useful silk thread length per\n",
    "cocoon is a normally distributed variable with expectation 800 m and\n",
    "variance 6400 $m^2$ ."
   ]
  },
  {
   "cell_type": "code",
   "execution_count": 28,
   "id": "9bb6d010",
   "metadata": {
    "vscode": {
     "languageId": "r"
    }
   },
   "outputs": [],
   "source": [
    "mu<-800\n",
    "sigma<-6400"
   ]
  },
  {
   "attachments": {},
   "cell_type": "markdown",
   "id": "29e8786d",
   "metadata": {},
   "source": [
    "+ Calculate the probability that the useful silk thread length from\n",
    "  a randomly selected cocoon is at least 750 m. Also calculate the\n",
    "  probability that the useful silk thread length from a randomly\n",
    "  selected cocoon exceeds 1000 m."
   ]
  },
  {
   "cell_type": "code",
   "execution_count": 29,
   "id": "7d4bbf35",
   "metadata": {
    "vscode": {
     "languageId": "r"
    }
   },
   "outputs": [
    {
     "data": {
      "text/html": [
       "0.734014470951299"
      ],
      "text/latex": [
       "0.734014470951299"
      ],
      "text/markdown": [
       "0.734014470951299"
      ],
      "text/plain": [
       "[1] 0.7340145"
      ]
     },
     "metadata": {},
     "output_type": "display_data"
    }
   ],
   "source": [
    "## P(X>=750)\n",
    "1-pnorm(q = 750,mean=mu,sd=sqrt(sigma))"
   ]
  },
  {
   "cell_type": "code",
   "execution_count": 30,
   "id": "74416df7",
   "metadata": {
    "vscode": {
     "languageId": "r"
    }
   },
   "outputs": [
    {
     "data": {
      "text/html": [
       "0.00620966532577616"
      ],
      "text/latex": [
       "0.00620966532577616"
      ],
      "text/markdown": [
       "0.00620966532577616"
      ],
      "text/plain": [
       "[1] 0.006209665"
      ]
     },
     "metadata": {},
     "output_type": "display_data"
    }
   ],
   "source": [
    "## P(X>1000)\n",
    "1-pnorm(q = 1000,mean=mu,sd=sqrt(sigma))"
   ]
  },
  {
   "attachments": {},
   "cell_type": "markdown",
   "id": "2742a410",
   "metadata": {},
   "source": [
    "+ Use appropriate assumptions and calculate the lower boundary c\n",
    "    and the higher boundary c̄ for the total length of the useful silk\n",
    "    thread for 10000 cocoons. These boundaries should at the same\n",
    "    time be guaranteed with a probability of 95%.\n",
    "    The boundaries should be selected in such a way that the proba-\n",
    "    bility for exceeding c̄ and going below c should be equally high."
   ]
  },
  {
   "cell_type": "code",
   "execution_count": 31,
   "id": "9db1600e",
   "metadata": {
    "vscode": {
     "languageId": "r"
    }
   },
   "outputs": [],
   "source": [
    "## new mean and variance\n",
    "mu<-mu*10000\n",
    "sigma<-sigma*10000"
   ]
  },
  {
   "cell_type": "code",
   "execution_count": 33,
   "id": "9140e227",
   "metadata": {
    "scrolled": true,
    "vscode": {
     "languageId": "r"
    }
   },
   "outputs": [
    {
     "data": {
      "text/html": [
       "0.025"
      ],
      "text/latex": [
       "0.025"
      ],
      "text/markdown": [
       "0.025"
      ],
      "text/plain": [
       "[1] 0.025"
      ]
     },
     "metadata": {},
     "output_type": "display_data"
    }
   ],
   "source": [
    "area_from_start_to_lower_limit<-((100-95)/2)/100\n",
    "area_from_start_to_lower_limit"
   ]
  },
  {
   "cell_type": "code",
   "execution_count": 34,
   "id": "64e554db",
   "metadata": {
    "vscode": {
     "languageId": "r"
    }
   },
   "outputs": [
    {
     "data": {
      "text/html": [
       "0.975"
      ],
      "text/latex": [
       "0.975"
      ],
      "text/markdown": [
       "0.975"
      ],
      "text/plain": [
       "[1] 0.975"
      ]
     },
     "metadata": {},
     "output_type": "display_data"
    }
   ],
   "source": [
    "area_from_start_to_upper_limit<-0.95+0.025\n",
    "area_from_start_to_upper_limit"
   ]
  },
  {
   "cell_type": "code",
   "execution_count": 35,
   "id": "71ea9236",
   "metadata": {
    "vscode": {
     "languageId": "r"
    }
   },
   "outputs": [
    {
     "data": {
      "text/html": [
       "7984320.28812368"
      ],
      "text/latex": [
       "7984320.28812368"
      ],
      "text/markdown": [
       "7984320.28812368"
      ],
      "text/plain": [
       "[1] 7984320"
      ]
     },
     "metadata": {},
     "output_type": "display_data"
    }
   ],
   "source": [
    "lower<-qnorm(area_from_start_to_lower_limit,mean=mu,sd=sqrt(sigma))\n",
    "lower"
   ]
  },
  {
   "cell_type": "code",
   "execution_count": 36,
   "id": "5d826f12",
   "metadata": {
    "vscode": {
     "languageId": "r"
    }
   },
   "outputs": [
    {
     "data": {
      "text/html": [
       "8015679.71187632"
      ],
      "text/latex": [
       "8015679.71187632"
      ],
      "text/markdown": [
       "8015679.71187632"
      ],
      "text/plain": [
       "[1] 8015680"
      ]
     },
     "metadata": {},
     "output_type": "display_data"
    }
   ],
   "source": [
    "lower<-qnorm(area_from_start_to_upper_limit,mean=mu,sd=sqrt(sigma))\n",
    "lower"
   ]
  },
  {
   "attachments": {},
   "cell_type": "markdown",
   "id": "31a59b95",
   "metadata": {},
   "source": [
    "+ Assume that the variance still is the same as before. How high\n",
    "    must the expetation of the useful silk thread length at least be, if\n",
    "    we would like the total useful silk length to be at least 750 m with\n",
    "    a probability of 0.90."
   ]
  },
  {
   "cell_type": "code",
   "execution_count": null,
   "id": "727ec19f",
   "metadata": {
    "vscode": {
     "languageId": "r"
    }
   },
   "outputs": [],
   "source": [
    "## X~N(mu, 6400) if P(X>=750)=0.9 find mu\n",
    "## pnorm(750,mean=mu,sd=sqrt(sigma))=0.9 find mu?\n",
    "## we have to try an opposite approach"
   ]
  },
  {
   "cell_type": "code",
   "execution_count": 37,
   "id": "1eaff54b",
   "metadata": {
    "vscode": {
     "languageId": "r"
    }
   },
   "outputs": [
    {
     "data": {
      "text/html": [
       "852.524125243568"
      ],
      "text/latex": [
       "852.524125243568"
      ],
      "text/markdown": [
       "852.524125243568"
      ],
      "text/plain": [
       "[1] 852.5241"
      ]
     },
     "metadata": {},
     "output_type": "display_data"
    }
   ],
   "source": [
    "# Given values\n",
    "sigma <- 6400 # Assuming a value for sigma for demonstration purposes\n",
    "desired_prob <- 0.9\n",
    "observed_value <- 750\n",
    "\n",
    "# Solve for mu using the quantile function (inverse cumulative distribution function)\n",
    "mu <- qnorm(desired_prob, mean = observed_value, sd = sqrt(sigma))\n",
    "mu"
   ]
  },
  {
   "attachments": {},
   "cell_type": "markdown",
   "id": "ef7383d2",
   "metadata": {},
   "source": [
    "  +  10 cocoons are randomly chosen. With which probability is at\n",
    "     most for one of these cocoons the useful silk thread length less\n",
    "     than 750 m?"
   ]
  },
  {
   "cell_type": "code",
   "execution_count": 40,
   "id": "5b7f611a",
   "metadata": {
    "vscode": {
     "languageId": "r"
    }
   },
   "outputs": [
    {
     "data": {
      "text/html": [
       "0.209911760339968"
      ],
      "text/latex": [
       "0.209911760339968"
      ],
      "text/markdown": [
       "0.209911760339968"
      ],
      "text/plain": [
       "[1] 0.2099118"
      ]
     },
     "metadata": {},
     "output_type": "display_data"
    }
   ],
   "source": [
    "mu<-800\n",
    "sigma<-6400\n",
    "p<-pnorm(750,mean=mu,sd=sqrt(sigma))\n",
    "pbinom(1,10,prob = p)"
   ]
  },
  {
   "attachments": {},
   "cell_type": "markdown",
   "id": "282433c3",
   "metadata": {},
   "source": [
    "<h2 style=\"color:purple;text-align:center\">Exercise 4<h2>\n"
   ]
  },
  {
   "attachments": {},
   "cell_type": "markdown",
   "id": "9be9b565",
   "metadata": {},
   "source": [
    "Peter and Paul agree to meet at a restaurant at noon. Peter arrives at\n",
    "a time normally distributed with mean 12:00 and standard deviation\n",
    "5 minutes. Paul arrives at a time normally distributed with mean\n",
    "12:02 and standard deviation 2 minutes. Assuming the two arrivals are\n",
    "independent, find the probabilty that"
   ]
  },
  {
   "cell_type": "code",
   "execution_count": 41,
   "id": "f84a67fd",
   "metadata": {
    "vscode": {
     "languageId": "r"
    }
   },
   "outputs": [],
   "source": [
    "# Peter X ~ N(12,(5/60)**2)\n",
    "# Paul Y ~ N(12 2/30,(2/60)**2)\n",
    "pe_mu<-12\n",
    "pe_sd<-5/60\n",
    "pa_mu<-12+2/60\n",
    "pa_sd<-2/60"
   ]
  },
  {
   "attachments": {},
   "cell_type": "markdown",
   "id": "b4f1a039",
   "metadata": {},
   "source": [
    "+ Peter arrives before Paul"
   ]
  },
  {
   "cell_type": "code",
   "execution_count": 42,
   "id": "2a11200e",
   "metadata": {
    "vscode": {
     "languageId": "r"
    }
   },
   "outputs": [],
   "source": [
    "# P(X<Y)\n",
    "# P(X-Y<0)\n",
    "## now (X-Y) ~ N(pe_mu-pa_mu, (pe_sd)**2 + (pa_sd)**2)"
   ]
  },
  {
   "cell_type": "code",
   "execution_count": 43,
   "id": "e8031a69",
   "metadata": {
    "vscode": {
     "languageId": "r"
    }
   },
   "outputs": [
    {
     "data": {
      "text/html": [
       "0.644826715502216"
      ],
      "text/latex": [
       "0.644826715502216"
      ],
      "text/markdown": [
       "0.644826715502216"
      ],
      "text/plain": [
       "[1] 0.6448267"
      ]
     },
     "metadata": {},
     "output_type": "display_data"
    }
   ],
   "source": [
    "pnorm(0,mean=pe_mu-pa_mu,sd=sqrt( pe_sd**2 + pa_sd**2 ))"
   ]
  },
  {
   "attachments": {},
   "cell_type": "markdown",
   "id": "704d5397",
   "metadata": {},
   "source": [
    "+ both men arrive within 3 minutes of noon"
   ]
  },
  {
   "cell_type": "code",
   "execution_count": 44,
   "id": "9d750a61",
   "metadata": {
    "vscode": {
     "languageId": "r"
    }
   },
   "outputs": [],
   "source": [
    "##   P(  12-3/60<=X<=12+3/60 ), P(  12-3/60<=Y<=12+3/60 ) \n",
    "## = P(  12-3/60<=X<=12+3/60 )*P(  12-3/60<=Y<=12+3/60 )"
   ]
  },
  {
   "cell_type": "code",
   "execution_count": 47,
   "id": "cf095d7d",
   "metadata": {
    "scrolled": true,
    "vscode": {
     "languageId": "r"
    }
   },
   "outputs": [
    {
     "data": {
      "text/html": [
       "0.451493764499858"
      ],
      "text/latex": [
       "0.451493764499858"
      ],
      "text/markdown": [
       "0.451493764499858"
      ],
      "text/plain": [
       "[1] 0.4514938"
      ]
     },
     "metadata": {},
     "output_type": "display_data"
    }
   ],
   "source": [
    "# P(12-3/60<=X<=12+3/60 )\n",
    "\n",
    "peter<-pnorm(12+3/60,mean = pe_mu,sd=pe_sd) - \n",
    "          pnorm(12-3/60,mean = pe_mu,sd=pe_sd)\n",
    "peter"
   ]
  },
  {
   "cell_type": "code",
   "execution_count": 48,
   "id": "713fe213",
   "metadata": {
    "vscode": {
     "languageId": "r"
    }
   },
   "outputs": [
    {
     "data": {
      "text/html": [
       "0.685252795948246"
      ],
      "text/latex": [
       "0.685252795948246"
      ],
      "text/markdown": [
       "0.685252795948246"
      ],
      "text/plain": [
       "[1] 0.6852528"
      ]
     },
     "metadata": {},
     "output_type": "display_data"
    }
   ],
   "source": [
    "# P(12-3/60<=Y<=12+3/60 )\n",
    "\n",
    "paul<-pnorm(12+3/60,mean = pa_mu,sd=pa_sd) - \n",
    "          pnorm(12-3/60,mean = pa_mu,sd=pa_sd)\n",
    "paul"
   ]
  },
  {
   "cell_type": "code",
   "execution_count": 51,
   "id": "b0d665c4",
   "metadata": {
    "vscode": {
     "languageId": "r"
    }
   },
   "outputs": [
    {
     "data": {
      "text/html": [
       "0.3094"
      ],
      "text/latex": [
       "0.3094"
      ],
      "text/markdown": [
       "0.3094"
      ],
      "text/plain": [
       "[1] 0.3094"
      ]
     },
     "metadata": {},
     "output_type": "display_data"
    }
   ],
   "source": [
    "(peter*paul) %>% round(4)"
   ]
  },
  {
   "attachments": {},
   "cell_type": "markdown",
   "id": "6f7fadc4",
   "metadata": {},
   "source": [
    "+ the two men arrive within 3 minutes of each other"
   ]
  },
  {
   "cell_type": "code",
   "execution_count": 52,
   "id": "f0023d60",
   "metadata": {
    "vscode": {
     "languageId": "r"
    }
   },
   "outputs": [],
   "source": [
    "# P(|X-Y|<=3/60) ->>>>> p(-3/60<=(X-Y)<=3/60)"
   ]
  },
  {
   "cell_type": "code",
   "execution_count": 56,
   "id": "60c87a86",
   "metadata": {
    "scrolled": true,
    "vscode": {
     "languageId": "r"
    }
   },
   "outputs": [
    {
     "data": {
      "text/html": [
       "0.4"
      ],
      "text/latex": [
       "0.4"
      ],
      "text/markdown": [
       "0.4"
      ],
      "text/plain": [
       "[1] 0.4"
      ]
     },
     "metadata": {},
     "output_type": "display_data"
    }
   ],
   "source": [
    "(pnorm(3/60,mean=pe_mu-pa_mu,sd=sqrt( pe_sd**2 + pa_sd**2 )) - \n",
    "     pnorm(-3/60,mean=pe_mu-pa_mu,sd=sqrt( pe_sd**2 + pa_sd**2 ))) %>% \n",
    "               round(2)"
   ]
  },
  {
   "attachments": {},
   "cell_type": "markdown",
   "id": "2e67aeef",
   "metadata": {},
   "source": [
    "<h2 style=\"color:purple;text-align:center\">Exercise 5<h2>\n"
   ]
  },
  {
   "attachments": {},
   "cell_type": "markdown",
   "id": "2a279dc4",
   "metadata": {},
   "source": [
    "The weight of a melon, X, in kg is $N(\\mu = 1.2, \\sigma^2 = 0.32^2 )$, i.e. normally\n",
    "distributed with expectation 1.2 kg and standard deviation 0.3 kg. The\n",
    "weight Y for a pineapple is in kg $N(\\mu = 0.6, \\sigma^2 = 0.22^2 )$. We assume\n",
    "that a melon and a pineapple are chosen independently of each other."
   ]
  },
  {
   "attachments": {},
   "cell_type": "markdown",
   "id": "0acae3a7",
   "metadata": {},
   "source": [
    "+ Which distribution has the total weight of the two fruits?"
   ]
  },
  {
   "cell_type": "code",
   "execution_count": 64,
   "id": "69566066",
   "metadata": {
    "vscode": {
     "languageId": "r"
    }
   },
   "outputs": [],
   "source": [
    "mu1<-1.2\n",
    "mu2<-0.6\n",
    "sigma1<-0.3\n",
    "sigma2<-0.2"
   ]
  },
  {
   "cell_type": "code",
   "execution_count": 59,
   "id": "fe670b3a",
   "metadata": {
    "vscode": {
     "languageId": "r"
    }
   },
   "outputs": [],
   "source": [
    "# X+Y ~ N(mu1+mu2,sigma1**2+sigma2**2) where X+Y is also normally \n",
    "# distributed\n"
   ]
  },
  {
   "attachments": {},
   "cell_type": "markdown",
   "id": "5b544609",
   "metadata": {},
   "source": [
    "+ Calculate the probability that the total weight of the two fruits\n",
    "   does not exceed 2.0 kg."
   ]
  },
  {
   "cell_type": "code",
   "execution_count": 65,
   "id": "ef0bb487",
   "metadata": {
    "vscode": {
     "languageId": "r"
    }
   },
   "outputs": [
    {
     "data": {
      "text/html": [
       "0.710450129023041"
      ],
      "text/latex": [
       "0.710450129023041"
      ],
      "text/markdown": [
       "0.710450129023041"
      ],
      "text/plain": [
       "[1] 0.7104501"
      ]
     },
     "metadata": {},
     "output_type": "display_data"
    }
   ],
   "source": [
    "# X + Y<=2\n",
    "# where (X+Y) ~ N(mu1+mu2,sigma1**2+sigma2**2)\n",
    "pnorm(2,mean=mu1+mu2,sd=sqrt(sigma1**2+sigma2**2))"
   ]
  },
  {
   "attachments": {},
   "cell_type": "markdown",
   "id": "32bb5251",
   "metadata": {},
   "source": [
    "+ The melon costs 2 euro per kg and the pineapple 4 euro per kg.\n",
    "   Give an expression for the total price Z using X and Y . What is\n",
    "   the distribution of Z"
   ]
  },
  {
   "cell_type": "code",
   "execution_count": 67,
   "id": "ed5dc55e",
   "metadata": {
    "vscode": {
     "languageId": "r"
    }
   },
   "outputs": [
    {
     "data": {
      "text/html": [
       "<style>\n",
       ".list-inline {list-style: none; margin:0; padding: 0}\n",
       ".list-inline>li {display: inline-block}\n",
       ".list-inline>li:not(:last-child)::after {content: \"\\00b7\"; padding: 0 .5ex}\n",
       "</style>\n",
       "<ol class=list-inline><li>4.8</li><li>1</li></ol>\n"
      ],
      "text/latex": [
       "\\begin{enumerate*}\n",
       "\\item 4.8\n",
       "\\item 1\n",
       "\\end{enumerate*}\n"
      ],
      "text/markdown": [
       "1. 4.8\n",
       "2. 1\n",
       "\n",
       "\n"
      ],
      "text/plain": [
       "[1] 4.8 1.0"
      ]
     },
     "metadata": {},
     "output_type": "display_data"
    }
   ],
   "source": [
    "# Z = 2X+4Y the price is a linear combination of normally distributed \n",
    "# random variables and thus Z also normally distributed.\n",
    "# new expected values and variances\n",
    "mu<-2*mu1+4*mu2\n",
    "sigma<-2**2*sigma1**2 + 4**2*sigma2**2  ## see furmula for linear combi\n",
    "c(mu,sigma)"
   ]
  },
  {
   "attachments": {},
   "cell_type": "markdown",
   "id": "3804ac12",
   "metadata": {},
   "source": [
    "+ Calculate the probability that the price Z is higher than 4 euro."
   ]
  },
  {
   "cell_type": "code",
   "execution_count": 69,
   "id": "8c6f28aa",
   "metadata": {
    "vscode": {
     "languageId": "r"
    }
   },
   "outputs": [
    {
     "data": {
      "text/html": [
       "0.788144601416603"
      ],
      "text/latex": [
       "0.788144601416603"
      ],
      "text/markdown": [
       "0.788144601416603"
      ],
      "text/plain": [
       "[1] 0.7881446"
      ]
     },
     "metadata": {},
     "output_type": "display_data"
    }
   ],
   "source": [
    "1- pnorm(4,mean=mu,sd=sqrt(sigma))"
   ]
  }
 ],
 "metadata": {
  "kernelspec": {
   "display_name": "R",
   "language": "R",
   "name": "ir"
  },
  "language_info": {
   "codemirror_mode": "r",
   "file_extension": ".r",
   "mimetype": "text/x-r-source",
   "name": "R",
   "pygments_lexer": "r",
   "version": "4.2.2"
  }
 },
 "nbformat": 4,
 "nbformat_minor": 5
}
