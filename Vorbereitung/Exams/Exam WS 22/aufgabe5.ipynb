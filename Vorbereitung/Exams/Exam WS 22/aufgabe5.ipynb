{
 "cells": [
  {
   "cell_type": "code",
   "execution_count": 1,
   "metadata": {
    "vscode": {
     "languageId": "r"
    }
   },
   "outputs": [],
   "source": [
    "# Inferential\n",
    "# Task 5\n",
    "# A company produces chocolade bars with a standard weight of 100 gr.\n",
    "# As a measure of quality controls he weighs 15 bars and obtains the\n",
    "# following results:\n",
    "# 98.32,97.26,99.85,99.52,95.73,95.56,100.49,98.19,95.16,\n",
    "# 98.26,96.46,100.23,99.76,98.58,97.43\n",
    "# sample <- c(98.32,97.26,99.85,99.52,95.73,95.56,100.49,98.19,95.16,\n",
    "# 98.26,96.46,100.23,99.76,98.58,97.43)\n",
    "# mu0 <- 100\n",
    "#(a) What is an appropriate hypothesis regarding the expected weight\n",
    "# µ for a two-sided-test?\n",
    "# H0: m0 == 100, H1: m0 != 100\n",
    "# (b) If weights can be assumed to be nomally distributed, which test\n",
    "#should used to test these hypothesis?\n",
    "# an appropriate test would be t -test because the sd is unknown\n",
    "# and we are testing mu\n",
    "# (normal model)\n",
    "# (c) Conduct the test that was suggested to be used in b) at a 5%\n",
    "# level. What is your test decision. Specify the p-value.\n",
    "# alpha <- 0.05;\n",
    "# t.test(x = sample, mu = mu0, alternative=\"two.sided\",\n",
    "# conf.level = 1 -alpha)\n",
    "# pvalue is = 0.0007251 which is much lower than alpha,\n",
    "# so we are rejecting the null hypothesis\n",
    "# (d) Based on the sample, the producer changes the settings in produc-\n",
    "# tion. To check whether the correction has led to an improvement,\n",
    "# he again takes 15 chocolate bars and weighs them.\n",
    "# 100.14,100.05,96.51,98.70,98.22,101.06,103.55,100.16,\n",
    "# 100.60,102.85,103.15,100.66,102.52,102.09,100.84\n",
    "# What is an appropriate hypothesis for comparing the expected\n",
    "# weights of the two samples?\n",
    "# sample2 <- c(100.14,100.05,96.51,98.70,98.22,101.06,103.55,100.16,\n",
    "# 100.60,102.85,103.15,100.66,102.52,102.09,100.84)\n",
    "# (e) Provide an appropriate statistical test to test the hypothesis and\n",
    "#perform at the 5% level. Assume that the variances of the popu-\n",
    "# lations of the two samples are equal. What is your test decision?\n",
    "# Specify the p-value.\n",
    "# H0: mu1 >= mu2 , H1: mu1 < mu 2\n",
    "# t.test(sample, sample2, alternative=\"less\", paired = F, var.equal =T,\n",
    "# conf.level = 1-alpha)\n",
    "# pvalue = 0.0002228 much lesser than alpha -> reject H0\n",
    "#(f) In question e) the population variances of the two samples are\n",
    "#assumed to be equal. Verify that the variances are equal using an\n",
    "#appropriate test at the 10% level.\n",
    "# var.test(sample, sample2, alternative = \"two.sided\",\n",
    "# conf.level = 1 -0.1)"
   ]
  },
  {
   "cell_type": "markdown",
   "metadata": {},
   "source": [
    "(a) **Unbiased Estimator of Prevalence:**  \n",
    "   - To demonstrate that \\( X = \\frac{m}{n} \\) is an unbiased estimator of prevalence, we need to show that the expected value of \\( X \\) equals the true prevalence \\( p \\).\n",
    "   - The true prevalence \\( p \\) is the proportion of individuals in the population who have the disease.\n",
    "   - Since the sample is drawn randomly, each individual has the same probability of being selected, which is \\( p \\).\n",
    "   - Therefore, the expected value of \\( X \\) is equal to \\( p \\), making \\( X \\) an unbiased estimator of prevalence.\n",
    "\n",
    "(b) **Variance of the Estimator \\( X \\):**  \n",
    "   - The variance of \\( X \\), denoted by \\( \\text{Var}(X) \\), is calculated using the variance formula for the binomial distribution.\n",
    "   - The variance \\( \\text{Var}(X) = \\frac{p(1-p)}{n} \\), where \\( p \\) is the true prevalence and \\( n \\) is the sample size.\n",
    "\n",
    "(c) **Upper 95% Confidence Bound for Prevalence:**  \n",
    "   - For a large enough sample size \\( n \\), a normal approximation can be used to calculate the upper 95% confidence bound for prevalence.\n",
    "   - The standard error of \\( X \\) is \\( \\sqrt{\\frac{p(1-p)}{n}} \\), and the margin of error for a 95% confidence interval is \\( 1.96 \\times \\sqrt{\\frac{p(1-p)}{n}} \\).\n",
    "   - Adding the margin of error to \\( X \\) gives the upper bound: \\( X + \\text{ME} \\).\n",
    "\n",
    "(d) **Minimum Sample Size for Desired Confidence Bound:**  \n",
    "   - To find the minimum sample size needed for the upper 95% confidence bound to be 0.01 greater than the estimate, an inequality is set up and solved for \\( n \\).\n",
    "   - This involves iterating through possible values of \\( n \\) until the inequality holds, considering the constraint that prevalence is ≤0.1.\n",
    "   - The normal approximation for the confidence bound is used in this calculation.\n"
   ]
  },
  {
   "cell_type": "code",
   "execution_count": 3,
   "metadata": {
    "vscode": {
     "languageId": "r"
    }
   },
   "outputs": [],
   "source": [
    "# (a) (b)\n",
    "# this solution I have in onenote under WS22.4"
   ]
  },
  {
   "cell_type": "code",
   "execution_count": null,
   "metadata": {
    "vscode": {
     "languageId": "r"
    }
   },
   "outputs": [],
   "source": [
    "# (c)\n",
    "\n",
    "# what do we have:\n",
    "# 95%, upper confidence bound\n",
    "# sample n=200\n",
    "# m = 12, have the disease\n",
    "# we can also determine the frequency (p.hat):\n",
    "# p.hat <- m/n\n",
    "# "
   ]
  },
  {
   "cell_type": "code",
   "execution_count": 1,
   "metadata": {
    "vscode": {
     "languageId": "r"
    }
   },
   "outputs": [
    {
     "name": "stderr",
     "output_type": "stream",
     "text": [
      "\n",
      "Attache Paket: 'dplyr'\n",
      "\n",
      "\n",
      "Die folgenden Objekte sind maskiert von 'package:stats':\n",
      "\n",
      "    filter, lag\n",
      "\n",
      "\n",
      "Die folgenden Objekte sind maskiert von 'package:base':\n",
      "\n",
      "    intersect, setdiff, setequal, union\n",
      "\n",
      "\n",
      "Warning message:\n",
      "\"package 'teachingdemos' is not available for this version of R\n",
      "\n",
      "A version of this package for your version of R might be available elsewhere,\n",
      "see the ideas at\n",
      "https://cran.r-project.org/doc/manuals/r-patched/R-admin.html#Installing-packages\"\n",
      "Warning message:\n",
      "\"Perhaps you meant 'TeachingDemos' ?\"\n"
     ]
    },
    {
     "name": "stdout",
     "output_type": "stream",
     "text": [
      "\n",
      "\tOne Sample t-test\n",
      "\n",
      "data:  sample\n",
      "t = -4.306, df = 14, p-value = 0.0007251\n",
      "alternative hypothesis: true mean is not equal to 100\n",
      "95 percent confidence interval:\n",
      " 97.08371 99.02295\n",
      "sample estimates:\n",
      "mean of x \n",
      " 98.05333 \n",
      "\n",
      "[1] 0.0007250832\n",
      "[1] \"Reject H0\"\n",
      "\n",
      "\tTwo Sample t-test\n",
      "\n",
      "data:  sample and sample2\n",
      "t = -3.9781, df = 28, p-value = 0.0002228\n",
      "alternative hypothesis: true difference in means is less than 0\n",
      "95 percent confidence interval:\n",
      "      -Inf -1.537796\n",
      "sample estimates:\n",
      "mean of x mean of y \n",
      " 98.05333 100.74000 \n",
      "\n",
      "[1] 0.0002227782\n",
      "[1] \"Reject H0\"\n",
      "\n",
      "\tF test to compare two variances\n",
      "\n",
      "data:  sample and sample2\n",
      "F = 0.8119, num df = 14, denom df = 14, p-value = 0.702\n",
      "alternative hypothesis: true ratio of variances is not equal to 1\n",
      "90 percent confidence interval:\n",
      " 0.3268884 2.0165399\n",
      "sample estimates:\n",
      "ratio of variances \n",
      "         0.8119012 \n",
      "\n"
     ]
    }
   ],
   "source": [
    "library(readr)\n",
    "library(dplyr)\n",
    "library(tidyr)\n",
    "library(ggplot2)\n",
    "library(tibble)\n",
    "install.packages(\"teachingdemos\")\n",
    "library(TeachingDemos)\n",
    "\n",
    "# Inferential\n",
    "# Task 5\n",
    "# A company produces chocolate bars with a standard weight of 100 gr.\n",
    "# As a measure of quality controls, he weighs 15 bars and obtains the\n",
    "# following results:\n",
    "sample <- c(98.32, 97.26, 99.85, 99.52, 95.73, 95.56, 100.49, 98.19, 95.16,\n",
    "            98.26, 96.46, 100.23, 99.76, 98.58, 97.43)\n",
    "mu0 <- 100\n",
    "\n",
    "# (a) What is an appropriate hypothesis regarding the expected weight\n",
    "# µ for a two-sided-test?\n",
    "# H0: m0 == 100, H1: m0 != 100\n",
    "\n",
    "# (b) If weights can be assumed to be normally distributed, which test\n",
    "# should used to test these hypothesis?\n",
    "# An appropriate test would be t-test because the standard deviation is unknown\n",
    "# and we are testing mu (normal model)\n",
    "\n",
    "# (c) Conduct the test that was suggested to be used in b) at a 5%\n",
    "# level. What is your test decision? Specify the p-value.\n",
    "alpha <- 0.05\n",
    "test_result <- t.test(x = sample, mu = mu0, alternative = \"two.sided\",\n",
    "                      conf.level = 1 - alpha)\n",
    "p_value_c <- test_result$p.value\n",
    "test_decision_c <- ifelse(p_value_c < alpha, \"Reject H0\", \"Fail to reject H0\")\n",
    "print(test_result)\n",
    "print(p_value_c)\n",
    "print(test_decision_c)\n",
    "\n",
    "# (d) Based on the sample, the producer changes the settings in production.\n",
    "# To check whether the correction has led to an improvement,\n",
    "# he again takes 15 chocolate bars and weighs them.\n",
    "sample2 <- c(100.14, 100.05, 96.51, 98.70, 98.22, 101.06, 103.55, 100.16,\n",
    "             100.60, 102.85, 103.15, 100.66, 102.52, 102.09, 100.84)\n",
    "\n",
    "# (e) Provide an appropriate statistical test to test the hypothesis and\n",
    "# perform at the 5% level. Assume that the variances of the populations\n",
    "# of the two samples are equal. What is your test decision?\n",
    "# Specify the p-value.\n",
    "# H0: mu1 >= mu2 , H1: mu1 < mu2\n",
    "test_result_e <- t.test(sample, sample2, alternative = \"less\", paired = FALSE,\n",
    "                        var.equal = TRUE, conf.level = 1 - alpha)\n",
    "p_value_e <- test_result_e$p.value\n",
    "test_decision_e <- ifelse(p_value_e < alpha, \"Reject H0\", \"Fail to reject H0\")\n",
    "print(test_result_e)\n",
    "print(p_value_e)\n",
    "print(test_decision_e)\n",
    "\n",
    "# (f) In question e) the population variances of the two samples are\n",
    "# assumed to be equal. Verify that the variances are equal using an\n",
    "# appropriate test at the 10% level.\n",
    "var_test_result <- var.test(sample, sample2, alternative = \"two.sided\",\n",
    "                            conf.level = 1 - 0.1)\n",
    "print(var_test_result)\n"
   ]
  },
  {
   "cell_type": "code",
   "execution_count": null,
   "metadata": {
    "vscode": {
     "languageId": "r"
    }
   },
   "outputs": [],
   "source": []
  }
 ],
 "metadata": {
  "kernelspec": {
   "display_name": "R",
   "language": "R",
   "name": "ir"
  },
  "language_info": {
   "codemirror_mode": "r",
   "file_extension": ".r",
   "mimetype": "text/x-r-source",
   "name": "R",
   "pygments_lexer": "r",
   "version": "4.3.3"
  }
 },
 "nbformat": 4,
 "nbformat_minor": 2
}
