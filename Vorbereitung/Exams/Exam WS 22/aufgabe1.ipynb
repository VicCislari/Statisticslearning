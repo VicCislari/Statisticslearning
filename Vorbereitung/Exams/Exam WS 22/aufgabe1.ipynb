{
 "cells": [
  {
   "cell_type": "code",
   "execution_count": 1,
   "metadata": {
    "vscode": {
     "languageId": "r"
    }
   },
   "outputs": [
    {
     "name": "stdout",
     "output_type": "stream",
     "text": [
      "\n",
      "Die heruntergeladenen Bin\"arpakete sind in \n",
      "\t/var/folders/t0/f054bgvj7d514yq2qlg1czv80000gp/T//RtmpkQjcCd/downloaded_packages\n",
      "\n",
      "Die heruntergeladenen Bin\"arpakete sind in \n",
      "\t/var/folders/t0/f054bgvj7d514yq2qlg1czv80000gp/T//RtmpkQjcCd/downloaded_packages\n"
     ]
    }
   ],
   "source": [
    "install.packages(\"dplyr\")\n",
    "install.packages(\"nortest\")\n",
    "# install.packages(\"epiR\")\n",
    "#install.packages(\"sf\")\n",
    "# install.packages(\"sf\", repos = \"https://cloud.r-project.org/\")\n"
   ]
  },
  {
   "cell_type": "code",
   "execution_count": 2,
   "metadata": {
    "vscode": {
     "languageId": "r"
    }
   },
   "outputs": [
    {
     "name": "stderr",
     "output_type": "stream",
     "text": [
      "\n",
      "Attache Paket: 'dplyr'\n",
      "\n",
      "\n",
      "Die folgenden Objekte sind maskiert von 'package:stats':\n",
      "\n",
      "    filter, lag\n",
      "\n",
      "\n",
      "Die folgenden Objekte sind maskiert von 'package:base':\n",
      "\n",
      "    intersect, setdiff, setequal, union\n",
      "\n",
      "\n"
     ]
    }
   ],
   "source": [
    "library(tibble)\n",
    "library(tidyr)\n",
    "library(dplyr)\n",
    "library(ggplot2)\n",
    "library(nortest)\n",
    "# library(epiR) # doesn't work"
   ]
  },
  {
   "cell_type": "code",
   "execution_count": 3,
   "metadata": {
    "vscode": {
     "languageId": "r"
    }
   },
   "outputs": [],
   "source": [
    "# 1\n",
    "\n",
    "# (a)\n",
    "# Import the file melanoma.csv as a tibble called melanoma."
   ]
  },
  {
   "cell_type": "code",
   "execution_count": 4,
   "metadata": {
    "vscode": {
     "languageId": "r"
    }
   },
   "outputs": [
    {
     "name": "stderr",
     "output_type": "stream",
     "text": [
      "\u001b[1mRows: \u001b[22m\u001b[34m205\u001b[39m \u001b[1mColumns: \u001b[22m\u001b[34m7\u001b[39m\n",
      "\u001b[36m--\u001b[39m \u001b[1mColumn specification\u001b[22m \u001b[36m--------------------------------------------------------\u001b[39m\n",
      "\u001b[1mDelimiter:\u001b[22m \",\"\n",
      "\u001b[32mdbl\u001b[39m (7): time, status, sex, age, year, thickness, ulcer\n",
      "\n",
      "\u001b[36mi\u001b[39m Use `spec()` to retrieve the full column specification for this data.\n",
      "\u001b[36mi\u001b[39m Specify the column types or set `show_col_types = FALSE` to quiet this message.\n"
     ]
    }
   ],
   "source": [
    "melanoma <- readr::read_csv(\"melanoma.csv\")"
   ]
  },
  {
   "cell_type": "code",
   "execution_count": 5,
   "metadata": {
    "vscode": {
     "languageId": "r"
    }
   },
   "outputs": [],
   "source": [
    "# (b)\n",
    "# Determine type and scale of all variables."
   ]
  },
  {
   "cell_type": "code",
   "execution_count": 6,
   "metadata": {
    "vscode": {
     "languageId": "r"
    }
   },
   "outputs": [
    {
     "name": "stdout",
     "output_type": "stream",
     "text": [
      "Rows: 205\n",
      "Columns: 7\n",
      "$ time      \u001b[3m\u001b[90m<dbl>\u001b[39m\u001b[23m 10, 30, 35, 99, 185, 204, 210, 232, 232, 279, 295, 355, 386,~\n",
      "$ status    \u001b[3m\u001b[90m<dbl>\u001b[39m\u001b[23m 3, 3, 2, 3, 1, 1, 1, 3, 1, 1, 1, 3, 1, 1, 1, 3, 1, 1, 1, 1, ~\n",
      "$ sex       \u001b[3m\u001b[90m<dbl>\u001b[39m\u001b[23m 1, 1, 1, 0, 1, 1, 1, 0, 1, 0, 0, 0, 0, 1, 0, 1, 1, 1, 1, 1, ~\n",
      "$ age       \u001b[3m\u001b[90m<dbl>\u001b[39m\u001b[23m 76, 56, 41, 71, 52, 28, 77, 60, 49, 68, 53, 64, 68, 63, 14, ~\n",
      "$ year      \u001b[3m\u001b[90m<dbl>\u001b[39m\u001b[23m 1972, 1968, 1977, 1968, 1965, 1971, 1972, 1974, 1968, 1971, ~\n",
      "$ thickness \u001b[3m\u001b[90m<dbl>\u001b[39m\u001b[23m 6.76, 0.65, 1.34, 2.90, 12.08, 4.84, 5.16, 3.22, 12.88, 7.41~\n",
      "$ ulcer     \u001b[3m\u001b[90m<dbl>\u001b[39m\u001b[23m 1, 0, 0, 0, 1, 1, 1, 1, 1, 1, 1, 1, 1, 1, 1, 1, 1, 1, 1, 1, ~\n"
     ]
    }
   ],
   "source": [
    "glimpse(melanoma)"
   ]
  },
  {
   "cell_type": "code",
   "execution_count": 7,
   "metadata": {
    "vscode": {
     "languageId": "r"
    }
   },
   "outputs": [],
   "source": [
    "# (c)\n",
    "# Change the values of the variables\n",
    "# sex, status, ulcer to strings\n",
    "# describing their values and\n",
    "# add a new variable live.status describing\n",
    "# whether the patient is alive or dead."
   ]
  },
  {
   "cell_type": "code",
   "execution_count": 8,
   "metadata": {
    "vscode": {
     "languageId": "r"
    }
   },
   "outputs": [],
   "source": [
    "melanoma <- melanoma %>%\n",
    "  mutate(\n",
    "    status = factor(status, labels = c(\"Alive\", \"Dead\", \"Unrelated\")),\n",
    "    sex = factor(sex, labels = c(\"Male\", \"Female\")),\n",
    "    ulcer = factor(ulcer, labels = c(\"Present\", \"Absent\")),\n",
    "    live.status = ifelse(status == \"Alive\", \"Alive\", \"Dead\")\n",
    "  )"
   ]
  },
  {
   "cell_type": "code",
   "execution_count": 9,
   "metadata": {
    "vscode": {
     "languageId": "r"
    }
   },
   "outputs": [],
   "source": [
    "# Convert 'sex' to factor with labels Male and Female\n",
    "melanoma$sex <- factor(melanoma$sex, labels = c(\"Male\", \"Female\"))"
   ]
  },
  {
   "cell_type": "code",
   "execution_count": 10,
   "metadata": {
    "vscode": {
     "languageId": "r"
    }
   },
   "outputs": [],
   "source": [
    "# Convert 'status' to factor with labels Alive and Dead\n",
    "melanoma$status <- factor(melanoma$status,\n",
    "                          labels = c(\"Alive\", \"Dead\", \"Unrelated\"))"
   ]
  },
  {
   "cell_type": "code",
   "execution_count": 11,
   "metadata": {
    "vscode": {
     "languageId": "r"
    }
   },
   "outputs": [],
   "source": [
    "# Convert 'ulcer' to factor with labels Present and Absent\n",
    "melanoma$ulcer <- factor(melanoma$ulcer, labels = c(\"Present\", \"Absent\"))\n",
    "\n",
    "# Create 'live.status' variable based on 'status'\n",
    "melanoma$live.status <- ifelse(melanoma$status == \"Alive\", \"Alive\", \"Dead\")"
   ]
  },
  {
   "cell_type": "code",
   "execution_count": 12,
   "metadata": {
    "vscode": {
     "languageId": "r"
    }
   },
   "outputs": [
    {
     "data": {
      "text/html": [
       "<style>\n",
       ".list-inline {list-style: none; margin:0; padding: 0}\n",
       ".list-inline>li {display: inline-block}\n",
       ".list-inline>li:not(:last-child)::after {content: \"\\00b7\"; padding: 0 .5ex}\n",
       "</style>\n",
       "<ol class=list-inline><li>Unrelated</li><li>Dead</li><li>Alive</li></ol>\n",
       "\n",
       "<details>\n",
       "\t<summary style=display:list-item;cursor:pointer>\n",
       "\t\t<strong>Levels</strong>:\n",
       "\t</summary>\n",
       "\t<style>\n",
       "\t.list-inline {list-style: none; margin:0; padding: 0}\n",
       "\t.list-inline>li {display: inline-block}\n",
       "\t.list-inline>li:not(:last-child)::after {content: \"\\00b7\"; padding: 0 .5ex}\n",
       "\t</style>\n",
       "\t<ol class=list-inline><li>'Alive'</li><li>'Dead'</li><li>'Unrelated'</li></ol>\n",
       "</details>"
      ],
      "text/latex": [
       "\\begin{enumerate*}\n",
       "\\item Unrelated\n",
       "\\item Dead\n",
       "\\item Alive\n",
       "\\end{enumerate*}\n",
       "\n",
       "\\emph{Levels}: \\begin{enumerate*}\n",
       "\\item 'Alive'\n",
       "\\item 'Dead'\n",
       "\\item 'Unrelated'\n",
       "\\end{enumerate*}\n"
      ],
      "text/markdown": [
       "1. Unrelated\n",
       "2. Dead\n",
       "3. Alive\n",
       "\n",
       "\n",
       "\n",
       "**Levels**: 1. 'Alive'\n",
       "2. 'Dead'\n",
       "3. 'Unrelated'\n",
       "\n",
       "\n"
      ],
      "text/plain": [
       "[1] Unrelated Dead      Alive    \n",
       "Levels: Alive Dead Unrelated"
      ]
     },
     "metadata": {},
     "output_type": "display_data"
    }
   ],
   "source": [
    "# Check unique levels of 'status'\n",
    "unique_levels <- unique(melanoma$status)\n",
    "unique_levels\n"
   ]
  },
  {
   "cell_type": "code",
   "execution_count": 13,
   "metadata": {
    "vscode": {
     "languageId": "r"
    }
   },
   "outputs": [
    {
     "data": {
      "text/html": [
       "<table class=\"dataframe\">\n",
       "<caption>A tibble: 205 x 8</caption>\n",
       "<thead>\n",
       "\t<tr><th scope=col>time</th><th scope=col>status</th><th scope=col>sex</th><th scope=col>age</th><th scope=col>year</th><th scope=col>thickness</th><th scope=col>ulcer</th><th scope=col>live.status</th></tr>\n",
       "\t<tr><th scope=col>&lt;dbl&gt;</th><th scope=col>&lt;fct&gt;</th><th scope=col>&lt;fct&gt;</th><th scope=col>&lt;dbl&gt;</th><th scope=col>&lt;dbl&gt;</th><th scope=col>&lt;dbl&gt;</th><th scope=col>&lt;fct&gt;</th><th scope=col>&lt;chr&gt;</th></tr>\n",
       "</thead>\n",
       "<tbody>\n",
       "\t<tr><td> 10</td><td>Unrelated</td><td>Female</td><td>76</td><td>1972</td><td> 6.76</td><td>Absent </td><td>Dead </td></tr>\n",
       "\t<tr><td> 30</td><td>Unrelated</td><td>Female</td><td>56</td><td>1968</td><td> 0.65</td><td>Present</td><td>Dead </td></tr>\n",
       "\t<tr><td> 35</td><td>Dead     </td><td>Female</td><td>41</td><td>1977</td><td> 1.34</td><td>Present</td><td>Dead </td></tr>\n",
       "\t<tr><td> 99</td><td>Unrelated</td><td>Male  </td><td>71</td><td>1968</td><td> 2.90</td><td>Present</td><td>Dead </td></tr>\n",
       "\t<tr><td>185</td><td>Alive    </td><td>Female</td><td>52</td><td>1965</td><td>12.08</td><td>Absent </td><td>Alive</td></tr>\n",
       "\t<tr><td>204</td><td>Alive    </td><td>Female</td><td>28</td><td>1971</td><td> 4.84</td><td>Absent </td><td>Alive</td></tr>\n",
       "\t<tr><td>210</td><td>Alive    </td><td>Female</td><td>77</td><td>1972</td><td> 5.16</td><td>Absent </td><td>Alive</td></tr>\n",
       "\t<tr><td>232</td><td>Unrelated</td><td>Male  </td><td>60</td><td>1974</td><td> 3.22</td><td>Absent </td><td>Dead </td></tr>\n",
       "\t<tr><td>232</td><td>Alive    </td><td>Female</td><td>49</td><td>1968</td><td>12.88</td><td>Absent </td><td>Alive</td></tr>\n",
       "\t<tr><td>279</td><td>Alive    </td><td>Male  </td><td>68</td><td>1971</td><td> 7.41</td><td>Absent </td><td>Alive</td></tr>\n",
       "\t<tr><td>295</td><td>Alive    </td><td>Male  </td><td>53</td><td>1969</td><td> 4.19</td><td>Absent </td><td>Alive</td></tr>\n",
       "\t<tr><td>355</td><td>Unrelated</td><td>Male  </td><td>64</td><td>1972</td><td> 0.16</td><td>Absent </td><td>Dead </td></tr>\n",
       "\t<tr><td>386</td><td>Alive    </td><td>Male  </td><td>68</td><td>1965</td><td> 3.87</td><td>Absent </td><td>Alive</td></tr>\n",
       "\t<tr><td>426</td><td>Alive    </td><td>Female</td><td>63</td><td>1970</td><td> 4.84</td><td>Absent </td><td>Alive</td></tr>\n",
       "\t<tr><td>469</td><td>Alive    </td><td>Male  </td><td>14</td><td>1969</td><td> 2.42</td><td>Absent </td><td>Alive</td></tr>\n",
       "\t<tr><td>493</td><td>Unrelated</td><td>Female</td><td>72</td><td>1971</td><td>12.56</td><td>Absent </td><td>Dead </td></tr>\n",
       "\t<tr><td>529</td><td>Alive    </td><td>Female</td><td>46</td><td>1971</td><td> 5.80</td><td>Absent </td><td>Alive</td></tr>\n",
       "\t<tr><td>621</td><td>Alive    </td><td>Female</td><td>72</td><td>1972</td><td> 7.06</td><td>Absent </td><td>Alive</td></tr>\n",
       "\t<tr><td>629</td><td>Alive    </td><td>Female</td><td>95</td><td>1968</td><td> 5.48</td><td>Absent </td><td>Alive</td></tr>\n",
       "\t<tr><td>659</td><td>Alive    </td><td>Female</td><td>54</td><td>1972</td><td> 7.73</td><td>Absent </td><td>Alive</td></tr>\n",
       "\t<tr><td>667</td><td>Alive    </td><td>Male  </td><td>89</td><td>1968</td><td>13.85</td><td>Absent </td><td>Alive</td></tr>\n",
       "\t<tr><td>718</td><td>Alive    </td><td>Female</td><td>25</td><td>1967</td><td> 2.34</td><td>Absent </td><td>Alive</td></tr>\n",
       "\t<tr><td>752</td><td>Alive    </td><td>Female</td><td>37</td><td>1973</td><td> 4.19</td><td>Absent </td><td>Alive</td></tr>\n",
       "\t<tr><td>779</td><td>Alive    </td><td>Female</td><td>43</td><td>1967</td><td> 4.04</td><td>Absent </td><td>Alive</td></tr>\n",
       "\t<tr><td>793</td><td>Alive    </td><td>Female</td><td>68</td><td>1970</td><td> 4.84</td><td>Absent </td><td>Alive</td></tr>\n",
       "\t<tr><td>817</td><td>Alive    </td><td>Male  </td><td>67</td><td>1966</td><td> 0.32</td><td>Present</td><td>Alive</td></tr>\n",
       "\t<tr><td>826</td><td>Unrelated</td><td>Male  </td><td>86</td><td>1965</td><td> 8.54</td><td>Absent </td><td>Dead </td></tr>\n",
       "\t<tr><td>833</td><td>Alive    </td><td>Male  </td><td>56</td><td>1971</td><td> 2.58</td><td>Absent </td><td>Alive</td></tr>\n",
       "\t<tr><td>858</td><td>Alive    </td><td>Male  </td><td>16</td><td>1967</td><td> 3.56</td><td>Present</td><td>Alive</td></tr>\n",
       "\t<tr><td>869</td><td>Alive    </td><td>Male  </td><td>42</td><td>1965</td><td> 3.54</td><td>Present</td><td>Alive</td></tr>\n",
       "\t<tr><td>...</td><td>...</td><td>...</td><td>...</td><td>...</td><td>...</td><td>...</td><td>...</td></tr>\n",
       "\t<tr><td>3402</td><td>Dead     </td><td>Female</td><td>50</td><td>1968</td><td> 1.62</td><td>Present</td><td>Dead</td></tr>\n",
       "\t<tr><td>3441</td><td>Dead     </td><td>Male  </td><td>20</td><td>1968</td><td> 0.65</td><td>Present</td><td>Dead</td></tr>\n",
       "\t<tr><td>3458</td><td>Unrelated</td><td>Male  </td><td>54</td><td>1967</td><td> 1.45</td><td>Present</td><td>Dead</td></tr>\n",
       "\t<tr><td>3459</td><td>Dead     </td><td>Male  </td><td>29</td><td>1968</td><td> 0.65</td><td>Present</td><td>Dead</td></tr>\n",
       "\t<tr><td>3459</td><td>Dead     </td><td>Female</td><td>56</td><td>1968</td><td> 1.29</td><td>Absent </td><td>Dead</td></tr>\n",
       "\t<tr><td>3476</td><td>Dead     </td><td>Male  </td><td>60</td><td>1968</td><td> 1.62</td><td>Present</td><td>Dead</td></tr>\n",
       "\t<tr><td>3523</td><td>Dead     </td><td>Male  </td><td>46</td><td>1968</td><td> 3.54</td><td>Present</td><td>Dead</td></tr>\n",
       "\t<tr><td>3667</td><td>Dead     </td><td>Male  </td><td>42</td><td>1967</td><td> 3.22</td><td>Present</td><td>Dead</td></tr>\n",
       "\t<tr><td>3695</td><td>Dead     </td><td>Male  </td><td>34</td><td>1967</td><td> 0.65</td><td>Present</td><td>Dead</td></tr>\n",
       "\t<tr><td>3695</td><td>Dead     </td><td>Male  </td><td>56</td><td>1967</td><td> 1.03</td><td>Present</td><td>Dead</td></tr>\n",
       "\t<tr><td>3776</td><td>Dead     </td><td>Female</td><td>12</td><td>1967</td><td> 7.09</td><td>Absent </td><td>Dead</td></tr>\n",
       "\t<tr><td>3776</td><td>Dead     </td><td>Male  </td><td>21</td><td>1967</td><td> 1.29</td><td>Absent </td><td>Dead</td></tr>\n",
       "\t<tr><td>3830</td><td>Dead     </td><td>Female</td><td>46</td><td>1967</td><td> 0.65</td><td>Present</td><td>Dead</td></tr>\n",
       "\t<tr><td>3856</td><td>Dead     </td><td>Male  </td><td>49</td><td>1967</td><td> 1.78</td><td>Present</td><td>Dead</td></tr>\n",
       "\t<tr><td>3872</td><td>Dead     </td><td>Male  </td><td>35</td><td>1967</td><td>12.24</td><td>Absent </td><td>Dead</td></tr>\n",
       "\t<tr><td>3909</td><td>Dead     </td><td>Female</td><td>42</td><td>1967</td><td> 8.06</td><td>Absent </td><td>Dead</td></tr>\n",
       "\t<tr><td>3968</td><td>Dead     </td><td>Male  </td><td>47</td><td>1967</td><td> 0.81</td><td>Present</td><td>Dead</td></tr>\n",
       "\t<tr><td>4001</td><td>Dead     </td><td>Male  </td><td>69</td><td>1967</td><td> 2.10</td><td>Present</td><td>Dead</td></tr>\n",
       "\t<tr><td>4103</td><td>Dead     </td><td>Male  </td><td>52</td><td>1966</td><td> 3.87</td><td>Present</td><td>Dead</td></tr>\n",
       "\t<tr><td>4119</td><td>Dead     </td><td>Female</td><td>52</td><td>1966</td><td> 0.65</td><td>Present</td><td>Dead</td></tr>\n",
       "\t<tr><td>4124</td><td>Dead     </td><td>Male  </td><td>30</td><td>1966</td><td> 1.94</td><td>Absent </td><td>Dead</td></tr>\n",
       "\t<tr><td>4207</td><td>Dead     </td><td>Female</td><td>22</td><td>1966</td><td> 0.65</td><td>Present</td><td>Dead</td></tr>\n",
       "\t<tr><td>4310</td><td>Dead     </td><td>Female</td><td>55</td><td>1966</td><td> 2.10</td><td>Present</td><td>Dead</td></tr>\n",
       "\t<tr><td>4390</td><td>Dead     </td><td>Male  </td><td>26</td><td>1965</td><td> 1.94</td><td>Absent </td><td>Dead</td></tr>\n",
       "\t<tr><td>4479</td><td>Dead     </td><td>Male  </td><td>19</td><td>1965</td><td> 1.13</td><td>Absent </td><td>Dead</td></tr>\n",
       "\t<tr><td>4492</td><td>Dead     </td><td>Female</td><td>29</td><td>1965</td><td> 7.06</td><td>Absent </td><td>Dead</td></tr>\n",
       "\t<tr><td>4668</td><td>Dead     </td><td>Male  </td><td>40</td><td>1965</td><td> 6.12</td><td>Present</td><td>Dead</td></tr>\n",
       "\t<tr><td>4688</td><td>Dead     </td><td>Male  </td><td>42</td><td>1965</td><td> 0.48</td><td>Present</td><td>Dead</td></tr>\n",
       "\t<tr><td>4926</td><td>Dead     </td><td>Male  </td><td>50</td><td>1964</td><td> 2.26</td><td>Present</td><td>Dead</td></tr>\n",
       "\t<tr><td>5565</td><td>Dead     </td><td>Male  </td><td>41</td><td>1962</td><td> 2.90</td><td>Present</td><td>Dead</td></tr>\n",
       "</tbody>\n",
       "</table>\n"
      ],
      "text/latex": [
       "A tibble: 205 x 8\n",
       "\\begin{tabular}{llllllll}\n",
       " time & status & sex & age & year & thickness & ulcer & live.status\\\\\n",
       " <dbl> & <fct> & <fct> & <dbl> & <dbl> & <dbl> & <fct> & <chr>\\\\\n",
       "\\hline\n",
       "\t  10 & Unrelated & Female & 76 & 1972 &  6.76 & Absent  & Dead \\\\\n",
       "\t  30 & Unrelated & Female & 56 & 1968 &  0.65 & Present & Dead \\\\\n",
       "\t  35 & Dead      & Female & 41 & 1977 &  1.34 & Present & Dead \\\\\n",
       "\t  99 & Unrelated & Male   & 71 & 1968 &  2.90 & Present & Dead \\\\\n",
       "\t 185 & Alive     & Female & 52 & 1965 & 12.08 & Absent  & Alive\\\\\n",
       "\t 204 & Alive     & Female & 28 & 1971 &  4.84 & Absent  & Alive\\\\\n",
       "\t 210 & Alive     & Female & 77 & 1972 &  5.16 & Absent  & Alive\\\\\n",
       "\t 232 & Unrelated & Male   & 60 & 1974 &  3.22 & Absent  & Dead \\\\\n",
       "\t 232 & Alive     & Female & 49 & 1968 & 12.88 & Absent  & Alive\\\\\n",
       "\t 279 & Alive     & Male   & 68 & 1971 &  7.41 & Absent  & Alive\\\\\n",
       "\t 295 & Alive     & Male   & 53 & 1969 &  4.19 & Absent  & Alive\\\\\n",
       "\t 355 & Unrelated & Male   & 64 & 1972 &  0.16 & Absent  & Dead \\\\\n",
       "\t 386 & Alive     & Male   & 68 & 1965 &  3.87 & Absent  & Alive\\\\\n",
       "\t 426 & Alive     & Female & 63 & 1970 &  4.84 & Absent  & Alive\\\\\n",
       "\t 469 & Alive     & Male   & 14 & 1969 &  2.42 & Absent  & Alive\\\\\n",
       "\t 493 & Unrelated & Female & 72 & 1971 & 12.56 & Absent  & Dead \\\\\n",
       "\t 529 & Alive     & Female & 46 & 1971 &  5.80 & Absent  & Alive\\\\\n",
       "\t 621 & Alive     & Female & 72 & 1972 &  7.06 & Absent  & Alive\\\\\n",
       "\t 629 & Alive     & Female & 95 & 1968 &  5.48 & Absent  & Alive\\\\\n",
       "\t 659 & Alive     & Female & 54 & 1972 &  7.73 & Absent  & Alive\\\\\n",
       "\t 667 & Alive     & Male   & 89 & 1968 & 13.85 & Absent  & Alive\\\\\n",
       "\t 718 & Alive     & Female & 25 & 1967 &  2.34 & Absent  & Alive\\\\\n",
       "\t 752 & Alive     & Female & 37 & 1973 &  4.19 & Absent  & Alive\\\\\n",
       "\t 779 & Alive     & Female & 43 & 1967 &  4.04 & Absent  & Alive\\\\\n",
       "\t 793 & Alive     & Female & 68 & 1970 &  4.84 & Absent  & Alive\\\\\n",
       "\t 817 & Alive     & Male   & 67 & 1966 &  0.32 & Present & Alive\\\\\n",
       "\t 826 & Unrelated & Male   & 86 & 1965 &  8.54 & Absent  & Dead \\\\\n",
       "\t 833 & Alive     & Male   & 56 & 1971 &  2.58 & Absent  & Alive\\\\\n",
       "\t 858 & Alive     & Male   & 16 & 1967 &  3.56 & Present & Alive\\\\\n",
       "\t 869 & Alive     & Male   & 42 & 1965 &  3.54 & Present & Alive\\\\\n",
       "\t ... & ... & ... & ... & ... & ... & ... & ...\\\\\n",
       "\t 3402 & Dead      & Female & 50 & 1968 &  1.62 & Present & Dead\\\\\n",
       "\t 3441 & Dead      & Male   & 20 & 1968 &  0.65 & Present & Dead\\\\\n",
       "\t 3458 & Unrelated & Male   & 54 & 1967 &  1.45 & Present & Dead\\\\\n",
       "\t 3459 & Dead      & Male   & 29 & 1968 &  0.65 & Present & Dead\\\\\n",
       "\t 3459 & Dead      & Female & 56 & 1968 &  1.29 & Absent  & Dead\\\\\n",
       "\t 3476 & Dead      & Male   & 60 & 1968 &  1.62 & Present & Dead\\\\\n",
       "\t 3523 & Dead      & Male   & 46 & 1968 &  3.54 & Present & Dead\\\\\n",
       "\t 3667 & Dead      & Male   & 42 & 1967 &  3.22 & Present & Dead\\\\\n",
       "\t 3695 & Dead      & Male   & 34 & 1967 &  0.65 & Present & Dead\\\\\n",
       "\t 3695 & Dead      & Male   & 56 & 1967 &  1.03 & Present & Dead\\\\\n",
       "\t 3776 & Dead      & Female & 12 & 1967 &  7.09 & Absent  & Dead\\\\\n",
       "\t 3776 & Dead      & Male   & 21 & 1967 &  1.29 & Absent  & Dead\\\\\n",
       "\t 3830 & Dead      & Female & 46 & 1967 &  0.65 & Present & Dead\\\\\n",
       "\t 3856 & Dead      & Male   & 49 & 1967 &  1.78 & Present & Dead\\\\\n",
       "\t 3872 & Dead      & Male   & 35 & 1967 & 12.24 & Absent  & Dead\\\\\n",
       "\t 3909 & Dead      & Female & 42 & 1967 &  8.06 & Absent  & Dead\\\\\n",
       "\t 3968 & Dead      & Male   & 47 & 1967 &  0.81 & Present & Dead\\\\\n",
       "\t 4001 & Dead      & Male   & 69 & 1967 &  2.10 & Present & Dead\\\\\n",
       "\t 4103 & Dead      & Male   & 52 & 1966 &  3.87 & Present & Dead\\\\\n",
       "\t 4119 & Dead      & Female & 52 & 1966 &  0.65 & Present & Dead\\\\\n",
       "\t 4124 & Dead      & Male   & 30 & 1966 &  1.94 & Absent  & Dead\\\\\n",
       "\t 4207 & Dead      & Female & 22 & 1966 &  0.65 & Present & Dead\\\\\n",
       "\t 4310 & Dead      & Female & 55 & 1966 &  2.10 & Present & Dead\\\\\n",
       "\t 4390 & Dead      & Male   & 26 & 1965 &  1.94 & Absent  & Dead\\\\\n",
       "\t 4479 & Dead      & Male   & 19 & 1965 &  1.13 & Absent  & Dead\\\\\n",
       "\t 4492 & Dead      & Female & 29 & 1965 &  7.06 & Absent  & Dead\\\\\n",
       "\t 4668 & Dead      & Male   & 40 & 1965 &  6.12 & Present & Dead\\\\\n",
       "\t 4688 & Dead      & Male   & 42 & 1965 &  0.48 & Present & Dead\\\\\n",
       "\t 4926 & Dead      & Male   & 50 & 1964 &  2.26 & Present & Dead\\\\\n",
       "\t 5565 & Dead      & Male   & 41 & 1962 &  2.90 & Present & Dead\\\\\n",
       "\\end{tabular}\n"
      ],
      "text/markdown": [
       "\n",
       "A tibble: 205 x 8\n",
       "\n",
       "| time &lt;dbl&gt; | status &lt;fct&gt; | sex &lt;fct&gt; | age &lt;dbl&gt; | year &lt;dbl&gt; | thickness &lt;dbl&gt; | ulcer &lt;fct&gt; | live.status &lt;chr&gt; |\n",
       "|---|---|---|---|---|---|---|---|\n",
       "|  10 | Unrelated | Female | 76 | 1972 |  6.76 | Absent  | Dead  |\n",
       "|  30 | Unrelated | Female | 56 | 1968 |  0.65 | Present | Dead  |\n",
       "|  35 | Dead      | Female | 41 | 1977 |  1.34 | Present | Dead  |\n",
       "|  99 | Unrelated | Male   | 71 | 1968 |  2.90 | Present | Dead  |\n",
       "| 185 | Alive     | Female | 52 | 1965 | 12.08 | Absent  | Alive |\n",
       "| 204 | Alive     | Female | 28 | 1971 |  4.84 | Absent  | Alive |\n",
       "| 210 | Alive     | Female | 77 | 1972 |  5.16 | Absent  | Alive |\n",
       "| 232 | Unrelated | Male   | 60 | 1974 |  3.22 | Absent  | Dead  |\n",
       "| 232 | Alive     | Female | 49 | 1968 | 12.88 | Absent  | Alive |\n",
       "| 279 | Alive     | Male   | 68 | 1971 |  7.41 | Absent  | Alive |\n",
       "| 295 | Alive     | Male   | 53 | 1969 |  4.19 | Absent  | Alive |\n",
       "| 355 | Unrelated | Male   | 64 | 1972 |  0.16 | Absent  | Dead  |\n",
       "| 386 | Alive     | Male   | 68 | 1965 |  3.87 | Absent  | Alive |\n",
       "| 426 | Alive     | Female | 63 | 1970 |  4.84 | Absent  | Alive |\n",
       "| 469 | Alive     | Male   | 14 | 1969 |  2.42 | Absent  | Alive |\n",
       "| 493 | Unrelated | Female | 72 | 1971 | 12.56 | Absent  | Dead  |\n",
       "| 529 | Alive     | Female | 46 | 1971 |  5.80 | Absent  | Alive |\n",
       "| 621 | Alive     | Female | 72 | 1972 |  7.06 | Absent  | Alive |\n",
       "| 629 | Alive     | Female | 95 | 1968 |  5.48 | Absent  | Alive |\n",
       "| 659 | Alive     | Female | 54 | 1972 |  7.73 | Absent  | Alive |\n",
       "| 667 | Alive     | Male   | 89 | 1968 | 13.85 | Absent  | Alive |\n",
       "| 718 | Alive     | Female | 25 | 1967 |  2.34 | Absent  | Alive |\n",
       "| 752 | Alive     | Female | 37 | 1973 |  4.19 | Absent  | Alive |\n",
       "| 779 | Alive     | Female | 43 | 1967 |  4.04 | Absent  | Alive |\n",
       "| 793 | Alive     | Female | 68 | 1970 |  4.84 | Absent  | Alive |\n",
       "| 817 | Alive     | Male   | 67 | 1966 |  0.32 | Present | Alive |\n",
       "| 826 | Unrelated | Male   | 86 | 1965 |  8.54 | Absent  | Dead  |\n",
       "| 833 | Alive     | Male   | 56 | 1971 |  2.58 | Absent  | Alive |\n",
       "| 858 | Alive     | Male   | 16 | 1967 |  3.56 | Present | Alive |\n",
       "| 869 | Alive     | Male   | 42 | 1965 |  3.54 | Present | Alive |\n",
       "| ... | ... | ... | ... | ... | ... | ... | ... |\n",
       "| 3402 | Dead      | Female | 50 | 1968 |  1.62 | Present | Dead |\n",
       "| 3441 | Dead      | Male   | 20 | 1968 |  0.65 | Present | Dead |\n",
       "| 3458 | Unrelated | Male   | 54 | 1967 |  1.45 | Present | Dead |\n",
       "| 3459 | Dead      | Male   | 29 | 1968 |  0.65 | Present | Dead |\n",
       "| 3459 | Dead      | Female | 56 | 1968 |  1.29 | Absent  | Dead |\n",
       "| 3476 | Dead      | Male   | 60 | 1968 |  1.62 | Present | Dead |\n",
       "| 3523 | Dead      | Male   | 46 | 1968 |  3.54 | Present | Dead |\n",
       "| 3667 | Dead      | Male   | 42 | 1967 |  3.22 | Present | Dead |\n",
       "| 3695 | Dead      | Male   | 34 | 1967 |  0.65 | Present | Dead |\n",
       "| 3695 | Dead      | Male   | 56 | 1967 |  1.03 | Present | Dead |\n",
       "| 3776 | Dead      | Female | 12 | 1967 |  7.09 | Absent  | Dead |\n",
       "| 3776 | Dead      | Male   | 21 | 1967 |  1.29 | Absent  | Dead |\n",
       "| 3830 | Dead      | Female | 46 | 1967 |  0.65 | Present | Dead |\n",
       "| 3856 | Dead      | Male   | 49 | 1967 |  1.78 | Present | Dead |\n",
       "| 3872 | Dead      | Male   | 35 | 1967 | 12.24 | Absent  | Dead |\n",
       "| 3909 | Dead      | Female | 42 | 1967 |  8.06 | Absent  | Dead |\n",
       "| 3968 | Dead      | Male   | 47 | 1967 |  0.81 | Present | Dead |\n",
       "| 4001 | Dead      | Male   | 69 | 1967 |  2.10 | Present | Dead |\n",
       "| 4103 | Dead      | Male   | 52 | 1966 |  3.87 | Present | Dead |\n",
       "| 4119 | Dead      | Female | 52 | 1966 |  0.65 | Present | Dead |\n",
       "| 4124 | Dead      | Male   | 30 | 1966 |  1.94 | Absent  | Dead |\n",
       "| 4207 | Dead      | Female | 22 | 1966 |  0.65 | Present | Dead |\n",
       "| 4310 | Dead      | Female | 55 | 1966 |  2.10 | Present | Dead |\n",
       "| 4390 | Dead      | Male   | 26 | 1965 |  1.94 | Absent  | Dead |\n",
       "| 4479 | Dead      | Male   | 19 | 1965 |  1.13 | Absent  | Dead |\n",
       "| 4492 | Dead      | Female | 29 | 1965 |  7.06 | Absent  | Dead |\n",
       "| 4668 | Dead      | Male   | 40 | 1965 |  6.12 | Present | Dead |\n",
       "| 4688 | Dead      | Male   | 42 | 1965 |  0.48 | Present | Dead |\n",
       "| 4926 | Dead      | Male   | 50 | 1964 |  2.26 | Present | Dead |\n",
       "| 5565 | Dead      | Male   | 41 | 1962 |  2.90 | Present | Dead |\n",
       "\n"
      ],
      "text/plain": [
       "    time status    sex    age year thickness ulcer   live.status\n",
       "1    10  Unrelated Female 76  1972  6.76     Absent  Dead       \n",
       "2    30  Unrelated Female 56  1968  0.65     Present Dead       \n",
       "3    35  Dead      Female 41  1977  1.34     Present Dead       \n",
       "4    99  Unrelated Male   71  1968  2.90     Present Dead       \n",
       "5   185  Alive     Female 52  1965 12.08     Absent  Alive      \n",
       "6   204  Alive     Female 28  1971  4.84     Absent  Alive      \n",
       "7   210  Alive     Female 77  1972  5.16     Absent  Alive      \n",
       "8   232  Unrelated Male   60  1974  3.22     Absent  Dead       \n",
       "9   232  Alive     Female 49  1968 12.88     Absent  Alive      \n",
       "10  279  Alive     Male   68  1971  7.41     Absent  Alive      \n",
       "11  295  Alive     Male   53  1969  4.19     Absent  Alive      \n",
       "12  355  Unrelated Male   64  1972  0.16     Absent  Dead       \n",
       "13  386  Alive     Male   68  1965  3.87     Absent  Alive      \n",
       "14  426  Alive     Female 63  1970  4.84     Absent  Alive      \n",
       "15  469  Alive     Male   14  1969  2.42     Absent  Alive      \n",
       "16  493  Unrelated Female 72  1971 12.56     Absent  Dead       \n",
       "17  529  Alive     Female 46  1971  5.80     Absent  Alive      \n",
       "18  621  Alive     Female 72  1972  7.06     Absent  Alive      \n",
       "19  629  Alive     Female 95  1968  5.48     Absent  Alive      \n",
       "20  659  Alive     Female 54  1972  7.73     Absent  Alive      \n",
       "21  667  Alive     Male   89  1968 13.85     Absent  Alive      \n",
       "22  718  Alive     Female 25  1967  2.34     Absent  Alive      \n",
       "23  752  Alive     Female 37  1973  4.19     Absent  Alive      \n",
       "24  779  Alive     Female 43  1967  4.04     Absent  Alive      \n",
       "25  793  Alive     Female 68  1970  4.84     Absent  Alive      \n",
       "26  817  Alive     Male   67  1966  0.32     Present Alive      \n",
       "27  826  Unrelated Male   86  1965  8.54     Absent  Dead       \n",
       "28  833  Alive     Male   56  1971  2.58     Absent  Alive      \n",
       "29  858  Alive     Male   16  1967  3.56     Present Alive      \n",
       "30  869  Alive     Male   42  1965  3.54     Present Alive      \n",
       "... ...  ...       ...    ... ...  ...       ...     ...        \n",
       "176 3402 Dead      Female 50  1968  1.62     Present Dead       \n",
       "177 3441 Dead      Male   20  1968  0.65     Present Dead       \n",
       "178 3458 Unrelated Male   54  1967  1.45     Present Dead       \n",
       "179 3459 Dead      Male   29  1968  0.65     Present Dead       \n",
       "180 3459 Dead      Female 56  1968  1.29     Absent  Dead       \n",
       "181 3476 Dead      Male   60  1968  1.62     Present Dead       \n",
       "182 3523 Dead      Male   46  1968  3.54     Present Dead       \n",
       "183 3667 Dead      Male   42  1967  3.22     Present Dead       \n",
       "184 3695 Dead      Male   34  1967  0.65     Present Dead       \n",
       "185 3695 Dead      Male   56  1967  1.03     Present Dead       \n",
       "186 3776 Dead      Female 12  1967  7.09     Absent  Dead       \n",
       "187 3776 Dead      Male   21  1967  1.29     Absent  Dead       \n",
       "188 3830 Dead      Female 46  1967  0.65     Present Dead       \n",
       "189 3856 Dead      Male   49  1967  1.78     Present Dead       \n",
       "190 3872 Dead      Male   35  1967 12.24     Absent  Dead       \n",
       "191 3909 Dead      Female 42  1967  8.06     Absent  Dead       \n",
       "192 3968 Dead      Male   47  1967  0.81     Present Dead       \n",
       "193 4001 Dead      Male   69  1967  2.10     Present Dead       \n",
       "194 4103 Dead      Male   52  1966  3.87     Present Dead       \n",
       "195 4119 Dead      Female 52  1966  0.65     Present Dead       \n",
       "196 4124 Dead      Male   30  1966  1.94     Absent  Dead       \n",
       "197 4207 Dead      Female 22  1966  0.65     Present Dead       \n",
       "198 4310 Dead      Female 55  1966  2.10     Present Dead       \n",
       "199 4390 Dead      Male   26  1965  1.94     Absent  Dead       \n",
       "200 4479 Dead      Male   19  1965  1.13     Absent  Dead       \n",
       "201 4492 Dead      Female 29  1965  7.06     Absent  Dead       \n",
       "202 4668 Dead      Male   40  1965  6.12     Present Dead       \n",
       "203 4688 Dead      Male   42  1965  0.48     Present Dead       \n",
       "204 4926 Dead      Male   50  1964  2.26     Present Dead       \n",
       "205 5565 Dead      Male   41  1962  2.90     Present Dead       "
      ]
     },
     "metadata": {},
     "output_type": "display_data"
    }
   ],
   "source": [
    "melanoma"
   ]
  },
  {
   "cell_type": "code",
   "execution_count": 14,
   "metadata": {
    "vscode": {
     "languageId": "r"
    }
   },
   "outputs": [],
   "source": [
    "# (d)\n",
    "# Create a contingency table for the variables sex and live.status."
   ]
  },
  {
   "cell_type": "code",
   "execution_count": 15,
   "metadata": {
    "vscode": {
     "languageId": "r"
    }
   },
   "outputs": [
    {
     "data": {
      "text/plain": [
       "        \n",
       "         Alive Dead\n",
       "  Male      28   98\n",
       "  Female    29   50"
      ]
     },
     "metadata": {},
     "output_type": "display_data"
    }
   ],
   "source": [
    "table(melanoma$sex, melanoma$live.status)"
   ]
  },
  {
   "cell_type": "code",
   "execution_count": 16,
   "metadata": {
    "vscode": {
     "languageId": "r"
    }
   },
   "outputs": [],
   "source": [
    "# Sidenote\n",
    "\n",
    "# A contingency table displays frequency/count of observations for\n",
    "# categorical variables. Each cell represents frequency of a combination\n",
    "# of values. Used to explore relationships between variables and for\n",
    "# chi-square tests of independence."
   ]
  },
  {
   "cell_type": "code",
   "execution_count": 17,
   "metadata": {
    "vscode": {
     "languageId": "r"
    }
   },
   "outputs": [],
   "source": [
    "# (e) - COULDN'T SOLVE IT\n",
    "# Evaluate the relative risks to survive at least 3 years for the variable\n",
    "# sex and interpret the values.\n",
    "\n",
    "# Problem\n",
    "# the solution from chatgpt isn't possible because I need some\n",
    "# library which I can't download\n",
    "# perhaps Shama has some other answer.\n",
    "# Maybe there is some approach in Exercise 3 or 4."
   ]
  },
  {
   "cell_type": "code",
   "execution_count": 18,
   "metadata": {
    "vscode": {
     "languageId": "r"
    }
   },
   "outputs": [],
   "source": [
    "# riskratio(\n",
    "#          table(melanoma$sex, melanoma$status)[, \"Alive\"],\n",
    "#           rev(table(melanoma$sex, melanoma$status)[, \"Dead\"]))"
   ]
  },
  {
   "cell_type": "code",
   "execution_count": 19,
   "metadata": {
    "vscode": {
     "languageId": "r"
    }
   },
   "outputs": [],
   "source": [
    "# (f)\n",
    "# Create a summary describing the distribution of the variable age\n",
    "# containing min, max, mean, the three quartiles depending on the variable\n",
    "# sex."
   ]
  },
  {
   "cell_type": "code",
   "execution_count": 22,
   "metadata": {
    "vscode": {
     "languageId": "r"
    }
   },
   "outputs": [
    {
     "data": {
      "text/html": [
       "<table class=\"dataframe\">\n",
       "<caption>A tibble: 2 x 7</caption>\n",
       "<thead>\n",
       "\t<tr><th scope=col>sex</th><th scope=col>min_age</th><th scope=col>max_age</th><th scope=col>mean_age</th><th scope=col>Q1</th><th scope=col>median_age</th><th scope=col>Q3</th></tr>\n",
       "\t<tr><th scope=col>&lt;fct&gt;</th><th scope=col>&lt;dbl&gt;</th><th scope=col>&lt;dbl&gt;</th><th scope=col>&lt;dbl&gt;</th><th scope=col>&lt;dbl&gt;</th><th scope=col>&lt;dbl&gt;</th><th scope=col>&lt;dbl&gt;</th></tr>\n",
       "</thead>\n",
       "<tbody>\n",
       "\t<tr><td>Male  </td><td> 4</td><td>89</td><td>51.56349</td><td>42.0</td><td>54</td><td>64.75</td></tr>\n",
       "\t<tr><td>Female</td><td>12</td><td>95</td><td>53.89873</td><td>43.5</td><td>55</td><td>66.50</td></tr>\n",
       "</tbody>\n",
       "</table>\n"
      ],
      "text/latex": [
       "A tibble: 2 x 7\n",
       "\\begin{tabular}{lllllll}\n",
       " sex & min\\_age & max\\_age & mean\\_age & Q1 & median\\_age & Q3\\\\\n",
       " <fct> & <dbl> & <dbl> & <dbl> & <dbl> & <dbl> & <dbl>\\\\\n",
       "\\hline\n",
       "\t Male   &  4 & 89 & 51.56349 & 42.0 & 54 & 64.75\\\\\n",
       "\t Female & 12 & 95 & 53.89873 & 43.5 & 55 & 66.50\\\\\n",
       "\\end{tabular}\n"
      ],
      "text/markdown": [
       "\n",
       "A tibble: 2 x 7\n",
       "\n",
       "| sex &lt;fct&gt; | min_age &lt;dbl&gt; | max_age &lt;dbl&gt; | mean_age &lt;dbl&gt; | Q1 &lt;dbl&gt; | median_age &lt;dbl&gt; | Q3 &lt;dbl&gt; |\n",
       "|---|---|---|---|---|---|---|\n",
       "| Male   |  4 | 89 | 51.56349 | 42.0 | 54 | 64.75 |\n",
       "| Female | 12 | 95 | 53.89873 | 43.5 | 55 | 66.50 |\n",
       "\n"
      ],
      "text/plain": [
       "  sex    min_age max_age mean_age Q1   median_age Q3   \n",
       "1 Male    4      89      51.56349 42.0 54         64.75\n",
       "2 Female 12      95      53.89873 43.5 55         66.50"
      ]
     },
     "metadata": {},
     "output_type": "display_data"
    }
   ],
   "source": [
    "summary_stats <- melanoma %>%\n",
    "  group_by(sex) %>%\n",
    "  summarise(\n",
    "    min_age = min(age),\n",
    "    max_age = max(age),\n",
    "    mean_age = mean(age),\n",
    "    Q1 = quantile(age, 0.25),\n",
    "    median_age = median(age),\n",
    "    Q3 = quantile(age, 0.75)\n",
    "  )\n",
    "summary_stats"
   ]
  },
  {
   "cell_type": "code",
   "execution_count": null,
   "metadata": {
    "vscode": {
     "languageId": "r"
    }
   },
   "outputs": [],
   "source": [
    "# (g)\n",
    "# Create side by side boxplots for the age of persons depending on their\n",
    "# sex and interpret the diagram."
   ]
  },
  {
   "cell_type": "code",
   "execution_count": 23,
   "metadata": {
    "vscode": {
     "languageId": "r"
    }
   },
   "outputs": [
    {
     "data": {
      "image/png": "[encoded data removed]",
      "text/plain": [
       "plot without title"
      ]
     },
     "metadata": {
      "image/png": {
       "height": 420,
       "width": 420
      }
     },
     "output_type": "display_data"
    }
   ],
   "source": [
    "ggplot(melanoma, aes(x = sex, y = age, fill = sex)) +\n",
    "  geom_boxplot() +\n",
    "  labs(title = \"Boxplot of Age by Sex\",\n",
    "       x = \"Sex\",\n",
    "       y = \"Age\") +\n",
    "  theme_minimal()"
   ]
  },
  {
   "cell_type": "code",
   "execution_count": null,
   "metadata": {
    "vscode": {
     "languageId": "r"
    }
   },
   "outputs": [],
   "source": [
    "# (h)\n",
    "# The csv file add.data.melanoma.csv contains data from another study.\n",
    "# Import the dataset as a tibble called add.data.melanoma."
   ]
  },
  {
   "cell_type": "code",
   "execution_count": 25,
   "metadata": {
    "vscode": {
     "languageId": "r"
    }
   },
   "outputs": [
    {
     "name": "stderr",
     "output_type": "stream",
     "text": [
      "\u001b[1mRows: \u001b[22m\u001b[34m20\u001b[39m \u001b[1mColumns: \u001b[22m\u001b[34m5\u001b[39m\n",
      "\u001b[36m--\u001b[39m \u001b[1mColumn specification\u001b[22m \u001b[36m--------------------------------------------------------\u001b[39m\n",
      "\u001b[1mDelimiter:\u001b[22m \",\"\n",
      "\u001b[31mchr\u001b[39m (1): sex_age_year\n",
      "\u001b[32mdbl\u001b[39m (4): time, status, thickness, ulcer\n",
      "\n",
      "\u001b[36mi\u001b[39m Use `spec()` to retrieve the full column specification for this data.\n",
      "\u001b[36mi\u001b[39m Specify the column types or set `show_col_types = FALSE` to quiet this message.\n"
     ]
    }
   ],
   "source": [
    "add.data.melanoma <- readr::read_csv(\"add.data.melanoma.csv\")"
   ]
  },
  {
   "cell_type": "code",
   "execution_count": 26,
   "metadata": {
    "vscode": {
     "languageId": "r"
    }
   },
   "outputs": [
    {
     "data": {
      "text/html": [
       "<table class=\"dataframe\">\n",
       "<caption>A spec_tbl_df: 20 x 5</caption>\n",
       "<thead>\n",
       "\t<tr><th scope=col>time</th><th scope=col>status</th><th scope=col>thickness</th><th scope=col>ulcer</th><th scope=col>sex_age_year</th></tr>\n",
       "\t<tr><th scope=col>&lt;dbl&gt;</th><th scope=col>&lt;dbl&gt;</th><th scope=col>&lt;dbl&gt;</th><th scope=col>&lt;dbl&gt;</th><th scope=col>&lt;chr&gt;</th></tr>\n",
       "</thead>\n",
       "<tbody>\n",
       "\t<tr><td> 809</td><td>2</td><td>11.70</td><td>0</td><td>0/72/1978</td></tr>\n",
       "\t<tr><td>1687</td><td>3</td><td> 6.22</td><td>0</td><td>0/61/1990</td></tr>\n",
       "\t<tr><td>1711</td><td>3</td><td>13.98</td><td>0</td><td>0/30/1977</td></tr>\n",
       "\t<tr><td> 682</td><td>3</td><td> 5.06</td><td>0</td><td>0/72/1987</td></tr>\n",
       "\t<tr><td>1034</td><td>2</td><td>15.38</td><td>0</td><td>0/71/1977</td></tr>\n",
       "\t<tr><td> 625</td><td>1</td><td> 7.66</td><td>0</td><td>0/21/1983</td></tr>\n",
       "\t<tr><td> 248</td><td>2</td><td> 3.48</td><td>0</td><td>0/63/1988</td></tr>\n",
       "\t<tr><td>1190</td><td>1</td><td> 9.29</td><td>0</td><td>0/26/1975</td></tr>\n",
       "\t<tr><td>1979</td><td>2</td><td>10.33</td><td>0</td><td>0/77/1984</td></tr>\n",
       "\t<tr><td>1191</td><td>1</td><td>11.03</td><td>0</td><td>1/57/1980</td></tr>\n",
       "\t<tr><td> 712</td><td>2</td><td> 4.37</td><td>0</td><td>0/68/1985</td></tr>\n",
       "\t<tr><td>1304</td><td>2</td><td>18.65</td><td>0</td><td>0/30/1978</td></tr>\n",
       "\t<tr><td>1843</td><td>3</td><td> 1.17</td><td>0</td><td>0/79/1987</td></tr>\n",
       "\t<tr><td>1968</td><td>1</td><td>12.65</td><td>0</td><td>1/82/1986</td></tr>\n",
       "\t<tr><td>1313</td><td>1</td><td>14.20</td><td>0</td><td>1/38/1977</td></tr>\n",
       "\t<tr><td>  93</td><td>2</td><td> 6.47</td><td>0</td><td>1/26/1975</td></tr>\n",
       "\t<tr><td> 348</td><td>2</td><td> 1.24</td><td>0</td><td>1/33/1981</td></tr>\n",
       "\t<tr><td>1839</td><td>1</td><td> 7.82</td><td>0</td><td>0/70/1989</td></tr>\n",
       "\t<tr><td> 114</td><td>3</td><td> 4.31</td><td>0</td><td>0/76/1975</td></tr>\n",
       "\t<tr><td> 580</td><td>1</td><td> 5.87</td><td>0</td><td>1/86/1981</td></tr>\n",
       "</tbody>\n",
       "</table>\n"
      ],
      "text/latex": [
       "A spec\\_tbl\\_df: 20 x 5\n",
       "\\begin{tabular}{lllll}\n",
       " time & status & thickness & ulcer & sex\\_age\\_year\\\\\n",
       " <dbl> & <dbl> & <dbl> & <dbl> & <chr>\\\\\n",
       "\\hline\n",
       "\t  809 & 2 & 11.70 & 0 & 0/72/1978\\\\\n",
       "\t 1687 & 3 &  6.22 & 0 & 0/61/1990\\\\\n",
       "\t 1711 & 3 & 13.98 & 0 & 0/30/1977\\\\\n",
       "\t  682 & 3 &  5.06 & 0 & 0/72/1987\\\\\n",
       "\t 1034 & 2 & 15.38 & 0 & 0/71/1977\\\\\n",
       "\t  625 & 1 &  7.66 & 0 & 0/21/1983\\\\\n",
       "\t  248 & 2 &  3.48 & 0 & 0/63/1988\\\\\n",
       "\t 1190 & 1 &  9.29 & 0 & 0/26/1975\\\\\n",
       "\t 1979 & 2 & 10.33 & 0 & 0/77/1984\\\\\n",
       "\t 1191 & 1 & 11.03 & 0 & 1/57/1980\\\\\n",
       "\t  712 & 2 &  4.37 & 0 & 0/68/1985\\\\\n",
       "\t 1304 & 2 & 18.65 & 0 & 0/30/1978\\\\\n",
       "\t 1843 & 3 &  1.17 & 0 & 0/79/1987\\\\\n",
       "\t 1968 & 1 & 12.65 & 0 & 1/82/1986\\\\\n",
       "\t 1313 & 1 & 14.20 & 0 & 1/38/1977\\\\\n",
       "\t   93 & 2 &  6.47 & 0 & 1/26/1975\\\\\n",
       "\t  348 & 2 &  1.24 & 0 & 1/33/1981\\\\\n",
       "\t 1839 & 1 &  7.82 & 0 & 0/70/1989\\\\\n",
       "\t  114 & 3 &  4.31 & 0 & 0/76/1975\\\\\n",
       "\t  580 & 1 &  5.87 & 0 & 1/86/1981\\\\\n",
       "\\end{tabular}\n"
      ],
      "text/markdown": [
       "\n",
       "A spec_tbl_df: 20 x 5\n",
       "\n",
       "| time &lt;dbl&gt; | status &lt;dbl&gt; | thickness &lt;dbl&gt; | ulcer &lt;dbl&gt; | sex_age_year &lt;chr&gt; |\n",
       "|---|---|---|---|---|\n",
       "|  809 | 2 | 11.70 | 0 | 0/72/1978 |\n",
       "| 1687 | 3 |  6.22 | 0 | 0/61/1990 |\n",
       "| 1711 | 3 | 13.98 | 0 | 0/30/1977 |\n",
       "|  682 | 3 |  5.06 | 0 | 0/72/1987 |\n",
       "| 1034 | 2 | 15.38 | 0 | 0/71/1977 |\n",
       "|  625 | 1 |  7.66 | 0 | 0/21/1983 |\n",
       "|  248 | 2 |  3.48 | 0 | 0/63/1988 |\n",
       "| 1190 | 1 |  9.29 | 0 | 0/26/1975 |\n",
       "| 1979 | 2 | 10.33 | 0 | 0/77/1984 |\n",
       "| 1191 | 1 | 11.03 | 0 | 1/57/1980 |\n",
       "|  712 | 2 |  4.37 | 0 | 0/68/1985 |\n",
       "| 1304 | 2 | 18.65 | 0 | 0/30/1978 |\n",
       "| 1843 | 3 |  1.17 | 0 | 0/79/1987 |\n",
       "| 1968 | 1 | 12.65 | 0 | 1/82/1986 |\n",
       "| 1313 | 1 | 14.20 | 0 | 1/38/1977 |\n",
       "|   93 | 2 |  6.47 | 0 | 1/26/1975 |\n",
       "|  348 | 2 |  1.24 | 0 | 1/33/1981 |\n",
       "| 1839 | 1 |  7.82 | 0 | 0/70/1989 |\n",
       "|  114 | 3 |  4.31 | 0 | 0/76/1975 |\n",
       "|  580 | 1 |  5.87 | 0 | 1/86/1981 |\n",
       "\n"
      ],
      "text/plain": [
       "   time status thickness ulcer sex_age_year\n",
       "1   809 2      11.70     0     0/72/1978   \n",
       "2  1687 3       6.22     0     0/61/1990   \n",
       "3  1711 3      13.98     0     0/30/1977   \n",
       "4   682 3       5.06     0     0/72/1987   \n",
       "5  1034 2      15.38     0     0/71/1977   \n",
       "6   625 1       7.66     0     0/21/1983   \n",
       "7   248 2       3.48     0     0/63/1988   \n",
       "8  1190 1       9.29     0     0/26/1975   \n",
       "9  1979 2      10.33     0     0/77/1984   \n",
       "10 1191 1      11.03     0     1/57/1980   \n",
       "11  712 2       4.37     0     0/68/1985   \n",
       "12 1304 2      18.65     0     0/30/1978   \n",
       "13 1843 3       1.17     0     0/79/1987   \n",
       "14 1968 1      12.65     0     1/82/1986   \n",
       "15 1313 1      14.20     0     1/38/1977   \n",
       "16   93 2       6.47     0     1/26/1975   \n",
       "17  348 2       1.24     0     1/33/1981   \n",
       "18 1839 1       7.82     0     0/70/1989   \n",
       "19  114 3       4.31     0     0/76/1975   \n",
       "20  580 1       5.87     0     1/86/1981   "
      ]
     },
     "metadata": {},
     "output_type": "display_data"
    }
   ],
   "source": [
    "# (i)\n",
    "# Is this dataset tidy? (add-data-melanoma)\n",
    "add.data.melanoma\n",
    "# To check if the dataset is tidy, we need to assess if each variable forms\n",
    "# a column, each observation forms a row, and each type of observational\n",
    "# unit forms a table. Further information about the structure of the dataset\n",
    "# and its variables would be needed to make a determination.\n",
    "\n",
    "# My Solution Proposal:\n",
    "# obviously sex_age_year is already the giveaway that the dataset\n",
    "# isn't tidy at all.\n",
    "# also time is kinda weird and ulcer is only 0"
   ]
  },
  {
   "cell_type": "code",
   "execution_count": null,
   "metadata": {
    "vscode": {
     "languageId": "r"
    }
   },
   "outputs": [],
   "source": [
    "# 2\n",
    "# In a computer science course, 60 students must sign up for one of\n",
    "# four projects (P1, P2, P3, P4).\n",
    "# All projects are equally popular among students.\n",
    "\n",
    "# (a)\n",
    "# Determine the probability that exactly 15 students register for each\n",
    "# of the four projects.\n",
    "\n",
    "# (b)\n",
    "# Determine the probability that more than 15 students sign up for project P1."
   ]
  },
  {
   "cell_type": "code",
   "execution_count": 27,
   "metadata": {
    "vscode": {
     "languageId": "r"
    }
   },
   "outputs": [
    {
     "name": "stdout",
     "output_type": "stream",
     "text": [
      "[1] \"Probability that exactly 15 students register for each project: 1\"\n",
      "[1] \"Probability that more than 15 students sign up for project P1: 1\"\n"
     ]
    }
   ],
   "source": [
    "# Function to calculate combinations (n choose k)\n",
    "choose <- function(n, k) {\n",
    "  factorial(n) / (factorial(k) * factorial(n - k))\n",
    "}\n",
    "\n",
    "# Total number of ways to assign 60 students to 4 projects\n",
    "total_assignments <- choose(60, 15) ^ 4\n",
    "\n",
    "# a) Probability that exactly 15 students register for each project\n",
    "prob_a <- choose(60, 15) ^ 4 / total_assignments\n",
    "\n",
    "# b) Probability that more than 15 students sign up for project P1\n",
    "prob_b <- 1 - choose(60, 15) / total_assignments\n",
    "\n",
    "# Output the probabilities\n",
    "print(paste(\"Probability that exactly 15 students register for each project:\", prob_a))\n",
    "print(paste(\"Probability that more than 15 students sign up for project P1:\", prob_b))\n"
   ]
  }
 ],
 "metadata": {
  "kernelspec": {
   "display_name": "R",
   "language": "R",
   "name": "ir"
  },
  "language_info": {
   "codemirror_mode": "r",
   "file_extension": ".r",
   "mimetype": "text/x-r-source",
   "name": "R",
   "pygments_lexer": "r",
   "version": "4.3.3"
  }
 },
 "nbformat": 4,
 "nbformat_minor": 2
}
