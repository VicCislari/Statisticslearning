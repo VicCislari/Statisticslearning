{
 "cells": [
  {
   "cell_type": "code",
   "execution_count": 1,
   "metadata": {
    "vscode": {
     "languageId": "r"
    }
   },
   "outputs": [],
   "source": [
    "# AUFGABE 5"
   ]
  },
  {
   "cell_type": "code",
   "execution_count": 2,
   "metadata": {
    "vscode": {
     "languageId": "r"
    }
   },
   "outputs": [
    {
     "data": {
      "text/html": [
       "<table class=\"dataframe\">\n",
       "<caption>A data.frame: 22 x 2</caption>\n",
       "<thead>\n",
       "\t<tr><th scope=col>condition</th><th scope=col>rating</th></tr>\n",
       "\t<tr><th scope=col>&lt;chr&gt;</th><th scope=col>&lt;int&gt;</th></tr>\n",
       "</thead>\n",
       "<tbody>\n",
       "\t<tr><td>charismatic </td><td>85</td></tr>\n",
       "\t<tr><td>charismatic </td><td>78</td></tr>\n",
       "\t<tr><td>charismatic </td><td>90</td></tr>\n",
       "\t<tr><td>non-punitive</td><td>70</td></tr>\n",
       "\t<tr><td>non-punitive</td><td>75</td></tr>\n",
       "\t<tr><td>non-punitive</td><td>80</td></tr>\n",
       "\t<tr><td>charismatic </td><td>88</td></tr>\n",
       "\t<tr><td>charismatic </td><td>82</td></tr>\n",
       "\t<tr><td>non-punitive</td><td>72</td></tr>\n",
       "\t<tr><td>non-punitive</td><td>68</td></tr>\n",
       "\t<tr><td>charismatic </td><td>79</td></tr>\n",
       "\t<tr><td>charismatic </td><td>91</td></tr>\n",
       "\t<tr><td>non-punitive</td><td>65</td></tr>\n",
       "\t<tr><td>non-punitive</td><td>74</td></tr>\n",
       "\t<tr><td>charismatic </td><td>86</td></tr>\n",
       "\t<tr><td>charismatic </td><td>80</td></tr>\n",
       "\t<tr><td>non-punitive</td><td>78</td></tr>\n",
       "\t<tr><td>non-punitive</td><td>73</td></tr>\n",
       "\t<tr><td>charismatic </td><td>87</td></tr>\n",
       "\t<tr><td>charismatic </td><td>83</td></tr>\n",
       "\t<tr><td>non-punitive</td><td>75</td></tr>\n",
       "\t<tr><td>non-punitive</td><td>69</td></tr>\n",
       "</tbody>\n",
       "</table>\n"
      ],
      "text/latex": [
       "A data.frame: 22 x 2\n",
       "\\begin{tabular}{ll}\n",
       " condition & rating\\\\\n",
       " <chr> & <int>\\\\\n",
       "\\hline\n",
       "\t charismatic  & 85\\\\\n",
       "\t charismatic  & 78\\\\\n",
       "\t charismatic  & 90\\\\\n",
       "\t non-punitive & 70\\\\\n",
       "\t non-punitive & 75\\\\\n",
       "\t non-punitive & 80\\\\\n",
       "\t charismatic  & 88\\\\\n",
       "\t charismatic  & 82\\\\\n",
       "\t non-punitive & 72\\\\\n",
       "\t non-punitive & 68\\\\\n",
       "\t charismatic  & 79\\\\\n",
       "\t charismatic  & 91\\\\\n",
       "\t non-punitive & 65\\\\\n",
       "\t non-punitive & 74\\\\\n",
       "\t charismatic  & 86\\\\\n",
       "\t charismatic  & 80\\\\\n",
       "\t non-punitive & 78\\\\\n",
       "\t non-punitive & 73\\\\\n",
       "\t charismatic  & 87\\\\\n",
       "\t charismatic  & 83\\\\\n",
       "\t non-punitive & 75\\\\\n",
       "\t non-punitive & 69\\\\\n",
       "\\end{tabular}\n"
      ],
      "text/markdown": [
       "\n",
       "A data.frame: 22 x 2\n",
       "\n",
       "| condition &lt;chr&gt; | rating &lt;int&gt; |\n",
       "|---|---|\n",
       "| charismatic  | 85 |\n",
       "| charismatic  | 78 |\n",
       "| charismatic  | 90 |\n",
       "| non-punitive | 70 |\n",
       "| non-punitive | 75 |\n",
       "| non-punitive | 80 |\n",
       "| charismatic  | 88 |\n",
       "| charismatic  | 82 |\n",
       "| non-punitive | 72 |\n",
       "| non-punitive | 68 |\n",
       "| charismatic  | 79 |\n",
       "| charismatic  | 91 |\n",
       "| non-punitive | 65 |\n",
       "| non-punitive | 74 |\n",
       "| charismatic  | 86 |\n",
       "| charismatic  | 80 |\n",
       "| non-punitive | 78 |\n",
       "| non-punitive | 73 |\n",
       "| charismatic  | 87 |\n",
       "| charismatic  | 83 |\n",
       "| non-punitive | 75 |\n",
       "| non-punitive | 69 |\n",
       "\n"
      ],
      "text/plain": [
       "   condition    rating\n",
       "1  charismatic  85    \n",
       "2  charismatic  78    \n",
       "3  charismatic  90    \n",
       "4  non-punitive 70    \n",
       "5  non-punitive 75    \n",
       "6  non-punitive 80    \n",
       "7  charismatic  88    \n",
       "8  charismatic  82    \n",
       "9  non-punitive 72    \n",
       "10 non-punitive 68    \n",
       "11 charismatic  79    \n",
       "12 charismatic  91    \n",
       "13 non-punitive 65    \n",
       "14 non-punitive 74    \n",
       "15 charismatic  86    \n",
       "16 charismatic  80    \n",
       "17 non-punitive 78    \n",
       "18 non-punitive 73    \n",
       "19 charismatic  87    \n",
       "20 charismatic  83    \n",
       "21 non-punitive 75    \n",
       "22 non-punitive 69    "
      ]
     },
     "metadata": {},
     "output_type": "display_data"
    }
   ],
   "source": [
    "# (a)\n",
    "data <- read.csv(\"rep.rate.csv\")\n",
    "data"
   ]
  },
  {
   "cell_type": "code",
   "execution_count": 3,
   "metadata": {
    "vscode": {
     "languageId": "r"
    }
   },
   "outputs": [],
   "source": [
    "# (b)\n",
    "#\n",
    "# all values are approximations\n",
    "# charismatic:\n",
    "# the median is at 2.7\n",
    "# the 75% quartile is 3.0\n",
    "# the 25% quartile is 2.35\n",
    "# the lowest value sits at 1.7\n",
    "# the highest value is 4.0\n",
    "# no outliers, the data is within the limits\n",
    "# outlier calc: https://www.youtube.com/watch?v=mdBqD2ROviQ\n",
    "#\n",
    "# the otehr one something similar...."
   ]
  },
  {
   "cell_type": "code",
   "execution_count": 4,
   "metadata": {
    "vscode": {
     "languageId": "r"
    }
   },
   "outputs": [
    {
     "name": "stdout",
     "output_type": "stream",
     "text": [
      "\n",
      "\tF test to compare two variances\n",
      "\n",
      "data:  ratings_charismatic and ratings_non_punitive\n",
      "F = 0.99075, num df = 10, denom df = 10, p-value = 0.9886\n",
      "alternative hypothesis: true ratio of variances is not equal to 1\n",
      "95 percent confidence interval:\n",
      " 0.2665603 3.6824090\n",
      "sample estimates:\n",
      "ratio of variances \n",
      "         0.9907493 \n",
      "\n"
     ]
    }
   ],
   "source": [
    "# (c)\n",
    "# variable of intereste -> variance(rating)\n",
    "# Hypotheses\n",
    "# H0: = \n",
    "# H1: var_rating\n",
    "\n",
    "# f-test for variance\n",
    "\n",
    "# Import the data\n",
    "data <- read.csv(\"rep.rate.csv\")\n",
    "\n",
    "# Extract ratings for each condition\n",
    "ratings_charismatic <- data[data$condition == \"charismatic\", \"rating\"]\n",
    "ratings_non_punitive <- data[data$condition == \"non-punitive\", \"rating\"]\n",
    "\n",
    "# Perform F-test for equality of variances\n",
    "result <- var.test(ratings_charismatic, ratings_non_punitive)\n",
    "\n",
    "# Print the result\n",
    "print(result)\n"
   ]
  }
 ],
 "metadata": {
  "kernelspec": {
   "display_name": "R",
   "language": "R",
   "name": "ir"
  },
  "language_info": {
   "codemirror_mode": "r",
   "file_extension": ".r",
   "mimetype": "text/x-r-source",
   "name": "R",
   "pygments_lexer": "r",
   "version": "4.3.3"
  }
 },
 "nbformat": 4,
 "nbformat_minor": 2
}
