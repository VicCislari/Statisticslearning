{
 "cells": [
  {
   "cell_type": "code",
   "execution_count": 3,
   "metadata": {
    "vscode": {
     "languageId": "r"
    }
   },
   "outputs": [],
   "source": [
    "# Descriptive \n",
    "# a) import\n",
    "library(readr)"
   ]
  },
  {
   "cell_type": "code",
   "execution_count": null,
   "metadata": {
    "vscode": {
     "languageId": "r"
    }
   },
   "outputs": [],
   "source": [
    "galtonfamilies <- read_csv(\"D:/Datentransfer/Studium/3.Semester/Statistics/SS_22/GaltonFamilies.csv\")\n",
    "View(GaltonFamilies)\n",
    "GaltonFamilies\n",
    "#b)\n",
    "# family: qualitative discrete nominal\n",
    "# father (height of father): quantitative continuous ratio\n",
    "# mother (height of mother): quantitative continuous ratio\n",
    "# midpartenHeight : quantitative continuous ratio\n",
    "# children (number of childrens in family): quantitative discrete absolute\n",
    "# childNum: qualitative discrete ordinal\n",
    "# gender: qualitative discrete nominal\n",
    "# childHeight: quantitative continuous ratio\n",
    "\n",
    "#c) height given in inches. change the values to cm( 1 inch= 2.54cm)\n",
    "library(tidyverse)\n",
    "galtonfamilies <- galtonfamilies %>% \n",
    "  mutate(father = father*2.54,\n",
    "         mother = mother*2.54,\n",
    "         midparentHeight =  midparentHeight*2.54,\n",
    "         childHeight = childHeight*2.54\n",
    "         )\n",
    "galtonfamilies"
   ]
  },
  {
   "cell_type": "code",
   "execution_count": null,
   "metadata": {
    "vscode": {
     "languageId": "r"
    }
   },
   "outputs": [],
   "source": []
  },
  {
   "cell_type": "code",
   "execution_count": null,
   "metadata": {
    "vscode": {
     "languageId": "r"
    }
   },
   "outputs": [],
   "source": []
  },
  {
   "cell_type": "code",
   "execution_count": null,
   "metadata": {
    "vscode": {
     "languageId": "r"
    }
   },
   "outputs": [],
   "source": []
  },
  {
   "cell_type": "code",
   "execution_count": null,
   "metadata": {
    "vscode": {
     "languageId": "r"
    }
   },
   "outputs": [],
   "source": []
  },
  {
   "cell_type": "code",
   "execution_count": null,
   "metadata": {
    "vscode": {
     "languageId": "r"
    }
   },
   "outputs": [],
   "source": []
  },
  {
   "cell_type": "code",
   "execution_count": null,
   "metadata": {
    "vscode": {
     "languageId": "r"
    }
   },
   "outputs": [],
   "source": []
  },
  {
   "cell_type": "code",
   "execution_count": null,
   "metadata": {
    "vscode": {
     "languageId": "r"
    }
   },
   "outputs": [],
   "source": []
  },
  {
   "cell_type": "code",
   "execution_count": null,
   "metadata": {
    "vscode": {
     "languageId": "r"
    }
   },
   "outputs": [],
   "source": []
  },
  {
   "cell_type": "code",
   "execution_count": null,
   "metadata": {
    "vscode": {
     "languageId": "r"
    }
   },
   "outputs": [],
   "source": []
  },
  {
   "cell_type": "code",
   "execution_count": null,
   "metadata": {
    "vscode": {
     "languageId": "r"
    }
   },
   "outputs": [],
   "source": []
  },
  {
   "cell_type": "code",
   "execution_count": null,
   "metadata": {
    "vscode": {
     "languageId": "r"
    }
   },
   "outputs": [],
   "source": []
  },
  {
   "cell_type": "code",
   "execution_count": null,
   "metadata": {
    "vscode": {
     "languageId": "r"
    }
   },
   "outputs": [],
   "source": []
  },
  {
   "cell_type": "code",
   "execution_count": null,
   "metadata": {
    "vscode": {
     "languageId": "r"
    }
   },
   "outputs": [],
   "source": [
    "\n",
    "\n",
    "#d)\n",
    "heights.fm <- \n",
    "  galtonfamilies %>% \n",
    "  gather(key = 'type', value = 'height', father,mother) %>% \n",
    "  select(type,height)\n",
    "heights.fm\n",
    "#e)\n",
    "measures <- heights.fm %>% \n",
    "  group_by(type) %>% \n",
    "  summarise(\n",
    "    n = n(),\n",
    "    min = min(height),\n",
    "    max = max(height),\n",
    "    mean = mean(height),\n",
    "    median = median(height),\n",
    "    q1 = quantile(height, 0.25, type=1),\n",
    "    q2 = quantile(height, 0.5, type=1),\n",
    "    q3 = quantile(height, 0.75, type=1)\n",
    "  )\n",
    "measures\n",
    "#f)\n",
    "boxplot(heights.fm$height~heights.fm$type)\n",
    "#g)\n",
    "plot(galtonfamilies$midparentHeight,galtonfamilies$childHeight)\n",
    "reg <- lm(galtonfamilies$childHeight~galtonfamilies$midparentHeight)\n",
    "reg\n",
    "abline(reg,col='red')\n",
    "# alpha\n",
    "\n",
    "#i)\n",
    "children <- read_csv(\"D:/Datentransfer/Studium/3.Semester/Statistics/SS_22/children.csv\")\n",
    "parents <- read_csv(\"D:/Datentransfer/Studium/3.Semester/Statistics/SS_22/parent.csv\")\n",
    "children\n",
    "parents\n",
    "#j)\n",
    "children <- children %>% full_join(parents, by=\"...1\") %>%  select(child, parent)\n",
    "children %>% left_join(parents, by =\"...1\")\n",
    "\n",
    "galtonfamilies %>% full_join(children, by=\"...1\")\n",
    "\n",
    "\n",
    "###########"
   ]
  }
 ],
 "metadata": {
  "kernelspec": {
   "display_name": "R",
   "language": "R",
   "name": "ir"
  },
  "language_info": {
   "codemirror_mode": "r",
   "file_extension": ".r",
   "mimetype": "text/x-r-source",
   "name": "R",
   "pygments_lexer": "r",
   "version": "4.3.3"
  }
 },
 "nbformat": 4,
 "nbformat_minor": 2
}
