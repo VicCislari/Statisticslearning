{
 "cells": [
  {
   "cell_type": "code",
   "execution_count": 5,
   "metadata": {
    "vscode": {
     "languageId": "r"
    }
   },
   "outputs": [
    {
     "data": {
      "text/html": [
       "0.06"
      ],
      "text/latex": [
       "0.06"
      ],
      "text/markdown": [
       "0.06"
      ],
      "text/plain": [
       "[1] 0.06"
      ]
     },
     "metadata": {},
     "output_type": "display_data"
    },
    {
     "data": {
      "text/html": [
       "0.0876217894795921"
      ],
      "text/latex": [
       "0.0876217894795921"
      ],
      "text/markdown": [
       "0.0876217894795921"
      ],
      "text/plain": [
       "[1] 0.08762179"
      ]
     },
     "metadata": {},
     "output_type": "display_data"
    },
    {
     "data": {
      "text/html": [
       "<style>\n",
       ".list-inline {list-style: none; margin:0; padding: 0}\n",
       ".list-inline>li {display: inline-block}\n",
       ".list-inline>li:not(:last-child)::after {content: \"\\00b7\"; padding: 0 .5ex}\n",
       "</style>\n",
       "<ol class=list-inline><li>0</li><li>0.0954014177298773</li></ol>\n"
      ],
      "text/latex": [
       "\\begin{enumerate*}\n",
       "\\item 0\n",
       "\\item 0.0954014177298773\n",
       "\\end{enumerate*}\n"
      ],
      "text/markdown": [
       "1. 0\n",
       "2. 0.0954014177298773\n",
       "\n",
       "\n"
      ],
      "text/plain": [
       "[1] 0.00000000 0.09540142\n",
       "attr(,\"conf.level\")\n",
       "[1] 0.95"
      ]
     },
     "metadata": {},
     "output_type": "display_data"
    },
    {
     "data": {
      "text/html": [
       "2435"
      ],
      "text/latex": [
       "2435"
      ],
      "text/markdown": [
       "2435"
      ],
      "text/plain": [
       "[1] 2435"
      ]
     },
     "metadata": {},
     "output_type": "display_data"
    }
   ],
   "source": [
    "\n",
    "#########\n",
    "# INFERENTIAL STATISTIK\n",
    "#\n",
    "n <- 200;m <- 12\n",
    "# a) show that x= m/n is an unbiased estimator of prevalence\n",
    "x <- m/n\n",
    "x\n",
    "#(c) Determine an upper 95% confidence bound for prevalence from\n",
    "#    the sample data.\n",
    "phat <-  m/n\n",
    "alpha <- 0.05\n",
    "u <- phat+qnorm(1-alpha)*sqrt((phat*(1-phat)/n))\n",
    "u\n",
    "# exact\n",
    "binom.test(x = 12, n = 200, p = phat, \n",
    "           alternative = \"less\", conf.level = 1-0.05)$conf.int\n",
    "\n",
    "#(d) What is the minimum sample size needed for the upper 95% con-\n",
    "#dence bound is 0.01 greater than the estimate. Assume that the\n",
    "#prevalence is <= 0.1 and use a normal approximation of the confi-\n",
    "#  dence bound.\n",
    "m <- 12  # Number of individuals found to have the disease\n",
    "n <- 200  # Sample size\n",
    "alpha <- 0.05  # Significance level for 95% confidence interval\n",
    "z_alpha <- qnorm(1 - alpha)  # Z-value for the given significance level\n",
    "desired_margin <- 0.01  # Desired margin for the confidence bound\n",
    "prevalence <- 0.1 #falls das nicht gegegebn, dann machen m/n, frequency\n",
    "\n",
    "ceiling((z_alpha/desired_margin)**2*prevalence*(1-prevalence))\n",
    "#minimum sample size = 2435"
   ]
  },
  {
   "cell_type": "code",
   "execution_count": 3,
   "metadata": {
    "vscode": {
     "languageId": "r"
    }
   },
   "outputs": [
    {
     "name": "stdout",
     "output_type": "stream",
     "text": [
      "[1] \"Minimum sample size needed: 1526\"\n"
     ]
    }
   ],
   "source": [
    "# Given values\n",
    "m <- 12  # Number of individuals found to have the disease\n",
    "n <- 200  # Sample size\n",
    "alpha <- 0.05  # Significance level for 95% confidence interval\n",
    "z_alpha <- qnorm(1 - alpha)  # Z-value for the given significance level\n",
    "desired_margin <- 0.01  # Desired margin for the confidence bound\n",
    "prevalence <- m / n  # Estimated prevalence\n",
    "\n",
    "# Minimum sample size calculation\n",
    "min_sample_size <- ceiling((prevalence * (1 - prevalence)) / ((desired_margin / z_alpha) ^ 2))\n",
    "\n",
    "print(paste(\"Minimum sample size needed:\", min_sample_size))\n"
   ]
  },
  {
   "cell_type": "code",
   "execution_count": 6,
   "metadata": {
    "vscode": {
     "languageId": "r"
    }
   },
   "outputs": [
    {
     "data": {
      "text/html": [
       "2435"
      ],
      "text/latex": [
       "2435"
      ],
      "text/markdown": [
       "2435"
      ],
      "text/plain": [
       "[1] 2435"
      ]
     },
     "metadata": {},
     "output_type": "display_data"
    }
   ],
   "source": [
    "# Given values\n",
    "m <- 12  # Number of individuals found to have the disease\n",
    "n <- 200  # Sample size\n",
    "alpha <- 0.05  # Significance level for 95% confidence interval\n",
    "z_alpha <- qnorm(1 - alpha)  # Z-value for the given significance level\n",
    "desired_margin <- 0.01  # Desired margin for the confidence bound\n",
    "prevalence <- 0.1  # Assuming the prevalence is ≤ 0.1\n",
    "\n",
    "# Minimum sample size calculation\n",
    "ceiling((z_alpha/desired_margin)^2*prevalence*(1-prevalence))\n"
   ]
  },
  {
   "cell_type": "code",
   "execution_count": 3,
   "metadata": {
    "vscode": {
     "languageId": "r"
    }
   },
   "outputs": [
    {
     "name": "stdout",
     "output_type": "stream",
     "text": [
      "[1] \"Original data:\"\n"
     ]
    },
    {
     "name": "stdout",
     "output_type": "stream",
     "text": [
      "      years population\n",
      "1 year_2020      10000\n",
      "2 year_2021      15000\n",
      "3 year_2022      20000\n",
      "[1] \"Modified data:\"\n",
      "  years population\n",
      "1  2020      10000\n",
      "2  2021      15000\n",
      "3  2022      20000\n"
     ]
    }
   ],
   "source": [
    "library(dplyr)\n",
    "library(stringr)\n",
    "\n",
    "# Example data frame\n",
    "data <- data.frame(\n",
    "  years = c(\"year_2020\", \"year_2021\", \"year_2022\"),\n",
    "  population = c(\"10000\", \"15000\", \"20000\")\n",
    ")\n",
    "\n",
    "# View the original data\n",
    "print(\"Original data:\")\n",
    "print(data)\n",
    "\n",
    "# Mutate to modify columns\n",
    "data <- data %>%\n",
    "  mutate(\n",
    "    years = as.integer(str_remove(years, \"year_\")),\n",
    "    population = as.integer(population)\n",
    "  )\n",
    "\n",
    "# View the modified data\n",
    "print(\"Modified data:\")\n",
    "print(data)\n"
   ]
  },
  {
   "cell_type": "code",
   "execution_count": null,
   "metadata": {
    "vscode": {
     "languageId": "r"
    }
   },
   "outputs": [],
   "source": []
  }
 ],
 "metadata": {
  "kernelspec": {
   "display_name": "R",
   "language": "R",
   "name": "ir"
  },
  "language_info": {
   "codemirror_mode": "r",
   "file_extension": ".r",
   "mimetype": "text/x-r-source",
   "name": "R",
   "pygments_lexer": "r",
   "version": "4.3.3"
  },
  "orig_nbformat": 4
 },
 "nbformat": 4,
 "nbformat_minor": 2
}
