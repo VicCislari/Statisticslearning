{
 "cells": [
  {
   "cell_type": "code",
   "execution_count": 12,
   "metadata": {
    "vscode": {
     "languageId": "r"
    }
   },
   "outputs": [
    {
     "name": "stderr",
     "output_type": "stream",
     "text": [
      "\n",
      "Attache Paket: 'dplyr'\n",
      "\n",
      "\n",
      "Die folgenden Objekte sind maskiert von 'package:stats':\n",
      "\n",
      "    filter, lag\n",
      "\n",
      "\n",
      "Die folgenden Objekte sind maskiert von 'package:base':\n",
      "\n",
      "    intersect, setdiff, setequal, union\n",
      "\n",
      "\n"
     ]
    }
   ],
   "source": [
    "# a) import\n",
    "library(readr)\n",
    "library(dplyr)\n",
    "raw_data <- read.csv(\"testing_covid.csv\")"
   ]
  },
  {
   "cell_type": "code",
   "execution_count": null,
   "metadata": {
    "vscode": {
     "languageId": "r"
    }
   },
   "outputs": [],
   "source": [
    "head(raw_data)\n",
    "\n",
    "# (b)\n",
    "# scales and types\n",
    "# country: qualitative, discrete, nominal\n",
    "# country_code: qualitative, discrete, nominal\n",
    "# year_week: quantiative, discrete, intervall\n",
    "# level: qualitative, discrete, nominal\n",
    "# region: qualitative, discrete nominal\n",
    "# region_name: qualitative, discrete nominal\n",
    "# new_cases: quantitative, discrete, absolute\n",
    "# tests_done: quantitative, discrete, abosolute\n",
    "# population: quantitative, discrete, absolute\n",
    "# testing_rate: quantitative, continious, absolute\n",
    "# positivity_rate: quantitative, continious, absolute\n",
    "# testint_data_soiruce: qualitative, discrete, nominal"
   ]
  },
  {
   "cell_type": "code",
   "execution_count": 1,
   "metadata": {
    "vscode": {
     "languageId": "r"
    }
   },
   "outputs": [
    {
     "ename": "ERROR",
     "evalue": "Error in raw_data %>% filter(country_code == \"DE\") %>% select(year_week, : konnte Funktion \"%>%\" nicht finden\n",
     "output_type": "error",
     "traceback": [
      "Error in raw_data %>% filter(country_code == \"DE\") %>% select(year_week, : konnte Funktion \"%>%\" nicht finden\nTraceback:\n"
     ]
    }
   ],
   "source": [
    "# c)\n",
    "test_germany <- raw_data %>% filter(country_code == 'DE') %>% select(year_week,tests_done)\n",
    "plot(test_germany$tests_done, type='l')"
   ]
  },
  {
   "cell_type": "code",
   "execution_count": null,
   "metadata": {
    "vscode": {
     "languageId": "r"
    }
   },
   "outputs": [],
   "source": [
    "raw_data %>% filter(country_code == 'IT') %>%  group_by(level)"
   ]
  },
  {
   "cell_type": "code",
   "execution_count": null,
   "metadata": {
    "vscode": {
     "languageId": "r"
    }
   },
   "outputs": [],
   "source": []
  },
  {
   "cell_type": "code",
   "execution_count": null,
   "metadata": {
    "vscode": {
     "languageId": "r"
    }
   },
   "outputs": [],
   "source": []
  },
  {
   "cell_type": "code",
   "execution_count": null,
   "metadata": {
    "vscode": {
     "languageId": "r"
    }
   },
   "outputs": [],
   "source": []
  },
  {
   "cell_type": "code",
   "execution_count": null,
   "metadata": {
    "vscode": {
     "languageId": "r"
    }
   },
   "outputs": [],
   "source": []
  },
  {
   "cell_type": "code",
   "execution_count": null,
   "metadata": {
    "vscode": {
     "languageId": "r"
    }
   },
   "outputs": [],
   "source": []
  },
  {
   "cell_type": "code",
   "execution_count": null,
   "metadata": {
    "vscode": {
     "languageId": "r"
    }
   },
   "outputs": [],
   "source": []
  },
  {
   "cell_type": "code",
   "execution_count": null,
   "metadata": {
    "vscode": {
     "languageId": "r"
    }
   },
   "outputs": [],
   "source": []
  },
  {
   "cell_type": "code",
   "execution_count": null,
   "metadata": {
    "vscode": {
     "languageId": "r"
    }
   },
   "outputs": [],
   "source": []
  },
  {
   "cell_type": "code",
   "execution_count": null,
   "metadata": {
    "vscode": {
     "languageId": "r"
    }
   },
   "outputs": [],
   "source": []
  },
  {
   "cell_type": "code",
   "execution_count": null,
   "metadata": {
    "vscode": {
     "languageId": "r"
    }
   },
   "outputs": [],
   "source": []
  },
  {
   "cell_type": "code",
   "execution_count": null,
   "metadata": {
    "vscode": {
     "languageId": "r"
    }
   },
   "outputs": [],
   "source": []
  },
  {
   "cell_type": "code",
   "execution_count": null,
   "metadata": {
    "vscode": {
     "languageId": "r"
    }
   },
   "outputs": [],
   "source": []
  },
  {
   "cell_type": "code",
   "execution_count": null,
   "metadata": {
    "vscode": {
     "languageId": "r"
    }
   },
   "outputs": [],
   "source": []
  },
  {
   "cell_type": "code",
   "execution_count": null,
   "metadata": {
    "vscode": {
     "languageId": "r"
    }
   },
   "outputs": [],
   "source": [
    "\n",
    "# d)\n",
    "raw_data %>% filter(year_week >= '2020-W50')\n",
    "sum_of_tests <- raw_data %>% filter(country_code %in% c('DE','AT','FR','IT')) %>% \n",
    "  filter(year_week >='2020-W49' & year_week <= '2020-W53') %>% filter(level == 'national') %>%\n",
    "  group_by(level) %>% \n",
    "  sum(tests_done)\n",
    "\n",
    "sum_of_tests\n",
    "\n",
    "sum_of_tests <- sum_of_tests %>% group_by(country_code) %>% summarise(sum_new_cases = sum(new_cases),\n",
    "                                                                      sum_tests_done = sum(tests_done))\n",
    "\n",
    "sum_of_tests\n",
    "\n",
    "# pie plot\n",
    "pie(sum_of_tests$sum_new_cases/sum_of_tests$sum_tests_done, labels=sum_of_tests$country_code)\n",
    "\n",
    "# e)\n",
    "measures_testingrate <- raw_data %>% filter(country_code %in% c('DE', 'FR'), level =='national') %>% \n",
    "  group_by(country_code) %>% summarise(\n",
    "    min= min(testing_rate),\n",
    "    max= max(testing_rate),\n",
    "    q1 = quantile(testing_rate, 0.25, type = 1),\n",
    "    q2 = quantile(testing_rate, 0.5, type = 1),\n",
    "    q3 = quantile(testing_rate, 0.75, type = 1)\n",
    "  )\n",
    "measures_testingrate\n",
    "# side by side boxplot\n",
    "data <- raw_data %>% filter(country_code %in% c('DE', 'FR'), level =='national')\n",
    "data\n",
    "boxplot(data$testing_rate~data$country_code)\n"
   ]
  }
 ],
 "metadata": {
  "kernelspec": {
   "display_name": "R",
   "language": "R",
   "name": "ir"
  },
  "language_info": {
   "codemirror_mode": "r",
   "file_extension": ".r",
   "mimetype": "text/x-r-source",
   "name": "R",
   "pygments_lexer": "r",
   "version": "4.3.3"
  }
 },
 "nbformat": 4,
 "nbformat_minor": 4
}
