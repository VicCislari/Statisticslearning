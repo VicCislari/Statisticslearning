{
 "cells": [
  {
   "cell_type": "code",
   "execution_count": 1,
   "metadata": {
    "vscode": {
     "languageId": "r"
    }
   },
   "outputs": [],
   "source": [
    "# AUFGABE 4"
   ]
  },
  {
   "cell_type": "code",
   "execution_count": 2,
   "metadata": {
    "vscode": {
     "languageId": "r"
    }
   },
   "outputs": [],
   "source": [
    "# (a)\n",
    "data <- read.csv(\"runs.csv\")\n",
    "n <- 186 #participants"
   ]
  },
  {
   "cell_type": "code",
   "execution_count": 3,
   "metadata": {
    "vscode": {
     "languageId": "r"
    }
   },
   "outputs": [
    {
     "data": {
      "text/html": [
       "<style>\n",
       ".list-inline {list-style: none; margin:0; padding: 0}\n",
       ".list-inline>li {display: inline-block}\n",
       ".list-inline>li:not(:last-child)::after {content: \"\\00b7\"; padding: 0 .5ex}\n",
       "</style>\n",
       "<ol class=list-inline><li>97.6049542447475</li><li>101.69910962506</li></ol>\n"
      ],
      "text/latex": [
       "\\begin{enumerate*}\n",
       "\\item 97.6049542447475\n",
       "\\item 101.69910962506\n",
       "\\end{enumerate*}\n"
      ],
      "text/markdown": [
       "1. 97.6049542447475\n",
       "2. 101.69910962506\n",
       "\n",
       "\n"
      ],
      "text/plain": [
       "[1]  97.60495 101.69911\n",
       "attr(,\"conf.level\")\n",
       "[1] 0.95"
      ]
     },
     "metadata": {},
     "output_type": "display_data"
    }
   ],
   "source": [
    "# (b)\n",
    "# Calculate the 95% confidence interval\n",
    "t.test(data$time, conf.int = 0.95)$conf.int"
   ]
  },
  {
   "cell_type": "code",
   "execution_count": 4,
   "metadata": {
    "vscode": {
     "languageId": "r"
    }
   },
   "outputs": [],
   "source": [
    "# (c)\n",
    "# 95% of the data (centered at the median)\n",
    "# is within the values of 97.6 and 101.6"
   ]
  },
  {
   "cell_type": "code",
   "execution_count": 5,
   "metadata": {
    "vscode": {
     "languageId": "r"
    }
   },
   "outputs": [
    {
     "data": {
      "text/html": [
       "1.92749884940651"
      ],
      "text/latex": [
       "1.92749884940651"
      ],
      "text/markdown": [
       "1.92749884940651"
      ],
      "text/plain": [
       "[1] 1.927499"
      ]
     },
     "metadata": {},
     "output_type": "display_data"
    },
    {
     "data": {
      "text/html": [
       "0.94455081278673"
      ],
      "text/latex": [
       "0.94455081278673"
      ],
      "text/markdown": [
       "0.94455081278673"
      ],
      "text/plain": [
       "[1] 0.9445508"
      ]
     },
     "metadata": {},
     "output_type": "display_data"
    }
   ],
   "source": [
    "# (d)\n",
    "# No idea what he means by that 4....\n",
    "\n",
    "len=4\n",
    "sd <- sd(data$time)\n",
    "u <- (len*sqrt(n))/(2*sd)\n",
    "u\n",
    "conf_leve <- (1-(2*(1-pt (u,df=n-1))))\n",
    "conf_leve"
   ]
  },
  {
   "cell_type": "code",
   "execution_count": 6,
   "metadata": {
    "vscode": {
     "languageId": "r"
    }
   },
   "outputs": [
    {
     "name": "stdout",
     "output_type": "stream",
     "text": [
      "Null hypothesis (H0): mean_now <= 98.54\n",
      "Alternative hypothesis (H1): mean_now > 98.54\n",
      "\n",
      "Null hypothesis (H0): 98.54 => mean_now \n",
      "Alternative hypothesis (H1): 98.54 < mean_now \n",
      "\n",
      "--- Approximation Method ---\n",
      "Test Statistic (Approximation Method): 1.07172 \n",
      "Critical Value (t) for Approximation Method: 1.653132 \n",
      "Reject H0 based on Approximation Method: FALSE \n",
      "P-value based on Approximation Method: 0.1426209 \n",
      "\n",
      "--- Exact Method ---\n",
      "Test Statistic (Exact Method): 1.07172 \n",
      "Reject H0 based on Exact Method: FALSE \n"
     ]
    },
    {
     "name": "stdout",
     "output_type": "stream",
     "text": [
      "P-value based on Exact Method: 0.8573791 \n"
     ]
    }
   ],
   "source": [
    "# (e)\n",
    "# One year ago the mean of the time was 98.54.\n",
    "# Conduct an appropriate statistical test on\n",
    "# a 5 percent level to check whether the expected\n",
    "# value is larger than last year.\n",
    "# Specify the null hypthesis.\n",
    "# What is the p-value?\n",
    "# What is your decision?\n",
    "\n",
    "# Load the data (assuming 'time_now' contains the current time data)\n",
    "time_now <- data$time\n",
    "\n",
    "# Set significance level (alpha)\n",
    "alpha <- 0.05 # default, because no specific instruction in exercise\n",
    "\n",
    "# Define the mean time from one year ago\n",
    "mean_last_year <- 98.54\n",
    "\n",
    "# Null hypothesis (H0): mean_now <= 98.54 (no significant change or decrease)\n",
    "# Alternative hypothesis (H1): mean_now > 98.54 (increase)\n",
    "\n",
    "# Print the null and alternative hypotheses\n",
    "cat(\"Null hypothesis (H0): mean_now <= 98.54\\n\")\n",
    "cat(\"Alternative hypothesis (H1): mean_now > 98.54\\n\\n\")\n",
    "\n",
    "cat(\"Null hypothesis (H0): 98.54 => mean_now \\n\")\n",
    "cat(\"Alternative hypothesis (H1): 98.54 < mean_now \\n\\n\")\n",
    "\n",
    "# APPROXIMATION\n",
    "cat(\"--- Approximation Method ---\\n\")\n",
    "\n",
    "# Calculate the test statistic for the approximation method\n",
    "test_stat_approx <- (mean(time_now) - mean_last_year) / (sd(time_now) / sqrt(length(time_now)))\n",
    "cat(\"Test Statistic (Approximation Method):\", test_stat_approx, \"\\n\")\n",
    "\n",
    "# Calculate the critical value\n",
    "t_approx <- qt(1 - alpha, df = length(time_now) - 1)\n",
    "cat(\"Critical Value (t) for Approximation Method:\", t_approx, \"\\n\")\n",
    "\n",
    "# Determine whether to reject H0 based on approximation\n",
    "reject_H0_approx <- test_stat_approx > t_approx\n",
    "cat(\"Reject H0 based on Approximation Method:\", reject_H0_approx, \"\\n\")\n",
    "\n",
    "# Calculate the p-value based on approximation\n",
    "p_value_approx <- 1 - pt(test_stat_approx, df = length(time_now) - 1)\n",
    "cat(\"P-value based on Approximation Method:\", p_value_approx, \"\\n\\n\")\n",
    "\n",
    "# EXACT\n",
    "cat(\"--- Exact Method ---\\n\")\n",
    "\n",
    "# Perform one-sample t-test for the exact method\n",
    "# x ist my sample\n",
    "# mu ist 98.54\n",
    "t_test_result_exact <- t.test(x = time_now, mu = mean_last_year, alternative = \"less\", conf.level = 1 - alpha)\n",
    "\n",
    "# Extract test statistic, p-value, and other relevant information\n",
    "test_stat_exact <- t_test_result_exact$statistic\n",
    "p_value_exact <- t_test_result_exact$p.value\n",
    "reject_H0_exact <- p_value_exact < alpha\n",
    "\n",
    "# Print the test statistic and p-value for the exact method\n",
    "cat(\"Test Statistic (Exact Method):\", test_stat_exact, \"\\n\")\n",
    "cat(\"Reject H0 based on Exact Method:\", reject_H0_exact, \"\\n\")\n",
    "cat(\"P-value based on Exact Method:\", p_value_exact, \"\\n\")"
   ]
  },
  {
   "cell_type": "code",
   "execution_count": 7,
   "metadata": {
    "vscode": {
     "languageId": "r"
    }
   },
   "outputs": [
    {
     "data": {
      "text/html": [
       "186"
      ],
      "text/latex": [
       "186"
      ],
      "text/markdown": [
       "186"
      ],
      "text/plain": [
       "[1] 186"
      ]
     },
     "metadata": {},
     "output_type": "display_data"
    },
    {
     "data": {
      "text/html": [
       "99.6520319349037"
      ],
      "text/latex": [
       "99.6520319349037"
      ],
      "text/markdown": [
       "99.6520319349037"
      ],
      "text/plain": [
       "[1] 99.65203"
      ]
     },
     "metadata": {},
     "output_type": "display_data"
    },
    {
     "data": {
      "text/html": [
       "14.1511697412272"
      ],
      "text/latex": [
       "14.1511697412272"
      ],
      "text/markdown": [
       "14.1511697412272"
      ],
      "text/plain": [
       "[1] 14.15117"
      ]
     },
     "metadata": {},
     "output_type": "display_data"
    },
    {
     "data": {
      "text/html": [
       "1.0717201375151"
      ],
      "text/latex": [
       "1.0717201375151"
      ],
      "text/markdown": [
       "1.0717201375151"
      ],
      "text/plain": [
       "[1] 1.07172"
      ]
     },
     "metadata": {},
     "output_type": "display_data"
    },
    {
     "data": {
      "text/html": [
       "FALSE"
      ],
      "text/latex": [
       "FALSE"
      ],
      "text/markdown": [
       "FALSE"
      ],
      "text/plain": [
       "[1] FALSE"
      ]
     },
     "metadata": {},
     "output_type": "display_data"
    },
    {
     "data": {
      "text/html": [
       "0.141922876559506"
      ],
      "text/latex": [
       "0.141922876559506"
      ],
      "text/markdown": [
       "0.141922876559506"
      ],
      "text/plain": [
       "[1] 0.1419229"
      ]
     },
     "metadata": {},
     "output_type": "display_data"
    }
   ],
   "source": [
    "#e\n",
    "#h0: 98.54>=mu, h1: 98.54<mu\n",
    "n\n",
    "mean=98.54\n",
    "alpha=0.05\n",
    "mu <- mean(data$time)\n",
    "mu\n",
    "s <- sd(data$time)\n",
    "s\n",
    "# pvalu=0.14 which means that\n",
    "# the h0 is  rejected and\n",
    "# the value is larger than last year\n",
    "t=(mu-mean)/(s/sqrt(n))\n",
    "t\n",
    "t>qnorm(1-alpha)\n",
    "pval<-1-pnorm(t)\n",
    "pval"
   ]
  },
  {
   "cell_type": "code",
   "execution_count": null,
   "metadata": {
    "vscode": {
     "languageId": "r"
    }
   },
   "outputs": [],
   "source": []
  },
  {
   "cell_type": "code",
   "execution_count": null,
   "metadata": {
    "vscode": {
     "languageId": "r"
    }
   },
   "outputs": [],
   "source": []
  },
  {
   "cell_type": "code",
   "execution_count": 8,
   "metadata": {
    "vscode": {
     "languageId": "r"
    }
   },
   "outputs": [
    {
     "data": {
      "text/html": [
       "-0.790569415042095"
      ],
      "text/latex": [
       "-0.790569415042095"
      ],
      "text/markdown": [
       "-0.790569415042095"
      ],
      "text/plain": [
       "[1] -0.7905694"
      ]
     },
     "metadata": {},
     "output_type": "display_data"
    },
    {
     "data": {
      "text/html": [
       "FALSE"
      ],
      "text/latex": [
       "FALSE"
      ],
      "text/markdown": [
       "FALSE"
      ],
      "text/plain": [
       "[1] FALSE"
      ]
     },
     "metadata": {},
     "output_type": "display_data"
    },
    {
     "ename": "ERROR",
     "evalue": "Error in eval(expr, envir, enclos): Objekt 'pva' nicht gefunden\n",
     "output_type": "error",
     "traceback": [
      "Error in eval(expr, envir, enclos): Objekt 'pva' nicht gefunden\nTraceback:\n"
     ]
    }
   ],
   "source": [
    "# Given values\n",
    "mu <- 0  # Population mean\n",
    "mean <- 0.25  # Sample mean\n",
    "s <- 1  # Sample standard deviation\n",
    "n <- 10  # Sample size\n",
    "alpha <- 0.05  # Significance level\n",
    "\n",
    "# Calculate t-value\n",
    "t <- (mu - mean) / (s / sqrt(n))\n",
    "t\n",
    "\n",
    "# Check if t > critical value\n",
    "t_greater_than_critical <- t > qnorm(1 - alpha)\n",
    "t_greater_than_critical\n",
    "\n",
    "# Calculate p-value\n",
    "pval <- 1 - pnorm(t)\n",
    "pva"
   ]
  },
  {
   "cell_type": "code",
   "execution_count": null,
   "metadata": {
    "vscode": {
     "languageId": "r"
    }
   },
   "outputs": [
    {
     "ename": "",
     "evalue": "",
     "output_type": "error",
     "traceback": [
      "\u001b[1;31mFailed to start the Kernel. \n",
      "\u001b[1;31mDuring startup - Warning messages:\n",
      "\u001b[1;31m1: Setting LC_CTYPE failed, using \"C\" \n",
      "\u001b[1;31m2: Setting LC_COLLATE failed, using \"C\" \n",
      "\u001b[1;31m3: Setting LC_TIME failed, using \"C\" \n",
      "\u001b[1;31m4: Setting LC_MESSAGES failed, using \"C\" \n",
      "\u001b[1;31m5: Setting LC_MONETARY failed, using \"C\" \n",
      "\u001b[1;31mError in loadNamespace(x) : there is no package called 'IRkernel'\n",
      "\u001b[1;31mCalls: loadNamespace -> withRestarts -> withOneRestart -> doWithOneRestart\n",
      "\u001b[1;31mExecution halted. \n",
      "\u001b[1;31mView Jupyter <a href='command:jupyter.viewOutput'>log</a> for further details."
     ]
    }
   ],
   "source": []
  }
 ],
 "metadata": {
  "kernelspec": {
   "display_name": "R",
   "language": "R",
   "name": "ir"
  },
  "language_info": {
   "codemirror_mode": "r",
   "file_extension": ".r",
   "mimetype": "text/x-r-source",
   "name": "R",
   "pygments_lexer": "r",
   "version": "4.3.3"
  },
  "orig_nbformat": 4
 },
 "nbformat": 4,
 "nbformat_minor": 2
}
