{
 "cells": [
  {
   "cell_type": "code",
   "execution_count": 1,
   "metadata": {
    "vscode": {
     "languageId": "r"
    }
   },
   "outputs": [],
   "source": [
    "# Inferential\n",
    "# Task 5\n",
    "# A company produces chocolade bars with a standard weight of 100 gr.\n",
    "#As a measure of quality controls he weighs 15 bars and obtains the\n",
    "#following results:\n",
    "# 98.32,97.26,99.85,99.52,95.73,95.56,100.49,98.19,95.16,\n",
    "# 98.26,96.46,100.23,99.76,98.58,97.43\n",
    "# sample <- c(98.32,97.26,99.85,99.52,95.73,95.56,100.49,98.19,95.16,\n",
    "# 98.26,96.46,100.23,99.76,98.58,97.43)\n",
    "# mu0 <- 100\n",
    "#(a) What is an appropriate hypothesis regarding the expected weight\n",
    "# µ for a two-sided-test?\n",
    "# H0: m0 == 100, H1: m0 != 100\n",
    "# (b) If weights can be assumed to be nomally distributed, which test\n",
    "#should used to test these hypothesis?\n",
    "# an appropriate test would be t -test because the sd is unknown\n",
    "# and we are testing mu\n",
    "# (normal model)\n",
    "# (c) Conduct the test that was suggested to be used in b) at a 5%\n",
    "# level. What is your test decision. Specify the p-value.\n",
    "# alpha <- 0.05;\n",
    "# t.test(x = sample, mu = mu0, alternative=\"two.sided\",\n",
    "# conf.level = 1 -alpha)\n",
    "# pvalue is = 0.0007251 which is much lower than alpha,\n",
    "# so we are rejecting the null hypothesis\n",
    "# (d) Based on the sample, the producer changes the settings in produc-\n",
    "# tion. To check whether the correction has led to an improvement,\n",
    "# he again takes 15 chocolate bars and weighs them.\n",
    "# 100.14,100.05,96.51,98.70,98.22,101.06,103.55,100.16,\n",
    "# 100.60,102.85,103.15,100.66,102.52,102.09,100.84\n",
    "# What is an appropriate hypothesis for comparing the expected\n",
    "# weights of the two samples?\n",
    "# sample2 <- c(100.14,100.05,96.51,98.70,98.22,101.06,103.55,100.16,\n",
    "# 100.60,102.85,103.15,100.66,102.52,102.09,100.84)\n",
    "# (e) Provide an appropriate statistical test to test the hypothesis and\n",
    "#perform at the 5% level. Assume that the variances of the popu-\n",
    "# lations of the two samples are equal. What is your test decision?\n",
    "# Specify the p-value.\n",
    "# H0: mu1 >= mu2 , H1: mu1 < mu 2\n",
    "# t.test(sample, sample2, alternative=\"less\", paired = F, var.equal =T,\n",
    "# conf.level = 1-alpha)\n",
    "# pvalue = 0.0002228 much lesser than alpha -> reject H0\n",
    "#(f) In question e) the population variances of the two samples are\n",
    "#assumed to be equal. Verify that the variances are equal using an\n",
    "#appropriate test at the 10% level.\n",
    "# var.test(sample, sample2, alternative = \"two.sided\",\n",
    "# conf.level = 1 -0.1)"
   ]
  },
  {
   "cell_type": "markdown",
   "metadata": {},
   "source": [
    "(a) **Unbiased Estimator of Prevalence:**  \n",
    "   - To demonstrate that \\( X = \\frac{m}{n} \\) is an unbiased estimator of prevalence, we need to show that the expected value of \\( X \\) equals the true prevalence \\( p \\).\n",
    "   - The true prevalence \\( p \\) is the proportion of individuals in the population who have the disease.\n",
    "   - Since the sample is drawn randomly, each individual has the same probability of being selected, which is \\( p \\).\n",
    "   - Therefore, the expected value of \\( X \\) is equal to \\( p \\), making \\( X \\) an unbiased estimator of prevalence.\n",
    "\n",
    "(b) **Variance of the Estimator \\( X \\):**  \n",
    "   - The variance of \\( X \\), denoted by \\( \\text{Var}(X) \\), is calculated using the variance formula for the binomial distribution.\n",
    "   - The variance \\( \\text{Var}(X) = \\frac{p(1-p)}{n} \\), where \\( p \\) is the true prevalence and \\( n \\) is the sample size.\n",
    "\n",
    "(c) **Upper 95% Confidence Bound for Prevalence:**  \n",
    "   - For a large enough sample size \\( n \\), a normal approximation can be used to calculate the upper 95% confidence bound for prevalence.\n",
    "   - The standard error of \\( X \\) is \\( \\sqrt{\\frac{p(1-p)}{n}} \\), and the margin of error for a 95% confidence interval is \\( 1.96 \\times \\sqrt{\\frac{p(1-p)}{n}} \\).\n",
    "   - Adding the margin of error to \\( X \\) gives the upper bound: \\( X + \\text{ME} \\).\n",
    "\n",
    "(d) **Minimum Sample Size for Desired Confidence Bound:**  \n",
    "   - To find the minimum sample size needed for the upper 95% confidence bound to be 0.01 greater than the estimate, an inequality is set up and solved for \\( n \\).\n",
    "   - This involves iterating through possible values of \\( n \\) until the inequality holds, considering the constraint that prevalence is ≤0.1.\n",
    "   - The normal approximation for the confidence bound is used in this calculation.\n"
   ]
  },
  {
   "cell_type": "code",
   "execution_count": 3,
   "metadata": {
    "vscode": {
     "languageId": "r"
    }
   },
   "outputs": [],
   "source": [
    "# (a) (b)\n",
    "# this solution I have in onenote under WS22.4"
   ]
  },
  {
   "cell_type": "code",
   "execution_count": null,
   "metadata": {
    "vscode": {
     "languageId": "r"
    }
   },
   "outputs": [],
   "source": [
    "# (c)\n",
    "\n",
    "# what do we have:\n",
    "# 95%, upper confidence bound\n",
    "# sample n=200\n",
    "# m = 12, have the disease\n",
    "# we can also determine the frequency (p.hat):\n",
    "# p.hat <- m/n\n",
    "# "
   ]
  }
 ],
 "metadata": {
  "kernelspec": {
   "display_name": "R",
   "language": "R",
   "name": "ir"
  },
  "language_info": {
   "codemirror_mode": "r",
   "file_extension": ".r",
   "mimetype": "text/x-r-source",
   "name": "R",
   "pygments_lexer": "r",
   "version": "4.3.3"
  }
 },
 "nbformat": 4,
 "nbformat_minor": 2
}
