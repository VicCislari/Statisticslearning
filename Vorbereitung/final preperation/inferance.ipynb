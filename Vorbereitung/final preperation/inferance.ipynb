{
 "cells": [
  {
   "cell_type": "code",
   "execution_count": 1,
   "metadata": {
    "vscode": {
     "languageId": "r"
    }
   },
   "outputs": [
    {
     "name": "stdout",
     "output_type": "stream",
     "text": [
      "\n",
      "Die heruntergeladenen Bin\"arpakete sind in \n",
      "\t/var/folders/t0/f054bgvj7d514yq2qlg1czv80000gp/T//RtmpwyQ9yd/downloaded_packages\n",
      "\n",
      "Die heruntergeladenen Bin\"arpakete sind in \n",
      "\t/var/folders/t0/f054bgvj7d514yq2qlg1czv80000gp/T//RtmpwyQ9yd/downloaded_packages\n",
      "\n",
      "Die heruntergeladenen Bin\"arpakete sind in \n",
      "\t/var/folders/t0/f054bgvj7d514yq2qlg1czv80000gp/T//RtmpwyQ9yd/downloaded_packages\n"
     ]
    },
    {
     "name": "stderr",
     "output_type": "stream",
     "text": [
      "\n",
      "Attache Paket: 'dplyr'\n",
      "\n",
      "\n",
      "Die folgenden Objekte sind maskiert von 'package:stats':\n",
      "\n",
      "    filter, lag\n",
      "\n",
      "\n",
      "Die folgenden Objekte sind maskiert von 'package:base':\n",
      "\n",
      "    intersect, setdiff, setequal, union\n",
      "\n",
      "\n"
     ]
    }
   ],
   "source": [
    "install.packages(\"nycflights13\")\n",
    "install.packages(\"dplyr\")\n",
    "install.packages(\"nortest\")\n",
    "# install.packages(\"epiR\")\n",
    "# install.packages(\"sf\")\n",
    "# install.packages(\"sf\", repos = \"https://cloud.r-project.org/\")\n",
    "\n",
    "library(tidyr)\n",
    "library(dplyr)\n",
    "library(nycflights13)\n",
    "library(ggplot2)\n",
    "library(tibble)"
   ]
  },
  {
   "cell_type": "markdown",
   "metadata": {},
   "source": [
    "+ (a) Determine the distribution of X depending on N . Calculate the\n",
    "   expected value and variance of X."
   ]
  },
  {
   "cell_type": "code",
   "execution_count": null,
   "metadata": {
    "vscode": {
     "languageId": "r"
    }
   },
   "outputs": [],
   "source": [
    "#P(x=k) is uniformly distributed for k={1,.....,N}"
   ]
  },
  {
   "cell_type": "markdown",
   "metadata": {},
   "source": [
    "known: \n",
    " standard deviation (sigma)\n",
    " alpha (%) (besteht aus 1 - confidence interval)\n",
    " sample (population)\n",
    "\n",
    "search:\n",
    " computed confidence itnerval"
   ]
  },
  {
   "cell_type": "code",
   "execution_count": 2,
   "metadata": {
    "vscode": {
     "languageId": "r"
    }
   },
   "outputs": [
    {
     "data": {
      "text/html": [
       "<style>\n",
       ".list-inline {list-style: none; margin:0; padding: 0}\n",
       ".list-inline>li {display: inline-block}\n",
       ".list-inline>li:not(:last-child)::after {content: \"\\00b7\"; padding: 0 .5ex}\n",
       "</style>\n",
       "<ol class=list-inline><li>12.3929225033182</li><li>16.0515219411263</li></ol>\n"
      ],
      "text/latex": [
       "\\begin{enumerate*}\n",
       "\\item 12.3929225033182\n",
       "\\item 16.0515219411263\n",
       "\\end{enumerate*}\n"
      ],
      "text/markdown": [
       "1. 12.3929225033182\n",
       "2. 16.0515219411263\n",
       "\n",
       "\n"
      ],
      "text/plain": [
       "[1] 12.39292 16.05152"
      ]
     },
     "metadata": {},
     "output_type": "display_data"
    },
    {
     "data": {
      "text/html": [
       "<style>\n",
       ".list-inline {list-style: none; margin:0; padding: 0}\n",
       ".list-inline>li {display: inline-block}\n",
       ".list-inline>li:not(:last-child)::after {content: \"\\00b7\"; padding: 0 .5ex}\n",
       "</style>\n",
       "<ol class=list-inline><li>12.3929225033182</li><li>16.0515219411263</li></ol>\n"
      ],
      "text/latex": [
       "\\begin{enumerate*}\n",
       "\\item 12.3929225033182\n",
       "\\item 16.0515219411263\n",
       "\\end{enumerate*}\n"
      ],
      "text/markdown": [
       "1. 12.3929225033182\n",
       "2. 16.0515219411263\n",
       "\n",
       "\n"
      ],
      "text/plain": [
       "[1] 12.39292 16.05152\n",
       "attr(,\"conf.level\")\n",
       "[1] 0.95"
      ]
     },
     "metadata": {},
     "output_type": "display_data"
    }
   ],
   "source": [
    "# population known (normal distributed),\n",
    "# min is population\n",
    "X<-c(8, 9, 10, 13, 14, 16, 17, 20, 21)\n",
    "n<-length(X)\n",
    "mean_X<-mean(X) # X(n)\n",
    "sigma<-2.8 # standard deviation\n",
    "alpha<-1-0.95 # I think if the cinfidence interval is above 0.5 then you do 1-ci\n",
    "\n",
    "c(mean_X-qnorm(1-alpha/2)*( sigma/sqrt(n) ),\n",
    "       mean_X+qnorm(1-alpha/2)*( sigma/sqrt(n) ))\n",
    "\n",
    "# oder\n",
    "library(TeachingDemos)\n",
    "z.test(x = X,\n",
    "       alternative = 'two.sided',\n",
    "       sd = sigma,\n",
    "       conf.level = 0.95\n",
    "       )$conf.int"
   ]
  },
  {
   "cell_type": "markdown",
   "metadata": {},
   "source": [
    "known: \n",
    " mean of SAMPLE,\n",
    " standard deviation of POPULATION (sigma),\n",
    " (n) amount in SAMPLE from population.\n",
    "\n",
    "\n",
    "search:\n",
    " computed confidence interval"
   ]
  },
  {
   "cell_type": "code",
   "execution_count": 3,
   "metadata": {
    "vscode": {
     "languageId": "r"
    }
   },
   "outputs": [
    {
     "data": {
      "text/html": [
       "<style>\n",
       ".list-inline {list-style: none; margin:0; padding: 0}\n",
       ".list-inline>li {display: inline-block}\n",
       ".list-inline>li:not(:last-child)::after {content: \"\\00b7\"; padding: 0 .5ex}\n",
       "</style>\n",
       "<ol class=list-inline><li>54.508313472736</li><li>65.491686527264</li></ol>\n"
      ],
      "text/latex": [
       "\\begin{enumerate*}\n",
       "\\item 54.508313472736\n",
       "\\item 65.491686527264\n",
       "\\end{enumerate*}\n"
      ],
      "text/markdown": [
       "1. 54.508313472736\n",
       "2. 65.491686527264\n",
       "\n",
       "\n"
      ],
      "text/plain": [
       "[1] 54.50831 65.49169"
      ]
     },
     "metadata": {},
     "output_type": "display_data"
    }
   ],
   "source": [
    "# as sd of population is known\n",
    "n<-22\n",
    "sm_mean<-60\n",
    "alpha<-1-0.99\n",
    "sigma<-10 #standard deviation for SAMPLE\n",
    "\n",
    "c(sm_mean-qnorm(1-alpha/2)*( sigma/sqrt(n) ),\n",
    "       sm_mean+qnorm(1-alpha/2)*( sigma/sqrt(n) ))"
   ]
  },
  {
   "cell_type": "markdown",
   "metadata": {},
   "source": [
    "(b)\n",
    "known:\n",
    " SAMPLE standard deviation (sigma)\n",
    " SAMPLE mean\n",
    "\n",
    "not known:\n",
    " POPULATION standard deviation \n",
    "\n",
    "What is the 99% confidence interval on the mean now?"
   ]
  },
  {
   "cell_type": "code",
   "execution_count": null,
   "metadata": {
    "vscode": {
     "languageId": "r"
    }
   },
   "outputs": [],
   "source": [
    "# population sd - not known but\n",
    "# sample sd - known\n",
    "\n",
    "n<-22\n",
    "sm_mean<-60\n",
    "alpha<-1-0.99\n",
    "sm_sigma<-10\n",
    "\n",
    "c(sm_mean-qt(1-alpha/2,n-1)*( sm_sigma/sqrt(n) ), # lower bound\n",
    "       sm_mean+qt(1-alpha/2,n-1)*( sm_sigma/sqrt(n) )) # upper bound"
   ]
  },
  {
   "cell_type": "markdown",
   "metadata": {},
   "source": [
    "$$\\left[X(n) - \\overbrace{\\mu_{1-\\frac{\\alpha}{2}}\\cdot\\frac{\\sigma}{\\sqrt{n}}}^{\\text{margin of error}},X(n) + \\underbrace{\\mu_{1-\\frac{\\alpha}{2}}\\cdot\\frac{\\sigma}{\\sqrt{n}}}_{\\text{margin of error}}\\right]$$"
   ]
  },
  {
   "cell_type": "code",
   "execution_count": 3,
   "metadata": {
    "vscode": {
     "languageId": "r"
    }
   },
   "outputs": [
    {
     "data": {
      "text/html": [
       "25"
      ],
      "text/latex": [
       "25"
      ],
      "text/markdown": [
       "25"
      ],
      "text/plain": [
       "[1] 25"
      ]
     },
     "metadata": {},
     "output_type": "display_data"
    },
    {
     "data": {
      "text/html": [
       "24.0091176293383"
      ],
      "text/latex": [
       "24.0091176293383"
      ],
      "text/markdown": [
       "24.0091176293383"
      ],
      "text/plain": [
       "[1] 24.00912"
      ]
     },
     "metadata": {},
     "output_type": "display_data"
    }
   ],
   "source": [
    "# KNOWN:\n",
    "# normal distribution -> qnorm\n",
    "# sd 0.5 (smaple or population)\n",
    "# error margin = 0.2\n",
    "# confidence = 95%\n",
    "\n",
    "# SEARCH:\n",
    "# total number of SAMPLES n\n",
    "\n",
    "sigma<-0.5\n",
    "alpha<-0.05\n",
    "# qnorm(1-alpha/2)*sigma/sqrt(n)=0.2  find n\n",
    "# oder, sigma/sqrt(n) = 0.2/qnorm(1-alpha/2)\n",
    "# oder, sigma/0.2/qnorm(1-alpha/2) = sqrt(n)\n",
    "# oder,  n = ( sigma/ (0.2/qnorm(1-alpha/2) ) )**2\n",
    "n <- ( sigma/(0.2/qnorm(1-alpha/2)) )**2 # is total number of samples\n",
    "\n",
    "library(tidyr)\n",
    "n %>% ceiling()\n",
    "n"
   ]
  },
  {
   "cell_type": "code",
   "execution_count": 4,
   "metadata": {
    "vscode": {
     "languageId": "r"
    }
   },
   "outputs": [
    {
     "name": "stdout",
     "output_type": "stream",
     "text": [
      "[1] \"approximation\"\n"
     ]
    },
    {
     "data": {
      "text/html": [
       "<style>\n",
       ".list-inline {list-style: none; margin:0; padding: 0}\n",
       ".list-inline>li {display: inline-block}\n",
       ".list-inline>li:not(:last-child)::after {content: \"\\00b7\"; padding: 0 .5ex}\n",
       "</style>\n",
       "<ol class=list-inline><li>0.6432</li><li>0.7568</li></ol>\n"
      ],
      "text/latex": [
       "\\begin{enumerate*}\n",
       "\\item 0.6432\n",
       "\\item 0.7568\n",
       "\\end{enumerate*}\n"
      ],
      "text/markdown": [
       "1. 0.6432\n",
       "2. 0.7568\n",
       "\n",
       "\n"
      ],
      "text/plain": [
       "[1] 0.6432 0.7568"
      ]
     },
     "metadata": {},
     "output_type": "display_data"
    },
    {
     "name": "stdout",
     "output_type": "stream",
     "text": [
      "[1] \"exact\"\n"
     ]
    },
    {
     "data": {
      "text/html": [
       "<style>\n",
       ".list-inline {list-style: none; margin:0; padding: 0}\n",
       ".list-inline>li {display: inline-block}\n",
       ".list-inline>li:not(:last-child)::after {content: \"\\00b7\"; padding: 0 .5ex}\n",
       "</style>\n",
       "<ol class=list-inline><li>0.6391</li><li>0.7561</li></ol>\n"
      ],
      "text/latex": [
       "\\begin{enumerate*}\n",
       "\\item 0.6391\n",
       "\\item 0.7561\n",
       "\\end{enumerate*}\n"
      ],
      "text/markdown": [
       "1. 0.6391\n",
       "2. 0.7561\n",
       "\n",
       "\n"
      ],
      "text/plain": [
       "[1] 0.6391 0.7561\n",
       "attr(,\"conf.level\")\n",
       "[1] 0.95"
      ]
     },
     "metadata": {},
     "output_type": "display_data"
    }
   ],
   "source": [
    "# known\n",
    "# p.hat -> 70% (prefer something)\n",
    "# n sample -> 250\n",
    "\n",
    "# SEARCH\n",
    "# compute the x confidence interval\n",
    "\n",
    "n<-250\n",
    "p.hat<-0.7\n",
    "alpha<-1-0.95\n",
    "x<-n*p.hat # x is the number of people who voted for candidate from 250\n",
    "\n",
    "print(\"approximation\")\n",
    " c(p.hat - qnorm(1-alpha/2)*sqrt(p.hat*(1-p.hat)/n),\n",
    "  p.hat + qnorm(1-alpha/2)*sqrt(p.hat*(1-p.hat)/n)) %>% round(4) #optional here\n",
    "\n",
    "print(\"exact\")\n",
    "binom.test(x = x,n = n,p = p.hat,alternative = 'two.sided',conf.level =\n",
    "          0.95)$conf.int %>% round(4)"
   ]
  },
  {
   "cell_type": "code",
   "execution_count": 6,
   "metadata": {
    "vscode": {
     "languageId": "r"
    }
   },
   "outputs": [
    {
     "name": "stdout",
     "output_type": "stream",
     "text": [
      "[1] \"approximation\"\n"
     ]
    },
    {
     "data": {
      "text/html": [
       "0.45"
      ],
      "text/latex": [
       "0.45"
      ],
      "text/markdown": [
       "0.45"
      ],
      "text/plain": [
       "[1] 0.45"
      ]
     },
     "metadata": {},
     "output_type": "display_data"
    },
    {
     "name": "stdout",
     "output_type": "stream",
     "text": [
      "[1] \"exact\"\n"
     ]
    },
    {
     "data": {
      "text/html": [
       "0.45"
      ],
      "text/latex": [
       "0.45"
      ],
      "text/markdown": [
       "0.45"
      ],
      "text/plain": [
       "[1] 0.45"
      ]
     },
     "metadata": {},
     "output_type": "display_data"
    }
   ],
   "source": [
    "# KNOWN\n",
    "n.sample <- 100\n",
    "p.hat <- 0.4\n",
    "alpha <- 1-0.95\n",
    "\n",
    "# search upper-Limit\n",
    "print(\"approximation\")\n",
    "(p.hat + qnorm(1-alpha)*sqrt(p.hat*(1-p.hat)/n)) %>% round(2)\n",
    "\n",
    "print(\"exact\")\n",
    "binom.test(x = p.hat*n,n =n, p = p.hat,alternative = 'less'\n",
    "           ,conf.level =1-alpha )$conf.int[2] %>% round(2)"
   ]
  },
  {
   "cell_type": "markdown",
   "metadata": {},
   "source": [
    "<h3 style=\"color:blue;text-align:center\">Excercise 9</h3>\n",
    "\n",
    "An advertising agency wants to construct a 99% confidence lower bound\n",
    "for the proportion of dentists who recommend a certain brand of tooth-\n",
    "paste. The margin of error is to be 0.02. How large should the sample\n",
    "be?"
   ]
  },
  {
   "cell_type": "code",
   "execution_count": 9,
   "metadata": {
    "vscode": {
     "languageId": "r"
    }
   },
   "outputs": [
    {
     "data": {
      "text/html": [
       "3382.43401940896"
      ],
      "text/latex": [
       "3382.43401940896"
      ],
      "text/markdown": [
       "3382.43401940896"
      ],
      "text/plain": [
       "[1] 3382.434"
      ]
     },
     "metadata": {},
     "output_type": "display_data"
    }
   ],
   "source": [
    "# KNOWN\n",
    "m.e = 0.02\n",
    "alpha = 1- 0.99\n",
    "\n",
    "# search sample size. -> also search for p.hat\n",
    "# p.hat=1/2\n",
    "# p.hat(1-p.hat) = 1/2*1/2=1/4\n",
    "# so\n",
    "# qnorm(1-alpha/2)*sqrt( (1/4)/n) = m.e\n",
    "# => sqrt( (1/4)/n) = (m.e) / qnorm(1-alpha)\n",
    "# => (1/4)/n = ( (m.e) / qnorm(1-alpha) )**2\n",
    "# => (1/4)/( (m.e) / qnorm(1-alpha) )**2 = n\n",
    "n<- (1/4)/( (m.e) / qnorm(1-alpha) )**2\n",
    "n "
   ]
  },
  {
   "cell_type": "code",
   "execution_count": 13,
   "metadata": {
    "vscode": {
     "languageId": "r"
    }
   },
   "outputs": [
    {
     "data": {
      "text/html": [
       "0.625"
      ],
      "text/latex": [
       "0.625"
      ],
      "text/markdown": [
       "0.625"
      ],
      "text/plain": [
       "[1] 0.625"
      ]
     },
     "metadata": {},
     "output_type": "display_data"
    },
    {
     "data": {
      "text/plain": [
       "\n",
       "\tExact binomial test\n",
       "\n",
       "data:  x and n\n",
       "number of successes = 20, number of trials = 32, p-value = 0.5781\n",
       "alternative hypothesis: true probability of success is greater than 0.625\n",
       "95 percent confidence interval:\n",
       " 0.4643607 1.0000000\n",
       "sample estimates:\n",
       "probability of success \n",
       "                 0.625 \n"
      ]
     },
     "metadata": {},
     "output_type": "display_data"
    }
   ],
   "source": [
    "library(TeachingDemos)\n",
    "#p<-0.25 #p<-x/n\n",
    "n<-32\n",
    "x<-20\n",
    "alpha = 0.05 # because it isn't specified\n",
    "## exact\n",
    "p<-x/n\n",
    "p\n",
    "binom.test(x = x,n = n,p = p, alternative = \"greater\")\n",
    "# alternative hypthesis is >"
   ]
  },
  {
   "cell_type": "code",
   "execution_count": 12,
   "metadata": {
    "vscode": {
     "languageId": "r"
    }
   },
   "outputs": [],
   "source": [
    "library(TeachingDemos)"
   ]
  },
  {
   "cell_type": "code",
   "execution_count": 7,
   "metadata": {
    "vscode": {
     "languageId": "r"
    }
   },
   "outputs": [
    {
     "data": {
      "text/html": [
       "0.625"
      ],
      "text/latex": [
       "0.625"
      ],
      "text/markdown": [
       "0.625"
      ],
      "text/plain": [
       "[1] 0.625"
      ]
     },
     "metadata": {},
     "output_type": "display_data"
    }
   ],
   "source": [
    "20/32"
   ]
  },
  {
   "cell_type": "code",
   "execution_count": null,
   "metadata": {
    "vscode": {
     "languageId": "r"
    }
   },
   "outputs": [],
   "source": []
  }
 ],
 "metadata": {
  "kernelspec": {
   "display_name": "R",
   "language": "R",
   "name": "ir"
  },
  "language_info": {
   "codemirror_mode": "r",
   "file_extension": ".r",
   "mimetype": "text/x-r-source",
   "name": "R",
   "pygments_lexer": "r",
   "version": "4.3.3"
  }
 },
 "nbformat": 4,
 "nbformat_minor": 2
}
