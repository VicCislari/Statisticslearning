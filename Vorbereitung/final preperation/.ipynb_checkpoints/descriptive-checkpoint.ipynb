{
 "cells": [
  {
   "attachments": {},
   "cell_type": "markdown",
   "metadata": {},
   "source": [
    "##  Descriptive Statistics"
   ]
  },
  {
   "cell_type": "code",
   "execution_count": 1,
   "metadata": {
    "vscode": {
     "languageId": "r"
    }
   },
   "outputs": [
    {
     "name": "stdout",
     "output_type": "stream",
     "text": [
      "\n",
      "Die heruntergeladenen Bin\"arpakete sind in \n",
      "\t/var/folders/t0/f054bgvj7d514yq2qlg1czv80000gp/T//Rtmp41u3Au/downloaded_packages\n",
      "\n",
      "Die heruntergeladenen Bin\"arpakete sind in \n",
      "\t/var/folders/t0/f054bgvj7d514yq2qlg1czv80000gp/T//Rtmp41u3Au/downloaded_packages\n",
      "\n",
      "Die heruntergeladenen Bin\"arpakete sind in \n",
      "\t/var/folders/t0/f054bgvj7d514yq2qlg1czv80000gp/T//Rtmp41u3Au/downloaded_packages\n"
     ]
    },
    {
     "name": "stderr",
     "output_type": "stream",
     "text": [
      "\n",
      "Attache Paket: 'dplyr'\n",
      "\n",
      "\n",
      "Die folgenden Objekte sind maskiert von 'package:stats':\n",
      "\n",
      "    filter, lag\n",
      "\n",
      "\n",
      "Die folgenden Objekte sind maskiert von 'package:base':\n",
      "\n",
      "    intersect, setdiff, setequal, union\n",
      "\n",
      "\n"
     ]
    }
   ],
   "source": [
    "install.packages(\"nycflights13\")\n",
    "install.packages(\"dplyr\")\n",
    "install.packages(\"nortest\")\n",
    "# install.packages(\"epiR\")\n",
    "# install.packages(\"sf\")\n",
    "# install.packages(\"sf\", repos = \"https://cloud.r-project.org/\")\n",
    "\n",
    "library(tidyr)\n",
    "library(dplyr)\n",
    "library(nycflights13)\n",
    "library(ggplot2)\n",
    "library(tibble)"
   ]
  },
  {
   "cell_type": "code",
   "execution_count": 47,
   "metadata": {
    "vscode": {
     "languageId": "r"
    }
   },
   "outputs": [
    {
     "data": {
      "text/html": [
       "<table class=\"dataframe\">\n",
       "<caption>A data.frame: 3 x 4</caption>\n",
       "<thead>\n",
       "\t<tr><th scope=col>ID</th><th scope=col>Jan</th><th scope=col>Feb</th><th scope=col>Mar</th></tr>\n",
       "\t<tr><th scope=col>&lt;dbl&gt;</th><th scope=col>&lt;dbl&gt;</th><th scope=col>&lt;dbl&gt;</th><th scope=col>&lt;dbl&gt;</th></tr>\n",
       "</thead>\n",
       "<tbody>\n",
       "\t<tr><td>1</td><td>100</td><td>120</td><td>110</td></tr>\n",
       "\t<tr><td>2</td><td>200</td><td>220</td><td>230</td></tr>\n",
       "\t<tr><td>3</td><td>150</td><td>160</td><td>170</td></tr>\n",
       "</tbody>\n",
       "</table>\n"
      ],
      "text/latex": [
       "A data.frame: 3 x 4\n",
       "\\begin{tabular}{llll}\n",
       " ID & Jan & Feb & Mar\\\\\n",
       " <dbl> & <dbl> & <dbl> & <dbl>\\\\\n",
       "\\hline\n",
       "\t 1 & 100 & 120 & 110\\\\\n",
       "\t 2 & 200 & 220 & 230\\\\\n",
       "\t 3 & 150 & 160 & 170\\\\\n",
       "\\end{tabular}\n"
      ],
      "text/markdown": [
       "\n",
       "A data.frame: 3 x 4\n",
       "\n",
       "| ID &lt;dbl&gt; | Jan &lt;dbl&gt; | Feb &lt;dbl&gt; | Mar &lt;dbl&gt; |\n",
       "|---|---|---|---|\n",
       "| 1 | 100 | 120 | 110 |\n",
       "| 2 | 200 | 220 | 230 |\n",
       "| 3 | 150 | 160 | 170 |\n",
       "\n"
      ],
      "text/plain": [
       "  ID Jan Feb Mar\n",
       "1 1  100 120 110\n",
       "2 2  200 220 230\n",
       "3 3  150 160 170"
      ]
     },
     "metadata": {},
     "output_type": "display_data"
    },
    {
     "data": {
      "text/html": [
       "<table class=\"dataframe\">\n",
       "<caption>A data.frame: 9 x 3</caption>\n",
       "<thead>\n",
       "\t<tr><th scope=col>ID</th><th scope=col>Month</th><th scope=col>Value</th></tr>\n",
       "\t<tr><th scope=col>&lt;dbl&gt;</th><th scope=col>&lt;chr&gt;</th><th scope=col>&lt;dbl&gt;</th></tr>\n",
       "</thead>\n",
       "<tbody>\n",
       "\t<tr><td>1</td><td>Jan</td><td>100</td></tr>\n",
       "\t<tr><td>2</td><td>Jan</td><td>200</td></tr>\n",
       "\t<tr><td>3</td><td>Jan</td><td>150</td></tr>\n",
       "\t<tr><td>1</td><td>Feb</td><td>120</td></tr>\n",
       "\t<tr><td>2</td><td>Feb</td><td>220</td></tr>\n",
       "\t<tr><td>3</td><td>Feb</td><td>160</td></tr>\n",
       "\t<tr><td>1</td><td>Mar</td><td>110</td></tr>\n",
       "\t<tr><td>2</td><td>Mar</td><td>230</td></tr>\n",
       "\t<tr><td>3</td><td>Mar</td><td>170</td></tr>\n",
       "</tbody>\n",
       "</table>\n"
      ],
      "text/latex": [
       "A data.frame: 9 x 3\n",
       "\\begin{tabular}{lll}\n",
       " ID & Month & Value\\\\\n",
       " <dbl> & <chr> & <dbl>\\\\\n",
       "\\hline\n",
       "\t 1 & Jan & 100\\\\\n",
       "\t 2 & Jan & 200\\\\\n",
       "\t 3 & Jan & 150\\\\\n",
       "\t 1 & Feb & 120\\\\\n",
       "\t 2 & Feb & 220\\\\\n",
       "\t 3 & Feb & 160\\\\\n",
       "\t 1 & Mar & 110\\\\\n",
       "\t 2 & Mar & 230\\\\\n",
       "\t 3 & Mar & 170\\\\\n",
       "\\end{tabular}\n"
      ],
      "text/markdown": [
       "\n",
       "A data.frame: 9 x 3\n",
       "\n",
       "| ID &lt;dbl&gt; | Month &lt;chr&gt; | Value &lt;dbl&gt; |\n",
       "|---|---|---|\n",
       "| 1 | Jan | 100 |\n",
       "| 2 | Jan | 200 |\n",
       "| 3 | Jan | 150 |\n",
       "| 1 | Feb | 120 |\n",
       "| 2 | Feb | 220 |\n",
       "| 3 | Feb | 160 |\n",
       "| 1 | Mar | 110 |\n",
       "| 2 | Mar | 230 |\n",
       "| 3 | Mar | 170 |\n",
       "\n"
      ],
      "text/plain": [
       "  ID Month Value\n",
       "1 1  Jan   100  \n",
       "2 2  Jan   200  \n",
       "3 3  Jan   150  \n",
       "4 1  Feb   120  \n",
       "5 2  Feb   220  \n",
       "6 3  Feb   160  \n",
       "7 1  Mar   110  \n",
       "8 2  Mar   230  \n",
       "9 3  Mar   170  "
      ]
     },
     "metadata": {},
     "output_type": "display_data"
    }
   ],
   "source": [
    "# Sample data frame\n",
    "data <- data.frame(\n",
    "  ID = c(1, 2, 3),\n",
    "  Jan = c(100, 200, 150),\n",
    "  Feb = c(120, 220, 160),\n",
    "  Mar = c(110, 230, 170)\n",
    ")\n",
    "\n",
    "# Output:\n",
    "#   ID Jan Feb Mar -> werden zu values in rows f(x)\n",
    "\n",
    "# 1  1 100 120 110 -> y\n",
    "# 2  2 200 220 230\n",
    "# 3  3 150 160 170\n",
    "\n",
    "# this is a super confusing function\n",
    "# Gathering the months into a single column\n",
    "gathered_data <- gather(data, Month, Value, -ID)\n",
    "# so you mean - for what becomes a column\n",
    "data\n",
    "# Output:\n",
    "#    ID Month Value\n",
    "# 1   1   Jan   100\n",
    "# 2   2   Jan   200\n",
    "# 3   3   Jan   150\n",
    "# 4   1   Feb   120\n",
    "# 5   2   Feb   220\n",
    "# 6   3   Feb   160\n",
    "# 7   1   Mar   110\n",
    "# 8   2   Mar   230\n",
    "# 9   3   Mar   170\n",
    "gathered_data"
   ]
  },
  {
   "cell_type": "code",
   "execution_count": 49,
   "metadata": {
    "vscode": {
     "languageId": "r"
    }
   },
   "outputs": [
    {
     "ename": "ERROR",
     "evalue": "Error in data.frame(Person = c(\"Alice\", \"Bob\", \"Charlie\", \"Me\"), Subject = c(\"Math\", : Argumente implizieren unterschiedliche Anzahl Zeilen: 4, 3\n",
     "output_type": "error",
     "traceback": [
      "Error in data.frame(Person = c(\"Alice\", \"Bob\", \"Charlie\", \"Me\"), Subject = c(\"Math\", : Argumente implizieren unterschiedliche Anzahl Zeilen: 4, 3\nTraceback:\n",
      "1. data.frame(Person = c(\"Alice\", \"Bob\", \"Charlie\", \"Me\"), Subject = c(\"Math\", \n .     \"Math\", \"Math\"), Score = c(85, 90, 88, 70))",
      "2. stop(gettextf(\"arguments imply differing number of rows: %s\", \n .     paste(unique(nrows), collapse = \", \")), domain = NA)"
     ]
    }
   ],
   "source": [
    "# Sample data frame\n",
    "data <- data.frame(\n",
    "  Person = c(\"Alice\", \"Bob\", \"Charlie\", \"Me\"),\n",
    "  Subject = c(\"Math\", \"Math\", \"Math\"),\n",
    "  Score = c(85, 90, 88, 70)\n",
    ")\n",
    "data\n",
    "# Output:\n",
    "#    Person Subject Score\n",
    "# 1   Alice    Math    85\n",
    "# 2     Bob    Math    90\n",
    "# 3 Charlie    Math    88\n",
    "\n",
    "# super weird functions\n",
    "# Spreading the 'Subject' column\n",
    "spread_data <- spread(data, Subject, Score)\n",
    "\n",
    "# Output:\n",
    "#    Person Math\n",
    "# 1   Alice   85\n",
    "# 2     Bob   90\n",
    "# 3 Charlie   88\n",
    "spread_data\n",
    "\n",
    "#gathered_data <- gather(spread_data, Subject, Score, -Person)\n",
    "#gathered_data <- gathered_data[, c(\"Person\", \"Subject\", \"Score\")]\n",
    "#// didn't even work, wtf!\n",
    "#data\n",
    "#my_data"
   ]
  },
  {
   "cell_type": "code",
   "execution_count": 4,
   "metadata": {
    "vscode": {
     "languageId": "r"
    }
   },
   "outputs": [
    {
     "name": "stdout",
     "output_type": "stream",
     "text": [
      "  score grade\n",
      "1    85     2\n",
      "2    90     1\n",
      "3    75     2\n",
      "4    60     3\n",
      "5    35     4\n",
      "6     5     6\n"
     ]
    }
   ],
   "source": [
    "# Sample data\n",
    "tbl_name <- data.frame(\n",
    "  score = c(85, 90, 75, 60, 35, 5)\n",
    ")\n",
    "\n",
    "# Applying the mutation\n",
    "result <- tbl_name %>% \n",
    "  mutate(\n",
    "    grade = case_when(\n",
    "      score >= 90 ~ 1,\n",
    "      score >= 70 ~ 2,\n",
    "      score >= 50 ~ 3,\n",
    "      score >= 30 ~ 4,\n",
    "      score >= 10 ~ 5,\n",
    "      score >= 0 ~ 6\n",
    "    )\n",
    "  )\n",
    "\n",
    "# Output\n",
    "print(result)\n"
   ]
  },
  {
   "cell_type": "code",
   "execution_count": 5,
   "metadata": {
    "vscode": {
     "languageId": "r"
    }
   },
   "outputs": [
    {
     "data": {
      "text/html": [
       "<table class=\"dataframe\">\n",
       "<caption>A rowwise_df: 3 x 3</caption>\n",
       "<thead>\n",
       "\t<tr><th scope=col>A</th><th scope=col>B</th><th scope=col>sum</th></tr>\n",
       "\t<tr><th scope=col>&lt;dbl&gt;</th><th scope=col>&lt;dbl&gt;</th><th scope=col>&lt;dbl&gt;</th></tr>\n",
       "</thead>\n",
       "<tbody>\n",
       "\t<tr><td>1</td><td>4</td><td>5</td></tr>\n",
       "\t<tr><td>2</td><td>5</td><td>7</td></tr>\n",
       "\t<tr><td>3</td><td>6</td><td>9</td></tr>\n",
       "</tbody>\n",
       "</table>\n"
      ],
      "text/latex": [
       "A rowwise\\_df: 3 x 3\n",
       "\\begin{tabular}{lll}\n",
       " A & B & sum\\\\\n",
       " <dbl> & <dbl> & <dbl>\\\\\n",
       "\\hline\n",
       "\t 1 & 4 & 5\\\\\n",
       "\t 2 & 5 & 7\\\\\n",
       "\t 3 & 6 & 9\\\\\n",
       "\\end{tabular}\n"
      ],
      "text/markdown": [
       "\n",
       "A rowwise_df: 3 x 3\n",
       "\n",
       "| A &lt;dbl&gt; | B &lt;dbl&gt; | sum &lt;dbl&gt; |\n",
       "|---|---|---|\n",
       "| 1 | 4 | 5 |\n",
       "| 2 | 5 | 7 |\n",
       "| 3 | 6 | 9 |\n",
       "\n"
      ],
      "text/plain": [
       "  A B sum\n",
       "1 1 4 5  \n",
       "2 2 5 7  \n",
       "3 3 6 9  "
      ]
     },
     "metadata": {},
     "output_type": "display_data"
    }
   ],
   "source": [
    "# Sample data\n",
    "data <- data.frame(\n",
    "  A = c(1, 2, 3),\n",
    "  B = c(4, 5, 6)\n",
    ")\n",
    "# Apply rowwise operation\n",
    "result <- data %>%\n",
    "  rowwise() %>%\n",
    "  mutate(sum = sum(A, B))\n",
    "result\n"
   ]
  },
  {
   "cell_type": "code",
   "execution_count": 6,
   "metadata": {
    "vscode": {
     "languageId": "r"
    }
   },
   "outputs": [
    {
     "data": {
      "text/html": [
       "<table class=\"dataframe\">\n",
       "<caption>A data.frame: 3 x 3</caption>\n",
       "<thead>\n",
       "\t<tr><th scope=col>A</th><th scope=col>B</th><th scope=col>sum</th></tr>\n",
       "\t<tr><th scope=col>&lt;dbl&gt;</th><th scope=col>&lt;dbl&gt;</th><th scope=col>&lt;dbl&gt;</th></tr>\n",
       "</thead>\n",
       "<tbody>\n",
       "\t<tr><td>1</td><td>4</td><td>21</td></tr>\n",
       "\t<tr><td>2</td><td>5</td><td>21</td></tr>\n",
       "\t<tr><td>3</td><td>6</td><td>21</td></tr>\n",
       "</tbody>\n",
       "</table>\n"
      ],
      "text/latex": [
       "A data.frame: 3 x 3\n",
       "\\begin{tabular}{lll}\n",
       " A & B & sum\\\\\n",
       " <dbl> & <dbl> & <dbl>\\\\\n",
       "\\hline\n",
       "\t 1 & 4 & 21\\\\\n",
       "\t 2 & 5 & 21\\\\\n",
       "\t 3 & 6 & 21\\\\\n",
       "\\end{tabular}\n"
      ],
      "text/markdown": [
       "\n",
       "A data.frame: 3 x 3\n",
       "\n",
       "| A &lt;dbl&gt; | B &lt;dbl&gt; | sum &lt;dbl&gt; |\n",
       "|---|---|---|\n",
       "| 1 | 4 | 21 |\n",
       "| 2 | 5 | 21 |\n",
       "| 3 | 6 | 21 |\n",
       "\n"
      ],
      "text/plain": [
       "  A B sum\n",
       "1 1 4 21 \n",
       "2 2 5 21 \n",
       "3 3 6 21 "
      ]
     },
     "metadata": {},
     "output_type": "display_data"
    }
   ],
   "source": [
    "# Apply rowwise operation\n",
    "result <- data %>%\n",
    "  mutate(sum = sum(A, B))\n",
    "result"
   ]
  },
  {
   "cell_type": "code",
   "execution_count": 7,
   "metadata": {
    "vscode": {
     "languageId": "r"
    }
   },
   "outputs": [
    {
     "name": "stdout",
     "output_type": "stream",
     "text": [
      "\u001b[90m# A tibble: 3 x 4\u001b[39m\n",
      "\u001b[90m# Rowwise: \u001b[39m\n",
      "      A     B gender   sum\n",
      "  \u001b[3m\u001b[90m<dbl>\u001b[39m\u001b[23m \u001b[3m\u001b[90m<dbl>\u001b[39m\u001b[23m \u001b[3m\u001b[90m<chr>\u001b[39m\u001b[23m  \u001b[3m\u001b[90m<dbl>\u001b[39m\u001b[23m\n",
      "\u001b[90m1\u001b[39m     1     4 f          5\n",
      "\u001b[90m2\u001b[39m     2     5 m          7\n",
      "\u001b[90m3\u001b[39m     3     6 m          9\n",
      "\u001b[90m# A tibble: 2 x 2\u001b[39m\n",
      "  gender amount\n",
      "  \u001b[3m\u001b[90m<chr>\u001b[39m\u001b[23m   \u001b[3m\u001b[90m<int>\u001b[39m\u001b[23m\n",
      "\u001b[90m1\u001b[39m f           1\n",
      "\u001b[90m2\u001b[39m m           2\n"
     ]
    }
   ],
   "source": [
    "# Sample data\n",
    "data <- data.frame(\n",
    "  A = c(1, 2, 3),\n",
    "  B = c(4, 5, 6)\n",
    ")\n",
    "result <- data %>% rowwise() %>% mutate(\n",
    "    gender = ifelse(runif(1) > 0.5, \"m\", \"f\"),\n",
    "    sum = sum(A, B)\n",
    "  )\n",
    "\n",
    "print(result)\n",
    "amount_of_gender <- result%>%group_by(gender)%>%summarise(amount=n())%>%ungroup()\n",
    "print(amount_of_gender)"
   ]
  },
  {
   "cell_type": "code",
   "execution_count": 8,
   "metadata": {
    "vscode": {
     "languageId": "r"
    }
   },
   "outputs": [
    {
     "data": {
      "text/html": [
       "<style>\n",
       ".list-inline {list-style: none; margin:0; padding: 0}\n",
       ".list-inline>li {display: inline-block}\n",
       ".list-inline>li:not(:last-child)::after {content: \"\\00b7\"; padding: 0 .5ex}\n",
       "</style>\n",
       "<ol class=list-inline><li>0.235390035668388</li><li>0.914372955216095</li><li>0.40484275482595</li><li>0.867502990178764</li></ol>\n"
      ],
      "text/latex": [
       "\\begin{enumerate*}\n",
       "\\item 0.235390035668388\n",
       "\\item 0.914372955216095\n",
       "\\item 0.40484275482595\n",
       "\\item 0.867502990178764\n",
       "\\end{enumerate*}\n"
      ],
      "text/markdown": [
       "1. 0.235390035668388\n",
       "2. 0.914372955216095\n",
       "3. 0.40484275482595\n",
       "4. 0.867502990178764\n",
       "\n",
       "\n"
      ],
      "text/plain": [
       "[1] 0.2353900 0.9143730 0.4048428 0.8675030"
      ]
     },
     "metadata": {},
     "output_type": "display_data"
    }
   ],
   "source": [
    "runif(4) #this generates 4 random values between 0 and 1"
   ]
  },
  {
   "cell_type": "code",
   "execution_count": 9,
   "metadata": {
    "vscode": {
     "languageId": "r"
    }
   },
   "outputs": [
    {
     "data": {
      "text/html": [
       "<table class=\"dataframe\">\n",
       "<caption>A data.frame: 3 x 2</caption>\n",
       "<thead>\n",
       "\t<tr><th scope=col>A</th><th scope=col>B</th></tr>\n",
       "\t<tr><th scope=col>&lt;dbl&gt;</th><th scope=col>&lt;dbl&gt;</th></tr>\n",
       "</thead>\n",
       "<tbody>\n",
       "\t<tr><td>1</td><td>4</td></tr>\n",
       "\t<tr><td>2</td><td>5</td></tr>\n",
       "\t<tr><td>3</td><td>6</td></tr>\n",
       "</tbody>\n",
       "</table>\n"
      ],
      "text/latex": [
       "A data.frame: 3 x 2\n",
       "\\begin{tabular}{ll}\n",
       " A & B\\\\\n",
       " <dbl> & <dbl>\\\\\n",
       "\\hline\n",
       "\t 1 & 4\\\\\n",
       "\t 2 & 5\\\\\n",
       "\t 3 & 6\\\\\n",
       "\\end{tabular}\n"
      ],
      "text/markdown": [
       "\n",
       "A data.frame: 3 x 2\n",
       "\n",
       "| A &lt;dbl&gt; | B &lt;dbl&gt; |\n",
       "|---|---|\n",
       "| 1 | 4 |\n",
       "| 2 | 5 |\n",
       "| 3 | 6 |\n",
       "\n"
      ],
      "text/plain": [
       "  A B\n",
       "1 1 4\n",
       "2 2 5\n",
       "3 3 6"
      ]
     },
     "metadata": {},
     "output_type": "display_data"
    }
   ],
   "source": [
    "data"
   ]
  },
  {
   "cell_type": "code",
   "execution_count": 10,
   "metadata": {
    "vscode": {
     "languageId": "r"
    }
   },
   "outputs": [
    {
     "name": "stdout",
     "output_type": "stream",
     "text": [
      "     Name Age Grade\n",
      "1   Alice  20     A\n",
      "2 Charlie  22     C\n"
     ]
    }
   ],
   "source": [
    "# Example data frame\n",
    "students <- data.frame(\n",
    "  Name = c(\"Alice\", \"Bob\", \"Charlie\", \"David\"),\n",
    "  Age = c(20, 17, 22, 16),\n",
    "  Grade = c(\"A\", \"B\", \"C\", \"A\")\n",
    ")\n",
    "\n",
    "# Filter rows where Age is greater than or equal to 18\n",
    "filtered_students <- filter(students, Age >= 18)\n",
    "\n",
    "# Print the filtered data frame\n",
    "print(filtered_students)"
   ]
  },
  {
   "attachments": {},
   "cell_type": "markdown",
   "metadata": {},
   "source": [
    "# ALLE THEMEN\n",
    "\n",
    "1. Descriptive Statistics\n",
    "- Type and Scale of Variables: Understanding the nature and measurement scale of variables.\n",
    "- Import CSV Files: Importing data from CSV files for analysis.\n",
    "- Tidy and Messy Data: Converting messy data into tidy form for easier manipulation.\n",
    "- Tidy Functions: Utilizing separate, gather, and spread functions to transform data into tidy format.\n",
    "- Data Manipulation: Using functions like filter, mutate, select, and arrange for data manipulation.\n",
    "- Summarize Table: Generating summary statistics for the data.\n",
    "- Visualization: Creating scatter plots, histograms, and other plots for data visualization.\n",
    "- Linear Regression: Performing linear regression analysis to understand relationships between variables.\n",
    "\n",
    "2. Probability\n",
    "- Basic Probability: Understanding fundamental concepts in probability theory.\n",
    "- Distributions: Exploring Normal, Binomial, Multinomial, and Geometric distributions.\n",
    "\n",
    "3. Inferential Statistics\n",
    "- Central Limit Theorem: Understanding the Central Limit Theorem, expected value, and variance.\n",
    "- Confidence Intervals: Calculating confidence intervals and conducting one-sample tests.\n",
    "\n",
    "Additional Tasks\n",
    "- Two-Sample Tests: Conducting hypothesis tests for comparing two samples.\n",
    "- Getting Familiar with University Computers: Becoming accustomed to using the computers available at the university.\n"
   ]
  },
  {
   "cell_type": "code",
   "execution_count": 11,
   "metadata": {
    "vscode": {
     "languageId": "r"
    }
   },
   "outputs": [
    {
     "data": {
      "text/html": [
       "<table class=\"dataframe\">\n",
       "<caption>A data.frame: 5 x 3</caption>\n",
       "<thead>\n",
       "\t<tr><th scope=col>id</th><th scope=col>variable1</th><th scope=col>variable2</th></tr>\n",
       "\t<tr><th scope=col>&lt;int&gt;</th><th scope=col>&lt;int&gt;</th><th scope=col>&lt;int&gt;</th></tr>\n",
       "</thead>\n",
       "<tbody>\n",
       "\t<tr><td>1</td><td>10</td><td>20</td></tr>\n",
       "\t<tr><td>2</td><td>15</td><td>25</td></tr>\n",
       "\t<tr><td>3</td><td>20</td><td>30</td></tr>\n",
       "\t<tr><td>4</td><td>25</td><td>35</td></tr>\n",
       "\t<tr><td>5</td><td>30</td><td>40</td></tr>\n",
       "</tbody>\n",
       "</table>\n"
      ],
      "text/latex": [
       "A data.frame: 5 x 3\n",
       "\\begin{tabular}{lll}\n",
       " id & variable1 & variable2\\\\\n",
       " <int> & <int> & <int>\\\\\n",
       "\\hline\n",
       "\t 1 & 10 & 20\\\\\n",
       "\t 2 & 15 & 25\\\\\n",
       "\t 3 & 20 & 30\\\\\n",
       "\t 4 & 25 & 35\\\\\n",
       "\t 5 & 30 & 40\\\\\n",
       "\\end{tabular}\n"
      ],
      "text/markdown": [
       "\n",
       "A data.frame: 5 x 3\n",
       "\n",
       "| id &lt;int&gt; | variable1 &lt;int&gt; | variable2 &lt;int&gt; |\n",
       "|---|---|---|\n",
       "| 1 | 10 | 20 |\n",
       "| 2 | 15 | 25 |\n",
       "| 3 | 20 | 30 |\n",
       "| 4 | 25 | 35 |\n",
       "| 5 | 30 | 40 |\n",
       "\n"
      ],
      "text/plain": [
       "  id variable1 variable2\n",
       "1 1  10        20       \n",
       "2 2  15        25       \n",
       "3 3  20        30       \n",
       "4 4  25        35       \n",
       "5 5  30        40       "
      ]
     },
     "metadata": {},
     "output_type": "display_data"
    }
   ],
   "source": [
    "# Import CSV Files\n",
    "data <- read.csv(\"data.csv\")\n",
    "data"
   ]
  },
  {
   "cell_type": "code",
   "execution_count": 12,
   "metadata": {
    "vscode": {
     "languageId": "r"
    }
   },
   "outputs": [
    {
     "name": "stderr",
     "output_type": "stream",
     "text": [
      "\u001b[1mRows: \u001b[22m\u001b[34m5\u001b[39m \u001b[1mColumns: \u001b[22m\u001b[34m3\u001b[39m\n",
      "\u001b[36m--\u001b[39m \u001b[1mColumn specification\u001b[22m \u001b[36m--------------------------------------------------------\u001b[39m\n",
      "\u001b[1mDelimiter:\u001b[22m \",\"\n",
      "\u001b[32mdbl\u001b[39m (3): id, variable1, variable2\n",
      "\n",
      "\u001b[36mi\u001b[39m Use `spec()` to retrieve the full column specification for this data.\n",
      "\u001b[36mi\u001b[39m Specify the column types or set `show_col_types = FALSE` to quiet this message.\n"
     ]
    },
    {
     "data": {
      "text/html": [
       "<table class=\"dataframe\">\n",
       "<caption>A spec_tbl_df: 5 x 3</caption>\n",
       "<thead>\n",
       "\t<tr><th scope=col>id</th><th scope=col>variable1</th><th scope=col>variable2</th></tr>\n",
       "\t<tr><th scope=col>&lt;dbl&gt;</th><th scope=col>&lt;dbl&gt;</th><th scope=col>&lt;dbl&gt;</th></tr>\n",
       "</thead>\n",
       "<tbody>\n",
       "\t<tr><td>1</td><td>10</td><td>20</td></tr>\n",
       "\t<tr><td>2</td><td>15</td><td>25</td></tr>\n",
       "\t<tr><td>3</td><td>20</td><td>30</td></tr>\n",
       "\t<tr><td>4</td><td>25</td><td>35</td></tr>\n",
       "\t<tr><td>5</td><td>30</td><td>40</td></tr>\n",
       "</tbody>\n",
       "</table>\n"
      ],
      "text/latex": [
       "A spec\\_tbl\\_df: 5 x 3\n",
       "\\begin{tabular}{lll}\n",
       " id & variable1 & variable2\\\\\n",
       " <dbl> & <dbl> & <dbl>\\\\\n",
       "\\hline\n",
       "\t 1 & 10 & 20\\\\\n",
       "\t 2 & 15 & 25\\\\\n",
       "\t 3 & 20 & 30\\\\\n",
       "\t 4 & 25 & 35\\\\\n",
       "\t 5 & 30 & 40\\\\\n",
       "\\end{tabular}\n"
      ],
      "text/markdown": [
       "\n",
       "A spec_tbl_df: 5 x 3\n",
       "\n",
       "| id &lt;dbl&gt; | variable1 &lt;dbl&gt; | variable2 &lt;dbl&gt; |\n",
       "|---|---|---|\n",
       "| 1 | 10 | 20 |\n",
       "| 2 | 15 | 25 |\n",
       "| 3 | 20 | 30 |\n",
       "| 4 | 25 | 35 |\n",
       "| 5 | 30 | 40 |\n",
       "\n"
      ],
      "text/plain": [
       "  id variable1 variable2\n",
       "1 1  10        20       \n",
       "2 2  15        25       \n",
       "3 3  20        30       \n",
       "4 4  25        35       \n",
       "5 5  30        40       "
      ]
     },
     "metadata": {},
     "output_type": "display_data"
    }
   ],
   "source": [
    "data <- readr::read_csv(\"data.csv\")\n",
    "data"
   ]
  },
  {
   "cell_type": "code",
   "execution_count": 13,
   "metadata": {
    "vscode": {
     "languageId": "r"
    }
   },
   "outputs": [
    {
     "name": "stdout",
     "output_type": "stream",
     "text": [
      "Rows: 5\n",
      "Columns: 3\n",
      "$ id        \u001b[3m\u001b[90m<dbl>\u001b[39m\u001b[23m 1, 2, 3, 4, 5\n",
      "$ variable1 \u001b[3m\u001b[90m<dbl>\u001b[39m\u001b[23m 10, 15, 20, 25, 30\n",
      "$ variable2 \u001b[3m\u001b[90m<dbl>\u001b[39m\u001b[23m 20, 25, 30, 35, 40\n"
     ]
    }
   ],
   "source": [
    "glimpse(data)\n",
    "\n",
    "# qualitative \n",
    "#   nominal (gender, skin color, matrikelnumber)\n",
    "\n",
    "# quantitative \n",
    "#   ratio (semester, amount of passed courses)\n",
    "#   ordinal (score or anthing that can have a decimal number?)"
   ]
  },
  {
   "cell_type": "code",
   "execution_count": 14,
   "metadata": {
    "vscode": {
     "languageId": "r"
    }
   },
   "outputs": [
    {
     "name": "stdout",
     "output_type": "stream",
     "text": [
      "Rows: 1,137\n",
      "Columns: 4\n",
      "$ X       \u001b[3m\u001b[90m<int>\u001b[39m\u001b[23m 1, 2, 3, 4, 5, 6, 7, 8, 9, 10, 11, 12, 13, 14, 15, 16, 17, 18,~\n",
      "$ exam    \u001b[3m\u001b[90m<chr>\u001b[39m\u001b[23m \"516647/Mathematics\", \"193841/Data Bases\", \"326761/Computer Ne~\n",
      "$ attempt \u001b[3m\u001b[90m<int>\u001b[39m\u001b[23m 1, 2, 2, 1, 1, 1, 2, 2, 2, 1, 1, 2, 1, 2, 2, 1, 3, 1, 1, 1, 2,~\n",
      "$ score   \u001b[3m\u001b[90m<int>\u001b[39m\u001b[23m 75, 49, 75, 73, 55, 33, 56, 102, 26, 67, 25, 50, 70, 50, 43, 7~\n"
     ]
    },
    {
     "data": {
      "text/html": [
       "'\\n'"
      ],
      "text/latex": [
       "'\\textbackslash{}n'"
      ],
      "text/markdown": [
       "'\\n'"
      ],
      "text/plain": [
       "[1] \"\\n\""
      ]
     },
     "metadata": {},
     "output_type": "display_data"
    },
    {
     "name": "stdout",
     "output_type": "stream",
     "text": [
      "Rows: 1,137\n",
      "Columns: 5\n",
      "Rowwise: \n",
      "$ X       \u001b[3m\u001b[90m<int>\u001b[39m\u001b[23m 1, 2, 3, 4, 5, 6, 7, 8, 9, 10, 11, 12, 13, 14, 15, 16, 17, 18,~\n",
      "$ exam    \u001b[3m\u001b[90m<chr>\u001b[39m\u001b[23m \"516647/Mathematics\", \"193841/Data Bases\", \"326761/Computer Ne~\n",
      "$ attempt \u001b[3m\u001b[90m<int>\u001b[39m\u001b[23m 1, 2, 2, 1, 1, 1, 2, 2, 2, 1, 1, 2, 1, 2, 2, 1, 3, 1, 1, 1, 2,~\n",
      "$ score   \u001b[3m\u001b[90m<int>\u001b[39m\u001b[23m 75, 49, 75, 73, 55, 33, 56, 102, 26, 67, 25, 50, 70, 50, 43, 7~\n",
      "$ grade   \u001b[3m\u001b[90m<dbl>\u001b[39m\u001b[23m 3, 5, 3, 3, 4, 5, 4, 1, 5, 3, 5, 4, 3, 4, 5, 3, 4, 5, 3, 4, 5,~\n"
     ]
    },
    {
     "data": {
      "text/html": [
       "'\\n'"
      ],
      "text/latex": [
       "'\\textbackslash{}n'"
      ],
      "text/markdown": [
       "'\\n'"
      ],
      "text/plain": [
       "[1] \"\\n\""
      ]
     },
     "metadata": {},
     "output_type": "display_data"
    },
    {
     "name": "stdout",
     "output_type": "stream",
     "text": [
      "Rows: 1,137\n",
      "Columns: 5\n",
      "$ X       \u001b[3m\u001b[90m<int>\u001b[39m\u001b[23m 1, 2, 3, 4, 5, 6, 7, 8, 9, 10, 11, 12, 13, 14, 15, 16, 17, 18,~\n",
      "$ exam    \u001b[3m\u001b[90m<chr>\u001b[39m\u001b[23m \"516647/Mathematics\", \"193841/Data Bases\", \"326761/Computer Ne~\n",
      "$ attempt \u001b[3m\u001b[90m<int>\u001b[39m\u001b[23m 1, 2, 2, 1, 1, 1, 2, 2, 2, 1, 1, 2, 1, 2, 2, 1, 3, 1, 1, 1, 2,~\n",
      "$ score   \u001b[3m\u001b[90m<int>\u001b[39m\u001b[23m 75, 49, 75, 73, 55, 33, 56, 102, 26, 67, 25, 50, 70, 50, 43, 7~\n",
      "$ grade   \u001b[3m\u001b[90m<dbl>\u001b[39m\u001b[23m 3, 5, 3, 3, 4, 5, 4, 1, 5, 3, 5, 4, 3, 4, 5, 3, 4, 5, 3, 4, 5,~\n"
     ]
    }
   ],
   "source": [
    "# mutating data.\n",
    "exam.data <- read.csv(\"exam_data.csv\") %>% as_tibble()\n",
    "#but if it is a tibble, then I have to do without rowwise()...?\n",
    "\n",
    "exam.data_mutated <- exam.data %>% \n",
    "  rowwise() %>% \n",
    "  mutate( \n",
    "    grade = case_when( \n",
    "      score < 50 ~ 5, \n",
    "      score >= 50 & score < 65 ~ 4, \n",
    "      score >= 65 & score < 80 ~ 3, \n",
    "      score >= 80 & score < 90 ~ 2, \n",
    "      score >= 90 ~ 1\n",
    "    ) \n",
    "  )\n",
    "\n",
    "exam.data_mutated_not_rowwise <- exam.data %>%\n",
    "  mutate( \n",
    "    grade = case_when( \n",
    "      score < 50 ~ 5, \n",
    "      score >= 50 & score < 65 ~ 4, \n",
    "      score >= 65 & score < 80 ~ 3, \n",
    "      score >= 80 & score < 90 ~ 2, \n",
    "      score >= 90 ~ 1\n",
    "    ) \n",
    "  )\n",
    "\n",
    "glimpse(exam.data)\n",
    "\"\\n\"\n",
    "glimpse(exam.data_mutated)\n",
    "\"\\n\"\n",
    "glimpse(exam.data_mutated_not_rowwise)\n",
    "\n",
    "# FOR SOME REASON IT IS ALL THE SAME OUTCOME, \n",
    "# IF YOU HAVE TIBBLE OR NOT OR IF YOU HAVE ROWWISE OR NOT"
   ]
  },
  {
   "cell_type": "code",
   "execution_count": 15,
   "metadata": {
    "vscode": {
     "languageId": "r"
    }
   },
   "outputs": [
    {
     "data": {
      "text/html": [
       "<table class=\"dataframe\">\n",
       "<caption>A tibble: 7 x 5</caption>\n",
       "<thead>\n",
       "\t<tr><th scope=col>X</th><th scope=col>matriculation_number</th><th scope=col>exam_subject</th><th scope=col>attempt</th><th scope=col>score</th></tr>\n",
       "\t<tr><th scope=col>&lt;int&gt;</th><th scope=col>&lt;chr&gt;</th><th scope=col>&lt;chr&gt;</th><th scope=col>&lt;int&gt;</th><th scope=col>&lt;int&gt;</th></tr>\n",
       "</thead>\n",
       "<tbody>\n",
       "\t<tr><td>1</td><td>516647</td><td>Mathematics      </td><td>1</td><td>75</td></tr>\n",
       "\t<tr><td>2</td><td>193841</td><td>Data Bases       </td><td>2</td><td>49</td></tr>\n",
       "\t<tr><td>3</td><td>326761</td><td>Computer Networks</td><td>2</td><td>75</td></tr>\n",
       "\t<tr><td>4</td><td>230275</td><td>Data Bases       </td><td>1</td><td>73</td></tr>\n",
       "\t<tr><td>5</td><td>911920</td><td>OOP              </td><td>1</td><td>55</td></tr>\n",
       "\t<tr><td>6</td><td>840873</td><td>Formal Languages </td><td>1</td><td>33</td></tr>\n",
       "\t<tr><td>7</td><td>473291</td><td>Mathematics      </td><td>2</td><td>56</td></tr>\n",
       "</tbody>\n",
       "</table>\n"
      ],
      "text/latex": [
       "A tibble: 7 x 5\n",
       "\\begin{tabular}{lllll}\n",
       " X & matriculation\\_number & exam\\_subject & attempt & score\\\\\n",
       " <int> & <chr> & <chr> & <int> & <int>\\\\\n",
       "\\hline\n",
       "\t 1 & 516647 & Mathematics       & 1 & 75\\\\\n",
       "\t 2 & 193841 & Data Bases        & 2 & 49\\\\\n",
       "\t 3 & 326761 & Computer Networks & 2 & 75\\\\\n",
       "\t 4 & 230275 & Data Bases        & 1 & 73\\\\\n",
       "\t 5 & 911920 & OOP               & 1 & 55\\\\\n",
       "\t 6 & 840873 & Formal Languages  & 1 & 33\\\\\n",
       "\t 7 & 473291 & Mathematics       & 2 & 56\\\\\n",
       "\\end{tabular}\n"
      ],
      "text/markdown": [
       "\n",
       "A tibble: 7 x 5\n",
       "\n",
       "| X &lt;int&gt; | matriculation_number &lt;chr&gt; | exam_subject &lt;chr&gt; | attempt &lt;int&gt; | score &lt;int&gt; |\n",
       "|---|---|---|---|---|\n",
       "| 1 | 516647 | Mathematics       | 1 | 75 |\n",
       "| 2 | 193841 | Data Bases        | 2 | 49 |\n",
       "| 3 | 326761 | Computer Networks | 2 | 75 |\n",
       "| 4 | 230275 | Data Bases        | 1 | 73 |\n",
       "| 5 | 911920 | OOP               | 1 | 55 |\n",
       "| 6 | 840873 | Formal Languages  | 1 | 33 |\n",
       "| 7 | 473291 | Mathematics       | 2 | 56 |\n",
       "\n"
      ],
      "text/plain": [
       "  X matriculation_number exam_subject      attempt score\n",
       "1 1 516647               Mathematics       1       75   \n",
       "2 2 193841               Data Bases        2       49   \n",
       "3 3 326761               Computer Networks 2       75   \n",
       "4 4 230275               Data Bases        1       73   \n",
       "5 5 911920               OOP               1       55   \n",
       "6 6 840873               Formal Languages  1       33   \n",
       "7 7 473291               Mathematics       2       56   "
      ]
     },
     "metadata": {},
     "output_type": "display_data"
    }
   ],
   "source": [
    "exam.data_separated <- separate(exam.data, exam, into = c(\"matriculation_number\", \"exam_subject\"), sep=\"/\")\n",
    "head(exam.data_separated, 7)"
   ]
  },
  {
   "cell_type": "code",
   "execution_count": 16,
   "metadata": {
    "vscode": {
     "languageId": "r"
    }
   },
   "outputs": [
    {
     "data": {
      "text/html": [
       "<table class=\"dataframe\">\n",
       "<caption>A tibble: 1 x 1</caption>\n",
       "<thead>\n",
       "\t<tr><th scope=col>n()</th></tr>\n",
       "\t<tr><th scope=col>&lt;int&gt;</th></tr>\n",
       "</thead>\n",
       "<tbody>\n",
       "\t<tr><td>243</td></tr>\n",
       "</tbody>\n",
       "</table>\n"
      ],
      "text/latex": [
       "A tibble: 1 x 1\n",
       "\\begin{tabular}{l}\n",
       " n()\\\\\n",
       " <int>\\\\\n",
       "\\hline\n",
       "\t 243\\\\\n",
       "\\end{tabular}\n"
      ],
      "text/markdown": [
       "\n",
       "A tibble: 1 x 1\n",
       "\n",
       "| n() &lt;int&gt; |\n",
       "|---|\n",
       "| 243 |\n",
       "\n"
      ],
      "text/plain": [
       "  n()\n",
       "1 243"
      ]
     },
     "metadata": {},
     "output_type": "display_data"
    }
   ],
   "source": [
    "# number of students participating:\n",
    "\n",
    "anz.stud <- exam.data_separated %>% select(matriculation_number) %>% unique() %>% summarise(n())\n",
    "#n() is a function which calculates the number of entries.\n",
    "anz.stud #243\n",
    "\n",
    "anz.stud <- exam.data_separated %>% group_by(matriculation_number) %>% summarise(n())\n",
    "# 243"
   ]
  },
  {
   "cell_type": "code",
   "execution_count": 17,
   "metadata": {
    "vscode": {
     "languageId": "r"
    }
   },
   "outputs": [
    {
     "data": {
      "text/html": [
       "<table class=\"dataframe\">\n",
       "<caption>A tibble: 1 x 1</caption>\n",
       "<thead>\n",
       "\t<tr><th scope=col>n()</th></tr>\n",
       "\t<tr><th scope=col>&lt;int&gt;</th></tr>\n",
       "</thead>\n",
       "<tbody>\n",
       "\t<tr><td>6</td></tr>\n",
       "</tbody>\n",
       "</table>\n"
      ],
      "text/latex": [
       "A tibble: 1 x 1\n",
       "\\begin{tabular}{l}\n",
       " n()\\\\\n",
       " <int>\\\\\n",
       "\\hline\n",
       "\t 6\\\\\n",
       "\\end{tabular}\n"
      ],
      "text/markdown": [
       "\n",
       "A tibble: 1 x 1\n",
       "\n",
       "| n() &lt;int&gt; |\n",
       "|---|\n",
       "| 6 |\n",
       "\n"
      ],
      "text/plain": [
       "  n()\n",
       "1 6  "
      ]
     },
     "metadata": {},
     "output_type": "display_data"
    },
    {
     "data": {
      "text/html": [
       "<table class=\"dataframe\">\n",
       "<caption>A tibble: 6 x 2</caption>\n",
       "<thead>\n",
       "\t<tr><th scope=col>exam_subject</th><th scope=col>n()</th></tr>\n",
       "\t<tr><th scope=col>&lt;chr&gt;</th><th scope=col>&lt;int&gt;</th></tr>\n",
       "</thead>\n",
       "<tbody>\n",
       "\t<tr><td>Computer Networks   </td><td>186</td></tr>\n",
       "\t<tr><td>Data Bases          </td><td>190</td></tr>\n",
       "\t<tr><td>Formal Languages    </td><td>190</td></tr>\n",
       "\t<tr><td>Mathematics         </td><td>185</td></tr>\n",
       "\t<tr><td>OOP                 </td><td>196</td></tr>\n",
       "\t<tr><td>Software Engineering</td><td>190</td></tr>\n",
       "</tbody>\n",
       "</table>\n"
      ],
      "text/latex": [
       "A tibble: 6 x 2\n",
       "\\begin{tabular}{ll}\n",
       " exam\\_subject & n()\\\\\n",
       " <chr> & <int>\\\\\n",
       "\\hline\n",
       "\t Computer Networks    & 186\\\\\n",
       "\t Data Bases           & 190\\\\\n",
       "\t Formal Languages     & 190\\\\\n",
       "\t Mathematics          & 185\\\\\n",
       "\t OOP                  & 196\\\\\n",
       "\t Software Engineering & 190\\\\\n",
       "\\end{tabular}\n"
      ],
      "text/markdown": [
       "\n",
       "A tibble: 6 x 2\n",
       "\n",
       "| exam_subject &lt;chr&gt; | n() &lt;int&gt; |\n",
       "|---|---|\n",
       "| Computer Networks    | 186 |\n",
       "| Data Bases           | 190 |\n",
       "| Formal Languages     | 190 |\n",
       "| Mathematics          | 185 |\n",
       "| OOP                  | 196 |\n",
       "| Software Engineering | 190 |\n",
       "\n"
      ],
      "text/plain": [
       "  exam_subject         n()\n",
       "1 Computer Networks    186\n",
       "2 Data Bases           190\n",
       "3 Formal Languages     190\n",
       "4 Mathematics          185\n",
       "5 OOP                  196\n",
       "6 Software Engineering 190"
      ]
     },
     "metadata": {},
     "output_type": "display_data"
    }
   ],
   "source": [
    "anz.exams <- exam.data_separated %>% select(exam_subject) %>% unique() %>% summarise(n())\n",
    "anz.exams # 6\n",
    "anz.exams <- exam.data_separated %>% group_by(exam_subject) %>% summarise(n())\n",
    "anz.exams\n",
    "#6 x 2 <- but I think this is the oen that you want, because you need the names too."
   ]
  },
  {
   "cell_type": "code",
   "execution_count": 18,
   "metadata": {
    "vscode": {
     "languageId": "r"
    }
   },
   "outputs": [
    {
     "data": {
      "text/html": [
       "<table class=\"dataframe\">\n",
       "<caption>A tibble: 5 x 7</caption>\n",
       "<thead>\n",
       "\t<tr><th scope=col>grade</th><th scope=col>Computer Networks</th><th scope=col>Data Bases</th><th scope=col>Formal Languages</th><th scope=col>Mathematics</th><th scope=col>OOP</th><th scope=col>Software Engineering</th></tr>\n",
       "\t<tr><th scope=col>&lt;dbl&gt;</th><th scope=col>&lt;int&gt;</th><th scope=col>&lt;int&gt;</th><th scope=col>&lt;int&gt;</th><th scope=col>&lt;int&gt;</th><th scope=col>&lt;int&gt;</th><th scope=col>&lt;int&gt;</th></tr>\n",
       "</thead>\n",
       "<tbody>\n",
       "\t<tr><td>1</td><td> 6</td><td>10</td><td> 4</td><td> 4</td><td> 4</td><td> 1</td></tr>\n",
       "\t<tr><td>2</td><td> 8</td><td>12</td><td> 6</td><td>16</td><td>15</td><td>19</td></tr>\n",
       "\t<tr><td>3</td><td>58</td><td>46</td><td>57</td><td>43</td><td>62</td><td>57</td></tr>\n",
       "\t<tr><td>4</td><td>53</td><td>69</td><td>75</td><td>72</td><td>69</td><td>76</td></tr>\n",
       "\t<tr><td>5</td><td>61</td><td>53</td><td>48</td><td>50</td><td>46</td><td>37</td></tr>\n",
       "</tbody>\n",
       "</table>\n"
      ],
      "text/latex": [
       "A tibble: 5 x 7\n",
       "\\begin{tabular}{lllllll}\n",
       " grade & Computer Networks & Data Bases & Formal Languages & Mathematics & OOP & Software Engineering\\\\\n",
       " <dbl> & <int> & <int> & <int> & <int> & <int> & <int>\\\\\n",
       "\\hline\n",
       "\t 1 &  6 & 10 &  4 &  4 &  4 &  1\\\\\n",
       "\t 2 &  8 & 12 &  6 & 16 & 15 & 19\\\\\n",
       "\t 3 & 58 & 46 & 57 & 43 & 62 & 57\\\\\n",
       "\t 4 & 53 & 69 & 75 & 72 & 69 & 76\\\\\n",
       "\t 5 & 61 & 53 & 48 & 50 & 46 & 37\\\\\n",
       "\\end{tabular}\n"
      ],
      "text/markdown": [
       "\n",
       "A tibble: 5 x 7\n",
       "\n",
       "| grade &lt;dbl&gt; | Computer Networks &lt;int&gt; | Data Bases &lt;int&gt; | Formal Languages &lt;int&gt; | Mathematics &lt;int&gt; | OOP &lt;int&gt; | Software Engineering &lt;int&gt; |\n",
       "|---|---|---|---|---|---|---|\n",
       "| 1 |  6 | 10 |  4 |  4 |  4 |  1 |\n",
       "| 2 |  8 | 12 |  6 | 16 | 15 | 19 |\n",
       "| 3 | 58 | 46 | 57 | 43 | 62 | 57 |\n",
       "| 4 | 53 | 69 | 75 | 72 | 69 | 76 |\n",
       "| 5 | 61 | 53 | 48 | 50 | 46 | 37 |\n",
       "\n"
      ],
      "text/plain": [
       "  grade Computer Networks Data Bases Formal Languages Mathematics OOP\n",
       "1 1      6                10          4                4           4 \n",
       "2 2      8                12          6               16          15 \n",
       "3 3     58                46         57               43          62 \n",
       "4 4     53                69         75               72          69 \n",
       "5 5     61                53         48               50          46 \n",
       "  Software Engineering\n",
       "1  1                  \n",
       "2 19                  \n",
       "3 57                  \n",
       "4 76                  \n",
       "5 37                  "
      ]
     },
     "metadata": {},
     "output_type": "display_data"
    }
   ],
   "source": [
    "exam.data_separated <- exam.data_separated %>% mutate(\n",
    "grade = case_when( \n",
    "      score < 50 ~ 5, \n",
    "      score >= 50 & score < 65 ~ 4, \n",
    "      score >= 65 & score < 80 ~ 3, \n",
    "      score >= 80 & score < 90 ~ 2, \n",
    "      score >= 90 ~ 1\n",
    "    )\n",
    ")\n",
    "# calculate the absolute frequency of the grade. (is there a reltive freuency)\n",
    "exam.data_separated %>% count(exam_subject, grade) %>% spread(key = exam_subject, value = n)"
   ]
  },
  {
   "cell_type": "code",
   "execution_count": 19,
   "metadata": {
    "vscode": {
     "languageId": "r"
    }
   },
   "outputs": [
    {
     "data": {
      "text/html": [
       "<table class=\"dataframe\">\n",
       "<caption>A tibble: 7 x 6</caption>\n",
       "<thead>\n",
       "\t<tr><th scope=col>X</th><th scope=col>matriculation_number</th><th scope=col>exam_subject</th><th scope=col>attempt</th><th scope=col>score</th><th scope=col>grade</th></tr>\n",
       "\t<tr><th scope=col>&lt;int&gt;</th><th scope=col>&lt;chr&gt;</th><th scope=col>&lt;chr&gt;</th><th scope=col>&lt;int&gt;</th><th scope=col>&lt;int&gt;</th><th scope=col>&lt;dbl&gt;</th></tr>\n",
       "</thead>\n",
       "<tbody>\n",
       "\t<tr><td>1</td><td>516647</td><td>Mathematics      </td><td>1</td><td>75</td><td>3</td></tr>\n",
       "\t<tr><td>2</td><td>193841</td><td>Data Bases       </td><td>2</td><td>49</td><td>5</td></tr>\n",
       "\t<tr><td>3</td><td>326761</td><td>Computer Networks</td><td>2</td><td>75</td><td>3</td></tr>\n",
       "\t<tr><td>4</td><td>230275</td><td>Data Bases       </td><td>1</td><td>73</td><td>3</td></tr>\n",
       "\t<tr><td>5</td><td>911920</td><td>OOP              </td><td>1</td><td>55</td><td>4</td></tr>\n",
       "\t<tr><td>6</td><td>840873</td><td>Formal Languages </td><td>1</td><td>33</td><td>5</td></tr>\n",
       "\t<tr><td>7</td><td>473291</td><td>Mathematics      </td><td>2</td><td>56</td><td>4</td></tr>\n",
       "</tbody>\n",
       "</table>\n"
      ],
      "text/latex": [
       "A tibble: 7 x 6\n",
       "\\begin{tabular}{llllll}\n",
       " X & matriculation\\_number & exam\\_subject & attempt & score & grade\\\\\n",
       " <int> & <chr> & <chr> & <int> & <int> & <dbl>\\\\\n",
       "\\hline\n",
       "\t 1 & 516647 & Mathematics       & 1 & 75 & 3\\\\\n",
       "\t 2 & 193841 & Data Bases        & 2 & 49 & 5\\\\\n",
       "\t 3 & 326761 & Computer Networks & 2 & 75 & 3\\\\\n",
       "\t 4 & 230275 & Data Bases        & 1 & 73 & 3\\\\\n",
       "\t 5 & 911920 & OOP               & 1 & 55 & 4\\\\\n",
       "\t 6 & 840873 & Formal Languages  & 1 & 33 & 5\\\\\n",
       "\t 7 & 473291 & Mathematics       & 2 & 56 & 4\\\\\n",
       "\\end{tabular}\n"
      ],
      "text/markdown": [
       "\n",
       "A tibble: 7 x 6\n",
       "\n",
       "| X &lt;int&gt; | matriculation_number &lt;chr&gt; | exam_subject &lt;chr&gt; | attempt &lt;int&gt; | score &lt;int&gt; | grade &lt;dbl&gt; |\n",
       "|---|---|---|---|---|---|\n",
       "| 1 | 516647 | Mathematics       | 1 | 75 | 3 |\n",
       "| 2 | 193841 | Data Bases        | 2 | 49 | 5 |\n",
       "| 3 | 326761 | Computer Networks | 2 | 75 | 3 |\n",
       "| 4 | 230275 | Data Bases        | 1 | 73 | 3 |\n",
       "| 5 | 911920 | OOP               | 1 | 55 | 4 |\n",
       "| 6 | 840873 | Formal Languages  | 1 | 33 | 5 |\n",
       "| 7 | 473291 | Mathematics       | 2 | 56 | 4 |\n",
       "\n"
      ],
      "text/plain": [
       "  X matriculation_number exam_subject      attempt score grade\n",
       "1 1 516647               Mathematics       1       75    3    \n",
       "2 2 193841               Data Bases        2       49    5    \n",
       "3 3 326761               Computer Networks 2       75    3    \n",
       "4 4 230275               Data Bases        1       73    3    \n",
       "5 5 911920               OOP               1       55    4    \n",
       "6 6 840873               Formal Languages  1       33    5    \n",
       "7 7 473291               Mathematics       2       56    4    "
      ]
     },
     "metadata": {},
     "output_type": "display_data"
    }
   ],
   "source": [
    "head(exam.data_separated, 7)"
   ]
  },
  {
   "cell_type": "code",
   "execution_count": 20,
   "metadata": {
    "vscode": {
     "languageId": "r"
    }
   },
   "outputs": [
    {
     "data": {
      "text/html": [
       "<table class=\"dataframe\">\n",
       "<caption>A tibble: 6 x 9</caption>\n",
       "<thead>\n",
       "\t<tr><th scope=col>exam_subject</th><th scope=col>Min</th><th scope=col>Q1</th><th scope=col>Mean</th><th scope=col>Q2</th><th scope=col>Q3</th><th scope=col>Max</th><th scope=col>no.participants</th><th scope=col>dropout_rate</th></tr>\n",
       "\t<tr><th scope=col>&lt;chr&gt;</th><th scope=col>&lt;int&gt;</th><th scope=col>&lt;dbl&gt;</th><th scope=col>&lt;dbl&gt;</th><th scope=col>&lt;dbl&gt;</th><th scope=col>&lt;dbl&gt;</th><th scope=col>&lt;int&gt;</th><th scope=col>&lt;int&gt;</th><th scope=col>&lt;dbl&gt;</th></tr>\n",
       "</thead>\n",
       "<tbody>\n",
       "\t<tr><td>Computer Networks   </td><td>29</td><td>48.00</td><td>59.41398</td><td>60.0</td><td>70.75</td><td>108</td><td>186</td><td>0.3279570</td></tr>\n",
       "\t<tr><td>Data Bases          </td><td> 9</td><td>49.00</td><td>60.31579</td><td>59.5</td><td>71.00</td><td> 95</td><td>190</td><td>0.2789474</td></tr>\n",
       "\t<tr><td>Formal Languages    </td><td>18</td><td>49.25</td><td>58.90000</td><td>59.0</td><td>68.00</td><td> 97</td><td>190</td><td>0.2526316</td></tr>\n",
       "\t<tr><td>Mathematics         </td><td>19</td><td>49.00</td><td>58.61622</td><td>57.0</td><td>70.00</td><td>102</td><td>185</td><td>0.2702703</td></tr>\n",
       "\t<tr><td>OOP                 </td><td>22</td><td>50.00</td><td>60.34694</td><td>61.0</td><td>69.00</td><td>102</td><td>196</td><td>0.2346939</td></tr>\n",
       "\t<tr><td>Software Engineering</td><td>24</td><td>52.00</td><td>61.15263</td><td>60.0</td><td>71.75</td><td> 94</td><td>190</td><td>0.1947368</td></tr>\n",
       "</tbody>\n",
       "</table>\n"
      ],
      "text/latex": [
       "A tibble: 6 x 9\n",
       "\\begin{tabular}{lllllllll}\n",
       " exam\\_subject & Min & Q1 & Mean & Q2 & Q3 & Max & no.participants & dropout\\_rate\\\\\n",
       " <chr> & <int> & <dbl> & <dbl> & <dbl> & <dbl> & <int> & <int> & <dbl>\\\\\n",
       "\\hline\n",
       "\t Computer Networks    & 29 & 48.00 & 59.41398 & 60.0 & 70.75 & 108 & 186 & 0.3279570\\\\\n",
       "\t Data Bases           &  9 & 49.00 & 60.31579 & 59.5 & 71.00 &  95 & 190 & 0.2789474\\\\\n",
       "\t Formal Languages     & 18 & 49.25 & 58.90000 & 59.0 & 68.00 &  97 & 190 & 0.2526316\\\\\n",
       "\t Mathematics          & 19 & 49.00 & 58.61622 & 57.0 & 70.00 & 102 & 185 & 0.2702703\\\\\n",
       "\t OOP                  & 22 & 50.00 & 60.34694 & 61.0 & 69.00 & 102 & 196 & 0.2346939\\\\\n",
       "\t Software Engineering & 24 & 52.00 & 61.15263 & 60.0 & 71.75 &  94 & 190 & 0.1947368\\\\\n",
       "\\end{tabular}\n"
      ],
      "text/markdown": [
       "\n",
       "A tibble: 6 x 9\n",
       "\n",
       "| exam_subject &lt;chr&gt; | Min &lt;int&gt; | Q1 &lt;dbl&gt; | Mean &lt;dbl&gt; | Q2 &lt;dbl&gt; | Q3 &lt;dbl&gt; | Max &lt;int&gt; | no.participants &lt;int&gt; | dropout_rate &lt;dbl&gt; |\n",
       "|---|---|---|---|---|---|---|---|---|\n",
       "| Computer Networks    | 29 | 48.00 | 59.41398 | 60.0 | 70.75 | 108 | 186 | 0.3279570 |\n",
       "| Data Bases           |  9 | 49.00 | 60.31579 | 59.5 | 71.00 |  95 | 190 | 0.2789474 |\n",
       "| Formal Languages     | 18 | 49.25 | 58.90000 | 59.0 | 68.00 |  97 | 190 | 0.2526316 |\n",
       "| Mathematics          | 19 | 49.00 | 58.61622 | 57.0 | 70.00 | 102 | 185 | 0.2702703 |\n",
       "| OOP                  | 22 | 50.00 | 60.34694 | 61.0 | 69.00 | 102 | 196 | 0.2346939 |\n",
       "| Software Engineering | 24 | 52.00 | 61.15263 | 60.0 | 71.75 |  94 | 190 | 0.1947368 |\n",
       "\n"
      ],
      "text/plain": [
       "  exam_subject         Min Q1    Mean     Q2   Q3    Max no.participants\n",
       "1 Computer Networks    29  48.00 59.41398 60.0 70.75 108 186            \n",
       "2 Data Bases            9  49.00 60.31579 59.5 71.00  95 190            \n",
       "3 Formal Languages     18  49.25 58.90000 59.0 68.00  97 190            \n",
       "4 Mathematics          19  49.00 58.61622 57.0 70.00 102 185            \n",
       "5 OOP                  22  50.00 60.34694 61.0 69.00 102 196            \n",
       "6 Software Engineering 24  52.00 61.15263 60.0 71.75  94 190            \n",
       "  dropout_rate\n",
       "1 0.3279570   \n",
       "2 0.2789474   \n",
       "3 0.2526316   \n",
       "4 0.2702703   \n",
       "5 0.2346939   \n",
       "6 0.1947368   "
      ]
     },
     "metadata": {},
     "output_type": "display_data"
    }
   ],
   "source": [
    "# for each subject, determine the minimum, maximum, the three\n",
    "# quartiles, the mean of the variable score, the number of \n",
    "# partici-pants and the dropout rates.\n",
    "exam.data_separated <- exam.data_separated %>% mutate(\n",
    "    fail = ifelse(grade <= 4, 0, 1)\n",
    ")\n",
    "\n",
    "exam.data_separated %>% group_by(exam_subject) %>% summarise(\n",
    "    Min = min(score),\n",
    "    Q1 = quantile(score, probs = 0.25),\n",
    "    Mean = mean(score),\n",
    "    Q2 = quantile(score, probs = 0.5),\n",
    "    Q3 = quantile(score, probs = 0.75),\n",
    "    Max = max(score),\n",
    "    no.participants = n(),\n",
    "    dropout_rate = sum(fail)/no.participants\n",
    ") #for each subject the score"
   ]
  },
  {
   "cell_type": "code",
   "execution_count": 21,
   "metadata": {
    "vscode": {
     "languageId": "r"
    }
   },
   "outputs": [
    {
     "data": {
      "image/png": "[encoded data removed]",
      "text/plain": [
       "plot without title"
      ]
     },
     "metadata": {
      "image/png": {
       "height": 420,
       "width": 420
      }
     },
     "output_type": "display_data"
    }
   ],
   "source": [
    "boxplot(exam.data_separated$score ~ exam.data_separated$exam_subject)\n",
    "#Interpretation: the outcome is very equal between all exams. No anomalies."
   ]
  },
  {
   "cell_type": "code",
   "execution_count": 22,
   "metadata": {
    "vscode": {
     "languageId": "r"
    }
   },
   "outputs": [
    {
     "name": "stderr",
     "output_type": "stream",
     "text": [
      "Warning message in chisq.test(contingency_table):\n",
      "\"Chi-Quadrat-Approximation kann inkorrekt sein\"\n"
     ]
    },
    {
     "data": {
      "text/html": [
       "<table class=\"dataframe\">\n",
       "<caption>A table: 4 x 6 of type dbl</caption>\n",
       "<thead>\n",
       "\t<tr><th></th><th scope=col>1</th><th scope=col>2</th><th scope=col>3</th><th scope=col>4</th><th scope=col>5</th><th scope=col>Sum</th></tr>\n",
       "</thead>\n",
       "<tbody>\n",
       "\t<tr><th scope=row>1</th><td>14</td><td>49</td><td>206</td><td>226</td><td>184</td><td> 679</td></tr>\n",
       "\t<tr><th scope=row>2</th><td>14</td><td>21</td><td> 84</td><td>142</td><td> 84</td><td> 345</td></tr>\n",
       "\t<tr><th scope=row>3</th><td> 1</td><td> 6</td><td> 33</td><td> 46</td><td> 27</td><td> 113</td></tr>\n",
       "\t<tr><th scope=row>Sum</th><td>29</td><td>76</td><td>323</td><td>414</td><td>295</td><td>1137</td></tr>\n",
       "</tbody>\n",
       "</table>\n"
      ],
      "text/latex": [
       "A table: 4 x 6 of type dbl\n",
       "\\begin{tabular}{r|llllll}\n",
       "  & 1 & 2 & 3 & 4 & 5 & Sum\\\\\n",
       "\\hline\n",
       "\t1 & 14 & 49 & 206 & 226 & 184 &  679\\\\\n",
       "\t2 & 14 & 21 &  84 & 142 &  84 &  345\\\\\n",
       "\t3 &  1 &  6 &  33 &  46 &  27 &  113\\\\\n",
       "\tSum & 29 & 76 & 323 & 414 & 295 & 1137\\\\\n",
       "\\end{tabular}\n"
      ],
      "text/markdown": [
       "\n",
       "A table: 4 x 6 of type dbl\n",
       "\n",
       "| <!--/--> | 1 | 2 | 3 | 4 | 5 | Sum |\n",
       "|---|---|---|---|---|---|---|\n",
       "| 1 | 14 | 49 | 206 | 226 | 184 |  679 |\n",
       "| 2 | 14 | 21 |  84 | 142 |  84 |  345 |\n",
       "| 3 |  1 |  6 |  33 |  46 |  27 |  113 |\n",
       "| Sum | 29 | 76 | 323 | 414 | 295 | 1137 |\n",
       "\n"
      ],
      "text/plain": [
       "     \n",
       "      1  2  3   4   5   Sum \n",
       "  1   14 49 206 226 184  679\n",
       "  2   14 21  84 142  84  345\n",
       "  3    1  6  33  46  27  113\n",
       "  Sum 29 76 323 414 295 1137"
      ]
     },
     "metadata": {},
     "output_type": "display_data"
    },
    {
     "data": {
      "text/html": [
       "<table class=\"dataframe\">\n",
       "<caption>A matrix: 4 x 6 of type dbl</caption>\n",
       "<thead>\n",
       "\t<tr><th></th><th scope=col>1</th><th scope=col>2</th><th scope=col>3</th><th scope=col>4</th><th scope=col>5</th><th scope=col>Sum</th></tr>\n",
       "</thead>\n",
       "<tbody>\n",
       "\t<tr><th scope=row>1</th><td>17.318382</td><td>45.38610</td><td>192.89094</td><td>247.23483</td><td>176.16974</td><td> 679</td></tr>\n",
       "\t<tr><th scope=row>2</th><td> 8.799472</td><td>23.06069</td><td> 98.00792</td><td>125.62005</td><td> 89.51187</td><td> 345</td></tr>\n",
       "\t<tr><th scope=row>3</th><td> 2.882146</td><td> 7.55321</td><td> 32.10114</td><td> 41.14512</td><td> 29.31838</td><td> 113</td></tr>\n",
       "\t<tr><th scope=row>Sum</th><td>29.000000</td><td>76.00000</td><td>323.00000</td><td>414.00000</td><td>295.00000</td><td>1137</td></tr>\n",
       "</tbody>\n",
       "</table>\n"
      ],
      "text/latex": [
       "A matrix: 4 x 6 of type dbl\n",
       "\\begin{tabular}{r|llllll}\n",
       "  & 1 & 2 & 3 & 4 & 5 & Sum\\\\\n",
       "\\hline\n",
       "\t1 & 17.318382 & 45.38610 & 192.89094 & 247.23483 & 176.16974 &  679\\\\\n",
       "\t2 &  8.799472 & 23.06069 &  98.00792 & 125.62005 &  89.51187 &  345\\\\\n",
       "\t3 &  2.882146 &  7.55321 &  32.10114 &  41.14512 &  29.31838 &  113\\\\\n",
       "\tSum & 29.000000 & 76.00000 & 323.00000 & 414.00000 & 295.00000 & 1137\\\\\n",
       "\\end{tabular}\n"
      ],
      "text/markdown": [
       "\n",
       "A matrix: 4 x 6 of type dbl\n",
       "\n",
       "| <!--/--> | 1 | 2 | 3 | 4 | 5 | Sum |\n",
       "|---|---|---|---|---|---|---|\n",
       "| 1 | 17.318382 | 45.38610 | 192.89094 | 247.23483 | 176.16974 |  679 |\n",
       "| 2 |  8.799472 | 23.06069 |  98.00792 | 125.62005 |  89.51187 |  345 |\n",
       "| 3 |  2.882146 |  7.55321 |  32.10114 |  41.14512 |  29.31838 |  113 |\n",
       "| Sum | 29.000000 | 76.00000 | 323.00000 | 414.00000 | 295.00000 | 1137 |\n",
       "\n"
      ],
      "text/plain": [
       "     \n",
       "      1         2        3         4         5         Sum \n",
       "  1   17.318382 45.38610 192.89094 247.23483 176.16974  679\n",
       "  2    8.799472 23.06069  98.00792 125.62005  89.51187  345\n",
       "  3    2.882146  7.55321  32.10114  41.14512  29.31838  113\n",
       "  Sum 29.000000 76.00000 323.00000 414.00000 295.00000 1137"
      ]
     },
     "metadata": {},
     "output_type": "display_data"
    },
    {
     "name": "stderr",
     "output_type": "stream",
     "text": [
      "Warning message in chisq.test(exam.data_separated$attempt, exam.data_separated$grade):\n",
      "\"Chi-Quadrat-Approximation kann inkorrekt sein\"\n"
     ]
    },
    {
     "data": {
      "text/html": [
       "<strong>X-squared:</strong> 14.0512358182684"
      ],
      "text/latex": [
       "\\textbf{X-squared:} 14.0512358182684"
      ],
      "text/markdown": [
       "**X-squared:** 14.0512358182684"
      ],
      "text/plain": [
       "X-squared \n",
       " 14.05124 "
      ]
     },
     "metadata": {},
     "output_type": "display_data"
    }
   ],
   "source": [
    "# Create the contingency table\n",
    "contingency_table <- table(exam.data_separated$attempt, exam.data_separated$grade)\n",
    "chisq_test <- chisq.test(contingency_table)\n",
    "observation <- chisq_test$observed\n",
    "expectation <- chisq_test$expected\n",
    "\n",
    "observation %>% addmargins()\n",
    "expectation %>% addmargins()\n",
    "#addmargins simply adds sum values to the table at the bottom and at the side\n",
    "\n",
    "chi_squared_value_or_x_squared_value <-\n",
    " chisq.test(exam.data_separated$attempt, exam.data_separated$grade)$statistic\n",
    "chi_squared_value_or_x_squared_value"
   ]
  },
  {
   "cell_type": "code",
   "execution_count": 23,
   "metadata": {
    "vscode": {
     "languageId": "r"
    }
   },
   "outputs": [
    {
     "name": "stdout",
     "output_type": "stream",
     "text": [
      "Rows: 205\n",
      "Columns: 7\n",
      "$ time      \u001b[3m\u001b[90m<int>\u001b[39m\u001b[23m 10, 30, 35, 99, 185, 204, 210, 232, 232, 279, 295, 355, 386,~\n",
      "$ status    \u001b[3m\u001b[90m<int>\u001b[39m\u001b[23m 3, 3, 2, 3, 1, 1, 1, 3, 1, 1, 1, 3, 1, 1, 1, 3, 1, 1, 1, 1, ~\n",
      "$ sex       \u001b[3m\u001b[90m<int>\u001b[39m\u001b[23m 1, 1, 1, 0, 1, 1, 1, 0, 1, 0, 0, 0, 0, 1, 0, 1, 1, 1, 1, 1, ~\n",
      "$ age       \u001b[3m\u001b[90m<int>\u001b[39m\u001b[23m 76, 56, 41, 71, 52, 28, 77, 60, 49, 68, 53, 64, 68, 63, 14, ~\n",
      "$ year      \u001b[3m\u001b[90m<int>\u001b[39m\u001b[23m 1972, 1968, 1977, 1968, 1965, 1971, 1972, 1974, 1968, 1971, ~\n",
      "$ thickness \u001b[3m\u001b[90m<dbl>\u001b[39m\u001b[23m 6.76, 0.65, 1.34, 2.90, 12.08, 4.84, 5.16, 3.22, 12.88, 7.41~\n",
      "$ ulcer     \u001b[3m\u001b[90m<int>\u001b[39m\u001b[23m 1, 0, 0, 0, 1, 1, 1, 1, 1, 1, 1, 1, 1, 1, 1, 1, 1, 1, 1, 1, ~\n"
     ]
    }
   ],
   "source": [
    "melanoma <- read.csv(\"melanoma.csv\")\n",
    "glimpse(melanoma)\n",
    "\n",
    "# qualitative \n",
    "#   nominal (gender, skin color, matrikelnumber)\n",
    "\n",
    "# quantitative \n",
    "#   ratio (semester, amount of passed courses)\n",
    "#   ordinal (score or anthing that can have a decimal number?)"
   ]
  },
  {
   "cell_type": "code",
   "execution_count": 24,
   "metadata": {
    "vscode": {
     "languageId": "r"
    }
   },
   "outputs": [],
   "source": [
    "# (b)\n",
    "# time: quantiative, discrete, absolute\n",
    "# status: qualitative, discrete, nominal\n",
    "# sex : qualitative ,discrete nominal\n",
    "# age : quantitative , discrete absolute\n",
    "# year: quantitative , discrete, interval\n",
    "# thickness: quantitative, continious, ratio\n",
    "# ulcer : qualtitative, discrete, nominal"
   ]
  },
  {
   "attachments": {},
   "cell_type": "markdown",
   "metadata": {},
   "source": [
    "nature, type, scale\n",
    "\n",
    "1. **Nominal Scale:**\n",
    "   - Represents qualitative data where categories are used to label or classify items.\n",
    "   - Categories have no inherent order or ranking.\n",
    "   - Examples: Gender (male, female), Eye color (blue, brown, green).\n",
    "\n",
    "2. **Ordinal Scale:**\n",
    "   - Represents qualitative or quantitative data where categories or values have a meaningful order or ranking.\n",
    "   - Intervals between values may not be uniform or meaningful.\n",
    "   - Examples: Education level (high school, bachelor's, master's, PhD), Likert scale (strongly agree, agree, neutral, disagree, strongly disagree).\n",
    "\n",
    "3. **Interval Scale:**\n",
    "   - Represents quantitative data where intervals between values are meaningful and consistent.\n",
    "   - There is no true zero point, and ratios between values are not meaningful.\n",
    "   - Examples: Temperature in Celsius or Fahrenheit, Years (e.g., 2020, 2021, 2022).\n",
    "\n",
    "4. **Ratio Scale:**\n",
    "   - Represents quantitative data where intervals between values are meaningful and consistent.\n",
    "   - There is a true zero point, and ratios between values are meaningful.\n",
    "   - Examples: Height, Weight, Age, Money (e.g., $0 represents no money).\n",
    "\n",
    "These scales provide a framework for understanding the level of measurement and the properties of the data. Depending on the scale, different statistical analyses and interpretations may be appropriate.\n"
   ]
  },
  {
   "cell_type": "code",
   "execution_count": 25,
   "metadata": {
    "vscode": {
     "languageId": "r"
    }
   },
   "outputs": [
    {
     "data": {
      "text/html": [
       "<table class=\"dataframe\">\n",
       "<caption>A data.frame: 10 x 7</caption>\n",
       "<thead>\n",
       "\t<tr><th scope=col>time</th><th scope=col>status</th><th scope=col>sex</th><th scope=col>age</th><th scope=col>year</th><th scope=col>thickness</th><th scope=col>ulcer</th></tr>\n",
       "\t<tr><th scope=col>&lt;int&gt;</th><th scope=col>&lt;int&gt;</th><th scope=col>&lt;int&gt;</th><th scope=col>&lt;int&gt;</th><th scope=col>&lt;int&gt;</th><th scope=col>&lt;dbl&gt;</th><th scope=col>&lt;int&gt;</th></tr>\n",
       "</thead>\n",
       "<tbody>\n",
       "\t<tr><td> 10</td><td>3</td><td>1</td><td>76</td><td>1972</td><td> 6.76</td><td>1</td></tr>\n",
       "\t<tr><td> 30</td><td>3</td><td>1</td><td>56</td><td>1968</td><td> 0.65</td><td>0</td></tr>\n",
       "\t<tr><td> 35</td><td>2</td><td>1</td><td>41</td><td>1977</td><td> 1.34</td><td>0</td></tr>\n",
       "\t<tr><td> 99</td><td>3</td><td>0</td><td>71</td><td>1968</td><td> 2.90</td><td>0</td></tr>\n",
       "\t<tr><td>185</td><td>1</td><td>1</td><td>52</td><td>1965</td><td>12.08</td><td>1</td></tr>\n",
       "\t<tr><td>204</td><td>1</td><td>1</td><td>28</td><td>1971</td><td> 4.84</td><td>1</td></tr>\n",
       "\t<tr><td>210</td><td>1</td><td>1</td><td>77</td><td>1972</td><td> 5.16</td><td>1</td></tr>\n",
       "\t<tr><td>232</td><td>3</td><td>0</td><td>60</td><td>1974</td><td> 3.22</td><td>1</td></tr>\n",
       "\t<tr><td>232</td><td>1</td><td>1</td><td>49</td><td>1968</td><td>12.88</td><td>1</td></tr>\n",
       "\t<tr><td>279</td><td>1</td><td>0</td><td>68</td><td>1971</td><td> 7.41</td><td>1</td></tr>\n",
       "</tbody>\n",
       "</table>\n"
      ],
      "text/latex": [
       "A data.frame: 10 x 7\n",
       "\\begin{tabular}{lllllll}\n",
       " time & status & sex & age & year & thickness & ulcer\\\\\n",
       " <int> & <int> & <int> & <int> & <int> & <dbl> & <int>\\\\\n",
       "\\hline\n",
       "\t  10 & 3 & 1 & 76 & 1972 &  6.76 & 1\\\\\n",
       "\t  30 & 3 & 1 & 56 & 1968 &  0.65 & 0\\\\\n",
       "\t  35 & 2 & 1 & 41 & 1977 &  1.34 & 0\\\\\n",
       "\t  99 & 3 & 0 & 71 & 1968 &  2.90 & 0\\\\\n",
       "\t 185 & 1 & 1 & 52 & 1965 & 12.08 & 1\\\\\n",
       "\t 204 & 1 & 1 & 28 & 1971 &  4.84 & 1\\\\\n",
       "\t 210 & 1 & 1 & 77 & 1972 &  5.16 & 1\\\\\n",
       "\t 232 & 3 & 0 & 60 & 1974 &  3.22 & 1\\\\\n",
       "\t 232 & 1 & 1 & 49 & 1968 & 12.88 & 1\\\\\n",
       "\t 279 & 1 & 0 & 68 & 1971 &  7.41 & 1\\\\\n",
       "\\end{tabular}\n"
      ],
      "text/markdown": [
       "\n",
       "A data.frame: 10 x 7\n",
       "\n",
       "| time &lt;int&gt; | status &lt;int&gt; | sex &lt;int&gt; | age &lt;int&gt; | year &lt;int&gt; | thickness &lt;dbl&gt; | ulcer &lt;int&gt; |\n",
       "|---|---|---|---|---|---|---|\n",
       "|  10 | 3 | 1 | 76 | 1972 |  6.76 | 1 |\n",
       "|  30 | 3 | 1 | 56 | 1968 |  0.65 | 0 |\n",
       "|  35 | 2 | 1 | 41 | 1977 |  1.34 | 0 |\n",
       "|  99 | 3 | 0 | 71 | 1968 |  2.90 | 0 |\n",
       "| 185 | 1 | 1 | 52 | 1965 | 12.08 | 1 |\n",
       "| 204 | 1 | 1 | 28 | 1971 |  4.84 | 1 |\n",
       "| 210 | 1 | 1 | 77 | 1972 |  5.16 | 1 |\n",
       "| 232 | 3 | 0 | 60 | 1974 |  3.22 | 1 |\n",
       "| 232 | 1 | 1 | 49 | 1968 | 12.88 | 1 |\n",
       "| 279 | 1 | 0 | 68 | 1971 |  7.41 | 1 |\n",
       "\n"
      ],
      "text/plain": [
       "   time status sex age year thickness ulcer\n",
       "1   10  3      1   76  1972  6.76     1    \n",
       "2   30  3      1   56  1968  0.65     0    \n",
       "3   35  2      1   41  1977  1.34     0    \n",
       "4   99  3      0   71  1968  2.90     0    \n",
       "5  185  1      1   52  1965 12.08     1    \n",
       "6  204  1      1   28  1971  4.84     1    \n",
       "7  210  1      1   77  1972  5.16     1    \n",
       "8  232  3      0   60  1974  3.22     1    \n",
       "9  232  1      1   49  1968 12.88     1    \n",
       "10 279  1      0   68  1971  7.41     1    "
      ]
     },
     "metadata": {},
     "output_type": "display_data"
    }
   ],
   "source": [
    "melanoma%>%slice(1:10)"
   ]
  },
  {
   "attachments": {},
   "cell_type": "markdown",
   "metadata": {},
   "source": [
    "2) A biased coin (head with probability 1/3) is tossed. If the coins shows tail a fair die is rolled 5 times \n",
    "and if the coin shows head a biased die (6 with probability 0.4) is rolled 5 times. The number of sixes \n",
    "are counted. \n",
    "a) Determine the density of the random X which counts the number of sixes."
   ]
  },
  {
   "cell_type": "code",
   "execution_count": 26,
   "metadata": {
    "vscode": {
     "languageId": "r"
    }
   },
   "outputs": [
    {
     "data": {
      "text/html": [
       "<table class=\"dataframe\">\n",
       "<caption>A data.frame: 10 x 8</caption>\n",
       "<thead>\n",
       "\t<tr><th scope=col>time</th><th scope=col>status</th><th scope=col>sex</th><th scope=col>age</th><th scope=col>year</th><th scope=col>thickness</th><th scope=col>ulcer</th><th scope=col>live.status</th></tr>\n",
       "\t<tr><th scope=col>&lt;int&gt;</th><th scope=col>&lt;chr&gt;</th><th scope=col>&lt;chr&gt;</th><th scope=col>&lt;int&gt;</th><th scope=col>&lt;int&gt;</th><th scope=col>&lt;dbl&gt;</th><th scope=col>&lt;chr&gt;</th><th scope=col>&lt;chr&gt;</th></tr>\n",
       "</thead>\n",
       "<tbody>\n",
       "\t<tr><td> 10</td><td>unrelated</td><td>male  </td><td>76</td><td>1972</td><td> 6.76</td><td>present</td><td>dead </td></tr>\n",
       "\t<tr><td> 30</td><td>unrelated</td><td>male  </td><td>56</td><td>1968</td><td> 0.65</td><td>absent </td><td>dead </td></tr>\n",
       "\t<tr><td> 35</td><td>alive    </td><td>male  </td><td>41</td><td>1977</td><td> 1.34</td><td>absent </td><td>alive</td></tr>\n",
       "\t<tr><td> 99</td><td>unrelated</td><td>female</td><td>71</td><td>1968</td><td> 2.90</td><td>absent </td><td>dead </td></tr>\n",
       "\t<tr><td>185</td><td>died     </td><td>male  </td><td>52</td><td>1965</td><td>12.08</td><td>present</td><td>dead </td></tr>\n",
       "\t<tr><td>204</td><td>died     </td><td>male  </td><td>28</td><td>1971</td><td> 4.84</td><td>present</td><td>dead </td></tr>\n",
       "\t<tr><td>210</td><td>died     </td><td>male  </td><td>77</td><td>1972</td><td> 5.16</td><td>present</td><td>dead </td></tr>\n",
       "\t<tr><td>232</td><td>unrelated</td><td>female</td><td>60</td><td>1974</td><td> 3.22</td><td>present</td><td>dead </td></tr>\n",
       "\t<tr><td>232</td><td>died     </td><td>male  </td><td>49</td><td>1968</td><td>12.88</td><td>present</td><td>dead </td></tr>\n",
       "\t<tr><td>279</td><td>died     </td><td>female</td><td>68</td><td>1971</td><td> 7.41</td><td>present</td><td>dead </td></tr>\n",
       "</tbody>\n",
       "</table>\n"
      ],
      "text/latex": [
       "A data.frame: 10 x 8\n",
       "\\begin{tabular}{llllllll}\n",
       " time & status & sex & age & year & thickness & ulcer & live.status\\\\\n",
       " <int> & <chr> & <chr> & <int> & <int> & <dbl> & <chr> & <chr>\\\\\n",
       "\\hline\n",
       "\t  10 & unrelated & male   & 76 & 1972 &  6.76 & present & dead \\\\\n",
       "\t  30 & unrelated & male   & 56 & 1968 &  0.65 & absent  & dead \\\\\n",
       "\t  35 & alive     & male   & 41 & 1977 &  1.34 & absent  & alive\\\\\n",
       "\t  99 & unrelated & female & 71 & 1968 &  2.90 & absent  & dead \\\\\n",
       "\t 185 & died      & male   & 52 & 1965 & 12.08 & present & dead \\\\\n",
       "\t 204 & died      & male   & 28 & 1971 &  4.84 & present & dead \\\\\n",
       "\t 210 & died      & male   & 77 & 1972 &  5.16 & present & dead \\\\\n",
       "\t 232 & unrelated & female & 60 & 1974 &  3.22 & present & dead \\\\\n",
       "\t 232 & died      & male   & 49 & 1968 & 12.88 & present & dead \\\\\n",
       "\t 279 & died      & female & 68 & 1971 &  7.41 & present & dead \\\\\n",
       "\\end{tabular}\n"
      ],
      "text/markdown": [
       "\n",
       "A data.frame: 10 x 8\n",
       "\n",
       "| time &lt;int&gt; | status &lt;chr&gt; | sex &lt;chr&gt; | age &lt;int&gt; | year &lt;int&gt; | thickness &lt;dbl&gt; | ulcer &lt;chr&gt; | live.status &lt;chr&gt; |\n",
       "|---|---|---|---|---|---|---|---|\n",
       "|  10 | unrelated | male   | 76 | 1972 |  6.76 | present | dead  |\n",
       "|  30 | unrelated | male   | 56 | 1968 |  0.65 | absent  | dead  |\n",
       "|  35 | alive     | male   | 41 | 1977 |  1.34 | absent  | alive |\n",
       "|  99 | unrelated | female | 71 | 1968 |  2.90 | absent  | dead  |\n",
       "| 185 | died      | male   | 52 | 1965 | 12.08 | present | dead  |\n",
       "| 204 | died      | male   | 28 | 1971 |  4.84 | present | dead  |\n",
       "| 210 | died      | male   | 77 | 1972 |  5.16 | present | dead  |\n",
       "| 232 | unrelated | female | 60 | 1974 |  3.22 | present | dead  |\n",
       "| 232 | died      | male   | 49 | 1968 | 12.88 | present | dead  |\n",
       "| 279 | died      | female | 68 | 1971 |  7.41 | present | dead  |\n",
       "\n"
      ],
      "text/plain": [
       "   time status    sex    age year thickness ulcer   live.status\n",
       "1   10  unrelated male   76  1972  6.76     present dead       \n",
       "2   30  unrelated male   56  1968  0.65     absent  dead       \n",
       "3   35  alive     male   41  1977  1.34     absent  alive      \n",
       "4   99  unrelated female 71  1968  2.90     absent  dead       \n",
       "5  185  died      male   52  1965 12.08     present dead       \n",
       "6  204  died      male   28  1971  4.84     present dead       \n",
       "7  210  died      male   77  1972  5.16     present dead       \n",
       "8  232  unrelated female 60  1974  3.22     present dead       \n",
       "9  232  died      male   49  1968 12.88     present dead       \n",
       "10 279  died      female 68  1971  7.41     present dead       "
      ]
     },
     "metadata": {},
     "output_type": "display_data"
    }
   ],
   "source": [
    "# (c)\n",
    "melanoma <- melanoma %>% mutate(  \n",
    "          sex=if_else(sex==1,'male','female'), # sex in string\n",
    "          ulcer=if_else(ulcer==1,'present','absent'), # ulcer in string\n",
    "          live.status=if_else(status==2,'alive','dead'), # create new variable live.status\n",
    "          status=case_when(status==1~'died',status==2~'alive',status==3~'unrelated')\n",
    "        )\n",
    "melanoma %>% slice(1:10)"
   ]
  },
  {
   "cell_type": "code",
   "execution_count": 27,
   "metadata": {
    "vscode": {
     "languageId": "r"
    }
   },
   "outputs": [
    {
     "data": {
      "text/html": [
       "<table class=\"dataframe\">\n",
       "<caption>A table: 3 x 3 of type dbl</caption>\n",
       "<thead>\n",
       "\t<tr><th></th><th scope=col>alive</th><th scope=col>dead</th><th scope=col>Sum</th></tr>\n",
       "</thead>\n",
       "<tbody>\n",
       "\t<tr><th scope=row>female</th><td> 91</td><td>35</td><td>126</td></tr>\n",
       "\t<tr><th scope=row>male</th><td> 43</td><td>36</td><td> 79</td></tr>\n",
       "\t<tr><th scope=row>Sum</th><td>134</td><td>71</td><td>205</td></tr>\n",
       "</tbody>\n",
       "</table>\n"
      ],
      "text/latex": [
       "A table: 3 x 3 of type dbl\n",
       "\\begin{tabular}{r|lll}\n",
       "  & alive & dead & Sum\\\\\n",
       "\\hline\n",
       "\tfemale &  91 & 35 & 126\\\\\n",
       "\tmale &  43 & 36 &  79\\\\\n",
       "\tSum & 134 & 71 & 205\\\\\n",
       "\\end{tabular}\n"
      ],
      "text/markdown": [
       "\n",
       "A table: 3 x 3 of type dbl\n",
       "\n",
       "| <!--/--> | alive | dead | Sum |\n",
       "|---|---|---|---|\n",
       "| female |  91 | 35 | 126 |\n",
       "| male |  43 | 36 |  79 |\n",
       "| Sum | 134 | 71 | 205 |\n",
       "\n"
      ],
      "text/plain": [
       "        \n",
       "         alive dead Sum\n",
       "  female  91   35   126\n",
       "  male    43   36    79\n",
       "  Sum    134   71   205"
      ]
     },
     "metadata": {},
     "output_type": "display_data"
    }
   ],
   "source": [
    "# (d) contingency table\n",
    "table(melanoma$sex,melanoma$live.status) %>% addmargins()"
   ]
  },
  {
   "cell_type": "code",
   "execution_count": 28,
   "metadata": {
    "vscode": {
     "languageId": "r"
    }
   },
   "outputs": [
    {
     "name": "stderr",
     "output_type": "stream",
     "text": [
      "\u001b[1m\u001b[22m`summarise()` has grouped output by 'sex'. You can override using the `.groups`\n",
      "argument.\n"
     ]
    },
    {
     "data": {
      "text/html": [
       "<table class=\"dataframe\">\n",
       "<caption>A grouped_df: 4 x 4</caption>\n",
       "<thead>\n",
       "\t<tr><th scope=col>sex</th><th scope=col>live.status</th><th scope=col>count</th><th scope=col>absolute_risk</th></tr>\n",
       "\t<tr><th scope=col>&lt;chr&gt;</th><th scope=col>&lt;chr&gt;</th><th scope=col>&lt;int&gt;</th><th scope=col>&lt;dbl&gt;</th></tr>\n",
       "</thead>\n",
       "<tbody>\n",
       "\t<tr><td>female</td><td>alive</td><td>91</td><td>0.8272727</td></tr>\n",
       "\t<tr><td>female</td><td>dead </td><td>19</td><td>0.1727273</td></tr>\n",
       "\t<tr><td>male  </td><td>alive</td><td>42</td><td>0.7368421</td></tr>\n",
       "\t<tr><td>male  </td><td>dead </td><td>15</td><td>0.2631579</td></tr>\n",
       "</tbody>\n",
       "</table>\n"
      ],
      "text/latex": [
       "A grouped\\_df: 4 x 4\n",
       "\\begin{tabular}{llll}\n",
       " sex & live.status & count & absolute\\_risk\\\\\n",
       " <chr> & <chr> & <int> & <dbl>\\\\\n",
       "\\hline\n",
       "\t female & alive & 91 & 0.8272727\\\\\n",
       "\t female & dead  & 19 & 0.1727273\\\\\n",
       "\t male   & alive & 42 & 0.7368421\\\\\n",
       "\t male   & dead  & 15 & 0.2631579\\\\\n",
       "\\end{tabular}\n"
      ],
      "text/markdown": [
       "\n",
       "A grouped_df: 4 x 4\n",
       "\n",
       "| sex &lt;chr&gt; | live.status &lt;chr&gt; | count &lt;int&gt; | absolute_risk &lt;dbl&gt; |\n",
       "|---|---|---|---|\n",
       "| female | alive | 91 | 0.8272727 |\n",
       "| female | dead  | 19 | 0.1727273 |\n",
       "| male   | alive | 42 | 0.7368421 |\n",
       "| male   | dead  | 15 | 0.2631579 |\n",
       "\n"
      ],
      "text/plain": [
       "  sex    live.status count absolute_risk\n",
       "1 female alive       91    0.8272727    \n",
       "2 female dead        19    0.1727273    \n",
       "3 male   alive       42    0.7368421    \n",
       "4 male   dead        15    0.2631579    "
      ]
     },
     "metadata": {},
     "output_type": "display_data"
    },
    {
     "data": {
      "text/html": [
       "<table class=\"dataframe\">\n",
       "<caption>A table: 3 x 3 of type dbl</caption>\n",
       "<thead>\n",
       "\t<tr><th></th><th scope=col>alive</th><th scope=col>dead</th><th scope=col>Sum</th></tr>\n",
       "</thead>\n",
       "<tbody>\n",
       "\t<tr><th scope=row>female</th><td> 91</td><td>19</td><td>110</td></tr>\n",
       "\t<tr><th scope=row>male</th><td> 42</td><td>15</td><td> 57</td></tr>\n",
       "\t<tr><th scope=row>Sum</th><td>133</td><td>34</td><td>167</td></tr>\n",
       "</tbody>\n",
       "</table>\n"
      ],
      "text/latex": [
       "A table: 3 x 3 of type dbl\n",
       "\\begin{tabular}{r|lll}\n",
       "  & alive & dead & Sum\\\\\n",
       "\\hline\n",
       "\tfemale &  91 & 19 & 110\\\\\n",
       "\tmale &  42 & 15 &  57\\\\\n",
       "\tSum & 133 & 34 & 167\\\\\n",
       "\\end{tabular}\n"
      ],
      "text/markdown": [
       "\n",
       "A table: 3 x 3 of type dbl\n",
       "\n",
       "| <!--/--> | alive | dead | Sum |\n",
       "|---|---|---|---|\n",
       "| female |  91 | 19 | 110 |\n",
       "| male |  42 | 15 |  57 |\n",
       "| Sum | 133 | 34 | 167 |\n",
       "\n"
      ],
      "text/plain": [
       "        \n",
       "         alive dead Sum\n",
       "  female  91   19   110\n",
       "  male    42   15    57\n",
       "  Sum    133   34   167"
      ]
     },
     "metadata": {},
     "output_type": "display_data"
    }
   ],
   "source": [
    "# (e) evaluate risks\n",
    "# Filter data for at least 3 years survival\n",
    "time_at_least_three_year <- melanoma %>% filter(time >= 3 * 365)\n",
    "\n",
    "# Risks for each group, one way\n",
    "time_at_least_three_year %>%\n",
    "  group_by(sex, live.status) %>%\n",
    "  summarise(count = n()) %>%\n",
    "  mutate(absolute_risk = count / sum(count))\n",
    "\n",
    "# Risks for each group, another way:\n",
    "# survive at least 3 years for the variable sex and interpret the values.\n",
    "table(time_at_least_three_year$sex,time_at_least_three_year$live.status) %>% addmargins()\n",
    "\n"
   ]
  },
  {
   "cell_type": "code",
   "execution_count": 29,
   "metadata": {
    "vscode": {
     "languageId": "r"
    }
   },
   "outputs": [
    {
     "data": {
      "text/html": [
       "0.827272727272727"
      ],
      "text/latex": [
       "0.827272727272727"
      ],
      "text/markdown": [
       "0.827272727272727"
      ],
      "text/plain": [
       "[1] 0.8272727"
      ]
     },
     "metadata": {},
     "output_type": "display_data"
    },
    {
     "data": {
      "text/html": [
       "0.736842105263158"
      ],
      "text/latex": [
       "0.736842105263158"
      ],
      "text/markdown": [
       "0.736842105263158"
      ],
      "text/plain": [
       "[1] 0.7368421"
      ]
     },
     "metadata": {},
     "output_type": "display_data"
    },
    {
     "data": {
      "text/html": [
       "1.12272727272727"
      ],
      "text/latex": [
       "1.12272727272727"
      ],
      "text/markdown": [
       "1.12272727272727"
      ],
      "text/plain": [
       "[1] 1.122727"
      ]
     },
     "metadata": {},
     "output_type": "display_data"
    }
   ],
   "source": [
    "# relative risks for female\n",
    "# alive -> outcome, female,male->exposure\n",
    "#relative risk female\n",
    "91/(91+19) # women have a chance of 82% to survive atleast 3 years\n",
    "#relative risk male\n",
    "42/(42+15) # men have a chance of 73% to survive atleast 3 years\n",
    "# proportion between female and male\n",
    "(91/(91+19))/(42/(42+15)) # 1.12\n",
    "# interpretation: females have 1.12 higher risk to survive at least 3 years"
   ]
  },
  {
   "cell_type": "code",
   "execution_count": 30,
   "metadata": {
    "vscode": {
     "languageId": "r"
    }
   },
   "outputs": [
    {
     "name": "stdout",
     "output_type": "stream",
     "text": [
      "Absolute risk in Group A: 0.1 \n"
     ]
    },
    {
     "name": "stdout",
     "output_type": "stream",
     "text": [
      "Absolute risk in Group B: 0.2 \n",
      "Relative risk (Group A vs. Group B): 0.4444444 \n"
     ]
    }
   ],
   "source": [
    "# Example explainaing relative and absolute risk\n",
    "\n",
    "# Example data\n",
    "group_a <- c(10, 90)  # Number of individuals with and without disease in Group A\n",
    "group_b <- c(20, 80)  # Number of individuals with and without disease in Group B\n",
    "\n",
    "# Calculate absolute risk for each group\n",
    "absolute_risk_a <- group_a[1] / sum(group_a)  # Absolute risk in Group A\n",
    "absolute_risk_b <- group_b[1] / sum(group_b)  # Absolute risk in Group B\n",
    "\n",
    "# Calculate relative risk\n",
    "relative_risk <- (group_a[1] / group_a[2]) / (group_b[1] / group_b[2])\n",
    "\n",
    "# Print results\n",
    "cat(\"Absolute risk in Group A:\", absolute_risk_a, \"\\n\")\n",
    "cat(\"Absolute risk in Group B:\", absolute_risk_b, \"\\n\")\n",
    "cat(\"Relative risk (Group A vs. Group B):\", relative_risk, \"\\n\")\n"
   ]
  },
  {
   "cell_type": "code",
   "execution_count": 31,
   "metadata": {
    "vscode": {
     "languageId": "r"
    }
   },
   "outputs": [
    {
     "data": {
      "text/html": [
       "<table class=\"dataframe\">\n",
       "<caption>A tibble: 2 x 7</caption>\n",
       "<thead>\n",
       "\t<tr><th scope=col>sex</th><th scope=col>min</th><th scope=col>max</th><th scope=col>mean</th><th scope=col>q1</th><th scope=col>q2</th><th scope=col>q3</th></tr>\n",
       "\t<tr><th scope=col>&lt;chr&gt;</th><th scope=col>&lt;int&gt;</th><th scope=col>&lt;int&gt;</th><th scope=col>&lt;dbl&gt;</th><th scope=col>&lt;dbl&gt;</th><th scope=col>&lt;dbl&gt;</th><th scope=col>&lt;dbl&gt;</th></tr>\n",
       "</thead>\n",
       "<tbody>\n",
       "\t<tr><td>female</td><td> 4</td><td>89</td><td>51.56349</td><td>42.0</td><td>54</td><td>64.75</td></tr>\n",
       "\t<tr><td>male  </td><td>12</td><td>95</td><td>53.89873</td><td>43.5</td><td>55</td><td>66.50</td></tr>\n",
       "</tbody>\n",
       "</table>\n"
      ],
      "text/latex": [
       "A tibble: 2 x 7\n",
       "\\begin{tabular}{lllllll}\n",
       " sex & min & max & mean & q1 & q2 & q3\\\\\n",
       " <chr> & <int> & <int> & <dbl> & <dbl> & <dbl> & <dbl>\\\\\n",
       "\\hline\n",
       "\t female &  4 & 89 & 51.56349 & 42.0 & 54 & 64.75\\\\\n",
       "\t male   & 12 & 95 & 53.89873 & 43.5 & 55 & 66.50\\\\\n",
       "\\end{tabular}\n"
      ],
      "text/markdown": [
       "\n",
       "A tibble: 2 x 7\n",
       "\n",
       "| sex &lt;chr&gt; | min &lt;int&gt; | max &lt;int&gt; | mean &lt;dbl&gt; | q1 &lt;dbl&gt; | q2 &lt;dbl&gt; | q3 &lt;dbl&gt; |\n",
       "|---|---|---|---|---|---|---|\n",
       "| female |  4 | 89 | 51.56349 | 42.0 | 54 | 64.75 |\n",
       "| male   | 12 | 95 | 53.89873 | 43.5 | 55 | 66.50 |\n",
       "\n"
      ],
      "text/plain": [
       "  sex    min max mean     q1   q2 q3   \n",
       "1 female  4  89  51.56349 42.0 54 64.75\n",
       "2 male   12  95  53.89873 43.5 55 66.50"
      ]
     },
     "metadata": {},
     "output_type": "display_data"
    }
   ],
   "source": [
    "# (f) Create a summary describing the\n",
    "# distribution of the variable age depending on the variable sex.\n",
    "# containing\n",
    "# min, max, mean,\n",
    "# the three quartiles\n",
    "\n",
    "df_boxplot <- melanoma %>% group_by(sex) %>% summarise(\n",
    "          min=min(age),\n",
    "          max=max(age),\n",
    "          mean=mean(age),\n",
    "          q1=quantile(age,probs = 0.25),\n",
    "          q2=quantile(age,probs = 0.5),\n",
    "          q3=quantile(age,probs = 0.75)\n",
    "        )\n",
    "df_boxplot"
   ]
  },
  {
   "cell_type": "code",
   "execution_count": 32,
   "metadata": {
    "vscode": {
     "languageId": "r"
    }
   },
   "outputs": [
    {
     "data": {
      "image/png": "[encoded data removed]",
      "text/plain": [
       "plot without title"
      ]
     },
     "metadata": {
      "image/png": {
       "height": 420,
       "width": 420
      }
     },
     "output_type": "display_data"
    }
   ],
   "source": [
    "# (g) Create side by side boxplots for the age of persons depending on their sex and interpret the diagram.\n",
    "boxplot(melanoma$age ~ melanoma$sex)\n",
    "\n",
    "#the rest here is redundand\n",
    "#,horizontal = T,col = c('blue','green'),xlab='age',ylab='sex')\n",
    "\n",
    "#boxplot(df_boxplot$score ~ exam.data_separated$exam_subject)\n",
    "#Interpretation: the outcome is very equal between all exams. No anomalies."
   ]
  },
  {
   "cell_type": "code",
   "execution_count": 33,
   "metadata": {
    "vscode": {
     "languageId": "r"
    }
   },
   "outputs": [
    {
     "data": {
      "text/html": [
       "<table class=\"dataframe\">\n",
       "<caption>A tibble: 10 x 5</caption>\n",
       "<thead>\n",
       "\t<tr><th scope=col>time</th><th scope=col>status</th><th scope=col>thickness</th><th scope=col>ulcer</th><th scope=col>sex_age_year</th></tr>\n",
       "\t<tr><th scope=col>&lt;int&gt;</th><th scope=col>&lt;int&gt;</th><th scope=col>&lt;dbl&gt;</th><th scope=col>&lt;int&gt;</th><th scope=col>&lt;chr&gt;</th></tr>\n",
       "</thead>\n",
       "<tbody>\n",
       "\t<tr><td> 809</td><td>2</td><td>11.70</td><td>0</td><td>0/72/1978</td></tr>\n",
       "\t<tr><td>1687</td><td>3</td><td> 6.22</td><td>0</td><td>0/61/1990</td></tr>\n",
       "\t<tr><td>1711</td><td>3</td><td>13.98</td><td>0</td><td>0/30/1977</td></tr>\n",
       "\t<tr><td> 682</td><td>3</td><td> 5.06</td><td>0</td><td>0/72/1987</td></tr>\n",
       "\t<tr><td>1034</td><td>2</td><td>15.38</td><td>0</td><td>0/71/1977</td></tr>\n",
       "\t<tr><td> 625</td><td>1</td><td> 7.66</td><td>0</td><td>0/21/1983</td></tr>\n",
       "\t<tr><td> 248</td><td>2</td><td> 3.48</td><td>0</td><td>0/63/1988</td></tr>\n",
       "\t<tr><td>1190</td><td>1</td><td> 9.29</td><td>0</td><td>0/26/1975</td></tr>\n",
       "\t<tr><td>1979</td><td>2</td><td>10.33</td><td>0</td><td>0/77/1984</td></tr>\n",
       "\t<tr><td>1191</td><td>1</td><td>11.03</td><td>0</td><td>1/57/1980</td></tr>\n",
       "</tbody>\n",
       "</table>\n"
      ],
      "text/latex": [
       "A tibble: 10 x 5\n",
       "\\begin{tabular}{lllll}\n",
       " time & status & thickness & ulcer & sex\\_age\\_year\\\\\n",
       " <int> & <int> & <dbl> & <int> & <chr>\\\\\n",
       "\\hline\n",
       "\t  809 & 2 & 11.70 & 0 & 0/72/1978\\\\\n",
       "\t 1687 & 3 &  6.22 & 0 & 0/61/1990\\\\\n",
       "\t 1711 & 3 & 13.98 & 0 & 0/30/1977\\\\\n",
       "\t  682 & 3 &  5.06 & 0 & 0/72/1987\\\\\n",
       "\t 1034 & 2 & 15.38 & 0 & 0/71/1977\\\\\n",
       "\t  625 & 1 &  7.66 & 0 & 0/21/1983\\\\\n",
       "\t  248 & 2 &  3.48 & 0 & 0/63/1988\\\\\n",
       "\t 1190 & 1 &  9.29 & 0 & 0/26/1975\\\\\n",
       "\t 1979 & 2 & 10.33 & 0 & 0/77/1984\\\\\n",
       "\t 1191 & 1 & 11.03 & 0 & 1/57/1980\\\\\n",
       "\\end{tabular}\n"
      ],
      "text/markdown": [
       "\n",
       "A tibble: 10 x 5\n",
       "\n",
       "| time &lt;int&gt; | status &lt;int&gt; | thickness &lt;dbl&gt; | ulcer &lt;int&gt; | sex_age_year &lt;chr&gt; |\n",
       "|---|---|---|---|---|\n",
       "|  809 | 2 | 11.70 | 0 | 0/72/1978 |\n",
       "| 1687 | 3 |  6.22 | 0 | 0/61/1990 |\n",
       "| 1711 | 3 | 13.98 | 0 | 0/30/1977 |\n",
       "|  682 | 3 |  5.06 | 0 | 0/72/1987 |\n",
       "| 1034 | 2 | 15.38 | 0 | 0/71/1977 |\n",
       "|  625 | 1 |  7.66 | 0 | 0/21/1983 |\n",
       "|  248 | 2 |  3.48 | 0 | 0/63/1988 |\n",
       "| 1190 | 1 |  9.29 | 0 | 0/26/1975 |\n",
       "| 1979 | 2 | 10.33 | 0 | 0/77/1984 |\n",
       "| 1191 | 1 | 11.03 | 0 | 1/57/1980 |\n",
       "\n"
      ],
      "text/plain": [
       "   time status thickness ulcer sex_age_year\n",
       "1   809 2      11.70     0     0/72/1978   \n",
       "2  1687 3       6.22     0     0/61/1990   \n",
       "3  1711 3      13.98     0     0/30/1977   \n",
       "4   682 3       5.06     0     0/72/1987   \n",
       "5  1034 2      15.38     0     0/71/1977   \n",
       "6   625 1       7.66     0     0/21/1983   \n",
       "7   248 2       3.48     0     0/63/1988   \n",
       "8  1190 1       9.29     0     0/26/1975   \n",
       "9  1979 2      10.33     0     0/77/1984   \n",
       "10 1191 1      11.03     0     1/57/1980   "
      ]
     },
     "metadata": {},
     "output_type": "display_data"
    }
   ],
   "source": [
    "#(h) The csv file add.data.melanoma.csv contains data from anotherstudy.\n",
    "# Import the dataset as a tibble called add.data.melanoma.\n",
    "df1<-read.csv('add.data.melanoma.csv') %>% as_tibble()\n",
    "df1 %>% slice(1:10)"
   ]
  },
  {
   "cell_type": "code",
   "execution_count": 34,
   "metadata": {
    "vscode": {
     "languageId": "r"
    }
   },
   "outputs": [
    {
     "data": {
      "text/html": [
       "<table class=\"dataframe\">\n",
       "<caption>A tibble: 10 x 7</caption>\n",
       "<thead>\n",
       "\t<tr><th scope=col>time</th><th scope=col>status</th><th scope=col>thickness</th><th scope=col>ulcer</th><th scope=col>sex</th><th scope=col>age</th><th scope=col>year</th></tr>\n",
       "\t<tr><th scope=col>&lt;int&gt;</th><th scope=col>&lt;int&gt;</th><th scope=col>&lt;dbl&gt;</th><th scope=col>&lt;int&gt;</th><th scope=col>&lt;chr&gt;</th><th scope=col>&lt;chr&gt;</th><th scope=col>&lt;chr&gt;</th></tr>\n",
       "</thead>\n",
       "<tbody>\n",
       "\t<tr><td> 809</td><td>2</td><td>11.70</td><td>0</td><td>0</td><td>72</td><td>1978</td></tr>\n",
       "\t<tr><td>1687</td><td>3</td><td> 6.22</td><td>0</td><td>0</td><td>61</td><td>1990</td></tr>\n",
       "\t<tr><td>1711</td><td>3</td><td>13.98</td><td>0</td><td>0</td><td>30</td><td>1977</td></tr>\n",
       "\t<tr><td> 682</td><td>3</td><td> 5.06</td><td>0</td><td>0</td><td>72</td><td>1987</td></tr>\n",
       "\t<tr><td>1034</td><td>2</td><td>15.38</td><td>0</td><td>0</td><td>71</td><td>1977</td></tr>\n",
       "\t<tr><td> 625</td><td>1</td><td> 7.66</td><td>0</td><td>0</td><td>21</td><td>1983</td></tr>\n",
       "\t<tr><td> 248</td><td>2</td><td> 3.48</td><td>0</td><td>0</td><td>63</td><td>1988</td></tr>\n",
       "\t<tr><td>1190</td><td>1</td><td> 9.29</td><td>0</td><td>0</td><td>26</td><td>1975</td></tr>\n",
       "\t<tr><td>1979</td><td>2</td><td>10.33</td><td>0</td><td>0</td><td>77</td><td>1984</td></tr>\n",
       "\t<tr><td>1191</td><td>1</td><td>11.03</td><td>0</td><td>1</td><td>57</td><td>1980</td></tr>\n",
       "</tbody>\n",
       "</table>\n"
      ],
      "text/latex": [
       "A tibble: 10 x 7\n",
       "\\begin{tabular}{lllllll}\n",
       " time & status & thickness & ulcer & sex & age & year\\\\\n",
       " <int> & <int> & <dbl> & <int> & <chr> & <chr> & <chr>\\\\\n",
       "\\hline\n",
       "\t  809 & 2 & 11.70 & 0 & 0 & 72 & 1978\\\\\n",
       "\t 1687 & 3 &  6.22 & 0 & 0 & 61 & 1990\\\\\n",
       "\t 1711 & 3 & 13.98 & 0 & 0 & 30 & 1977\\\\\n",
       "\t  682 & 3 &  5.06 & 0 & 0 & 72 & 1987\\\\\n",
       "\t 1034 & 2 & 15.38 & 0 & 0 & 71 & 1977\\\\\n",
       "\t  625 & 1 &  7.66 & 0 & 0 & 21 & 1983\\\\\n",
       "\t  248 & 2 &  3.48 & 0 & 0 & 63 & 1988\\\\\n",
       "\t 1190 & 1 &  9.29 & 0 & 0 & 26 & 1975\\\\\n",
       "\t 1979 & 2 & 10.33 & 0 & 0 & 77 & 1984\\\\\n",
       "\t 1191 & 1 & 11.03 & 0 & 1 & 57 & 1980\\\\\n",
       "\\end{tabular}\n"
      ],
      "text/markdown": [
       "\n",
       "A tibble: 10 x 7\n",
       "\n",
       "| time &lt;int&gt; | status &lt;int&gt; | thickness &lt;dbl&gt; | ulcer &lt;int&gt; | sex &lt;chr&gt; | age &lt;chr&gt; | year &lt;chr&gt; |\n",
       "|---|---|---|---|---|---|---|\n",
       "|  809 | 2 | 11.70 | 0 | 0 | 72 | 1978 |\n",
       "| 1687 | 3 |  6.22 | 0 | 0 | 61 | 1990 |\n",
       "| 1711 | 3 | 13.98 | 0 | 0 | 30 | 1977 |\n",
       "|  682 | 3 |  5.06 | 0 | 0 | 72 | 1987 |\n",
       "| 1034 | 2 | 15.38 | 0 | 0 | 71 | 1977 |\n",
       "|  625 | 1 |  7.66 | 0 | 0 | 21 | 1983 |\n",
       "|  248 | 2 |  3.48 | 0 | 0 | 63 | 1988 |\n",
       "| 1190 | 1 |  9.29 | 0 | 0 | 26 | 1975 |\n",
       "| 1979 | 2 | 10.33 | 0 | 0 | 77 | 1984 |\n",
       "| 1191 | 1 | 11.03 | 0 | 1 | 57 | 1980 |\n",
       "\n"
      ],
      "text/plain": [
       "   time status thickness ulcer sex age year\n",
       "1   809 2      11.70     0     0   72  1978\n",
       "2  1687 3       6.22     0     0   61  1990\n",
       "3  1711 3      13.98     0     0   30  1977\n",
       "4   682 3       5.06     0     0   72  1987\n",
       "5  1034 2      15.38     0     0   71  1977\n",
       "6   625 1       7.66     0     0   21  1983\n",
       "7   248 2       3.48     0     0   63  1988\n",
       "8  1190 1       9.29     0     0   26  1975\n",
       "9  1979 2      10.33     0     0   77  1984\n",
       "10 1191 1      11.03     0     1   57  1980"
      ]
     },
     "metadata": {},
     "output_type": "display_data"
    }
   ],
   "source": [
    "# (i) Is this dataset tidy?\n",
    "# not tidy. bcz the col sex_age_year contains three infos at the same time. so we have to seperate that col into \n",
    "# 3 cols\n",
    "df1 %>% separate(col = sex_age_year,into = c('sex','age','year'),sep='/') %>% slice(1:10)"
   ]
  },
  {
   "cell_type": "code",
   "execution_count": 35,
   "metadata": {
    "vscode": {
     "languageId": "r"
    }
   },
   "outputs": [
    {
     "data": {
      "text/html": [
       "<table class=\"dataframe\">\n",
       "<caption>A tibble: 5 x 11</caption>\n",
       "<thead>\n",
       "\t<tr><th scope=col>continent</th><th scope=col>location</th><th scope=col>year</th><th scope=col>month</th><th scope=col>day</th><th scope=col>total_cases</th><th scope=col>new_cases</th><th scope=col>total_deaths</th><th scope=col>new_deaths</th><th scope=col>reproduction_rate</th><th scope=col>population</th></tr>\n",
       "\t<tr><th scope=col>&lt;chr&gt;</th><th scope=col>&lt;chr&gt;</th><th scope=col>&lt;int&gt;</th><th scope=col>&lt;int&gt;</th><th scope=col>&lt;int&gt;</th><th scope=col>&lt;int&gt;</th><th scope=col>&lt;int&gt;</th><th scope=col>&lt;int&gt;</th><th scope=col>&lt;int&gt;</th><th scope=col>&lt;dbl&gt;</th><th scope=col>&lt;dbl&gt;</th></tr>\n",
       "</thead>\n",
       "<tbody>\n",
       "\t<tr><td>Asia</td><td>Afghanistan</td><td>2020</td><td>1</td><td>23</td><td>NA</td><td>0</td><td>NA</td><td>0</td><td>NA</td><td>38928341</td></tr>\n",
       "\t<tr><td>Asia</td><td>Afghanistan</td><td>2020</td><td>1</td><td>24</td><td>NA</td><td>0</td><td>NA</td><td>0</td><td>NA</td><td>38928341</td></tr>\n",
       "\t<tr><td>Asia</td><td>Afghanistan</td><td>2020</td><td>1</td><td>25</td><td>NA</td><td>0</td><td>NA</td><td>0</td><td>NA</td><td>38928341</td></tr>\n",
       "\t<tr><td>Asia</td><td>Afghanistan</td><td>2020</td><td>1</td><td>26</td><td>NA</td><td>0</td><td>NA</td><td>0</td><td>NA</td><td>38928341</td></tr>\n",
       "\t<tr><td>Asia</td><td>Afghanistan</td><td>2020</td><td>1</td><td>27</td><td>NA</td><td>0</td><td>NA</td><td>0</td><td>NA</td><td>38928341</td></tr>\n",
       "</tbody>\n",
       "</table>\n"
      ],
      "text/latex": [
       "A tibble: 5 x 11\n",
       "\\begin{tabular}{lllllllllll}\n",
       " continent & location & year & month & day & total\\_cases & new\\_cases & total\\_deaths & new\\_deaths & reproduction\\_rate & population\\\\\n",
       " <chr> & <chr> & <int> & <int> & <int> & <int> & <int> & <int> & <int> & <dbl> & <dbl>\\\\\n",
       "\\hline\n",
       "\t Asia & Afghanistan & 2020 & 1 & 23 & NA & 0 & NA & 0 & NA & 38928341\\\\\n",
       "\t Asia & Afghanistan & 2020 & 1 & 24 & NA & 0 & NA & 0 & NA & 38928341\\\\\n",
       "\t Asia & Afghanistan & 2020 & 1 & 25 & NA & 0 & NA & 0 & NA & 38928341\\\\\n",
       "\t Asia & Afghanistan & 2020 & 1 & 26 & NA & 0 & NA & 0 & NA & 38928341\\\\\n",
       "\t Asia & Afghanistan & 2020 & 1 & 27 & NA & 0 & NA & 0 & NA & 38928341\\\\\n",
       "\\end{tabular}\n"
      ],
      "text/markdown": [
       "\n",
       "A tibble: 5 x 11\n",
       "\n",
       "| continent &lt;chr&gt; | location &lt;chr&gt; | year &lt;int&gt; | month &lt;int&gt; | day &lt;int&gt; | total_cases &lt;int&gt; | new_cases &lt;int&gt; | total_deaths &lt;int&gt; | new_deaths &lt;int&gt; | reproduction_rate &lt;dbl&gt; | population &lt;dbl&gt; |\n",
       "|---|---|---|---|---|---|---|---|---|---|---|\n",
       "| Asia | Afghanistan | 2020 | 1 | 23 | NA | 0 | NA | 0 | NA | 38928341 |\n",
       "| Asia | Afghanistan | 2020 | 1 | 24 | NA | 0 | NA | 0 | NA | 38928341 |\n",
       "| Asia | Afghanistan | 2020 | 1 | 25 | NA | 0 | NA | 0 | NA | 38928341 |\n",
       "| Asia | Afghanistan | 2020 | 1 | 26 | NA | 0 | NA | 0 | NA | 38928341 |\n",
       "| Asia | Afghanistan | 2020 | 1 | 27 | NA | 0 | NA | 0 | NA | 38928341 |\n",
       "\n"
      ],
      "text/plain": [
       "  continent location    year month day total_cases new_cases total_deaths\n",
       "1 Asia      Afghanistan 2020 1     23  NA          0         NA          \n",
       "2 Asia      Afghanistan 2020 1     24  NA          0         NA          \n",
       "3 Asia      Afghanistan 2020 1     25  NA          0         NA          \n",
       "4 Asia      Afghanistan 2020 1     26  NA          0         NA          \n",
       "5 Asia      Afghanistan 2020 1     27  NA          0         NA          \n",
       "  new_deaths reproduction_rate population\n",
       "1 0          NA                38928341  \n",
       "2 0          NA                38928341  \n",
       "3 0          NA                38928341  \n",
       "4 0          NA                38928341  \n",
       "5 0          NA                38928341  "
      ]
     },
     "metadata": {},
     "output_type": "display_data"
    },
    {
     "data": {
      "text/html": [
       "<style>\n",
       ".list-inline {list-style: none; margin:0; padding: 0}\n",
       ".list-inline>li {display: inline-block}\n",
       ".list-inline>li:not(:last-child)::after {content: \"\\00b7\"; padding: 0 .5ex}\n",
       "</style>\n",
       "<ol class=list-inline><li>'continent'</li><li>'location'</li><li>'year'</li><li>'month'</li><li>'day'</li><li>'total_cases'</li><li>'new_cases'</li><li>'total_deaths'</li><li>'new_deaths'</li><li>'reproduction_rate'</li><li>'population'</li></ol>\n"
      ],
      "text/latex": [
       "\\begin{enumerate*}\n",
       "\\item 'continent'\n",
       "\\item 'location'\n",
       "\\item 'year'\n",
       "\\item 'month'\n",
       "\\item 'day'\n",
       "\\item 'total\\_cases'\n",
       "\\item 'new\\_cases'\n",
       "\\item 'total\\_deaths'\n",
       "\\item 'new\\_deaths'\n",
       "\\item 'reproduction\\_rate'\n",
       "\\item 'population'\n",
       "\\end{enumerate*}\n"
      ],
      "text/markdown": [
       "1. 'continent'\n",
       "2. 'location'\n",
       "3. 'year'\n",
       "4. 'month'\n",
       "5. 'day'\n",
       "6. 'total_cases'\n",
       "7. 'new_cases'\n",
       "8. 'total_deaths'\n",
       "9. 'new_deaths'\n",
       "10. 'reproduction_rate'\n",
       "11. 'population'\n",
       "\n",
       "\n"
      ],
      "text/plain": [
       " [1] \"continent\"         \"location\"          \"year\"             \n",
       " [4] \"month\"             \"day\"               \"total_cases\"      \n",
       " [7] \"new_cases\"         \"total_deaths\"      \"new_deaths\"       \n",
       "[10] \"reproduction_rate\" \"population\"       "
      ]
     },
     "metadata": {},
     "output_type": "display_data"
    }
   ],
   "source": [
    "# import data\n",
    "df<-read.csv('corona.csv') %>% as_tibble()\n",
    "df %>% slice(1:5)\n",
    "# show columns\n",
    "names(df)\n",
    "\n",
    "# type, scale\n",
    "## continent, location -> qualitative, nonimal\n",
    "## year, month, day->  quantitative, interval"
   ]
  },
  {
   "cell_type": "code",
   "execution_count": 36,
   "metadata": {
    "vscode": {
     "languageId": "r"
    }
   },
   "outputs": [
    {
     "data": {
      "text/html": [
       "<table class=\"dataframe\">\n",
       "<caption>A tibble: 10 x 2</caption>\n",
       "<thead>\n",
       "\t<tr><th scope=col>new_cases</th><th scope=col>new_deaths</th></tr>\n",
       "\t<tr><th scope=col>&lt;int&gt;</th><th scope=col>&lt;int&gt;</th></tr>\n",
       "</thead>\n",
       "<tbody>\n",
       "\t<tr><td>2626</td><td>14</td></tr>\n",
       "\t<tr><td>2835</td><td> 9</td></tr>\n",
       "\t<tr><td>1653</td><td>13</td></tr>\n",
       "\t<tr><td>1546</td><td> 2</td></tr>\n",
       "\t<tr><td>3100</td><td>21</td></tr>\n",
       "\t<tr><td>2454</td><td>12</td></tr>\n",
       "\t<tr><td>4010</td><td>16</td></tr>\n",
       "\t<tr><td>4804</td><td>12</td></tr>\n",
       "\t<tr><td>4554</td><td> 5</td></tr>\n",
       "\t<tr><td>2968</td><td>21</td></tr>\n",
       "</tbody>\n",
       "</table>\n"
      ],
      "text/latex": [
       "A tibble: 10 x 2\n",
       "\\begin{tabular}{ll}\n",
       " new\\_cases & new\\_deaths\\\\\n",
       " <int> & <int>\\\\\n",
       "\\hline\n",
       "\t 2626 & 14\\\\\n",
       "\t 2835 &  9\\\\\n",
       "\t 1653 & 13\\\\\n",
       "\t 1546 &  2\\\\\n",
       "\t 3100 & 21\\\\\n",
       "\t 2454 & 12\\\\\n",
       "\t 4010 & 16\\\\\n",
       "\t 4804 & 12\\\\\n",
       "\t 4554 &  5\\\\\n",
       "\t 2968 & 21\\\\\n",
       "\\end{tabular}\n"
      ],
      "text/markdown": [
       "\n",
       "A tibble: 10 x 2\n",
       "\n",
       "| new_cases &lt;int&gt; | new_deaths &lt;int&gt; |\n",
       "|---|---|\n",
       "| 2626 | 14 |\n",
       "| 2835 |  9 |\n",
       "| 1653 | 13 |\n",
       "| 1546 |  2 |\n",
       "| 3100 | 21 |\n",
       "| 2454 | 12 |\n",
       "| 4010 | 16 |\n",
       "| 4804 | 12 |\n",
       "| 4554 |  5 |\n",
       "| 2968 | 21 |\n",
       "\n"
      ],
      "text/plain": [
       "   new_cases new_deaths\n",
       "1  2626      14        \n",
       "2  2835       9        \n",
       "3  1653      13        \n",
       "4  1546       2        \n",
       "5  3100      21        \n",
       "6  2454      12        \n",
       "7  4010      16        \n",
       "8  4804      12        \n",
       "9  4554       5        \n",
       "10 2968      21        "
      ]
     },
     "metadata": {},
     "output_type": "display_data"
    }
   ],
   "source": [
    "# (c) Select new cases and new deaths: october, germany\n",
    "df %>% filter(month==10 & location=='Germany') %>% select(new_cases,new_deaths) %>% slice(1:10)"
   ]
  },
  {
   "cell_type": "code",
   "execution_count": 37,
   "metadata": {
    "vscode": {
     "languageId": "r"
    }
   },
   "outputs": [
    {
     "name": "stderr",
     "output_type": "stream",
     "text": [
      "\u001b[1m\u001b[22m`summarise()` has grouped output by 'location'. You can override using the\n",
      "`.groups` argument.\n"
     ]
    },
    {
     "data": {
      "text/html": [
       "<table class=\"dataframe\">\n",
       "<caption>A grouped_df: 192 x 4</caption>\n",
       "<thead>\n",
       "\t<tr><th scope=col>location</th><th scope=col>month</th><th scope=col>new_cases</th><th scope=col>new_deaths</th></tr>\n",
       "\t<tr><th scope=col>&lt;chr&gt;</th><th scope=col>&lt;int&gt;</th><th scope=col>&lt;int&gt;</th><th scope=col>&lt;int&gt;</th></tr>\n",
       "</thead>\n",
       "<tbody>\n",
       "\t<tr><td>Afghanistan           </td><td>1</td><td> 0</td><td> 0</td></tr>\n",
       "\t<tr><td>Albania               </td><td>1</td><td> 0</td><td> 0</td></tr>\n",
       "\t<tr><td>Algeria               </td><td>1</td><td> 0</td><td> 0</td></tr>\n",
       "\t<tr><td>Andorra               </td><td>1</td><td> 0</td><td> 0</td></tr>\n",
       "\t<tr><td>Angola                </td><td>1</td><td> 0</td><td> 0</td></tr>\n",
       "\t<tr><td>Antigua and Barbuda   </td><td>1</td><td> 0</td><td> 0</td></tr>\n",
       "\t<tr><td>Argentina             </td><td>1</td><td>NA</td><td>NA</td></tr>\n",
       "\t<tr><td>Armenia               </td><td>1</td><td> 0</td><td> 0</td></tr>\n",
       "\t<tr><td>Australia             </td><td>1</td><td> 9</td><td> 0</td></tr>\n",
       "\t<tr><td>Austria               </td><td>1</td><td> 0</td><td> 0</td></tr>\n",
       "\t<tr><td>Azerbaijan            </td><td>1</td><td> 0</td><td> 0</td></tr>\n",
       "\t<tr><td>Bahamas               </td><td>1</td><td> 0</td><td> 0</td></tr>\n",
       "\t<tr><td>Bahrain               </td><td>1</td><td> 0</td><td> 0</td></tr>\n",
       "\t<tr><td>Bangladesh            </td><td>1</td><td> 0</td><td> 0</td></tr>\n",
       "\t<tr><td>Barbados              </td><td>1</td><td> 0</td><td> 0</td></tr>\n",
       "\t<tr><td>Belarus               </td><td>1</td><td> 0</td><td> 0</td></tr>\n",
       "\t<tr><td>Belgium               </td><td>1</td><td> 0</td><td> 0</td></tr>\n",
       "\t<tr><td>Belize                </td><td>1</td><td> 0</td><td> 0</td></tr>\n",
       "\t<tr><td>Benin                 </td><td>1</td><td> 0</td><td> 0</td></tr>\n",
       "\t<tr><td>Bhutan                </td><td>1</td><td> 0</td><td> 0</td></tr>\n",
       "\t<tr><td>Bolivia               </td><td>1</td><td> 0</td><td> 0</td></tr>\n",
       "\t<tr><td>Bosnia and Herzegovina</td><td>1</td><td> 0</td><td> 0</td></tr>\n",
       "\t<tr><td>Botswana              </td><td>1</td><td> 0</td><td> 0</td></tr>\n",
       "\t<tr><td>Brazil                </td><td>1</td><td> 0</td><td> 0</td></tr>\n",
       "\t<tr><td>Brunei                </td><td>1</td><td> 0</td><td> 0</td></tr>\n",
       "\t<tr><td>Bulgaria              </td><td>1</td><td> 0</td><td> 0</td></tr>\n",
       "\t<tr><td>Burkina Faso          </td><td>1</td><td> 0</td><td> 0</td></tr>\n",
       "\t<tr><td>Burundi               </td><td>1</td><td> 0</td><td> 0</td></tr>\n",
       "\t<tr><td>Cambodia              </td><td>1</td><td> 1</td><td> 0</td></tr>\n",
       "\t<tr><td>Cameroon              </td><td>1</td><td> 0</td><td> 0</td></tr>\n",
       "\t<tr><td>...</td><td>...</td><td>...</td><td>...</td></tr>\n",
       "\t<tr><td>Sri Lanka           </td><td>1</td><td>   1</td><td>  0</td></tr>\n",
       "\t<tr><td>Sudan               </td><td>1</td><td>   0</td><td>  0</td></tr>\n",
       "\t<tr><td>Suriname            </td><td>1</td><td>   0</td><td>  0</td></tr>\n",
       "\t<tr><td>Sweden              </td><td>1</td><td>   0</td><td>  0</td></tr>\n",
       "\t<tr><td>Switzerland         </td><td>1</td><td>   0</td><td>  0</td></tr>\n",
       "\t<tr><td>Syria               </td><td>1</td><td>   0</td><td>  0</td></tr>\n",
       "\t<tr><td>Taiwan              </td><td>1</td><td>  NA</td><td> NA</td></tr>\n",
       "\t<tr><td>Tajikistan          </td><td>1</td><td>   0</td><td>  0</td></tr>\n",
       "\t<tr><td>Tanzania            </td><td>1</td><td>   0</td><td>  0</td></tr>\n",
       "\t<tr><td>Thailand            </td><td>1</td><td>  NA</td><td> NA</td></tr>\n",
       "\t<tr><td>Timor               </td><td>1</td><td>   0</td><td>  0</td></tr>\n",
       "\t<tr><td>Togo                </td><td>1</td><td>   0</td><td>  0</td></tr>\n",
       "\t<tr><td>Trinidad and Tobago </td><td>1</td><td>   0</td><td>  0</td></tr>\n",
       "\t<tr><td>Tunisia             </td><td>1</td><td>   0</td><td>  0</td></tr>\n",
       "\t<tr><td>Turkey              </td><td>1</td><td>   0</td><td>  0</td></tr>\n",
       "\t<tr><td>Uganda              </td><td>1</td><td>   0</td><td>  0</td></tr>\n",
       "\t<tr><td>Ukraine             </td><td>1</td><td>   0</td><td>  0</td></tr>\n",
       "\t<tr><td>United Arab Emirates</td><td>1</td><td>   4</td><td>  0</td></tr>\n",
       "\t<tr><td>United Kingdom      </td><td>1</td><td>   2</td><td>  0</td></tr>\n",
       "\t<tr><td>United States       </td><td>1</td><td>  NA</td><td> NA</td></tr>\n",
       "\t<tr><td>Uruguay             </td><td>1</td><td>   0</td><td>  0</td></tr>\n",
       "\t<tr><td>Uzbekistan          </td><td>1</td><td>   0</td><td>  0</td></tr>\n",
       "\t<tr><td>Vanuatu             </td><td>1</td><td>   0</td><td>  0</td></tr>\n",
       "\t<tr><td>Vatican             </td><td>1</td><td>   0</td><td>  0</td></tr>\n",
       "\t<tr><td>Venezuela           </td><td>1</td><td>   0</td><td>  0</td></tr>\n",
       "\t<tr><td>Vietnam             </td><td>1</td><td>   2</td><td>  0</td></tr>\n",
       "\t<tr><td>World               </td><td>1</td><td>9372</td><td>196</td></tr>\n",
       "\t<tr><td>Yemen               </td><td>1</td><td>   0</td><td>  0</td></tr>\n",
       "\t<tr><td>Zambia              </td><td>1</td><td>   0</td><td>  0</td></tr>\n",
       "\t<tr><td>Zimbabwe            </td><td>1</td><td>   0</td><td>  0</td></tr>\n",
       "</tbody>\n",
       "</table>\n"
      ],
      "text/latex": [
       "A grouped\\_df: 192 x 4\n",
       "\\begin{tabular}{llll}\n",
       " location & month & new\\_cases & new\\_deaths\\\\\n",
       " <chr> & <int> & <int> & <int>\\\\\n",
       "\\hline\n",
       "\t Afghanistan            & 1 &  0 &  0\\\\\n",
       "\t Albania                & 1 &  0 &  0\\\\\n",
       "\t Algeria                & 1 &  0 &  0\\\\\n",
       "\t Andorra                & 1 &  0 &  0\\\\\n",
       "\t Angola                 & 1 &  0 &  0\\\\\n",
       "\t Antigua and Barbuda    & 1 &  0 &  0\\\\\n",
       "\t Argentina              & 1 & NA & NA\\\\\n",
       "\t Armenia                & 1 &  0 &  0\\\\\n",
       "\t Australia              & 1 &  9 &  0\\\\\n",
       "\t Austria                & 1 &  0 &  0\\\\\n",
       "\t Azerbaijan             & 1 &  0 &  0\\\\\n",
       "\t Bahamas                & 1 &  0 &  0\\\\\n",
       "\t Bahrain                & 1 &  0 &  0\\\\\n",
       "\t Bangladesh             & 1 &  0 &  0\\\\\n",
       "\t Barbados               & 1 &  0 &  0\\\\\n",
       "\t Belarus                & 1 &  0 &  0\\\\\n",
       "\t Belgium                & 1 &  0 &  0\\\\\n",
       "\t Belize                 & 1 &  0 &  0\\\\\n",
       "\t Benin                  & 1 &  0 &  0\\\\\n",
       "\t Bhutan                 & 1 &  0 &  0\\\\\n",
       "\t Bolivia                & 1 &  0 &  0\\\\\n",
       "\t Bosnia and Herzegovina & 1 &  0 &  0\\\\\n",
       "\t Botswana               & 1 &  0 &  0\\\\\n",
       "\t Brazil                 & 1 &  0 &  0\\\\\n",
       "\t Brunei                 & 1 &  0 &  0\\\\\n",
       "\t Bulgaria               & 1 &  0 &  0\\\\\n",
       "\t Burkina Faso           & 1 &  0 &  0\\\\\n",
       "\t Burundi                & 1 &  0 &  0\\\\\n",
       "\t Cambodia               & 1 &  1 &  0\\\\\n",
       "\t Cameroon               & 1 &  0 &  0\\\\\n",
       "\t ... & ... & ... & ...\\\\\n",
       "\t Sri Lanka            & 1 &    1 &   0\\\\\n",
       "\t Sudan                & 1 &    0 &   0\\\\\n",
       "\t Suriname             & 1 &    0 &   0\\\\\n",
       "\t Sweden               & 1 &    0 &   0\\\\\n",
       "\t Switzerland          & 1 &    0 &   0\\\\\n",
       "\t Syria                & 1 &    0 &   0\\\\\n",
       "\t Taiwan               & 1 &   NA &  NA\\\\\n",
       "\t Tajikistan           & 1 &    0 &   0\\\\\n",
       "\t Tanzania             & 1 &    0 &   0\\\\\n",
       "\t Thailand             & 1 &   NA &  NA\\\\\n",
       "\t Timor                & 1 &    0 &   0\\\\\n",
       "\t Togo                 & 1 &    0 &   0\\\\\n",
       "\t Trinidad and Tobago  & 1 &    0 &   0\\\\\n",
       "\t Tunisia              & 1 &    0 &   0\\\\\n",
       "\t Turkey               & 1 &    0 &   0\\\\\n",
       "\t Uganda               & 1 &    0 &   0\\\\\n",
       "\t Ukraine              & 1 &    0 &   0\\\\\n",
       "\t United Arab Emirates & 1 &    4 &   0\\\\\n",
       "\t United Kingdom       & 1 &    2 &   0\\\\\n",
       "\t United States        & 1 &   NA &  NA\\\\\n",
       "\t Uruguay              & 1 &    0 &   0\\\\\n",
       "\t Uzbekistan           & 1 &    0 &   0\\\\\n",
       "\t Vanuatu              & 1 &    0 &   0\\\\\n",
       "\t Vatican              & 1 &    0 &   0\\\\\n",
       "\t Venezuela            & 1 &    0 &   0\\\\\n",
       "\t Vietnam              & 1 &    2 &   0\\\\\n",
       "\t World                & 1 & 9372 & 196\\\\\n",
       "\t Yemen                & 1 &    0 &   0\\\\\n",
       "\t Zambia               & 1 &    0 &   0\\\\\n",
       "\t Zimbabwe             & 1 &    0 &   0\\\\\n",
       "\\end{tabular}\n"
      ],
      "text/markdown": [
       "\n",
       "A grouped_df: 192 x 4\n",
       "\n",
       "| location &lt;chr&gt; | month &lt;int&gt; | new_cases &lt;int&gt; | new_deaths &lt;int&gt; |\n",
       "|---|---|---|---|\n",
       "| Afghanistan            | 1 |  0 |  0 |\n",
       "| Albania                | 1 |  0 |  0 |\n",
       "| Algeria                | 1 |  0 |  0 |\n",
       "| Andorra                | 1 |  0 |  0 |\n",
       "| Angola                 | 1 |  0 |  0 |\n",
       "| Antigua and Barbuda    | 1 |  0 |  0 |\n",
       "| Argentina              | 1 | NA | NA |\n",
       "| Armenia                | 1 |  0 |  0 |\n",
       "| Australia              | 1 |  9 |  0 |\n",
       "| Austria                | 1 |  0 |  0 |\n",
       "| Azerbaijan             | 1 |  0 |  0 |\n",
       "| Bahamas                | 1 |  0 |  0 |\n",
       "| Bahrain                | 1 |  0 |  0 |\n",
       "| Bangladesh             | 1 |  0 |  0 |\n",
       "| Barbados               | 1 |  0 |  0 |\n",
       "| Belarus                | 1 |  0 |  0 |\n",
       "| Belgium                | 1 |  0 |  0 |\n",
       "| Belize                 | 1 |  0 |  0 |\n",
       "| Benin                  | 1 |  0 |  0 |\n",
       "| Bhutan                 | 1 |  0 |  0 |\n",
       "| Bolivia                | 1 |  0 |  0 |\n",
       "| Bosnia and Herzegovina | 1 |  0 |  0 |\n",
       "| Botswana               | 1 |  0 |  0 |\n",
       "| Brazil                 | 1 |  0 |  0 |\n",
       "| Brunei                 | 1 |  0 |  0 |\n",
       "| Bulgaria               | 1 |  0 |  0 |\n",
       "| Burkina Faso           | 1 |  0 |  0 |\n",
       "| Burundi                | 1 |  0 |  0 |\n",
       "| Cambodia               | 1 |  1 |  0 |\n",
       "| Cameroon               | 1 |  0 |  0 |\n",
       "| ... | ... | ... | ... |\n",
       "| Sri Lanka            | 1 |    1 |   0 |\n",
       "| Sudan                | 1 |    0 |   0 |\n",
       "| Suriname             | 1 |    0 |   0 |\n",
       "| Sweden               | 1 |    0 |   0 |\n",
       "| Switzerland          | 1 |    0 |   0 |\n",
       "| Syria                | 1 |    0 |   0 |\n",
       "| Taiwan               | 1 |   NA |  NA |\n",
       "| Tajikistan           | 1 |    0 |   0 |\n",
       "| Tanzania             | 1 |    0 |   0 |\n",
       "| Thailand             | 1 |   NA |  NA |\n",
       "| Timor                | 1 |    0 |   0 |\n",
       "| Togo                 | 1 |    0 |   0 |\n",
       "| Trinidad and Tobago  | 1 |    0 |   0 |\n",
       "| Tunisia              | 1 |    0 |   0 |\n",
       "| Turkey               | 1 |    0 |   0 |\n",
       "| Uganda               | 1 |    0 |   0 |\n",
       "| Ukraine              | 1 |    0 |   0 |\n",
       "| United Arab Emirates | 1 |    4 |   0 |\n",
       "| United Kingdom       | 1 |    2 |   0 |\n",
       "| United States        | 1 |   NA |  NA |\n",
       "| Uruguay              | 1 |    0 |   0 |\n",
       "| Uzbekistan           | 1 |    0 |   0 |\n",
       "| Vanuatu              | 1 |    0 |   0 |\n",
       "| Vatican              | 1 |    0 |   0 |\n",
       "| Venezuela            | 1 |    0 |   0 |\n",
       "| Vietnam              | 1 |    2 |   0 |\n",
       "| World                | 1 | 9372 | 196 |\n",
       "| Yemen                | 1 |    0 |   0 |\n",
       "| Zambia               | 1 |    0 |   0 |\n",
       "| Zimbabwe             | 1 |    0 |   0 |\n",
       "\n"
      ],
      "text/plain": [
       "    location               month new_cases new_deaths\n",
       "1   Afghanistan            1      0         0        \n",
       "2   Albania                1      0         0        \n",
       "3   Algeria                1      0         0        \n",
       "4   Andorra                1      0         0        \n",
       "5   Angola                 1      0         0        \n",
       "6   Antigua and Barbuda    1      0         0        \n",
       "7   Argentina              1     NA        NA        \n",
       "8   Armenia                1      0         0        \n",
       "9   Australia              1      9         0        \n",
       "10  Austria                1      0         0        \n",
       "11  Azerbaijan             1      0         0        \n",
       "12  Bahamas                1      0         0        \n",
       "13  Bahrain                1      0         0        \n",
       "14  Bangladesh             1      0         0        \n",
       "15  Barbados               1      0         0        \n",
       "16  Belarus                1      0         0        \n",
       "17  Belgium                1      0         0        \n",
       "18  Belize                 1      0         0        \n",
       "19  Benin                  1      0         0        \n",
       "20  Bhutan                 1      0         0        \n",
       "21  Bolivia                1      0         0        \n",
       "22  Bosnia and Herzegovina 1      0         0        \n",
       "23  Botswana               1      0         0        \n",
       "24  Brazil                 1      0         0        \n",
       "25  Brunei                 1      0         0        \n",
       "26  Bulgaria               1      0         0        \n",
       "27  Burkina Faso           1      0         0        \n",
       "28  Burundi                1      0         0        \n",
       "29  Cambodia               1      1         0        \n",
       "30  Cameroon               1      0         0        \n",
       "... ...                    ...   ...       ...       \n",
       "163 Sri Lanka              1        1        0       \n",
       "164 Sudan                  1        0        0       \n",
       "165 Suriname               1        0        0       \n",
       "166 Sweden                 1        0        0       \n",
       "167 Switzerland            1        0        0       \n",
       "168 Syria                  1        0        0       \n",
       "169 Taiwan                 1       NA       NA       \n",
       "170 Tajikistan             1        0        0       \n",
       "171 Tanzania               1        0        0       \n",
       "172 Thailand               1       NA       NA       \n",
       "173 Timor                  1        0        0       \n",
       "174 Togo                   1        0        0       \n",
       "175 Trinidad and Tobago    1        0        0       \n",
       "176 Tunisia                1        0        0       \n",
       "177 Turkey                 1        0        0       \n",
       "178 Uganda                 1        0        0       \n",
       "179 Ukraine                1        0        0       \n",
       "180 United Arab Emirates   1        4        0       \n",
       "181 United Kingdom         1        2        0       \n",
       "182 United States          1       NA       NA       \n",
       "183 Uruguay                1        0        0       \n",
       "184 Uzbekistan             1        0        0       \n",
       "185 Vanuatu                1        0        0       \n",
       "186 Vatican                1        0        0       \n",
       "187 Venezuela              1        0        0       \n",
       "188 Vietnam                1        2        0       \n",
       "189 World                  1     9372      196       \n",
       "190 Yemen                  1        0        0       \n",
       "191 Zambia                 1        0        0       \n",
       "192 Zimbabwe               1        0        0       "
      ]
     },
     "metadata": {},
     "output_type": "display_data"
    }
   ],
   "source": [
    "# Number of new cases and new deaths in every country per month\n",
    "df.stats <- df %>% group_by(location,month) %>% summarise(new_cases=sum(new_cases),new_deaths=sum(new_deaths))# n() = count\n",
    "df.stats %>% slice(1:1)"
   ]
  },
  {
   "cell_type": "code",
   "execution_count": 38,
   "metadata": {
    "vscode": {
     "languageId": "r"
    }
   },
   "outputs": [
    {
     "data": {
      "text/html": [
       "<strong>(Intercept):</strong> 17.5365231294017"
      ],
      "text/latex": [
       "\\textbf{(Intercept):} 17.5365231294017"
      ],
      "text/markdown": [
       "**(Intercept):** 17.5365231294017"
      ],
      "text/plain": [
       "(Intercept) \n",
       "   17.53652 "
      ]
     },
     "metadata": {},
     "output_type": "display_data"
    },
    {
     "data": {
      "text/html": [
       "<strong>data.ger$new_cases:</strong> 0.0121327895557591"
      ],
      "text/latex": [
       "\\textbf{data.ger\\textbackslash{}\\$new\\textbackslash{}\\_cases:} 0.0121327895557591"
      ],
      "text/markdown": [
       "**data.ger$new_cases:** 0.0121327895557591"
      ],
      "text/plain": [
       "data.ger$new_cases \n",
       "        0.01213279 "
      ]
     },
     "metadata": {},
     "output_type": "display_data"
    }
   ],
   "source": [
    "## 7 Day incidences in germany 2020\n",
    "## in der Übung\n",
    "#Linear regression new deaths = a + b * new cases in Germany\n",
    "#(a) Parameter a, b\n",
    "#(b) Scatterplot\n",
    "#(c) Coefficient of correlation, coefficient of determination\n",
    "#(d) Prediction for 20000 new cases\n",
    "#(e) Interpretation of the coefficients\n",
    "\n",
    "#(a)\n",
    "data.ger<-df %>% filter(location=='Germany')\n",
    "model<-lm(data.ger$new_deaths~data.ger$new_cases)\n",
    "\n",
    "a<-model$coefficients[1]\n",
    "b<-model$coefficients[2]\n",
    "a;b"
   ]
  },
  {
   "cell_type": "code",
   "execution_count": 39,
   "metadata": {
    "vscode": {
     "languageId": "r"
    }
   },
   "outputs": [
    {
     "data": {
      "image/png": "[encoded data removed]",
      "text/plain": [
       "plot without title"
      ]
     },
     "metadata": {
      "image/png": {
       "height": 420,
       "width": 420
      }
     },
     "output_type": "display_data"
    }
   ],
   "source": [
    "#(b) scatterplot\n",
    "plot(data.ger$new_deaths,data.ger$new_cases)"
   ]
  },
  {
   "cell_type": "code",
   "execution_count": 40,
   "metadata": {
    "vscode": {
     "languageId": "r"
    }
   },
   "outputs": [
    {
     "data": {
      "text/html": [
       "0.73250064473312"
      ],
      "text/latex": [
       "0.73250064473312"
      ],
      "text/markdown": [
       "0.73250064473312"
      ],
      "text/plain": [
       "[1] 0.7325006"
      ]
     },
     "metadata": {},
     "output_type": "display_data"
    },
    {
     "data": {
      "text/html": [
       "0.536557194534437"
      ],
      "text/latex": [
       "0.536557194534437"
      ],
      "text/markdown": [
       "0.536557194534437"
      ],
      "text/plain": [
       "[1] 0.5365572"
      ]
     },
     "metadata": {},
     "output_type": "display_data"
    }
   ],
   "source": [
    "#(c) Coefficient of correlation, coefficient of determination\n",
    "cor(data.ger$new_deaths,data.ger$new_cases)\n",
    "# coefficient of determination\n",
    "cor(data.ger$new_deaths,data.ger$new_cases)**2"
   ]
  },
  {
   "cell_type": "code",
   "execution_count": 41,
   "metadata": {
    "vscode": {
     "languageId": "r"
    }
   },
   "outputs": [
    {
     "data": {
      "text/html": [
       "<strong>(Intercept):</strong> 41.80210224092"
      ],
      "text/latex": [
       "\\textbf{(Intercept):} 41.80210224092"
      ],
      "text/markdown": [
       "**(Intercept):** 41.80210224092"
      ],
      "text/plain": [
       "(Intercept) \n",
       "    41.8021 "
      ]
     },
     "metadata": {},
     "output_type": "display_data"
    }
   ],
   "source": [
    "#(d) Prediction for 20000 new cases\n",
    "new_death=a+b*2000\n",
    "new_death"
   ]
  },
  {
   "cell_type": "code",
   "execution_count": 42,
   "metadata": {
    "vscode": {
     "languageId": "r"
    }
   },
   "outputs": [
    {
     "data": {
      "text/html": [
       "<strong>(Intercept):</strong> 17.5365231294017"
      ],
      "text/latex": [
       "\\textbf{(Intercept):} 17.5365231294017"
      ],
      "text/markdown": [
       "**(Intercept):** 17.5365231294017"
      ],
      "text/plain": [
       "(Intercept) \n",
       "   17.53652 "
      ]
     },
     "metadata": {},
     "output_type": "display_data"
    },
    {
     "data": {
      "text/html": [
       "<strong>data.ger$new_cases:</strong> 0.0121327895557591"
      ],
      "text/latex": [
       "\\textbf{data.ger\\textbackslash{}\\$new\\textbackslash{}\\_cases:} 0.0121327895557591"
      ],
      "text/markdown": [
       "**data.ger$new_cases:** 0.0121327895557591"
      ],
      "text/plain": [
       "data.ger$new_cases \n",
       "        0.01213279 "
      ]
     },
     "metadata": {},
     "output_type": "display_data"
    }
   ],
   "source": [
    "#(e) Interpretation of the coefficients\n",
    "a;b"
   ]
  },
  {
   "cell_type": "code",
   "execution_count": 43,
   "metadata": {
    "vscode": {
     "languageId": "r"
    }
   },
   "outputs": [
    {
     "data": {
      "image/png": "[encoded data removed]",
      "text/plain": [
       "plot without title"
      ]
     },
     "metadata": {
      "image/png": {
       "height": 420,
       "width": 420
      }
     },
     "output_type": "display_data"
    }
   ],
   "source": [
    "# new_death=a+b*new_cases\n",
    "# if new_cases=0\n",
    "# new_death=a -> a=17.53 noise\n",
    "# new_death = 17.53 + 0.12 * new_cases \n",
    "# new_death = 17.53 + 0.012 * new_cases\n",
    "# if new_cases increases x unit then new_death increases x times 0.012\n",
    "# b=slope/steigung\n",
    "# how to draw regression line ?\n",
    "plot(data.ger$new_deaths,data.ger$new_cases)\n",
    "abline(lm(data.ger$new_deaths~data.ger$new_cases))"
   ]
  },
  {
   "cell_type": "code",
   "execution_count": 44,
   "metadata": {
    "vscode": {
     "languageId": "r"
    }
   },
   "outputs": [],
   "source": [
    "# (b)\n",
    "# time: quantiative, discrete, absolute\n",
    "# status: qualitative, discrete, nominal\n",
    "# sex : qualitative ,discrete nominal\n",
    "# age : quantitative , discrete absolute\n",
    "# year: quantitative , discrete, interval\n",
    "# thickness: quantitative, continious, ratio\n",
    "# ulcer : qualtitative, discrete, nominal"
   ]
  }
 ],
 "metadata": {
  "kernelspec": {
   "display_name": "R",
   "language": "R",
   "name": "ir"
  },
  "language_info": {
   "codemirror_mode": "r",
   "file_extension": ".r",
   "mimetype": "text/x-r-source",
   "name": "R",
   "pygments_lexer": "r",
   "version": "4.3.3"
  },
  "orig_nbformat": 4
 },
 "nbformat": 4,
 "nbformat_minor": 2
}
