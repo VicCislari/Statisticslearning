{
 "cells": [
  {
   "attachments": {},
   "cell_type": "markdown",
   "metadata": {},
   "source": [
    "Suppose that two fair, standard dice are tossed and the sequence of\n",
    "scores $(X_1 , X_2 )$ recorded. Let $Y = X_1 + X_2$ , denote the sum of the\n",
    "scores, $U = min(X_1 , X_2 )$, the minimum score, and $V = max(X_1 , X_2 )$\n",
    "the maximum score."
   ]
  },
  {
   "attachments": {},
   "cell_type": "markdown",
   "metadata": {},
   "source": [
    "## P(X=(x1,x2))=(i,j)=1/36, where i,j in {1:6}"
   ]
  },
  {
   "cell_type": "code",
   "execution_count": 1,
   "metadata": {
    "vscode": {
     "languageId": "r"
    }
   },
   "outputs": [
    {
     "name": "stderr",
     "output_type": "stream",
     "text": [
      "-- \u001b[1mAttaching core tidyverse packages\u001b[22m ------------------------ tidyverse 2.0.0 --\n",
      "\u001b[32mv\u001b[39m \u001b[34mdplyr    \u001b[39m 1.1.4     \u001b[32mv\u001b[39m \u001b[34mreadr    \u001b[39m 2.1.5\n",
      "\u001b[32mv\u001b[39m \u001b[34mforcats  \u001b[39m 1.0.0     \u001b[32mv\u001b[39m \u001b[34mstringr  \u001b[39m 1.5.1\n",
      "\u001b[32mv\u001b[39m \u001b[34mggplot2  \u001b[39m 3.5.0     \u001b[32mv\u001b[39m \u001b[34mtibble   \u001b[39m 3.2.1\n",
      "\u001b[32mv\u001b[39m \u001b[34mlubridate\u001b[39m 1.9.3     \u001b[32mv\u001b[39m \u001b[34mtidyr    \u001b[39m 1.3.1\n",
      "\u001b[32mv\u001b[39m \u001b[34mpurrr    \u001b[39m 1.0.2     \n",
      "-- \u001b[1mConflicts\u001b[22m ------------------------------------------ tidyverse_conflicts() --\n",
      "\u001b[31mx\u001b[39m \u001b[34mdplyr\u001b[39m::\u001b[32mfilter()\u001b[39m masks \u001b[34mstats\u001b[39m::filter()\n",
      "\u001b[31mx\u001b[39m \u001b[34mdplyr\u001b[39m::\u001b[32mlag()\u001b[39m    masks \u001b[34mstats\u001b[39m::lag()\n",
      "\u001b[36mi\u001b[39m Use the conflicted package (\u001b[3m\u001b[34m<http://conflicted.r-lib.org/>\u001b[39m\u001b[23m) to force all conflicts to become errors\n"
     ]
    }
   ],
   "source": [
    "library(tidyverse)"
   ]
  },
  {
   "cell_type": "code",
   "execution_count": 6,
   "metadata": {
    "vscode": {
     "languageId": "r"
    }
   },
   "outputs": [
    {
     "data": {
      "text/html": [
       "<table class=\"dataframe\">\n",
       "<caption>A tibble: 11 x 3</caption>\n",
       "<thead>\n",
       "\t<tr><th scope=col>y</th><th scope=col>n</th><th scope=col>prob</th></tr>\n",
       "\t<tr><th scope=col>&lt;int&gt;</th><th scope=col>&lt;int&gt;</th><th scope=col>&lt;dbl&gt;</th></tr>\n",
       "</thead>\n",
       "<tbody>\n",
       "\t<tr><td> 2</td><td>1</td><td>0.02777778</td></tr>\n",
       "\t<tr><td> 3</td><td>2</td><td>0.05555556</td></tr>\n",
       "\t<tr><td> 4</td><td>3</td><td>0.08333333</td></tr>\n",
       "\t<tr><td> 5</td><td>4</td><td>0.11111111</td></tr>\n",
       "\t<tr><td> 6</td><td>5</td><td>0.13888889</td></tr>\n",
       "\t<tr><td> 7</td><td>6</td><td>0.16666667</td></tr>\n",
       "\t<tr><td> 8</td><td>5</td><td>0.13888889</td></tr>\n",
       "\t<tr><td> 9</td><td>4</td><td>0.11111111</td></tr>\n",
       "\t<tr><td>10</td><td>3</td><td>0.08333333</td></tr>\n",
       "\t<tr><td>11</td><td>2</td><td>0.05555556</td></tr>\n",
       "\t<tr><td>12</td><td>1</td><td>0.02777778</td></tr>\n",
       "</tbody>\n",
       "</table>\n"
      ],
      "text/latex": [
       "A tibble: 11 x 3\n",
       "\\begin{tabular}{lll}\n",
       " y & n & prob\\\\\n",
       " <int> & <int> & <dbl>\\\\\n",
       "\\hline\n",
       "\t  2 & 1 & 0.02777778\\\\\n",
       "\t  3 & 2 & 0.05555556\\\\\n",
       "\t  4 & 3 & 0.08333333\\\\\n",
       "\t  5 & 4 & 0.11111111\\\\\n",
       "\t  6 & 5 & 0.13888889\\\\\n",
       "\t  7 & 6 & 0.16666667\\\\\n",
       "\t  8 & 5 & 0.13888889\\\\\n",
       "\t  9 & 4 & 0.11111111\\\\\n",
       "\t 10 & 3 & 0.08333333\\\\\n",
       "\t 11 & 2 & 0.05555556\\\\\n",
       "\t 12 & 1 & 0.02777778\\\\\n",
       "\\end{tabular}\n"
      ],
      "text/markdown": [
       "\n",
       "A tibble: 11 x 3\n",
       "\n",
       "| y &lt;int&gt; | n &lt;int&gt; | prob &lt;dbl&gt; |\n",
       "|---|---|---|\n",
       "|  2 | 1 | 0.02777778 |\n",
       "|  3 | 2 | 0.05555556 |\n",
       "|  4 | 3 | 0.08333333 |\n",
       "|  5 | 4 | 0.11111111 |\n",
       "|  6 | 5 | 0.13888889 |\n",
       "|  7 | 6 | 0.16666667 |\n",
       "|  8 | 5 | 0.13888889 |\n",
       "|  9 | 4 | 0.11111111 |\n",
       "| 10 | 3 | 0.08333333 |\n",
       "| 11 | 2 | 0.05555556 |\n",
       "| 12 | 1 | 0.02777778 |\n",
       "\n"
      ],
      "text/plain": [
       "   y  n prob      \n",
       "1   2 1 0.02777778\n",
       "2   3 2 0.05555556\n",
       "3   4 3 0.08333333\n",
       "4   5 4 0.11111111\n",
       "5   6 5 0.13888889\n",
       "6   7 6 0.16666667\n",
       "7   8 5 0.13888889\n",
       "8   9 4 0.11111111\n",
       "9  10 3 0.08333333\n",
       "10 11 2 0.05555556\n",
       "11 12 1 0.02777778"
      ]
     },
     "metadata": {},
     "output_type": "display_data"
    }
   ],
   "source": [
    "expand_grid(x1=1:6,x2=1:6) %>% mutate(y=x1+x2) %>% count(y) %>% mutate(prob=n/36)"
   ]
  },
  {
   "cell_type": "code",
   "execution_count": null,
   "metadata": {},
   "outputs": [],
   "source": []
  },
  {
   "cell_type": "code",
   "execution_count": 7,
   "metadata": {
    "vscode": {
     "languageId": "r"
    }
   },
   "outputs": [
    {
     "data": {
      "text/html": [
       "<table class=\"dataframe\">\n",
       "<caption>A rowwise_df: 6 x 3</caption>\n",
       "<thead>\n",
       "\t<tr><th scope=col>u</th><th scope=col>n</th><th scope=col>prob</th></tr>\n",
       "\t<tr><th scope=col>&lt;int&gt;</th><th scope=col>&lt;int&gt;</th><th scope=col>&lt;dbl&gt;</th></tr>\n",
       "</thead>\n",
       "<tbody>\n",
       "\t<tr><td>1</td><td>11</td><td>0.30555556</td></tr>\n",
       "\t<tr><td>2</td><td> 9</td><td>0.25000000</td></tr>\n",
       "\t<tr><td>3</td><td> 7</td><td>0.19444444</td></tr>\n",
       "\t<tr><td>4</td><td> 5</td><td>0.13888889</td></tr>\n",
       "\t<tr><td>5</td><td> 3</td><td>0.08333333</td></tr>\n",
       "\t<tr><td>6</td><td> 1</td><td>0.02777778</td></tr>\n",
       "</tbody>\n",
       "</table>\n"
      ],
      "text/latex": [
       "A rowwise\\_df: 6 x 3\n",
       "\\begin{tabular}{lll}\n",
       " u & n & prob\\\\\n",
       " <int> & <int> & <dbl>\\\\\n",
       "\\hline\n",
       "\t 1 & 11 & 0.30555556\\\\\n",
       "\t 2 &  9 & 0.25000000\\\\\n",
       "\t 3 &  7 & 0.19444444\\\\\n",
       "\t 4 &  5 & 0.13888889\\\\\n",
       "\t 5 &  3 & 0.08333333\\\\\n",
       "\t 6 &  1 & 0.02777778\\\\\n",
       "\\end{tabular}\n"
      ],
      "text/markdown": [
       "\n",
       "A rowwise_df: 6 x 3\n",
       "\n",
       "| u &lt;int&gt; | n &lt;int&gt; | prob &lt;dbl&gt; |\n",
       "|---|---|---|\n",
       "| 1 | 11 | 0.30555556 |\n",
       "| 2 |  9 | 0.25000000 |\n",
       "| 3 |  7 | 0.19444444 |\n",
       "| 4 |  5 | 0.13888889 |\n",
       "| 5 |  3 | 0.08333333 |\n",
       "| 6 |  1 | 0.02777778 |\n",
       "\n"
      ],
      "text/plain": [
       "  u n  prob      \n",
       "1 1 11 0.30555556\n",
       "2 2  9 0.25000000\n",
       "3 3  7 0.19444444\n",
       "4 4  5 0.13888889\n",
       "5 5  3 0.08333333\n",
       "6 6  1 0.02777778"
      ]
     },
     "metadata": {},
     "output_type": "display_data"
    }
   ],
   "source": [
    "expand_grid(x1=1:6,x2=1:6) %>% rowwise() %>% mutate(u=min(x1,x2)) %>% \n",
    "                     count(u) %>% mutate(prob=n/36)"
   ]
  },
  {
   "cell_type": "code",
   "execution_count": 8,
   "metadata": {
    "vscode": {
     "languageId": "r"
    }
   },
   "outputs": [
    {
     "data": {
      "text/html": [
       "<table class=\"dataframe\">\n",
       "<caption>A rowwise_df: 6 x 3</caption>\n",
       "<thead>\n",
       "\t<tr><th scope=col>v</th><th scope=col>n</th><th scope=col>prob</th></tr>\n",
       "\t<tr><th scope=col>&lt;int&gt;</th><th scope=col>&lt;int&gt;</th><th scope=col>&lt;dbl&gt;</th></tr>\n",
       "</thead>\n",
       "<tbody>\n",
       "\t<tr><td>1</td><td> 1</td><td>0.02777778</td></tr>\n",
       "\t<tr><td>2</td><td> 3</td><td>0.08333333</td></tr>\n",
       "\t<tr><td>3</td><td> 5</td><td>0.13888889</td></tr>\n",
       "\t<tr><td>4</td><td> 7</td><td>0.19444444</td></tr>\n",
       "\t<tr><td>5</td><td> 9</td><td>0.25000000</td></tr>\n",
       "\t<tr><td>6</td><td>11</td><td>0.30555556</td></tr>\n",
       "</tbody>\n",
       "</table>\n"
      ],
      "text/latex": [
       "A rowwise\\_df: 6 x 3\n",
       "\\begin{tabular}{lll}\n",
       " v & n & prob\\\\\n",
       " <int> & <int> & <dbl>\\\\\n",
       "\\hline\n",
       "\t 1 &  1 & 0.02777778\\\\\n",
       "\t 2 &  3 & 0.08333333\\\\\n",
       "\t 3 &  5 & 0.13888889\\\\\n",
       "\t 4 &  7 & 0.19444444\\\\\n",
       "\t 5 &  9 & 0.25000000\\\\\n",
       "\t 6 & 11 & 0.30555556\\\\\n",
       "\\end{tabular}\n"
      ],
      "text/markdown": [
       "\n",
       "A rowwise_df: 6 x 3\n",
       "\n",
       "| v &lt;int&gt; | n &lt;int&gt; | prob &lt;dbl&gt; |\n",
       "|---|---|---|\n",
       "| 1 |  1 | 0.02777778 |\n",
       "| 2 |  3 | 0.08333333 |\n",
       "| 3 |  5 | 0.13888889 |\n",
       "| 4 |  7 | 0.19444444 |\n",
       "| 5 |  9 | 0.25000000 |\n",
       "| 6 | 11 | 0.30555556 |\n",
       "\n"
      ],
      "text/plain": [
       "  v n  prob      \n",
       "1 1  1 0.02777778\n",
       "2 2  3 0.08333333\n",
       "3 3  5 0.13888889\n",
       "4 4  7 0.19444444\n",
       "5 5  9 0.25000000\n",
       "6 6 11 0.30555556"
      ]
     },
     "metadata": {},
     "output_type": "display_data"
    }
   ],
   "source": [
    "expand_grid(x1=1:6,x2=1:6) %>% rowwise() %>% mutate(v=max(x1,x2)) %>% \n",
    "                     count(v) %>% mutate(prob=n/36)"
   ]
  },
  {
   "attachments": {},
   "cell_type": "markdown",
   "metadata": {},
   "source": [
    "# + Find the probability density function of $(U, V )$."
   ]
  },
  {
   "cell_type": "code",
   "execution_count": 9,
   "metadata": {
    "vscode": {
     "languageId": "r"
    }
   },
   "outputs": [
    {
     "data": {
      "text/html": [
       "<table class=\"dataframe\">\n",
       "<caption>A rowwise_df: 21 x 4</caption>\n",
       "<thead>\n",
       "\t<tr><th scope=col>v</th><th scope=col>u</th><th scope=col>n</th><th scope=col>prob</th></tr>\n",
       "\t<tr><th scope=col>&lt;int&gt;</th><th scope=col>&lt;int&gt;</th><th scope=col>&lt;int&gt;</th><th scope=col>&lt;dbl&gt;</th></tr>\n",
       "</thead>\n",
       "<tbody>\n",
       "\t<tr><td>1</td><td>1</td><td>1</td><td>0.02777778</td></tr>\n",
       "\t<tr><td>2</td><td>1</td><td>2</td><td>0.05555556</td></tr>\n",
       "\t<tr><td>2</td><td>2</td><td>1</td><td>0.02777778</td></tr>\n",
       "\t<tr><td>3</td><td>1</td><td>2</td><td>0.05555556</td></tr>\n",
       "\t<tr><td>3</td><td>2</td><td>2</td><td>0.05555556</td></tr>\n",
       "\t<tr><td>3</td><td>3</td><td>1</td><td>0.02777778</td></tr>\n",
       "\t<tr><td>4</td><td>1</td><td>2</td><td>0.05555556</td></tr>\n",
       "\t<tr><td>4</td><td>2</td><td>2</td><td>0.05555556</td></tr>\n",
       "\t<tr><td>4</td><td>3</td><td>2</td><td>0.05555556</td></tr>\n",
       "\t<tr><td>4</td><td>4</td><td>1</td><td>0.02777778</td></tr>\n",
       "\t<tr><td>5</td><td>1</td><td>2</td><td>0.05555556</td></tr>\n",
       "\t<tr><td>5</td><td>2</td><td>2</td><td>0.05555556</td></tr>\n",
       "\t<tr><td>5</td><td>3</td><td>2</td><td>0.05555556</td></tr>\n",
       "\t<tr><td>5</td><td>4</td><td>2</td><td>0.05555556</td></tr>\n",
       "\t<tr><td>5</td><td>5</td><td>1</td><td>0.02777778</td></tr>\n",
       "\t<tr><td>6</td><td>1</td><td>2</td><td>0.05555556</td></tr>\n",
       "\t<tr><td>6</td><td>2</td><td>2</td><td>0.05555556</td></tr>\n",
       "\t<tr><td>6</td><td>3</td><td>2</td><td>0.05555556</td></tr>\n",
       "\t<tr><td>6</td><td>4</td><td>2</td><td>0.05555556</td></tr>\n",
       "\t<tr><td>6</td><td>5</td><td>2</td><td>0.05555556</td></tr>\n",
       "\t<tr><td>6</td><td>6</td><td>1</td><td>0.02777778</td></tr>\n",
       "</tbody>\n",
       "</table>\n"
      ],
      "text/latex": [
       "A rowwise\\_df: 21 x 4\n",
       "\\begin{tabular}{llll}\n",
       " v & u & n & prob\\\\\n",
       " <int> & <int> & <int> & <dbl>\\\\\n",
       "\\hline\n",
       "\t 1 & 1 & 1 & 0.02777778\\\\\n",
       "\t 2 & 1 & 2 & 0.05555556\\\\\n",
       "\t 2 & 2 & 1 & 0.02777778\\\\\n",
       "\t 3 & 1 & 2 & 0.05555556\\\\\n",
       "\t 3 & 2 & 2 & 0.05555556\\\\\n",
       "\t 3 & 3 & 1 & 0.02777778\\\\\n",
       "\t 4 & 1 & 2 & 0.05555556\\\\\n",
       "\t 4 & 2 & 2 & 0.05555556\\\\\n",
       "\t 4 & 3 & 2 & 0.05555556\\\\\n",
       "\t 4 & 4 & 1 & 0.02777778\\\\\n",
       "\t 5 & 1 & 2 & 0.05555556\\\\\n",
       "\t 5 & 2 & 2 & 0.05555556\\\\\n",
       "\t 5 & 3 & 2 & 0.05555556\\\\\n",
       "\t 5 & 4 & 2 & 0.05555556\\\\\n",
       "\t 5 & 5 & 1 & 0.02777778\\\\\n",
       "\t 6 & 1 & 2 & 0.05555556\\\\\n",
       "\t 6 & 2 & 2 & 0.05555556\\\\\n",
       "\t 6 & 3 & 2 & 0.05555556\\\\\n",
       "\t 6 & 4 & 2 & 0.05555556\\\\\n",
       "\t 6 & 5 & 2 & 0.05555556\\\\\n",
       "\t 6 & 6 & 1 & 0.02777778\\\\\n",
       "\\end{tabular}\n"
      ],
      "text/markdown": [
       "\n",
       "A rowwise_df: 21 x 4\n",
       "\n",
       "| v &lt;int&gt; | u &lt;int&gt; | n &lt;int&gt; | prob &lt;dbl&gt; |\n",
       "|---|---|---|---|\n",
       "| 1 | 1 | 1 | 0.02777778 |\n",
       "| 2 | 1 | 2 | 0.05555556 |\n",
       "| 2 | 2 | 1 | 0.02777778 |\n",
       "| 3 | 1 | 2 | 0.05555556 |\n",
       "| 3 | 2 | 2 | 0.05555556 |\n",
       "| 3 | 3 | 1 | 0.02777778 |\n",
       "| 4 | 1 | 2 | 0.05555556 |\n",
       "| 4 | 2 | 2 | 0.05555556 |\n",
       "| 4 | 3 | 2 | 0.05555556 |\n",
       "| 4 | 4 | 1 | 0.02777778 |\n",
       "| 5 | 1 | 2 | 0.05555556 |\n",
       "| 5 | 2 | 2 | 0.05555556 |\n",
       "| 5 | 3 | 2 | 0.05555556 |\n",
       "| 5 | 4 | 2 | 0.05555556 |\n",
       "| 5 | 5 | 1 | 0.02777778 |\n",
       "| 6 | 1 | 2 | 0.05555556 |\n",
       "| 6 | 2 | 2 | 0.05555556 |\n",
       "| 6 | 3 | 2 | 0.05555556 |\n",
       "| 6 | 4 | 2 | 0.05555556 |\n",
       "| 6 | 5 | 2 | 0.05555556 |\n",
       "| 6 | 6 | 1 | 0.02777778 |\n",
       "\n"
      ],
      "text/plain": [
       "   v u n prob      \n",
       "1  1 1 1 0.02777778\n",
       "2  2 1 2 0.05555556\n",
       "3  2 2 1 0.02777778\n",
       "4  3 1 2 0.05555556\n",
       "5  3 2 2 0.05555556\n",
       "6  3 3 1 0.02777778\n",
       "7  4 1 2 0.05555556\n",
       "8  4 2 2 0.05555556\n",
       "9  4 3 2 0.05555556\n",
       "10 4 4 1 0.02777778\n",
       "11 5 1 2 0.05555556\n",
       "12 5 2 2 0.05555556\n",
       "13 5 3 2 0.05555556\n",
       "14 5 4 2 0.05555556\n",
       "15 5 5 1 0.02777778\n",
       "16 6 1 2 0.05555556\n",
       "17 6 2 2 0.05555556\n",
       "18 6 3 2 0.05555556\n",
       "19 6 4 2 0.05555556\n",
       "20 6 5 2 0.05555556\n",
       "21 6 6 1 0.02777778"
      ]
     },
     "metadata": {},
     "output_type": "display_data"
    }
   ],
   "source": [
    "expand_grid(x1=1:6,x2=1:6) %>% rowwise() %>% mutate(v=max(x1,x2),u=min(x1,x2)) %>% \n",
    "                     count(v,u) %>% mutate(prob=n/36)"
   ]
  },
  {
   "cell_type": "code",
   "execution_count": null,
   "metadata": {
    "vscode": {
     "languageId": "r"
    }
   },
   "outputs": [],
   "source": []
  },
  {
   "cell_type": "code",
   "execution_count": null,
   "metadata": {},
   "outputs": [],
   "source": []
  }
 ],
 "metadata": {
  "kernelspec": {
   "display_name": "R",
   "language": "R",
   "name": "ir"
  },
  "language_info": {
   "codemirror_mode": "r",
   "file_extension": ".r",
   "mimetype": "text/x-r-source",
   "name": "R",
   "pygments_lexer": "r",
   "version": "4.3.3"
  }
 },
 "nbformat": 4,
 "nbformat_minor": 4
}
