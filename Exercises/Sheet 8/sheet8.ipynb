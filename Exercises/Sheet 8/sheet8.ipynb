{
 "cells": [
  {
   "cell_type": "code",
   "execution_count": 14,
   "metadata": {
    "vscode": {
     "languageId": "r"
    }
   },
   "outputs": [
    {
     "data": {
      "text/html": [
       "<table class=\"dataframe\">\n",
       "<caption>A data.frame: 32 x 6</caption>\n",
       "<thead>\n",
       "\t<tr><th scope=col>subno</th><th scope=col>sex</th><th scope=col>aw</th><th scope=col>an</th><th scope=col>cxew</th><th scope=col>cxen</th></tr>\n",
       "\t<tr><th scope=col>&lt;int&gt;</th><th scope=col>&lt;chr&gt;</th><th scope=col>&lt;chr&gt;</th><th scope=col>&lt;chr&gt;</th><th scope=col>&lt;chr&gt;</th><th scope=col>&lt;chr&gt;</th></tr>\n",
       "</thead>\n",
       "<tbody>\n",
       "\t<tr><td> 1</td><td>F</td><td>44.6667</td><td>44     </td><td>43.2409</td><td>45.1564</td></tr>\n",
       "\t<tr><td> 2</td><td>F</td><td>42.7083</td><td>43.7273</td><td>46.8628</td><td>45.1278</td></tr>\n",
       "\t<tr><td> 3</td><td>F</td><td>41.6957</td><td>41.8182</td><td>44.4939</td><td>43.3712</td></tr>\n",
       "\t<tr><td> 4</td><td>F</td><td>34.7778</td><td>37.1364</td><td>35.2715</td><td>34.4035</td></tr>\n",
       "\t<tr><td> 5</td><td>F</td><td>47.0833</td><td>44.3478</td><td>46.2482</td><td>46.3137</td></tr>\n",
       "\t<tr><td> 6</td><td>F</td><td>39.7727</td><td>41.7647</td><td>42.9762</td><td>42.1587</td></tr>\n",
       "\t<tr><td> 7</td><td>F</td><td>44.125 </td><td>44.6667</td><td>43.5898</td><td>43.6742</td></tr>\n",
       "\t<tr><td> 8</td><td>F</td><td>41.1667</td><td>42.2917</td><td>41.5536</td><td>39.4447</td></tr>\n",
       "\t<tr><td> 9</td><td>F</td><td>41.619 </td><td>45.1304</td><td>41.803 </td><td>43.173 </td></tr>\n",
       "\t<tr><td>10</td><td>F</td><td>38.7083</td><td>37.2083</td><td>38.7615</td><td>39.4606</td></tr>\n",
       "\t<tr><td>11</td><td>F</td><td>38.5833</td><td>37.5417</td><td>38.22  </td><td>38.214 </td></tr>\n",
       "\t<tr><td>12</td><td>F</td><td>38.125 </td><td>38.875 </td><td>38.6709</td><td>39.4718</td></tr>\n",
       "\t<tr><td>13</td><td>F</td><td>42.8333</td><td>43.0417</td><td>42.7684</td><td>42.6061</td></tr>\n",
       "\t<tr><td>14</td><td>F</td><td>35.7917</td><td>38.3333</td><td>36.8816</td><td>37.8219</td></tr>\n",
       "\t<tr><td>15</td><td>F</td><td>33.3158</td><td>34.3125</td><td>30.0319</td><td>29.4278</td></tr>\n",
       "\t<tr><td>16</td><td>M</td><td>43.7826</td><td>43.7619</td><td>43.5041</td><td>43.6543</td></tr>\n",
       "\t<tr><td>17</td><td>M</td><td>49.7727</td><td>54.0952</td><td>50.7373</td><td>55.4451</td></tr>\n",
       "\t<tr><td>18</td><td>M</td><td>28.5556</td><td>31.1176</td><td>28.8856</td><td>26.8333</td></tr>\n",
       "\t<tr><td>19</td><td>M</td><td>33.7059</td><td>34.1765</td><td>34.6903</td><td>31.7301</td></tr>\n",
       "\t<tr><td>20</td><td>M</td><td>38.6667</td><td>39.0435</td><td>37.7833</td><td>38.4417</td></tr>\n",
       "\t<tr><td>21</td><td>M</td><td>41.1364</td><td>40.2609</td><td>38.3768</td><td>40.0405</td></tr>\n",
       "\t<tr><td>22</td><td>M</td><td>52.9545</td><td>54.3913</td><td>54.9234</td><td>53.7414</td></tr>\n",
       "\t<tr><td>23</td><td>M</td><td>44.125 </td><td>42.6364</td><td>43.0367</td><td>42.6009</td></tr>\n",
       "\t<tr><td>24</td><td>M</td><td>44.125 </td><td>42.6364</td><td>43.0367</td><td>42.6009</td></tr>\n",
       "\t<tr><td>25</td><td>M</td><td>44.625 </td><td>42.7727</td><td>44.5337</td><td>43.3814</td></tr>\n",
       "\t<tr><td>26</td><td>M</td><td>39.8261</td><td>41.875 </td><td>42.2875</td><td>42.6104</td></tr>\n",
       "\t<tr><td>27</td><td>M</td><td>40.2174</td><td>41.125 </td><td>42.7546</td><td>42.9607</td></tr>\n",
       "\t<tr><td>28</td><td>M</td><td>30.1176</td><td>34.4118</td><td>33.6941</td><td>31.9481</td></tr>\n",
       "\t<tr><td>29</td><td>M</td><td>43.25  </td><td>42.625 </td><td>44.6222</td><td>44.6203</td></tr>\n",
       "\t<tr><td>30</td><td>M</td><td>47.9048</td><td>49.1739</td><td>49.8551</td><td>49.8009</td></tr>\n",
       "\t<tr><td>31</td><td>M</td><td>39.1304</td><td>38.0833</td><td>39.9209</td><td>39.7252</td></tr>\n",
       "\t<tr><td>32</td><td>M</td><td>42.5217</td><td>46.0833</td><td>42.6268</td><td>42.7801</td></tr>\n",
       "</tbody>\n",
       "</table>\n"
      ],
      "text/latex": [
       "A data.frame: 32 x 6\n",
       "\\begin{tabular}{llllll}\n",
       " subno & sex & aw & an & cxew & cxen\\\\\n",
       " <int> & <chr> & <chr> & <chr> & <chr> & <chr>\\\\\n",
       "\\hline\n",
       "\t  1 & F & 44.6667 & 44      & 43.2409 & 45.1564\\\\\n",
       "\t  2 & F & 42.7083 & 43.7273 & 46.8628 & 45.1278\\\\\n",
       "\t  3 & F & 41.6957 & 41.8182 & 44.4939 & 43.3712\\\\\n",
       "\t  4 & F & 34.7778 & 37.1364 & 35.2715 & 34.4035\\\\\n",
       "\t  5 & F & 47.0833 & 44.3478 & 46.2482 & 46.3137\\\\\n",
       "\t  6 & F & 39.7727 & 41.7647 & 42.9762 & 42.1587\\\\\n",
       "\t  7 & F & 44.125  & 44.6667 & 43.5898 & 43.6742\\\\\n",
       "\t  8 & F & 41.1667 & 42.2917 & 41.5536 & 39.4447\\\\\n",
       "\t  9 & F & 41.619  & 45.1304 & 41.803  & 43.173 \\\\\n",
       "\t 10 & F & 38.7083 & 37.2083 & 38.7615 & 39.4606\\\\\n",
       "\t 11 & F & 38.5833 & 37.5417 & 38.22   & 38.214 \\\\\n",
       "\t 12 & F & 38.125  & 38.875  & 38.6709 & 39.4718\\\\\n",
       "\t 13 & F & 42.8333 & 43.0417 & 42.7684 & 42.6061\\\\\n",
       "\t 14 & F & 35.7917 & 38.3333 & 36.8816 & 37.8219\\\\\n",
       "\t 15 & F & 33.3158 & 34.3125 & 30.0319 & 29.4278\\\\\n",
       "\t 16 & M & 43.7826 & 43.7619 & 43.5041 & 43.6543\\\\\n",
       "\t 17 & M & 49.7727 & 54.0952 & 50.7373 & 55.4451\\\\\n",
       "\t 18 & M & 28.5556 & 31.1176 & 28.8856 & 26.8333\\\\\n",
       "\t 19 & M & 33.7059 & 34.1765 & 34.6903 & 31.7301\\\\\n",
       "\t 20 & M & 38.6667 & 39.0435 & 37.7833 & 38.4417\\\\\n",
       "\t 21 & M & 41.1364 & 40.2609 & 38.3768 & 40.0405\\\\\n",
       "\t 22 & M & 52.9545 & 54.3913 & 54.9234 & 53.7414\\\\\n",
       "\t 23 & M & 44.125  & 42.6364 & 43.0367 & 42.6009\\\\\n",
       "\t 24 & M & 44.125  & 42.6364 & 43.0367 & 42.6009\\\\\n",
       "\t 25 & M & 44.625  & 42.7727 & 44.5337 & 43.3814\\\\\n",
       "\t 26 & M & 39.8261 & 41.875  & 42.2875 & 42.6104\\\\\n",
       "\t 27 & M & 40.2174 & 41.125  & 42.7546 & 42.9607\\\\\n",
       "\t 28 & M & 30.1176 & 34.4118 & 33.6941 & 31.9481\\\\\n",
       "\t 29 & M & 43.25   & 42.625  & 44.6222 & 44.6203\\\\\n",
       "\t 30 & M & 47.9048 & 49.1739 & 49.8551 & 49.8009\\\\\n",
       "\t 31 & M & 39.1304 & 38.0833 & 39.9209 & 39.7252\\\\\n",
       "\t 32 & M & 42.5217 & 46.0833 & 42.6268 & 42.7801\\\\\n",
       "\\end{tabular}\n"
      ],
      "text/markdown": [
       "\n",
       "A data.frame: 32 x 6\n",
       "\n",
       "| subno &lt;int&gt; | sex &lt;chr&gt; | aw &lt;chr&gt; | an &lt;chr&gt; | cxew &lt;chr&gt; | cxen &lt;chr&gt; |\n",
       "|---|---|---|---|---|---|\n",
       "|  1 | F | 44.6667 | 44      | 43.2409 | 45.1564 |\n",
       "|  2 | F | 42.7083 | 43.7273 | 46.8628 | 45.1278 |\n",
       "|  3 | F | 41.6957 | 41.8182 | 44.4939 | 43.3712 |\n",
       "|  4 | F | 34.7778 | 37.1364 | 35.2715 | 34.4035 |\n",
       "|  5 | F | 47.0833 | 44.3478 | 46.2482 | 46.3137 |\n",
       "|  6 | F | 39.7727 | 41.7647 | 42.9762 | 42.1587 |\n",
       "|  7 | F | 44.125  | 44.6667 | 43.5898 | 43.6742 |\n",
       "|  8 | F | 41.1667 | 42.2917 | 41.5536 | 39.4447 |\n",
       "|  9 | F | 41.619  | 45.1304 | 41.803  | 43.173  |\n",
       "| 10 | F | 38.7083 | 37.2083 | 38.7615 | 39.4606 |\n",
       "| 11 | F | 38.5833 | 37.5417 | 38.22   | 38.214  |\n",
       "| 12 | F | 38.125  | 38.875  | 38.6709 | 39.4718 |\n",
       "| 13 | F | 42.8333 | 43.0417 | 42.7684 | 42.6061 |\n",
       "| 14 | F | 35.7917 | 38.3333 | 36.8816 | 37.8219 |\n",
       "| 15 | F | 33.3158 | 34.3125 | 30.0319 | 29.4278 |\n",
       "| 16 | M | 43.7826 | 43.7619 | 43.5041 | 43.6543 |\n",
       "| 17 | M | 49.7727 | 54.0952 | 50.7373 | 55.4451 |\n",
       "| 18 | M | 28.5556 | 31.1176 | 28.8856 | 26.8333 |\n",
       "| 19 | M | 33.7059 | 34.1765 | 34.6903 | 31.7301 |\n",
       "| 20 | M | 38.6667 | 39.0435 | 37.7833 | 38.4417 |\n",
       "| 21 | M | 41.1364 | 40.2609 | 38.3768 | 40.0405 |\n",
       "| 22 | M | 52.9545 | 54.3913 | 54.9234 | 53.7414 |\n",
       "| 23 | M | 44.125  | 42.6364 | 43.0367 | 42.6009 |\n",
       "| 24 | M | 44.125  | 42.6364 | 43.0367 | 42.6009 |\n",
       "| 25 | M | 44.625  | 42.7727 | 44.5337 | 43.3814 |\n",
       "| 26 | M | 39.8261 | 41.875  | 42.2875 | 42.6104 |\n",
       "| 27 | M | 40.2174 | 41.125  | 42.7546 | 42.9607 |\n",
       "| 28 | M | 30.1176 | 34.4118 | 33.6941 | 31.9481 |\n",
       "| 29 | M | 43.25   | 42.625  | 44.6222 | 44.6203 |\n",
       "| 30 | M | 47.9048 | 49.1739 | 49.8551 | 49.8009 |\n",
       "| 31 | M | 39.1304 | 38.0833 | 39.9209 | 39.7252 |\n",
       "| 32 | M | 42.5217 | 46.0833 | 42.6268 | 42.7801 |\n",
       "\n"
      ],
      "text/plain": [
       "   subno sex aw      an      cxew    cxen   \n",
       "1   1    F   44.6667 44      43.2409 45.1564\n",
       "2   2    F   42.7083 43.7273 46.8628 45.1278\n",
       "3   3    F   41.6957 41.8182 44.4939 43.3712\n",
       "4   4    F   34.7778 37.1364 35.2715 34.4035\n",
       "5   5    F   47.0833 44.3478 46.2482 46.3137\n",
       "6   6    F   39.7727 41.7647 42.9762 42.1587\n",
       "7   7    F   44.125  44.6667 43.5898 43.6742\n",
       "8   8    F   41.1667 42.2917 41.5536 39.4447\n",
       "9   9    F   41.619  45.1304 41.803  43.173 \n",
       "10 10    F   38.7083 37.2083 38.7615 39.4606\n",
       "11 11    F   38.5833 37.5417 38.22   38.214 \n",
       "12 12    F   38.125  38.875  38.6709 39.4718\n",
       "13 13    F   42.8333 43.0417 42.7684 42.6061\n",
       "14 14    F   35.7917 38.3333 36.8816 37.8219\n",
       "15 15    F   33.3158 34.3125 30.0319 29.4278\n",
       "16 16    M   43.7826 43.7619 43.5041 43.6543\n",
       "17 17    M   49.7727 54.0952 50.7373 55.4451\n",
       "18 18    M   28.5556 31.1176 28.8856 26.8333\n",
       "19 19    M   33.7059 34.1765 34.6903 31.7301\n",
       "20 20    M   38.6667 39.0435 37.7833 38.4417\n",
       "21 21    M   41.1364 40.2609 38.3768 40.0405\n",
       "22 22    M   52.9545 54.3913 54.9234 53.7414\n",
       "23 23    M   44.125  42.6364 43.0367 42.6009\n",
       "24 24    M   44.125  42.6364 43.0367 42.6009\n",
       "25 25    M   44.625  42.7727 44.5337 43.3814\n",
       "26 26    M   39.8261 41.875  42.2875 42.6104\n",
       "27 27    M   40.2174 41.125  42.7546 42.9607\n",
       "28 28    M   30.1176 34.4118 33.6941 31.9481\n",
       "29 29    M   43.25   42.625  44.6222 44.6203\n",
       "30 30    M   47.9048 49.1739 49.8551 49.8009\n",
       "31 31    M   39.1304 38.0833 39.9209 39.7252\n",
       "32 32    M   42.5217 46.0833 42.6268 42.7801"
      ]
     },
     "metadata": {},
     "output_type": "display_data"
    },
    {
     "data": {
      "text/html": [
       "<table class=\"dataframe\">\n",
       "<caption>A data.frame: 128 x 4</caption>\n",
       "<thead>\n",
       "\t<tr><th scope=col>subno</th><th scope=col>sex</th><th scope=col>exp.setting</th><th scope=col>time</th></tr>\n",
       "\t<tr><th scope=col>&lt;int&gt;</th><th scope=col>&lt;chr&gt;</th><th scope=col>&lt;chr&gt;</th><th scope=col>&lt;chr&gt;</th></tr>\n",
       "</thead>\n",
       "<tbody>\n",
       "\t<tr><td> 1</td><td>F</td><td>aw</td><td>44.6667</td></tr>\n",
       "\t<tr><td> 2</td><td>F</td><td>aw</td><td>42.7083</td></tr>\n",
       "\t<tr><td> 3</td><td>F</td><td>aw</td><td>41.6957</td></tr>\n",
       "\t<tr><td> 4</td><td>F</td><td>aw</td><td>34.7778</td></tr>\n",
       "\t<tr><td> 5</td><td>F</td><td>aw</td><td>47.0833</td></tr>\n",
       "\t<tr><td> 6</td><td>F</td><td>aw</td><td>39.7727</td></tr>\n",
       "\t<tr><td> 7</td><td>F</td><td>aw</td><td>44.125 </td></tr>\n",
       "\t<tr><td> 8</td><td>F</td><td>aw</td><td>41.1667</td></tr>\n",
       "\t<tr><td> 9</td><td>F</td><td>aw</td><td>41.619 </td></tr>\n",
       "\t<tr><td>10</td><td>F</td><td>aw</td><td>38.7083</td></tr>\n",
       "\t<tr><td>11</td><td>F</td><td>aw</td><td>38.5833</td></tr>\n",
       "\t<tr><td>12</td><td>F</td><td>aw</td><td>38.125 </td></tr>\n",
       "\t<tr><td>13</td><td>F</td><td>aw</td><td>42.8333</td></tr>\n",
       "\t<tr><td>14</td><td>F</td><td>aw</td><td>35.7917</td></tr>\n",
       "\t<tr><td>15</td><td>F</td><td>aw</td><td>33.3158</td></tr>\n",
       "\t<tr><td>16</td><td>M</td><td>aw</td><td>43.7826</td></tr>\n",
       "\t<tr><td>17</td><td>M</td><td>aw</td><td>49.7727</td></tr>\n",
       "\t<tr><td>18</td><td>M</td><td>aw</td><td>28.5556</td></tr>\n",
       "\t<tr><td>19</td><td>M</td><td>aw</td><td>33.7059</td></tr>\n",
       "\t<tr><td>20</td><td>M</td><td>aw</td><td>38.6667</td></tr>\n",
       "\t<tr><td>21</td><td>M</td><td>aw</td><td>41.1364</td></tr>\n",
       "\t<tr><td>22</td><td>M</td><td>aw</td><td>52.9545</td></tr>\n",
       "\t<tr><td>23</td><td>M</td><td>aw</td><td>44.125 </td></tr>\n",
       "\t<tr><td>24</td><td>M</td><td>aw</td><td>44.125 </td></tr>\n",
       "\t<tr><td>25</td><td>M</td><td>aw</td><td>44.625 </td></tr>\n",
       "\t<tr><td>26</td><td>M</td><td>aw</td><td>39.8261</td></tr>\n",
       "\t<tr><td>27</td><td>M</td><td>aw</td><td>40.2174</td></tr>\n",
       "\t<tr><td>28</td><td>M</td><td>aw</td><td>30.1176</td></tr>\n",
       "\t<tr><td>29</td><td>M</td><td>aw</td><td>43.25  </td></tr>\n",
       "\t<tr><td>30</td><td>M</td><td>aw</td><td>47.9048</td></tr>\n",
       "\t<tr><td>...</td><td>...</td><td>...</td><td>...</td></tr>\n",
       "\t<tr><td> 3</td><td>F</td><td>cxen</td><td>43.3712</td></tr>\n",
       "\t<tr><td> 4</td><td>F</td><td>cxen</td><td>34.4035</td></tr>\n",
       "\t<tr><td> 5</td><td>F</td><td>cxen</td><td>46.3137</td></tr>\n",
       "\t<tr><td> 6</td><td>F</td><td>cxen</td><td>42.1587</td></tr>\n",
       "\t<tr><td> 7</td><td>F</td><td>cxen</td><td>43.6742</td></tr>\n",
       "\t<tr><td> 8</td><td>F</td><td>cxen</td><td>39.4447</td></tr>\n",
       "\t<tr><td> 9</td><td>F</td><td>cxen</td><td>43.173 </td></tr>\n",
       "\t<tr><td>10</td><td>F</td><td>cxen</td><td>39.4606</td></tr>\n",
       "\t<tr><td>11</td><td>F</td><td>cxen</td><td>38.214 </td></tr>\n",
       "\t<tr><td>12</td><td>F</td><td>cxen</td><td>39.4718</td></tr>\n",
       "\t<tr><td>13</td><td>F</td><td>cxen</td><td>42.6061</td></tr>\n",
       "\t<tr><td>14</td><td>F</td><td>cxen</td><td>37.8219</td></tr>\n",
       "\t<tr><td>15</td><td>F</td><td>cxen</td><td>29.4278</td></tr>\n",
       "\t<tr><td>16</td><td>M</td><td>cxen</td><td>43.6543</td></tr>\n",
       "\t<tr><td>17</td><td>M</td><td>cxen</td><td>55.4451</td></tr>\n",
       "\t<tr><td>18</td><td>M</td><td>cxen</td><td>26.8333</td></tr>\n",
       "\t<tr><td>19</td><td>M</td><td>cxen</td><td>31.7301</td></tr>\n",
       "\t<tr><td>20</td><td>M</td><td>cxen</td><td>38.4417</td></tr>\n",
       "\t<tr><td>21</td><td>M</td><td>cxen</td><td>40.0405</td></tr>\n",
       "\t<tr><td>22</td><td>M</td><td>cxen</td><td>53.7414</td></tr>\n",
       "\t<tr><td>23</td><td>M</td><td>cxen</td><td>42.6009</td></tr>\n",
       "\t<tr><td>24</td><td>M</td><td>cxen</td><td>42.6009</td></tr>\n",
       "\t<tr><td>25</td><td>M</td><td>cxen</td><td>43.3814</td></tr>\n",
       "\t<tr><td>26</td><td>M</td><td>cxen</td><td>42.6104</td></tr>\n",
       "\t<tr><td>27</td><td>M</td><td>cxen</td><td>42.9607</td></tr>\n",
       "\t<tr><td>28</td><td>M</td><td>cxen</td><td>31.9481</td></tr>\n",
       "\t<tr><td>29</td><td>M</td><td>cxen</td><td>44.6203</td></tr>\n",
       "\t<tr><td>30</td><td>M</td><td>cxen</td><td>49.8009</td></tr>\n",
       "\t<tr><td>31</td><td>M</td><td>cxen</td><td>39.7252</td></tr>\n",
       "\t<tr><td>32</td><td>M</td><td>cxen</td><td>42.7801</td></tr>\n",
       "</tbody>\n",
       "</table>\n"
      ],
      "text/latex": [
       "A data.frame: 128 x 4\n",
       "\\begin{tabular}{llll}\n",
       " subno & sex & exp.setting & time\\\\\n",
       " <int> & <chr> & <chr> & <chr>\\\\\n",
       "\\hline\n",
       "\t  1 & F & aw & 44.6667\\\\\n",
       "\t  2 & F & aw & 42.7083\\\\\n",
       "\t  3 & F & aw & 41.6957\\\\\n",
       "\t  4 & F & aw & 34.7778\\\\\n",
       "\t  5 & F & aw & 47.0833\\\\\n",
       "\t  6 & F & aw & 39.7727\\\\\n",
       "\t  7 & F & aw & 44.125 \\\\\n",
       "\t  8 & F & aw & 41.1667\\\\\n",
       "\t  9 & F & aw & 41.619 \\\\\n",
       "\t 10 & F & aw & 38.7083\\\\\n",
       "\t 11 & F & aw & 38.5833\\\\\n",
       "\t 12 & F & aw & 38.125 \\\\\n",
       "\t 13 & F & aw & 42.8333\\\\\n",
       "\t 14 & F & aw & 35.7917\\\\\n",
       "\t 15 & F & aw & 33.3158\\\\\n",
       "\t 16 & M & aw & 43.7826\\\\\n",
       "\t 17 & M & aw & 49.7727\\\\\n",
       "\t 18 & M & aw & 28.5556\\\\\n",
       "\t 19 & M & aw & 33.7059\\\\\n",
       "\t 20 & M & aw & 38.6667\\\\\n",
       "\t 21 & M & aw & 41.1364\\\\\n",
       "\t 22 & M & aw & 52.9545\\\\\n",
       "\t 23 & M & aw & 44.125 \\\\\n",
       "\t 24 & M & aw & 44.125 \\\\\n",
       "\t 25 & M & aw & 44.625 \\\\\n",
       "\t 26 & M & aw & 39.8261\\\\\n",
       "\t 27 & M & aw & 40.2174\\\\\n",
       "\t 28 & M & aw & 30.1176\\\\\n",
       "\t 29 & M & aw & 43.25  \\\\\n",
       "\t 30 & M & aw & 47.9048\\\\\n",
       "\t ... & ... & ... & ...\\\\\n",
       "\t  3 & F & cxen & 43.3712\\\\\n",
       "\t  4 & F & cxen & 34.4035\\\\\n",
       "\t  5 & F & cxen & 46.3137\\\\\n",
       "\t  6 & F & cxen & 42.1587\\\\\n",
       "\t  7 & F & cxen & 43.6742\\\\\n",
       "\t  8 & F & cxen & 39.4447\\\\\n",
       "\t  9 & F & cxen & 43.173 \\\\\n",
       "\t 10 & F & cxen & 39.4606\\\\\n",
       "\t 11 & F & cxen & 38.214 \\\\\n",
       "\t 12 & F & cxen & 39.4718\\\\\n",
       "\t 13 & F & cxen & 42.6061\\\\\n",
       "\t 14 & F & cxen & 37.8219\\\\\n",
       "\t 15 & F & cxen & 29.4278\\\\\n",
       "\t 16 & M & cxen & 43.6543\\\\\n",
       "\t 17 & M & cxen & 55.4451\\\\\n",
       "\t 18 & M & cxen & 26.8333\\\\\n",
       "\t 19 & M & cxen & 31.7301\\\\\n",
       "\t 20 & M & cxen & 38.4417\\\\\n",
       "\t 21 & M & cxen & 40.0405\\\\\n",
       "\t 22 & M & cxen & 53.7414\\\\\n",
       "\t 23 & M & cxen & 42.6009\\\\\n",
       "\t 24 & M & cxen & 42.6009\\\\\n",
       "\t 25 & M & cxen & 43.3814\\\\\n",
       "\t 26 & M & cxen & 42.6104\\\\\n",
       "\t 27 & M & cxen & 42.9607\\\\\n",
       "\t 28 & M & cxen & 31.9481\\\\\n",
       "\t 29 & M & cxen & 44.6203\\\\\n",
       "\t 30 & M & cxen & 49.8009\\\\\n",
       "\t 31 & M & cxen & 39.7252\\\\\n",
       "\t 32 & M & cxen & 42.7801\\\\\n",
       "\\end{tabular}\n"
      ],
      "text/markdown": [
       "\n",
       "A data.frame: 128 x 4\n",
       "\n",
       "| subno &lt;int&gt; | sex &lt;chr&gt; | exp.setting &lt;chr&gt; | time &lt;chr&gt; |\n",
       "|---|---|---|---|\n",
       "|  1 | F | aw | 44.6667 |\n",
       "|  2 | F | aw | 42.7083 |\n",
       "|  3 | F | aw | 41.6957 |\n",
       "|  4 | F | aw | 34.7778 |\n",
       "|  5 | F | aw | 47.0833 |\n",
       "|  6 | F | aw | 39.7727 |\n",
       "|  7 | F | aw | 44.125  |\n",
       "|  8 | F | aw | 41.1667 |\n",
       "|  9 | F | aw | 41.619  |\n",
       "| 10 | F | aw | 38.7083 |\n",
       "| 11 | F | aw | 38.5833 |\n",
       "| 12 | F | aw | 38.125  |\n",
       "| 13 | F | aw | 42.8333 |\n",
       "| 14 | F | aw | 35.7917 |\n",
       "| 15 | F | aw | 33.3158 |\n",
       "| 16 | M | aw | 43.7826 |\n",
       "| 17 | M | aw | 49.7727 |\n",
       "| 18 | M | aw | 28.5556 |\n",
       "| 19 | M | aw | 33.7059 |\n",
       "| 20 | M | aw | 38.6667 |\n",
       "| 21 | M | aw | 41.1364 |\n",
       "| 22 | M | aw | 52.9545 |\n",
       "| 23 | M | aw | 44.125  |\n",
       "| 24 | M | aw | 44.125  |\n",
       "| 25 | M | aw | 44.625  |\n",
       "| 26 | M | aw | 39.8261 |\n",
       "| 27 | M | aw | 40.2174 |\n",
       "| 28 | M | aw | 30.1176 |\n",
       "| 29 | M | aw | 43.25   |\n",
       "| 30 | M | aw | 47.9048 |\n",
       "| ... | ... | ... | ... |\n",
       "|  3 | F | cxen | 43.3712 |\n",
       "|  4 | F | cxen | 34.4035 |\n",
       "|  5 | F | cxen | 46.3137 |\n",
       "|  6 | F | cxen | 42.1587 |\n",
       "|  7 | F | cxen | 43.6742 |\n",
       "|  8 | F | cxen | 39.4447 |\n",
       "|  9 | F | cxen | 43.173  |\n",
       "| 10 | F | cxen | 39.4606 |\n",
       "| 11 | F | cxen | 38.214  |\n",
       "| 12 | F | cxen | 39.4718 |\n",
       "| 13 | F | cxen | 42.6061 |\n",
       "| 14 | F | cxen | 37.8219 |\n",
       "| 15 | F | cxen | 29.4278 |\n",
       "| 16 | M | cxen | 43.6543 |\n",
       "| 17 | M | cxen | 55.4451 |\n",
       "| 18 | M | cxen | 26.8333 |\n",
       "| 19 | M | cxen | 31.7301 |\n",
       "| 20 | M | cxen | 38.4417 |\n",
       "| 21 | M | cxen | 40.0405 |\n",
       "| 22 | M | cxen | 53.7414 |\n",
       "| 23 | M | cxen | 42.6009 |\n",
       "| 24 | M | cxen | 42.6009 |\n",
       "| 25 | M | cxen | 43.3814 |\n",
       "| 26 | M | cxen | 42.6104 |\n",
       "| 27 | M | cxen | 42.9607 |\n",
       "| 28 | M | cxen | 31.9481 |\n",
       "| 29 | M | cxen | 44.6203 |\n",
       "| 30 | M | cxen | 49.8009 |\n",
       "| 31 | M | cxen | 39.7252 |\n",
       "| 32 | M | cxen | 42.7801 |\n",
       "\n"
      ],
      "text/plain": [
       "    subno sex exp.setting time   \n",
       "1    1    F   aw          44.6667\n",
       "2    2    F   aw          42.7083\n",
       "3    3    F   aw          41.6957\n",
       "4    4    F   aw          34.7778\n",
       "5    5    F   aw          47.0833\n",
       "6    6    F   aw          39.7727\n",
       "7    7    F   aw          44.125 \n",
       "8    8    F   aw          41.1667\n",
       "9    9    F   aw          41.619 \n",
       "10  10    F   aw          38.7083\n",
       "11  11    F   aw          38.5833\n",
       "12  12    F   aw          38.125 \n",
       "13  13    F   aw          42.8333\n",
       "14  14    F   aw          35.7917\n",
       "15  15    F   aw          33.3158\n",
       "16  16    M   aw          43.7826\n",
       "17  17    M   aw          49.7727\n",
       "18  18    M   aw          28.5556\n",
       "19  19    M   aw          33.7059\n",
       "20  20    M   aw          38.6667\n",
       "21  21    M   aw          41.1364\n",
       "22  22    M   aw          52.9545\n",
       "23  23    M   aw          44.125 \n",
       "24  24    M   aw          44.125 \n",
       "25  25    M   aw          44.625 \n",
       "26  26    M   aw          39.8261\n",
       "27  27    M   aw          40.2174\n",
       "28  28    M   aw          30.1176\n",
       "29  29    M   aw          43.25  \n",
       "30  30    M   aw          47.9048\n",
       "... ...   ... ...         ...    \n",
       "99   3    F   cxen        43.3712\n",
       "100  4    F   cxen        34.4035\n",
       "101  5    F   cxen        46.3137\n",
       "102  6    F   cxen        42.1587\n",
       "103  7    F   cxen        43.6742\n",
       "104  8    F   cxen        39.4447\n",
       "105  9    F   cxen        43.173 \n",
       "106 10    F   cxen        39.4606\n",
       "107 11    F   cxen        38.214 \n",
       "108 12    F   cxen        39.4718\n",
       "109 13    F   cxen        42.6061\n",
       "110 14    F   cxen        37.8219\n",
       "111 15    F   cxen        29.4278\n",
       "112 16    M   cxen        43.6543\n",
       "113 17    M   cxen        55.4451\n",
       "114 18    M   cxen        26.8333\n",
       "115 19    M   cxen        31.7301\n",
       "116 20    M   cxen        38.4417\n",
       "117 21    M   cxen        40.0405\n",
       "118 22    M   cxen        53.7414\n",
       "119 23    M   cxen        42.6009\n",
       "120 24    M   cxen        42.6009\n",
       "121 25    M   cxen        43.3814\n",
       "122 26    M   cxen        42.6104\n",
       "123 27    M   cxen        42.9607\n",
       "124 28    M   cxen        31.9481\n",
       "125 29    M   cxen        44.6203\n",
       "126 30    M   cxen        49.8009\n",
       "127 31    M   cxen        39.7252\n",
       "128 32    M   cxen        42.7801"
      ]
     },
     "metadata": {},
     "output_type": "display_data"
    }
   ],
   "source": [
    "###################################################################################\n",
    "# Weapons and Aggression: t-test\n",
    "# Case Study: https://onlinestatbook.com/case_studies_rvls/guns/index.html\n",
    "#\n",
    "#\n",
    "# file: case_study_weapons_aggression_sol.R\n",
    "###################################################################################\n",
    "\n",
    "library(tidyverse)\n",
    "\n",
    "# Background: The \"weapons effect\" is the finding that the presence of a weapon \n",
    "# or even a picture of a weapon can cause people to behave more aggressively. \n",
    "# One explanation of the weapons effect is that because guns have been associated \n",
    "# with aggression, seeing a gun increases the accessibility of associated aggressive \n",
    "# thoughts which in turn facilitate aggressive behavior. The idea that activation \n",
    "# of a concept in semantic memory increases activation and therefore accessibility \n",
    "# of related concepts is called spreading activation.If this spreading activation \n",
    "# explanation of the weapons effect is correct, then the presence of a weapon \n",
    "# word (such as \"dagger\" or \"bullet\") should increase the accessibility of an \n",
    "# aggressive word (such as \"destroy\" or \"wound\"). The accessibility of a word \n",
    "# can be measured by the time it takes to name a word presented on computer screen. \n",
    "\n",
    "# Experimental Design: The hypothesis is that a person can name an aggressive word\n",
    "# more quickly if it is preceded by a weapon word than if it word is preceded by\n",
    "# a neutral word. Each subject named both aggressive and non-agressive words\n",
    "# following both weapon and non-weapon \"primes.\"\n",
    "# The subjects were undergraduate students ranging in age between 18 and 24 years.\n",
    "# They were told that the purpose of this study was to test reading ability of\n",
    "# various words. On each of the 192 trials, a computer presented a priming stimulus\n",
    "# word (either a weapon or non-weapon word) for 1.25 seconds, a blank screen for\n",
    "# 0.5 seconds, and then a target word (agressive or nonagressive word). The\n",
    "# experimenter instructed the subjects to read the first word to themselves and\n",
    "# then to read the second word out loud as quickly as they could. The computer\n",
    "# recorded reaction times. The means of the times in each of the four conditions \n",
    "# AN: Aggressive target word, nonweapon prime\n",
    "# AW: Aggressive target word, weapon prime\n",
    "# CN: Control target word (nonaggressive) and nonweapon prime\n",
    "# CW: Control target word (nonaggressive) and weapon prime\n",
    "# were used as the dependent variables. Therefore, each subject provided four\n",
    "# scores to the analysis.\n",
    "\n",
    "# Load the raw data and make the data tidy if necessary.\n",
    "raw.data <- read.csv2(\n",
    "  \"weapons.aggression.csv\", \n",
    "         sep=\";\", comment.char=\"#\")\n",
    "raw.data\n",
    "\n",
    "# make the data tidy\n",
    "raw.data %>%\n",
    "  gather(aw:cxen, key = \"exp.setting\", value = \"time\") -> tidy.data\n",
    "tidy.data"
   ]
  },
  {
   "cell_type": "code",
   "execution_count": 20,
   "metadata": {
    "vscode": {
     "languageId": "r"
    }
   },
   "outputs": [
    {
     "data": {
      "image/png": "[encoded data removed]",
      "text/plain": [
       "plot without title"
      ]
     },
     "metadata": {
      "image/png": {
       "height": 420,
       "width": 420
      }
     },
     "output_type": "display_data"
    }
   ],
   "source": [
    "\n",
    "# Generate side by side boxplots to visualize the results for the different experiments.\n",
    "boxplot(tidy.data$time ~ tidy.data$exp.setting,\n",
    "        names = c(\"AN\", \"AW\", \"CN\", \"CW\"),\n",
    "        ylab = \"\", xlab = \"\")"
   ]
  },
  {
   "cell_type": "code",
   "execution_count": 22,
   "metadata": {
    "vscode": {
     "languageId": "r"
    }
   },
   "outputs": [
    {
     "name": "stdout",
     "output_type": "stream",
     "text": [
      "[1] \"numeric\"\n",
      "[1] \"factor\"\n",
      "[1] FALSE\n",
      "[1] FALSE\n"
     ]
    }
   ],
   "source": [
    "# Check data types\n",
    "print(class(tidy.data$time))\n",
    "print(class(tidy.data$exp.setting))\n",
    "\n",
    "# Check for missing values\n",
    "print(any(is.na(tidy.data$time)))\n",
    "print(any(is.na(tidy.data$exp.setting)))"
   ]
  },
  {
   "cell_type": "code",
   "execution_count": 29,
   "metadata": {
    "vscode": {
     "languageId": "r"
    }
   },
   "outputs": [
    {
     "data": {
      "text/html": [
       "<table class=\"dataframe\">\n",
       "<caption>A tibble: 4 x 9</caption>\n",
       "<thead>\n",
       "\t<tr><th scope=col>exp.setting</th><th scope=col>N</th><th scope=col>Min</th><th scope=col>Max</th><th scope=col>Mean</th><th scope=col>Q1</th><th scope=col>Q2</th><th scope=col>Q3</th><th scope=col>SD</th></tr>\n",
       "\t<tr><th scope=col>&lt;fct&gt;</th><th scope=col>&lt;int&gt;</th><th scope=col>&lt;dbl&gt;</th><th scope=col>&lt;dbl&gt;</th><th scope=col>&lt;dbl&gt;</th><th scope=col>&lt;dbl&gt;</th><th scope=col>&lt;dbl&gt;</th><th scope=col>&lt;dbl&gt;</th><th scope=col>&lt;dbl&gt;</th></tr>\n",
       "</thead>\n",
       "<tbody>\n",
       "\t<tr><td>an  </td><td>32</td><td>31.1176</td><td>54.3913</td><td>41.63954</td><td>38.27080</td><td>42.08335</td><td>43.82142</td><td>5.122017</td></tr>\n",
       "\t<tr><td>aw  </td><td>32</td><td>28.5556</td><td>52.9545</td><td>40.91844</td><td>38.64585</td><td>41.39285</td><td>44.12500</td><td>5.284528</td></tr>\n",
       "\t<tr><td>cxen</td><td>32</td><td>26.8333</td><td>55.4451</td><td>41.33565</td><td>39.19395</td><td>42.60350</td><td>43.65927</td><td>6.089250</td></tr>\n",
       "\t<tr><td>cxew</td><td>32</td><td>28.8856</td><td>54.9234</td><td>41.45760</td><td>38.33760</td><td>42.69070</td><td>43.81582</td><td>5.531030</td></tr>\n",
       "</tbody>\n",
       "</table>\n"
      ],
      "text/latex": [
       "A tibble: 4 x 9\n",
       "\\begin{tabular}{lllllllll}\n",
       " exp.setting & N & Min & Max & Mean & Q1 & Q2 & Q3 & SD\\\\\n",
       " <fct> & <int> & <dbl> & <dbl> & <dbl> & <dbl> & <dbl> & <dbl> & <dbl>\\\\\n",
       "\\hline\n",
       "\t an   & 32 & 31.1176 & 54.3913 & 41.63954 & 38.27080 & 42.08335 & 43.82142 & 5.122017\\\\\n",
       "\t aw   & 32 & 28.5556 & 52.9545 & 40.91844 & 38.64585 & 41.39285 & 44.12500 & 5.284528\\\\\n",
       "\t cxen & 32 & 26.8333 & 55.4451 & 41.33565 & 39.19395 & 42.60350 & 43.65927 & 6.089250\\\\\n",
       "\t cxew & 32 & 28.8856 & 54.9234 & 41.45760 & 38.33760 & 42.69070 & 43.81582 & 5.531030\\\\\n",
       "\\end{tabular}\n"
      ],
      "text/markdown": [
       "\n",
       "A tibble: 4 x 9\n",
       "\n",
       "| exp.setting &lt;fct&gt; | N &lt;int&gt; | Min &lt;dbl&gt; | Max &lt;dbl&gt; | Mean &lt;dbl&gt; | Q1 &lt;dbl&gt; | Q2 &lt;dbl&gt; | Q3 &lt;dbl&gt; | SD &lt;dbl&gt; |\n",
       "|---|---|---|---|---|---|---|---|---|\n",
       "| an   | 32 | 31.1176 | 54.3913 | 41.63954 | 38.27080 | 42.08335 | 43.82142 | 5.122017 |\n",
       "| aw   | 32 | 28.5556 | 52.9545 | 40.91844 | 38.64585 | 41.39285 | 44.12500 | 5.284528 |\n",
       "| cxen | 32 | 26.8333 | 55.4451 | 41.33565 | 39.19395 | 42.60350 | 43.65927 | 6.089250 |\n",
       "| cxew | 32 | 28.8856 | 54.9234 | 41.45760 | 38.33760 | 42.69070 | 43.81582 | 5.531030 |\n",
       "\n"
      ],
      "text/plain": [
       "  exp.setting N  Min     Max     Mean     Q1       Q2       Q3       SD      \n",
       "1 an          32 31.1176 54.3913 41.63954 38.27080 42.08335 43.82142 5.122017\n",
       "2 aw          32 28.5556 52.9545 40.91844 38.64585 41.39285 44.12500 5.284528\n",
       "3 cxen        32 26.8333 55.4451 41.33565 39.19395 42.60350 43.65927 6.089250\n",
       "4 cxew        32 28.8856 54.9234 41.45760 38.33760 42.69070 43.81582 5.531030"
      ]
     },
     "metadata": {},
     "output_type": "display_data"
    },
    {
     "data": {
      "text/html": [
       "<table class=\"dataframe\">\n",
       "<caption>A tibble: 1 x 8</caption>\n",
       "<thead>\n",
       "\t<tr><th scope=col>N</th><th scope=col>Min</th><th scope=col>Max</th><th scope=col>Mean</th><th scope=col>Q1</th><th scope=col>Q2</th><th scope=col>Q3</th><th scope=col>SD</th></tr>\n",
       "\t<tr><th scope=col>&lt;int&gt;</th><th scope=col>&lt;dbl&gt;</th><th scope=col>&lt;dbl&gt;</th><th scope=col>&lt;dbl&gt;</th><th scope=col>&lt;dbl&gt;</th><th scope=col>&lt;dbl&gt;</th><th scope=col>&lt;dbl&gt;</th><th scope=col>&lt;dbl&gt;</th></tr>\n",
       "</thead>\n",
       "<tbody>\n",
       "\t<tr><td>32</td><td>-2.7355</td><td>4.3225</td><td>0.7211062</td><td>-0.7189</td><td>0.64585</td><td>2.006225</td><td>1.820183</td></tr>\n",
       "</tbody>\n",
       "</table>\n"
      ],
      "text/latex": [
       "A tibble: 1 x 8\n",
       "\\begin{tabular}{llllllll}\n",
       " N & Min & Max & Mean & Q1 & Q2 & Q3 & SD\\\\\n",
       " <int> & <dbl> & <dbl> & <dbl> & <dbl> & <dbl> & <dbl> & <dbl>\\\\\n",
       "\\hline\n",
       "\t 32 & -2.7355 & 4.3225 & 0.7211062 & -0.7189 & 0.64585 & 2.006225 & 1.820183\\\\\n",
       "\\end{tabular}\n"
      ],
      "text/markdown": [
       "\n",
       "A tibble: 1 x 8\n",
       "\n",
       "| N &lt;int&gt; | Min &lt;dbl&gt; | Max &lt;dbl&gt; | Mean &lt;dbl&gt; | Q1 &lt;dbl&gt; | Q2 &lt;dbl&gt; | Q3 &lt;dbl&gt; | SD &lt;dbl&gt; |\n",
       "|---|---|---|---|---|---|---|---|\n",
       "| 32 | -2.7355 | 4.3225 | 0.7211062 | -0.7189 | 0.64585 | 2.006225 | 1.820183 |\n",
       "\n"
      ],
      "text/plain": [
       "  N  Min     Max    Mean      Q1      Q2      Q3       SD      \n",
       "1 32 -2.7355 4.3225 0.7211062 -0.7189 0.64585 2.006225 1.820183"
      ]
     },
     "metadata": {},
     "output_type": "display_data"
    }
   ],
   "source": [
    "# Convert raw.data$an and raw.data$aw to numeric\n",
    "raw.data$an <- as.numeric(raw.data$an)\n",
    "raw.data$aw <- as.numeric(raw.data$aw)\n",
    "\n",
    "# Evaluate the number of observations, min, max, mean and sd for all experimental settings.\n",
    "tidy.data %>%\n",
    "  group_by(exp.setting) %>%\n",
    "  summarise(N = n(), Min = min(time), Max = max(time), Mean = mean(time), \n",
    "            Q1 = quantile(time, probs = 0.25), Q2 = quantile(time, probs = 0.5),\n",
    "            Q3 = quantile(time, probs = 0.75), SD = sd(time))\n",
    "\n",
    "# The hypothesis is that a person can name an aggressive word more quickly if it\n",
    "# is preceded by a weapon word than if the aggressive word is preceded by a \n",
    "# neutral word. \n",
    "# Compute the difference between the mean naming time of aggressive words when \n",
    "# preceded by a neutral word and the mean naming time of aggressive words when \n",
    "# preceded by a weapon word separately for each subject. This difference score \n",
    "# (prime_agg) will be called the \"aggressive-word priming effect.\" The hypothesis \n",
    "# would be supported if: the mean aggressive-word priming effect were positive.\n",
    "# Evaluate prime_agg and the min, max, mean, Q1, Q2, Q3 and standard deviation of \n",
    "# prime_agg\n",
    "prime_agg <- raw.data$an - raw.data$aw\n",
    "tibble(diff = prime_agg) %>%\n",
    "  summarise(N = n(), Min = min(diff), Max = max(diff), Mean = mean(diff), \n",
    "            Q1 = quantile(diff, probs = 0.25), Q2 = quantile(diff, probs = 0.5),\n",
    "            Q3 = quantile(diff, probs = 0.75), SD = sd(diff))\n",
    "\n",
    "# As hypothesized, the mean aggressive-word priming effect is positive. \n",
    "\n",
    "# Regard now the possibility that \"weapon words\" prime non-aggressive as well as\n",
    "# aggressive words. To control for this, compute the difference between \n",
    "# (a) the mean naming time of non-aggressive words when preceded by a non-weapon word \n",
    "# and \n",
    "# (b) the mean naming time of non-aggressive words when preceded by a weapon word \n",
    "# separately for each subject. This difference represents the how much preceding \n",
    "# a non-aggressive word by a weapon word decreases the time it takes to name the \n",
    "# nonaggressive word and is called the \"non-aggressive word priming effect.\" \n",
    "# Finally, for each subject, subtract this \"non-aggressive word priming effect\" \n",
    "# from the \"aggressive-word priming effect\" described above. This difference \n",
    "# will be called \"prime difference\" and labeled \"prime_diff\".\n",
    "# Evaluate prime_diff and the min, max, mean, Q1, Q2, Q3 and standard deviation of \n",
    "#prime_diff"
   ]
  },
  {
   "cell_type": "code",
   "execution_count": 28,
   "metadata": {
    "vscode": {
     "languageId": "r"
    }
   },
   "outputs": [
    {
     "data": {
      "text/html": [
       "<table class=\"dataframe\">\n",
       "<caption>A tibble: 1 x 8</caption>\n",
       "<thead>\n",
       "\t<tr><th scope=col>N</th><th scope=col>Min</th><th scope=col>Max</th><th scope=col>Mean</th><th scope=col>Q1</th><th scope=col>Q2</th><th scope=col>Q3</th><th scope=col>SD</th></tr>\n",
       "\t<tr><th scope=col>&lt;int&gt;</th><th scope=col>&lt;dbl&gt;</th><th scope=col>&lt;dbl&gt;</th><th scope=col>&lt;dbl&gt;</th><th scope=col>&lt;dbl&gt;</th><th scope=col>&lt;dbl&gt;</th><th scope=col>&lt;dbl&gt;</th><th scope=col>&lt;dbl&gt;</th></tr>\n",
       "</thead>\n",
       "<tbody>\n",
       "\t<tr><td>32</td><td>-2.801</td><td>6.0402</td><td>0.8430625</td><td>-0.73785</td><td>0.5794</td><td>2.6526</td><td>2.195333</td></tr>\n",
       "</tbody>\n",
       "</table>\n"
      ],
      "text/latex": [
       "A tibble: 1 x 8\n",
       "\\begin{tabular}{llllllll}\n",
       " N & Min & Max & Mean & Q1 & Q2 & Q3 & SD\\\\\n",
       " <int> & <dbl> & <dbl> & <dbl> & <dbl> & <dbl> & <dbl> & <dbl>\\\\\n",
       "\\hline\n",
       "\t 32 & -2.801 & 6.0402 & 0.8430625 & -0.73785 & 0.5794 & 2.6526 & 2.195333\\\\\n",
       "\\end{tabular}\n"
      ],
      "text/markdown": [
       "\n",
       "A tibble: 1 x 8\n",
       "\n",
       "| N &lt;int&gt; | Min &lt;dbl&gt; | Max &lt;dbl&gt; | Mean &lt;dbl&gt; | Q1 &lt;dbl&gt; | Q2 &lt;dbl&gt; | Q3 &lt;dbl&gt; | SD &lt;dbl&gt; |\n",
       "|---|---|---|---|---|---|---|---|\n",
       "| 32 | -2.801 | 6.0402 | 0.8430625 | -0.73785 | 0.5794 | 2.6526 | 2.195333 |\n",
       "\n"
      ],
      "text/plain": [
       "  N  Min    Max    Mean      Q1       Q2     Q3     SD      \n",
       "1 32 -2.801 6.0402 0.8430625 -0.73785 0.5794 2.6526 2.195333"
      ]
     },
     "metadata": {},
     "output_type": "display_data"
    },
    {
     "data": {
      "text/plain": [
       "\n",
       "\tOne Sample t-test\n",
       "\n",
       "data:  prime_agg\n",
       "t = 2.2411, df = 31, p-value = 0.03232\n",
       "alternative hypothesis: true mean is not equal to 0\n",
       "95 percent confidence interval:\n",
       " 0.0648602 1.3773523\n",
       "sample estimates:\n",
       "mean of x \n",
       "0.7211062 \n"
      ]
     },
     "metadata": {},
     "output_type": "display_data"
    },
    {
     "data": {
      "text/plain": [
       "\n",
       "\tOne Sample t-test\n",
       "\n",
       "data:  prime_diff\n",
       "t = 2.1724, df = 31, p-value = 0.03759\n",
       "alternative hypothesis: true mean is not equal to 0\n",
       "95 percent confidence interval:\n",
       " 0.05156064 1.63456436\n",
       "sample estimates:\n",
       "mean of x \n",
       "0.8430625 \n"
      ]
     },
     "metadata": {},
     "output_type": "display_data"
    }
   ],
   "source": [
    "# Convert raw.data$an and raw.data$aw to numeric\n",
    "raw.data$cxen <- as.numeric(raw.data$cxen)\n",
    "raw.data$cxew <- as.numeric(raw.data$cxew)\n",
    "\n",
    "prime_diff <-\n",
    "  # aggressive-word priming effect\n",
    "  prime_agg - \n",
    "  # non-aggressive word priming effect\n",
    "  (raw.data$cxen - # mean naming time of non-aggressive words when preceded \n",
    "                   # by a non-weapon word \n",
    "  raw.data$cxew)   # mean naming time of non-aggressive words when preceded by \n",
    "                   # a weapon word\n",
    "\n",
    "tibble(diff = prime_diff) %>%\n",
    "  summarise(N = n(), Min = min(diff), Max = max(diff), Mean = mean(diff), \n",
    "            Q1 = quantile(diff, probs = 0.25), Q2 = quantile(diff, probs = 0.5),\n",
    "            Q3 = quantile(diff, probs = 0.75), SD = sd(diff))\n",
    "\n",
    "# The hypothesis is that the mean prime difference will be positive.\n",
    "\n",
    "# As shown before, the mean aggressive-word priming effect was 0.721. Check if\n",
    "# this value differs significantly different from 0. \n",
    "\n",
    "t.test(x = prime_agg, alternative = \"two.sided\", mu = 0)\n",
    "\n",
    "# Since p-value = 0.0323 we can support the hypothesis that preceding an \n",
    "# aggressive word with a weapon prime decreases the time it takes to name the \n",
    "# aggressive word.\n",
    "\n",
    "# More important is the question that the\"prime difference\" score mean of 0.8432 \n",
    "# differs significantly from zero. \n",
    "\n",
    "res.t.test.primed.diff <- t.test(x = prime_diff, alternative = \"two.sided\", mu = 0)\n",
    "res.t.test.primed.diff\n",
    "\n",
    "# Therefore, it can be concluded that weapon words prime aggressive words more \n",
    "# than they prime non-aggressive words."
   ]
  },
  {
   "cell_type": "code",
   "execution_count": 1,
   "metadata": {
    "vscode": {
     "languageId": "r"
    }
   },
   "outputs": [
    {
     "data": {
      "text/html": [
       "4.65102139319956"
      ],
      "text/latex": [
       "4.65102139319956"
      ],
      "text/markdown": [
       "4.65102139319956"
      ],
      "text/plain": [
       "[1] 4.651021"
      ]
     },
     "metadata": {},
     "output_type": "display_data"
    },
    {
     "data": {
      "text/html": [
       "-1.95996398454005"
      ],
      "text/latex": [
       "-1.95996398454005"
      ],
      "text/markdown": [
       "-1.95996398454005"
      ],
      "text/plain": [
       "[1] -1.959964"
      ]
     },
     "metadata": {},
     "output_type": "display_data"
    },
    {
     "data": {
      "text/html": [
       "1.95996398454005"
      ],
      "text/latex": [
       "1.95996398454005"
      ],
      "text/markdown": [
       "1.95996398454005"
      ],
      "text/plain": [
       "[1] 1.959964"
      ]
     },
     "metadata": {},
     "output_type": "display_data"
    },
    {
     "data": {
      "text/html": [
       "TRUE"
      ],
      "text/latex": [
       "TRUE"
      ],
      "text/markdown": [
       "TRUE"
      ],
      "text/plain": [
       "[1] TRUE"
      ]
     },
     "metadata": {},
     "output_type": "display_data"
    },
    {
     "data": {
      "text/html": [
       "3.30295059255369e-06"
      ],
      "text/latex": [
       "3.30295059255369e-06"
      ],
      "text/markdown": [
       "3.30295059255369e-06"
      ],
      "text/plain": [
       "[1] 3.302951e-06"
      ]
     },
     "metadata": {},
     "output_type": "display_data"
    },
    {
     "data": {
      "text/plain": [
       "\n",
       "\tExact binomial test\n",
       "\n",
       "data:  c(h, n - h)\n",
       "number of successes = 302, number of trials = 500, p-value = 3.799e-06\n",
       "alternative hypothesis: true probability of success is not equal to 0.5\n",
       "95 percent confidence interval:\n",
       " 0.5596207 0.6471421\n",
       "sample estimates:\n",
       "probability of success \n",
       "                 0.604 \n"
      ]
     },
     "metadata": {},
     "output_type": "display_data"
    },
    {
     "data": {
      "text/html": [
       "3.79939039200655e-06"
      ],
      "text/latex": [
       "3.79939039200655e-06"
      ],
      "text/markdown": [
       "3.79939039200655e-06"
      ],
      "text/plain": [
       "[1] 3.79939e-06"
      ]
     },
     "metadata": {},
     "output_type": "display_data"
    }
   ],
   "source": [
    "###################################################################\n",
    "# A coin is tossed 500 times and results in 302 \n",
    "# heads. At the 0.05 level, test to see if the \n",
    "# coin is unfair.\n",
    "#\n",
    "# file: infstat_testing_coin_tosses.R\n",
    "####################################################################\n",
    "n <- 500\n",
    "h <- 302\n",
    "p0 <- 0.5\n",
    "p <- h/n\n",
    "alpha <- 0.05\n",
    "\n",
    "test_statistic <- (p-p0)/(p0*(1-p0)/n)^0.5\n",
    "test_statistic # 4.651021\n",
    "\n",
    "lb_rejection_region <- -qnorm(1-alpha/2,0,1)\n",
    "ub_rejection_region <- qnorm(1-alpha/2,0,1)\n",
    "lb_rejection_region; ub_rejection_region\n",
    "# -1.959964; 1.959964\n",
    "\n",
    "test_statistic < lb_rejection_region ||\n",
    "  test_statistic > ub_rejection_region\n",
    "# TRUE -> reject H0\n",
    "\n",
    "# pvalue: approximate test\n",
    "2*pnorm(-abs(test_statistic))\n",
    "\n",
    "# exact test\n",
    "binom.test(x = c(h,n-h), alternative = \"two.sided\", conf.level = 1-alpha)\n",
    "\n",
    "# pvalue: exact test\n",
    "pbinom(n-h, size = n, prob = 0.5) + (1-pbinom(h-1, size = n, prob = 0.5))"
   ]
  },
  {
   "cell_type": "code",
   "execution_count": 2,
   "metadata": {
    "vscode": {
     "languageId": "r"
    }
   },
   "outputs": [
    {
     "name": "stderr",
     "output_type": "stream",
     "text": [
      "-- \u001b[1mAttaching core tidyverse packages\u001b[22m ------------------------ tidyverse 2.0.0 --\n",
      "\u001b[32mv\u001b[39m \u001b[34mdplyr    \u001b[39m 1.1.4     \u001b[32mv\u001b[39m \u001b[34mreadr    \u001b[39m 2.1.5\n",
      "\u001b[32mv\u001b[39m \u001b[34mforcats  \u001b[39m 1.0.0     \u001b[32mv\u001b[39m \u001b[34mstringr  \u001b[39m 1.5.1\n",
      "\u001b[32mv\u001b[39m \u001b[34mggplot2  \u001b[39m 3.5.0     \u001b[32mv\u001b[39m \u001b[34mtibble   \u001b[39m 3.2.1\n",
      "\u001b[32mv\u001b[39m \u001b[34mlubridate\u001b[39m 1.9.3     \u001b[32mv\u001b[39m \u001b[34mtidyr    \u001b[39m 1.3.1\n",
      "\u001b[32mv\u001b[39m \u001b[34mpurrr    \u001b[39m 1.0.2     \n",
      "-- \u001b[1mConflicts\u001b[22m ------------------------------------------ tidyverse_conflicts() --\n",
      "\u001b[31mx\u001b[39m \u001b[34mdplyr\u001b[39m::\u001b[32mfilter()\u001b[39m masks \u001b[34mstats\u001b[39m::filter()\n",
      "\u001b[31mx\u001b[39m \u001b[34mdplyr\u001b[39m::\u001b[32mlag()\u001b[39m    masks \u001b[34mstats\u001b[39m::lag()\n",
      "\u001b[36mi\u001b[39m Use the conflicted package (\u001b[3m\u001b[34m<http://conflicted.r-lib.org/>\u001b[39m\u001b[23m) to force all conflicts to become errors\n"
     ]
    },
    {
     "data": {
      "text/html": [
       "3.33333333333332"
      ],
      "text/latex": [
       "3.33333333333332"
      ],
      "text/markdown": [
       "3.33333333333332"
      ],
      "text/plain": [
       "[1] 3.333333"
      ]
     },
     "metadata": {},
     "output_type": "display_data"
    },
    {
     "data": {
      "text/html": [
       "<style>\n",
       ".list-inline {list-style: none; margin:0; padding: 0}\n",
       ".list-inline>li {display: inline-block}\n",
       ".list-inline>li:not(:last-child)::after {content: \"\\00b7\"; padding: 0 .5ex}\n",
       "</style>\n",
       "<ol class=list-inline><li>-1.64485362695147</li><li>1.64485362695147</li></ol>\n"
      ],
      "text/latex": [
       "\\begin{enumerate*}\n",
       "\\item -1.64485362695147\n",
       "\\item 1.64485362695147\n",
       "\\end{enumerate*}\n"
      ],
      "text/markdown": [
       "1. -1.64485362695147\n",
       "2. 1.64485362695147\n",
       "\n",
       "\n"
      ],
      "text/plain": [
       "[1] -1.644854  1.644854"
      ]
     },
     "metadata": {},
     "output_type": "display_data"
    },
    {
     "data": {
      "text/html": [
       "0.000858120666393751"
      ],
      "text/latex": [
       "0.000858120666393751"
      ],
      "text/markdown": [
       "0.000858120666393751"
      ],
      "text/plain": [
       "[1] 0.0008581207"
      ]
     },
     "metadata": {},
     "output_type": "display_data"
    },
    {
     "data": {
      "text/html": [
       "0.490834593689067"
      ],
      "text/latex": [
       "0.490834593689067"
      ],
      "text/markdown": [
       "0.490834593689067"
      ],
      "text/plain": [
       "[1] 0.4908346"
      ]
     },
     "metadata": {},
     "output_type": "display_data"
    },
    {
     "data": {
      "text/html": [
       "<table class=\"dataframe\">\n",
       "<caption>A tibble: 278 x 2</caption>\n",
       "<thead>\n",
       "\t<tr><th scope=col>n</th><th scope=col>p.II</th></tr>\n",
       "\t<tr><th scope=col>&lt;int&gt;</th><th scope=col>&lt;dbl&gt;</th></tr>\n",
       "</thead>\n",
       "<tbody>\n",
       "\t<tr><td>223</td><td>0.1993139</td></tr>\n",
       "\t<tr><td>224</td><td>0.1977606</td></tr>\n",
       "\t<tr><td>225</td><td>0.1962181</td></tr>\n",
       "\t<tr><td>226</td><td>0.1946862</td></tr>\n",
       "\t<tr><td>227</td><td>0.1931650</td></tr>\n",
       "\t<tr><td>228</td><td>0.1916544</td></tr>\n",
       "\t<tr><td>229</td><td>0.1901544</td></tr>\n",
       "\t<tr><td>230</td><td>0.1886648</td></tr>\n",
       "\t<tr><td>231</td><td>0.1871856</td></tr>\n",
       "\t<tr><td>232</td><td>0.1857168</td></tr>\n",
       "\t<tr><td>233</td><td>0.1842584</td></tr>\n",
       "\t<tr><td>234</td><td>0.1828101</td></tr>\n",
       "\t<tr><td>235</td><td>0.1813721</td></tr>\n",
       "\t<tr><td>236</td><td>0.1799441</td></tr>\n",
       "\t<tr><td>237</td><td>0.1785263</td></tr>\n",
       "\t<tr><td>238</td><td>0.1771185</td></tr>\n",
       "\t<tr><td>239</td><td>0.1757206</td></tr>\n",
       "\t<tr><td>240</td><td>0.1743326</td></tr>\n",
       "\t<tr><td>241</td><td>0.1729545</td></tr>\n",
       "\t<tr><td>242</td><td>0.1715862</td></tr>\n",
       "\t<tr><td>243</td><td>0.1702276</td></tr>\n",
       "\t<tr><td>244</td><td>0.1688787</td></tr>\n",
       "\t<tr><td>245</td><td>0.1675394</td></tr>\n",
       "\t<tr><td>246</td><td>0.1662097</td></tr>\n",
       "\t<tr><td>247</td><td>0.1648895</td></tr>\n",
       "\t<tr><td>248</td><td>0.1635788</td></tr>\n",
       "\t<tr><td>249</td><td>0.1622774</td></tr>\n",
       "\t<tr><td>250</td><td>0.1609854</td></tr>\n",
       "\t<tr><td>251</td><td>0.1597027</td></tr>\n",
       "\t<tr><td>252</td><td>0.1584292</td></tr>\n",
       "\t<tr><td>...</td><td>...</td></tr>\n",
       "\t<tr><td>471</td><td>0.02429130</td></tr>\n",
       "\t<tr><td>472</td><td>0.02407317</td></tr>\n",
       "\t<tr><td>473</td><td>0.02385693</td></tr>\n",
       "\t<tr><td>474</td><td>0.02364254</td></tr>\n",
       "\t<tr><td>475</td><td>0.02343000</td></tr>\n",
       "\t<tr><td>476</td><td>0.02321929</td></tr>\n",
       "\t<tr><td>477</td><td>0.02301040</td></tr>\n",
       "\t<tr><td>478</td><td>0.02280331</td></tr>\n",
       "\t<tr><td>479</td><td>0.02259801</td></tr>\n",
       "\t<tr><td>480</td><td>0.02239447</td></tr>\n",
       "\t<tr><td>481</td><td>0.02219270</td></tr>\n",
       "\t<tr><td>482</td><td>0.02199267</td></tr>\n",
       "\t<tr><td>483</td><td>0.02179437</td></tr>\n",
       "\t<tr><td>484</td><td>0.02159778</td></tr>\n",
       "\t<tr><td>485</td><td>0.02140290</td></tr>\n",
       "\t<tr><td>486</td><td>0.02120970</td></tr>\n",
       "\t<tr><td>487</td><td>0.02101817</td></tr>\n",
       "\t<tr><td>488</td><td>0.02082831</td></tr>\n",
       "\t<tr><td>489</td><td>0.02064009</td></tr>\n",
       "\t<tr><td>490</td><td>0.02045351</td></tr>\n",
       "\t<tr><td>491</td><td>0.02026854</td></tr>\n",
       "\t<tr><td>492</td><td>0.02008518</td></tr>\n",
       "\t<tr><td>493</td><td>0.01990341</td></tr>\n",
       "\t<tr><td>494</td><td>0.01972323</td></tr>\n",
       "\t<tr><td>495</td><td>0.01954461</td></tr>\n",
       "\t<tr><td>496</td><td>0.01936754</td></tr>\n",
       "\t<tr><td>497</td><td>0.01919201</td></tr>\n",
       "\t<tr><td>498</td><td>0.01901802</td></tr>\n",
       "\t<tr><td>499</td><td>0.01884554</td></tr>\n",
       "\t<tr><td>500</td><td>0.01867456</td></tr>\n",
       "</tbody>\n",
       "</table>\n"
      ],
      "text/latex": [
       "A tibble: 278 x 2\n",
       "\\begin{tabular}{ll}\n",
       " n & p.II\\\\\n",
       " <int> & <dbl>\\\\\n",
       "\\hline\n",
       "\t 223 & 0.1993139\\\\\n",
       "\t 224 & 0.1977606\\\\\n",
       "\t 225 & 0.1962181\\\\\n",
       "\t 226 & 0.1946862\\\\\n",
       "\t 227 & 0.1931650\\\\\n",
       "\t 228 & 0.1916544\\\\\n",
       "\t 229 & 0.1901544\\\\\n",
       "\t 230 & 0.1886648\\\\\n",
       "\t 231 & 0.1871856\\\\\n",
       "\t 232 & 0.1857168\\\\\n",
       "\t 233 & 0.1842584\\\\\n",
       "\t 234 & 0.1828101\\\\\n",
       "\t 235 & 0.1813721\\\\\n",
       "\t 236 & 0.1799441\\\\\n",
       "\t 237 & 0.1785263\\\\\n",
       "\t 238 & 0.1771185\\\\\n",
       "\t 239 & 0.1757206\\\\\n",
       "\t 240 & 0.1743326\\\\\n",
       "\t 241 & 0.1729545\\\\\n",
       "\t 242 & 0.1715862\\\\\n",
       "\t 243 & 0.1702276\\\\\n",
       "\t 244 & 0.1688787\\\\\n",
       "\t 245 & 0.1675394\\\\\n",
       "\t 246 & 0.1662097\\\\\n",
       "\t 247 & 0.1648895\\\\\n",
       "\t 248 & 0.1635788\\\\\n",
       "\t 249 & 0.1622774\\\\\n",
       "\t 250 & 0.1609854\\\\\n",
       "\t 251 & 0.1597027\\\\\n",
       "\t 252 & 0.1584292\\\\\n",
       "\t ... & ...\\\\\n",
       "\t 471 & 0.02429130\\\\\n",
       "\t 472 & 0.02407317\\\\\n",
       "\t 473 & 0.02385693\\\\\n",
       "\t 474 & 0.02364254\\\\\n",
       "\t 475 & 0.02343000\\\\\n",
       "\t 476 & 0.02321929\\\\\n",
       "\t 477 & 0.02301040\\\\\n",
       "\t 478 & 0.02280331\\\\\n",
       "\t 479 & 0.02259801\\\\\n",
       "\t 480 & 0.02239447\\\\\n",
       "\t 481 & 0.02219270\\\\\n",
       "\t 482 & 0.02199267\\\\\n",
       "\t 483 & 0.02179437\\\\\n",
       "\t 484 & 0.02159778\\\\\n",
       "\t 485 & 0.02140290\\\\\n",
       "\t 486 & 0.02120970\\\\\n",
       "\t 487 & 0.02101817\\\\\n",
       "\t 488 & 0.02082831\\\\\n",
       "\t 489 & 0.02064009\\\\\n",
       "\t 490 & 0.02045351\\\\\n",
       "\t 491 & 0.02026854\\\\\n",
       "\t 492 & 0.02008518\\\\\n",
       "\t 493 & 0.01990341\\\\\n",
       "\t 494 & 0.01972323\\\\\n",
       "\t 495 & 0.01954461\\\\\n",
       "\t 496 & 0.01936754\\\\\n",
       "\t 497 & 0.01919201\\\\\n",
       "\t 498 & 0.01901802\\\\\n",
       "\t 499 & 0.01884554\\\\\n",
       "\t 500 & 0.01867456\\\\\n",
       "\\end{tabular}\n"
      ],
      "text/markdown": [
       "\n",
       "A tibble: 278 x 2\n",
       "\n",
       "| n &lt;int&gt; | p.II &lt;dbl&gt; |\n",
       "|---|---|\n",
       "| 223 | 0.1993139 |\n",
       "| 224 | 0.1977606 |\n",
       "| 225 | 0.1962181 |\n",
       "| 226 | 0.1946862 |\n",
       "| 227 | 0.1931650 |\n",
       "| 228 | 0.1916544 |\n",
       "| 229 | 0.1901544 |\n",
       "| 230 | 0.1886648 |\n",
       "| 231 | 0.1871856 |\n",
       "| 232 | 0.1857168 |\n",
       "| 233 | 0.1842584 |\n",
       "| 234 | 0.1828101 |\n",
       "| 235 | 0.1813721 |\n",
       "| 236 | 0.1799441 |\n",
       "| 237 | 0.1785263 |\n",
       "| 238 | 0.1771185 |\n",
       "| 239 | 0.1757206 |\n",
       "| 240 | 0.1743326 |\n",
       "| 241 | 0.1729545 |\n",
       "| 242 | 0.1715862 |\n",
       "| 243 | 0.1702276 |\n",
       "| 244 | 0.1688787 |\n",
       "| 245 | 0.1675394 |\n",
       "| 246 | 0.1662097 |\n",
       "| 247 | 0.1648895 |\n",
       "| 248 | 0.1635788 |\n",
       "| 249 | 0.1622774 |\n",
       "| 250 | 0.1609854 |\n",
       "| 251 | 0.1597027 |\n",
       "| 252 | 0.1584292 |\n",
       "| ... | ... |\n",
       "| 471 | 0.02429130 |\n",
       "| 472 | 0.02407317 |\n",
       "| 473 | 0.02385693 |\n",
       "| 474 | 0.02364254 |\n",
       "| 475 | 0.02343000 |\n",
       "| 476 | 0.02321929 |\n",
       "| 477 | 0.02301040 |\n",
       "| 478 | 0.02280331 |\n",
       "| 479 | 0.02259801 |\n",
       "| 480 | 0.02239447 |\n",
       "| 481 | 0.02219270 |\n",
       "| 482 | 0.02199267 |\n",
       "| 483 | 0.02179437 |\n",
       "| 484 | 0.02159778 |\n",
       "| 485 | 0.02140290 |\n",
       "| 486 | 0.02120970 |\n",
       "| 487 | 0.02101817 |\n",
       "| 488 | 0.02082831 |\n",
       "| 489 | 0.02064009 |\n",
       "| 490 | 0.02045351 |\n",
       "| 491 | 0.02026854 |\n",
       "| 492 | 0.02008518 |\n",
       "| 493 | 0.01990341 |\n",
       "| 494 | 0.01972323 |\n",
       "| 495 | 0.01954461 |\n",
       "| 496 | 0.01936754 |\n",
       "| 497 | 0.01919201 |\n",
       "| 498 | 0.01901802 |\n",
       "| 499 | 0.01884554 |\n",
       "| 500 | 0.01867456 |\n",
       "\n"
      ],
      "text/plain": [
       "    n   p.II      \n",
       "1   223 0.1993139 \n",
       "2   224 0.1977606 \n",
       "3   225 0.1962181 \n",
       "4   226 0.1946862 \n",
       "5   227 0.1931650 \n",
       "6   228 0.1916544 \n",
       "7   229 0.1901544 \n",
       "8   230 0.1886648 \n",
       "9   231 0.1871856 \n",
       "10  232 0.1857168 \n",
       "11  233 0.1842584 \n",
       "12  234 0.1828101 \n",
       "13  235 0.1813721 \n",
       "14  236 0.1799441 \n",
       "15  237 0.1785263 \n",
       "16  238 0.1771185 \n",
       "17  239 0.1757206 \n",
       "18  240 0.1743326 \n",
       "19  241 0.1729545 \n",
       "20  242 0.1715862 \n",
       "21  243 0.1702276 \n",
       "22  244 0.1688787 \n",
       "23  245 0.1675394 \n",
       "24  246 0.1662097 \n",
       "25  247 0.1648895 \n",
       "26  248 0.1635788 \n",
       "27  249 0.1622774 \n",
       "28  250 0.1609854 \n",
       "29  251 0.1597027 \n",
       "30  252 0.1584292 \n",
       "... ... ...       \n",
       "249 471 0.02429130\n",
       "250 472 0.02407317\n",
       "251 473 0.02385693\n",
       "252 474 0.02364254\n",
       "253 475 0.02343000\n",
       "254 476 0.02321929\n",
       "255 477 0.02301040\n",
       "256 478 0.02280331\n",
       "257 479 0.02259801\n",
       "258 480 0.02239447\n",
       "259 481 0.02219270\n",
       "260 482 0.02199267\n",
       "261 483 0.02179437\n",
       "262 484 0.02159778\n",
       "263 485 0.02140290\n",
       "264 486 0.02120970\n",
       "265 487 0.02101817\n",
       "266 488 0.02082831\n",
       "267 489 0.02064009\n",
       "268 490 0.02045351\n",
       "269 491 0.02026854\n",
       "270 492 0.02008518\n",
       "271 493 0.01990341\n",
       "272 494 0.01972323\n",
       "273 495 0.01954461\n",
       "274 496 0.01936754\n",
       "275 497 0.01919201\n",
       "276 498 0.01901802\n",
       "277 499 0.01884554\n",
       "278 500 0.01867456"
      ]
     },
     "metadata": {},
     "output_type": "display_data"
    },
    {
     "data": {
      "text/html": [
       "222.572060352705"
      ],
      "text/latex": [
       "222.572060352705"
      ],
      "text/markdown": [
       "222.572060352705"
      ],
      "text/plain": [
       "[1] 222.5721"
      ]
     },
     "metadata": {},
     "output_type": "display_data"
    },
    {
     "data": {
      "text/html": [
       "0.000858120666393751"
      ],
      "text/latex": [
       "0.000858120666393751"
      ],
      "text/markdown": [
       "0.000858120666393751"
      ],
      "text/plain": [
       "[1] 0.0008581207"
      ]
     },
     "metadata": {},
     "output_type": "display_data"
    },
    {
     "data": {
      "text/html": [
       "0.738882680363533"
      ],
      "text/latex": [
       "0.738882680363533"
      ],
      "text/markdown": [
       "0.738882680363533"
      ],
      "text/plain": [
       "[1] 0.7388827"
      ]
     },
     "metadata": {},
     "output_type": "display_data"
    },
    {
     "data": {
      "text/html": [
       "<table class=\"dataframe\">\n",
       "<caption>A tibble: 256 x 2</caption>\n",
       "<thead>\n",
       "\t<tr><th scope=col>n</th><th scope=col>p</th></tr>\n",
       "\t<tr><th scope=col>&lt;int&gt;</th><th scope=col>&lt;dbl&gt;</th></tr>\n",
       "</thead>\n",
       "<tbody>\n",
       "\t<tr><td>9745</td><td>0.0009998857</td></tr>\n",
       "\t<tr><td>9746</td><td>0.0009992859</td></tr>\n",
       "\t<tr><td>9747</td><td>0.0009986864</td></tr>\n",
       "\t<tr><td>9748</td><td>0.0009980873</td></tr>\n",
       "\t<tr><td>9749</td><td>0.0009974885</td></tr>\n",
       "\t<tr><td>9750</td><td>0.0009968901</td></tr>\n",
       "\t<tr><td>9751</td><td>0.0009962921</td></tr>\n",
       "\t<tr><td>9752</td><td>0.0009956944</td></tr>\n",
       "\t<tr><td>9753</td><td>0.0009950971</td></tr>\n",
       "\t<tr><td>9754</td><td>0.0009945001</td></tr>\n",
       "\t<tr><td>9755</td><td>0.0009939035</td></tr>\n",
       "\t<tr><td>9756</td><td>0.0009933073</td></tr>\n",
       "\t<tr><td>9757</td><td>0.0009927115</td></tr>\n",
       "\t<tr><td>9758</td><td>0.0009921160</td></tr>\n",
       "\t<tr><td>9759</td><td>0.0009915208</td></tr>\n",
       "\t<tr><td>9760</td><td>0.0009909260</td></tr>\n",
       "\t<tr><td>9761</td><td>0.0009903316</td></tr>\n",
       "\t<tr><td>9762</td><td>0.0009897376</td></tr>\n",
       "\t<tr><td>9763</td><td>0.0009891439</td></tr>\n",
       "\t<tr><td>9764</td><td>0.0009885505</td></tr>\n",
       "\t<tr><td>9765</td><td>0.0009879576</td></tr>\n",
       "\t<tr><td>9766</td><td>0.0009873650</td></tr>\n",
       "\t<tr><td>9767</td><td>0.0009867727</td></tr>\n",
       "\t<tr><td>9768</td><td>0.0009861808</td></tr>\n",
       "\t<tr><td>9769</td><td>0.0009855893</td></tr>\n",
       "\t<tr><td>9770</td><td>0.0009849981</td></tr>\n",
       "\t<tr><td>9771</td><td>0.0009844073</td></tr>\n",
       "\t<tr><td>9772</td><td>0.0009838168</td></tr>\n",
       "\t<tr><td>9773</td><td>0.0009832267</td></tr>\n",
       "\t<tr><td>9774</td><td>0.0009826369</td></tr>\n",
       "\t<tr><td>...</td><td>...</td></tr>\n",
       "\t<tr><td> 9971</td><td>0.0008731611</td></tr>\n",
       "\t<tr><td> 9972</td><td>0.0008726380</td></tr>\n",
       "\t<tr><td> 9973</td><td>0.0008721153</td></tr>\n",
       "\t<tr><td> 9974</td><td>0.0008715929</td></tr>\n",
       "\t<tr><td> 9975</td><td>0.0008710708</td></tr>\n",
       "\t<tr><td> 9976</td><td>0.0008705490</td></tr>\n",
       "\t<tr><td> 9977</td><td>0.0008700275</td></tr>\n",
       "\t<tr><td> 9978</td><td>0.0008695064</td></tr>\n",
       "\t<tr><td> 9979</td><td>0.0008689856</td></tr>\n",
       "\t<tr><td> 9980</td><td>0.0008684650</td></tr>\n",
       "\t<tr><td> 9981</td><td>0.0008679448</td></tr>\n",
       "\t<tr><td> 9982</td><td>0.0008674250</td></tr>\n",
       "\t<tr><td> 9983</td><td>0.0008669054</td></tr>\n",
       "\t<tr><td> 9984</td><td>0.0008663861</td></tr>\n",
       "\t<tr><td> 9985</td><td>0.0008658672</td></tr>\n",
       "\t<tr><td> 9986</td><td>0.0008653486</td></tr>\n",
       "\t<tr><td> 9987</td><td>0.0008648303</td></tr>\n",
       "\t<tr><td> 9988</td><td>0.0008643123</td></tr>\n",
       "\t<tr><td> 9989</td><td>0.0008637946</td></tr>\n",
       "\t<tr><td> 9990</td><td>0.0008632772</td></tr>\n",
       "\t<tr><td> 9991</td><td>0.0008627601</td></tr>\n",
       "\t<tr><td> 9992</td><td>0.0008622434</td></tr>\n",
       "\t<tr><td> 9993</td><td>0.0008617270</td></tr>\n",
       "\t<tr><td> 9994</td><td>0.0008612108</td></tr>\n",
       "\t<tr><td> 9995</td><td>0.0008606950</td></tr>\n",
       "\t<tr><td> 9996</td><td>0.0008601795</td></tr>\n",
       "\t<tr><td> 9997</td><td>0.0008596643</td></tr>\n",
       "\t<tr><td> 9998</td><td>0.0008591495</td></tr>\n",
       "\t<tr><td> 9999</td><td>0.0008586349</td></tr>\n",
       "\t<tr><td>10000</td><td>0.0008581207</td></tr>\n",
       "</tbody>\n",
       "</table>\n"
      ],
      "text/latex": [
       "A tibble: 256 x 2\n",
       "\\begin{tabular}{ll}\n",
       " n & p\\\\\n",
       " <int> & <dbl>\\\\\n",
       "\\hline\n",
       "\t 9745 & 0.0009998857\\\\\n",
       "\t 9746 & 0.0009992859\\\\\n",
       "\t 9747 & 0.0009986864\\\\\n",
       "\t 9748 & 0.0009980873\\\\\n",
       "\t 9749 & 0.0009974885\\\\\n",
       "\t 9750 & 0.0009968901\\\\\n",
       "\t 9751 & 0.0009962921\\\\\n",
       "\t 9752 & 0.0009956944\\\\\n",
       "\t 9753 & 0.0009950971\\\\\n",
       "\t 9754 & 0.0009945001\\\\\n",
       "\t 9755 & 0.0009939035\\\\\n",
       "\t 9756 & 0.0009933073\\\\\n",
       "\t 9757 & 0.0009927115\\\\\n",
       "\t 9758 & 0.0009921160\\\\\n",
       "\t 9759 & 0.0009915208\\\\\n",
       "\t 9760 & 0.0009909260\\\\\n",
       "\t 9761 & 0.0009903316\\\\\n",
       "\t 9762 & 0.0009897376\\\\\n",
       "\t 9763 & 0.0009891439\\\\\n",
       "\t 9764 & 0.0009885505\\\\\n",
       "\t 9765 & 0.0009879576\\\\\n",
       "\t 9766 & 0.0009873650\\\\\n",
       "\t 9767 & 0.0009867727\\\\\n",
       "\t 9768 & 0.0009861808\\\\\n",
       "\t 9769 & 0.0009855893\\\\\n",
       "\t 9770 & 0.0009849981\\\\\n",
       "\t 9771 & 0.0009844073\\\\\n",
       "\t 9772 & 0.0009838168\\\\\n",
       "\t 9773 & 0.0009832267\\\\\n",
       "\t 9774 & 0.0009826369\\\\\n",
       "\t ... & ...\\\\\n",
       "\t  9971 & 0.0008731611\\\\\n",
       "\t  9972 & 0.0008726380\\\\\n",
       "\t  9973 & 0.0008721153\\\\\n",
       "\t  9974 & 0.0008715929\\\\\n",
       "\t  9975 & 0.0008710708\\\\\n",
       "\t  9976 & 0.0008705490\\\\\n",
       "\t  9977 & 0.0008700275\\\\\n",
       "\t  9978 & 0.0008695064\\\\\n",
       "\t  9979 & 0.0008689856\\\\\n",
       "\t  9980 & 0.0008684650\\\\\n",
       "\t  9981 & 0.0008679448\\\\\n",
       "\t  9982 & 0.0008674250\\\\\n",
       "\t  9983 & 0.0008669054\\\\\n",
       "\t  9984 & 0.0008663861\\\\\n",
       "\t  9985 & 0.0008658672\\\\\n",
       "\t  9986 & 0.0008653486\\\\\n",
       "\t  9987 & 0.0008648303\\\\\n",
       "\t  9988 & 0.0008643123\\\\\n",
       "\t  9989 & 0.0008637946\\\\\n",
       "\t  9990 & 0.0008632772\\\\\n",
       "\t  9991 & 0.0008627601\\\\\n",
       "\t  9992 & 0.0008622434\\\\\n",
       "\t  9993 & 0.0008617270\\\\\n",
       "\t  9994 & 0.0008612108\\\\\n",
       "\t  9995 & 0.0008606950\\\\\n",
       "\t  9996 & 0.0008601795\\\\\n",
       "\t  9997 & 0.0008596643\\\\\n",
       "\t  9998 & 0.0008591495\\\\\n",
       "\t  9999 & 0.0008586349\\\\\n",
       "\t 10000 & 0.0008581207\\\\\n",
       "\\end{tabular}\n"
      ],
      "text/markdown": [
       "\n",
       "A tibble: 256 x 2\n",
       "\n",
       "| n &lt;int&gt; | p &lt;dbl&gt; |\n",
       "|---|---|\n",
       "| 9745 | 0.0009998857 |\n",
       "| 9746 | 0.0009992859 |\n",
       "| 9747 | 0.0009986864 |\n",
       "| 9748 | 0.0009980873 |\n",
       "| 9749 | 0.0009974885 |\n",
       "| 9750 | 0.0009968901 |\n",
       "| 9751 | 0.0009962921 |\n",
       "| 9752 | 0.0009956944 |\n",
       "| 9753 | 0.0009950971 |\n",
       "| 9754 | 0.0009945001 |\n",
       "| 9755 | 0.0009939035 |\n",
       "| 9756 | 0.0009933073 |\n",
       "| 9757 | 0.0009927115 |\n",
       "| 9758 | 0.0009921160 |\n",
       "| 9759 | 0.0009915208 |\n",
       "| 9760 | 0.0009909260 |\n",
       "| 9761 | 0.0009903316 |\n",
       "| 9762 | 0.0009897376 |\n",
       "| 9763 | 0.0009891439 |\n",
       "| 9764 | 0.0009885505 |\n",
       "| 9765 | 0.0009879576 |\n",
       "| 9766 | 0.0009873650 |\n",
       "| 9767 | 0.0009867727 |\n",
       "| 9768 | 0.0009861808 |\n",
       "| 9769 | 0.0009855893 |\n",
       "| 9770 | 0.0009849981 |\n",
       "| 9771 | 0.0009844073 |\n",
       "| 9772 | 0.0009838168 |\n",
       "| 9773 | 0.0009832267 |\n",
       "| 9774 | 0.0009826369 |\n",
       "| ... | ... |\n",
       "|  9971 | 0.0008731611 |\n",
       "|  9972 | 0.0008726380 |\n",
       "|  9973 | 0.0008721153 |\n",
       "|  9974 | 0.0008715929 |\n",
       "|  9975 | 0.0008710708 |\n",
       "|  9976 | 0.0008705490 |\n",
       "|  9977 | 0.0008700275 |\n",
       "|  9978 | 0.0008695064 |\n",
       "|  9979 | 0.0008689856 |\n",
       "|  9980 | 0.0008684650 |\n",
       "|  9981 | 0.0008679448 |\n",
       "|  9982 | 0.0008674250 |\n",
       "|  9983 | 0.0008669054 |\n",
       "|  9984 | 0.0008663861 |\n",
       "|  9985 | 0.0008658672 |\n",
       "|  9986 | 0.0008653486 |\n",
       "|  9987 | 0.0008648303 |\n",
       "|  9988 | 0.0008643123 |\n",
       "|  9989 | 0.0008637946 |\n",
       "|  9990 | 0.0008632772 |\n",
       "|  9991 | 0.0008627601 |\n",
       "|  9992 | 0.0008622434 |\n",
       "|  9993 | 0.0008617270 |\n",
       "|  9994 | 0.0008612108 |\n",
       "|  9995 | 0.0008606950 |\n",
       "|  9996 | 0.0008601795 |\n",
       "|  9997 | 0.0008596643 |\n",
       "|  9998 | 0.0008591495 |\n",
       "|  9999 | 0.0008586349 |\n",
       "| 10000 | 0.0008581207 |\n",
       "\n"
      ],
      "text/plain": [
       "    n     p           \n",
       "1   9745  0.0009998857\n",
       "2   9746  0.0009992859\n",
       "3   9747  0.0009986864\n",
       "4   9748  0.0009980873\n",
       "5   9749  0.0009974885\n",
       "6   9750  0.0009968901\n",
       "7   9751  0.0009962921\n",
       "8   9752  0.0009956944\n",
       "9   9753  0.0009950971\n",
       "10  9754  0.0009945001\n",
       "11  9755  0.0009939035\n",
       "12  9756  0.0009933073\n",
       "13  9757  0.0009927115\n",
       "14  9758  0.0009921160\n",
       "15  9759  0.0009915208\n",
       "16  9760  0.0009909260\n",
       "17  9761  0.0009903316\n",
       "18  9762  0.0009897376\n",
       "19  9763  0.0009891439\n",
       "20  9764  0.0009885505\n",
       "21  9765  0.0009879576\n",
       "22  9766  0.0009873650\n",
       "23  9767  0.0009867727\n",
       "24  9768  0.0009861808\n",
       "25  9769  0.0009855893\n",
       "26  9770  0.0009849981\n",
       "27  9771  0.0009844073\n",
       "28  9772  0.0009838168\n",
       "29  9773  0.0009832267\n",
       "30  9774  0.0009826369\n",
       "... ...   ...         \n",
       "227  9971 0.0008731611\n",
       "228  9972 0.0008726380\n",
       "229  9973 0.0008721153\n",
       "230  9974 0.0008715929\n",
       "231  9975 0.0008710708\n",
       "232  9976 0.0008705490\n",
       "233  9977 0.0008700275\n",
       "234  9978 0.0008695064\n",
       "235  9979 0.0008689856\n",
       "236  9980 0.0008684650\n",
       "237  9981 0.0008679448\n",
       "238  9982 0.0008674250\n",
       "239  9983 0.0008669054\n",
       "240  9984 0.0008663861\n",
       "241  9985 0.0008658672\n",
       "242  9986 0.0008653486\n",
       "243  9987 0.0008648303\n",
       "244  9988 0.0008643123\n",
       "245  9989 0.0008637946\n",
       "246  9990 0.0008632772\n",
       "247  9991 0.0008627601\n",
       "248  9992 0.0008622434\n",
       "249  9993 0.0008617270\n",
       "250  9994 0.0008612108\n",
       "251  9995 0.0008606950\n",
       "252  9996 0.0008601795\n",
       "253  9997 0.0008596643\n",
       "254  9998 0.0008591495\n",
       "255  9999 0.0008586349\n",
       "256 10000 0.0008581207"
      ]
     },
     "metadata": {},
     "output_type": "display_data"
    },
    {
     "data": {
      "text/html": [
       "9744.80955359664"
      ],
      "text/latex": [
       "9744.80955359664"
      ],
      "text/markdown": [
       "9744.80955359664"
      ],
      "text/plain": [
       "[1] 9744.81"
      ]
     },
     "metadata": {},
     "output_type": "display_data"
    },
    {
     "data": {
      "image/png": "[encoded data removed]",
      "text/plain": [
       "Plot with title \"probability of a type II error\""
      ]
     },
     "metadata": {
      "image/png": {
       "height": 420,
       "width": 420
      }
     },
     "output_type": "display_data"
    }
   ],
   "source": [
    "###################################################################\n",
    "# The length of a certain machined part is supposed to be 10\n",
    "# centimeters. In fact, due to imperfections in the manufacturing\n",
    "# process, the actual length is a random variable. The standard\n",
    "# deviation is due to inherent factors in the process, which remain\n",
    "# fairly stable over time. From historical data, the standard\n",
    "# deviation is known with a high degree of accuracy to be 0.3. The\n",
    "# mean, on the other hand, may be set by adjusting various parameters\n",
    "# in the process and hence may change to an unknown value fairly\n",
    "# frequently. We are interested in testing\n",
    "# H_0: mu = 10 versus H_1: mu <> 10 \n",
    "# resp.\n",
    "# H_0: mu <= 10 versus H_1: mu > 10 \n",
    "# \n",
    "# Hint: Assume that the data is approximately normally distributed.\n",
    "# file: infstat_testing_length.R\n",
    "####################################################################\n",
    "library(tidyverse)\n",
    "# H_0: mu = 10 versus H_1: mu <> 10 \n",
    "sigma <- 0.3\n",
    "hyp.mean <- 10\n",
    "\n",
    "# a) Suppose that a sample of 100 parts has mean 10.1. Perform the\n",
    "# test at the 0.1 level of significance.\n",
    "sample.size <- 100\n",
    "sample.mean <- 10.1\n",
    "alpha <- 0.1\n",
    "# Test statistic\n",
    "T <- (sample.mean - hyp.mean)*sqrt(sample.size)/sigma\n",
    "T\n",
    "# rejection region: T < lb or T > ub\n",
    "qnorm(c(alpha/2,1-alpha/2)) # -1.64, 1.64 -> reject H_0\n",
    "\n",
    "# b) Compute the p-value for the data.\n",
    "1-pnorm(abs(T)) + pnorm(-abs(T))\n",
    "\n",
    "# c) Compute the probability of a type II error beta of the\n",
    "# test at mu = 10.05.\n",
    "beta <- function(mu1,mu0,n,alpha,sigma) {\n",
    "  # rejection bounds\n",
    "  lb <- mu0-sigma*qnorm(1-alpha/2)/sqrt(n)\n",
    "  ub <- mu0+sigma*qnorm(1-alpha/2)/sqrt(n)\n",
    "  # prob. of type II error\n",
    "  beta <- pnorm(ub, mean = mu1, sd = sigma/sqrt(n)) - \n",
    "    pnorm(lb, mean = mu1, sd = sigma/sqrt(n))\n",
    "  return(beta)\n",
    "}\n",
    "beta(10.05, hyp.mean,sample.size,alpha, sigma)\n",
    "\n",
    "# d) Compute the approximate sample size needed for significance\n",
    "# level 0.1 and beta = 0.2 when mu = 10.05.      \t\n",
    "tibble(\n",
    "  n = 100:500,\n",
    "  p.II = beta(10.05, hyp.mean,n,alpha, sigma)\n",
    ") %>% filter(p.II <= 0.2)\n",
    "\n",
    "# approximated value\n",
    "((qnorm(1-alpha/2)-qnorm(0.2))*sigma/(10.05-hyp.mean))^2\n",
    "\n",
    "# e) plot the prob. of a type II error depending on the value of mu for different\n",
    "# values of the sample size n = 50, 100, 150, 200, 250\n",
    "plot(x=seq(9.8,10.2,by=0.005),\n",
    "     y=beta(seq(9.8,10.2,by=0.005), hyp.mean,sample.size,alpha, sigma),\n",
    "     type=\"l\",\n",
    "     main = \"probability of a type II error\",\n",
    "     sub = \"blue n=50, black n=100, red n=150,200,250\",\n",
    "     xlab = \"mu\", ylab = \"beta\")\n",
    "lines(x=seq(9.8,10.2,by=0.005),\n",
    "      y=beta(seq(9.8,10.2,by=0.005), hyp.mean,50,alpha, sigma),\n",
    "      type=\"l\", col=\"blue\")\n",
    "lines(x=seq(9.8,10.2,by=0.005),\n",
    "      y=beta(seq(9.8,10.2,by=0.005), hyp.mean,150,alpha, sigma),\n",
    "           type=\"l\", col=\"red\")\n",
    "lines(x=seq(9.8,10.2,by=0.005),\n",
    "      y=beta(seq(9.8,10.2,by=0.005), hyp.mean,200,alpha, sigma),\n",
    "      type=\"l\", col=\"red\")\n",
    "lines(x=seq(9.8,10.2,by=0.005),\n",
    "      y=beta(seq(9.8,10.2,by=0.005), hyp.mean,250,alpha, sigma),\n",
    "      type=\"l\", col=\"red\")\n",
    "\n",
    "# f) Show that the H_0 will be not rejected if the sample mean is 10.01. Determine\n",
    "# the smallest n for the p-value for a sample mean 10.01 is less than 0.001. \n",
    "# In general by increasing the sample size every small sample mean will become \"highly\n",
    "# significant - p value < 0.001\"\n",
    "pvalue <- function(n,s.mean,mean.0) {\n",
    "  # value of the test statistic\n",
    "  TS <- (s.mean - mean.0)*sqrt(n)/sigma\n",
    "  return(1-pnorm(abs(TS))+pnorm(-abs(TS)))\n",
    "}\n",
    "# p values for the sample means 10.1 and 10.01 are 0.0008581207 and 0.7388827 \n",
    "pvalue(sample.size,10.1,hyp.mean)\n",
    "pvalue(sample.size,10.01,hyp.mean)\n",
    "df.pvalue <- tibble(\n",
    "  n = sample.size:10000,\n",
    "  p = pvalue(n,10.01,hyp.mean)\n",
    ")\n",
    "df.pvalue %>% filter(p <= 0.001) # n >= 9745\n",
    "\n",
    "# exact\n",
    "(30*qnorm(0.9995))^2\n"
   ]
  },
  {
   "cell_type": "code",
   "execution_count": 3,
   "metadata": {
    "vscode": {
     "languageId": "r"
    }
   },
   "outputs": [
    {
     "data": {
      "text/html": [
       "-3.6"
      ],
      "text/latex": [
       "-3.6"
      ],
      "text/markdown": [
       "-3.6"
      ],
      "text/plain": [
       "[1] -3.6"
      ]
     },
     "metadata": {},
     "output_type": "display_data"
    },
    {
     "data": {
      "text/html": [
       "1.66412457858967"
      ],
      "text/latex": [
       "1.66412457858967"
      ],
      "text/markdown": [
       "1.66412457858967"
      ],
      "text/plain": [
       "[1] 1.664125"
      ]
     },
     "metadata": {},
     "output_type": "display_data"
    },
    {
     "data": {
      "text/html": [
       "0.000275073857185508"
      ],
      "text/latex": [
       "0.000275073857185508"
      ],
      "text/markdown": [
       "0.000275073857185508"
      ],
      "text/plain": [
       "[1] 0.0002750739"
      ]
     },
     "metadata": {},
     "output_type": "display_data"
    },
    {
     "data": {
      "text/html": [
       "40.8163265306122"
      ],
      "text/latex": [
       "40.8163265306122"
      ],
      "text/markdown": [
       "40.8163265306122"
      ],
      "text/plain": [
       "[1] 40.81633"
      ]
     },
     "metadata": {},
     "output_type": "display_data"
    },
    {
     "data": {
      "text/html": [
       "60.3914783886895"
      ],
      "text/latex": [
       "60.3914783886895"
      ],
      "text/markdown": [
       "60.3914783886895"
      ],
      "text/plain": [
       "[1] 60.39148"
      ]
     },
     "metadata": {},
     "output_type": "display_data"
    },
    {
     "data": {
      "text/html": [
       "8.08186114073781e-05"
      ],
      "text/latex": [
       "8.08186114073781e-05"
      ],
      "text/markdown": [
       "8.08186114073781e-05"
      ],
      "text/plain": [
       "[1] 8.081861e-05"
      ]
     },
     "metadata": {},
     "output_type": "display_data"
    }
   ],
   "source": [
    "###################################################################\n",
    "# A bag of potato chips of a certain brand has an advertised weight\n",
    "# of 250 grams. Actually, the weight (in grams) is a random variable. \n",
    "# Suppose that a sample of 81 bags has mean 248 and standard \n",
    "# deviation 5. At the 0.05 significance level, conduct the following \n",
    "# tests and calculate the p-values.\n",
    "# a) H_0: mu >= 250 versus H_1: mu < 250\n",
    "# b) H_0: sigma >= 7 versus H_1: sigma < 7\n",
    "# file: infstat_testing_potatoe_chips.R\n",
    "####################################################################\n",
    "\n",
    "n <- 81\n",
    "alpha <- 0.05\n",
    "mean.sample <- 248\n",
    "sd.sample <- 5\n",
    "mean.0 <- 250\n",
    "sd.0 <- 7\n",
    "\n",
    "# a) t-test\n",
    "tstat_a <- (mean.sample-mean.0)*sqrt(n)/sd.sample\n",
    "tstat_a # -3.6\n",
    "qt(1-alpha,n-1) # 1.664125\n",
    "pvalue_a <- pt(tstat_a, df = n-1)\n",
    "pvalue_a # 0.0002750739\n",
    "  \n",
    "# b)\n",
    "tstat_b <- (n-1)*sd.sample^2/sd.0^2\n",
    "tstat_b # 40.81633\n",
    "qchisq(alpha,n-1) # 60.39148\n",
    "pvalue_b <- pchisq(tstat_b, df = n-1)\n",
    "pvalue_b # 8.081861e-05"
   ]
  },
  {
   "cell_type": "code",
   "execution_count": 4,
   "metadata": {
    "vscode": {
     "languageId": "r"
    }
   },
   "outputs": [
    {
     "data": {
      "text/html": [
       "TRUE"
      ],
      "text/latex": [
       "TRUE"
      ],
      "text/markdown": [
       "TRUE"
      ],
      "text/plain": [
       "[1] TRUE"
      ]
     },
     "metadata": {},
     "output_type": "display_data"
    },
    {
     "data": {
      "text/plain": [
       "\n",
       "\tExact binomial test\n",
       "\n",
       "data:  172 and n\n",
       "number of successes = 172, number of trials = 200, p-value = 0.01793\n",
       "alternative hypothesis: true probability of success is greater than 0.8\n",
       "95 percent confidence interval:\n",
       " 0.8131255 1.0000000\n",
       "sample estimates:\n",
       "probability of success \n",
       "                  0.86 \n"
      ]
     },
     "metadata": {},
     "output_type": "display_data"
    },
    {
     "data": {
      "text/html": [
       "0.0179292196195469"
      ],
      "text/latex": [
       "0.0179292196195469"
      ],
      "text/markdown": [
       "0.0179292196195469"
      ],
      "text/plain": [
       "[1] 0.01792922"
      ]
     },
     "metadata": {},
     "output_type": "display_data"
    },
    {
     "data": {
      "text/html": [
       "0.835552745381469"
      ],
      "text/latex": [
       "0.835552745381469"
      ],
      "text/markdown": [
       "0.835552745381469"
      ],
      "text/plain": [
       "[1] 0.8355527"
      ]
     },
     "metadata": {},
     "output_type": "display_data"
    },
    {
     "data": {
      "text/html": [
       "0.835552745381469"
      ],
      "text/latex": [
       "0.835552745381469"
      ],
      "text/markdown": [
       "0.835552745381469"
      ],
      "text/plain": [
       "[1] 0.8355527"
      ]
     },
     "metadata": {},
     "output_type": "display_data"
    },
    {
     "data": {
      "text/html": [
       "0.844560294125139"
      ],
      "text/latex": [
       "0.844560294125139"
      ],
      "text/markdown": [
       "0.844560294125139"
      ],
      "text/plain": [
       "[1] 0.8445603"
      ]
     },
     "metadata": {},
     "output_type": "display_data"
    },
    {
     "data": {
      "text/html": [
       "<table class=\"dataframe\">\n",
       "<caption>A tibble: 1 x 3</caption>\n",
       "<thead>\n",
       "\t<tr><th scope=col>n</th><th scope=col>b.ex</th><th scope=col>b.approx</th></tr>\n",
       "\t<tr><th scope=col>&lt;int&gt;</th><th scope=col>&lt;dbl&gt;</th><th scope=col>&lt;dbl&gt;</th></tr>\n",
       "</thead>\n",
       "<tbody>\n",
       "\t<tr><td>4160</td><td>0.05098127</td><td>0.04997647</td></tr>\n",
       "</tbody>\n",
       "</table>\n"
      ],
      "text/latex": [
       "A tibble: 1 x 3\n",
       "\\begin{tabular}{lll}\n",
       " n & b.ex & b.approx\\\\\n",
       " <int> & <dbl> & <dbl>\\\\\n",
       "\\hline\n",
       "\t 4160 & 0.05098127 & 0.04997647\\\\\n",
       "\\end{tabular}\n"
      ],
      "text/markdown": [
       "\n",
       "A tibble: 1 x 3\n",
       "\n",
       "| n &lt;int&gt; | b.ex &lt;dbl&gt; | b.approx &lt;dbl&gt; |\n",
       "|---|---|---|\n",
       "| 4160 | 0.05098127 | 0.04997647 |\n",
       "\n"
      ],
      "text/plain": [
       "  n    b.ex       b.approx  \n",
       "1 4160 0.05098127 0.04997647"
      ]
     },
     "metadata": {},
     "output_type": "display_data"
    },
    {
     "data": {
      "text/html": [
       "4159.43462016094"
      ],
      "text/latex": [
       "4159.43462016094"
      ],
      "text/markdown": [
       "4159.43462016094"
      ],
      "text/plain": [
       "[1] 4159.435"
      ]
     },
     "metadata": {},
     "output_type": "display_data"
    }
   ],
   "source": [
    "################################################################\n",
    "# A vaccine that is currently used to immunize people against a \n",
    "# certain infection has an 80% success rate. That is, 80% of \n",
    "# individuals who receive this vaccine will develop immunity \n",
    "# against the infection. A manufacturer of a new vaccine claims \n",
    "# that its vaccine has a higher success rate.\n",
    "# file: infstat_testing_vaccine.R\n",
    "################################################################\n",
    "\n",
    "# a) parameter of interest: success rate p\n",
    "\n",
    "# b) Suppose in a clinical trial, 200 people received the new\n",
    "# vaccine. Of these, 172 became immune to the infection. Based on\n",
    "# this, can we say that the new vaccine is indeed more effective\n",
    "# than the current one? \n",
    "# What is the corresponding Null-Hypothesis?\n",
    "# Null Hypothesis H0: p<=p0   against H1: p>p0\n",
    "p0 <- 0.8\n",
    "# Test at a 5% significance level and state your conclusion in the\n",
    "# context of the problem. \n",
    "n <- 200\n",
    "p <- 172/n\n",
    "alpha <- 0.05\n",
    "# normal approximation\n",
    "test_statistic <- (p-p0)/sqrt(p0*(1-p0)/n)\n",
    "# reject if test_statistic > qnorm(1-alpha)\n",
    "test_statistic > qnorm(1-alpha) # 2.12132 > 1.644854\n",
    "# reject H0, thus the new vaccine seems to be better than the old one\n",
    "p_value_app <- 1-pnorm(test_statistic) # 0.01694743\n",
    "# exact test\n",
    "binom.test(172,p=0.8,n,alternative = \"greater\", conf.level = 1-alpha)\n",
    "p_value <- 1-pbinom(n*p-1,n,p0)\n",
    "p_value # = 0.01792922 < 0.05, i.e. rejection of H0\n",
    "\n",
    "# c) In making the above conclusion, which type of error are you\n",
    "# risking, type I or type II?\n",
    "# Since we reject H0, we are risking making type I error.\n",
    "\n",
    "# d) What is the probability of a type II error if the true success\n",
    "# rate is 82%? \n",
    "p1 <- 0.82\n",
    "# beta.approx = P(test_statistic <= qnorm(1-alpa)) if p=p1 <=>\n",
    "# beta.approx = P(p <= qnorm(1-alpa)*(p0(1-p0)/n)^0.5+p0)\n",
    "# with p ~ N(p1,p1(1-p1)/n) approx.\n",
    "beta.approx <- pnorm(qnorm(1-alpha)*(p0*(1-p0)/n)^0.5+p0,\n",
    "                     mean = p1, sd = (p1*(1-p1)/n)^0.5)\n",
    "beta.approx\n",
    "# alternative beta.approx =\n",
    "pnorm(qnorm(0.95, mean = 0.8, sd = (0.8*0.2/n)^0.5),\n",
    "      mean = p1, sd = (p1*(1-p1)/n)^0.5)\n",
    "\n",
    "# beta.exact = P(np <= 95% quantile of B(n,p0) with n*p ~ B(n,p1) \n",
    "beta_exact <- pbinom(qbinom(1-alpha,size = n, prob = p0),\n",
    "                     size = n, prob = p1)\n",
    "beta_exact\n",
    "\n",
    "# e) What should be the minimal sample size if the probability\n",
    "# of the type II error should be less than 5%?\n",
    "library(tidyverse)\n",
    "tibble(\n",
    "  n = 200:5000,\n",
    "  b.ex = pbinom(qbinom(1-alpha,size = n, prob = p0),\n",
    "                size = n, prob = p1),\n",
    "  b.approx = pnorm(qnorm(1-alpha)*(p0*(1-p0)/n)^0.5+p0,\n",
    "                   mean = p1, sd = (p1*(1-p1)/n)^0.5)\n",
    ") %>% filter(b.approx <= 0.05) %>% filter(n == min(n))\n",
    "\n",
    "# direct determination of n using a normal approximation\n",
    "(qnorm(0.95)*(sqrt(p0*(1-p0))+sqrt(p1*(1-p1)))/(p1-p0))^2\n"
   ]
  },
  {
   "cell_type": "code",
   "execution_count": null,
   "metadata": {
    "vscode": {
     "languageId": "r"
    }
   },
   "outputs": [],
   "source": []
  }
 ],
 "metadata": {
  "kernelspec": {
   "display_name": "R",
   "language": "R",
   "name": "ir"
  },
  "language_info": {
   "codemirror_mode": "r",
   "file_extension": ".r",
   "mimetype": "text/x-r-source",
   "name": "R",
   "pygments_lexer": "r",
   "version": "4.3.3"
  }
 },
 "nbformat": 4,
 "nbformat_minor": 2
}
