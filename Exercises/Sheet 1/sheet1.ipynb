{
 "cells": [
  {
   "attachments": {},
   "cell_type": "markdown",
   "metadata": {},
   "source": [
    "<div>\n",
    "  <p>\n",
    "    <strong>(a) Body height:</strong> Quantitative (because it involves numerical measurements and is continuous).\n",
    "  </p>\n",
    "  <p>\n",
    "    <strong>(b) Hair color:</strong> Qualitative (because it's categorical, representing a set of different categories).\n",
    "  </p>\n",
    "  <p>\n",
    "    <strong>(c) Temperature in Celsius:</strong> Quantitative (Continuous).\n",
    "  </p>\n",
    "  <p>\n",
    "    <strong>(d) Temperature in Kelvin:</strong> Quantitative (Continuous).\n",
    "  </p>\n",
    "  <p>\n",
    "    <strong>(e) Number of bottles of wine in a student’s flat:</strong> Quantitative (Discrete).\n",
    "  </p>\n",
    "  <p>\n",
    "    <strong>(f) Birthday:</strong> Quantitative (Discrete, if considering birthdate); Qualitative (Categorical, if considering day and month).\n",
    "  </p>\n",
    "</div>"
   ]
  },
  {
   "attachments": {},
   "cell_type": "markdown",
   "metadata": {},
   "source": [
    "<div>\n",
    "  <p>\n",
    "    <strong>(a) Body height:</strong> Ratio scale is appropriate because it has a true zero point (absence of height) and meaningful intervals between measurements.\n",
    "  </p>\n",
    "  <p>\n",
    "    <strong>(b) Hair color:</strong> Nominal scale is suitable as it represents categories without any inherent order or ranking.\n",
    "  </p>\n",
    "  <p>\n",
    "    <strong>(c) Temperature in Celsius:</strong> Interval scale is used because it measures temperature on a scale where equal intervals represent equal differences in temperature, but there is no true zero point (i.e., absence of temperature).\n",
    "  </p>\n",
    "  <p>\n",
    "    <strong>(d) Temperature in Kelvin:</strong> Ratio scale is appropriate here because Kelvin scale has a true zero point (absolute zero) and meaningful intervals.\n",
    "  </p>\n",
    "  <p>\n",
    "    <strong>(e) Number of bottles of wine in a student’s flat:</strong> Ratio scale is suitable as it has a true zero point (absence of bottles) and meaningful intervals between counts.\n",
    "  </p>\n",
    "  <p>\n",
    "    <strong>(f) Birthday:</strong> Interval scale is used because it represents units of time (days), and while it has meaningful intervals, there's no true zero point (absence of time).\n",
    "  </p>\n",
    "</div>\n"
   ]
  },
  {
   "attachments": {},
   "cell_type": "markdown",
   "metadata": {},
   "source": [
    "<div>\n",
    "  <p>\n",
    "    It is indeed possible to transform a variable downwards from a scale with more information to a scale with less information. Here's an example for the variable \"Price for a bottle of wine\":\n",
    "  </p>\n",
    "  <ul>\n",
    "    <li><strong>Ratio scale:</strong> Price measured in euros. This scale provides detailed information about the exact amount of money spent on each bottle of wine.</li>\n",
    "    <li><strong>Ordinal scale:</strong> Price measured as cheap, normal, expensive. This scale categorizes prices into broader categories without specifying exact amounts. Each category represents a range of prices rather than precise values.</li>\n",
    "  </ul>\n",
    "  <p>\n",
    "    In this transformation, we are reducing the level of detail from exact euro amounts to broader categories of affordability, thereby moving from a ratio scale to an ordinal scale.\n",
    "  </p>\n",
    "</div>"
   ]
  },
  {
   "attachments": {},
   "cell_type": "markdown",
   "metadata": {},
   "source": [
    "<div>\n",
    "  <p>\n",
    "    <strong>Question:</strong> Is it possible to transform a variable \"upwards\", from a scale with less information contained, to a scale with more information contained? Give an example (showing if it is possible or not)!\n",
    "  </p>\n",
    "  <p>\n",
    "    <strong>Answer:</strong> No, you cannot gain more information about a variable by transforming the variable from one scale to another.\n",
    "  </p>\n",
    "  <p>\n",
    "    <strong>Example:</strong> Assume that the variable \"Price for a bottle of wine\" originally has an ordinal scale. This means that you know for each bottle if it is cheap, normal, or expensive. Given only this information for each bottle, do you know the price in euros (ratio scale) for the bottles? <strong>No</strong>!\n",
    "  </p>\n",
    "  <p>\n",
    "    Transforming from an ordinal scale to a ratio scale does not provide additional information about the exact prices of the wine bottles. The ordinal scale only provides categories (cheap, normal, expensive) without specifying the exact price values, so you cannot gain more information about the variable by transforming it upwards to a scale with more information.\n",
    "  </p>\n",
    "</div>"
   ]
  },
  {
   "attachments": {},
   "cell_type": "markdown",
   "metadata": {},
   "source": [
    "<div>\n",
    "  <p>\n",
    "    <strong>(a) Data Collection Method:</strong> Survey: The information would be obtained via a questionnaire given to a sample of students.\n",
    "  </p>\n",
    "  <p>\n",
    "    <strong>(b) Capturing Attitudes Towards Legalisation:</strong> There are different options to capture attitudes:\n",
    "  </p>\n",
    "  <ul>\n",
    "    <li>Simply ask: \"What do you think about legalisation?\" Problem: Capturing long answers in a variable attitude may make it difficult to summarize and distil the information obtained.</li>\n",
    "    <li>Common way: Translate it into a score. One could, for example, ask 5 \"yes/no\" questions related to attitudes towards legalisation and sum up the number of positive answers. Thus, the answers of each student can be summarized on a scale from 0 to 5.</li>\n",
    "  </ul>\n",
    "  <p>\n",
    "    <strong>(c) Needed Variables:</strong>\n",
    "  </p>\n",
    "  <ul>\n",
    "    <li><strong>Attitude:</strong> Quantitative variable, ordinal scale</li>\n",
    "    <li><strong>Legalise:</strong> Binary (\"yes/no\") variable capturing whether the student agrees to legalise marijuana. This is a qualitative variable with a nominal scale.</li>\n",
    "    <li><strong>Gender:</strong> Qualitative variable with a nominal scale</li>\n",
    "    <li><strong>Age:</strong> Quantitative (continuous) variable with a ratio scale</li>\n",
    "  </ul>\n",
    "  <p>\n",
    "    <strong>(d) Data Set Example:</strong>\n",
    "  </p>\n",
    "  <table>\n",
    "    <tr>\n",
    "      <th>Student</th>\n",
    "      <th>Attitude</th>\n",
    "      <th>Legalise</th>\n",
    "      <th>Gender</th>\n",
    "      <th>Age</th>\n",
    "    </tr>\n",
    "    <tr>\n",
    "      <td>1</td>\n",
    "      <td>3</td>\n",
    "      <td>no</td>\n",
    "      <td>male</td>\n",
    "      <td>22</td>\n",
    "    </tr>\n",
    "    <tr>\n",
    "      <td>2</td>\n",
    "      <td>2</td>\n",
    "      <td>yes</td>\n",
    "      <td>female</td>\n",
    "      <td>25</td>\n",
    "    </tr>\n",
    "    <tr>\n",
    "      <td>...</td>\n",
    "      <td>...</td>\n",
    "      <td>...</td>\n",
    "      <td>...</td>\n",
    "      <td>...</td>\n",
    "    </tr>\n",
    "    <!-- Add more rows as needed -->\n",
    "  </table>\n",
    "  <p>\n",
    "    Attitude refers to variables capturing attitudes towards legalisation, and \"Legalise\" is the score variable summarizing these questions.\n",
    "  </p>\n",
    "  <p>\n",
    "    More detailed questions could include:\n",
    "  </p>\n",
    "  <ul>\n",
    "    <li>What is the median rate towards legalisation among students and how much does it vary?</li>\n",
    "    <li>What percentage of students answer \"yes\" when asked to legalise marijuana?</li>\n",
    "    <li>What is the difference in the proportion calculated above when stratified by gender?</li>\n",
    "    <li>What is the average age of those students who support legalisation compared with the average age of those students who do not support legalisation?</li>\n",
    "  </ul>\n",
    "</div>"
   ]
  },
  {
   "attachments": {},
   "cell_type": "markdown",
   "metadata": {},
   "source": [
    "<div>\n",
    "  <h2>Introduction to R and RStudio</h2>\n",
    "  <p><strong>Some useful hints for the first steps:</strong></p>\n",
    "  <ul>\n",
    "    <li>Open a new script file via <em>File → New → R Script</em>.</li>\n",
    "    <li>Save the script file at any time via <em>File → Save</em>.</li>\n",
    "    <li>Comments to the code that are not evaluated can be made with the <em>#</em> icon.</li>\n",
    "    <li>Send R code to the R console:</li>\n",
    "    <ul>\n",
    "      <li>Click with the mouse on a line (any location). Then click on the <em>Run</em> button. Only the selected line will be sent to the R console. The cursor will automatically move to the next line. You can now click again to send this line to the R console, and so on.</li>\n",
    "      <li>Mark the code you want to send to the R console. Then click the <em>Run</em> button. So all the marked text will be sent to the R console.</li>\n",
    "      <li>Press <em>Ctrl + Enter</em> on your keyboard instead of pressing the <em>Run</em> button.</li>\n",
    "    </ul>\n",
    "  </ul>\n",
    "  <p><strong>Useful shortcuts:</strong></p>\n",
    "  <ul>\n",
    "    <li>Assignment arrow <em><-</em>: <em>Alt + -</em></li>\n",
    "    <li>Complete code: <em>Tab</em> key</li>\n",
    "    <li>Comment in/out marked region: <em>Ctrl + Shift + C</em></li>\n",
    "    <li>Delete R console: <em>Ctrl + L</em></li>\n",
    "    <li>Cancel evaluation (if it takes too long): click or press <em>Esc</em> in the R console.</li>\n",
    "    <li>In the R console, retrieve previous code: Arrow keys (up and down).</li>\n",
    "    <li>Switch to the editor with the cursor: <em>Ctrl + 1</em></li>\n",
    "    <li>Move the cursor to the R console: <em>Ctrl + 2</em></li>\n",
    "    <li>Save: <em>Ctrl + S</em></li>\n",
    "  </ul>\n",
    "</div>\n",
    "<div>\n",
    "  <h2>Tasks</h2>\n",
    "  <ol>\n",
    "    <li>\n",
    "      <p><strong>Calculate the following quantities:</strong></p>\n",
    "      <ul>\n",
    "        <li>The sum of 52.3, 74.8, 3.17</li>\n",
    "        <li>The square root of 144</li>\n",
    "        <li>The 10-based logarithm of 200 multiplied with sin of π/4</li>\n",
    "        <li>The cumulative sum of the numbers 1, 3, 18, 20, 2 (use the <code>cumsum()</code> command)</li>\n",
    "        <li>Find 10 numbers between 0 and 20 rounded to the nearest integer value (hint: use the <code>sample()</code> command or a combination of the commands <code>round()</code> and <code>runif()</code>).</li>\n",
    "      </ul>\n",
    "    </li>\n",
    "    <li>\n",
    "      <p><strong>Assigning Variables:</strong></p>\n",
    "      <ul>\n",
    "        <li>Assign the number 5 to x and the number 10 to y.</li>\n",
    "        <li>Calculate the product of x and y.</li>\n",
    "        <li>Store the result in a new variable z.</li>\n",
    "        <li>Inspect your workspace by clicking the \"environment\" tab in RStudio, and find the three objects.</li>\n",
    "        <li>Make a vector myvec of the objects x, y, z.</li>\n",
    "        <li>Find the minimum, the maximum, and the mean of the vector.</li>\n",
    "        <li>Remove myvec from the workspace.</li>\n",
    "      </ul>\n",
    "    </li>\n",
    "    <li>\n",
    "      <p><strong>The numbers below are the first ten days of rainfall in a year:</strong></p>\n",
    "      <pre>0.1 0.5 2.3 1.1 11.3 14.7 23.4 15.7 0 0.9</pre>\n",
    "      <ul>\n",
    "        <li>Read them into a vector using the <code>c()</code> command.</li>\n",
    "        <li>Calculate the mean and the standard deviation.</li>\n",
    "        <li>Calculate the cumulative rainfall over these ten days. What is the total sum of the rainfall?</li>\n",
    "      </ul>\n",
    "    </li>\n",
    "  </ol>\n",
    "</div>\n"
   ]
  },
  {
   "cell_type": "code",
   "execution_count": 1,
   "metadata": {
    "vscode": {
     "languageId": "r"
    }
   },
   "outputs": [
    {
     "data": {
      "text/html": [
       "130.27"
      ],
      "text/latex": [
       "130.27"
      ],
      "text/markdown": [
       "130.27"
      ],
      "text/plain": [
       "[1] 130.27"
      ]
     },
     "metadata": {},
     "output_type": "display_data"
    },
    {
     "data": {
      "text/html": [
       "12"
      ],
      "text/latex": [
       "12"
      ],
      "text/markdown": [
       "12"
      ],
      "text/plain": [
       "[1] 12"
      ]
     },
     "metadata": {},
     "output_type": "display_data"
    },
    {
     "data": {
      "text/html": [
       "1.62707391364765"
      ],
      "text/latex": [
       "1.62707391364765"
      ],
      "text/markdown": [
       "1.62707391364765"
      ],
      "text/plain": [
       "[1] 1.627074"
      ]
     },
     "metadata": {},
     "output_type": "display_data"
    },
    {
     "data": {
      "text/html": [
       "<style>\n",
       ".list-inline {list-style: none; margin:0; padding: 0}\n",
       ".list-inline>li {display: inline-block}\n",
       ".list-inline>li:not(:last-child)::after {content: \"\\00b7\"; padding: 0 .5ex}\n",
       "</style>\n",
       "<ol class=list-inline><li>1</li><li>4</li><li>22</li><li>42</li><li>44</li></ol>\n"
      ],
      "text/latex": [
       "\\begin{enumerate*}\n",
       "\\item 1\n",
       "\\item 4\n",
       "\\item 22\n",
       "\\item 42\n",
       "\\item 44\n",
       "\\end{enumerate*}\n"
      ],
      "text/markdown": [
       "1. 1\n",
       "2. 4\n",
       "3. 22\n",
       "4. 42\n",
       "5. 44\n",
       "\n",
       "\n"
      ],
      "text/plain": [
       "[1]  1  4 22 42 44"
      ]
     },
     "metadata": {},
     "output_type": "display_data"
    }
   ],
   "source": [
    "# Sheet 1: Introduction to R, RStudio\n",
    "# WS 2022/23\n",
    "# Task 1: Calculate the following quantities:\n",
    "\n",
    "# sum of 52.3, 74.8, 3.17\n",
    "52.3 + 74.8 + 3.17\n",
    "\n",
    "# the square root of 144\n",
    "sqrt(144)\n",
    "\n",
    "# the 10-based logarithm of 200 multiplied with sin of π/4\n",
    "log10(200) * sin(pi / 4)\n",
    "\n",
    "# the cumulative sum of the numbers 1, 3, 18, 20, 2\n",
    "cumsum(c(1, 3, 18, 20, 2))\n"
   ]
  },
  {
   "attachments": {},
   "cell_type": "markdown",
   "metadata": {},
   "source": [
    "# Sheet 1: Introduction to R, RStudio\n",
    "# WS 2022/23\n",
    "# Task 1: Calculate the following quantities:"
   ]
  },
  {
   "attachments": {},
   "cell_type": "markdown",
   "metadata": {},
   "source": [
    "Using the cumsum() function in R is more efficient and concise compared to manually adding each element of the vector. Here are a few reasons why cumsum() is preferred:\n",
    "\n",
    "Efficiency: The cumsum() function is optimized for calculating cumulative sums efficiently. It's implemented in a highly optimized manner, making it faster than writing out individual addition operations, especially for larger datasets.\n",
    "\n",
    "Readability: Using cumsum() makes the code more readable and concise. It clearly communicates the intention of calculating cumulative sums without cluttering the code with repetitive addition operations.\n",
    "\n",
    "Flexibility: The cumsum() function is flexible and can handle vectors of any length. You don't need to modify the code if the length of the vector changes; cumsum() will adapt accordingly.\n",
    "\n",
    "Ease of Maintenance: Writing out individual addition operations can be error-prone, especially if there are many elements in the vector. Using cumsum() reduces the chances of introducing errors and makes the code easier to maintain.\n",
    "\n",
    "Overall, cumsum() provides a cleaner, more efficient, and more maintainable way to calculate cumulative sums in R."
   ]
  },
  {
   "cell_type": "code",
   "execution_count": 6,
   "metadata": {
    "vscode": {
     "languageId": "r"
    }
   },
   "outputs": [
    {
     "data": {
      "text/html": [
       "<style>\n",
       ".list-inline {list-style: none; margin:0; padding: 0}\n",
       ".list-inline>li {display: inline-block}\n",
       ".list-inline>li:not(:last-child)::after {content: \"\\00b7\"; padding: 0 .5ex}\n",
       "</style>\n",
       "<ol class=list-inline><li>14</li><li>0</li><li>13</li><li>9</li><li>16</li><li>3</li><li>2</li><li>3</li><li>11</li><li>1</li></ol>\n"
      ],
      "text/latex": [
       "\\begin{enumerate*}\n",
       "\\item 14\n",
       "\\item 0\n",
       "\\item 13\n",
       "\\item 9\n",
       "\\item 16\n",
       "\\item 3\n",
       "\\item 2\n",
       "\\item 3\n",
       "\\item 11\n",
       "\\item 1\n",
       "\\end{enumerate*}\n"
      ],
      "text/markdown": [
       "1. 14\n",
       "2. 0\n",
       "3. 13\n",
       "4. 9\n",
       "5. 16\n",
       "6. 3\n",
       "7. 2\n",
       "8. 3\n",
       "9. 11\n",
       "10. 1\n",
       "\n",
       "\n"
      ],
      "text/plain": [
       " [1] 14  0 13  9 16  3  2  3 11  1"
      ]
     },
     "metadata": {},
     "output_type": "display_data"
    }
   ],
   "source": [
    "# find 10 numbers between 0 and 20 rounded to the nearest integer\n",
    "round(runif(n = 10, min = 0, max = 20))\n"
   ]
  },
  {
   "attachments": {},
   "cell_type": "markdown",
   "metadata": {},
   "source": [
    "In the expression runif(5, min = 10, max = 20), the generated random numbers will be between 10 and 20, inclusively.\n",
    "\n",
    "This means that the output could potentially include the values 10 and 20. However, the probability of generating exactly 10 or 20 is lower compared to generating numbers between them, as the distribution is uniform. Therefore, it's more likely to see numbers between 10 and 20 in the output, but it's still possible to get 10 or 20 as part of the generated sequence.\n",
    "\n",
    "Here's an example of possible outputs from runif(5, min = 10, max = 20):\n",
    "\n",
    "10.123\n",
    "15.789\n",
    "17.345\n",
    "19.567\n",
    "20.000\n",
    "As you can see, it's possible to get values close to 10 or 20, but they may not exactly be 10 or 20."
   ]
  },
  {
   "cell_type": "code",
   "execution_count": 8,
   "metadata": {
    "vscode": {
     "languageId": "r"
    }
   },
   "outputs": [
    {
     "data": {
      "text/html": [
       "<style>\n",
       ".list-inline {list-style: none; margin:0; padding: 0}\n",
       ".list-inline>li {display: inline-block}\n",
       ".list-inline>li:not(:last-child)::after {content: \"\\00b7\"; padding: 0 .5ex}\n",
       "</style>\n",
       "<ol class=list-inline><li>0.999857363291085</li><li>0.645342573989183</li><li>0.0946400102693588</li><li>0.924051067326218</li><li>0.669298251857981</li></ol>\n"
      ],
      "text/latex": [
       "\\begin{enumerate*}\n",
       "\\item 0.999857363291085\n",
       "\\item 0.645342573989183\n",
       "\\item 0.0946400102693588\n",
       "\\item 0.924051067326218\n",
       "\\item 0.669298251857981\n",
       "\\end{enumerate*}\n"
      ],
      "text/markdown": [
       "1. 0.999857363291085\n",
       "2. 0.645342573989183\n",
       "3. 0.0946400102693588\n",
       "4. 0.924051067326218\n",
       "5. 0.669298251857981\n",
       "\n",
       "\n"
      ],
      "text/plain": [
       "[1] 0.99985736 0.64534257 0.09464001 0.92405107 0.66929825"
      ]
     },
     "metadata": {},
     "output_type": "display_data"
    }
   ],
   "source": [
    "runif(5, min = 0, max = 1)\n"
   ]
  },
  {
   "cell_type": "code",
   "execution_count": 12,
   "metadata": {
    "vscode": {
     "languageId": "r"
    }
   },
   "outputs": [
    {
     "data": {
      "text/html": [
       "<style>\n",
       ".list-inline {list-style: none; margin:0; padding: 0}\n",
       ".list-inline>li {display: inline-block}\n",
       ".list-inline>li:not(:last-child)::after {content: \"\\00b7\"; padding: 0 .5ex}\n",
       "</style>\n",
       "<ol class=list-inline><li>-2.65596344857477</li><li>-8.93205166398548</li><li>0.037045155884698</li><li>0.64175553410314</li><li>-7.9893893005792</li></ol>\n"
      ],
      "text/latex": [
       "\\begin{enumerate*}\n",
       "\\item -2.65596344857477\n",
       "\\item -8.93205166398548\n",
       "\\item 0.037045155884698\n",
       "\\item 0.64175553410314\n",
       "\\item -7.9893893005792\n",
       "\\end{enumerate*}\n"
      ],
      "text/markdown": [
       "1. -2.65596344857477\n",
       "2. -8.93205166398548\n",
       "3. 0.037045155884698\n",
       "4. 0.64175553410314\n",
       "5. -7.9893893005792\n",
       "\n",
       "\n"
      ],
      "text/plain": [
       "[1] -2.65596345 -8.93205166  0.03704516  0.64175553 -7.98938930"
      ]
     },
     "metadata": {},
     "output_type": "display_data"
    }
   ],
   "source": [
    "runif(5, min = -10, max = 1)\n"
   ]
  },
  {
   "cell_type": "code",
   "execution_count": 9,
   "metadata": {
    "vscode": {
     "languageId": "r"
    }
   },
   "outputs": [
    {
     "data": {
      "text/html": [
       "<style>\n",
       ".list-inline {list-style: none; margin:0; padding: 0}\n",
       ".list-inline>li {display: inline-block}\n",
       ".list-inline>li:not(:last-child)::after {content: \"\\00b7\"; padding: 0 .5ex}\n",
       "</style>\n",
       "<ol class=list-inline><li>0.268499061698094</li><li>0.416623935336247</li><li>0.667184237623587</li><li>0.983828224474564</li><li>0.00180584448389709</li></ol>\n"
      ],
      "text/latex": [
       "\\begin{enumerate*}\n",
       "\\item 0.268499061698094\n",
       "\\item 0.416623935336247\n",
       "\\item 0.667184237623587\n",
       "\\item 0.983828224474564\n",
       "\\item 0.00180584448389709\n",
       "\\end{enumerate*}\n"
      ],
      "text/markdown": [
       "1. 0.268499061698094\n",
       "2. 0.416623935336247\n",
       "3. 0.667184237623587\n",
       "4. 0.983828224474564\n",
       "5. 0.00180584448389709\n",
       "\n",
       "\n"
      ],
      "text/plain": [
       "[1] 0.268499062 0.416623935 0.667184238 0.983828224 0.001805844"
      ]
     },
     "metadata": {},
     "output_type": "display_data"
    }
   ],
   "source": [
    "runif(5) # Generates 5 random numbers between 0 and 1\n"
   ]
  },
  {
   "attachments": {},
   "cell_type": "markdown",
   "metadata": {},
   "source": [
    "This line of code uses the sample() function in R to randomly select 10 numbers from the sequence 0:20, which represents the integers from 0 to 20. Here's a breakdown of each part of the code:"
   ]
  },
  {
   "cell_type": "code",
   "execution_count": 7,
   "metadata": {
    "vscode": {
     "languageId": "r"
    }
   },
   "outputs": [
    {
     "data": {
      "text/html": [
       "<style>\n",
       ".list-inline {list-style: none; margin:0; padding: 0}\n",
       ".list-inline>li {display: inline-block}\n",
       ".list-inline>li:not(:last-child)::after {content: \"\\00b7\"; padding: 0 .5ex}\n",
       "</style>\n",
       "<ol class=list-inline><li>4</li><li>2</li><li>19</li><li>15</li><li>8</li><li>20</li><li>18</li><li>1</li><li>17</li><li>16</li></ol>\n"
      ],
      "text/latex": [
       "\\begin{enumerate*}\n",
       "\\item 4\n",
       "\\item 2\n",
       "\\item 19\n",
       "\\item 15\n",
       "\\item 8\n",
       "\\item 20\n",
       "\\item 18\n",
       "\\item 1\n",
       "\\item 17\n",
       "\\item 16\n",
       "\\end{enumerate*}\n"
      ],
      "text/markdown": [
       "1. 4\n",
       "2. 2\n",
       "3. 19\n",
       "4. 15\n",
       "5. 8\n",
       "6. 20\n",
       "7. 18\n",
       "8. 1\n",
       "9. 17\n",
       "10. 16\n",
       "\n",
       "\n"
      ],
      "text/plain": [
       " [1]  4  2 19 15  8 20 18  1 17 16"
      ]
     },
     "metadata": {},
     "output_type": "display_data"
    }
   ],
   "source": [
    "# or\n",
    "sample(x = 0:20, size = 10, replace = FALSE)\n"
   ]
  },
  {
   "attachments": {},
   "cell_type": "markdown",
   "metadata": {},
   "source": [
    "x = 0:20: This specifies the sequence of integers from 0 to 20. The sample() function will randomly select numbers from this sequence.\n",
    "\n",
    "size = 10: This argument specifies the number of samples to be selected. In this case, we want to select 10 random numbers from the sequence.\n",
    "\n",
    "replace = FALSE: This argument indicates whether sampling should be done with replacement or not. When replace = FALSE, as in this case, each selected number will be unique; that is, it won't be selected more than once. This ensures that the sampled numbers are distinct.\n",
    "\n",
    "In summary, this line of code generates a random sample of 10 unique integers between 0 and 20 (inclusive). Each integer is selected with equal probability, and no integer is selected more than once."
   ]
  },
  {
   "cell_type": "code",
   "execution_count": 23,
   "metadata": {
    "vscode": {
     "languageId": "r"
    }
   },
   "outputs": [],
   "source": [
    "# Assign the number 5 to x and the number 10 to y\n",
    "x <- 5\n",
    "y <- 10\n",
    "\n",
    "# Calculate the product of x and y\n",
    "z <- x * y\n",
    "\n",
    "# Inspect your workspace by clicking the 'environment' tab in RStudio, and find the three objects.\n",
    "# No code required\n",
    "\n",
    "# Make a vector myvec of the objects x, y, z.\n",
    "myvec <- c(x, y, z)\n",
    "\n",
    "# Find the minimum, the maximum, and the mean of the vector.\n",
    "min_value <- min(myvec)\n",
    "max_value <- max(myvec)\n",
    "mean_value <- mean(myvec)\n"
   ]
  },
  {
   "cell_type": "code",
   "execution_count": 24,
   "metadata": {
    "vscode": {
     "languageId": "r"
    }
   },
   "outputs": [
    {
     "data": {
      "text/html": [
       "5"
      ],
      "text/latex": [
       "5"
      ],
      "text/markdown": [
       "5"
      ],
      "text/plain": [
       "[1] 5"
      ]
     },
     "metadata": {},
     "output_type": "display_data"
    }
   ],
   "source": [
    "min_value\n"
   ]
  },
  {
   "cell_type": "code",
   "execution_count": 25,
   "metadata": {
    "vscode": {
     "languageId": "r"
    }
   },
   "outputs": [
    {
     "data": {
      "text/html": [
       "50"
      ],
      "text/latex": [
       "50"
      ],
      "text/markdown": [
       "50"
      ],
      "text/plain": [
       "[1] 50"
      ]
     },
     "metadata": {},
     "output_type": "display_data"
    }
   ],
   "source": [
    "max_value\n"
   ]
  },
  {
   "cell_type": "code",
   "execution_count": 26,
   "metadata": {
    "vscode": {
     "languageId": "r"
    }
   },
   "outputs": [
    {
     "data": {
      "text/html": [
       "21.6666666666667"
      ],
      "text/latex": [
       "21.6666666666667"
      ],
      "text/markdown": [
       "21.6666666666667"
      ],
      "text/plain": [
       "[1] 21.66667"
      ]
     },
     "metadata": {},
     "output_type": "display_data"
    }
   ],
   "source": [
    "mean_value\n"
   ]
  },
  {
   "cell_type": "code",
   "execution_count": 27,
   "metadata": {
    "vscode": {
     "languageId": "r"
    }
   },
   "outputs": [
    {
     "data": {
      "text/html": [
       "<style>\n",
       ".list-inline {list-style: none; margin:0; padding: 0}\n",
       ".list-inline>li {display: inline-block}\n",
       ".list-inline>li:not(:last-child)::after {content: \"\\00b7\"; padding: 0 .5ex}\n",
       "</style>\n",
       "<ol class=list-inline><li>5</li><li>10</li><li>50</li></ol>\n"
      ],
      "text/latex": [
       "\\begin{enumerate*}\n",
       "\\item 5\n",
       "\\item 10\n",
       "\\item 50\n",
       "\\end{enumerate*}\n"
      ],
      "text/markdown": [
       "1. 5\n",
       "2. 10\n",
       "3. 50\n",
       "\n",
       "\n"
      ],
      "text/plain": [
       "[1]  5 10 50"
      ]
     },
     "metadata": {},
     "output_type": "display_data"
    }
   ],
   "source": [
    "myvec\n"
   ]
  },
  {
   "cell_type": "code",
   "execution_count": 28,
   "metadata": {
    "vscode": {
     "languageId": "r"
    }
   },
   "outputs": [
    {
     "data": {
      "text/plain": [
       "NULL"
      ]
     },
     "metadata": {},
     "output_type": "display_data"
    }
   ],
   "source": [
    "attributes(myvec)\n"
   ]
  },
  {
   "cell_type": "code",
   "execution_count": 29,
   "metadata": {
    "vscode": {
     "languageId": "r"
    }
   },
   "outputs": [],
   "source": [
    "# Remove myvec from  the  workspace.\n",
    "rm(myvec)\n"
   ]
  },
  {
   "cell_type": "code",
   "execution_count": 32,
   "metadata": {
    "vscode": {
     "languageId": "r"
    }
   },
   "outputs": [
    {
     "data": {
      "text/html": [
       "7"
      ],
      "text/latex": [
       "7"
      ],
      "text/markdown": [
       "7"
      ],
      "text/plain": [
       "[1] 7"
      ]
     },
     "metadata": {},
     "output_type": "display_data"
    },
    {
     "data": {
      "text/html": [
       "8.53359374602648"
      ],
      "text/latex": [
       "8.53359374602648"
      ],
      "text/markdown": [
       "8.53359374602648"
      ],
      "text/plain": [
       "[1] 8.533594"
      ]
     },
     "metadata": {},
     "output_type": "display_data"
    },
    {
     "data": {
      "text/html": [
       "<style>\n",
       ".list-inline {list-style: none; margin:0; padding: 0}\n",
       ".list-inline>li {display: inline-block}\n",
       ".list-inline>li:not(:last-child)::after {content: \"\\00b7\"; padding: 0 .5ex}\n",
       "</style>\n",
       "<ol class=list-inline><li>0.1</li><li>0.6</li><li>2.9</li><li>4</li><li>15.3</li><li>30</li><li>53.4</li><li>69.1</li><li>69.1</li><li>70</li></ol>\n"
      ],
      "text/latex": [
       "\\begin{enumerate*}\n",
       "\\item 0.1\n",
       "\\item 0.6\n",
       "\\item 2.9\n",
       "\\item 4\n",
       "\\item 15.3\n",
       "\\item 30\n",
       "\\item 53.4\n",
       "\\item 69.1\n",
       "\\item 69.1\n",
       "\\item 70\n",
       "\\end{enumerate*}\n"
      ],
      "text/markdown": [
       "1. 0.1\n",
       "2. 0.6\n",
       "3. 2.9\n",
       "4. 4\n",
       "5. 15.3\n",
       "6. 30\n",
       "7. 53.4\n",
       "8. 69.1\n",
       "9. 69.1\n",
       "10. 70\n",
       "\n",
       "\n"
      ],
      "text/plain": [
       " [1]  0.1  0.6  2.9  4.0 15.3 30.0 53.4 69.1 69.1 70.0"
      ]
     },
     "metadata": {},
     "output_type": "display_data"
    },
    {
     "data": {
      "text/html": [
       "70"
      ],
      "text/latex": [
       "70"
      ],
      "text/markdown": [
       "70"
      ],
      "text/plain": [
       "[1] 70"
      ]
     },
     "metadata": {},
     "output_type": "display_data"
    },
    {
     "data": {
      "text/html": [
       "7"
      ],
      "text/latex": [
       "7"
      ],
      "text/markdown": [
       "7"
      ],
      "text/plain": [
       "[1] 7"
      ]
     },
     "metadata": {},
     "output_type": "display_data"
    },
    {
     "data": {
      "text/html": [
       "7"
      ],
      "text/latex": [
       "7"
      ],
      "text/markdown": [
       "7"
      ],
      "text/plain": [
       "[1] 7"
      ]
     },
     "metadata": {},
     "output_type": "display_data"
    },
    {
     "data": {
      "text/html": [
       "<style>\n",
       ".list-inline {list-style: none; margin:0; padding: 0}\n",
       ".list-inline>li {display: inline-block}\n",
       ".list-inline>li:not(:last-child)::after {content: \"\\00b7\"; padding: 0 .5ex}\n",
       "</style>\n",
       "<ol class=list-inline><li>11.3</li><li>14.7</li><li>23.4</li><li>15.7</li></ol>\n"
      ],
      "text/latex": [
       "\\begin{enumerate*}\n",
       "\\item 11.3\n",
       "\\item 14.7\n",
       "\\item 23.4\n",
       "\\item 15.7\n",
       "\\end{enumerate*}\n"
      ],
      "text/markdown": [
       "1. 11.3\n",
       "2. 14.7\n",
       "3. 23.4\n",
       "4. 15.7\n",
       "\n",
       "\n"
      ],
      "text/plain": [
       "[1] 11.3 14.7 23.4 15.7"
      ]
     },
     "metadata": {},
     "output_type": "display_data"
    }
   ],
   "source": [
    "# Task 3: Rainfall in the first ten days in a year\n",
    "\n",
    "# Read them into a vector using the c() command.\n",
    "rainfall <- c(0.1, 0.5, 2.3, 1.1, 11.3, 14.7, 23.4, 15.7, 0, 0.9)\n",
    "\n",
    "# Calculate the mean and the standard deviation.\n",
    "mean(rainfall)\n",
    "sd(rainfall)\n",
    "\n",
    "# Calculate the cumulative rainfall over these ten days. What is the total sum of the rainfall?\n",
    "cumsum(rainfall)\n",
    "sum(rainfall)\n",
    "\n",
    "# Which day saw the highest rainfall? Find an appropriate R command.\n",
    "which.max(rainfall)\n",
    "which(rainfall == max(rainfall))\n",
    "\n",
    "# Take a subset of the rainfall data where rain is larger than 10.\n",
    "rainfall[rainfall > 10]\n"
   ]
  },
  {
   "attachments": {},
   "cell_type": "markdown",
   "metadata": {},
   "source": [
    "<!-- Task 3: Rainfall in the first ten days in a year -->\n",
    "<h3>Task 3: Rainfall in the first ten days in a year</h3>\n",
    "\n",
    "<!-- Read them into a vector using the c() command. -->\n",
    "<p>Reading the rainfall data into a vector:</p>\n",
    "<code>rainfall <- c(0.1, 0.5, 2.3, 1.1, 11.3, 14.7, 23.4, 15.7, 0, 0.9)</code>\n",
    "\n",
    "<!-- Calculate the mean and the standard deviation. -->\n",
    "<p>Calculating the mean and standard deviation:</p>\n",
    "<code>mean(rainfall)<br>sd(rainfall)</code>\n",
    "\n",
    "<!-- Calculate the cumulative rainfall over these ten days. What is the total sum of the rainfall? -->\n",
    "<p>Calculating cumulative rainfall and total sum:</p>\n",
    "<code>cumsum(rainfall)<br>sum(rainfall)</code>\n",
    "\n",
    "<!-- Which day saw the highest rainfall? Find an appropriate R command. -->\n",
    "<p>Finding the day with the highest rainfall:</p>\n",
    "<code>which.max(rainfall)<br>which(rainfall == max(rainfall))</code>\n",
    "\n",
    "<!-- Take a subset of the rainfall data where rain is larger than 10. -->\n",
    "<p>Subsetting rainfall data where rain is larger than 10:</p>\n",
    "<code>rainfall[rainfall > 10]</code>\n",
    "\n",
    "<!-- What is mean rainfall for days where the rainfall was at least 5? -->\n",
    "<p>Mean rainfall for days where rainfall was at least 5:</p>\n",
    "<code>mean(rainfall[rainfall >= 5])</code>\n",
    "\n",
    "<!-- Subset the vector where it is either exactly 0 or 1.1 and find the corresponding days where the rainfall is 0 or 1.1. -->\n",
    "<p>Subsetting the vector for rainfall exactly 0 or 1.1:</p>\n",
    "<code>rainfall[rainfall == 0 | rainfall == 1.1]<br>which(rainfall %in% c(0, 1.1))</code>\n",
    "</html>"
   ]
  },
  {
   "cell_type": "code",
   "execution_count": 33,
   "metadata": {
    "vscode": {
     "languageId": "r"
    }
   },
   "outputs": [
    {
     "data": {
      "text/html": [
       "16.275"
      ],
      "text/latex": [
       "16.275"
      ],
      "text/markdown": [
       "16.275"
      ],
      "text/plain": [
       "[1] 16.275"
      ]
     },
     "metadata": {},
     "output_type": "display_data"
    }
   ],
   "source": [
    "# What is mean rainfall for days where the rainfall was at least 5?\n",
    "mean(rainfall[rainfall >= 5])\n"
   ]
  },
  {
   "cell_type": "code",
   "execution_count": 35,
   "metadata": {
    "vscode": {
     "languageId": "r"
    }
   },
   "outputs": [
    {
     "data": {
      "text/html": [
       "<style>\n",
       ".list-inline {list-style: none; margin:0; padding: 0}\n",
       ".list-inline>li {display: inline-block}\n",
       ".list-inline>li:not(:last-child)::after {content: \"\\00b7\"; padding: 0 .5ex}\n",
       "</style>\n",
       "<ol class=list-inline><li>1.1</li><li>0</li></ol>\n"
      ],
      "text/latex": [
       "\\begin{enumerate*}\n",
       "\\item 1.1\n",
       "\\item 0\n",
       "\\end{enumerate*}\n"
      ],
      "text/markdown": [
       "1. 1.1\n",
       "2. 0\n",
       "\n",
       "\n"
      ],
      "text/plain": [
       "[1] 1.1 0.0"
      ]
     },
     "metadata": {},
     "output_type": "display_data"
    }
   ],
   "source": [
    "# Subset the vector where it is either exactly 0 or 1.1 and find the corresponding days where the rainfall is 0 or 1.1.\n",
    "rainfall[rainfall == 0 | rainfall == 1.1] # alternative solution: rainfall[rainfall %in% c(0, 1.1)]\n"
   ]
  },
  {
   "cell_type": "code",
   "execution_count": 40,
   "metadata": {
    "vscode": {
     "languageId": "r"
    }
   },
   "outputs": [
    {
     "data": {
      "text/html": [
       "<style>\n",
       ".list-inline {list-style: none; margin:0; padding: 0}\n",
       ".list-inline>li {display: inline-block}\n",
       ".list-inline>li:not(:last-child)::after {content: \"\\00b7\"; padding: 0 .5ex}\n",
       "</style>\n",
       "<ol class=list-inline><li>0.1</li><li>0.5</li><li>2.3</li><li>1.1</li><li>11.3</li><li>14.7</li><li>23.4</li><li>15.7</li><li>0</li><li>0.9</li></ol>\n"
      ],
      "text/latex": [
       "\\begin{enumerate*}\n",
       "\\item 0.1\n",
       "\\item 0.5\n",
       "\\item 2.3\n",
       "\\item 1.1\n",
       "\\item 11.3\n",
       "\\item 14.7\n",
       "\\item 23.4\n",
       "\\item 15.7\n",
       "\\item 0\n",
       "\\item 0.9\n",
       "\\end{enumerate*}\n"
      ],
      "text/markdown": [
       "1. 0.1\n",
       "2. 0.5\n",
       "3. 2.3\n",
       "4. 1.1\n",
       "5. 11.3\n",
       "6. 14.7\n",
       "7. 23.4\n",
       "8. 15.7\n",
       "9. 0\n",
       "10. 0.9\n",
       "\n",
       "\n"
      ],
      "text/plain": [
       " [1]  0.1  0.5  2.3  1.1 11.3 14.7 23.4 15.7  0.0  0.9"
      ]
     },
     "metadata": {},
     "output_type": "display_data"
    },
    {
     "data": {
      "text/html": [
       "<style>\n",
       ".list-inline {list-style: none; margin:0; padding: 0}\n",
       ".list-inline>li {display: inline-block}\n",
       ".list-inline>li:not(:last-child)::after {content: \"\\00b7\"; padding: 0 .5ex}\n",
       "</style>\n",
       "<ol class=list-inline><li>4</li><li>9</li></ol>\n"
      ],
      "text/latex": [
       "\\begin{enumerate*}\n",
       "\\item 4\n",
       "\\item 9\n",
       "\\end{enumerate*}\n"
      ],
      "text/markdown": [
       "1. 4\n",
       "2. 9\n",
       "\n",
       "\n"
      ],
      "text/plain": [
       "[1] 4 9"
      ]
     },
     "metadata": {},
     "output_type": "display_data"
    }
   ],
   "source": [
    "rainfall\n",
    "which(rainfall %in% c(0, 1.1))\n"
   ]
  },
  {
   "cell_type": "code",
   "execution_count": 41,
   "metadata": {
    "vscode": {
     "languageId": "r"
    }
   },
   "outputs": [
    {
     "data": {
      "text/html": [
       "<style>\n",
       ".list-inline {list-style: none; margin:0; padding: 0}\n",
       ".list-inline>li {display: inline-block}\n",
       ".list-inline>li:not(:last-child)::after {content: \"\\00b7\"; padding: 0 .5ex}\n",
       "</style>\n",
       "<ol class=list-inline><li>FALSE</li><li>FALSE</li><li>TRUE</li><li>TRUE</li><li>TRUE</li></ol>\n"
      ],
      "text/latex": [
       "\\begin{enumerate*}\n",
       "\\item FALSE\n",
       "\\item FALSE\n",
       "\\item TRUE\n",
       "\\item TRUE\n",
       "\\item TRUE\n",
       "\\end{enumerate*}\n"
      ],
      "text/markdown": [
       "1. FALSE\n",
       "2. FALSE\n",
       "3. TRUE\n",
       "4. TRUE\n",
       "5. TRUE\n",
       "\n",
       "\n"
      ],
      "text/plain": [
       "[1] FALSE FALSE  TRUE  TRUE  TRUE"
      ]
     },
     "metadata": {},
     "output_type": "display_data"
    }
   ],
   "source": [
    "# Create two vectors\n",
    "x <- c(1, 2, 3, 4, 5)\n",
    "y <- c(3, 4, 5, 6, 7)\n",
    "\n",
    "# Check which elements of x are present in y\n",
    "x %in% y\n",
    "# Output: FALSE FALSE TRUE TRUE TRUE\n"
   ]
  },
  {
   "cell_type": "code",
   "execution_count": 42,
   "metadata": {
    "vscode": {
     "languageId": "r"
    }
   },
   "outputs": [],
   "source": [
    "# Task 4: The length of five cylinders and their diameters\n",
    "\n",
    "# Read these vectors into two vectors with appropriate names.\n",
    "len <- c(2.5, 3.4, 4.8, 3.1, 1.7)\n",
    "diam <- c(0.7, 0.4, 0.5, 0.5, 0.9)\n",
    "\n",
    "# Calculate the volumes of each cylinder and store it in a new vector.\n",
    "vol <- len * (0.5 * diam)^2 * pi\n",
    "\n",
    "# Assume the values are given in centimeter. Recalculate the volumes so that their units are cubic millimeter.\n",
    "vol.cm <- 10 * len * (10 * diam / 2)^2 * pi * 1000 # Convert cm^3 to mm^3\n"
   ]
  },
  {
   "cell_type": "code",
   "execution_count": 43,
   "metadata": {
    "vscode": {
     "languageId": "r"
    }
   },
   "outputs": [
    {
     "data": {
      "text/html": [
       "<style>\n",
       ".list-inline {list-style: none; margin:0; padding: 0}\n",
       ".list-inline>li {display: inline-block}\n",
       ".list-inline>li:not(:last-child)::after {content: \"\\00b7\"; padding: 0 .5ex}\n",
       "</style>\n",
       "<ol class=list-inline><li>962112.750161874</li><li>427256.600888212</li><li>942477.796076938</li><li>608683.576633022</li><li>1081493.27099829</li></ol>\n"
      ],
      "text/latex": [
       "\\begin{enumerate*}\n",
       "\\item 962112.750161874\n",
       "\\item 427256.600888212\n",
       "\\item 942477.796076938\n",
       "\\item 608683.576633022\n",
       "\\item 1081493.27099829\n",
       "\\end{enumerate*}\n"
      ],
      "text/markdown": [
       "1. 962112.750161874\n",
       "2. 427256.600888212\n",
       "3. 942477.796076938\n",
       "4. 608683.576633022\n",
       "5. 1081493.27099829\n",
       "\n",
       "\n"
      ],
      "text/plain": [
       "[1]  962112.8  427256.6  942477.8  608683.6 1081493.3"
      ]
     },
     "metadata": {},
     "output_type": "display_data"
    }
   ],
   "source": [
    "vol.cm\n"
   ]
  },
  {
   "cell_type": "code",
   "execution_count": 44,
   "metadata": {
    "vscode": {
     "languageId": "r"
    }
   },
   "outputs": [
    {
     "data": {
      "text/html": [
       "<style>\n",
       ".list-inline {list-style: none; margin:0; padding: 0}\n",
       ".list-inline>li {display: inline-block}\n",
       ".list-inline>li:not(:last-child)::after {content: \"\\00b7\"; padding: 0 .5ex}\n",
       "</style>\n",
       "<ol class=list-inline><li>0.962112750161874</li><li>0.427256600888212</li><li>0.942477796076938</li><li>0.608683576633022</li><li>1.08149327099829</li></ol>\n"
      ],
      "text/latex": [
       "\\begin{enumerate*}\n",
       "\\item 0.962112750161874\n",
       "\\item 0.427256600888212\n",
       "\\item 0.942477796076938\n",
       "\\item 0.608683576633022\n",
       "\\item 1.08149327099829\n",
       "\\end{enumerate*}\n"
      ],
      "text/markdown": [
       "1. 0.962112750161874\n",
       "2. 0.427256600888212\n",
       "3. 0.942477796076938\n",
       "4. 0.608683576633022\n",
       "5. 1.08149327099829\n",
       "\n",
       "\n"
      ],
      "text/plain": [
       "[1] 0.9621128 0.4272566 0.9424778 0.6086836 1.0814933"
      ]
     },
     "metadata": {},
     "output_type": "display_data"
    }
   ],
   "source": [
    "vol\n"
   ]
  },
  {
   "attachments": {},
   "cell_type": "markdown",
   "metadata": {},
   "source": [
    "<!-- Calculate the volumes of each cylinder and store it in a new vector. -->\n",
    "<p><strong>Calculate the volumes of each cylinder and store it in a new vector:</strong></p>\n",
    "<p>The formula to calculate the volume of a cylinder is V = πr²h, where r is the radius and h is the height (length) of the cylinder. In the provided code, the lengths of the cylinders are stored in the vector <code>len</code> and the diameters in the vector <code>diam</code>. However, the formula requires the radius, so the diameter needs to be divided by 2 to get the radius. The calculation <code>len * (0.5 * diam)^2 * pi</code> performs this calculation for each cylinder. It calculates the volume using the given lengths and diameters, and stores the result in the vector <code>vol</code>.</p>\n",
    "\n",
    "<!-- Assume the values are given in centimeters. Recalculate the volumes so that their units are cubic millimeters. -->\n",
    "<p><strong>Assume the values are given in centimeters. Recalculate the volumes so that their units are cubic millimeters:</strong></p>\n",
    "<p>The provided lengths and diameters are assumed to be in centimeters. To convert the units from cubic centimeters (cm³) to cubic millimeters (mm³), each dimension needs to be multiplied by 10, as there are 10 millimeters in a centimeter. The formula used for the conversion is <code>V<sub>mm³</sub> = 10 × len × (10 × (diam/2))^2 × π × 1000</code>. This calculation performs the unit conversion for each cylinder's volume and stores the result in the vector <code>vol.cm</code>.</p>"
   ]
  },
  {
   "cell_type": "code",
   "execution_count": 46,
   "metadata": {
    "vscode": {
     "languageId": "r"
    }
   },
   "outputs": [
    {
     "data": {
      "text/html": [
       "<style>\n",
       ".list-inline {list-style: none; margin:0; padding: 0}\n",
       ".list-inline>li {display: inline-block}\n",
       ".list-inline>li:not(:last-child)::after {content: \"\\00b7\"; padding: 0 .5ex}\n",
       "</style>\n",
       "<ol class=list-inline><li>3</li><li>5</li></ol>\n"
      ],
      "text/latex": [
       "\\begin{enumerate*}\n",
       "\\item 3\n",
       "\\item 5\n",
       "\\end{enumerate*}\n"
      ],
      "text/markdown": [
       "1. 3\n",
       "2. 5\n",
       "\n",
       "\n"
      ],
      "text/plain": [
       "[1] 3 5"
      ]
     },
     "metadata": {},
     "output_type": "display_data"
    },
    {
     "data": {
      "text/html": [
       "<style>\n",
       ".list-inline {list-style: none; margin:0; padding: 0}\n",
       ".list-inline>li {display: inline-block}\n",
       ".list-inline>li:not(:last-child)::after {content: \"\\00b7\"; padding: 0 .5ex}\n",
       "</style>\n",
       "<ol class=list-inline><li>1</li><li>2</li><li>4</li></ol>\n"
      ],
      "text/latex": [
       "\\begin{enumerate*}\n",
       "\\item 1\n",
       "\\item 2\n",
       "\\item 4\n",
       "\\end{enumerate*}\n"
      ],
      "text/markdown": [
       "1. 1\n",
       "2. 2\n",
       "3. 4\n",
       "\n",
       "\n"
      ],
      "text/plain": [
       "[1] 1 2 4"
      ]
     },
     "metadata": {},
     "output_type": "display_data"
    },
    {
     "data": {
      "text/html": [
       "<style>\n",
       ".list-inline {list-style: none; margin:0; padding: 0}\n",
       ".list-inline>li {display: inline-block}\n",
       ".list-inline>li:not(:last-child)::after {content: \"\\00b7\"; padding: 0 .5ex}\n",
       "</style>\n",
       "<ol class=list-inline><li>7</li><li>9</li></ol>\n"
      ],
      "text/latex": [
       "\\begin{enumerate*}\n",
       "\\item 7\n",
       "\\item 9\n",
       "\\end{enumerate*}\n"
      ],
      "text/markdown": [
       "1. 7\n",
       "2. 9\n",
       "\n",
       "\n"
      ],
      "text/plain": [
       "[1] 7 9"
      ]
     },
     "metadata": {},
     "output_type": "display_data"
    },
    {
     "data": {
      "text/html": [
       "<style>\n",
       ".list-inline {list-style: none; margin:0; padding: 0}\n",
       ".list-inline>li {display: inline-block}\n",
       ".list-inline>li:not(:last-child)::after {content: \"\\00b7\"; padding: 0 .5ex}\n",
       "</style>\n",
       "<ol class=list-inline><li>1</li><li>2</li><li>3</li><li>4</li><li>5</li><li>7</li><li>9</li></ol>\n"
      ],
      "text/latex": [
       "\\begin{enumerate*}\n",
       "\\item 1\n",
       "\\item 2\n",
       "\\item 3\n",
       "\\item 4\n",
       "\\item 5\n",
       "\\item 7\n",
       "\\item 9\n",
       "\\end{enumerate*}\n"
      ],
      "text/markdown": [
       "1. 1\n",
       "2. 2\n",
       "3. 3\n",
       "4. 4\n",
       "5. 5\n",
       "6. 7\n",
       "7. 9\n",
       "\n",
       "\n"
      ],
      "text/plain": [
       "[1] 1 2 3 4 5 7 9"
      ]
     },
     "metadata": {},
     "output_type": "display_data"
    },
    {
     "data": {
      "text/html": [
       "<style>\n",
       ".list-inline {list-style: none; margin:0; padding: 0}\n",
       ".list-inline>li {display: inline-block}\n",
       ".list-inline>li:not(:last-child)::after {content: \"\\00b7\"; padding: 0 .5ex}\n",
       "</style>\n",
       "<ol class=list-inline><li>1</li><li>2</li><li>3</li><li>4</li><li>5</li><li>3</li><li>5</li><li>7</li><li>9</li></ol>\n"
      ],
      "text/latex": [
       "\\begin{enumerate*}\n",
       "\\item 1\n",
       "\\item 2\n",
       "\\item 3\n",
       "\\item 4\n",
       "\\item 5\n",
       "\\item 3\n",
       "\\item 5\n",
       "\\item 7\n",
       "\\item 9\n",
       "\\end{enumerate*}\n"
      ],
      "text/markdown": [
       "1. 1\n",
       "2. 2\n",
       "3. 3\n",
       "4. 4\n",
       "5. 5\n",
       "6. 3\n",
       "7. 5\n",
       "8. 7\n",
       "9. 9\n",
       "\n",
       "\n"
      ],
      "text/plain": [
       "[1] 1 2 3 4 5 3 5 7 9"
      ]
     },
     "metadata": {},
     "output_type": "display_data"
    }
   ],
   "source": [
    "# Task 5: Inspect the R commands union(), setdiff(), and intersect()\n",
    "x <- c(1, 2, 3, 4, 5)\n",
    "y <- c(3, 5, 7, 9)\n",
    "\n",
    "# Find values that are contained in both x and y.\n",
    "intersect(x, y) # gives only values\n",
    "\n",
    "# Find values that are in x but not y and vice versa.\n",
    "setdiff(x, y) # x without y\n",
    "setdiff(y, x) # y without x\n",
    "\n",
    "# Construct a vector that contains all values contained in either x or y.\n",
    "# Compare the result with c(x, y).\n",
    "union(x, y)\n",
    "\n",
    "# c(x, y) only concatenates x and y\n",
    "c(x, y)\n"
   ]
  },
  {
   "cell_type": "code",
   "execution_count": 50,
   "metadata": {
    "vscode": {
     "languageId": "r"
    }
   },
   "outputs": [
    {
     "data": {
      "text/html": [
       "<table class=\"dataframe\">\n",
       "<caption>A matrix: 8 x 10 of type dbl</caption>\n",
       "<tbody>\n",
       "\t<tr><td>  0</td><td>  2</td><td>  4</td><td>  6</td><td>  8</td><td> 10</td><td> 12</td><td> 14</td><td> 16</td><td> 18</td></tr>\n",
       "\t<tr><td>101</td><td>235</td><td>730</td><td>274</td><td>473</td><td>724</td><td>773</td><td>293</td><td>487</td><td>595</td></tr>\n",
       "\t<tr><td>406</td><td>791</td><td>159</td><td>681</td><td>993</td><td>593</td><td>221</td><td>652</td><td>942</td><td>347</td></tr>\n",
       "\t<tr><td>623</td><td>845</td><td>630</td><td>790</td><td>503</td><td>136</td><td>972</td><td>217</td><td>104</td><td>507</td></tr>\n",
       "\t<tr><td>763</td><td>386</td><td>989</td><td>917</td><td>440</td><td>283</td><td>464</td><td>278</td><td>250</td><td>234</td></tr>\n",
       "\t<tr><td>351</td><td>844</td><td> 30</td><td>730</td><td>233</td><td>198</td><td>326</td><td>766</td><td>390</td><td>690</td></tr>\n",
       "\t<tr><td>852</td><td>363</td><td>272</td><td>918</td><td>477</td><td>846</td><td>463</td><td>843</td><td>780</td><td>351</td></tr>\n",
       "\t<tr><td>976</td><td>697</td><td> 90</td><td>472</td><td>331</td><td>742</td><td>518</td><td>840</td><td>792</td><td>255</td></tr>\n",
       "</tbody>\n",
       "</table>\n"
      ],
      "text/latex": [
       "A matrix: 8 x 10 of type dbl\n",
       "\\begin{tabular}{llllllllll}\n",
       "\t   0 &   2 &   4 &   6 &   8 &  10 &  12 &  14 &  16 &  18\\\\\n",
       "\t 101 & 235 & 730 & 274 & 473 & 724 & 773 & 293 & 487 & 595\\\\\n",
       "\t 406 & 791 & 159 & 681 & 993 & 593 & 221 & 652 & 942 & 347\\\\\n",
       "\t 623 & 845 & 630 & 790 & 503 & 136 & 972 & 217 & 104 & 507\\\\\n",
       "\t 763 & 386 & 989 & 917 & 440 & 283 & 464 & 278 & 250 & 234\\\\\n",
       "\t 351 & 844 &  30 & 730 & 233 & 198 & 326 & 766 & 390 & 690\\\\\n",
       "\t 852 & 363 & 272 & 918 & 477 & 846 & 463 & 843 & 780 & 351\\\\\n",
       "\t 976 & 697 &  90 & 472 & 331 & 742 & 518 & 840 & 792 & 255\\\\\n",
       "\\end{tabular}\n"
      ],
      "text/markdown": [
       "\n",
       "A matrix: 8 x 10 of type dbl\n",
       "\n",
       "|   0 |   2 |   4 |   6 |   8 |  10 |  12 |  14 |  16 |  18 |\n",
       "| 101 | 235 | 730 | 274 | 473 | 724 | 773 | 293 | 487 | 595 |\n",
       "| 406 | 791 | 159 | 681 | 993 | 593 | 221 | 652 | 942 | 347 |\n",
       "| 623 | 845 | 630 | 790 | 503 | 136 | 972 | 217 | 104 | 507 |\n",
       "| 763 | 386 | 989 | 917 | 440 | 283 | 464 | 278 | 250 | 234 |\n",
       "| 351 | 844 |  30 | 730 | 233 | 198 | 326 | 766 | 390 | 690 |\n",
       "| 852 | 363 | 272 | 918 | 477 | 846 | 463 | 843 | 780 | 351 |\n",
       "| 976 | 697 |  90 | 472 | 331 | 742 | 518 | 840 | 792 | 255 |\n",
       "\n"
      ],
      "text/plain": [
       "     [,1] [,2] [,3] [,4] [,5] [,6] [,7] [,8] [,9] [,10]\n",
       "[1,]   0    2    4    6    8   10   12   14   16   18  \n",
       "[2,] 101  235  730  274  473  724  773  293  487  595  \n",
       "[3,] 406  791  159  681  993  593  221  652  942  347  \n",
       "[4,] 623  845  630  790  503  136  972  217  104  507  \n",
       "[5,] 763  386  989  917  440  283  464  278  250  234  \n",
       "[6,] 351  844   30  730  233  198  326  766  390  690  \n",
       "[7,] 852  363  272  918  477  846  463  843  780  351  \n",
       "[8,] 976  697   90  472  331  742  518  840  792  255  "
      ]
     },
     "metadata": {},
     "output_type": "display_data"
    }
   ],
   "source": [
    "# Task 6: Construct a matrix with 8 rows and 10 columns.\n",
    "# The first row should contain the numbers 0, 2, 4, ..., 18\n",
    "# and the other rows should contain random integer numbers between 0 and 10.\n",
    "mat1 <- matrix(c(seq(0, 18, by = 2), as.integer(runif(70, 0, 1000))), nrow = 8, ncol = 10, byrow = TRUE)\n",
    "mat1\n"
   ]
  },
  {
   "cell_type": "code",
   "execution_count": 51,
   "metadata": {
    "vscode": {
     "languageId": "r"
    }
   },
   "outputs": [
    {
     "data": {
      "text/html": [
       "<style>\n",
       ".list-inline {list-style: none; margin:0; padding: 0}\n",
       ".list-inline>li {display: inline-block}\n",
       ".list-inline>li:not(:last-child)::after {content: \"\\00b7\"; padding: 0 .5ex}\n",
       "</style>\n",
       "<ol class=list-inline><li>9</li><li>468.5</li><li>578.5</li><li>532.7</li><li>500.4</li><li>455.8</li><li>616.5</li><li>571.3</li></ol>\n"
      ],
      "text/latex": [
       "\\begin{enumerate*}\n",
       "\\item 9\n",
       "\\item 468.5\n",
       "\\item 578.5\n",
       "\\item 532.7\n",
       "\\item 500.4\n",
       "\\item 455.8\n",
       "\\item 616.5\n",
       "\\item 571.3\n",
       "\\end{enumerate*}\n"
      ],
      "text/markdown": [
       "1. 9\n",
       "2. 468.5\n",
       "3. 578.5\n",
       "4. 532.7\n",
       "5. 500.4\n",
       "6. 455.8\n",
       "7. 616.5\n",
       "8. 571.3\n",
       "\n",
       "\n"
      ],
      "text/plain": [
       "[1]   9.0 468.5 578.5 532.7 500.4 455.8 616.5 571.3"
      ]
     },
     "metadata": {},
     "output_type": "display_data"
    }
   ],
   "source": [
    "# Calculate the row means of this matrix (use rowMeans())\n",
    "# and the standard deviation across the row means.\n",
    "rm <- rowMeans(mat1)\n",
    "rm\n"
   ]
  },
  {
   "cell_type": "code",
   "execution_count": 52,
   "metadata": {
    "vscode": {
     "languageId": "r"
    }
   },
   "outputs": [
    {
     "data": {
      "text/html": [
       "193.088939074348"
      ],
      "text/latex": [
       "193.088939074348"
      ],
      "text/markdown": [
       "193.088939074348"
      ],
      "text/plain": [
       "[1] 193.0889"
      ]
     },
     "metadata": {},
     "output_type": "display_data"
    },
    {
     "data": {
      "text/html": [
       "<table class=\"dataframe\">\n",
       "<caption>A matrix: 7 x 10 of type dbl</caption>\n",
       "<tbody>\n",
       "\t<tr><td>101</td><td>235</td><td>730</td><td>274</td><td>473</td><td>724</td><td>773</td><td>293</td><td>487</td><td>595</td></tr>\n",
       "\t<tr><td>406</td><td>791</td><td>159</td><td>681</td><td>993</td><td>593</td><td>221</td><td>652</td><td>942</td><td>347</td></tr>\n",
       "\t<tr><td>623</td><td>845</td><td>630</td><td>790</td><td>503</td><td>136</td><td>972</td><td>217</td><td>104</td><td>507</td></tr>\n",
       "\t<tr><td>763</td><td>386</td><td>989</td><td>917</td><td>440</td><td>283</td><td>464</td><td>278</td><td>250</td><td>234</td></tr>\n",
       "\t<tr><td>351</td><td>844</td><td> 30</td><td>730</td><td>233</td><td>198</td><td>326</td><td>766</td><td>390</td><td>690</td></tr>\n",
       "\t<tr><td>852</td><td>363</td><td>272</td><td>918</td><td>477</td><td>846</td><td>463</td><td>843</td><td>780</td><td>351</td></tr>\n",
       "\t<tr><td>976</td><td>697</td><td> 90</td><td>472</td><td>331</td><td>742</td><td>518</td><td>840</td><td>792</td><td>255</td></tr>\n",
       "</tbody>\n",
       "</table>\n"
      ],
      "text/latex": [
       "A matrix: 7 x 10 of type dbl\n",
       "\\begin{tabular}{llllllllll}\n",
       "\t 101 & 235 & 730 & 274 & 473 & 724 & 773 & 293 & 487 & 595\\\\\n",
       "\t 406 & 791 & 159 & 681 & 993 & 593 & 221 & 652 & 942 & 347\\\\\n",
       "\t 623 & 845 & 630 & 790 & 503 & 136 & 972 & 217 & 104 & 507\\\\\n",
       "\t 763 & 386 & 989 & 917 & 440 & 283 & 464 & 278 & 250 & 234\\\\\n",
       "\t 351 & 844 &  30 & 730 & 233 & 198 & 326 & 766 & 390 & 690\\\\\n",
       "\t 852 & 363 & 272 & 918 & 477 & 846 & 463 & 843 & 780 & 351\\\\\n",
       "\t 976 & 697 &  90 & 472 & 331 & 742 & 518 & 840 & 792 & 255\\\\\n",
       "\\end{tabular}\n"
      ],
      "text/markdown": [
       "\n",
       "A matrix: 7 x 10 of type dbl\n",
       "\n",
       "| 101 | 235 | 730 | 274 | 473 | 724 | 773 | 293 | 487 | 595 |\n",
       "| 406 | 791 | 159 | 681 | 993 | 593 | 221 | 652 | 942 | 347 |\n",
       "| 623 | 845 | 630 | 790 | 503 | 136 | 972 | 217 | 104 | 507 |\n",
       "| 763 | 386 | 989 | 917 | 440 | 283 | 464 | 278 | 250 | 234 |\n",
       "| 351 | 844 |  30 | 730 | 233 | 198 | 326 | 766 | 390 | 690 |\n",
       "| 852 | 363 | 272 | 918 | 477 | 846 | 463 | 843 | 780 | 351 |\n",
       "| 976 | 697 |  90 | 472 | 331 | 742 | 518 | 840 | 792 | 255 |\n",
       "\n"
      ],
      "text/plain": [
       "     [,1] [,2] [,3] [,4] [,5] [,6] [,7] [,8] [,9] [,10]\n",
       "[1,] 101  235  730  274  473  724  773  293  487  595  \n",
       "[2,] 406  791  159  681  993  593  221  652  942  347  \n",
       "[3,] 623  845  630  790  503  136  972  217  104  507  \n",
       "[4,] 763  386  989  917  440  283  464  278  250  234  \n",
       "[5,] 351  844   30  730  233  198  326  766  390  690  \n",
       "[6,] 852  363  272  918  477  846  463  843  780  351  \n",
       "[7,] 976  697   90  472  331  742  518  840  792  255  "
      ]
     },
     "metadata": {},
     "output_type": "display_data"
    },
    {
     "data": {
      "text/html": [
       "<style>\n",
       ".list-inline {list-style: none; margin:0; padding: 0}\n",
       ".list-inline>li {display: inline-block}\n",
       ".list-inline>li:not(:last-child)::after {content: \"\\00b7\"; padding: 0 .5ex}\n",
       "</style>\n",
       "<ol class=list-inline><li>581.714285714286</li><li>594.428571428571</li><li>414.285714285714</li><li>683.142857142857</li><li>492.857142857143</li><li>503.142857142857</li><li>533.857142857143</li><li>555.571428571429</li><li>535</li><li>425.571428571429</li></ol>\n"
      ],
      "text/latex": [
       "\\begin{enumerate*}\n",
       "\\item 581.714285714286\n",
       "\\item 594.428571428571\n",
       "\\item 414.285714285714\n",
       "\\item 683.142857142857\n",
       "\\item 492.857142857143\n",
       "\\item 503.142857142857\n",
       "\\item 533.857142857143\n",
       "\\item 555.571428571429\n",
       "\\item 535\n",
       "\\item 425.571428571429\n",
       "\\end{enumerate*}\n"
      ],
      "text/markdown": [
       "1. 581.714285714286\n",
       "2. 594.428571428571\n",
       "3. 414.285714285714\n",
       "4. 683.142857142857\n",
       "5. 492.857142857143\n",
       "6. 503.142857142857\n",
       "7. 533.857142857143\n",
       "8. 555.571428571429\n",
       "9. 535\n",
       "10. 425.571428571429\n",
       "\n",
       "\n"
      ],
      "text/plain": [
       " [1] 581.7143 594.4286 414.2857 683.1429 492.8571 503.1429 533.8571 555.5714\n",
       " [9] 535.0000 425.5714"
      ]
     },
     "metadata": {},
     "output_type": "display_data"
    },
    {
     "data": {
      "image/png": "[encoded data removed]",
      "text/plain": [
       "Plot with title \"Histogram of cm\""
      ]
     },
     "metadata": {
      "image/png": {
       "height": 420,
       "width": 420
      }
     },
     "output_type": "display_data"
    }
   ],
   "source": [
    "sd(rm)\n"
   ]
  },
  {
   "cell_type": "code",
   "execution_count": 54,
   "metadata": {
    "vscode": {
     "languageId": "r"
    }
   },
   "outputs": [
    {
     "data": {
      "text/html": [
       "<table class=\"dataframe\">\n",
       "<caption>A matrix: 7 x 10 of type dbl</caption>\n",
       "<tbody>\n",
       "\t<tr><td>101</td><td>235</td><td>730</td><td>274</td><td>473</td><td>724</td><td>773</td><td>293</td><td>487</td><td>595</td></tr>\n",
       "\t<tr><td>406</td><td>791</td><td>159</td><td>681</td><td>993</td><td>593</td><td>221</td><td>652</td><td>942</td><td>347</td></tr>\n",
       "\t<tr><td>623</td><td>845</td><td>630</td><td>790</td><td>503</td><td>136</td><td>972</td><td>217</td><td>104</td><td>507</td></tr>\n",
       "\t<tr><td>763</td><td>386</td><td>989</td><td>917</td><td>440</td><td>283</td><td>464</td><td>278</td><td>250</td><td>234</td></tr>\n",
       "\t<tr><td>351</td><td>844</td><td> 30</td><td>730</td><td>233</td><td>198</td><td>326</td><td>766</td><td>390</td><td>690</td></tr>\n",
       "\t<tr><td>852</td><td>363</td><td>272</td><td>918</td><td>477</td><td>846</td><td>463</td><td>843</td><td>780</td><td>351</td></tr>\n",
       "\t<tr><td>976</td><td>697</td><td> 90</td><td>472</td><td>331</td><td>742</td><td>518</td><td>840</td><td>792</td><td>255</td></tr>\n",
       "</tbody>\n",
       "</table>\n"
      ],
      "text/latex": [
       "A matrix: 7 x 10 of type dbl\n",
       "\\begin{tabular}{llllllllll}\n",
       "\t 101 & 235 & 730 & 274 & 473 & 724 & 773 & 293 & 487 & 595\\\\\n",
       "\t 406 & 791 & 159 & 681 & 993 & 593 & 221 & 652 & 942 & 347\\\\\n",
       "\t 623 & 845 & 630 & 790 & 503 & 136 & 972 & 217 & 104 & 507\\\\\n",
       "\t 763 & 386 & 989 & 917 & 440 & 283 & 464 & 278 & 250 & 234\\\\\n",
       "\t 351 & 844 &  30 & 730 & 233 & 198 & 326 & 766 & 390 & 690\\\\\n",
       "\t 852 & 363 & 272 & 918 & 477 & 846 & 463 & 843 & 780 & 351\\\\\n",
       "\t 976 & 697 &  90 & 472 & 331 & 742 & 518 & 840 & 792 & 255\\\\\n",
       "\\end{tabular}\n"
      ],
      "text/markdown": [
       "\n",
       "A matrix: 7 x 10 of type dbl\n",
       "\n",
       "| 101 | 235 | 730 | 274 | 473 | 724 | 773 | 293 | 487 | 595 |\n",
       "| 406 | 791 | 159 | 681 | 993 | 593 | 221 | 652 | 942 | 347 |\n",
       "| 623 | 845 | 630 | 790 | 503 | 136 | 972 | 217 | 104 | 507 |\n",
       "| 763 | 386 | 989 | 917 | 440 | 283 | 464 | 278 | 250 | 234 |\n",
       "| 351 | 844 |  30 | 730 | 233 | 198 | 326 | 766 | 390 | 690 |\n",
       "| 852 | 363 | 272 | 918 | 477 | 846 | 463 | 843 | 780 | 351 |\n",
       "| 976 | 697 |  90 | 472 | 331 | 742 | 518 | 840 | 792 | 255 |\n",
       "\n"
      ],
      "text/plain": [
       "     [,1] [,2] [,3] [,4] [,5] [,6] [,7] [,8] [,9] [,10]\n",
       "[1,] 101  235  730  274  473  724  773  293  487  595  \n",
       "[2,] 406  791  159  681  993  593  221  652  942  347  \n",
       "[3,] 623  845  630  790  503  136  972  217  104  507  \n",
       "[4,] 763  386  989  917  440  283  464  278  250  234  \n",
       "[5,] 351  844   30  730  233  198  326  766  390  690  \n",
       "[6,] 852  363  272  918  477  846  463  843  780  351  \n",
       "[7,] 976  697   90  472  331  742  518  840  792  255  "
      ]
     },
     "metadata": {},
     "output_type": "display_data"
    }
   ],
   "source": [
    "# Store the rows 2, 3, ..., 8 in another matrix\n",
    "# and calculate the column means.\n",
    "# Use the command hist() to create a histogram of the column means.\n",
    "# removing the first row of mat1\n",
    "mat2 <- mat1[-1, ]\n",
    "mat2\n"
   ]
  },
  {
   "cell_type": "code",
   "execution_count": 56,
   "metadata": {
    "vscode": {
     "languageId": "r"
    }
   },
   "outputs": [
    {
     "data": {
      "text/html": [
       "<style>\n",
       ".list-inline {list-style: none; margin:0; padding: 0}\n",
       ".list-inline>li {display: inline-block}\n",
       ".list-inline>li:not(:last-child)::after {content: \"\\00b7\"; padding: 0 .5ex}\n",
       "</style>\n",
       "<ol class=list-inline><li>581.714285714286</li><li>594.428571428571</li><li>414.285714285714</li><li>683.142857142857</li><li>492.857142857143</li><li>503.142857142857</li><li>533.857142857143</li><li>555.571428571429</li><li>535</li><li>425.571428571429</li></ol>\n"
      ],
      "text/latex": [
       "\\begin{enumerate*}\n",
       "\\item 581.714285714286\n",
       "\\item 594.428571428571\n",
       "\\item 414.285714285714\n",
       "\\item 683.142857142857\n",
       "\\item 492.857142857143\n",
       "\\item 503.142857142857\n",
       "\\item 533.857142857143\n",
       "\\item 555.571428571429\n",
       "\\item 535\n",
       "\\item 425.571428571429\n",
       "\\end{enumerate*}\n"
      ],
      "text/markdown": [
       "1. 581.714285714286\n",
       "2. 594.428571428571\n",
       "3. 414.285714285714\n",
       "4. 683.142857142857\n",
       "5. 492.857142857143\n",
       "6. 503.142857142857\n",
       "7. 533.857142857143\n",
       "8. 555.571428571429\n",
       "9. 535\n",
       "10. 425.571428571429\n",
       "\n",
       "\n"
      ],
      "text/plain": [
       " [1] 581.7143 594.4286 414.2857 683.1429 492.8571 503.1429 533.8571 555.5714\n",
       " [9] 535.0000 425.5714"
      ]
     },
     "metadata": {},
     "output_type": "display_data"
    }
   ],
   "source": [
    "# column means of mat2\n",
    "cm <- colMeans(mat2)\n",
    "cm\n"
   ]
  },
  {
   "cell_type": "code",
   "execution_count": 57,
   "metadata": {
    "vscode": {
     "languageId": "r"
    }
   },
   "outputs": [
    {
     "data": {
      "image/png": "[encoded data removed]",
      "text/plain": [
       "Plot with title \"Histogram of cm\""
      ]
     },
     "metadata": {
      "image/png": {
       "height": 420,
       "width": 420
      }
     },
     "output_type": "display_data"
    }
   ],
   "source": [
    "# creating a histogram of cm\n",
    "hist(cm)\n"
   ]
  },
  {
   "cell_type": "code",
   "execution_count": 59,
   "metadata": {
    "vscode": {
     "languageId": "r"
    }
   },
   "outputs": [
    {
     "name": "stderr",
     "output_type": "stream",
     "text": [
      "installiere auch Abh\"angigkeiten 'colorspace', 'farver', 'labeling', 'munsell', 'R6', 'RColorBrewer', 'viridisLite', 'magrittr', 'pkgconfig', 'gtable', 'isoband', 'scales', 'tibble', 'withr'\n",
      "\n",
      "\n"
     ]
    },
    {
     "name": "stdout",
     "output_type": "stream",
     "text": [
      "\n",
      "Die heruntergeladenen Bin\"arpakete sind in \n",
      "\t/var/folders/kd/__48vym54073c7fy7_xqv3wh0000gn/T//Rtmp3Hu7VS/downloaded_packages\n"
     ]
    }
   ],
   "source": [
    "install.packages(\"ggplot2\")\n"
   ]
  },
  {
   "cell_type": "code",
   "execution_count": 61,
   "metadata": {
    "vscode": {
     "languageId": "r"
    }
   },
   "outputs": [
    {
     "name": "stderr",
     "output_type": "stream",
     "text": [
      "installiere auch Abh\"angigkeiten 'sys', 'bit', 'ps', 'sass', 'cachem', 'rappdirs', 'rematch', 'askpass', 'bit64', 'prettyunits', 'processx', 'highr', 'xfun', 'yaml', 'bslib', 'fontawesome', 'jquerylib', 'tinytex', 'backports', 'generics', 'memoise', 'blob', 'DBI', 'tidyselect', 'data.table', 'gargle', 'cellranger', 'curl', 'ids', 'rematch2', 'cpp11', 'mime', 'openssl', 'timechange', 'systemfonts', 'textshaping', 'clipr', 'vroom', 'tzdb', 'progress', 'callr', 'fs', 'knitr', 'rmarkdown', 'selectr', 'stringi', 'broom', 'conflicted', 'dbplyr', 'dplyr', 'dtplyr', 'forcats', 'googledrive', 'googlesheets4', 'haven', 'hms', 'httr', 'lubridate', 'modelr', 'purrr', 'ragg', 'readr', 'readxl', 'reprex', 'rstudioapi', 'rvest', 'stringr', 'tidyr', 'xml2'\n",
      "\n",
      "\n"
     ]
    },
    {
     "name": "stdout",
     "output_type": "stream",
     "text": [
      "\n",
      "Die heruntergeladenen Bin\"arpakete sind in \n",
      "\t/var/folders/kd/__48vym54073c7fy7_xqv3wh0000gn/T//Rtmp3Hu7VS/downloaded_packages\n"
     ]
    }
   ],
   "source": [
    "install.packages(\"tidyverse\")\n"
   ]
  },
  {
   "cell_type": "code",
   "execution_count": 66,
   "metadata": {
    "vscode": {
     "languageId": "r"
    }
   },
   "outputs": [],
   "source": [
    "# Task 7: Inspect the dataset mpg.\n",
    "library(ggplot2)\n",
    "library(tidyverse)\n"
   ]
  },
  {
   "cell_type": "code",
   "execution_count": 72,
   "metadata": {
    "vscode": {
     "languageId": "r"
    }
   },
   "outputs": [
    {
     "data": {
      "text/html": [
       "<style>\n",
       ".list-inline {list-style: none; margin:0; padding: 0}\n",
       ".list-inline>li {display: inline-block}\n",
       ".list-inline>li:not(:last-child)::after {content: \"\\00b7\"; padding: 0 .5ex}\n",
       "</style>\n",
       "<ol class=list-inline><li>'manufacturer'</li><li>'model'</li><li>'displ'</li><li>'year'</li><li>'cyl'</li><li>'trans'</li><li>'drv'</li><li>'cty'</li><li>'hwy'</li><li>'fl'</li><li>'class'</li></ol>\n"
      ],
      "text/latex": [
       "\\begin{enumerate*}\n",
       "\\item 'manufacturer'\n",
       "\\item 'model'\n",
       "\\item 'displ'\n",
       "\\item 'year'\n",
       "\\item 'cyl'\n",
       "\\item 'trans'\n",
       "\\item 'drv'\n",
       "\\item 'cty'\n",
       "\\item 'hwy'\n",
       "\\item 'fl'\n",
       "\\item 'class'\n",
       "\\end{enumerate*}\n"
      ],
      "text/markdown": [
       "1. 'manufacturer'\n",
       "2. 'model'\n",
       "3. 'displ'\n",
       "4. 'year'\n",
       "5. 'cyl'\n",
       "6. 'trans'\n",
       "7. 'drv'\n",
       "8. 'cty'\n",
       "9. 'hwy'\n",
       "10. 'fl'\n",
       "11. 'class'\n",
       "\n",
       "\n"
      ],
      "text/plain": [
       " [1] \"manufacturer\" \"model\"        \"displ\"        \"year\"         \"cyl\"         \n",
       " [6] \"trans\"        \"drv\"          \"cty\"          \"hwy\"          \"fl\"          \n",
       "[11] \"class\"       "
      ]
     },
     "metadata": {},
     "output_type": "display_data"
    },
    {
     "data": {
      "text/html": [
       "<table class=\"dataframe\">\n",
       "<caption>A tibble: 6 x 11</caption>\n",
       "<thead>\n",
       "\t<tr><th scope=col>manufacturer</th><th scope=col>model</th><th scope=col>displ</th><th scope=col>year</th><th scope=col>cyl</th><th scope=col>trans</th><th scope=col>drv</th><th scope=col>cty</th><th scope=col>hwy</th><th scope=col>fl</th><th scope=col>class</th></tr>\n",
       "\t<tr><th scope=col>&lt;chr&gt;</th><th scope=col>&lt;chr&gt;</th><th scope=col>&lt;dbl&gt;</th><th scope=col>&lt;int&gt;</th><th scope=col>&lt;int&gt;</th><th scope=col>&lt;chr&gt;</th><th scope=col>&lt;chr&gt;</th><th scope=col>&lt;int&gt;</th><th scope=col>&lt;int&gt;</th><th scope=col>&lt;chr&gt;</th><th scope=col>&lt;chr&gt;</th></tr>\n",
       "</thead>\n",
       "<tbody>\n",
       "\t<tr><td>audi</td><td>a4</td><td>1.8</td><td>1999</td><td>4</td><td>auto(l5)  </td><td>f</td><td>18</td><td>29</td><td>p</td><td>compact</td></tr>\n",
       "\t<tr><td>audi</td><td>a4</td><td>1.8</td><td>1999</td><td>4</td><td>manual(m5)</td><td>f</td><td>21</td><td>29</td><td>p</td><td>compact</td></tr>\n",
       "\t<tr><td>audi</td><td>a4</td><td>2.0</td><td>2008</td><td>4</td><td>manual(m6)</td><td>f</td><td>20</td><td>31</td><td>p</td><td>compact</td></tr>\n",
       "\t<tr><td>audi</td><td>a4</td><td>2.0</td><td>2008</td><td>4</td><td>auto(av)  </td><td>f</td><td>21</td><td>30</td><td>p</td><td>compact</td></tr>\n",
       "\t<tr><td>audi</td><td>a4</td><td>2.8</td><td>1999</td><td>6</td><td>auto(l5)  </td><td>f</td><td>16</td><td>26</td><td>p</td><td>compact</td></tr>\n",
       "\t<tr><td>audi</td><td>a4</td><td>2.8</td><td>1999</td><td>6</td><td>manual(m5)</td><td>f</td><td>18</td><td>26</td><td>p</td><td>compact</td></tr>\n",
       "</tbody>\n",
       "</table>\n"
      ],
      "text/latex": [
       "A tibble: 6 x 11\n",
       "\\begin{tabular}{lllllllllll}\n",
       " manufacturer & model & displ & year & cyl & trans & drv & cty & hwy & fl & class\\\\\n",
       " <chr> & <chr> & <dbl> & <int> & <int> & <chr> & <chr> & <int> & <int> & <chr> & <chr>\\\\\n",
       "\\hline\n",
       "\t audi & a4 & 1.8 & 1999 & 4 & auto(l5)   & f & 18 & 29 & p & compact\\\\\n",
       "\t audi & a4 & 1.8 & 1999 & 4 & manual(m5) & f & 21 & 29 & p & compact\\\\\n",
       "\t audi & a4 & 2.0 & 2008 & 4 & manual(m6) & f & 20 & 31 & p & compact\\\\\n",
       "\t audi & a4 & 2.0 & 2008 & 4 & auto(av)   & f & 21 & 30 & p & compact\\\\\n",
       "\t audi & a4 & 2.8 & 1999 & 6 & auto(l5)   & f & 16 & 26 & p & compact\\\\\n",
       "\t audi & a4 & 2.8 & 1999 & 6 & manual(m5) & f & 18 & 26 & p & compact\\\\\n",
       "\\end{tabular}\n"
      ],
      "text/markdown": [
       "\n",
       "A tibble: 6 x 11\n",
       "\n",
       "| manufacturer &lt;chr&gt; | model &lt;chr&gt; | displ &lt;dbl&gt; | year &lt;int&gt; | cyl &lt;int&gt; | trans &lt;chr&gt; | drv &lt;chr&gt; | cty &lt;int&gt; | hwy &lt;int&gt; | fl &lt;chr&gt; | class &lt;chr&gt; |\n",
       "|---|---|---|---|---|---|---|---|---|---|---|\n",
       "| audi | a4 | 1.8 | 1999 | 4 | auto(l5)   | f | 18 | 29 | p | compact |\n",
       "| audi | a4 | 1.8 | 1999 | 4 | manual(m5) | f | 21 | 29 | p | compact |\n",
       "| audi | a4 | 2.0 | 2008 | 4 | manual(m6) | f | 20 | 31 | p | compact |\n",
       "| audi | a4 | 2.0 | 2008 | 4 | auto(av)   | f | 21 | 30 | p | compact |\n",
       "| audi | a4 | 2.8 | 1999 | 6 | auto(l5)   | f | 16 | 26 | p | compact |\n",
       "| audi | a4 | 2.8 | 1999 | 6 | manual(m5) | f | 18 | 26 | p | compact |\n",
       "\n"
      ],
      "text/plain": [
       "  manufacturer model displ year cyl trans      drv cty hwy fl class  \n",
       "1 audi         a4    1.8   1999 4   auto(l5)   f   18  29  p  compact\n",
       "2 audi         a4    1.8   1999 4   manual(m5) f   21  29  p  compact\n",
       "3 audi         a4    2.0   2008 4   manual(m6) f   20  31  p  compact\n",
       "4 audi         a4    2.0   2008 4   auto(av)   f   21  30  p  compact\n",
       "5 audi         a4    2.8   1999 6   auto(l5)   f   16  26  p  compact\n",
       "6 audi         a4    2.8   1999 6   manual(m5) f   18  26  p  compact"
      ]
     },
     "metadata": {},
     "output_type": "display_data"
    },
    {
     "name": "stdout",
     "output_type": "stream",
     "text": [
      "mpg                  package:ggplot2                   R Documentation\n",
      "\n",
      "_\bF_\bu_\be_\bl _\be_\bc_\bo_\bn_\bo_\bm_\by _\bd_\ba_\bt_\ba _\bf_\br_\bo_\bm _\b1_\b9_\b9_\b9 _\bt_\bo _\b2_\b0_\b0_\b8 _\bf_\bo_\br _\b3_\b8 _\bp_\bo_\bp_\bu_\bl_\ba_\br _\bm_\bo_\bd_\be_\bl_\bs _\bo_\bf _\bc_\ba_\br_\bs\n",
      "\n",
      "_\bD_\be_\bs_\bc_\br_\bi_\bp_\bt_\bi_\bo_\bn:\n",
      "\n",
      "     This dataset contains a subset of the fuel economy data that the\n",
      "     EPA makes available on <https://fueleconomy.gov/>. It contains\n",
      "     only models which had a new release every year between 1999 and\n",
      "     2008 - this was used as a proxy for the popularity of the car.\n",
      "\n",
      "_\bU_\bs_\ba_\bg_\be:\n",
      "\n",
      "     mpg\n",
      "     \n",
      "_\bF_\bo_\br_\bm_\ba_\bt:\n",
      "\n",
      "     A data frame with 234 rows and 11 variables:\n",
      "\n",
      "     manufacturer manufacturer name\n",
      "\n",
      "     model model name\n",
      "\n",
      "     displ engine displacement, in litres\n",
      "\n",
      "     year year of manufacture\n",
      "\n",
      "     cyl number of cylinders\n",
      "\n",
      "     trans type of transmission\n",
      "\n",
      "     drv the type of drive train, where f = front-wheel drive, r = rear\n",
      "          wheel drive, 4 = 4wd\n",
      "\n",
      "     cty city miles per gallon\n",
      "\n",
      "     hwy highway miles per gallon\n",
      "\n",
      "     fl fuel type\n",
      "\n",
      "     class \"type\" of car\n"
     ]
    }
   ],
   "source": [
    "help(mpg)\n",
    "names(mpg)\n",
    "head(mpg)\n"
   ]
  },
  {
   "cell_type": "code",
   "execution_count": 73,
   "metadata": {
    "vscode": {
     "languageId": "r"
    }
   },
   "outputs": [],
   "source": [
    "# Create an empty tibble strmpg with variables name, type, level, and dc of type character().\n",
    "strmpg <- tibble(name = character(), type = character(), level = character(), dc = character())\n"
   ]
  },
  {
   "cell_type": "code",
   "execution_count": 74,
   "metadata": {
    "vscode": {
     "languageId": "r"
    }
   },
   "outputs": [],
   "source": [
    "# Add for every variable in the dataset mpg a row containing for every variable the name, the type,\n",
    "# the level of measurement and discrete/continuous.\n",
    "strmpg <- strmpg %>%\n",
    "  add_row(name = \"manufacturer\", type = \"qualitative\", level = \"nominal\", dc = \"discrete\") %>%\n",
    "  add_row(name = \"model\", type = \"qualitative\", level = \"nominal\", dc = \"discrete\") %>%\n",
    "  add_row(name = \"displ\", type = \"quantitative\", level = \"ratio\", dc = \"continuous\") %>%\n",
    "  add_row(name = \"year\", type = \"quantitative\", level = \"interval\", dc = \"discrete\") %>%\n",
    "  add_row(name = \"cyl\", type = \"quantitative\", level = \"ratio\", dc = \"discrete\") %>%\n",
    "  add_row(name = \"trans\", type = \"qualitative\", level = \"nominal\", dc = \"discrete\") %>%\n",
    "  add_row(name = \"drv\", type = \"qualitative\", level = \"nominal\", dc = \"discrete\") %>%\n",
    "  add_row(name = \"cty\", type = \"quantitative\", level = \"ratio\", dc = \"continuous\") %>%\n",
    "  add_row(name = \"hwy\", type = \"quantitative\", level = \"ratio\", dc = \"continuous\") %>%\n",
    "  add_row(name = \"fl\", type = \"qualitative\", level = \"nominal\", dc = \"discrete\") %>%\n",
    "  add_row(name = \"class\", type = \"qualitative\", level = \"nominal\", dc = \"discrete\")\n"
   ]
  },
  {
   "cell_type": "code",
   "execution_count": 75,
   "metadata": {
    "vscode": {
     "languageId": "r"
    }
   },
   "outputs": [
    {
     "data": {
      "text/html": [
       "<table class=\"dataframe\">\n",
       "<caption>A tibble: 6 x 4</caption>\n",
       "<thead>\n",
       "\t<tr><th scope=col>name</th><th scope=col>type</th><th scope=col>level</th><th scope=col>dc</th></tr>\n",
       "\t<tr><th scope=col>&lt;chr&gt;</th><th scope=col>&lt;chr&gt;</th><th scope=col>&lt;chr&gt;</th><th scope=col>&lt;chr&gt;</th></tr>\n",
       "</thead>\n",
       "<tbody>\n",
       "\t<tr><td>manufacturer</td><td>qualitative </td><td>nominal </td><td>discrete  </td></tr>\n",
       "\t<tr><td>model       </td><td>qualitative </td><td>nominal </td><td>discrete  </td></tr>\n",
       "\t<tr><td>displ       </td><td>quantitative</td><td>ratio   </td><td>continuous</td></tr>\n",
       "\t<tr><td>year        </td><td>quantitative</td><td>interval</td><td>discrete  </td></tr>\n",
       "\t<tr><td>cyl         </td><td>quantitative</td><td>ratio   </td><td>discrete  </td></tr>\n",
       "\t<tr><td>trans       </td><td>qualitative </td><td>nominal </td><td>discrete  </td></tr>\n",
       "</tbody>\n",
       "</table>\n"
      ],
      "text/latex": [
       "A tibble: 6 x 4\n",
       "\\begin{tabular}{llll}\n",
       " name & type & level & dc\\\\\n",
       " <chr> & <chr> & <chr> & <chr>\\\\\n",
       "\\hline\n",
       "\t manufacturer & qualitative  & nominal  & discrete  \\\\\n",
       "\t model        & qualitative  & nominal  & discrete  \\\\\n",
       "\t displ        & quantitative & ratio    & continuous\\\\\n",
       "\t year         & quantitative & interval & discrete  \\\\\n",
       "\t cyl          & quantitative & ratio    & discrete  \\\\\n",
       "\t trans        & qualitative  & nominal  & discrete  \\\\\n",
       "\\end{tabular}\n"
      ],
      "text/markdown": [
       "\n",
       "A tibble: 6 x 4\n",
       "\n",
       "| name &lt;chr&gt; | type &lt;chr&gt; | level &lt;chr&gt; | dc &lt;chr&gt; |\n",
       "|---|---|---|---|\n",
       "| manufacturer | qualitative  | nominal  | discrete   |\n",
       "| model        | qualitative  | nominal  | discrete   |\n",
       "| displ        | quantitative | ratio    | continuous |\n",
       "| year         | quantitative | interval | discrete   |\n",
       "| cyl          | quantitative | ratio    | discrete   |\n",
       "| trans        | qualitative  | nominal  | discrete   |\n",
       "\n"
      ],
      "text/plain": [
       "  name         type         level    dc        \n",
       "1 manufacturer qualitative  nominal  discrete  \n",
       "2 model        qualitative  nominal  discrete  \n",
       "3 displ        quantitative ratio    continuous\n",
       "4 year         quantitative interval discrete  \n",
       "5 cyl          quantitative ratio    discrete  \n",
       "6 trans        qualitative  nominal  discrete  "
      ]
     },
     "metadata": {},
     "output_type": "display_data"
    },
    {
     "name": "stdout",
     "output_type": "stream",
     "text": [
      "tibble [11 x 4] (S3: tbl_df/tbl/data.frame)\n",
      " $ name : chr [1:11] \"manufacturer\" \"model\" \"displ\" \"year\" ...\n",
      " $ type : chr [1:11] \"qualitative\" \"qualitative\" \"quantitative\" \"quantitative\" ...\n",
      " $ level: chr [1:11] \"nominal\" \"nominal\" \"ratio\" \"interval\" ...\n",
      " $ dc   : chr [1:11] \"discrete\" \"discrete\" \"continuous\" \"discrete\" ...\n"
     ]
    },
    {
     "data": {
      "text/html": [
       "<table class=\"dataframe\">\n",
       "<caption>A tibble: 2 x 4</caption>\n",
       "<thead>\n",
       "\t<tr><th scope=col>name</th><th scope=col>type</th><th scope=col>level</th><th scope=col>dc</th></tr>\n",
       "\t<tr><th scope=col>&lt;chr&gt;</th><th scope=col>&lt;chr&gt;</th><th scope=col>&lt;chr&gt;</th><th scope=col>&lt;chr&gt;</th></tr>\n",
       "</thead>\n",
       "<tbody>\n",
       "\t<tr><td>year</td><td>quantitative</td><td>interval</td><td>discrete</td></tr>\n",
       "\t<tr><td>cyl </td><td>quantitative</td><td>ratio   </td><td>discrete</td></tr>\n",
       "</tbody>\n",
       "</table>\n"
      ],
      "text/latex": [
       "A tibble: 2 x 4\n",
       "\\begin{tabular}{llll}\n",
       " name & type & level & dc\\\\\n",
       " <chr> & <chr> & <chr> & <chr>\\\\\n",
       "\\hline\n",
       "\t year & quantitative & interval & discrete\\\\\n",
       "\t cyl  & quantitative & ratio    & discrete\\\\\n",
       "\\end{tabular}\n"
      ],
      "text/markdown": [
       "\n",
       "A tibble: 2 x 4\n",
       "\n",
       "| name &lt;chr&gt; | type &lt;chr&gt; | level &lt;chr&gt; | dc &lt;chr&gt; |\n",
       "|---|---|---|---|\n",
       "| year | quantitative | interval | discrete |\n",
       "| cyl  | quantitative | ratio    | discrete |\n",
       "\n"
      ],
      "text/plain": [
       "  name type         level    dc      \n",
       "1 year quantitative interval discrete\n",
       "2 cyl  quantitative ratio    discrete"
      ]
     },
     "metadata": {},
     "output_type": "display_data"
    },
    {
     "data": {
      "text/html": [
       "<table class=\"dataframe\">\n",
       "<caption>A tibble: 2 x 4</caption>\n",
       "<thead>\n",
       "\t<tr><th scope=col>name</th><th scope=col>type</th><th scope=col>level</th><th scope=col>dc</th></tr>\n",
       "\t<tr><th scope=col>&lt;chr&gt;</th><th scope=col>&lt;chr&gt;</th><th scope=col>&lt;chr&gt;</th><th scope=col>&lt;chr&gt;</th></tr>\n",
       "</thead>\n",
       "<tbody>\n",
       "\t<tr><td>year</td><td>quantitative</td><td>interval</td><td>discrete</td></tr>\n",
       "\t<tr><td>cyl </td><td>quantitative</td><td>ratio   </td><td>discrete</td></tr>\n",
       "</tbody>\n",
       "</table>\n"
      ],
      "text/latex": [
       "A tibble: 2 x 4\n",
       "\\begin{tabular}{llll}\n",
       " name & type & level & dc\\\\\n",
       " <chr> & <chr> & <chr> & <chr>\\\\\n",
       "\\hline\n",
       "\t year & quantitative & interval & discrete\\\\\n",
       "\t cyl  & quantitative & ratio    & discrete\\\\\n",
       "\\end{tabular}\n"
      ],
      "text/markdown": [
       "\n",
       "A tibble: 2 x 4\n",
       "\n",
       "| name &lt;chr&gt; | type &lt;chr&gt; | level &lt;chr&gt; | dc &lt;chr&gt; |\n",
       "|---|---|---|---|\n",
       "| year | quantitative | interval | discrete |\n",
       "| cyl  | quantitative | ratio    | discrete |\n",
       "\n"
      ],
      "text/plain": [
       "  name type         level    dc      \n",
       "1 year quantitative interval discrete\n",
       "2 cyl  quantitative ratio    discrete"
      ]
     },
     "metadata": {},
     "output_type": "display_data"
    }
   ],
   "source": [
    "head(strmpg)\n",
    "\n",
    "# Display the structure\n",
    "str(strmpg)\n",
    "\n",
    "# Use the tibble to display all variables which are quantitative and discrete\n",
    "# applying the R function subset().\n",
    "subset(strmpg, subset = (type == \"quantitative\" & dc == \"discrete\"))\n",
    "\n",
    "# alternative solution\n",
    "strmpg %>% filter(type == \"quantitative\", dc == \"discrete\")\n"
   ]
  },
  {
   "cell_type": "code",
   "execution_count": 77,
   "metadata": {
    "vscode": {
     "languageId": "r"
    }
   },
   "outputs": [],
   "source": [
    "# Task 8\n",
    "# a) Create a list containing the string \"John\", the string \"Mary\", and the vector (4, 6, 10).\n",
    "# The list describes a family with names of father, mother, and the ages of the children. # nolint: line_length_linter.\n",
    "family <- list(father = \"John\", mother = \"Mary\", child.ages = c(4, 6, 10))\n",
    "\n",
    "# b) Create a second list containing the names Bob, Cate, and Susan of the children.\n",
    "children.names <- list(\"Bob\", \"Cate\", \"Susan\")\n",
    "\n",
    "# c) Concatenate the lists. Use the c() and the list() function. What are the differences?\n",
    "family.1 <- c(family, children.names) # 3 strings are added to the list family\n",
    "family.2 <- list(family, children.names) # Another list has been added\n",
    "\n",
    "# d) Access the concatenated list to create directly a list containing for every child name and age.\n",
    "children.1 <- list(\n",
    "  child1 = c(family.1[[4]], family.1[[3]][1]),\n",
    "  child2 = c(family.1[[5]], family.1[[3]][2]),\n",
    "  child3 = c(family.1[[6]], family.1[[3]][3])\n",
    ")\n",
    "\n",
    "children.2 <- list(\n",
    "  child1 = c(family.2[[2]][1], family.2[[1]][[3]][1]),\n",
    "  child2 = c(family.2[[2]][2], family.2[[1]][[3]][2]),\n",
    "  child3 = c(family.2[[2]][3], family.2[[1]][[3]][3])\n",
    ")"
   ]
  }
 ],
 "metadata": {
  "kernelspec": {
   "display_name": "R",
   "language": "R",
   "name": "ir"
  },
  "language_info": {
   "codemirror_mode": "r",
   "file_extension": ".r",
   "mimetype": "text/x-r-source",
   "name": "R",
   "pygments_lexer": "r",
   "version": "4.3.3"
  },
  "orig_nbformat": 4
 },
 "nbformat": 4,
 "nbformat_minor": 2
}
