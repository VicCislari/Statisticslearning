{
 "cells": [
  {
   "cell_type": "code",
   "execution_count": 6,
   "metadata": {
    "vscode": {
     "languageId": "r"
    }
   },
   "outputs": [
    {
     "name": "stdout",
     "output_type": "stream",
     "text": [
      "\n",
      "Die heruntergeladenen Bin\"arpakete sind in \n",
      "\t/var/folders/t0/f054bgvj7d514yq2qlg1czv80000gp/T//RtmpA4YILc/downloaded_packages\n",
      "\n",
      "Die heruntergeladenen Bin\"arpakete sind in \n",
      "\t/var/folders/t0/f054bgvj7d514yq2qlg1czv80000gp/T//RtmpA4YILc/downloaded_packages\n",
      "\n",
      "Die heruntergeladenen Bin\"arpakete sind in \n",
      "\t/var/folders/t0/f054bgvj7d514yq2qlg1czv80000gp/T//RtmpA4YILc/downloaded_packages\n"
     ]
    }
   ],
   "source": [
    "install.packages(\"tidyverse\")\n",
    "# Install and load the IRdisplay package\n",
    "install.packages(\"IRdisplay\")\n",
    "# Install the \"titanic\" package (if not already installed)\n",
    "install.packages(\"titanic\")\n",
    "\n",
    "# Load the \"titanic\" package\n",
    "library(titanic)\n",
    "\n",
    "library(tibble)\n",
    "library(dplyr)\n",
    "library(ggplot2)\n",
    "\n",
    "library(IRdisplay)\n",
    "library(tidyverse)"
   ]
  },
  {
   "cell_type": "code",
   "execution_count": 2,
   "metadata": {
    "vscode": {
     "languageId": "r"
    }
   },
   "outputs": [
    {
     "data": {
      "text/html": [
       "<table class=\"dataframe\">\n",
       "<caption>A matrix: 3 x 2 of type dbl</caption>\n",
       "<tbody>\n",
       "\t<tr><td>40</td><td>10</td></tr>\n",
       "\t<tr><td>20</td><td>10</td></tr>\n",
       "\t<tr><td>10</td><td>10</td></tr>\n",
       "</tbody>\n",
       "</table>\n"
      ],
      "text/latex": [
       "A matrix: 3 x 2 of type dbl\n",
       "\\begin{tabular}{ll}\n",
       "\t 40 & 10\\\\\n",
       "\t 20 & 10\\\\\n",
       "\t 10 & 10\\\\\n",
       "\\end{tabular}\n"
      ],
      "text/markdown": [
       "\n",
       "A matrix: 3 x 2 of type dbl\n",
       "\n",
       "| 40 | 10 |\n",
       "| 20 | 10 |\n",
       "| 10 | 10 |\n",
       "\n"
      ],
      "text/plain": [
       "     [,1] [,2]\n",
       "[1,] 40   10  \n",
       "[2,] 20   10  \n",
       "[3,] 10   10  "
      ]
     },
     "metadata": {},
     "output_type": "display_data"
    },
    {
     "data": {
      "text/html": [
       "<table class=\"dataframe\">\n",
       "<caption>A matrix: 3 x 2 of type dbl</caption>\n",
       "<tbody>\n",
       "\t<tr><td>35</td><td>15</td></tr>\n",
       "\t<tr><td>21</td><td> 9</td></tr>\n",
       "\t<tr><td>14</td><td> 6</td></tr>\n",
       "</tbody>\n",
       "</table>\n"
      ],
      "text/latex": [
       "A matrix: 3 x 2 of type dbl\n",
       "\\begin{tabular}{ll}\n",
       "\t 35 & 15\\\\\n",
       "\t 21 &  9\\\\\n",
       "\t 14 &  6\\\\\n",
       "\\end{tabular}\n"
      ],
      "text/markdown": [
       "\n",
       "A matrix: 3 x 2 of type dbl\n",
       "\n",
       "| 35 | 15 |\n",
       "| 21 |  9 |\n",
       "| 14 |  6 |\n",
       "\n"
      ],
      "text/plain": [
       "     [,1] [,2]\n",
       "[1,] 35   15  \n",
       "[2,] 21    9  \n",
       "[3,] 14    6  "
      ]
     },
     "metadata": {},
     "output_type": "display_data"
    },
    {
     "data": {
      "text/html": [
       "<strong>X-squared:</strong> 6.34920634920635"
      ],
      "text/latex": [
       "\\textbf{X-squared:} 6.34920634920635"
      ],
      "text/markdown": [
       "**X-squared:** 6.34920634920635"
      ],
      "text/plain": [
       "X-squared \n",
       " 6.349206 "
      ]
     },
     "metadata": {},
     "output_type": "display_data"
    },
    {
     "data": {
      "text/html": [
       "6.34920634920635"
      ],
      "text/latex": [
       "6.34920634920635"
      ],
      "text/markdown": [
       "6.34920634920635"
      ],
      "text/plain": [
       "[1] 6.349206"
      ]
     },
     "metadata": {},
     "output_type": "display_data"
    },
    {
     "data": {
      "text/html": [
       "0.24433888871261"
      ],
      "text/latex": [
       "0.24433888871261"
      ],
      "text/markdown": [
       "0.24433888871261"
      ],
      "text/plain": [
       "[1] 0.2443389"
      ]
     },
     "metadata": {},
     "output_type": "display_data"
    },
    {
     "data": {
      "text/html": [
       "0.345547370232544"
      ],
      "text/latex": [
       "0.345547370232544"
      ],
      "text/markdown": [
       "0.345547370232544"
      ],
      "text/plain": [
       "[1] 0.3455474"
      ]
     },
     "metadata": {},
     "output_type": "display_data"
    }
   ],
   "source": [
    "#####################################################\n",
    "# Descriptive Statistics:\n",
    "# association attendance and course results\n",
    "# Solution\n",
    "#\n",
    "# File: des_stat_attendance_result_sol.R\n",
    "#\n",
    "######################################################\n",
    "library(tidyverse)\n",
    "\n",
    "# 3x2-contingency table: attendance, result\n",
    "tab <- matrix(c(40,10,20,10,10,10),nrow=3,ncol=2,byrow=TRUE)\n",
    "tab\n",
    "\n",
    "# indifference table\n",
    "# indifference table\n",
    "ind_tab <- \n",
    "  matrix(rowSums(tab),nrow=3,ncol=1)   %*% \n",
    "  matrix(colSums(tab),nrow=1,ncol=2) / sum(tab)\n",
    "# or\n",
    "chisq.test(tab)$expected\n",
    "\n",
    "# computation of Chi^2, C and C_corr\n",
    "chisq.test(tab)$statistic\n",
    "# or\n",
    "chi_2 <- sum((tab-ind_tab)^2/ind_tab)\n",
    "chi_2 # 6.349206\n",
    "C <- (chi_2/(chi_2+sum(tab)))^0.5\n",
    "C # 0.2443389\n",
    "C_korr <- ((min(2,3)/(min(2,3)-1)) *chi_2/(chi_2+sum(tab)))^0.5\n",
    "C_korr # 0.3455474\n"
   ]
  },
  {
   "cell_type": "code",
   "execution_count": 3,
   "metadata": {
    "vscode": {
     "languageId": "r"
    }
   },
   "outputs": [
    {
     "data": {
      "text/html": [
       "<table class=\"dataframe\">\n",
       "<caption>A tibble: 5 x 5</caption>\n",
       "<thead>\n",
       "\t<tr><th scope=col>cafe</th><th scope=col>x</th><th scope=col>y</th><th scope=col>R_x</th><th scope=col>R_y</th></tr>\n",
       "\t<tr><th scope=col>&lt;dbl&gt;</th><th scope=col>&lt;dbl&gt;</th><th scope=col>&lt;dbl&gt;</th><th scope=col>&lt;dbl&gt;</th><th scope=col>&lt;dbl&gt;</th></tr>\n",
       "</thead>\n",
       "<tbody>\n",
       "\t<tr><td>1</td><td>3</td><td> 6</td><td>1</td><td>2</td></tr>\n",
       "\t<tr><td>2</td><td>8</td><td> 7</td><td>4</td><td>3</td></tr>\n",
       "\t<tr><td>3</td><td>7</td><td>10</td><td>3</td><td>5</td></tr>\n",
       "\t<tr><td>4</td><td>9</td><td> 8</td><td>5</td><td>4</td></tr>\n",
       "\t<tr><td>5</td><td>5</td><td> 4</td><td>2</td><td>1</td></tr>\n",
       "</tbody>\n",
       "</table>\n"
      ],
      "text/latex": [
       "A tibble: 5 x 5\n",
       "\\begin{tabular}{lllll}\n",
       " cafe & x & y & R\\_x & R\\_y\\\\\n",
       " <dbl> & <dbl> & <dbl> & <dbl> & <dbl>\\\\\n",
       "\\hline\n",
       "\t 1 & 3 &  6 & 1 & 2\\\\\n",
       "\t 2 & 8 &  7 & 4 & 3\\\\\n",
       "\t 3 & 7 & 10 & 3 & 5\\\\\n",
       "\t 4 & 9 &  8 & 5 & 4\\\\\n",
       "\t 5 & 5 &  4 & 2 & 1\\\\\n",
       "\\end{tabular}\n"
      ],
      "text/markdown": [
       "\n",
       "A tibble: 5 x 5\n",
       "\n",
       "| cafe &lt;dbl&gt; | x &lt;dbl&gt; | y &lt;dbl&gt; | R_x &lt;dbl&gt; | R_y &lt;dbl&gt; |\n",
       "|---|---|---|---|---|\n",
       "| 1 | 3 |  6 | 1 | 2 |\n",
       "| 2 | 8 |  7 | 4 | 3 |\n",
       "| 3 | 7 | 10 | 3 | 5 |\n",
       "| 4 | 9 |  8 | 5 | 4 |\n",
       "| 5 | 5 |  4 | 2 | 1 |\n",
       "\n"
      ],
      "text/plain": [
       "  cafe x y  R_x R_y\n",
       "1 1    3  6 1   2  \n",
       "2 2    8  7 4   3  \n",
       "3 3    7 10 3   5  \n",
       "4 4    9  8 5   4  \n",
       "5 5    5  4 2   1  "
      ]
     },
     "metadata": {},
     "output_type": "display_data"
    },
    {
     "data": {
      "text/html": [
       "0.6"
      ],
      "text/latex": [
       "0.6"
      ],
      "text/markdown": [
       "0.6"
      ],
      "text/plain": [
       "[1] 0.6"
      ]
     },
     "metadata": {},
     "output_type": "display_data"
    },
    {
     "data": {
      "text/html": [
       "0.6"
      ],
      "text/latex": [
       "0.6"
      ],
      "text/markdown": [
       "0.6"
      ],
      "text/plain": [
       "[1] 0.6"
      ]
     },
     "metadata": {},
     "output_type": "display_data"
    },
    {
     "data": {
      "text/html": [
       "<table class=\"dataframe\">\n",
       "<caption>A tibble: 5 x 7</caption>\n",
       "<thead>\n",
       "\t<tr><th scope=col>cafe</th><th scope=col>x</th><th scope=col>y</th><th scope=col>R_x</th><th scope=col>R_y</th><th scope=col>Rdesc_x</th><th scope=col>Rdesc_y</th></tr>\n",
       "\t<tr><th scope=col>&lt;dbl&gt;</th><th scope=col>&lt;dbl&gt;</th><th scope=col>&lt;dbl&gt;</th><th scope=col>&lt;dbl&gt;</th><th scope=col>&lt;dbl&gt;</th><th scope=col>&lt;dbl&gt;</th><th scope=col>&lt;dbl&gt;</th></tr>\n",
       "</thead>\n",
       "<tbody>\n",
       "\t<tr><td>1</td><td>3</td><td> 6</td><td>1</td><td>2</td><td>5</td><td>4</td></tr>\n",
       "\t<tr><td>2</td><td>8</td><td> 7</td><td>4</td><td>3</td><td>2</td><td>3</td></tr>\n",
       "\t<tr><td>3</td><td>7</td><td>10</td><td>3</td><td>5</td><td>3</td><td>1</td></tr>\n",
       "\t<tr><td>4</td><td>9</td><td> 8</td><td>5</td><td>4</td><td>1</td><td>2</td></tr>\n",
       "\t<tr><td>5</td><td>5</td><td> 4</td><td>2</td><td>1</td><td>4</td><td>5</td></tr>\n",
       "</tbody>\n",
       "</table>\n"
      ],
      "text/latex": [
       "A tibble: 5 x 7\n",
       "\\begin{tabular}{lllllll}\n",
       " cafe & x & y & R\\_x & R\\_y & Rdesc\\_x & Rdesc\\_y\\\\\n",
       " <dbl> & <dbl> & <dbl> & <dbl> & <dbl> & <dbl> & <dbl>\\\\\n",
       "\\hline\n",
       "\t 1 & 3 &  6 & 1 & 2 & 5 & 4\\\\\n",
       "\t 2 & 8 &  7 & 4 & 3 & 2 & 3\\\\\n",
       "\t 3 & 7 & 10 & 3 & 5 & 3 & 1\\\\\n",
       "\t 4 & 9 &  8 & 5 & 4 & 1 & 2\\\\\n",
       "\t 5 & 5 &  4 & 2 & 1 & 4 & 5\\\\\n",
       "\\end{tabular}\n"
      ],
      "text/markdown": [
       "\n",
       "A tibble: 5 x 7\n",
       "\n",
       "| cafe &lt;dbl&gt; | x &lt;dbl&gt; | y &lt;dbl&gt; | R_x &lt;dbl&gt; | R_y &lt;dbl&gt; | Rdesc_x &lt;dbl&gt; | Rdesc_y &lt;dbl&gt; |\n",
       "|---|---|---|---|---|---|---|\n",
       "| 1 | 3 |  6 | 1 | 2 | 5 | 4 |\n",
       "| 2 | 8 |  7 | 4 | 3 | 2 | 3 |\n",
       "| 3 | 7 | 10 | 3 | 5 | 3 | 1 |\n",
       "| 4 | 9 |  8 | 5 | 4 | 1 | 2 |\n",
       "| 5 | 5 |  4 | 2 | 1 | 4 | 5 |\n",
       "\n"
      ],
      "text/plain": [
       "  cafe x y  R_x R_y Rdesc_x Rdesc_y\n",
       "1 1    3  6 1   2   5       4      \n",
       "2 2    8  7 4   3   2       3      \n",
       "3 3    7 10 3   5   3       1      \n",
       "4 4    9  8 5   4   1       2      \n",
       "5 5    5  4 2   1   4       5      "
      ]
     },
     "metadata": {},
     "output_type": "display_data"
    },
    {
     "data": {
      "text/html": [
       "0.6"
      ],
      "text/latex": [
       "0.6"
      ],
      "text/markdown": [
       "0.6"
      ],
      "text/plain": [
       "[1] 0.6"
      ]
     },
     "metadata": {},
     "output_type": "display_data"
    },
    {
     "data": {
      "text/html": [
       "<table class=\"dataframe\">\n",
       "<caption>A tibble: 2 x 3</caption>\n",
       "<thead>\n",
       "\t<tr><th scope=col>quality</th><th scope=col>x</th><th scope=col>y</th></tr>\n",
       "\t<tr><th scope=col>&lt;chr&gt;</th><th scope=col>&lt;dbl&gt;</th><th scope=col>&lt;dbl&gt;</th></tr>\n",
       "</thead>\n",
       "<tbody>\n",
       "\t<tr><td>bad </td><td>2</td><td>1</td></tr>\n",
       "\t<tr><td>good</td><td>3</td><td>4</td></tr>\n",
       "</tbody>\n",
       "</table>\n"
      ],
      "text/latex": [
       "A tibble: 2 x 3\n",
       "\\begin{tabular}{lll}\n",
       " quality & x & y\\\\\n",
       " <chr> & <dbl> & <dbl>\\\\\n",
       "\\hline\n",
       "\t bad  & 2 & 1\\\\\n",
       "\t good & 3 & 4\\\\\n",
       "\\end{tabular}\n"
      ],
      "text/markdown": [
       "\n",
       "A tibble: 2 x 3\n",
       "\n",
       "| quality &lt;chr&gt; | x &lt;dbl&gt; | y &lt;dbl&gt; |\n",
       "|---|---|---|\n",
       "| bad  | 2 | 1 |\n",
       "| good | 3 | 4 |\n",
       "\n"
      ],
      "text/plain": [
       "  quality x y\n",
       "1 bad     2 1\n",
       "2 good    3 4"
      ]
     },
     "metadata": {},
     "output_type": "display_data"
    },
    {
     "data": {
      "text/html": [
       "<table class=\"dataframe\">\n",
       "<caption>A table: 3 x 3 of type dbl</caption>\n",
       "<thead>\n",
       "\t<tr><th></th><th scope=col>bad</th><th scope=col>good</th><th scope=col>Sum</th></tr>\n",
       "</thead>\n",
       "<tbody>\n",
       "\t<tr><th scope=row>x</th><td>2</td><td>3</td><td> 5</td></tr>\n",
       "\t<tr><th scope=row>y</th><td>1</td><td>4</td><td> 5</td></tr>\n",
       "\t<tr><th scope=row>Sum</th><td>3</td><td>7</td><td>10</td></tr>\n",
       "</tbody>\n",
       "</table>\n"
      ],
      "text/latex": [
       "A table: 3 x 3 of type dbl\n",
       "\\begin{tabular}{r|lll}\n",
       "  & bad & good & Sum\\\\\n",
       "\\hline\n",
       "\tx & 2 & 3 &  5\\\\\n",
       "\ty & 1 & 4 &  5\\\\\n",
       "\tSum & 3 & 7 & 10\\\\\n",
       "\\end{tabular}\n"
      ],
      "text/markdown": [
       "\n",
       "A table: 3 x 3 of type dbl\n",
       "\n",
       "| <!--/--> | bad | good | Sum |\n",
       "|---|---|---|---|\n",
       "| x | 2 | 3 |  5 |\n",
       "| y | 1 | 4 |  5 |\n",
       "| Sum | 3 | 7 | 10 |\n",
       "\n"
      ],
      "text/plain": [
       "          rating\n",
       "journalist bad good Sum\n",
       "       x   2   3     5 \n",
       "       y   1   4     5 \n",
       "       Sum 3   7    10 "
      ]
     },
     "metadata": {},
     "output_type": "display_data"
    },
    {
     "data": {
      "text/html": [
       "2.66666666666667"
      ],
      "text/latex": [
       "2.66666666666667"
      ],
      "text/markdown": [
       "2.66666666666667"
      ],
      "text/plain": [
       "[1] 2.666667"
      ]
     },
     "metadata": {},
     "output_type": "display_data"
    }
   ],
   "source": [
    "#####################################################\n",
    "# Descriptive Statistics: Exercise 4.1, \n",
    "# Heumann, Schomaker, page 90\n",
    "# Solution\n",
    "#\n",
    "# File: des_stat_coffee_sol.R\n",
    "#\n",
    "###################################################### \n",
    "\n",
    "# load packages\n",
    "library(tidyverse)\n",
    "\n",
    "# data\n",
    "rate <-\n",
    "  tibble(\n",
    "    cafe = c(1,2,3,4,5),\n",
    "    x = c(3,8,7,9,5),\n",
    "    y = c(6,7,10,8,4)\n",
    "  )\n",
    "# add the ranks\n",
    "rate <- \n",
    "  rate %>% \n",
    "  mutate(R_x = rank(x)) %>%\n",
    "  mutate(R_y = rank(y))\n",
    "# display data\n",
    "rate\n",
    "\n",
    "# Spearman's rank correlation coefficient\n",
    "R <- cor(x = rate$R_x, y = rate$R_y)\n",
    "R\n",
    "# or directly using the cor() function\n",
    "cor(x = rate$x, y = rate$y, method = \"spearman\")\n",
    "\n",
    "# change the order of rating\n",
    "rate <-\n",
    "  rate %>%\n",
    "  mutate(Rdesc_x = rank(-x)) %>%\n",
    "  mutate(Rdesc_y = rank(-y))\n",
    "# display \n",
    "rate\n",
    "\n",
    "# Spearman's rank correlation coefficient\n",
    "Rdesc <- cor(x = rate$Rdesc_x, y = rate$Rdesc_y)\n",
    "Rdesc\n",
    "\n",
    "# only the ratings good and bad\n",
    "rate2 <- \n",
    "  tibble(\n",
    "  quality = c(\"bad\",\"good\"),\n",
    "  x = c(2,3),\n",
    "  y = c(1,4)\n",
    "  )\n",
    "# display\n",
    "rate2\n",
    "\n",
    "# using R commands to determine rate2\n",
    "tibble(\n",
    "  cafe = c(1,2,3,4,5),\n",
    "  x = c(3,8,7,9,5),\n",
    "  y = c(6,7,10,8,4)\n",
    ") %>% \n",
    "  gather(x,y, key = \"journalist\", value = \"rating\") %>%\n",
    "  mutate(\n",
    "    rating = if_else(rating > 5, \"good\", \"bad\")\n",
    "  ) %>%\n",
    "  select(-cafe) %>% \n",
    "  table() %>% \n",
    "  addmargins() -> rate2\n",
    "rate2\n",
    "  \n",
    "# Conditional distributions\n",
    "# 2:5 = proportion of bad ratings by journalist X\n",
    "# 2:3 = proportion of journalist X ratings in the set of bad ratings\n",
    "# relative risk: ratio of conditional distributions\n",
    "# (2:5) : (1:5) = 2 = proportion of bad ratings is 2 times higher among ratings\n",
    "#                     by journalist X when compared with ratings by journalist Y\n",
    "# (2:3) : (3:7) = 1.55 = proportion of ratings by journalist X is 1.55 times \n",
    "#                        higher among bad ratings when compared with good ratings\n",
    "# odds ratio\n",
    "OR <- ((2/5)/(3/5))/((1/5)/(4/5))\n",
    "OR\n",
    "# (2:1) : (3:4) = 2.66 = chance of bad ratings is 2.66 times higher for ratings\n",
    "#                        by journalist X when compared with good ratings\n",
    "# (2:3) : (1:4) = 2.66 = chance of ratings by journalist X is 2.66 times higher \n",
    "#                        for bad ratings when compared with bad ratings by journalist Y\n",
    "\n"
   ]
  },
  {
   "cell_type": "code",
   "execution_count": 7,
   "metadata": {
    "vscode": {
     "languageId": "r"
    }
   },
   "outputs": [
    {
     "data": {
      "text/html": [
       "2.5"
      ],
      "text/latex": [
       "2.5"
      ],
      "text/markdown": [
       "2.5"
      ],
      "text/plain": [
       "[1] 2.5"
      ]
     },
     "metadata": {},
     "output_type": "display_data"
    },
    {
     "data": {
      "text/html": [
       "0.870388279778489"
      ],
      "text/latex": [
       "0.870388279778489"
      ],
      "text/markdown": [
       "0.870388279778489"
      ],
      "text/plain": [
       "[1] 0.8703883"
      ]
     },
     "metadata": {},
     "output_type": "display_data"
    },
    {
     "data": {
      "text/plain": [
       "\n",
       "Call:\n",
       "lm(formula = y ~ x)\n",
       "\n",
       "Coefficients:\n",
       "(Intercept)            x  \n",
       "        1.4          1.0  \n"
      ]
     },
     "metadata": {},
     "output_type": "display_data"
    },
    {
     "data": {
      "text/plain": [
       "\n",
       "Call:\n",
       "lm(formula = x ~ y)\n",
       "\n",
       "Coefficients:\n",
       "(Intercept)            y  \n",
       "   -0.09091      0.75758  \n"
      ]
     },
     "metadata": {},
     "output_type": "display_data"
    },
    {
     "data": {
      "image/png": "[encoded data removed]",
      "text/plain": [
       "Plot with title \"scatterplot\""
      ]
     },
     "metadata": {
      "image/png": {
       "height": 420,
       "width": 420
      }
     },
     "output_type": "display_data"
    },
    {
     "data": {
      "image/png": "[encoded data removed]",
      "text/plain": [
       "Plot with title \"scatterplot\""
      ]
     },
     "metadata": {
      "image/png": {
       "height": 420,
       "width": 420
      }
     },
     "output_type": "display_data"
    },
    {
     "data": {
      "image/png": "[encoded data removed]",
      "text/plain": [
       "plot without title"
      ]
     },
     "metadata": {
      "image/png": {
       "height": 420,
       "width": 420
      }
     },
     "output_type": "display_data"
    }
   ],
   "source": [
    "#####################################################\n",
    "# Descriptive Statistics: Simple example linear regr.\n",
    "# Complete Solution\n",
    "#\n",
    "# File: des_stat_ex_lin_reg_sol.R\n",
    "#\n",
    "#####################################################\n",
    "\n",
    "# data\n",
    "x <- c(2,6,3,4,5)\n",
    "y <- c(3,7,4,7,6)\n",
    "\n",
    "# scatterplot\n",
    "par(mfrow=c(1,1))\n",
    "plot(x,y,main=\"scatterplot\", xlim=c(0,7), ylim = c(0,8))\n",
    "\n",
    "# covariance\n",
    "cov(x,y) # 2.5\n",
    "\n",
    "# coefficient of correlation\n",
    "cor(x,y) #  0.8703883\n",
    "\n",
    "# regression line: y=a+bx\n",
    "# criterion variable Y and predictor variable X\n",
    "lm(y~x)\n",
    "# a = 1.4, b = 1.0\n",
    "a <- lm(y~x)$coefficients[1]\n",
    "b <- lm(y~x)$coefficients[2]\n",
    "\n",
    "# regression line: x = alpha + beta * y\n",
    "# criterion variable X and predictor variable Y\n",
    "lm(x~y)\n",
    "# alpha = -0.0909, beta = 0.7576\n",
    "alpha <- lm(x~y)$coefficients[1]\n",
    "beta <- lm(x~y)$coefficients[2]\n",
    "\n",
    "# transform the regression x = alpha + beta * x to y= a' + b' x\n",
    "a_strich <- -alpha/beta\n",
    "b_strich <- 1/beta\n",
    "\n",
    "# gemeinsames Diagramm\n",
    "plot(x,y,main=\"scatterplot\",\n",
    "     sub=\"regression: y ~ x (blue), x ~y (red)\",\n",
    "     xlim=c(1,7), ylim = c(0,8))\n",
    "abline(lm(y~x), col=\"blue\")\n",
    "abline(a=a_strich, b=b_strich,col=\"red\")\n",
    "\n",
    "# eps-file\n",
    "#dev.copy2eps(file=\"../pictures/ex_bi.eps\")\n",
    "\n",
    "# Diagramm mit ggplot()\n",
    "library(tidyverse)\n",
    "ggplot(data = tibble(x=x, y=y)) +\n",
    "  geom_point(mapping = aes(x=x,y=y)) +\n",
    "  geom_abline(slope = b, intercept = a, color = \"blue\") +\n",
    "  geom_abline(slope = b_strich, intercept = a_strich, color = \"red\") +\n",
    "  ggtitle(\"scatterplot\", subtitle = \"regression: y ~ x (blue), x ~y (red)\") +\n",
    "  theme_classic()"
   ]
  },
  {
   "cell_type": "code",
   "execution_count": 8,
   "metadata": {
    "vscode": {
     "languageId": "r"
    }
   },
   "outputs": [
    {
     "data": {
      "text/html": [
       "2201"
      ],
      "text/latex": [
       "2201"
      ],
      "text/markdown": [
       "2201"
      ],
      "text/plain": [
       "[1] 2201"
      ]
     },
     "metadata": {},
     "output_type": "display_data"
    },
    {
     "data": {
      "text/plain": [
       "        state\n",
       "class    not rescued rescued\n",
       "  first          122     203\n",
       "  second         167     118\n",
       "  staff          673     212\n",
       "  third          528     178"
      ]
     },
     "metadata": {},
     "output_type": "display_data"
    },
    {
     "name": "stderr",
     "output_type": "stream",
     "text": [
      "Warning message:\n",
      "\"\u001b[1m\u001b[22m`as.tibble()` was deprecated in tibble 2.0.0.\n",
      "\u001b[36mi\u001b[39m Please use `as_tibble()` instead.\n",
      "\u001b[36mi\u001b[39m The signature and semantics have changed, see `?as_tibble`.\"\n"
     ]
    },
    {
     "data": {
      "text/html": [
       "<table class=\"dataframe\">\n",
       "<caption>A tibble: 4 x 4</caption>\n",
       "<thead>\n",
       "\t<tr><th scope=col>Class</th><th scope=col>not.rescued</th><th scope=col>rescued</th><th scope=col>Sum</th></tr>\n",
       "\t<tr><th scope=col>&lt;chr&gt;</th><th scope=col>&lt;dbl&gt;</th><th scope=col>&lt;dbl&gt;</th><th scope=col>&lt;dbl&gt;</th></tr>\n",
       "</thead>\n",
       "<tbody>\n",
       "\t<tr><td>1st </td><td>122</td><td>203</td><td>325</td></tr>\n",
       "\t<tr><td>2nd </td><td>167</td><td>118</td><td>285</td></tr>\n",
       "\t<tr><td>3rd </td><td>528</td><td>178</td><td>706</td></tr>\n",
       "\t<tr><td>Crew</td><td>673</td><td>212</td><td>885</td></tr>\n",
       "</tbody>\n",
       "</table>\n"
      ],
      "text/latex": [
       "A tibble: 4 x 4\n",
       "\\begin{tabular}{llll}\n",
       " Class & not.rescued & rescued & Sum\\\\\n",
       " <chr> & <dbl> & <dbl> & <dbl>\\\\\n",
       "\\hline\n",
       "\t 1st  & 122 & 203 & 325\\\\\n",
       "\t 2nd  & 167 & 118 & 285\\\\\n",
       "\t 3rd  & 528 & 178 & 706\\\\\n",
       "\t Crew & 673 & 212 & 885\\\\\n",
       "\\end{tabular}\n"
      ],
      "text/markdown": [
       "\n",
       "A tibble: 4 x 4\n",
       "\n",
       "| Class &lt;chr&gt; | not.rescued &lt;dbl&gt; | rescued &lt;dbl&gt; | Sum &lt;dbl&gt; |\n",
       "|---|---|---|---|\n",
       "| 1st  | 122 | 203 | 325 |\n",
       "| 2nd  | 167 | 118 | 285 |\n",
       "| 3rd  | 528 | 178 | 706 |\n",
       "| Crew | 673 | 212 | 885 |\n",
       "\n"
      ],
      "text/plain": [
       "  Class not.rescued rescued Sum\n",
       "1 1st   122         203     325\n",
       "2 2nd   167         118     285\n",
       "3 3rd   528         178     706\n",
       "4 Crew  673         212     885"
      ]
     },
     "metadata": {},
     "output_type": "display_data"
    },
    {
     "data": {
      "text/html": [
       "<style>\n",
       ".list-inline {list-style: none; margin:0; padding: 0}\n",
       ".list-inline>li {display: inline-block}\n",
       ".list-inline>li:not(:last-child)::after {content: \"\\00b7\"; padding: 0 .5ex}\n",
       "</style>\n",
       "<ol class=list-inline><li>0.624615384615385</li><li>0.414035087719298</li><li>0.252124645892351</li><li>0.23954802259887</li></ol>\n"
      ],
      "text/latex": [
       "\\begin{enumerate*}\n",
       "\\item 0.624615384615385\n",
       "\\item 0.414035087719298\n",
       "\\item 0.252124645892351\n",
       "\\item 0.23954802259887\n",
       "\\end{enumerate*}\n"
      ],
      "text/markdown": [
       "1. 0.624615384615385\n",
       "2. 0.414035087719298\n",
       "3. 0.252124645892351\n",
       "4. 0.23954802259887\n",
       "\n",
       "\n"
      ],
      "text/plain": [
       "[1] 0.6246154 0.4140351 0.2521246 0.2395480"
      ]
     },
     "metadata": {},
     "output_type": "display_data"
    },
    {
     "data": {
      "text/html": [
       "<table class=\"dataframe\">\n",
       "<caption>A matrix: 5 x 3 of type dbl</caption>\n",
       "<thead>\n",
       "\t<tr><th></th><th scope=col>not.rescued</th><th scope=col>rescued</th><th scope=col>Sum</th></tr>\n",
       "</thead>\n",
       "<tbody>\n",
       "\t<tr><th scope=row></th><td> 220.0136</td><td>104.98637</td><td> 325</td></tr>\n",
       "\t<tr><th scope=row></th><td> 192.9350</td><td> 92.06497</td><td> 285</td></tr>\n",
       "\t<tr><th scope=row></th><td> 477.9373</td><td>228.06270</td><td> 706</td></tr>\n",
       "\t<tr><th scope=row></th><td> 599.1140</td><td>285.88596</td><td> 885</td></tr>\n",
       "\t<tr><th scope=row>Sum</th><td>1490.0000</td><td>711.00000</td><td>2201</td></tr>\n",
       "</tbody>\n",
       "</table>\n"
      ],
      "text/latex": [
       "A matrix: 5 x 3 of type dbl\n",
       "\\begin{tabular}{r|lll}\n",
       "  & not.rescued & rescued & Sum\\\\\n",
       "\\hline\n",
       "\t &  220.0136 & 104.98637 &  325\\\\\n",
       "\t &  192.9350 &  92.06497 &  285\\\\\n",
       "\t &  477.9373 & 228.06270 &  706\\\\\n",
       "\t &  599.1140 & 285.88596 &  885\\\\\n",
       "\tSum & 1490.0000 & 711.00000 & 2201\\\\\n",
       "\\end{tabular}\n"
      ],
      "text/markdown": [
       "\n",
       "A matrix: 5 x 3 of type dbl\n",
       "\n",
       "| <!--/--> | not.rescued | rescued | Sum |\n",
       "|---|---|---|---|\n",
       "| <!----> |  220.0136 | 104.98637 |  325 |\n",
       "| <!----> |  192.9350 |  92.06497 |  285 |\n",
       "| <!----> |  477.9373 | 228.06270 |  706 |\n",
       "| <!----> |  599.1140 | 285.88596 |  885 |\n",
       "| Sum | 1490.0000 | 711.00000 | 2201 |\n",
       "\n"
      ],
      "text/plain": [
       "    not.rescued rescued   Sum \n",
       "     220.0136   104.98637  325\n",
       "     192.9350    92.06497  285\n",
       "     477.9373   228.06270  706\n",
       "     599.1140   285.88596  885\n",
       "Sum 1490.0000   711.00000 2201"
      ]
     },
     "metadata": {},
     "output_type": "display_data"
    },
    {
     "data": {
      "text/html": [
       "<strong>X-squared:</strong> 190.401103616833"
      ],
      "text/latex": [
       "\\textbf{X-squared:} 190.401103616833"
      ],
      "text/markdown": [
       "**X-squared:** 190.401103616833"
      ],
      "text/plain": [
       "X-squared \n",
       " 190.4011 "
      ]
     },
     "metadata": {},
     "output_type": "display_data"
    },
    {
     "data": {
      "text/html": [
       "<strong>X-squared:</strong> 0.282168492547971"
      ],
      "text/latex": [
       "\\textbf{X-squared:} 0.282168492547971"
      ],
      "text/markdown": [
       "**X-squared:** 0.282168492547971"
      ],
      "text/plain": [
       "X-squared \n",
       "0.2821685 "
      ]
     },
     "metadata": {},
     "output_type": "display_data"
    },
    {
     "data": {
      "text/html": [
       "<strong>X-squared:</strong> 0.399046509035713"
      ],
      "text/latex": [
       "\\textbf{X-squared:} 0.399046509035713"
      ],
      "text/markdown": [
       "**X-squared:** 0.399046509035713"
      ],
      "text/plain": [
       "X-squared \n",
       "0.3990465 "
      ]
     },
     "metadata": {},
     "output_type": "display_data"
    },
    {
     "data": {
      "text/html": [
       "<table class=\"dataframe\">\n",
       "<caption>A tibble: 2 x 3</caption>\n",
       "<thead>\n",
       "\t<tr><th scope=col>grouped.class</th><th scope=col>not rescued</th><th scope=col>rescued</th></tr>\n",
       "\t<tr><th scope=col>&lt;chr&gt;</th><th scope=col>&lt;int&gt;</th><th scope=col>&lt;int&gt;</th></tr>\n",
       "</thead>\n",
       "<tbody>\n",
       "\t<tr><td>first+second</td><td> 289</td><td>321</td></tr>\n",
       "\t<tr><td>third+staff </td><td>1201</td><td>390</td></tr>\n",
       "</tbody>\n",
       "</table>\n"
      ],
      "text/latex": [
       "A tibble: 2 x 3\n",
       "\\begin{tabular}{lll}\n",
       " grouped.class & not rescued & rescued\\\\\n",
       " <chr> & <int> & <int>\\\\\n",
       "\\hline\n",
       "\t first+second &  289 & 321\\\\\n",
       "\t third+staff  & 1201 & 390\\\\\n",
       "\\end{tabular}\n"
      ],
      "text/markdown": [
       "\n",
       "A tibble: 2 x 3\n",
       "\n",
       "| grouped.class &lt;chr&gt; | not rescued &lt;int&gt; | rescued &lt;int&gt; |\n",
       "|---|---|---|\n",
       "| first+second |  289 | 321 |\n",
       "| third+staff  | 1201 | 390 |\n",
       "\n"
      ],
      "text/plain": [
       "  grouped.class not rescued rescued\n",
       "1 first+second   289        321    \n",
       "2 third+staff   1201        390    "
      ]
     },
     "metadata": {},
     "output_type": "display_data"
    },
    {
     "data": {
      "text/html": [
       "<table class=\"dataframe\">\n",
       "<caption>A tibble: 2 x 3</caption>\n",
       "<thead>\n",
       "\t<tr><th scope=col>Class</th><th scope=col>not.rescued</th><th scope=col>rescued</th></tr>\n",
       "\t<tr><th scope=col>&lt;chr&gt;</th><th scope=col>&lt;dbl&gt;</th><th scope=col>&lt;dbl&gt;</th></tr>\n",
       "</thead>\n",
       "<tbody>\n",
       "\t<tr><td>first+second</td><td> 289</td><td>321</td></tr>\n",
       "\t<tr><td>third+staff </td><td>1201</td><td>390</td></tr>\n",
       "</tbody>\n",
       "</table>\n"
      ],
      "text/latex": [
       "A tibble: 2 x 3\n",
       "\\begin{tabular}{lll}\n",
       " Class & not.rescued & rescued\\\\\n",
       " <chr> & <dbl> & <dbl>\\\\\n",
       "\\hline\n",
       "\t first+second &  289 & 321\\\\\n",
       "\t third+staff  & 1201 & 390\\\\\n",
       "\\end{tabular}\n"
      ],
      "text/markdown": [
       "\n",
       "A tibble: 2 x 3\n",
       "\n",
       "| Class &lt;chr&gt; | not.rescued &lt;dbl&gt; | rescued &lt;dbl&gt; |\n",
       "|---|---|---|\n",
       "| first+second |  289 | 321 |\n",
       "| third+staff  | 1201 | 390 |\n",
       "\n"
      ],
      "text/plain": [
       "  Class        not.rescued rescued\n",
       "1 first+second  289        321    \n",
       "2 third+staff  1201        390    "
      ]
     },
     "metadata": {},
     "output_type": "display_data"
    },
    {
     "data": {
      "text/html": [
       "<table class=\"dataframe\">\n",
       "<caption>A matrix: 3 x 3 of type dbl</caption>\n",
       "<thead>\n",
       "\t<tr><th></th><th scope=col>not.rescued</th><th scope=col>rescued</th><th scope=col>Sum</th></tr>\n",
       "</thead>\n",
       "<tbody>\n",
       "\t<tr><th scope=row></th><td> 412.9487</td><td>197.0513</td><td> 610</td></tr>\n",
       "\t<tr><th scope=row></th><td>1077.0513</td><td>513.9487</td><td>1591</td></tr>\n",
       "\t<tr><th scope=row>Sum</th><td>1490.0000</td><td>711.0000</td><td>2201</td></tr>\n",
       "</tbody>\n",
       "</table>\n"
      ],
      "text/latex": [
       "A matrix: 3 x 3 of type dbl\n",
       "\\begin{tabular}{r|lll}\n",
       "  & not.rescued & rescued & Sum\\\\\n",
       "\\hline\n",
       "\t &  412.9487 & 197.0513 &  610\\\\\n",
       "\t & 1077.0513 & 513.9487 & 1591\\\\\n",
       "\tSum & 1490.0000 & 711.0000 & 2201\\\\\n",
       "\\end{tabular}\n"
      ],
      "text/markdown": [
       "\n",
       "A matrix: 3 x 3 of type dbl\n",
       "\n",
       "| <!--/--> | not.rescued | rescued | Sum |\n",
       "|---|---|---|---|\n",
       "| <!----> |  412.9487 | 197.0513 |  610 |\n",
       "| <!----> | 1077.0513 | 513.9487 | 1591 |\n",
       "| Sum | 1490.0000 | 711.0000 | 2201 |\n",
       "\n"
      ],
      "text/plain": [
       "    not.rescued rescued  Sum \n",
       "     412.9487   197.0513  610\n",
       "    1077.0513   513.9487 1591\n",
       "Sum 1490.0000   711.0000 2201"
      ]
     },
     "metadata": {},
     "output_type": "display_data"
    },
    {
     "data": {
      "text/html": [
       "<strong>X-squared:</strong> 158.043632148742"
      ],
      "text/latex": [
       "\\textbf{X-squared:} 158.043632148742"
      ],
      "text/markdown": [
       "**X-squared:** 158.043632148742"
      ],
      "text/plain": [
       "X-squared \n",
       " 158.0436 "
      ]
     },
     "metadata": {},
     "output_type": "display_data"
    },
    {
     "data": {
      "text/html": [
       "<strong>X-squared:</strong> 0.258833517440823"
      ],
      "text/latex": [
       "\\textbf{X-squared:} 0.258833517440823"
      ],
      "text/markdown": [
       "**X-squared:** 0.258833517440823"
      ],
      "text/plain": [
       "X-squared \n",
       "0.2588335 "
      ]
     },
     "metadata": {},
     "output_type": "display_data"
    },
    {
     "data": {
      "text/html": [
       "<strong>X-squared:</strong> 0.366045870761545"
      ],
      "text/latex": [
       "\\textbf{X-squared:} 0.366045870761545"
      ],
      "text/markdown": [
       "**X-squared:** 0.366045870761545"
      ],
      "text/plain": [
       "X-squared \n",
       "0.3660459 "
      ]
     },
     "metadata": {},
     "output_type": "display_data"
    },
    {
     "data": {
      "text/plain": [
       "\n",
       "\tPearson's Chi-squared test with Yates' continuity correction\n",
       "\n",
       "data:  cont_tab_new %>% select(-Class) %>% as.matrix()\n",
       "X-squared = 158.04, df = 1, p-value < 2.2e-16\n"
      ]
     },
     "metadata": {},
     "output_type": "display_data"
    },
    {
     "data": {
      "text/html": [
       "<table class=\"dataframe\">\n",
       "<caption>A tibble: 2 x 3</caption>\n",
       "<thead>\n",
       "\t<tr><th scope=col>Class</th><th scope=col>not.rescued</th><th scope=col>rescued</th></tr>\n",
       "\t<tr><th scope=col>&lt;chr&gt;</th><th scope=col>&lt;dbl&gt;</th><th scope=col>&lt;dbl&gt;</th></tr>\n",
       "</thead>\n",
       "<tbody>\n",
       "\t<tr><td>first+second</td><td>0.4737705</td><td>0.5262295</td></tr>\n",
       "\t<tr><td>third+staff </td><td>0.7548712</td><td>0.2451288</td></tr>\n",
       "</tbody>\n",
       "</table>\n"
      ],
      "text/latex": [
       "A tibble: 2 x 3\n",
       "\\begin{tabular}{lll}\n",
       " Class & not.rescued & rescued\\\\\n",
       " <chr> & <dbl> & <dbl>\\\\\n",
       "\\hline\n",
       "\t first+second & 0.4737705 & 0.5262295\\\\\n",
       "\t third+staff  & 0.7548712 & 0.2451288\\\\\n",
       "\\end{tabular}\n"
      ],
      "text/markdown": [
       "\n",
       "A tibble: 2 x 3\n",
       "\n",
       "| Class &lt;chr&gt; | not.rescued &lt;dbl&gt; | rescued &lt;dbl&gt; |\n",
       "|---|---|---|\n",
       "| first+second | 0.4737705 | 0.5262295 |\n",
       "| third+staff  | 0.7548712 | 0.2451288 |\n",
       "\n"
      ],
      "text/plain": [
       "  Class        not.rescued rescued  \n",
       "1 first+second 0.4737705   0.5262295\n",
       "2 third+staff  0.7548712   0.2451288"
      ]
     },
     "metadata": {},
     "output_type": "display_data"
    },
    {
     "data": {
      "text/html": [
       "<style>\n",
       ".list-inline {list-style: none; margin:0; padding: 0}\n",
       ".list-inline>li {display: inline-block}\n",
       ".list-inline>li:not(:last-child)::after {content: \"\\00b7\"; padding: 0 .5ex}\n",
       "</style>\n",
       "<ol class=list-inline><li>0.526229508196721</li><li>0.245128849780013</li></ol>\n"
      ],
      "text/latex": [
       "\\begin{enumerate*}\n",
       "\\item 0.526229508196721\n",
       "\\item 0.245128849780013\n",
       "\\end{enumerate*}\n"
      ],
      "text/markdown": [
       "1. 0.526229508196721\n",
       "2. 0.245128849780013\n",
       "\n",
       "\n"
      ],
      "text/plain": [
       "[1] 0.5262295 0.2451288"
      ]
     },
     "metadata": {},
     "output_type": "display_data"
    },
    {
     "data": {
      "text/html": [
       "0.62761769563615"
      ],
      "text/latex": [
       "0.62761769563615"
      ],
      "text/markdown": [
       "0.62761769563615"
      ],
      "text/plain": [
       "[1] 0.6276177"
      ]
     },
     "metadata": {},
     "output_type": "display_data"
    },
    {
     "data": {
      "text/html": [
       "2.14674653215637"
      ],
      "text/latex": [
       "2.14674653215637"
      ],
      "text/markdown": [
       "2.14674653215637"
      ],
      "text/plain": [
       "[1] 2.146747"
      ]
     },
     "metadata": {},
     "output_type": "display_data"
    },
    {
     "data": {
      "text/html": [
       "3.42046845887676"
      ],
      "text/latex": [
       "3.42046845887676"
      ],
      "text/markdown": [
       "3.42046845887676"
      ],
      "text/plain": [
       "[1] 3.420468"
      ]
     },
     "metadata": {},
     "output_type": "display_data"
    }
   ],
   "source": [
    "#####################################################\n",
    "# Descriptive Statistics: Exercise 4.4, \n",
    "# Heumann, Schomaker, page 91\n",
    "# Solution\n",
    "#\n",
    "# File: des_stat_titanic_sol.R\n",
    "###################################################### \n",
    "# load packages\n",
    "library(tidyverse)\n",
    "library(titanic)\n",
    "\n",
    "# use of the given values !!!!!!!\n",
    "# generate raw data\n",
    "raw_data <-\n",
    "  tibble(\n",
    "    \"class\" = c(rep(\"first\",325),\n",
    "                rep(\"second\",285),\n",
    "                rep(\"third\",706),\n",
    "                rep(\"staff\",885)),\n",
    "    \"state\" = c(rep(\"not rescued\",122),rep(\"rescued\",203),\n",
    "                rep(\"not rescued\",167),rep(\"rescued\",118),\n",
    "                rep(\"not rescued\",528),rep(\"rescued\",178),\n",
    "                rep(\"not rescued\",673),rep(\"rescued\",212))\n",
    "  )\n",
    "# number of observations \n",
    "nobs <- length(raw_data$class)\n",
    "nobs\n",
    "# contingency table\n",
    "raw_data %>% table()\n",
    "\n",
    "# generate the data from the titanic data set\n",
    "tdata <- \n",
    "  as.tibble(Titanic) %>% \n",
    "  spread(key=Survived, value=n) %>%\n",
    "  select(-Age, -Sex) %>% \n",
    "  group_by(Class) %>% \n",
    "  summarise(not.rescued = sum(No),\n",
    "            rescued = sum(Yes)) %>%\n",
    "  mutate(Sum = not.rescued+rescued)\n",
    "tdata  \n",
    "\n",
    "# conditional frequencies rescue status given class\n",
    "tdata %>%\n",
    "  mutate(\n",
    "    not.rescued = not.rescued / Sum,\n",
    "    rescued = rescued / Sum\n",
    "  ) %>%\n",
    "  select(-Sum) -> cond_freq\n",
    "cond_freq$rescued # proportion of the rescued persons depending on the class\n",
    "\n",
    "# use of chisq.test() to get the indifference table and chi2\n",
    "tdata %>%\n",
    "  select(not.rescued, rescued) %>%\n",
    "  # chisq.test() needs a matrix as an input\n",
    "  as.matrix() %>% \n",
    "  chisq.test() -> test.res \n",
    "\n",
    "# indifference table\n",
    "test.res$expected %>% addmargins()\n",
    "\n",
    "# chi-square\n",
    "test.res$statistic -> chi2\n",
    "chi2\n",
    "\n",
    "# Pearson's contingency coefficient\n",
    "nobs <- tdata$Sum %>% sum()\n",
    "C <- (chi2/(chi2+nobs))**0.5\n",
    "C\n",
    "\n",
    "# corrected Pearson's contingency coefficient\n",
    "C_cor <- (2/1 * chi2/(chi2+nobs))**0.5\n",
    "C_cor\n",
    "\n",
    "###############################################################\n",
    "# group first and second class as well as third class and staff\n",
    "###############################################################\n",
    "raw_data %>%\n",
    "  mutate(grouped.class = if_else(class == \"first\" | class == \"second\", \"first+second\",\"third+staff\")) %>%\n",
    "  count(grouped.class, state) %>%\n",
    "  spread(key = state, value = n) \n",
    "# or\n",
    "cont_tab_new <-\n",
    "  tibble(\n",
    "    Class = c(\"first+second\",\"third+staff\"),\n",
    "    not.rescued = c(tdata$not.rescued[1]+tdata$not.rescued[2],\n",
    "                    tdata$not.rescued[3]+tdata$not.rescued[4]),\n",
    "    rescued = c(tdata$rescued[1]+tdata$rescued[2],\n",
    "                    tdata$rescued[3]+tdata$rescued[4])\n",
    "  )\n",
    "cont_tab_new\n",
    "\n",
    "# indifference table\n",
    "chisq.test(\n",
    "  cont_tab_new %>% select(-Class) %>% as.matrix()\n",
    ")$expected %>% addmargins()\n",
    "\n",
    "# chi-square\n",
    "chi2_new <- \n",
    "  chisq.test(\n",
    "    cont_tab_new %>% select(-Class) %>% as.matrix()\n",
    "  )$statistic\n",
    "chi2_new\n",
    "\n",
    "# Pearson's contingency coefficients\n",
    "C_new <- (chi2_new/(chi2_new+nobs))**0.5\n",
    "C_new\n",
    "C_cor_new <- (2/1 * chi2_new/(chi2_new+nobs))**0.5\n",
    "C_cor_new\n",
    "\n",
    "# Chi^2 Test, p-value < 2.2e-16\n",
    "chisq.test(\n",
    "  cont_tab_new %>% select(-Class) %>% as.matrix()\n",
    ")\n",
    "\n",
    "# conditional frequencies: rescue status given new classes\n",
    "cond_freq_new <- \n",
    "  tibble(\n",
    "    Class = cont_tab_new$Class,\n",
    "    not.rescued = cont_tab_new$not.rescued / \n",
    "      (cont_tab_new$not.rescued + cont_tab_new$rescued),\n",
    "    rescued = cont_tab_new$rescued / \n",
    "      (cont_tab_new$not.rescued + cont_tab_new$rescued),\n",
    "  )\n",
    "cond_freq_new\n",
    "cond_freq_new$rescued # proportion of the rescued persons depending on the class\n",
    "\n",
    "# relative risks\n",
    "rel_risks <- c(\n",
    "  cond_freq_new$not.rescued[1] / cond_freq_new$not.rescued[2],\n",
    "  cond_freq_new$rescued[1] / cond_freq_new$rescued[2]\n",
    ")\n",
    "# proportion of not rescued persons among 1./2. class when compared with 3.class and staff\n",
    "rel_risks[1]\n",
    "# proportion of rescued persons among 1./2. class when compared with 3.class and staff\n",
    "rel_risks[2] \n",
    "\n",
    "# odds ratio\n",
    "rel_risks[2] / rel_risks[1] # chance to be rescued for 1./2. class when compared with 3.class and staff"
   ]
  },
  {
   "cell_type": "code",
   "execution_count": null,
   "metadata": {
    "vscode": {
     "languageId": "r"
    }
   },
   "outputs": [],
   "source": []
  }
 ],
 "metadata": {
  "kernelspec": {
   "display_name": "R",
   "language": "R",
   "name": "ir"
  },
  "language_info": {
   "codemirror_mode": "r",
   "file_extension": ".r",
   "mimetype": "text/x-r-source",
   "name": "R",
   "pygments_lexer": "r",
   "version": "4.3.3"
  }
 },
 "nbformat": 4,
 "nbformat_minor": 2
}
