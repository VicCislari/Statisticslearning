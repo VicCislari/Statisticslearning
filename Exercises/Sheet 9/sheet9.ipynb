{
 "cells": [
  {
   "cell_type": "code",
   "execution_count": 1,
   "metadata": {
    "vscode": {
     "languageId": "r"
    }
   },
   "outputs": [
    {
     "name": "stderr",
     "output_type": "stream",
     "text": [
      "-- \u001b[1mAttaching core tidyverse packages\u001b[22m ------------------------ tidyverse 2.0.0 --\n",
      "\u001b[32mv\u001b[39m \u001b[34mdplyr    \u001b[39m 1.1.4     \u001b[32mv\u001b[39m \u001b[34mreadr    \u001b[39m 2.1.5\n",
      "\u001b[32mv\u001b[39m \u001b[34mforcats  \u001b[39m 1.0.0     \u001b[32mv\u001b[39m \u001b[34mstringr  \u001b[39m 1.5.1\n",
      "\u001b[32mv\u001b[39m \u001b[34mggplot2  \u001b[39m 3.5.0     \u001b[32mv\u001b[39m \u001b[34mtibble   \u001b[39m 3.2.1\n",
      "\u001b[32mv\u001b[39m \u001b[34mlubridate\u001b[39m 1.9.3     \u001b[32mv\u001b[39m \u001b[34mtidyr    \u001b[39m 1.3.1\n",
      "\u001b[32mv\u001b[39m \u001b[34mpurrr    \u001b[39m 1.0.2     \n",
      "-- \u001b[1mConflicts\u001b[22m ------------------------------------------ tidyverse_conflicts() --\n",
      "\u001b[31mx\u001b[39m \u001b[34mdplyr\u001b[39m::\u001b[32mfilter()\u001b[39m masks \u001b[34mstats\u001b[39m::filter()\n",
      "\u001b[31mx\u001b[39m \u001b[34mdplyr\u001b[39m::\u001b[32mlag()\u001b[39m    masks \u001b[34mstats\u001b[39m::lag()\n",
      "\u001b[36mi\u001b[39m Use the conflicted package (\u001b[3m\u001b[34m<http://conflicted.r-lib.org/>\u001b[39m\u001b[23m) to force all conflicts to become errors\n"
     ]
    }
   ],
   "source": [
    "###################################################################################\n",
    "# Magnets and Pain Relief\n",
    "# Case Study: https://onlinestatbook.com/case_studies_rvls/magnets/index.html\n",
    "#\n",
    "#\n",
    "# file: case_study_magnetes_pain_sol.R\n",
    "###################################################################################\n",
    "\n",
    "library(tidyverse)\n",
    "\n",
    "# Is it possible that magnetic fields can reduce pain?\n"
   ]
  },
  {
   "cell_type": "code",
   "execution_count": 45,
   "metadata": {
    "vscode": {
     "languageId": "r"
    }
   },
   "outputs": [
    {
     "name": "stderr",
     "output_type": "stream",
     "text": [
      "\u001b[36mi\u001b[39m Using \u001b[34m\u001b[34m\"','\"\u001b[34m\u001b[39m as decimal and \u001b[34m\u001b[34m\"'.'\"\u001b[34m\u001b[39m as grouping mark. Use `read_delim()` for more control.\n",
      "\n",
      "\u001b[1mRows: \u001b[22m\u001b[34m50\u001b[39m \u001b[1mColumns: \u001b[22m\u001b[34m4\u001b[39m\n",
      "\u001b[36m--\u001b[39m \u001b[1mColumn specification\u001b[22m \u001b[36m--------------------------------------------------------\u001b[39m\n",
      "\u001b[1mDelimiter:\u001b[22m \";\"\n",
      "\u001b[32mdbl\u001b[39m (4): Score_1, Score_2, Change, Active\n",
      "\n",
      "\u001b[36mi\u001b[39m Use `spec()` to retrieve the full column specification for this data.\n",
      "\u001b[36mi\u001b[39m Specify the column types or set `show_col_types = FALSE` to quiet this message.\n"
     ]
    },
    {
     "data": {
      "text/html": [
       "<table class=\"dataframe\">\n",
       "<caption>A spec_tbl_df: 50 x 4</caption>\n",
       "<thead>\n",
       "\t<tr><th scope=col>Score_1</th><th scope=col>Score_2</th><th scope=col>Change</th><th scope=col>Active</th></tr>\n",
       "\t<tr><th scope=col>&lt;dbl&gt;</th><th scope=col>&lt;dbl&gt;</th><th scope=col>&lt;dbl&gt;</th><th scope=col>&lt;dbl&gt;</th></tr>\n",
       "</thead>\n",
       "<tbody>\n",
       "\t<tr><td>10</td><td> 0</td><td>10</td><td>1</td></tr>\n",
       "\t<tr><td>10</td><td> 4</td><td> 6</td><td>1</td></tr>\n",
       "\t<tr><td> 8</td><td> 7</td><td> 1</td><td>1</td></tr>\n",
       "\t<tr><td>10</td><td> 0</td><td>10</td><td>1</td></tr>\n",
       "\t<tr><td>10</td><td> 4</td><td> 6</td><td>1</td></tr>\n",
       "\t<tr><td>10</td><td> 2</td><td> 8</td><td>1</td></tr>\n",
       "\t<tr><td>10</td><td> 5</td><td> 5</td><td>1</td></tr>\n",
       "\t<tr><td>10</td><td> 5</td><td> 5</td><td>1</td></tr>\n",
       "\t<tr><td> 9</td><td> 3</td><td> 6</td><td>1</td></tr>\n",
       "\t<tr><td>10</td><td> 2</td><td> 8</td><td>1</td></tr>\n",
       "\t<tr><td> 9</td><td> 2</td><td> 7</td><td>1</td></tr>\n",
       "\t<tr><td>10</td><td> 2</td><td> 8</td><td>1</td></tr>\n",
       "\t<tr><td>10</td><td> 3</td><td> 7</td><td>1</td></tr>\n",
       "\t<tr><td>10</td><td> 4</td><td> 6</td><td>1</td></tr>\n",
       "\t<tr><td>10</td><td> 6</td><td> 4</td><td>1</td></tr>\n",
       "\t<tr><td> 8</td><td> 4</td><td> 4</td><td>1</td></tr>\n",
       "\t<tr><td>10</td><td> 3</td><td> 7</td><td>1</td></tr>\n",
       "\t<tr><td>10</td><td> 0</td><td>10</td><td>1</td></tr>\n",
       "\t<tr><td> 8</td><td> 2</td><td> 6</td><td>1</td></tr>\n",
       "\t<tr><td>10</td><td> 0</td><td>10</td><td>1</td></tr>\n",
       "\t<tr><td>10</td><td> 4</td><td> 6</td><td>1</td></tr>\n",
       "\t<tr><td> 9</td><td> 4</td><td> 5</td><td>1</td></tr>\n",
       "\t<tr><td>10</td><td> 5</td><td> 5</td><td>1</td></tr>\n",
       "\t<tr><td>10</td><td> 9</td><td> 1</td><td>1</td></tr>\n",
       "\t<tr><td>10</td><td>10</td><td> 0</td><td>1</td></tr>\n",
       "\t<tr><td>10</td><td>10</td><td> 0</td><td>1</td></tr>\n",
       "\t<tr><td>10</td><td>10</td><td> 0</td><td>1</td></tr>\n",
       "\t<tr><td>10</td><td>10</td><td> 0</td><td>1</td></tr>\n",
       "\t<tr><td> 8</td><td> 7</td><td> 1</td><td>1</td></tr>\n",
       "\t<tr><td> 8</td><td> 4</td><td> 4</td><td>2</td></tr>\n",
       "\t<tr><td>10</td><td> 7</td><td> 3</td><td>2</td></tr>\n",
       "\t<tr><td>10</td><td> 5</td><td> 5</td><td>2</td></tr>\n",
       "\t<tr><td>10</td><td> 8</td><td> 2</td><td>2</td></tr>\n",
       "\t<tr><td> 9</td><td> 8</td><td> 1</td><td>2</td></tr>\n",
       "\t<tr><td>10</td><td> 6</td><td> 4</td><td>2</td></tr>\n",
       "\t<tr><td> 9</td><td> 8</td><td> 1</td><td>2</td></tr>\n",
       "\t<tr><td>10</td><td>10</td><td> 0</td><td>2</td></tr>\n",
       "\t<tr><td>10</td><td>10</td><td> 0</td><td>2</td></tr>\n",
       "\t<tr><td> 7</td><td> 6</td><td> 1</td><td>2</td></tr>\n",
       "\t<tr><td>10</td><td>10</td><td> 0</td><td>2</td></tr>\n",
       "\t<tr><td> 8</td><td> 8</td><td> 0</td><td>2</td></tr>\n",
       "\t<tr><td>10</td><td>10</td><td> 0</td><td>2</td></tr>\n",
       "\t<tr><td>10</td><td>10</td><td> 0</td><td>2</td></tr>\n",
       "\t<tr><td>10</td><td>10</td><td> 0</td><td>2</td></tr>\n",
       "\t<tr><td>10</td><td>10</td><td> 0</td><td>2</td></tr>\n",
       "\t<tr><td> 9</td><td> 9</td><td> 0</td><td>2</td></tr>\n",
       "\t<tr><td>10</td><td> 9</td><td> 1</td><td>2</td></tr>\n",
       "\t<tr><td>10</td><td>10</td><td> 0</td><td>2</td></tr>\n",
       "\t<tr><td>10</td><td>10</td><td> 0</td><td>2</td></tr>\n",
       "\t<tr><td>10</td><td> 9</td><td> 1</td><td>2</td></tr>\n",
       "</tbody>\n",
       "</table>\n"
      ],
      "text/latex": [
       "A spec\\_tbl\\_df: 50 x 4\n",
       "\\begin{tabular}{llll}\n",
       " Score\\_1 & Score\\_2 & Change & Active\\\\\n",
       " <dbl> & <dbl> & <dbl> & <dbl>\\\\\n",
       "\\hline\n",
       "\t 10 &  0 & 10 & 1\\\\\n",
       "\t 10 &  4 &  6 & 1\\\\\n",
       "\t  8 &  7 &  1 & 1\\\\\n",
       "\t 10 &  0 & 10 & 1\\\\\n",
       "\t 10 &  4 &  6 & 1\\\\\n",
       "\t 10 &  2 &  8 & 1\\\\\n",
       "\t 10 &  5 &  5 & 1\\\\\n",
       "\t 10 &  5 &  5 & 1\\\\\n",
       "\t  9 &  3 &  6 & 1\\\\\n",
       "\t 10 &  2 &  8 & 1\\\\\n",
       "\t  9 &  2 &  7 & 1\\\\\n",
       "\t 10 &  2 &  8 & 1\\\\\n",
       "\t 10 &  3 &  7 & 1\\\\\n",
       "\t 10 &  4 &  6 & 1\\\\\n",
       "\t 10 &  6 &  4 & 1\\\\\n",
       "\t  8 &  4 &  4 & 1\\\\\n",
       "\t 10 &  3 &  7 & 1\\\\\n",
       "\t 10 &  0 & 10 & 1\\\\\n",
       "\t  8 &  2 &  6 & 1\\\\\n",
       "\t 10 &  0 & 10 & 1\\\\\n",
       "\t 10 &  4 &  6 & 1\\\\\n",
       "\t  9 &  4 &  5 & 1\\\\\n",
       "\t 10 &  5 &  5 & 1\\\\\n",
       "\t 10 &  9 &  1 & 1\\\\\n",
       "\t 10 & 10 &  0 & 1\\\\\n",
       "\t 10 & 10 &  0 & 1\\\\\n",
       "\t 10 & 10 &  0 & 1\\\\\n",
       "\t 10 & 10 &  0 & 1\\\\\n",
       "\t  8 &  7 &  1 & 1\\\\\n",
       "\t  8 &  4 &  4 & 2\\\\\n",
       "\t 10 &  7 &  3 & 2\\\\\n",
       "\t 10 &  5 &  5 & 2\\\\\n",
       "\t 10 &  8 &  2 & 2\\\\\n",
       "\t  9 &  8 &  1 & 2\\\\\n",
       "\t 10 &  6 &  4 & 2\\\\\n",
       "\t  9 &  8 &  1 & 2\\\\\n",
       "\t 10 & 10 &  0 & 2\\\\\n",
       "\t 10 & 10 &  0 & 2\\\\\n",
       "\t  7 &  6 &  1 & 2\\\\\n",
       "\t 10 & 10 &  0 & 2\\\\\n",
       "\t  8 &  8 &  0 & 2\\\\\n",
       "\t 10 & 10 &  0 & 2\\\\\n",
       "\t 10 & 10 &  0 & 2\\\\\n",
       "\t 10 & 10 &  0 & 2\\\\\n",
       "\t 10 & 10 &  0 & 2\\\\\n",
       "\t  9 &  9 &  0 & 2\\\\\n",
       "\t 10 &  9 &  1 & 2\\\\\n",
       "\t 10 & 10 &  0 & 2\\\\\n",
       "\t 10 & 10 &  0 & 2\\\\\n",
       "\t 10 &  9 &  1 & 2\\\\\n",
       "\\end{tabular}\n"
      ],
      "text/markdown": [
       "\n",
       "A spec_tbl_df: 50 x 4\n",
       "\n",
       "| Score_1 &lt;dbl&gt; | Score_2 &lt;dbl&gt; | Change &lt;dbl&gt; | Active &lt;dbl&gt; |\n",
       "|---|---|---|---|\n",
       "| 10 |  0 | 10 | 1 |\n",
       "| 10 |  4 |  6 | 1 |\n",
       "|  8 |  7 |  1 | 1 |\n",
       "| 10 |  0 | 10 | 1 |\n",
       "| 10 |  4 |  6 | 1 |\n",
       "| 10 |  2 |  8 | 1 |\n",
       "| 10 |  5 |  5 | 1 |\n",
       "| 10 |  5 |  5 | 1 |\n",
       "|  9 |  3 |  6 | 1 |\n",
       "| 10 |  2 |  8 | 1 |\n",
       "|  9 |  2 |  7 | 1 |\n",
       "| 10 |  2 |  8 | 1 |\n",
       "| 10 |  3 |  7 | 1 |\n",
       "| 10 |  4 |  6 | 1 |\n",
       "| 10 |  6 |  4 | 1 |\n",
       "|  8 |  4 |  4 | 1 |\n",
       "| 10 |  3 |  7 | 1 |\n",
       "| 10 |  0 | 10 | 1 |\n",
       "|  8 |  2 |  6 | 1 |\n",
       "| 10 |  0 | 10 | 1 |\n",
       "| 10 |  4 |  6 | 1 |\n",
       "|  9 |  4 |  5 | 1 |\n",
       "| 10 |  5 |  5 | 1 |\n",
       "| 10 |  9 |  1 | 1 |\n",
       "| 10 | 10 |  0 | 1 |\n",
       "| 10 | 10 |  0 | 1 |\n",
       "| 10 | 10 |  0 | 1 |\n",
       "| 10 | 10 |  0 | 1 |\n",
       "|  8 |  7 |  1 | 1 |\n",
       "|  8 |  4 |  4 | 2 |\n",
       "| 10 |  7 |  3 | 2 |\n",
       "| 10 |  5 |  5 | 2 |\n",
       "| 10 |  8 |  2 | 2 |\n",
       "|  9 |  8 |  1 | 2 |\n",
       "| 10 |  6 |  4 | 2 |\n",
       "|  9 |  8 |  1 | 2 |\n",
       "| 10 | 10 |  0 | 2 |\n",
       "| 10 | 10 |  0 | 2 |\n",
       "|  7 |  6 |  1 | 2 |\n",
       "| 10 | 10 |  0 | 2 |\n",
       "|  8 |  8 |  0 | 2 |\n",
       "| 10 | 10 |  0 | 2 |\n",
       "| 10 | 10 |  0 | 2 |\n",
       "| 10 | 10 |  0 | 2 |\n",
       "| 10 | 10 |  0 | 2 |\n",
       "|  9 |  9 |  0 | 2 |\n",
       "| 10 |  9 |  1 | 2 |\n",
       "| 10 | 10 |  0 | 2 |\n",
       "| 10 | 10 |  0 | 2 |\n",
       "| 10 |  9 |  1 | 2 |\n",
       "\n"
      ],
      "text/plain": [
       "   Score_1 Score_2 Change Active\n",
       "1  10       0      10     1     \n",
       "2  10       4       6     1     \n",
       "3   8       7       1     1     \n",
       "4  10       0      10     1     \n",
       "5  10       4       6     1     \n",
       "6  10       2       8     1     \n",
       "7  10       5       5     1     \n",
       "8  10       5       5     1     \n",
       "9   9       3       6     1     \n",
       "10 10       2       8     1     \n",
       "11  9       2       7     1     \n",
       "12 10       2       8     1     \n",
       "13 10       3       7     1     \n",
       "14 10       4       6     1     \n",
       "15 10       6       4     1     \n",
       "16  8       4       4     1     \n",
       "17 10       3       7     1     \n",
       "18 10       0      10     1     \n",
       "19  8       2       6     1     \n",
       "20 10       0      10     1     \n",
       "21 10       4       6     1     \n",
       "22  9       4       5     1     \n",
       "23 10       5       5     1     \n",
       "24 10       9       1     1     \n",
       "25 10      10       0     1     \n",
       "26 10      10       0     1     \n",
       "27 10      10       0     1     \n",
       "28 10      10       0     1     \n",
       "29  8       7       1     1     \n",
       "30  8       4       4     2     \n",
       "31 10       7       3     2     \n",
       "32 10       5       5     2     \n",
       "33 10       8       2     2     \n",
       "34  9       8       1     2     \n",
       "35 10       6       4     2     \n",
       "36  9       8       1     2     \n",
       "37 10      10       0     2     \n",
       "38 10      10       0     2     \n",
       "39  7       6       1     2     \n",
       "40 10      10       0     2     \n",
       "41  8       8       0     2     \n",
       "42 10      10       0     2     \n",
       "43 10      10       0     2     \n",
       "44 10      10       0     2     \n",
       "45 10      10       0     2     \n",
       "46  9       9       0     2     \n",
       "47 10       9       1     2     \n",
       "48 10      10       0     2     \n",
       "49 10      10       0     2     \n",
       "50 10       9       1     2     "
      ]
     },
     "metadata": {},
     "output_type": "display_data"
    }
   ],
   "source": [
    "\n",
    "# Load the raw data\n",
    "raw.data <- read_csv2(\n",
    "  \"magnets_pain.csv\")\n",
    "raw.data"
   ]
  },
  {
   "cell_type": "code",
   "execution_count": 52,
   "metadata": {
    "vscode": {
     "languageId": "r"
    }
   },
   "outputs": [
    {
     "data": {
      "image/png": "[encoded data removed]",
      "text/plain": [
       "Plot with title \"Pain Rating by Treatment Group\""
      ]
     },
     "metadata": {
      "image/png": {
       "height": 420,
       "width": 420
      }
     },
     "output_type": "display_data"
    }
   ],
   "source": [
    "# Customize the plot background\n",
    "par(bg = \"black\")\n",
    "\n",
    "boxplot(Score_2 ~ Active, data = raw.data,  #but why do I absolutely need to group it?\n",
    "        names = c(\"Treatment\", \"Control\"), \n",
    "        ylab = \"Pain Rating\", xlab = \"\", col = c(\"blue\", \"red\"), border = \"white\", las = 1, outline = TRUE)\n",
    "\n",
    "#Score_2 ~ Active: This specifies\n",
    "#that we want to plot \"Score_2\"\n",
    "#on the y-axis and group it by the levels\n",
    "#of the \"Active\" variable on the x-axis.\n",
    "\n",
    "# Customize the axis labels and ticks\n",
    "axis(1, col.axis = \"white\", col.ticks = \"white\")\n",
    "axis(2, col.axis = \"white\", col.ticks = \"white\")\n",
    "\n",
    "# Add a title with white text\n",
    "title(main = \"Pain Rating by Treatment Group\", col.main = \"white\")\n",
    "\n",
    "# Add a legend with white text\n",
    "legend(\"topright\", legend = c(\"Treatment\", \"Control\"), fill = c(\"blue\", \"red\"), border = \"white\", text.col = \"white\", bg = \"black\")\n"
   ]
  },
  {
   "cell_type": "code",
   "execution_count": 44,
   "metadata": {
    "vscode": {
     "languageId": "r"
    }
   },
   "outputs": [
    {
     "data": {
      "text/html": [
       "<style>\n",
       ".list-inline {list-style: none; margin:0; padding: 0}\n",
       ".list-inline>li {display: inline-block}\n",
       ".list-inline>li:not(:last-child)::after {content: \"\\00b7\"; padding: 0 .5ex}\n",
       "</style>\n",
       "<ol class=list-inline><li>0</li><li>4</li><li>6</li><li>10</li><li>10</li></ol>\n"
      ],
      "text/latex": [
       "\\begin{enumerate*}\n",
       "\\item 0\n",
       "\\item 4\n",
       "\\item 6\n",
       "\\item 10\n",
       "\\item 10\n",
       "\\end{enumerate*}\n"
      ],
      "text/markdown": [
       "1. 0\n",
       "2. 4\n",
       "3. 6\n",
       "4. 10\n",
       "5. 10\n",
       "\n",
       "\n"
      ],
      "text/plain": [
       "[1]  0  4  6 10 10"
      ]
     },
     "metadata": {},
     "output_type": "display_data"
    }
   ],
   "source": [
    "get_boxplot_values <- function(data, column_name) {\n",
    "  column <- data[[column_name]]\n",
    "  stats <- boxplot.stats(column)\n",
    "  return(stats$stats)\n",
    "}\n",
    "# Specify the column name\n",
    "column_name <- \"Score_2\"\n",
    "\n",
    "# Get boxplot values for the specified column\n",
    "boxplot_values <- get_boxplot_values(raw.data, column_name)\n",
    "boxplot_values"
   ]
  },
  {
   "cell_type": "code",
   "execution_count": 53,
   "metadata": {
    "vscode": {
     "languageId": "r"
    }
   },
   "outputs": [
    {
     "name": "stdout",
     "output_type": "stream",
     "text": [
      "$`1`\n",
      "$`1`$stats\n",
      "[1]  0  2  4  6 10\n",
      "\n",
      "$`1`$n\n",
      "[1] 29\n",
      "\n",
      "$`1`$conf\n",
      "[1] 2.826405 5.173595\n",
      "\n",
      "$`1`$out\n",
      "numeric(0)\n",
      "\n",
      "\n",
      "$`2`\n",
      "$`2`$stats\n",
      "[1]  5  8  9 10 10\n",
      "\n",
      "$`2`$n\n",
      "[1] 21\n",
      "\n",
      "$`2`$conf\n",
      "[1] 8.310431 9.689569\n",
      "\n",
      "$`2`$out\n",
      "[1] 4\n",
      "\n",
      "\n"
     ]
    }
   ],
   "source": [
    "get_boxplot_values <- function(data, group_column, column_name) {\n",
    "  stats_list <- tapply(data[[column_name]], data[[group_column]], boxplot.stats)\n",
    "  return(stats_list)\n",
    "}\n",
    "\n",
    "# Specify the grouping column and the column for boxplot values\n",
    "group_column <- \"Active\"\n",
    "column_name <- \"Score_2\"\n",
    "\n",
    "# Get boxplot values for each group\n",
    "boxplot_values <- get_boxplot_values(raw.data, group_column, column_name)\n",
    "\n",
    "# Print the summary statistics for each group\n",
    "print(boxplot_values)"
   ]
  },
  {
   "cell_type": "markdown",
   "metadata": {},
   "source": [
    "The output you provided is a list containing information about the boxplot statistics for each group (in this case, groups 1 and 2) of the \"Active\" variable. Here's what each part of the output means:\n",
    "\n",
    "$1 and $2: These are the groups of the \"Active\" variable. In this case, group 1 corresponds to one level of the \"Active\" variable, and group 2 corresponds to another level.\n",
    "For each group:\n",
    "\n",
    "$stats: This contains the summary statistics of the data within the group. Specifically, it provides the minimum, lower hinge (25th percentile), median (50th percentile), upper hinge (75th percentile), and maximum values of the data. For example, in group 1, the values are 0, 2, 4, 6, and 10.\n",
    "\n",
    "$n: This represents the number of observations (sample size) in the group. For example, in group 1, there are 29 observations.\n",
    "\n",
    "$conf: This provides the confidence interval for the median of the data within the group. For example, in group 1, the confidence interval for the median is (2.826405, 5.173595).\n",
    "\n",
    "$out: This lists any outliers present in the data within the group. If there are no outliers, it will display numeric(0), indicating an empty numeric vector. For example, in group 2, there is one outlier, which is the value 4.\n",
    "\n",
    "Overall, this output provides a comprehensive summary of the distribution of the data within each group of the \"Active\" variable, which can be useful for further analysis and interpretation.\n"
   ]
  },
  {
   "cell_type": "code",
   "execution_count": 56,
   "metadata": {
    "vscode": {
     "languageId": "r"
    }
   },
   "outputs": [
    {
     "data": {
      "text/html": [
       "<table class=\"dataframe\">\n",
       "<caption>A tibble: 2 x 9</caption>\n",
       "<thead>\n",
       "\t<tr><th scope=col>Active</th><th scope=col>Mean</th><th scope=col>Min</th><th scope=col>Max</th><th scope=col>Q1</th><th scope=col>Median</th><th scope=col>Q3</th><th scope=col>IQR</th><th scope=col>SD</th></tr>\n",
       "\t<tr><th scope=col>&lt;dbl&gt;</th><th scope=col>&lt;dbl&gt;</th><th scope=col>&lt;dbl&gt;</th><th scope=col>&lt;dbl&gt;</th><th scope=col>&lt;dbl&gt;</th><th scope=col>&lt;dbl&gt;</th><th scope=col>&lt;dbl&gt;</th><th scope=col>&lt;dbl&gt;</th><th scope=col>&lt;dbl&gt;</th></tr>\n",
       "</thead>\n",
       "<tbody>\n",
       "\t<tr><td>1</td><td>4.379310</td><td>0</td><td>10</td><td>2</td><td>4</td><td> 6</td><td>4</td><td>3.144312</td></tr>\n",
       "\t<tr><td>2</td><td>8.428571</td><td>4</td><td>10</td><td>8</td><td>9</td><td>10</td><td>2</td><td>1.859339</td></tr>\n",
       "</tbody>\n",
       "</table>\n"
      ],
      "text/latex": [
       "A tibble: 2 x 9\n",
       "\\begin{tabular}{lllllllll}\n",
       " Active & Mean & Min & Max & Q1 & Median & Q3 & IQR & SD\\\\\n",
       " <dbl> & <dbl> & <dbl> & <dbl> & <dbl> & <dbl> & <dbl> & <dbl> & <dbl>\\\\\n",
       "\\hline\n",
       "\t 1 & 4.379310 & 0 & 10 & 2 & 4 &  6 & 4 & 3.144312\\\\\n",
       "\t 2 & 8.428571 & 4 & 10 & 8 & 9 & 10 & 2 & 1.859339\\\\\n",
       "\\end{tabular}\n"
      ],
      "text/markdown": [
       "\n",
       "A tibble: 2 x 9\n",
       "\n",
       "| Active &lt;dbl&gt; | Mean &lt;dbl&gt; | Min &lt;dbl&gt; | Max &lt;dbl&gt; | Q1 &lt;dbl&gt; | Median &lt;dbl&gt; | Q3 &lt;dbl&gt; | IQR &lt;dbl&gt; | SD &lt;dbl&gt; |\n",
       "|---|---|---|---|---|---|---|---|---|\n",
       "| 1 | 4.379310 | 0 | 10 | 2 | 4 |  6 | 4 | 3.144312 |\n",
       "| 2 | 8.428571 | 4 | 10 | 8 | 9 | 10 | 2 | 1.859339 |\n",
       "\n"
      ],
      "text/plain": [
       "  Active Mean     Min Max Q1 Median Q3 IQR SD      \n",
       "1 1      4.379310 0   10  2  4       6 4   3.144312\n",
       "2 2      8.428571 4   10  8  9      10 2   1.859339"
      ]
     },
     "metadata": {},
     "output_type": "display_data"
    }
   ],
   "source": [
    "# The plot shows pain ratings of subjects treated with active magnets (Treatment)\n",
    "# and those treated with inactive placebo devices (Control).\n",
    "\n",
    "# What is the mean, min, max, Q1, Q2, Q3 and standard deviation for the group\n",
    "# treated with active magnets?\n",
    "raw.data %>%\n",
    "  group_by(Active) %>%\n",
    "  summarise(Mean = mean(Score_2), Min = min(Score_2), Max = max(Score_2),\n",
    "            Q1 = quantile(Score_2, prob = 0.25), Median = median(Score_2),\n",
    "            Q3 = quantile(Score_2, prob = 0.75), IQR = Q3-Q1, SD = sd(Score_2))"
   ]
  },
  {
   "cell_type": "code",
   "execution_count": 58,
   "metadata": {
    "vscode": {
     "languageId": "r"
    }
   },
   "outputs": [
    {
     "data": {
      "text/plain": [
       "\n",
       "\tF test to compare two variances\n",
       "\n",
       "data:  treatment$Score_2 and control$Score_2\n",
       "F = 2.8598, num df = 28, denom df = 20, p-value = 0.008893\n",
       "alternative hypothesis: true ratio of variances is greater than 1\n",
       "95 percent confidence interval:\n",
       " 1.393891      Inf\n",
       "sample estimates:\n",
       "ratio of variances \n",
       "          2.859789 \n"
      ]
     },
     "metadata": {},
     "output_type": "display_data"
    }
   ],
   "source": [
    "# How do you interpret the boxplots and these characteristic numbers?\n",
    "# Answers:\n",
    "# a) The lowest pain rating of the control group appears to be equal to the median \n",
    "#    of the treatment group\n",
    "# b) Overall, the group in the most pain is the control group.\n",
    "# c) The middle 50% of the scores for the control group fall between 8-10.\n",
    "# d) The circle represents an outlier.\n",
    "# e) The range for the group that received the active magnets is 10.\n",
    "# f) The pain ratings are more variable in the treatment condition.\n",
    "\n",
    "# Inferential Statistics: t-test on post-treatment scores\n",
    "# One way to test the hypothesis that magnets reduce pain is to test the null\n",
    "# hypothesis that there is no difference in post-treatment ratings of pain. If\n",
    "# this null hypothesis can be rejected, then it can be concluded that there is\n",
    "# an effect of treatments, i.e. a difference in ratings between those treate\n",
    "# with active magnets and those treated with placebo magnets.\n",
    "# An independent-groups t-test can be used for this. This test makes three assumptions:\n",
    "# -) The populations are each normally distributed.\n",
    "# -) The variances in the populations are equal.\n",
    "# -) Each observation is sampled randomly and is therefore independent of each\n",
    "#    other observation.\n",
    "\n",
    "# Here we assume that the populations are normally distributed.\n",
    "\n",
    "# The active magnet group ratings were more variable (sd= 3.14) then were the\n",
    "# ratings of the placebo group (sd = 1.86). An F test of the difference in\n",
    "# variances can be computed by dividing the variance of the group with the larger\n",
    "# variance by the variance of the group with the smaller variance.\n",
    "\n",
    "treatment <- raw.data %>% filter(Active == 1)\n",
    "control <- raw.data %>% filter(Active == 2)\n",
    "var.test(\n",
    "  x = treatment$Score_2, y = control$Score_2,\n",
    "  alternative = \"greater\"\n",
    ")"
   ]
  },
  {
   "cell_type": "code",
   "execution_count": 60,
   "metadata": {
    "vscode": {
     "languageId": "r"
    }
   },
   "outputs": [
    {
     "data": {
      "text/plain": [
       "\n",
       "\tWelch Two Sample t-test\n",
       "\n",
       "data:  treatment$Score_2 and control$Score_2\n",
       "t = -5.695, df = 46.418, p-value = 8.058e-07\n",
       "alternative hypothesis: true difference in means is not equal to 0\n",
       "95 percent confidence interval:\n",
       " -5.480119 -2.618404\n",
       "sample estimates:\n",
       "mean of x mean of y \n",
       " 4.379310  8.428571 \n"
      ]
     },
     "metadata": {},
     "output_type": "display_data"
    }
   ],
   "source": [
    "# The variances are significantly different.\n",
    "\n",
    "# Results of a 2-sample, unpaired t-test (Welch-test)\n",
    "t.test(\n",
    "  x = treatment$Score_2, y = control$Score_2,\n",
    "  alternative = \"two.sided\", mu = 0,\n",
    "  paired = FALSE, var.equal = FALSE\n",
    ")"
   ]
  },
  {
   "cell_type": "code",
   "execution_count": 61,
   "metadata": {
    "vscode": {
     "languageId": "r"
    }
   },
   "outputs": [],
   "source": [
    "# Interpretation: Subjects who had an active magnet reported significantly less\n",
    "# pain than did subjects who recieved the placebo. The confidence interval on the\n",
    "# difference between means shows that the effect is large and therefore of practical\n",
    "# as well as statistical significance."
   ]
  },
  {
   "cell_type": "code",
   "execution_count": 63,
   "metadata": {
    "vscode": {
     "languageId": "r"
    }
   },
   "outputs": [
    {
     "data": {
      "text/html": [
       "FALSE"
      ],
      "text/latex": [
       "FALSE"
      ],
      "text/markdown": [
       "FALSE"
      ],
      "text/plain": [
       "[1] FALSE"
      ]
     },
     "metadata": {},
     "output_type": "display_data"
    },
    {
     "data": {
      "text/html": [
       "0.847973922138453"
      ],
      "text/latex": [
       "0.847973922138453"
      ],
      "text/markdown": [
       "0.847973922138453"
      ],
      "text/plain": [
       "[1] 0.8479739"
      ]
     },
     "metadata": {},
     "output_type": "display_data"
    },
    {
     "data": {
      "text/plain": [
       "\n",
       "\tF test to compare two variances\n",
       "\n",
       "data:  sample.1 and sample.2\n",
       "F = 0.73589, num df = 24, denom df = 34, p-value = 0.4377\n",
       "alternative hypothesis: true ratio of variances is not equal to 1\n",
       "90 percent confidence interval:\n",
       " 0.3993547 1.4108015\n",
       "sample estimates:\n",
       "ratio of variances \n",
       "         0.7358912 \n"
      ]
     },
     "metadata": {},
     "output_type": "display_data"
    },
    {
     "data": {
      "text/plain": [
       "\n",
       "\tTwo Sample t-test\n",
       "\n",
       "data:  sample.1 and sample.2\n",
       "t = -2.1444, df = 58, p-value = 0.0181\n",
       "alternative hypothesis: true difference in means is less than 0\n",
       "95 percent confidence interval:\n",
       "       -Inf -0.3714405\n",
       "sample estimates:\n",
       "mean of x mean of y \n",
       " 8.304000  9.988571 \n"
      ]
     },
     "metadata": {},
     "output_type": "display_data"
    },
    {
     "data": {
      "text/plain": [
       "\n",
       "\tPaired t-test\n",
       "\n",
       "data:  sample.water and sample.alc\n",
       "t = 5.0186, df = 9, p-value = 0.0007205\n",
       "alternative hypothesis: true mean difference is not equal to 0\n",
       "95 percent confidence interval:\n",
       " 1.043561 2.756439\n",
       "sample estimates:\n",
       "mean difference \n",
       "            1.9 \n"
      ]
     },
     "metadata": {},
     "output_type": "display_data"
    },
    {
     "data": {
      "text/plain": [
       "\n",
       "\tF test to compare two variances\n",
       "\n",
       "data:  sample.a and sample.b\n",
       "F = 3.634, num df = 9, denom df = 9, p-value = 0.03404\n",
       "alternative hypothesis: true ratio of variances is greater than 1\n",
       "95 percent confidence interval:\n",
       " 1.143167      Inf\n",
       "sample estimates:\n",
       "ratio of variances \n",
       "          3.634007 \n"
      ]
     },
     "metadata": {},
     "output_type": "display_data"
    }
   ],
   "source": [
    "# sheet 9\n",
    "\n",
    "# task 1: 2 sample Gauss Test\n",
    "x <- c(5.46, 5.34, 4.34, 4.82, 4.4, 5.12, 5.69, 5.53, 4.77, 5.82)\n",
    "y <- c(\n",
    "       5.45, 5.31, 4.11, 4.69, 4.18, 5.05, 5.72, 5.54, 4.62, 5.89, 5.6, 5.19,\n",
    "       3.31, 4.43, 5.3, 4.09\n",
    ")\n",
    "mean.x <- mean(x)\n",
    "mean.y <- mean(y)\n",
    "n.x <- length(x)\n",
    "n.y <- length(y)\n",
    "sigma.x <- 0.5 # wait what is sigma again for?\n",
    "sigma.y <- 0.6\n",
    "\n",
    "test.statistic <- (mean.x - mean.y) / sqrt(sigma.x^2 / n.x + sigma.y^2 / n.y)\n",
    "# decisoon rule: reject H0 if\n",
    "test.statistic < qnorm(0.05)\n",
    "p.value <- pnorm(test.statistic)\n",
    "p.value\n",
    "\n",
    "# task 2\n",
    "sample.1 <- c(\n",
    "       7.06, 11.84, 9.28, 7.92, 13.5, 3.98, 3.82, 7.34, 8.7, 9.24, 4.86, 3.32,\n",
    "       12.78, 12, 5.24, 11.4, 6.56, 9.04, 7.72, 9.26, 7.88, 8.6, 9.3, 8.42, 8.54\n",
    ")\n",
    "sample.2 <- c(\n",
    "       8.68, 6, 6.3, 10.24, 10.88, 5.36, 7.82, 4.7, 9.02, 9.78, 6.9, 5.8, 13.56,\n",
    "       10.32, 13.3, 11.38, 7.94, 10.74, 13.68, 14.92, 7.42, 10.36, 10.54,\n",
    "       5.22, 13.74, 12.98, 10.34, 10.02, 17.8, 13.04, 5.2, 9.4, 11.18, 12.68,\n",
    "       12.36\n",
    ")\n",
    "# H0: mu1 >= mu2, H1: mu1 < mu2\n",
    "alpha <- 0.05\n",
    "# check whether the variances are equal or not\n",
    "var.test(\n",
    "       x = sample.1, y = sample.2, ratio = 1, alternative = \"two.sided\",\n",
    "       conf.level = 0.9\n",
    ")\n",
    "# F test to compare two variances\n",
    "#\n",
    "# data:  sample.1 and sample.2\n",
    "# F = 0.73589, num df = 24, denom df = 34, p-value = 0.4377\n",
    "# alternative hypothesis: true ratio of variances is not equal to 1\n",
    "# 90 percent confidence interval:\n",
    "#   0.3993547 1.4108015\n",
    "# sample estimates:\n",
    "#   ratio of variances\n",
    "# 0.7358912\n",
    "# decision: The H0 that both variances are equal can not be rejected, since the\n",
    "# pvalue is bigger than 0.1!\n",
    "# => Assumption both variances are equal, i.e conduct a t test\n",
    "\n",
    "# H0: mu1 >= m2, H1: mu1 < mu2\n",
    "t.test(\n",
    "       x = sample.1, y = sample.2, mu = 0, alternative = \"less\", var.equal = TRUE,\n",
    "       paired = FALSE, conf.level = 1 - alpha\n",
    ")\n",
    "# Two Sample t-test\n",
    "#\n",
    "# data:  sample.1 and sample.2\n",
    "# t = -2.1444, df = 58, p-value = 0.0181\n",
    "# alternative hypothesis: true difference in means is less than 0\n",
    "# 95 percent confidence interval:\n",
    "#   -Inf -0.3714405\n",
    "# sample estimates:\n",
    "#   mean of x mean of y\n",
    "# 8.304000  9.988571\n",
    "# Decision: reject H0\n",
    "\n",
    "# task 3\n",
    "# H0: mu1 = mu2, H1: mu1 <> mu2\n",
    "# 2 sample paired test\n",
    "sample.water <- c(16, 15, 11, 20, 19, 14, 13, 15, 14, 16)\n",
    "sample.alc <- c(13, 13, 10, 18, 17, 11, 10, 15, 11, 16)\n",
    "t.test(\n",
    "       x = sample.water, y = sample.alc, alternative = \"two.sided\", paired = TRUE,\n",
    "       conf.level = 0.95\n",
    ")\n",
    "# Paired t-test\n",
    "#\n",
    "# data:  sample.water and sample.alc\n",
    "# t = 5.0186, df = 9, p-value = 0.0007205\n",
    "# alternative hypothesis: true difference in means is not equal to 0\n",
    "# 95 percent confidence interval:\n",
    "#   1.043561 2.756439\n",
    "# sample estimates:\n",
    "#   mean of the differences\n",
    "# 1.9\n",
    "# decision: reject H0, since the pvalue is lower than 0.05; i.e. alcohol seems\n",
    "# to have an effect\n",
    "\n",
    "# task 4\n",
    "sample.a <- c(102.4, 101.3, 97.6, 98.2, 102.3, 99.1, 97.8, 103.9, 101.6, 100.1)\n",
    "sample.b <- c(98.4, 101.7, 100.5, 99.3, 100.6, 99.6, 102.2, 101.1, 99.9, 101.0)\n",
    "# H0: sigma.a <= sigma.b, H1: sigma.a > sigma.b\n",
    "var.test(x = sample.a, y = sample.b, alternative = \"greater\", conf.level = 0.95, ratio = 1)\n",
    "# F test to compare two variances\n",
    "#\n",
    "# data:  sample.a and sample.b\n",
    "# F = 3.634, num df = 9, denom df = 9, p-value = 0.03404\n",
    "# alternative hypothesis: true ratio of variances is greater than 1\n",
    "# 95 percent confidence interval:\n",
    "#   1.143167      Inf\n",
    "# sample estimates:\n",
    "#   ratio of variances\n",
    "# 3.634007\n",
    "# decision: reject H0, since pvalue is < alpha=0.05, i.e. scale B seems to be better\n",
    "# than scale A\n"
   ]
  },
  {
   "cell_type": "markdown",
   "metadata": {},
   "source": [
    "This R code conducts an F test to compare the variances of two samples (`sample.a` and `sample.b`). Here's a breakdown of the arguments used:\n",
    "\n",
    "- `x` and `y`: These arguments specify the data vectors for the two samples being compared.\n",
    "- `alternative`: This argument specifies the alternative hypothesis for the test. In this case, `\"two.sided\"` indicates a two-tailed test, meaning we are testing whether the variances are not equal.\n",
    "- `conf.level`: This argument sets the confidence level for the confidence interval generated by the test.\n",
    "- `ratio`: This argument specifies the hypothesized ratio of variances under the null hypothesis. Here, `1` indicates that the null hypothesis is that the variances are equal.\n",
    "\n",
    "The output of this test includes the F-statistic, degrees of freedom, and p-value, which can be used to assess whether there is evidence to reject the null hypothesis of equal variances.\n"
   ]
  },
  {
   "cell_type": "code",
   "execution_count": 64,
   "metadata": {
    "vscode": {
     "languageId": "r"
    }
   },
   "outputs": [
    {
     "data": {
      "text/plain": [
       "\n",
       "\tF test to compare two variances\n",
       "\n",
       "data:  sample.a and sample.b\n",
       "F = 1.1077, num df = 9, denom df = 9, p-value = 0.8814\n",
       "alternative hypothesis: true ratio of variances is not equal to 1\n",
       "90 percent confidence interval:\n",
       " 0.3484569 3.5212834\n",
       "sample estimates:\n",
       "ratio of variances \n",
       "          1.107707 \n"
      ]
     },
     "metadata": {},
     "output_type": "display_data"
    },
    {
     "data": {
      "text/plain": [
       "\n",
       "\tTwo Sample t-test\n",
       "\n",
       "data:  sample.a and sample.b\n",
       "t = 2.1273, df = 18, p-value = 0.9763\n",
       "alternative hypothesis: true difference in means is less than 0\n",
       "97.5 percent confidence interval:\n",
       "     -Inf 1.848471\n",
       "sample estimates:\n",
       "mean of x mean of y \n",
       "     5.20      4.27 \n"
      ]
     },
     "metadata": {},
     "output_type": "display_data"
    }
   ],
   "source": [
    "\n",
    "# task 5\n",
    "sample.a <- c(7.2, 4.1, 5.5, 4.5, 5.7, 3.8, 4.6, 6.0, 5.2, 5.4)\n",
    "sample.b <- c(5.3, 4.4, 5.0, 3.5, 3.9, 4.9, 5.6, 2.5, 4.0, 3.6)\n",
    "\n",
    "# a) H0: sigma.a = sigma.b, H1: sigma.a <> sigma.b\n",
    "var.test(     x = sample.a,\n",
    "              y = sample.b,\n",
    "              alternative = \"two.sided\",\n",
    "              conf.level = 0.9,\n",
    "              ratio = 1\n",
    ")\n",
    "# F test to compare two variances\n",
    "#\n",
    "# data:  sample.a and sample.b\n",
    "# F = 1.1077, num df = 9, denom df = 9, p-value = 0.8814\n",
    "# alternative hypothesis: true ratio of variances is not equal to 1\n",
    "# 90 percent confidence interval:\n",
    "#   0.3484569 3.5212834\n",
    "# sample estimates:\n",
    "#   ratio of variances\n",
    "# 1.107707\n",
    "# decision: H0 can not be rejected, since pvalue > .1; the carainces can\n",
    "# be assumed to be equal\n",
    "\n",
    "# b) H0: mua <= mub, H1: mua > mu.b\n",
    "t.test(\n",
    "       x = sample.a, y = sample.b, alternative = \"less\", var.equal = TRUE,\n",
    "       mu = 0, conf.level = 0.975\n",
    ")\n",
    "# Two Sample t-test\n",
    "#\n",
    "# data:  sample.a and sample.b\n",
    "# t = 2.1273, df = 18, p-value = 0.02374\n",
    "# alternative hypothesis: true difference in means is greater than 0\n",
    "# 97.5 percent confidence interval:\n",
    "#   0.01152883        Inf\n",
    "# sample estimates:\n",
    "#   mean of x mean of y\n",
    "# 5.20      4.27\n",
    "# decision: reject H0, since pvalue < 0.025, i.e. A seems to be better\n",
    "# than B"
   ]
  },
  {
   "cell_type": "code",
   "execution_count": 65,
   "metadata": {
    "vscode": {
     "languageId": "r"
    }
   },
   "outputs": [
    {
     "name": "stderr",
     "output_type": "stream",
     "text": [
      "\u001b[36mi\u001b[39m Using \u001b[34m\u001b[34m\"','\"\u001b[34m\u001b[39m as decimal and \u001b[34m\u001b[34m\"'.'\"\u001b[34m\u001b[39m as grouping mark. Use `read_delim()` for more control.\n",
      "\n",
      "\u001b[1mRows: \u001b[22m\u001b[34m50\u001b[39m \u001b[1mColumns: \u001b[22m\u001b[34m4\u001b[39m\n",
      "\u001b[36m--\u001b[39m \u001b[1mColumn specification\u001b[22m \u001b[36m--------------------------------------------------------\u001b[39m\n",
      "\u001b[1mDelimiter:\u001b[22m \";\"\n",
      "\u001b[32mdbl\u001b[39m (4): Score_1, Score_2, Change, Active\n",
      "\n",
      "\u001b[36mi\u001b[39m Use `spec()` to retrieve the full column specification for this data.\n",
      "\u001b[36mi\u001b[39m Specify the column types or set `show_col_types = FALSE` to quiet this message.\n"
     ]
    },
    {
     "data": {
      "text/html": [
       "<table class=\"dataframe\">\n",
       "<caption>A spec_tbl_df: 50 x 4</caption>\n",
       "<thead>\n",
       "\t<tr><th scope=col>Score_1</th><th scope=col>Score_2</th><th scope=col>Change</th><th scope=col>Active</th></tr>\n",
       "\t<tr><th scope=col>&lt;dbl&gt;</th><th scope=col>&lt;dbl&gt;</th><th scope=col>&lt;dbl&gt;</th><th scope=col>&lt;dbl&gt;</th></tr>\n",
       "</thead>\n",
       "<tbody>\n",
       "\t<tr><td>10</td><td> 0</td><td>10</td><td>1</td></tr>\n",
       "\t<tr><td>10</td><td> 4</td><td> 6</td><td>1</td></tr>\n",
       "\t<tr><td> 8</td><td> 7</td><td> 1</td><td>1</td></tr>\n",
       "\t<tr><td>10</td><td> 0</td><td>10</td><td>1</td></tr>\n",
       "\t<tr><td>10</td><td> 4</td><td> 6</td><td>1</td></tr>\n",
       "\t<tr><td>10</td><td> 2</td><td> 8</td><td>1</td></tr>\n",
       "\t<tr><td>10</td><td> 5</td><td> 5</td><td>1</td></tr>\n",
       "\t<tr><td>10</td><td> 5</td><td> 5</td><td>1</td></tr>\n",
       "\t<tr><td> 9</td><td> 3</td><td> 6</td><td>1</td></tr>\n",
       "\t<tr><td>10</td><td> 2</td><td> 8</td><td>1</td></tr>\n",
       "\t<tr><td> 9</td><td> 2</td><td> 7</td><td>1</td></tr>\n",
       "\t<tr><td>10</td><td> 2</td><td> 8</td><td>1</td></tr>\n",
       "\t<tr><td>10</td><td> 3</td><td> 7</td><td>1</td></tr>\n",
       "\t<tr><td>10</td><td> 4</td><td> 6</td><td>1</td></tr>\n",
       "\t<tr><td>10</td><td> 6</td><td> 4</td><td>1</td></tr>\n",
       "\t<tr><td> 8</td><td> 4</td><td> 4</td><td>1</td></tr>\n",
       "\t<tr><td>10</td><td> 3</td><td> 7</td><td>1</td></tr>\n",
       "\t<tr><td>10</td><td> 0</td><td>10</td><td>1</td></tr>\n",
       "\t<tr><td> 8</td><td> 2</td><td> 6</td><td>1</td></tr>\n",
       "\t<tr><td>10</td><td> 0</td><td>10</td><td>1</td></tr>\n",
       "\t<tr><td>10</td><td> 4</td><td> 6</td><td>1</td></tr>\n",
       "\t<tr><td> 9</td><td> 4</td><td> 5</td><td>1</td></tr>\n",
       "\t<tr><td>10</td><td> 5</td><td> 5</td><td>1</td></tr>\n",
       "\t<tr><td>10</td><td> 9</td><td> 1</td><td>1</td></tr>\n",
       "\t<tr><td>10</td><td>10</td><td> 0</td><td>1</td></tr>\n",
       "\t<tr><td>10</td><td>10</td><td> 0</td><td>1</td></tr>\n",
       "\t<tr><td>10</td><td>10</td><td> 0</td><td>1</td></tr>\n",
       "\t<tr><td>10</td><td>10</td><td> 0</td><td>1</td></tr>\n",
       "\t<tr><td> 8</td><td> 7</td><td> 1</td><td>1</td></tr>\n",
       "\t<tr><td> 8</td><td> 4</td><td> 4</td><td>2</td></tr>\n",
       "\t<tr><td>10</td><td> 7</td><td> 3</td><td>2</td></tr>\n",
       "\t<tr><td>10</td><td> 5</td><td> 5</td><td>2</td></tr>\n",
       "\t<tr><td>10</td><td> 8</td><td> 2</td><td>2</td></tr>\n",
       "\t<tr><td> 9</td><td> 8</td><td> 1</td><td>2</td></tr>\n",
       "\t<tr><td>10</td><td> 6</td><td> 4</td><td>2</td></tr>\n",
       "\t<tr><td> 9</td><td> 8</td><td> 1</td><td>2</td></tr>\n",
       "\t<tr><td>10</td><td>10</td><td> 0</td><td>2</td></tr>\n",
       "\t<tr><td>10</td><td>10</td><td> 0</td><td>2</td></tr>\n",
       "\t<tr><td> 7</td><td> 6</td><td> 1</td><td>2</td></tr>\n",
       "\t<tr><td>10</td><td>10</td><td> 0</td><td>2</td></tr>\n",
       "\t<tr><td> 8</td><td> 8</td><td> 0</td><td>2</td></tr>\n",
       "\t<tr><td>10</td><td>10</td><td> 0</td><td>2</td></tr>\n",
       "\t<tr><td>10</td><td>10</td><td> 0</td><td>2</td></tr>\n",
       "\t<tr><td>10</td><td>10</td><td> 0</td><td>2</td></tr>\n",
       "\t<tr><td>10</td><td>10</td><td> 0</td><td>2</td></tr>\n",
       "\t<tr><td> 9</td><td> 9</td><td> 0</td><td>2</td></tr>\n",
       "\t<tr><td>10</td><td> 9</td><td> 1</td><td>2</td></tr>\n",
       "\t<tr><td>10</td><td>10</td><td> 0</td><td>2</td></tr>\n",
       "\t<tr><td>10</td><td>10</td><td> 0</td><td>2</td></tr>\n",
       "\t<tr><td>10</td><td> 9</td><td> 1</td><td>2</td></tr>\n",
       "</tbody>\n",
       "</table>\n"
      ],
      "text/latex": [
       "A spec\\_tbl\\_df: 50 x 4\n",
       "\\begin{tabular}{llll}\n",
       " Score\\_1 & Score\\_2 & Change & Active\\\\\n",
       " <dbl> & <dbl> & <dbl> & <dbl>\\\\\n",
       "\\hline\n",
       "\t 10 &  0 & 10 & 1\\\\\n",
       "\t 10 &  4 &  6 & 1\\\\\n",
       "\t  8 &  7 &  1 & 1\\\\\n",
       "\t 10 &  0 & 10 & 1\\\\\n",
       "\t 10 &  4 &  6 & 1\\\\\n",
       "\t 10 &  2 &  8 & 1\\\\\n",
       "\t 10 &  5 &  5 & 1\\\\\n",
       "\t 10 &  5 &  5 & 1\\\\\n",
       "\t  9 &  3 &  6 & 1\\\\\n",
       "\t 10 &  2 &  8 & 1\\\\\n",
       "\t  9 &  2 &  7 & 1\\\\\n",
       "\t 10 &  2 &  8 & 1\\\\\n",
       "\t 10 &  3 &  7 & 1\\\\\n",
       "\t 10 &  4 &  6 & 1\\\\\n",
       "\t 10 &  6 &  4 & 1\\\\\n",
       "\t  8 &  4 &  4 & 1\\\\\n",
       "\t 10 &  3 &  7 & 1\\\\\n",
       "\t 10 &  0 & 10 & 1\\\\\n",
       "\t  8 &  2 &  6 & 1\\\\\n",
       "\t 10 &  0 & 10 & 1\\\\\n",
       "\t 10 &  4 &  6 & 1\\\\\n",
       "\t  9 &  4 &  5 & 1\\\\\n",
       "\t 10 &  5 &  5 & 1\\\\\n",
       "\t 10 &  9 &  1 & 1\\\\\n",
       "\t 10 & 10 &  0 & 1\\\\\n",
       "\t 10 & 10 &  0 & 1\\\\\n",
       "\t 10 & 10 &  0 & 1\\\\\n",
       "\t 10 & 10 &  0 & 1\\\\\n",
       "\t  8 &  7 &  1 & 1\\\\\n",
       "\t  8 &  4 &  4 & 2\\\\\n",
       "\t 10 &  7 &  3 & 2\\\\\n",
       "\t 10 &  5 &  5 & 2\\\\\n",
       "\t 10 &  8 &  2 & 2\\\\\n",
       "\t  9 &  8 &  1 & 2\\\\\n",
       "\t 10 &  6 &  4 & 2\\\\\n",
       "\t  9 &  8 &  1 & 2\\\\\n",
       "\t 10 & 10 &  0 & 2\\\\\n",
       "\t 10 & 10 &  0 & 2\\\\\n",
       "\t  7 &  6 &  1 & 2\\\\\n",
       "\t 10 & 10 &  0 & 2\\\\\n",
       "\t  8 &  8 &  0 & 2\\\\\n",
       "\t 10 & 10 &  0 & 2\\\\\n",
       "\t 10 & 10 &  0 & 2\\\\\n",
       "\t 10 & 10 &  0 & 2\\\\\n",
       "\t 10 & 10 &  0 & 2\\\\\n",
       "\t  9 &  9 &  0 & 2\\\\\n",
       "\t 10 &  9 &  1 & 2\\\\\n",
       "\t 10 & 10 &  0 & 2\\\\\n",
       "\t 10 & 10 &  0 & 2\\\\\n",
       "\t 10 &  9 &  1 & 2\\\\\n",
       "\\end{tabular}\n"
      ],
      "text/markdown": [
       "\n",
       "A spec_tbl_df: 50 x 4\n",
       "\n",
       "| Score_1 &lt;dbl&gt; | Score_2 &lt;dbl&gt; | Change &lt;dbl&gt; | Active &lt;dbl&gt; |\n",
       "|---|---|---|---|\n",
       "| 10 |  0 | 10 | 1 |\n",
       "| 10 |  4 |  6 | 1 |\n",
       "|  8 |  7 |  1 | 1 |\n",
       "| 10 |  0 | 10 | 1 |\n",
       "| 10 |  4 |  6 | 1 |\n",
       "| 10 |  2 |  8 | 1 |\n",
       "| 10 |  5 |  5 | 1 |\n",
       "| 10 |  5 |  5 | 1 |\n",
       "|  9 |  3 |  6 | 1 |\n",
       "| 10 |  2 |  8 | 1 |\n",
       "|  9 |  2 |  7 | 1 |\n",
       "| 10 |  2 |  8 | 1 |\n",
       "| 10 |  3 |  7 | 1 |\n",
       "| 10 |  4 |  6 | 1 |\n",
       "| 10 |  6 |  4 | 1 |\n",
       "|  8 |  4 |  4 | 1 |\n",
       "| 10 |  3 |  7 | 1 |\n",
       "| 10 |  0 | 10 | 1 |\n",
       "|  8 |  2 |  6 | 1 |\n",
       "| 10 |  0 | 10 | 1 |\n",
       "| 10 |  4 |  6 | 1 |\n",
       "|  9 |  4 |  5 | 1 |\n",
       "| 10 |  5 |  5 | 1 |\n",
       "| 10 |  9 |  1 | 1 |\n",
       "| 10 | 10 |  0 | 1 |\n",
       "| 10 | 10 |  0 | 1 |\n",
       "| 10 | 10 |  0 | 1 |\n",
       "| 10 | 10 |  0 | 1 |\n",
       "|  8 |  7 |  1 | 1 |\n",
       "|  8 |  4 |  4 | 2 |\n",
       "| 10 |  7 |  3 | 2 |\n",
       "| 10 |  5 |  5 | 2 |\n",
       "| 10 |  8 |  2 | 2 |\n",
       "|  9 |  8 |  1 | 2 |\n",
       "| 10 |  6 |  4 | 2 |\n",
       "|  9 |  8 |  1 | 2 |\n",
       "| 10 | 10 |  0 | 2 |\n",
       "| 10 | 10 |  0 | 2 |\n",
       "|  7 |  6 |  1 | 2 |\n",
       "| 10 | 10 |  0 | 2 |\n",
       "|  8 |  8 |  0 | 2 |\n",
       "| 10 | 10 |  0 | 2 |\n",
       "| 10 | 10 |  0 | 2 |\n",
       "| 10 | 10 |  0 | 2 |\n",
       "| 10 | 10 |  0 | 2 |\n",
       "|  9 |  9 |  0 | 2 |\n",
       "| 10 |  9 |  1 | 2 |\n",
       "| 10 | 10 |  0 | 2 |\n",
       "| 10 | 10 |  0 | 2 |\n",
       "| 10 |  9 |  1 | 2 |\n",
       "\n"
      ],
      "text/plain": [
       "   Score_1 Score_2 Change Active\n",
       "1  10       0      10     1     \n",
       "2  10       4       6     1     \n",
       "3   8       7       1     1     \n",
       "4  10       0      10     1     \n",
       "5  10       4       6     1     \n",
       "6  10       2       8     1     \n",
       "7  10       5       5     1     \n",
       "8  10       5       5     1     \n",
       "9   9       3       6     1     \n",
       "10 10       2       8     1     \n",
       "11  9       2       7     1     \n",
       "12 10       2       8     1     \n",
       "13 10       3       7     1     \n",
       "14 10       4       6     1     \n",
       "15 10       6       4     1     \n",
       "16  8       4       4     1     \n",
       "17 10       3       7     1     \n",
       "18 10       0      10     1     \n",
       "19  8       2       6     1     \n",
       "20 10       0      10     1     \n",
       "21 10       4       6     1     \n",
       "22  9       4       5     1     \n",
       "23 10       5       5     1     \n",
       "24 10       9       1     1     \n",
       "25 10      10       0     1     \n",
       "26 10      10       0     1     \n",
       "27 10      10       0     1     \n",
       "28 10      10       0     1     \n",
       "29  8       7       1     1     \n",
       "30  8       4       4     2     \n",
       "31 10       7       3     2     \n",
       "32 10       5       5     2     \n",
       "33 10       8       2     2     \n",
       "34  9       8       1     2     \n",
       "35 10       6       4     2     \n",
       "36  9       8       1     2     \n",
       "37 10      10       0     2     \n",
       "38 10      10       0     2     \n",
       "39  7       6       1     2     \n",
       "40 10      10       0     2     \n",
       "41  8       8       0     2     \n",
       "42 10      10       0     2     \n",
       "43 10      10       0     2     \n",
       "44 10      10       0     2     \n",
       "45 10      10       0     2     \n",
       "46  9       9       0     2     \n",
       "47 10       9       1     2     \n",
       "48 10      10       0     2     \n",
       "49 10      10       0     2     \n",
       "50 10       9       1     2     "
      ]
     },
     "metadata": {},
     "output_type": "display_data"
    }
   ],
   "source": [
    "# task 14\n",
    "library(tidyverse)\n",
    "\n",
    "# import the data\n",
    "data <- read_csv2(file = \"magnets_pain.csv\")\n",
    "data\n"
   ]
  },
  {
   "cell_type": "code",
   "execution_count": null,
   "metadata": {
    "vscode": {
     "languageId": "r"
    }
   },
   "outputs": [],
   "source": [
    "# side by side boxplot\n",
    "boxplot(data$Score_2~data$Active,\n",
    "        names = c(\"Treatment\", \"Control\"),\n",
    "        xlab = \"\", ylab = \"Pain rating\")"
   ]
  },
  {
   "cell_type": "code",
   "execution_count": null,
   "metadata": {
    "vscode": {
     "languageId": "r"
    }
   },
   "outputs": [],
   "source": [
    "# characteristic numbers\n",
    "data %>%\n",
    "  group_by(Active) %>%\n",
    "  summarise(Mean = mean(Score_2), Min = min(Score_2), Max = max(Score_2),\n",
    "            Q1 = quantile(Score_2, 0.25), Q2 = quantile(Score_2, 0.5),\n",
    "            Q3 = quantile(Score_2, 0.75), IQR = Q3-Q1, SD = sd(Score_2))\n",
    "# It seems to be that the treatment reduces pain"
   ]
  },
  {
   "cell_type": "code",
   "execution_count": null,
   "metadata": {
    "vscode": {
     "languageId": "r"
    }
   },
   "outputs": [],
   "source": [
    "# compare the variances: H0: sigma.treatment <= sigma.control\n",
    "treatment <-  data %>% filter(Active == 1) %>% \n",
    "  select(Score_2) %>% as_vector()\n",
    "control <-  data %>% filter(Active == 2) %>% \n",
    "  select(Score_2) %>% as_vector()\n",
    "\n",
    "var.test(x=treatment, y=control, alternative = \"greater\", conf.level = 0.95)\n",
    "# F test to compare two variances\n",
    "# \n",
    "# data:  treatment and control\n",
    "# F = 2.8598, num df = 28, denom df = 20, p-value = 0.008893\n",
    "# alternative hypothesis: true ratio of variances is greater than 1\n",
    "# 95 percent confidence interval:\n",
    "#   1.393891      Inf\n",
    "# sample estimates:\n",
    "#   ratio of variances \n",
    "# 2.859789 \n",
    "# decision: reject H0, since pvalue < 0.05\n",
    "\n",
    "# => The variances must be assumed to be unequal."
   ]
  },
  {
   "cell_type": "code",
   "execution_count": null,
   "metadata": {
    "vscode": {
     "languageId": "r"
    }
   },
   "outputs": [],
   "source": [
    "\n",
    "# H0: mu.treatment >= mu.control; H1: mu.treatment < mu.control\n",
    "t.test(x=treatment, y=control, alternative = \"less\", mu=0, var.equal = FALSE,\n",
    "       conf.level = 0.95)\n",
    "# Welch Two Sample t-test\n",
    "#\n",
    "# data:  treatment and control\n",
    "# t = -5.695, df = 46.418, p-value = 4.029e-07\n",
    "# alternative hypothesis: true difference in means is less than 0\n",
    "# 95 percent confidence interval:\n",
    "#   -Inf -2.855924\n",
    "# sample estimates:\n",
    "#   mean of x mean of y\n",
    "# 4.379310  8.428571\n",
    "\n",
    "# decision: since pvalue < alpha=0.5, H0 can be rejected"
   ]
  },
  {
   "cell_type": "markdown",
   "metadata": {},
   "source": []
  },
  {
   "cell_type": "code",
   "execution_count": 5,
   "metadata": {
    "vscode": {
     "languageId": "r"
    }
   },
   "outputs": [
    {
     "data": {
      "text/html": [
       "<table class=\"dataframe\">\n",
       "<caption>A tibble: 1 x 8</caption>\n",
       "<thead>\n",
       "\t<tr><th scope=col>mean.noa</th><th scope=col>mean.auc</th><th scope=col>var.noa</th><th scope=col>var.auc</th><th scope=col>sd.noa</th><th scope=col>sd.auc</th><th scope=col>var.coeff.noa</th><th scope=col>var.coeff.auc</th></tr>\n",
       "\t<tr><th scope=col>&lt;dbl&gt;</th><th scope=col>&lt;dbl&gt;</th><th scope=col>&lt;dbl&gt;</th><th scope=col>&lt;dbl&gt;</th><th scope=col>&lt;dbl&gt;</th><th scope=col>&lt;dbl&gt;</th><th scope=col>&lt;dbl&gt;</th><th scope=col>&lt;dbl&gt;</th></tr>\n",
       "</thead>\n",
       "<tbody>\n",
       "\t<tr><td>17.02923</td><td>10.995</td><td>3.095524</td><td>2.461227</td><td>1.75941</td><td>1.56883</td><td>0.1033171</td><td>0.1426857</td></tr>\n",
       "</tbody>\n",
       "</table>\n"
      ],
      "text/latex": [
       "A tibble: 1 x 8\n",
       "\\begin{tabular}{llllllll}\n",
       " mean.noa & mean.auc & var.noa & var.auc & sd.noa & sd.auc & var.coeff.noa & var.coeff.auc\\\\\n",
       " <dbl> & <dbl> & <dbl> & <dbl> & <dbl> & <dbl> & <dbl> & <dbl>\\\\\n",
       "\\hline\n",
       "\t 17.02923 & 10.995 & 3.095524 & 2.461227 & 1.75941 & 1.56883 & 0.1033171 & 0.1426857\\\\\n",
       "\\end{tabular}\n"
      ],
      "text/markdown": [
       "\n",
       "A tibble: 1 x 8\n",
       "\n",
       "| mean.noa &lt;dbl&gt; | mean.auc &lt;dbl&gt; | var.noa &lt;dbl&gt; | var.auc &lt;dbl&gt; | sd.noa &lt;dbl&gt; | sd.auc &lt;dbl&gt; | var.coeff.noa &lt;dbl&gt; | var.coeff.auc &lt;dbl&gt; |\n",
       "|---|---|---|---|---|---|---|---|\n",
       "| 17.02923 | 10.995 | 3.095524 | 2.461227 | 1.75941 | 1.56883 | 0.1033171 | 0.1426857 |\n",
       "\n"
      ],
      "text/plain": [
       "  mean.noa mean.auc var.noa  var.auc  sd.noa  sd.auc  var.coeff.noa\n",
       "1 17.02923 10.995   3.095524 2.461227 1.75941 1.56883 0.1033171    \n",
       "  var.coeff.auc\n",
       "1 0.1426857    "
      ]
     },
     "metadata": {},
     "output_type": "display_data"
    },
    {
     "data": {
      "text/plain": [
       "\n",
       "\tOne Sample t-test\n",
       "\n",
       "data:  os$noa\n",
       "t = 0.16237, df = 12, p-value = 0.8737\n",
       "alternative hypothesis: true mean is not equal to 16.95\n",
       "95 percent confidence interval:\n",
       " 15.96603 18.09243\n",
       "sample estimates:\n",
       "mean of x \n",
       " 17.02923 \n"
      ]
     },
     "metadata": {},
     "output_type": "display_data"
    },
    {
     "data": {
      "text/plain": [
       "\n",
       "\tOne Sample t-test\n",
       "\n",
       "data:  os$auc\n",
       "t = -14.203, df = 13, p-value = 1.352e-09\n",
       "alternative hypothesis: true mean is less than 16.95\n",
       "95 percent confidence interval:\n",
       "     -Inf 11.73753\n",
       "sample estimates:\n",
       "mean of x \n",
       "   10.995 \n"
      ]
     },
     "metadata": {},
     "output_type": "display_data"
    },
    {
     "data": {
      "text/plain": [
       "\n",
       "\tTwo Sample t-test\n",
       "\n",
       "data:  os$noa and os$auc\n",
       "t = 9.4205, df = 25, p-value = 5.274e-10\n",
       "alternative hypothesis: true difference in means is greater than 0\n",
       "95 percent confidence interval:\n",
       " 4.940094      Inf\n",
       "sample estimates:\n",
       "mean of x mean of y \n",
       " 17.02923  10.99500 \n"
      ]
     },
     "metadata": {},
     "output_type": "display_data"
    },
    {
     "data": {
      "text/plain": [
       "\n",
       "\tWelch Two Sample t-test\n",
       "\n",
       "data:  os$noa and os$auc\n",
       "t = 9.3792, df = 24.123, p-value = 8.066e-10\n",
       "alternative hypothesis: true difference in means is greater than 0\n",
       "95 percent confidence interval:\n",
       " 4.933733      Inf\n",
       "sample estimates:\n",
       "mean of x mean of y \n",
       " 17.02923  10.99500 \n"
      ]
     },
     "metadata": {},
     "output_type": "display_data"
    },
    {
     "data": {
      "text/plain": [
       "\n",
       "\tF test to compare two variances\n",
       "\n",
       "data:  os$noa and os$auc\n",
       "F = 1.2577, num df = 12, denom df = 13, p-value = 0.6856\n",
       "alternative hypothesis: true ratio of variances is not equal to 1\n",
       "95 percent confidence interval:\n",
       " 0.3988728 4.0740731\n",
       "sample estimates:\n",
       "ratio of variances \n",
       "          1.257716 \n"
      ]
     },
     "metadata": {},
     "output_type": "display_data"
    },
    {
     "name": "stderr",
     "output_type": "stream",
     "text": [
      "Warning message in wilcox.test.default(x = os$noa, y = os$auc, conf.level = 1 - :\n",
      "\"kann bei Bindungen keinen exakten p-Wert Berechnen\"\n"
     ]
    },
    {
     "data": {
      "text/plain": [
       "\n",
       "\tWilcoxon rank sum test with continuity correction\n",
       "\n",
       "data:  os$noa and os$auc\n",
       "W = 181, p-value = 1.347e-05\n",
       "alternative hypothesis: true location shift is not equal to 0\n"
      ]
     },
     "metadata": {},
     "output_type": "display_data"
    }
   ],
   "source": [
    "##########################################################################\n",
    "# Exercise: 1 sample t-test, 2 sample t-test, Welsh test, F-test,\n",
    "#           Wilcoxon-Mann-Whitney U-test\n",
    "#\n",
    "# file: infstat_2samples_testing_bookstore.R\n",
    "##########################################################################\n",
    "library(tidyverse)\n",
    "\n",
    "# Heumann, Schoemaker Aufgabe 10.3\n",
    "# Christian decide to purchase the new CD Bruce Springstee. His\n",
    "# first thought is to buy it online, via an online auction . He\n",
    "# discovers that he can also buy the CD, without bidding at an\n",
    "# auction, from the same online store. He also looks at the price at\n",
    "# an internet book staore which was recommended to him by a\n",
    "# friend. He notes down the following prices in Euro.\n",
    "\n",
    "ibs <- 16.95\n",
    "os <- tibble(noa = c(18.19, 16.98, 19.97, 16.98, 18.19, 15.99, 13.79, NA, \n",
    "                     15.90, 15.90, 15.90, 15.90, 19.97, 17.72),\n",
    "             auc = c(10.50, 12.00, 9.54, 10.55, 11.99, 9.30, 10.59, 10.50, \n",
    "                     10.01, 11.89, 11.03, 9.52, 15.49, 11.02)\n",
    ")\n",
    "# Calculate and interpret the the arithmetic mean, variance,\n",
    "# standard deviation and the coefficient of variation for the the\n",
    "# online, both for the auction and non-auction.\n",
    "os %>% summarise(\n",
    "  mean.noa = mean(noa, na.rm = TRUE), mean.auc = mean(auc, na.rm = TRUE),\n",
    "  var.noa = var(noa, na.rm = TRUE), var.auc = var(auc, na.rm = TRUE),\n",
    "  sd.noa = sd(noa, na.rm = TRUE), sd.auc = sd(auc, na.rm = TRUE),\n",
    "  var.coeff.noa = sd.noa/mean.noa, var.coeff.auc = sd.auc/mean.auc)\n",
    "# It seems to be evident, that the mean auction prices are lower than mean non-\n",
    "# auction prices. But the auction prices show a higher variability to the mean\n",
    "# for the auction prices\n",
    "\n",
    "# Test the hypothesis that the mean price at the online store\n",
    "# (no auction) is unequal 16.95 Euro (alpha = 0.05).\n",
    "alpha <- 0.05\n",
    "t.test(x = os$noa, alternative = \"two.sided\", mu = ibs, conf.level = 1-alpha)\n",
    "# One Sample t-test: t = 0.16237, df = 12, p-value = 0.8737\n",
    "# conclusion: there is no evidence, that the price at the online store differ from 16.95\n",
    "\n",
    "# Calculate a confidence interval for the mean price at the\n",
    "# online store (no auction) and interpret your findings in the\n",
    "# light of the hypothesis in b).\n",
    "# 95 percent confidence interval:  15.96603 18.09243\n",
    "\n",
    "# Test the hypothesis that the mean price at the online store\n",
    "# (auction) is less than 16.95 Euro (alpha=0.05).\n",
    "t.test(x = os$auc, alternative = \"less\", mu = ibs, conf.level = 1-alpha)\n",
    "# One Sample t-test: t = -14.203, df = 13, p-value = 1.352e-09\n",
    "# conclusion: the mean auction prices are lower than the price from the\n",
    "# book store\n",
    "\n",
    "# Test the hypothesis that the mean non-auction price is\n",
    "# higher than the mean auction price. Assume (i) that the\n",
    "# variances are equal in both samples and (ii) that the varainces\n",
    "# are unequal.\n",
    "# i) equal variances\n",
    "t.test(x = os$noa, y = os$auc, alternative = \"greater\", paired = FALSE,\n",
    "       var.equal = TRUE, conf.level = 1-alpha)\n",
    "# Two Sample t-test: t = 9.4205, df = 25, p-value = 5.274e-10\n",
    "# conclusion: mean auction prices are lower than the mean non-auction prices\n",
    "# i) not equal variances\n",
    "t.test(x = os$noa, y = os$auc, alternative = \"greater\", paired = FALSE,\n",
    "       var.equal = FALSE, conf.level = 1-alpha)\n",
    "# Welch Two Sample t-test: 9.3792, df = 24.123, p-value = 8.066e-10\n",
    "# conclusion: same as before\n",
    "\n",
    "# Test the hypothesis that the variance of the non\n",
    "# auction-price is unequal to the variance of the auction price\n",
    "# (alpha=0.05).\n",
    "var.test(x = os$noa, y = os$auc, alternative = \"two.sided\", conf.level = 1-alpha)\n",
    "# F test to compare two variances: F = 1.2577, num df = 12, denom df = 13, \n",
    "#                                  p-value = 0.6856\n",
    "# conclusion: no evidence, that the variances are different; this justifies the \n",
    "# use of 2 sample t.test with equal variances. In practice, it is best to use the\n",
    "# Welsh-test rather than the t-test\n",
    "\n",
    "# Use the Wilcoxon-Mann-Whitney U-test to compare the location\n",
    "# of the auction and non-auction prices.\n",
    "wilcox.test(x = os$noa, y = os$auc, conf.level = 1-alpha)\n",
    "# Wilcoxon rank sum test with continuity correction: W = 181, p-value = 1.347e-05\n",
    "# conclusion: the locations are shifted"
   ]
  },
  {
   "cell_type": "code",
   "execution_count": 6,
   "metadata": {
    "vscode": {
     "languageId": "r"
    }
   },
   "outputs": [
    {
     "data": {
      "text/html": [
       "5.2"
      ],
      "text/latex": [
       "5.2"
      ],
      "text/markdown": [
       "5.2"
      ],
      "text/plain": [
       "[1] 5.2"
      ]
     },
     "metadata": {},
     "output_type": "display_data"
    },
    {
     "data": {
      "text/html": [
       "1.00444444444444"
      ],
      "text/latex": [
       "1.00444444444444"
      ],
      "text/markdown": [
       "1.00444444444444"
      ],
      "text/plain": [
       "[1] 1.004444"
      ]
     },
     "metadata": {},
     "output_type": "display_data"
    },
    {
     "data": {
      "text/html": [
       "4.27"
      ],
      "text/latex": [
       "4.27"
      ],
      "text/markdown": [
       "4.27"
      ],
      "text/plain": [
       "[1] 4.27"
      ]
     },
     "metadata": {},
     "output_type": "display_data"
    },
    {
     "data": {
      "text/html": [
       "0.906777777777778"
      ],
      "text/latex": [
       "0.906777777777778"
      ],
      "text/markdown": [
       "0.906777777777778"
      ],
      "text/plain": [
       "[1] 0.9067778"
      ]
     },
     "metadata": {},
     "output_type": "display_data"
    },
    {
     "data": {
      "text/plain": [
       "\n",
       "\tF test to compare two variances\n",
       "\n",
       "data:  x and y\n",
       "F = 1.1077, num df = 9, denom df = 9, p-value = 0.8814\n",
       "alternative hypothesis: true ratio of variances is not equal to 1\n",
       "90 percent confidence interval:\n",
       " 0.3484569 3.5212834\n",
       "sample estimates:\n",
       "ratio of variances \n",
       "          1.107707 \n"
      ]
     },
     "metadata": {},
     "output_type": "display_data"
    },
    {
     "data": {
      "text/plain": [
       "\n",
       "\tTwo Sample t-test\n",
       "\n",
       "data:  x and y\n",
       "t = 2.1273, df = 18, p-value = 0.02374\n",
       "alternative hypothesis: true difference in means is greater than 0\n",
       "97.5 percent confidence interval:\n",
       " 0.01152883        Inf\n",
       "sample estimates:\n",
       "mean of x mean of y \n",
       "     5.20      4.27 \n"
      ]
     },
     "metadata": {},
     "output_type": "display_data"
    }
   ],
   "source": [
    "##########################################################################\n",
    "# Exercise: 2 unpaired sample t-test and F-test\n",
    "# \n",
    "# file: infstat_2samples_testing_cattle_feed.R\n",
    "##########################################################################\n",
    "\n",
    "# Aufgabensammlung Lehn, Wegmann Aufgabe 130\n",
    "# On one farm, 10 cattle were fed (group 1) were fed concentrates of\n",
    "# composition A, and the remaining 10 cattle (group 2) were fed the\n",
    "# conventional conventional feed of composition B. After a certain\n",
    "# time weight gain was noted in both groups: \n",
    "\n",
    "x <- c(7.2,4.1,5.5,4.5,5.7,3.8,4.6,6.0,5.2,5.4)\n",
    "y <- c(5.3,4.4,5.0,3.5,3.9,4.9,5.6,2.5,4.0,3.6)\n",
    "\n",
    "# Assuming that weight gain can be described by independent\n",
    "# random variables that are identically normally distributed in\n",
    "# both cases, use an appropriate test at level alpha=0.1 to\n",
    "# test whether to reject the assumption that weight gain from\n",
    "# administration of composition A concentrate has the same\n",
    "# dispersion as weight gain from administration of the\n",
    "# conventional composition B diet. \n",
    "\n",
    "mean(x); var(x) \n",
    "mean(y); var(y) \n",
    "alpha <- 0.1\n",
    "var.test(x,y,alternative=\"two.sided\",conf.level=1-alpha)\n",
    "# do not reject H0, that the variances are equal\n",
    "\n",
    "# Assuming that weight gain can be described by independent\n",
    "# random variables with equal variance, identically normally\n",
    "# distributed in each of the two cases, use an appropriate test at\n",
    "# the level alpha=0.05 to test whether the hypothesis that\n",
    "# weight gain with administration of concentrate of composition A\n",
    "# is not greater than weight gain with administration of the\n",
    "# conventional diet of composition B is correct. \n",
    "\n",
    "alpha <- 0.025\n",
    "t.test(x,y,alternative=\"greater\",paired=FALSE,var.equal=TRUE,\n",
    "       conf.level=1-alpha)\n",
    "# reject H0, that the mu.x < mu.y since p-value = 0.0181\n"
   ]
  },
  {
   "cell_type": "code",
   "execution_count": 7,
   "metadata": {
    "vscode": {
     "languageId": "r"
    }
   },
   "outputs": [
    {
     "data": {
      "text/plain": [
       "\n",
       "\tWelch Two Sample t-test\n",
       "\n",
       "data:  P1 and P2\n",
       "t = -0.033723, df = 9.0898, p-value = 0.4869\n",
       "alternative hypothesis: true difference in means is less than 0\n",
       "95 percent confidence interval:\n",
       "    -Inf 63.9567\n",
       "sample estimates:\n",
       "mean of x mean of y \n",
       "    101.8     103.0 \n"
      ]
     },
     "metadata": {},
     "output_type": "display_data"
    },
    {
     "name": "stderr",
     "output_type": "stream",
     "text": [
      "Warning message in wilcox.test.default(x = P1, y = P2, alternative = \"greater\", :\n",
      "\"kann bei Bindungen keinen exakten p-Wert Berechnen\"\n"
     ]
    },
    {
     "data": {
      "text/plain": [
       "\n",
       "\tWilcoxon rank sum test with continuity correction\n",
       "\n",
       "data:  P1 and P2\n",
       "W = 78, p-value = 0.01875\n",
       "alternative hypothesis: true location shift is greater than 0\n"
      ]
     },
     "metadata": {},
     "output_type": "display_data"
    }
   ],
   "source": [
    "##########################################################################\n",
    "# Exercise: Welsh test, Wilcoxon-Mann-Whitney U-test\n",
    "# \n",
    "# file: infstat_2samples_testing_comp_game.R\n",
    "##########################################################################\n",
    "library(tidyverse)\n",
    "\n",
    "# Heumann, Schoemaker Aufgabe 10.6}\n",
    "\n",
    "# Two friends play a computer game and each of them repeats the same\n",
    "# level 10 times. The score obtained are:\n",
    "  \n",
    "P1 <- c(91,101,112,99,108,88,99,105,111,104)\n",
    "P2 <- c(261,47,40,29,64,6,87,47,98,351)\n",
    "\n",
    "# Player 2 insists that he is a better player and suggests to\n",
    "# compare their performance. Use an appropriate test\n",
    "# (alpha=0.05$) to test this hypothesis.\n",
    "# 2 sample Welsh test\n",
    "alpha <- 0.05\n",
    "t.test(x = P1, y = P2, alternative = \"less\", paired = FALSE, \n",
    "       var.equal = FALSE, conf.level = 1-alpha)\n",
    "# p-value = 0.4869\n",
    "# conclusion: no evidence to that P2 is better than P1\n",
    "\n",
    "# Player 1 insists that he is a better player. He propose to\n",
    "# not focus on the mean and to use the Wlicoxon-Mann-Whitney\n",
    "# U-test for comparison (alpha=00.5). What are the advantages\n",
    "# and disadvantages of using this test compared with a)?\n",
    "wilcox.test(x = P1, y = P2, alternative = \"greater\", conf.level = 1-alpha)\n",
    "# p-value = 0.01875\n",
    "# conclusion: evidence that P1 is better than P2\n",
    "# The U-test has the advantage of not being focused to the mean. The two\n",
    "# sample are clearly different: P2 scores with much more variability and \n",
    "# his distribution is not symmetric and normally distributed. Since the\n",
    "# sample is small, and the assumption of a normal distribution is likely \n",
    "# not met, it makes no sense to use a t-test. Moreover, because the\n",
    "# distribution is skewed the mean may not be a sensible measure of\n",
    "# comparison. A drawback of the U-test is that it uses only the ranks and \n",
    "# not the raw data: it thus uses less informaton than the the t-test, \n",
    "# which would be preferred when comparing means of a reasonably sized sample.\n",
    "\n"
   ]
  },
  {
   "cell_type": "code",
   "execution_count": 13,
   "metadata": {
    "vscode": {
     "languageId": "r"
    }
   },
   "outputs": [],
   "source": [
    "##########################################################################\n",
    "# Exercise: Wilcoxon Mann Whitney U-Test\n",
    "# \n",
    "# file: infstat_2samples_testing_comp_therapies.R\n",
    "##########################################################################\n",
    "library(tidyverse)\n",
    "# Two therapies for a specific febrile illness are to be\n",
    "# be compared. For this purpose, 4 and 6 randomly selected\n",
    "# randomly selected patients and the duration of treatment in hours\n",
    "# required for the patient to be  necessary for the patient to be\n",
    "# free of fever. \n",
    "T1 <- c(89.75,94.5,98.75,101.5)\n",
    "T2 <- c(89,91,94,96.75,99.5,101.25)\n",
    "n1 <- length(T1)\n",
    "n2 <- length(T2)\n",
    "# It is assumed that the given measured values are a realization of\n",
    "# of independent random variables $X_1, ..., X_4, Y_1, ..., Y_6$ and\n",
    "# these random variables and these random variables have the\n",
    "# continuous distribution function $F$ and $G$, respectively. Test\n",
    "# the hypothesis $H_0 : F=G$ at the level $\\alpha = 0.05$ by\n",
    "# applying an appropriate nonparametric test.\n",
    "\n",
    "# Determining the ranks\n",
    "sample <- tibble(\n",
    "  grp = c(rep(\"T1\",n1), rep(\"T2\",n2)),\n",
    "  dur = c(T1,T2),\n",
    "  rang = rank(dur)\n",
    ")\n",
    "\n",
    "# Determining of R.T1 and R.T2\n",
    "sample %>% filter(grp == \"T1\") %>% summarise(sum(rang)) %>% \n",
    "  as.numeric() -> R.T1 # 24\n",
    "sample %>% filter(grp == \"T2\") %>% summarise(sum(rang)) %>% \n",
    "  as.numeric() -> R.T2 # 31"
   ]
  },
  {
   "cell_type": "code",
   "execution_count": 15,
   "metadata": {
    "vscode": {
     "languageId": "r"
    }
   },
   "outputs": [
    {
     "ename": "ERROR",
     "evalue": "Error in eval(expr, envir, enclos): Objekt 'U' nicht gefunden\n",
     "output_type": "error",
     "traceback": [
      "Error in eval(expr, envir, enclos): Objekt 'U' nicht gefunden\nTraceback:\n"
     ]
    }
   ],
   "source": [
    "##########################################################################\n",
    "# Exercise: Wilcoxon Mann Whitney U-Test\n",
    "# \n",
    "# file: infstat_2samples_testing_comp_therapies.R\n",
    "##########################################################################\n",
    "library(tidyverse)\n",
    "# Two therapies for a specific febrile illness are to be\n",
    "# be compared. For this purpose, 4 and 6 randomly selected\n",
    "# randomly selected patients and the duration of treatment in hours\n",
    "# required for the patient to be  necessary for the patient to be\n",
    "# free of fever. \n",
    "T1 <- c(89.75,94.5,98.75,101.5)\n",
    "T2 <- c(89,91,94,96.75,99.5,101.25)\n",
    "n1 <- length(T1)\n",
    "n2 <- length(T2)\n",
    "# It is assumed that the given measured values are a realization of\n",
    "# of independent random variables $X_1, ..., X_4, Y_1, ..., Y_6$ and\n",
    "# these random variables and these random variables have the\n",
    "# continuous distribution function $F$ and $G$, respectively. Test\n",
    "# the hypothesis $H_0 : F=G$ at the level $\\alpha = 0.05$ by\n",
    "# applying an appropriate nonparametric test.\n",
    "\n",
    "# Determining the ranks\n",
    "sample <- tibble(\n",
    "  grp = c(rep(\"T1\",n1), rep(\"T2\",n2)),\n",
    "  dur = c(T1,T2),\n",
    "  rang = rank(dur)\n",
    ")\n",
    "\n",
    "# Determining of R.T1 and R.T2\n",
    "sample %>% filter(grp == \"T1\") %>% summarise(sum(rang)) %>% \n",
    "  as.numeric() -> R.T1 # 24\n",
    "sample %>% filter(grp == \"T2\") %>% summarise(sum(rang)) %>% \n",
    "  as.numeric() -> R.T2 # 31\n",
    "\n",
    "# test statistic\n",
    "U.T1 <- n1*n2 +n1*(1+n1)*0.5 - R.T1 # 10\n",
    "U.T2 <- n1*n2 +n2*(1+n2)*0.5 - R.T2 # 14\n",
    "t.xy <- (U - n1*n2*0.5)/sqrt(n1*n2*(n1+n2+1)/12)\n",
    "t.xy\n",
    "\n",
    "alpha <- 0.05\n",
    "# Distribution of the Wilcoxon Rank Sum Statistic\n",
    "qwilcox(c(alpha/2,1-alpha/2),n1,n2) # 3;21\n",
    "\n",
    "# decision: H0: location shift = 0\n",
    "(qwilcox(alpha/2,n1,n2) < U.T2 ) & (U.T2 < qwilcox(1-alpha/2,n1,n2)) # true -> no rejection\n",
    "wilcox.test(T1,T2, alternative = \"two.sided\", paired = FALSE, \n",
    "            conf.level = 1-alpha) # p-value = 0.7612"
   ]
  },
  {
   "cell_type": "code",
   "execution_count": 16,
   "metadata": {
    "vscode": {
     "languageId": "r"
    }
   },
   "outputs": [
    {
     "data": {
      "text/html": [
       "<style>\n",
       ".list-inline {list-style: none; margin:0; padding: 0}\n",
       ".list-inline>li {display: inline-block}\n",
       ".list-inline>li:not(:last-child)::after {content: \"\\00b7\"; padding: 0 .5ex}\n",
       "</style>\n",
       "<ol class=list-inline><li>3</li><li>21</li></ol>\n"
      ],
      "text/latex": [
       "\\begin{enumerate*}\n",
       "\\item 3\n",
       "\\item 21\n",
       "\\end{enumerate*}\n"
      ],
      "text/markdown": [
       "1. 3\n",
       "2. 21\n",
       "\n",
       "\n"
      ],
      "text/plain": [
       "[1]  3 21"
      ]
     },
     "metadata": {},
     "output_type": "display_data"
    },
    {
     "data": {
      "text/plain": [
       "\n",
       "\tWilcoxon rank sum exact test\n",
       "\n",
       "data:  T1 and T2\n",
       "W = 14, p-value = 0.7619\n",
       "alternative hypothesis: true location shift is not equal to 0\n"
      ]
     },
     "metadata": {},
     "output_type": "display_data"
    }
   ],
   "source": [
    "# Load required library\n",
    "library(tidyverse)\n",
    "\n",
    "# Define the data\n",
    "T1 <- c(89.75, 94.5, 98.75, 101.5)\n",
    "T2 <- c(89, 91, 94, 96.75, 99.5, 101.25)\n",
    "n1 <- length(T1)\n",
    "n2 <- length(T2)\n",
    "\n",
    "# Combine data into a dataframe\n",
    "sample <- tibble(\n",
    "  grp = c(rep(\"T1\", n1), rep(\"T2\", n2)),\n",
    "  dur = c(T1, T2),\n",
    "  rang = rank(dur)\n",
    ")\n",
    "\n",
    "# Calculate ranks for T1 and T2\n",
    "R.T1 <- sum(sample %>% filter(grp == \"T1\") %>% pull(rang))\n",
    "R.T2 <- sum(sample %>% filter(grp == \"T2\") %>% pull(rang))\n",
    "\n",
    "# Calculate the test statistic U\n",
    "U.T1 <- n1 * n2 + n1 * (1 + n1) * 0.5 - R.T1\n",
    "U.T2 <- n1 * n2 + n2 * (1 + n2) * 0.5 - R.T2\n",
    "\n",
    "# Calculate t.xy\n",
    "t.xy <- (U.T1 - n1 * n2 * 0.5) / sqrt(n1 * n2 * (n1 + n2 + 1) / 12)\n",
    "\n",
    "# Set significance level\n",
    "alpha <- 0.05\n",
    "\n",
    "# Determine critical values of the Wilcoxon Rank Sum Statistic\n",
    "qwilcox(c(alpha/2, 1 - alpha/2), n1, n2)  # critical values: 3; 21\n",
    "\n",
    "# Decision: H0: location shift = 0\n",
    "no_reject <- (qwilcox(alpha/2, n1, n2) < U.T2) & (U.T2 < qwilcox(1 - alpha/2, n1, n2))\n",
    "\n",
    "# Perform Wilcoxon Rank Sum Test\n",
    "wilcox.test(T1, T2, alternative = \"two.sided\", paired = FALSE, conf.level = 1 - alpha)  # p-value = 0.7612\n"
   ]
  },
  {
   "cell_type": "code",
   "execution_count": 18,
   "metadata": {
    "vscode": {
     "languageId": "r"
    }
   },
   "outputs": [
    {
     "data": {
      "text/plain": [
       "\n",
       "\tWilcoxon rank sum exact test\n",
       "\n",
       "data:  T1 and T2\n",
       "W = 14, p-value = 0.7619\n",
       "alternative hypothesis: true location shift is not equal to 0\n"
      ]
     },
     "metadata": {},
     "output_type": "display_data"
    }
   ],
   "source": [
    "# Perform Wilcoxon Mann-Whitney U-Test\n",
    "wilcox.test(T1, T2, alternative = \"two.sided\")"
   ]
  },
  {
   "cell_type": "code",
   "execution_count": 19,
   "metadata": {
    "vscode": {
     "languageId": "r"
    }
   },
   "outputs": [
    {
     "data": {
      "text/plain": [
       "\n",
       "\tPaired t-test\n",
       "\n",
       "data:  water and alc\n",
       "t = 5.0186, df = 9, p-value = 0.0007205\n",
       "alternative hypothesis: true mean difference is not equal to 0\n",
       "95 percent confidence interval:\n",
       " 1.043561 2.756439\n",
       "sample estimates:\n",
       "mean difference \n",
       "            1.9 \n"
      ]
     },
     "metadata": {},
     "output_type": "display_data"
    }
   ],
   "source": [
    "##########################################################################\n",
    "# Exercise: 2 paired sample t-test\n",
    "# \n",
    "# file: infstat_2samples_testing_effect_alc.R\n",
    "##########################################################################\n",
    "\n",
    "# 2 dependent random variable with unknown but equal variances\n",
    "# A (hypothetical) experiment is conducted on the effect of\n",
    "# alcohol on perceptual motor ability. Ten subjects are each tested\n",
    "# twice, once after having two drinks and once after having two\n",
    "# glasses of water. The two tests were on two different days to give\n",
    "# the alcohol a chance to wear off. Half of the subjects were given\n",
    "# alcohol first and half were given water first. The scores of the 10\n",
    "# subjects are shown below. The first number for each subject is their\n",
    "# performance in the \"water\" condition. Higher scores reflect better\n",
    "# performance. Test to see if alcohol had a significant effect. Report\n",
    "# the t and p values. \n",
    "\n",
    "water <- c(16,15,11,20,19,14,13,15,14,16)\n",
    "alc <-   c(13,13,10,18,17,11,10,15,11,16)\n",
    "\n",
    "# H0: mu = 0, H1: mu <> 0\n",
    "t.test(water, alc, alternative = \"two.sided\",\n",
    "       mu = 0, paired = TRUE, var.equal = TRUE,\n",
    "       conf.level = 0.95)\n",
    "\n",
    "# reject H0, since p-value = 0.0007205"
   ]
  },
  {
   "cell_type": "code",
   "execution_count": 20,
   "metadata": {
    "vscode": {
     "languageId": "r"
    }
   },
   "outputs": [
    {
     "data": {
      "text/plain": [
       "\n",
       "\tChi-squared test for given probabilities\n",
       "\n",
       "data:  fam\n",
       "X-squared = 4.4737, df = 4, p-value = 0.3457\n"
      ]
     },
     "metadata": {},
     "output_type": "display_data"
    }
   ],
   "source": [
    "##########################################################################\n",
    "# Exercise: chi^2 goodness of fit test: discrete distrobution\n",
    "# \n",
    "# file: infstat_2samples_testing_girls_family.R\n",
    "##########################################################################\n",
    "\n",
    "# In 380 randomly selected families with four children each\n",
    "# it is investigated how many of them are girls. The result is the\n",
    "# following findings:\n",
    "girls <- 0:4\n",
    "fam <- c(25,95,150,80,30)\n",
    "# Does this finding correspond to the hypothesis that the variable\n",
    "# ``number of girls in families with four children each'' follows a\n",
    "# Binomial distribution with n = 4 and p = 0.5?  Test this\n",
    "# hypothesis at a significance level of 0.1!\n",
    "\n",
    "# H0: fam ~ B(n=4,p=0.5)\n",
    "alpha <- 0.1\n",
    "chisq.test(fam, p = dbinom(0:4,size = 4, prob = 0.5))\n",
    "# do not reject H0, since p-value = 0.3457\n",
    "  \n"
   ]
  },
  {
   "cell_type": "code",
   "execution_count": 21,
   "metadata": {
    "vscode": {
     "languageId": "r"
    }
   },
   "outputs": [
    {
     "data": {
      "text/html": [
       "<table class=\"dataframe\">\n",
       "<caption>A tibble: 11 x 4</caption>\n",
       "<thead>\n",
       "\t<tr><th scope=col>from</th><th scope=col>to</th><th scope=col>no</th><th scope=col>mid</th></tr>\n",
       "\t<tr><th scope=col>&lt;dbl&gt;</th><th scope=col>&lt;dbl&gt;</th><th scope=col>&lt;dbl&gt;</th><th scope=col>&lt;dbl&gt;</th></tr>\n",
       "</thead>\n",
       "<tbody>\n",
       "\t<tr><td>150</td><td>155</td><td>20</td><td>152.5</td></tr>\n",
       "\t<tr><td>155</td><td>160</td><td>30</td><td>157.5</td></tr>\n",
       "\t<tr><td>160</td><td>165</td><td>55</td><td>162.5</td></tr>\n",
       "\t<tr><td>165</td><td>170</td><td>60</td><td>167.5</td></tr>\n",
       "\t<tr><td>170</td><td>175</td><td>85</td><td>172.5</td></tr>\n",
       "\t<tr><td>175</td><td>180</td><td>80</td><td>177.5</td></tr>\n",
       "\t<tr><td>180</td><td>185</td><td>50</td><td>182.5</td></tr>\n",
       "\t<tr><td>185</td><td>190</td><td>40</td><td>187.5</td></tr>\n",
       "\t<tr><td>190</td><td>195</td><td>30</td><td>192.5</td></tr>\n",
       "\t<tr><td>195</td><td>200</td><td>15</td><td>197.5</td></tr>\n",
       "\t<tr><td>200</td><td>205</td><td>10</td><td>202.5</td></tr>\n",
       "</tbody>\n",
       "</table>\n"
      ],
      "text/latex": [
       "A tibble: 11 x 4\n",
       "\\begin{tabular}{llll}\n",
       " from & to & no & mid\\\\\n",
       " <dbl> & <dbl> & <dbl> & <dbl>\\\\\n",
       "\\hline\n",
       "\t 150 & 155 & 20 & 152.5\\\\\n",
       "\t 155 & 160 & 30 & 157.5\\\\\n",
       "\t 160 & 165 & 55 & 162.5\\\\\n",
       "\t 165 & 170 & 60 & 167.5\\\\\n",
       "\t 170 & 175 & 85 & 172.5\\\\\n",
       "\t 175 & 180 & 80 & 177.5\\\\\n",
       "\t 180 & 185 & 50 & 182.5\\\\\n",
       "\t 185 & 190 & 40 & 187.5\\\\\n",
       "\t 190 & 195 & 30 & 192.5\\\\\n",
       "\t 195 & 200 & 15 & 197.5\\\\\n",
       "\t 200 & 205 & 10 & 202.5\\\\\n",
       "\\end{tabular}\n"
      ],
      "text/markdown": [
       "\n",
       "A tibble: 11 x 4\n",
       "\n",
       "| from &lt;dbl&gt; | to &lt;dbl&gt; | no &lt;dbl&gt; | mid &lt;dbl&gt; |\n",
       "|---|---|---|---|\n",
       "| 150 | 155 | 20 | 152.5 |\n",
       "| 155 | 160 | 30 | 157.5 |\n",
       "| 160 | 165 | 55 | 162.5 |\n",
       "| 165 | 170 | 60 | 167.5 |\n",
       "| 170 | 175 | 85 | 172.5 |\n",
       "| 175 | 180 | 80 | 177.5 |\n",
       "| 180 | 185 | 50 | 182.5 |\n",
       "| 185 | 190 | 40 | 187.5 |\n",
       "| 190 | 195 | 30 | 192.5 |\n",
       "| 195 | 200 | 15 | 197.5 |\n",
       "| 200 | 205 | 10 | 202.5 |\n",
       "\n"
      ],
      "text/plain": [
       "   from to  no mid  \n",
       "1  150  155 20 152.5\n",
       "2  155  160 30 157.5\n",
       "3  160  165 55 162.5\n",
       "4  165  170 60 167.5\n",
       "5  170  175 85 172.5\n",
       "6  175  180 80 177.5\n",
       "7  180  185 50 182.5\n",
       "8  185  190 40 187.5\n",
       "9  190  195 30 192.5\n",
       "10 195  200 15 197.5\n",
       "11 200  205 10 202.5"
      ]
     },
     "metadata": {},
     "output_type": "display_data"
    },
    {
     "data": {
      "text/html": [
       "TRUE"
      ],
      "text/latex": [
       "TRUE"
      ],
      "text/markdown": [
       "TRUE"
      ],
      "text/plain": [
       "[1] TRUE"
      ]
     },
     "metadata": {},
     "output_type": "display_data"
    },
    {
     "data": {
      "text/html": [
       "0.0597899812383982"
      ],
      "text/latex": [
       "0.0597899812383982"
      ],
      "text/markdown": [
       "0.0597899812383982"
      ],
      "text/plain": [
       "[1] 0.05978998"
      ]
     },
     "metadata": {},
     "output_type": "display_data"
    }
   ],
   "source": [
    "##########################################################################\n",
    "# Exercise: chi^2 goodness of fit test: discrete distribution\n",
    "# \n",
    "# file: infstat_2samples_testing_height_mean.R\n",
    "##########################################################################\n",
    "library(tidyverse)\n",
    "# The hypothesis is to be tested that the height of adult\n",
    "# of adult German men is normally distributed (significance level\n",
    "# 10%). For this purpose, a random sample is collected, which leads\n",
    "# to the following findings: \n",
    "results <- tibble(\n",
    "  from = seq(from=150, to=200, by=5),\n",
    "  to = seq(from=155, to=205, by=5),\n",
    "  no = c(20,30,55,60,85,80,50,40,30,15,10),\n",
    "  mid = 0.5*(from+to)\n",
    ")\n",
    "results\n",
    "\n",
    "# estimation of mean and sd\n",
    "est.mean <- mean(rep(x=results$mid,times=results$no))\n",
    "est.sd <- sd(rep(x=results$mid,times=results$no))\n",
    "\n",
    "# expected number of observation\n",
    "est.p <- pnorm(results$to, mean = est.mean, sd = est.sd) -\n",
    "  pnorm(results$from, mean = est.mean, sd = est.sd)\n",
    "est.no <- est.p * sum(results$no)\n",
    "\n",
    "# H0: no normally distributed\n",
    "chi2 <- sum((results$no-est.no)^2/est.no) \n",
    "# decision: reject H0, if chi^2 (1-alpha) quantile of chi^2 \n",
    "# distribution with k = number of classes - 2 -1\n",
    "chi2 > qchisq(1-0.1, df = length(results$from)-2-1)\n",
    "1-pchisq(chi2,df = length(results$from)-2-1)\n",
    "# reject H0, since p-value = 0.0598"
   ]
  },
  {
   "cell_type": "code",
   "execution_count": 22,
   "metadata": {
    "vscode": {
     "languageId": "r"
    }
   },
   "outputs": [
    {
     "data": {
      "text/plain": [
       "\n",
       "\tTwo Sample t-test\n",
       "\n",
       "data:  x and y\n",
       "t = -2.1444, df = 58, p-value = 0.0181\n",
       "alternative hypothesis: true difference in means is less than 0\n",
       "95 percent confidence interval:\n",
       "       -Inf -0.3714405\n",
       "sample estimates:\n",
       "mean of x mean of y \n",
       " 8.304000  9.988571 \n"
      ]
     },
     "metadata": {},
     "output_type": "display_data"
    },
    {
     "data": {
      "text/plain": [
       "\n",
       "\tWelch Two Sample t-test\n",
       "\n",
       "data:  x and y\n",
       "t = -2.2004, df = 55.976, p-value = 0.01596\n",
       "alternative hypothesis: true difference in means is less than 0\n",
       "95 percent confidence interval:\n",
       "       -Inf -0.4041207\n",
       "sample estimates:\n",
       "mean of x mean of y \n",
       " 8.304000  9.988571 \n"
      ]
     },
     "metadata": {},
     "output_type": "display_data"
    }
   ],
   "source": [
    "##########################################################################\n",
    "# Exercise: 2 sample t-test, Welsh-test\n",
    "# \n",
    "# file: infstat_2samples_testing_javelin_throw.R\n",
    "##########################################################################\n",
    "\n",
    "# 2 independent random variable with unknown but equal resp. not equal variances\n",
    "\n",
    "# Aufgabensammlung Lehn: Nr. 128\n",
    "# To test two training methods A and B for javelin throw, 60\n",
    "# untrained physical education students were randomly divided into\n",
    "# two groups of m=25 and n=35 students, respectively. Before the\n",
    "# start of the training phase First, a performance test was conducted\n",
    "# and for each student the distance of the best of two throws was\n",
    "# noted. After completion of the training phase, during which the\n",
    "# students in group 1 were method A and the students of group 2 were\n",
    "# trained according to method B, was trained, a corresponding\n",
    "# performance test was performed. The following results were obtained\n",
    "# for the differences between the values obtained in the second and\n",
    "# the first performance test:\n",
    "x <- c(7.06,11.84,9.28,7.92,13.5,3.98,3.82,7.34,8.7,9.24,4.86,3.32,\n",
    "       12.78,12,5.24,11.4,6.56,9.04,7.72,9.26,7.88,8.6,9.3,8.42,8.54)\n",
    "y <- c(8.68,6,6.3,10.24,10.88,5.36,7.82,4.7,9.02,9.78,6.9,\n",
    "       5.8,13.56,10.32,13.3,11.38,7.94,10.74,13.68,14.92,7.42,10.36,\n",
    "       10.54,5.22,13.74,12.98,10.34,10.02,17.8,13.04,5.2,9.4,11.18,\n",
    "       12.68,12.36)\n",
    "# Which hypothesis do you have to test if you want to show that the\n",
    "# Method B is better than Method A? Perform an corresponding test at\n",
    "# the level alpha = 0.05. \n",
    "\n",
    "\n",
    "# H0: mu.x >= mu.y, H1: mu.x < mu.y\n",
    "\n",
    "##########################################################################\n",
    "# case: equal variances\n",
    "alpha <- 0.05\n",
    "t.test(x,y,alternative=\"less\",mu=0, paired=FALSE,var.equal=TRUE,\n",
    "       conf.level=1-alpha)\n",
    "# reject H0, since p-value = 0.0181\n",
    "\n",
    "##########################################################################\n",
    "# case: not equal variances\n",
    "alpha <- 0.05\n",
    "t.test(x,y,alternative=\"less\",mu=0,paired=FALSE,var.equal=FALSE,\n",
    "       conf.level=1-alpha)\n",
    "# reject H0, since p-value = 0.01596\n"
   ]
  },
  {
   "cell_type": "code",
   "execution_count": 23,
   "metadata": {
    "vscode": {
     "languageId": "r"
    }
   },
   "outputs": [
    {
     "data": {
      "text/html": [
       "<table class=\"dataframe\">\n",
       "<caption>A matrix: 4 x 4 of type dbl</caption>\n",
       "<thead>\n",
       "\t<tr><th></th><th scope=col></th><th scope=col></th><th scope=col></th><th scope=col>Sum</th></tr>\n",
       "</thead>\n",
       "<tbody>\n",
       "\t<tr><th scope=row></th><td>12</td><td> 5</td><td> 5</td><td>22</td></tr>\n",
       "\t<tr><th scope=row></th><td> 5</td><td>10</td><td> 2</td><td>17</td></tr>\n",
       "\t<tr><th scope=row></th><td> 4</td><td> 4</td><td> 7</td><td>15</td></tr>\n",
       "\t<tr><th scope=row>Sum</th><td>21</td><td>19</td><td>14</td><td>54</td></tr>\n",
       "</tbody>\n",
       "</table>\n"
      ],
      "text/latex": [
       "A matrix: 4 x 4 of type dbl\n",
       "\\begin{tabular}{r|llll}\n",
       "  &  &  &  & Sum\\\\\n",
       "\\hline\n",
       "\t & 12 &  5 &  5 & 22\\\\\n",
       "\t &  5 & 10 &  2 & 17\\\\\n",
       "\t &  4 &  4 &  7 & 15\\\\\n",
       "\tSum & 21 & 19 & 14 & 54\\\\\n",
       "\\end{tabular}\n"
      ],
      "text/markdown": [
       "\n",
       "A matrix: 4 x 4 of type dbl\n",
       "\n",
       "| <!--/--> | <!----> | <!----> | <!----> | Sum |\n",
       "|---|---|---|---|---|\n",
       "| <!----> | 12 |  5 |  5 | 22 |\n",
       "| <!----> |  5 | 10 |  2 | 17 |\n",
       "| <!----> |  4 |  4 |  7 | 15 |\n",
       "| Sum | 21 | 19 | 14 | 54 |\n",
       "\n"
      ],
      "text/plain": [
       "             Sum\n",
       "    12  5  5 22 \n",
       "     5 10  2 17 \n",
       "     4  4  7 15 \n",
       "Sum 21 19 14 54 "
      ]
     },
     "metadata": {},
     "output_type": "display_data"
    },
    {
     "name": "stderr",
     "output_type": "stream",
     "text": [
      "Warning message in chisq.test(x = conttab):\n",
      "\"Chi-Quadrat-Approximation kann inkorrekt sein\"\n"
     ]
    },
    {
     "data": {
      "text/plain": [
       "\n",
       "\tPearson's Chi-squared test\n",
       "\n",
       "data:  conttab\n",
       "X-squared = 10.226, df = 4, p-value = 0.03679\n"
      ]
     },
     "metadata": {},
     "output_type": "display_data"
    },
    {
     "data": {
      "text/html": [
       "<table class=\"dataframe\">\n",
       "<caption>A matrix: 4 x 4 of type dbl</caption>\n",
       "<thead>\n",
       "\t<tr><th></th><th scope=col></th><th scope=col></th><th scope=col></th><th scope=col>Sum</th></tr>\n",
       "</thead>\n",
       "<tbody>\n",
       "\t<tr><th scope=row></th><td>12</td><td> 5</td><td> 5</td><td>22</td></tr>\n",
       "\t<tr><th scope=row></th><td> 5</td><td>10</td><td> 2</td><td>17</td></tr>\n",
       "\t<tr><th scope=row></th><td> 4</td><td> 4</td><td> 7</td><td>15</td></tr>\n",
       "\t<tr><th scope=row>Sum</th><td>21</td><td>19</td><td>14</td><td>54</td></tr>\n",
       "</tbody>\n",
       "</table>\n"
      ],
      "text/latex": [
       "A matrix: 4 x 4 of type dbl\n",
       "\\begin{tabular}{r|llll}\n",
       "  &  &  &  & Sum\\\\\n",
       "\\hline\n",
       "\t & 12 &  5 &  5 & 22\\\\\n",
       "\t &  5 & 10 &  2 & 17\\\\\n",
       "\t &  4 &  4 &  7 & 15\\\\\n",
       "\tSum & 21 & 19 & 14 & 54\\\\\n",
       "\\end{tabular}\n"
      ],
      "text/markdown": [
       "\n",
       "A matrix: 4 x 4 of type dbl\n",
       "\n",
       "| <!--/--> | <!----> | <!----> | <!----> | Sum |\n",
       "|---|---|---|---|---|\n",
       "| <!----> | 12 |  5 |  5 | 22 |\n",
       "| <!----> |  5 | 10 |  2 | 17 |\n",
       "| <!----> |  4 |  4 |  7 | 15 |\n",
       "| Sum | 21 | 19 | 14 | 54 |\n",
       "\n"
      ],
      "text/plain": [
       "             Sum\n",
       "    12  5  5 22 \n",
       "     5 10  2 17 \n",
       "     4  4  7 15 \n",
       "Sum 21 19 14 54 "
      ]
     },
     "metadata": {},
     "output_type": "display_data"
    },
    {
     "data": {
      "text/html": [
       "<table class=\"dataframe\">\n",
       "<caption>A matrix: 4 x 4 of type dbl</caption>\n",
       "<thead>\n",
       "\t<tr><th></th><th scope=col></th><th scope=col></th><th scope=col></th><th scope=col>Sum</th></tr>\n",
       "</thead>\n",
       "<tbody>\n",
       "\t<tr><th scope=row></th><td> 8.555556</td><td> 7.740741</td><td> 5.703704</td><td>22</td></tr>\n",
       "\t<tr><th scope=row></th><td> 6.611111</td><td> 5.981481</td><td> 4.407407</td><td>17</td></tr>\n",
       "\t<tr><th scope=row></th><td> 5.833333</td><td> 5.277778</td><td> 3.888889</td><td>15</td></tr>\n",
       "\t<tr><th scope=row>Sum</th><td>21.000000</td><td>19.000000</td><td>14.000000</td><td>54</td></tr>\n",
       "</tbody>\n",
       "</table>\n"
      ],
      "text/latex": [
       "A matrix: 4 x 4 of type dbl\n",
       "\\begin{tabular}{r|llll}\n",
       "  &  &  &  & Sum\\\\\n",
       "\\hline\n",
       "\t &  8.555556 &  7.740741 &  5.703704 & 22\\\\\n",
       "\t &  6.611111 &  5.981481 &  4.407407 & 17\\\\\n",
       "\t &  5.833333 &  5.277778 &  3.888889 & 15\\\\\n",
       "\tSum & 21.000000 & 19.000000 & 14.000000 & 54\\\\\n",
       "\\end{tabular}\n"
      ],
      "text/markdown": [
       "\n",
       "A matrix: 4 x 4 of type dbl\n",
       "\n",
       "| <!--/--> | <!----> | <!----> | <!----> | Sum |\n",
       "|---|---|---|---|---|\n",
       "| <!----> |  8.555556 |  7.740741 |  5.703704 | 22 |\n",
       "| <!----> |  6.611111 |  5.981481 |  4.407407 | 17 |\n",
       "| <!----> |  5.833333 |  5.277778 |  3.888889 | 15 |\n",
       "| Sum | 21.000000 | 19.000000 | 14.000000 | 54 |\n",
       "\n"
      ],
      "text/plain": [
       "                                  Sum\n",
       "     8.555556  7.740741  5.703704 22 \n",
       "     6.611111  5.981481  4.407407 17 \n",
       "     5.833333  5.277778  3.888889 15 \n",
       "Sum 21.000000 19.000000 14.000000 54 "
      ]
     },
     "metadata": {},
     "output_type": "display_data"
    },
    {
     "data": {
      "text/html": [
       "<strong>X-squared:</strong> 10.2257287604037"
      ],
      "text/latex": [
       "\\textbf{X-squared:} 10.2257287604037"
      ],
      "text/markdown": [
       "**X-squared:** 10.2257287604037"
      ],
      "text/plain": [
       "X-squared \n",
       " 10.22573 "
      ]
     },
     "metadata": {},
     "output_type": "display_data"
    },
    {
     "data": {
      "text/html": [
       "<strong>X-squared:</strong> TRUE"
      ],
      "text/latex": [
       "\\textbf{X-squared:} TRUE"
      ],
      "text/markdown": [
       "**X-squared:** TRUE"
      ],
      "text/plain": [
       "X-squared \n",
       "     TRUE "
      ]
     },
     "metadata": {},
     "output_type": "display_data"
    },
    {
     "data": {
      "text/html": [
       "0.0367921992462963"
      ],
      "text/latex": [
       "0.0367921992462963"
      ],
      "text/markdown": [
       "0.0367921992462963"
      ],
      "text/plain": [
       "[1] 0.0367922"
      ]
     },
     "metadata": {},
     "output_type": "display_data"
    }
   ],
   "source": [
    "##########################################################################\n",
    "# Exercise: chi^2 test:association of two qualitative numbers\n",
    "# \n",
    "# file: infstat_2samples_testing_number_position.R\n",
    "##########################################################################\n",
    "library(tidyverse)\n",
    "\n",
    "# Some parents of the West Bay little leaguers think that they\n",
    "# are noticing a pattern. There seems to be a relationship between\n",
    "# the number on the kids' jerseys and their position. These parents\n",
    "# decide to record what they see. The hypothetical data appear\n",
    "# below. Conduct a Chi Square test to determine if the parents'\n",
    "# suspicion that there is a relationship between jersey number and\n",
    "# position is right. \n",
    "\n",
    "conttab <- matrix(c(12,5,5,5,10,2,4,4,7), nrow = 3, ncol = 3, byrow = TRUE)\n",
    "\n",
    "conttab %>% addmargins()\n",
    "\n",
    "# chi^2 test: association of two qualitative variables\n",
    "# H0: no association\n",
    "res <- chisq.test(x=conttab)\n",
    "res\n",
    "# contingencytable\n",
    "res$observed %>% addmargins()\n",
    "# indifferenctable\n",
    "res$expected %>% addmargins()\n",
    "# Chi^2\n",
    "res$statistic\n",
    "# decision: reject H0, if chi^2 > (1-alpha) quantile of chi^2 \n",
    "# distribution with k = (3-1)(3-1)=4\n",
    "res$statistic > qchisq(0.95,df=4)\n",
    "# reject H0, since p-value = 0.03679\n",
    "1-pchisq(10.22573, df=4)\n",
    "  \n"
   ]
  },
  {
   "cell_type": "code",
   "execution_count": 24,
   "metadata": {
    "vscode": {
     "languageId": "r"
    }
   },
   "outputs": [
    {
     "data": {
      "text/plain": [
       "\n",
       "\tF test to compare two variances\n",
       "\n",
       "data:  x and y\n",
       "F = 3.634, num df = 9, denom df = 9, p-value = 0.03404\n",
       "alternative hypothesis: true ratio of variances is greater than 1\n",
       "95 percent confidence interval:\n",
       " 1.143167      Inf\n",
       "sample estimates:\n",
       "ratio of variances \n",
       "          3.634007 \n"
      ]
     },
     "metadata": {},
     "output_type": "display_data"
    }
   ],
   "source": [
    "##########################################################################\n",
    "# Exercise: F-test\n",
    "# \n",
    "# file: infstat_2samples_testing_scale.R\n",
    "##########################################################################\n",
    "# Aufgabensammlung Lehn, Wegmann 132\n",
    "\n",
    "# A company manager is considering whether to purchase a new type B\n",
    "# scale on the market. A new acquisition should be made only if the\n",
    "# type B scale is better than the type A scale used up to now. For\n",
    "# the evaluation of the quality of a scale, the scatter of weighing\n",
    "# results should be used. be used. In weight measurements for one\n",
    "# and the same weight the following results were obtained the\n",
    "# following measured values for the individual scales: \n",
    "x <- c(102.4,101.3,97.6,98.2,102.3,99.1,97.8,103.9,101.6,100.1)\n",
    "y <- c(98.4,101.7,100.5,99.3,100.6,99.6,102.2,101.1,99.9,101.0)\n",
    "# Under suitable normal distribution assumptions, check with a test\n",
    "# with alpha=0.05 to determine whether a new acquisition makes\n",
    "# sense.\n",
    "\n",
    "# F-test: H0: sigma.x <= sigma.y\n",
    "var.test(x, y, alternative = \"greater\", conf.level=0.95)\n",
    "# reject H0, since p-value = 0.03404"
   ]
  },
  {
   "cell_type": "code",
   "execution_count": 25,
   "metadata": {
    "vscode": {
     "languageId": "r"
    }
   },
   "outputs": [
    {
     "data": {
      "text/html": [
       "1.02778248774012"
      ],
      "text/latex": [
       "1.02778248774012"
      ],
      "text/markdown": [
       "1.02778248774012"
      ],
      "text/plain": [
       "[1] 1.027782"
      ]
     },
     "metadata": {},
     "output_type": "display_data"
    },
    {
     "data": {
      "text/html": [
       "-1.64485362695147"
      ],
      "text/latex": [
       "-1.64485362695147"
      ],
      "text/markdown": [
       "-1.64485362695147"
      ],
      "text/plain": [
       "[1] -1.644854"
      ]
     },
     "metadata": {},
     "output_type": "display_data"
    },
    {
     "data": {
      "text/html": [
       "0.847973922138453"
      ],
      "text/latex": [
       "0.847973922138453"
      ],
      "text/markdown": [
       "0.847973922138453"
      ],
      "text/plain": [
       "[1] 0.8479739"
      ]
     },
     "metadata": {},
     "output_type": "display_data"
    }
   ],
   "source": [
    "##########################################################################\n",
    "# Exercise: 2 sample Gauss test\n",
    "#\n",
    "# file: infstat_2samples_testing_screwnuts.R\n",
    "##########################################################################\n",
    "\n",
    "# Aufgabensammlung Lehn 121\n",
    "# Two machines produce screw-nuts. The diameters of the screw-nuts\n",
    "# from machine 1 resp. 1  are normally distributed with standard deviation\n",
    "# sigma_1 = 0.5 resp. sigma_2=0.6 and unknown means.\n",
    "\n",
    "sx <- 0.5; sy <- 0.6\n",
    "x <- c(5.46,5.34,4.34,4.82,4.40,5.12,5.69,5.53,4.77,5.82)\n",
    "y <- c(5.45,5.31,4.11,4.69,4.18,5.05,5.72,5.54,4.62,5.89,5.60,\n",
    "       5.19,3.31,4.43,5.30,4.09)\n",
    "nx <- length(x); ny <- length(y)\n",
    "test.stat <- (mean(x)-mean(y))/sqrt(sx^2/nx + sy^2/ny)\n",
    "alpha <- 0.05\n",
    "\n",
    "# one sided: reject H0 mx >= my,if test.stat < quantile\n",
    "quantile <- qnorm(alpha,0,1)\n",
    "pvalue <- pnorm(test.stat,0,1)\n",
    "test.stat;quantile;pvalue # 1.027782; -1.644854; 0.8479739"
   ]
  },
  {
   "cell_type": "code",
   "execution_count": 26,
   "metadata": {
    "vscode": {
     "languageId": "r"
    }
   },
   "outputs": [
    {
     "data": {
      "text/html": [
       "<table class=\"dataframe\">\n",
       "<caption>A matrix: 3 x 5 of type dbl</caption>\n",
       "<thead>\n",
       "\t<tr><th></th><th scope=col></th><th scope=col></th><th scope=col></th><th scope=col></th><th scope=col>Sum</th></tr>\n",
       "</thead>\n",
       "<tbody>\n",
       "\t<tr><th scope=row></th><td>202</td><td>125</td><td>180</td><td>211</td><td> 718</td></tr>\n",
       "\t<tr><th scope=row></th><td>135</td><td>160</td><td>541</td><td>674</td><td>1510</td></tr>\n",
       "\t<tr><th scope=row>Sum</th><td>337</td><td>285</td><td>721</td><td>885</td><td>2228</td></tr>\n",
       "</tbody>\n",
       "</table>\n"
      ],
      "text/latex": [
       "A matrix: 3 x 5 of type dbl\n",
       "\\begin{tabular}{r|lllll}\n",
       "  &  &  &  &  & Sum\\\\\n",
       "\\hline\n",
       "\t & 202 & 125 & 180 & 211 &  718\\\\\n",
       "\t & 135 & 160 & 541 & 674 & 1510\\\\\n",
       "\tSum & 337 & 285 & 721 & 885 & 2228\\\\\n",
       "\\end{tabular}\n"
      ],
      "text/markdown": [
       "\n",
       "A matrix: 3 x 5 of type dbl\n",
       "\n",
       "| <!--/--> | <!----> | <!----> | <!----> | <!----> | Sum |\n",
       "|---|---|---|---|---|---|\n",
       "| <!----> | 202 | 125 | 180 | 211 |  718 |\n",
       "| <!----> | 135 | 160 | 541 | 674 | 1510 |\n",
       "| Sum | 337 | 285 | 721 | 885 | 2228 |\n",
       "\n"
      ],
      "text/plain": [
       "                    Sum \n",
       "    202 125 180 211  718\n",
       "    135 160 541 674 1510\n",
       "Sum 337 285 721 885 2228"
      ]
     },
     "metadata": {},
     "output_type": "display_data"
    },
    {
     "data": {
      "text/html": [
       "<table class=\"dataframe\">\n",
       "<caption>A matrix: 2 x 4 of type dbl</caption>\n",
       "<tbody>\n",
       "\t<tr><td>202</td><td>125</td><td>180</td><td>211</td></tr>\n",
       "\t<tr><td>135</td><td>160</td><td>541</td><td>674</td></tr>\n",
       "</tbody>\n",
       "</table>\n"
      ],
      "text/latex": [
       "A matrix: 2 x 4 of type dbl\n",
       "\\begin{tabular}{llll}\n",
       "\t 202 & 125 & 180 & 211\\\\\n",
       "\t 135 & 160 & 541 & 674\\\\\n",
       "\\end{tabular}\n"
      ],
      "text/markdown": [
       "\n",
       "A matrix: 2 x 4 of type dbl\n",
       "\n",
       "| 202 | 125 | 180 | 211 |\n",
       "| 135 | 160 | 541 | 674 |\n",
       "\n"
      ],
      "text/plain": [
       "     [,1] [,2] [,3] [,4]\n",
       "[1,] 202  125  180  211 \n",
       "[2,] 135  160  541  674 "
      ]
     },
     "metadata": {},
     "output_type": "display_data"
    },
    {
     "data": {
      "text/html": [
       "<table class=\"dataframe\">\n",
       "<caption>A matrix: 2 x 4 of type dbl</caption>\n",
       "<tbody>\n",
       "\t<tr><td>108.6023</td><td> 91.8447</td><td>232.351</td><td>285.202</td></tr>\n",
       "\t<tr><td>228.3977</td><td>193.1553</td><td>488.649</td><td>599.798</td></tr>\n",
       "</tbody>\n",
       "</table>\n"
      ],
      "text/latex": [
       "A matrix: 2 x 4 of type dbl\n",
       "\\begin{tabular}{llll}\n",
       "\t 108.6023 &  91.8447 & 232.351 & 285.202\\\\\n",
       "\t 228.3977 & 193.1553 & 488.649 & 599.798\\\\\n",
       "\\end{tabular}\n"
      ],
      "text/markdown": [
       "\n",
       "A matrix: 2 x 4 of type dbl\n",
       "\n",
       "| 108.6023 |  91.8447 | 232.351 | 285.202 |\n",
       "| 228.3977 | 193.1553 | 488.649 | 599.798 |\n",
       "\n"
      ],
      "text/plain": [
       "     [,1]     [,2]     [,3]    [,4]   \n",
       "[1,] 108.6023  91.8447 232.351 285.202\n",
       "[2,] 228.3977 193.1553 488.649 599.798"
      ]
     },
     "metadata": {},
     "output_type": "display_data"
    },
    {
     "data": {
      "text/html": [
       "<strong>X-squared:</strong> 182.063173691428"
      ],
      "text/latex": [
       "\\textbf{X-squared:} 182.063173691428"
      ],
      "text/markdown": [
       "**X-squared:** 182.063173691428"
      ],
      "text/plain": [
       "X-squared \n",
       " 182.0632 "
      ]
     },
     "metadata": {},
     "output_type": "display_data"
    },
    {
     "data": {
      "text/html": [
       "3.16155926004654e-39"
      ],
      "text/latex": [
       "3.16155926004654e-39"
      ],
      "text/markdown": [
       "3.16155926004654e-39"
      ],
      "text/plain": [
       "[1] 3.161559e-39"
      ]
     },
     "metadata": {},
     "output_type": "display_data"
    }
   ],
   "source": [
    "##########################################################################\n",
    "# Exercise: chi^2 homogeneity and independence test\n",
    "# \n",
    "# file: infstat_2samples_testing_titanic.R\n",
    "##########################################################################\n",
    "library(tidyverse)\n",
    "\n",
    "# The passengers rescued from the titanic depending on the travel class is\n",
    "# given in the following table\n",
    "cont.tab <- matrix(c(202,125,180,211,135,160,541,674),\n",
    "                   nrow = 2, ncol = 4, byrow = TRUE)\n",
    "cont.tab %>% addmargins\n",
    "\n",
    "# Check with an approbriate test whether the ``rescue status'' and the\n",
    "# ``travel class'' are independent and whether the conditional\n",
    "# probabilities of ``rescue status'' given ``travel class'' differ\n",
    "# by ``travel class''.\n",
    "\n",
    "# chi^2 indenpendence and homogeneity test\n",
    "res <- chisq.test(cont.tab)\n",
    "# contingency table\n",
    "res$observed\n",
    "# indifference table\n",
    "res$expected\n",
    "# chi^2\n",
    "res$statistic\n",
    "# p-value\n",
    "res$p.value\n",
    "\n",
    "# The chi^2 independence test and chi^2 homogeneity are technically identical.\n",
    "# The null hypothesis are quite different:\n",
    "# chi^2 independence test: H0 = \"rescue status\" and \"travel class\" are \n",
    "#                                independent\n",
    "# chi^2 homogeneity test: H0: the proportion of passengers rescued is identical\n",
    "#                             for the different travel classes\n",
    "# conclusion: since the p-value is rather low both null hypothesis can be\n",
    "# rejected\n",
    "\n",
    "\n"
   ]
  },
  {
   "cell_type": "code",
   "execution_count": 27,
   "metadata": {
    "vscode": {
     "languageId": "r"
    }
   },
   "outputs": [
    {
     "data": {
      "text/html": [
       "TRUE"
      ],
      "text/latex": [
       "TRUE"
      ],
      "text/markdown": [
       "TRUE"
      ],
      "text/plain": [
       "[1] TRUE"
      ]
     },
     "metadata": {},
     "output_type": "display_data"
    },
    {
     "data": {
      "text/plain": [
       "\n",
       "\tExact binomial test\n",
       "\n",
       "data:  def and n\n",
       "number of successes = 31, number of trials = 230, p-value = 0.05414\n",
       "alternative hypothesis: true probability of success is greater than 0.1\n",
       "95 percent confidence interval:\n",
       " 0.09926772 1.00000000\n",
       "sample estimates:\n",
       "probability of success \n",
       "             0.1347826 \n"
      ]
     },
     "metadata": {},
     "output_type": "display_data"
    },
    {
     "data": {
      "text/html": [
       "31"
      ],
      "text/latex": [
       "31"
      ],
      "text/markdown": [
       "31"
      ],
      "text/plain": [
       "[1] 31"
      ]
     },
     "metadata": {},
     "output_type": "display_data"
    },
    {
     "data": {
      "text/html": [
       "-1.9685131127437"
      ],
      "text/latex": [
       "-1.9685131127437"
      ],
      "text/markdown": [
       "-1.9685131127437"
      ],
      "text/plain": [
       "[1] -1.968513"
      ]
     },
     "metadata": {},
     "output_type": "display_data"
    },
    {
     "data": {
      "text/html": [
       "TRUE"
      ],
      "text/latex": [
       "TRUE"
      ],
      "text/markdown": [
       "TRUE"
      ],
      "text/plain": [
       "[1] TRUE"
      ]
     },
     "metadata": {},
     "output_type": "display_data"
    },
    {
     "data": {
      "text/plain": [
       "\n",
       "\tFisher's Exact Test for Count Data\n",
       "\n",
       "data:  cont.tab\n",
       "p-value = 0.03346\n",
       "alternative hypothesis: true odds ratio is less than 1\n",
       "95 percent confidence interval:\n",
       " 0.0000000 0.9310897\n",
       "sample estimates:\n",
       "odds ratio \n",
       " 0.4330219 \n"
      ]
     },
     "metadata": {},
     "output_type": "display_data"
    }
   ],
   "source": [
    "##########################################################################\n",
    "# Exercise: exact Fisher test and normal approximation\n",
    "# \n",
    "# file: infstat_2samples_testing_tshirts.R\n",
    "##########################################################################\n",
    "# Heumann, Schoemaker Aufgabe 10.5\n",
    "\n",
    "# A company producing clothing often finds deficient T-shirts among\n",
    "# its production.\n",
    "# The company's controlling department decides that the production is no longer\n",
    "# profitable when there are more than 10% deficient T-shirts. A sample of 230 \n",
    "# shirts yield 35 shirts which contain deficiencies. Use the approximate \n",
    "# binomial test and the exact binomial test to decide whether the shirt \n",
    "# production is profitable or not (alpha=0.05). \n",
    "n <- 230; def <- 31\n",
    "\n",
    "# H0: p <= 0.1, H1: p > 0.1\n",
    "p0 <- 0.1; r <- def/n\n",
    "# one sample test for p: normal approximation\n",
    "# test statistics\n",
    "t.x <- (r-p0)/sqrt(p0*(1-p0)/n)\n",
    "# decision: reject H0, if t.x > 1-alpha quantile of the N(0,1)-distr.\n",
    "alpha <- 0.05\n",
    "t.x > qnorm(1-alpha)\n",
    "# rejection of H0\n",
    "\n",
    "# one sample test for p: exact binomial test\n",
    "binom.test(x = def, n = n, p = p0, \n",
    "           alternative = \"greater\", conf.level = 1-alpha)\n",
    "qbinom(1-alpha, size = n, prob = p0) # 95% quantile of B(n,p0) is 31\n",
    "# no rejection of H0, since p-value = 0.05414\n",
    "# Since the exact binomial test is more precise than the approximate binomial\n",
    "# test , we follow the result of the exact binomila test.\n",
    "\n",
    "# The company is offered a new cutting machine. To test whether the change of \n",
    "# machine helps to improve the production quality, 115 sample T-shirts are \n",
    "# evaluated, 7 of which have deficiencies. Use the 2 sample binomial test to \n",
    "# decide whether the new machine yields improvement or not (alpha =0.05)\n",
    "\n",
    "n1 <- 230; def1 <- 30\n",
    "n2 <- 115; def2 <- 7\n",
    "phat <- (def1+def2)/(n1+n2)\n",
    "\n",
    "# H0: p2 >= p1, H1: p2 < p1\n",
    "\n",
    "# two sample test for p: normal approximation\n",
    "# test statistics\n",
    "T <- (def2/n2 - def1/n1)/sqrt(phat*(1-phat)*(1/n1 + 1/n2))\n",
    "T\n",
    "# decision: reject H0, if T < alpha quantile of N(0,1)\n",
    "T < qnorm(alpha) # rejection of H0\n",
    "\n",
    "# two sample test for p: fisher's exact test\n",
    "# contingency table:      machine2 machine1\n",
    "#                    def      7     31\n",
    "#                    ok       109   199\n",
    "cont.tab <- matrix(c(def2,def1,n2-def2,n1-def1),\n",
    "                   nrow = 2, ncol = 2, byrow = TRUE)\n",
    "fisher.test(cont.tab, alternative = \"less\", conf.level = 1-alpha)\n",
    "# rejection of H0, since p-value = 0.02465"
   ]
  },
  {
   "cell_type": "code",
   "execution_count": null,
   "metadata": {
    "vscode": {
     "languageId": "r"
    }
   },
   "outputs": [],
   "source": []
  }
 ],
 "metadata": {
  "kernelspec": {
   "display_name": "R",
   "language": "R",
   "name": "ir"
  },
  "language_info": {
   "codemirror_mode": "r",
   "file_extension": ".r",
   "mimetype": "text/x-r-source",
   "name": "R",
   "pygments_lexer": "r",
   "version": "4.3.3"
  }
 },
 "nbformat": 4,
 "nbformat_minor": 2
}
