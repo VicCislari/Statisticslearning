{
 "cells": [
  {
   "cell_type": "code",
   "execution_count": 1,
   "metadata": {
    "vscode": {
     "languageId": "r"
    }
   },
   "outputs": [
    {
     "data": {
      "text/html": [
       "0.0447342552599143"
      ],
      "text/latex": [
       "0.0447342552599143"
      ],
      "text/markdown": [
       "0.0447342552599143"
      ],
      "text/plain": [
       "[1] 0.04473426"
      ]
     },
     "metadata": {},
     "output_type": "display_data"
    },
    {
     "data": {
      "text/html": [
       "0.0496611370397811"
      ],
      "text/latex": [
       "0.0496611370397811"
      ],
      "text/markdown": [
       "0.0496611370397811"
      ],
      "text/plain": [
       "[1] 0.04966114"
      ]
     },
     "metadata": {},
     "output_type": "display_data"
    },
    {
     "data": {
      "text/html": [
       "320"
      ],
      "text/latex": [
       "320"
      ],
      "text/markdown": [
       "320"
      ],
      "text/plain": [
       "[1] 320"
      ]
     },
     "metadata": {},
     "output_type": "display_data"
    },
    {
     "data": {
      "text/html": [
       "320"
      ],
      "text/latex": [
       "320"
      ],
      "text/markdown": [
       "320"
      ],
      "text/plain": [
       "[1] 320"
      ]
     },
     "metadata": {},
     "output_type": "display_data"
    },
    {
     "data": {
      "text/html": [
       "348.362234650024"
      ],
      "text/latex": [
       "348.362234650024"
      ],
      "text/markdown": [
       "348.362234650024"
      ],
      "text/plain": [
       "[1] 348.3622"
      ]
     },
     "metadata": {},
     "output_type": "display_data"
    },
    {
     "data": {
      "text/html": [
       "320.016864731205"
      ],
      "text/latex": [
       "320.016864731205"
      ],
      "text/markdown": [
       "320.016864731205"
      ],
      "text/plain": [
       "[1] 320.0169"
      ]
     },
     "metadata": {},
     "output_type": "display_data"
    },
    {
     "data": {
      "text/html": [
       "-13.0260111850212"
      ],
      "text/latex": [
       "-13.0260111850212"
      ],
      "text/markdown": [
       "-13.0260111850212"
      ],
      "text/plain": [
       "[1] -13.02601"
      ]
     },
     "metadata": {},
     "output_type": "display_data"
    },
    {
     "data": {
      "text/html": [
       "12.4848217419158"
      ],
      "text/latex": [
       "12.4848217419158"
      ],
      "text/markdown": [
       "12.4848217419158"
      ],
      "text/plain": [
       "[1] 12.48482"
      ]
     },
     "metadata": {},
     "output_type": "display_data"
    },
    {
     "name": "stderr",
     "output_type": "stream",
     "text": [
      "-- \u001b[1mAttaching core tidyverse packages\u001b[22m ------------------------ tidyverse 2.0.0 --\n",
      "\u001b[32mv\u001b[39m \u001b[34mdplyr    \u001b[39m 1.1.4     \u001b[32mv\u001b[39m \u001b[34mreadr    \u001b[39m 2.1.5\n",
      "\u001b[32mv\u001b[39m \u001b[34mforcats  \u001b[39m 1.0.0     \u001b[32mv\u001b[39m \u001b[34mstringr  \u001b[39m 1.5.1\n",
      "\u001b[32mv\u001b[39m \u001b[34mggplot2  \u001b[39m 3.5.0     \u001b[32mv\u001b[39m \u001b[34mtibble   \u001b[39m 3.2.1\n",
      "\u001b[32mv\u001b[39m \u001b[34mlubridate\u001b[39m 1.9.3     \u001b[32mv\u001b[39m \u001b[34mtidyr    \u001b[39m 1.3.1\n",
      "\u001b[32mv\u001b[39m \u001b[34mpurrr    \u001b[39m 1.0.2     \n",
      "-- \u001b[1mConflicts\u001b[22m ------------------------------------------ tidyverse_conflicts() --\n",
      "\u001b[31mx\u001b[39m \u001b[34mdplyr\u001b[39m::\u001b[32mfilter()\u001b[39m masks \u001b[34mstats\u001b[39m::filter()\n",
      "\u001b[31mx\u001b[39m \u001b[34mdplyr\u001b[39m::\u001b[32mlag()\u001b[39m    masks \u001b[34mstats\u001b[39m::lag()\n",
      "\u001b[36mi\u001b[39m Use the conflicted package (\u001b[3m\u001b[34m<http://conflicted.r-lib.org/>\u001b[39m\u001b[23m) to force all conflicts to become errors\n"
     ]
    },
    {
     "data": {
      "text/html": [
       "<table class=\"dataframe\">\n",
       "<caption>A tibble: 1 x 3</caption>\n",
       "<thead>\n",
       "\t<tr><th scope=col>n</th><th scope=col>p</th><th scope=col>p.app</th></tr>\n",
       "\t<tr><th scope=col>&lt;int&gt;</th><th scope=col>&lt;dbl&gt;</th><th scope=col>&lt;dbl&gt;</th></tr>\n",
       "</thead>\n",
       "<tbody>\n",
       "\t<tr><td>321</td><td>0.01162561</td><td>0</td></tr>\n",
       "</tbody>\n",
       "</table>\n"
      ],
      "text/latex": [
       "A tibble: 1 x 3\n",
       "\\begin{tabular}{lll}\n",
       " n & p & p.app\\\\\n",
       " <int> & <dbl> & <dbl>\\\\\n",
       "\\hline\n",
       "\t 321 & 0.01162561 & 0\\\\\n",
       "\\end{tabular}\n"
      ],
      "text/markdown": [
       "\n",
       "A tibble: 1 x 3\n",
       "\n",
       "| n &lt;int&gt; | p &lt;dbl&gt; | p.app &lt;dbl&gt; |\n",
       "|---|---|---|\n",
       "| 321 | 0.01162561 | 0 |\n",
       "\n"
      ],
      "text/plain": [
       "  n   p          p.app\n",
       "1 321 0.01162561 0    "
      ]
     },
     "metadata": {},
     "output_type": "display_data"
    }
   ],
   "source": [
    "##############################################################\n",
    "# An airline knows that over the long run, 90% of  passengers\n",
    "# who reserve seats show up for their flight. On a particular \n",
    "# flight with 300 seats, the airline accepts 324 reservations.\n",
    "#\n",
    "# file: prob_cl_airline_sol.R\n",
    "##############################################################\n",
    "\n",
    "# a) Assuming that passengers show up independently of each other,\n",
    "# what is the chance that a passenger with a reservation do not \n",
    "# get a seat?\n",
    "n <- 324; p <- 0.9\n",
    "# exact value\n",
    "p_ex <- 1-pbinom(300.5,n,p)\n",
    "p_ex\n",
    "# approx. value\n",
    "m <- n*p; s <- sqrt(n*p*(1-p))\n",
    "p_app <- 1-pnorm(300.5,m,s)\n",
    "p_app\n",
    "\n",
    "# b) How many reservations can be given, if the airline will\n",
    "# accept an overbooking probability of 1%?\n",
    "\n",
    "# exact bound\n",
    "n <- seq(301,350,1)\n",
    "p_ex <- pbinom(300,n,p)\n",
    "o_ex <- n[max(which(p_ex >= 0.99))]\n",
    "o_ex\n",
    "\n",
    "# approx. bound\n",
    "m <- n*p; s <- sqrt(n*p*(1-p))\n",
    "p_app <- pnorm(300.5,m,s)\n",
    "o_app <- n[max(which(p_app >= 0.99))]\n",
    "o_app\n",
    "\n",
    "# alternative solution: solving the equation\n",
    "# (300.5 - p*n)^2 = p*(1-p)*u^2_0.99*n\n",
    "# quadratic equation: n^2 + a*n +b =0\n",
    "u_099 <- qnorm(0.99,0,1)\n",
    "#u_099\n",
    "#p\n",
    "a <- -(2*p*300.5 + p*(1-p)*u_099^2)/(p^2)\n",
    "b <- (300.5/p)^2\n",
    "# a;b\n",
    "n1 <- -a/2 + sqrt((a/2)^2 -b)\n",
    "n2 <- -a/2 - sqrt((a/2)^2 -b)\n",
    "n1; n2 \n",
    "300.5-n1*p \n",
    "300.5-n2*p \n",
    "\n",
    "# solution without solving the above equation\n",
    "library(tidyverse)\n",
    "tibble(\n",
    "  n = 300:324,\n",
    "  p = 1-pbinom(300, size = n, prob = 0.9),\n",
    "  p.app = 1-pnorm(300.5, mean = n*0.6, sd = sqrt(n*0.9*0.1))\n",
    ") %>% filter(p >= 0.01) %>% filter(n == min(n)) # n < 321!!"
   ]
  },
  {
   "cell_type": "code",
   "execution_count": 2,
   "metadata": {
    "vscode": {
     "languageId": "r"
    }
   },
   "outputs": [
    {
     "data": {
      "text/html": [
       "0.9124731"
      ],
      "text/latex": [
       "0.9124731"
      ],
      "text/markdown": [
       "0.9124731"
      ],
      "text/plain": [
       "[1] 0.9124731"
      ]
     },
     "metadata": {},
     "output_type": "display_data"
    },
    {
     "data": {
      "text/html": [
       "87.5269000000001"
      ],
      "text/latex": [
       "87.5269000000001"
      ],
      "text/markdown": [
       "87.5269000000001"
      ],
      "text/plain": [
       "[1] 87.5269"
      ]
     },
     "metadata": {},
     "output_type": "display_data"
    },
    {
     "data": {
      "text/html": [
       "79.8659417763901"
      ],
      "text/latex": [
       "79.8659417763901"
      ],
      "text/markdown": [
       "79.8659417763901"
      ],
      "text/plain": [
       "[1] 79.86594"
      ]
     },
     "metadata": {},
     "output_type": "display_data"
    },
    {
     "data": {
      "text/html": [
       "0.993678231691858"
      ],
      "text/latex": [
       "0.993678231691858"
      ],
      "text/markdown": [
       "0.993678231691858"
      ],
      "text/plain": [
       "[1] 0.9936782"
      ]
     },
     "metadata": {},
     "output_type": "display_data"
    },
    {
     "data": {
      "text/html": [
       "0.994042922629089"
      ],
      "text/latex": [
       "0.994042922629089"
      ],
      "text/markdown": [
       "0.994042922629089"
      ],
      "text/plain": [
       "[1] 0.9940429"
      ]
     },
     "metadata": {},
     "output_type": "display_data"
    },
    {
     "data": {
      "text/html": [
       "0.994924246653816"
      ],
      "text/latex": [
       "0.994924246653816"
      ],
      "text/markdown": [
       "0.994924246653816"
      ],
      "text/plain": [
       "[1] 0.9949242"
      ]
     },
     "metadata": {},
     "output_type": "display_data"
    },
    {
     "data": {
      "text/html": [
       "3.84199199999999"
      ],
      "text/latex": [
       "3.84199199999999"
      ],
      "text/markdown": [
       "3.84199199999999"
      ],
      "text/plain": [
       "[1] 3.841992"
      ]
     },
     "metadata": {},
     "output_type": "display_data"
    }
   ],
   "source": [
    "##################################################################\n",
    "# A machine consists of the three modules A, B and C. The machine\n",
    "# works only if all three modules are working and if no error\n",
    "# occured during the construction phase. The probabilities that \n",
    "# the modules A, B and C are defect are 1%, 1% and 5%. The \n",
    "# probability for an error during the construction phase 2%. The\n",
    "# four kinds of errors occur independently of each other. \n",
    "#\n",
    "# file: prob_cl_modules_sol.R\n",
    "##################################################################\n",
    "\n",
    "# a) Calculate the expectation and the variation of the number of \n",
    "# defect machines in a lot of 1000 randomly chosen machines. \n",
    "n <- 1000\n",
    "pa <- 0.01\n",
    "pb <- 0.01\n",
    "pc <- 0.05\n",
    "pcp <- 0.02\n",
    "# prob. of no error\n",
    "p_no_error <- (1-pa)*(1-pb)*(1-pc)*(1-pcp)\n",
    "# expected value\n",
    "exp_n_def <- n*(1-p_no_error)\n",
    "# variance\n",
    "var_n_def <- n*(1-p_no_error)*p_no_error\n",
    "p_no_error; exp_n_def; var_n_def\n",
    "\n",
    "# b) The producer is thinking about guaranteeing that not more \n",
    "# than 110 machines are defect in such a lot. With which approximate \n",
    "# probability can this guarantee promise be kept?  \n",
    "pbinom(110,n,1-p_no_error) # 0.9936782\n",
    "# approximation by a normal distribution\n",
    "# without continuity correction\n",
    "pnorm(110,mean=exp_n_def,sd=(var_n_def)^0.5) # 0.9940429\n",
    "# with continuity correction\n",
    "pnorm(110.5,mean=exp_n_def,sd=(var_n_def)^0.5) # 0.9949242\n",
    "\n",
    "# c) Each defect machine provokes an extra cost of 100 euro. \n",
    "# The producer considers to buy a better module C (at a higher\n",
    "# price) but with an error rate of is 1%. How high can the \n",
    "# additional cost for each machine for module C be, in order to\n",
    "# say that it is (according to the expectation) profitable to buy\n",
    "# the more expensive module C?\n",
    "p_no_error_new <- (1-pa)*(1-pb)*(1-0.01)*(1-pcp)\n",
    "100*(1-p_no_error) - 100*(1-p_no_error_new)\n"
   ]
  },
  {
   "cell_type": "code",
   "execution_count": 3,
   "metadata": {
    "vscode": {
     "languageId": "r"
    }
   },
   "outputs": [
    {
     "data": {
      "text/html": [
       "0.9"
      ],
      "text/latex": [
       "0.9"
      ],
      "text/markdown": [
       "0.9"
      ],
      "text/plain": [
       "[1] 0.9"
      ]
     },
     "metadata": {},
     "output_type": "display_data"
    },
    {
     "data": {
      "text/html": [
       "0.29"
      ],
      "text/latex": [
       "0.29"
      ],
      "text/markdown": [
       "0.29"
      ],
      "text/plain": [
       "[1] 0.29"
      ]
     },
     "metadata": {},
     "output_type": "display_data"
    },
    {
     "data": {
      "text/html": [
       "939.616276768593"
      ],
      "text/latex": [
       "939.616276768593"
      ],
      "text/markdown": [
       "939.616276768593"
      ],
      "text/plain": [
       "[1] 939.6163"
      ]
     },
     "metadata": {},
     "output_type": "display_data"
    }
   ],
   "source": [
    "###################################################################\n",
    "# As a new residential area with 1000 domestic homes  is going \n",
    "# to be built, the number of required parking lots is calculated\n",
    "# in the following way: We assume that there is no relation between\n",
    "# the number of cars in different homes. Furthermore, we assume \n",
    "# that a domestic home has no car with probability 0.2, one car \n",
    "# with probability 0.7 and two cars with probability 0.1. The number\n",
    "# of parking lots should be planned in such way that the probability\n",
    "# that each car gets a parking lot is 0.99. How many parking lots \n",
    "# should be built?\n",
    "#\n",
    "# file: prob_cl_res_area_sol.R\n",
    "###################################################################\n",
    "\n",
    "p0 <- 0.2\n",
    "p1 <- 0.7\n",
    "p2 <- 0.1\n",
    "n <- 1000\n",
    "# expected values\n",
    "EX <- 0*p0 + 1*p1 + 2*p2\n",
    "EX2 <- 0^2*p0 + 1^2*p1 + 2^2*p2\n",
    "# variance\n",
    "VarX <- EX2 - (EX)^2\n",
    "EX\n",
    "VarX\n",
    "# 99% quantile\n",
    "qnorm(0.99,n*EX,(n*VarX)^0.5) # 939.6163"
   ]
  },
  {
   "cell_type": "code",
   "execution_count": 4,
   "metadata": {
    "vscode": {
     "languageId": "r"
    }
   },
   "outputs": [
    {
     "data": {
      "text/html": [
       "0.710450129023041"
      ],
      "text/latex": [
       "0.710450129023041"
      ],
      "text/markdown": [
       "0.710450129023041"
      ],
      "text/plain": [
       "[1] 0.7104501"
      ]
     },
     "metadata": {},
     "output_type": "display_data"
    },
    {
     "data": {
      "text/html": [
       "0.788144601416603"
      ],
      "text/latex": [
       "0.788144601416603"
      ],
      "text/markdown": [
       "0.788144601416603"
      ],
      "text/plain": [
       "[1] 0.7881446"
      ]
     },
     "metadata": {},
     "output_type": "display_data"
    }
   ],
   "source": [
    "#################################################################\n",
    "# The weight of a melon, X, in kg is N(mu=1.2,sigma^2=0.3^2), \n",
    "# i.e. normally distributed with expectation 1.2 kg and standard\n",
    "# deviation 0.3 kg. The weight Y for a pineapple is in kg \n",
    "# N(mu=0.6, sigma^2=0.2^2). We assume that a melon and a pineapple\n",
    "# are chosen independently of each other. \n",
    "#\n",
    "# file: prob_nd_fruits_sol.R\n",
    "##################################################################\n",
    "\n",
    "mu_m <- 1.2\n",
    "sigma_m <- 0.3\n",
    "mu_p <- 0.6\n",
    "sigma_p <- 0.2\n",
    "\n",
    "# a) Which distribution has the total weight of the two fruits? \n",
    "# S = X + Y\n",
    "mu_s <- mu_m + mu_p\n",
    "sigma_s <- (sigma_m^2+sigma_p^2)^0.5\n",
    "\n",
    "# b) Calculate the probability that the total weight of the two fruits \n",
    "# does not exceed 2.0 kg.  \n",
    "pnorm(2,mu_s,sigma_s)\n",
    "\n",
    "# c) The melon costs 2 euro per kg and the pineapple 4 euro per kg. \n",
    "# Give an expression for the total price Z using X and Y. What is the \n",
    "# distribution of Z?  \n",
    "mu_z <- 2*mu_m + 4*mu_p\n",
    "sigma_z <- (2^2*sigma_m^2 + 4^2*sigma_p^2)^0.5\n",
    "\n",
    "# d) Calculate the probability that the price Z is higher than 4 euro.\n",
    "1-pnorm(4,mu_z,sigma_z)\n"
   ]
  },
  {
   "cell_type": "code",
   "execution_count": 5,
   "metadata": {
    "vscode": {
     "languageId": "r"
    }
   },
   "outputs": [
    {
     "data": {
      "text/html": [
       "0.644826715502216"
      ],
      "text/latex": [
       "0.644826715502216"
      ],
      "text/markdown": [
       "0.644826715502216"
      ],
      "text/plain": [
       "[1] 0.6448267"
      ]
     },
     "metadata": {},
     "output_type": "display_data"
    },
    {
     "data": {
      "text/html": [
       "0.309387364476727"
      ],
      "text/latex": [
       "0.309387364476727"
      ],
      "text/markdown": [
       "0.309387364476727"
      ],
      "text/plain": [
       "[1] 0.3093874"
      ]
     },
     "metadata": {},
     "output_type": "display_data"
    },
    {
     "data": {
      "text/html": [
       "0.397077981174685"
      ],
      "text/latex": [
       "0.397077981174685"
      ],
      "text/markdown": [
       "0.397077981174685"
      ],
      "text/plain": [
       "[1] 0.397078"
      ]
     },
     "metadata": {},
     "output_type": "display_data"
    }
   ],
   "source": [
    "##############################################################\n",
    "# Peter and Paul agree to meet at a restaurant at noon. Peter \n",
    "# arrives at a time normally distributed with mean 12:00 and \n",
    "# standard deviation 5 minutes. Paul arrives at a time normally\n",
    "# distributed with mean 12:02 and standard deviation 2 minutes. \n",
    "# Assuming the two arrivals are independent, find the following\n",
    "# probabilie.\n",
    "#\n",
    "# file: prob_nd_peter_paul_sol.R\n",
    "###############################################################\n",
    "m1 <- 12; m2 <- 12+2/60\n",
    "s1 <- 5/60; s2 <- 2/60\n",
    "\n",
    "# a) Peter arrives before Paul\n",
    "p <- pnorm(0, m1-m2, sqrt(s1^2+s2^2))\n",
    "p \n",
    "\n",
    "# b) both men arrive within 3 minutes of noon\n",
    "p <- (pnorm(12+3/60, m1, s1) - pnorm(12-3/60, m1, s1)) *\n",
    "  (pnorm(12+3/60, m2, s2) - pnorm(12-3/60, m2, s2))\n",
    "p\n",
    "\n",
    "# c) the two men arrive within 3 minutes of each other\n",
    "p <- pnorm(3/60, m1-m2, sqrt(s1^2+s2^2)) - pnorm(-3/60, m1-m2, sqrt(s1^2+s2^2))\n",
    "p \n"
   ]
  },
  {
   "cell_type": "code",
   "execution_count": 6,
   "metadata": {
    "vscode": {
     "languageId": "r"
    }
   },
   "outputs": [
    {
     "data": {
      "text/html": [
       "2"
      ],
      "text/latex": [
       "2"
      ],
      "text/markdown": [
       "2"
      ],
      "text/plain": [
       "[1] 2"
      ]
     },
     "metadata": {},
     "output_type": "display_data"
    },
    {
     "data": {
      "image/png": "[encoded data removed]",
      "text/plain": [
       "plot without title"
      ]
     },
     "metadata": {
      "image/png": {
       "height": 420,
       "width": 420
      }
     },
     "output_type": "display_data"
    },
    {
     "data": {
      "text/html": [
       "0.369441340181764"
      ],
      "text/latex": [
       "0.369441340181764"
      ],
      "text/markdown": [
       "0.369441340181764"
      ],
      "text/plain": [
       "[1] 0.3694413"
      ]
     },
     "metadata": {},
     "output_type": "display_data"
    },
    {
     "data": {
      "text/html": [
       "0.344578258389676"
      ],
      "text/latex": [
       "0.344578258389676"
      ],
      "text/markdown": [
       "0.344578258389676"
      ],
      "text/plain": [
       "[1] 0.3445783"
      ]
     },
     "metadata": {},
     "output_type": "display_data"
    },
    {
     "data": {
      "text/html": [
       "0.58885220852162"
      ],
      "text/latex": [
       "0.58885220852162"
      ],
      "text/markdown": [
       "0.58885220852162"
      ],
      "text/plain": [
       "[1] 0.5888522"
      ]
     },
     "metadata": {},
     "output_type": "display_data"
    },
    {
     "data": {
      "image/png": "[encoded data removed]",
      "text/plain": [
       "plot without title"
      ]
     },
     "metadata": {
      "image/png": {
       "height": 420,
       "width": 420
      }
     },
     "output_type": "display_data"
    },
    {
     "data": {
      "text/html": [
       "<style>\n",
       ".list-inline {list-style: none; margin:0; padding: 0}\n",
       ".list-inline>li {display: inline-block}\n",
       ".list-inline>li:not(:last-child)::after {content: \"\\00b7\"; padding: 0 .5ex}\n",
       "</style>\n",
       "<ol class=list-inline><li>0.988265374705877</li><li>2</li><li>3.01173462529412</li></ol>\n"
      ],
      "text/latex": [
       "\\begin{enumerate*}\n",
       "\\item 0.988265374705877\n",
       "\\item 2\n",
       "\\item 3.01173462529412\n",
       "\\end{enumerate*}\n"
      ],
      "text/markdown": [
       "1. 0.988265374705877\n",
       "2. 2\n",
       "3. 3.01173462529412\n",
       "\n",
       "\n"
      ],
      "text/plain": [
       "[1] 0.9882654 2.0000000 3.0117346"
      ]
     },
     "metadata": {},
     "output_type": "display_data"
    },
    {
     "data": {
      "image/png": "[encoded data removed]",
      "text/plain": [
       "plot without title"
      ]
     },
     "metadata": {
      "image/png": {
       "height": 420,
       "width": 420
      }
     },
     "output_type": "display_data"
    },
    {
     "data": {
      "image/png": "[encoded data removed]",
      "text/plain": [
       "Plot with title \"Normal Distribution (mean=2.5, sd=1.5)\""
      ]
     },
     "metadata": {
      "image/png": {
       "height": 420,
       "width": 420
      }
     },
     "output_type": "display_data"
    }
   ],
   "source": [
    "2############################################################\n",
    "# R offers a number of functions for calculating with normal\n",
    "# distributions. Call them up in the RStudio Help area with \n",
    "# the keyword Normal and familiarize yourself with them.\n",
    "# R has four in built functions to generate normal distribution.\n",
    "# \n",
    "# file: prob_nd_rfunctions_sol.R\n",
    "#############################################################\n",
    "\n",
    "# The function dnorm() gives height of the probability density\n",
    "# at each point for a given mean and standard deviation. Apply \n",
    "# this function to create a plot the density of the normal \n",
    "# distribution with mean 2.5 and standard deviation 1.5.\n",
    "x <- seq(-10, 10, by = .1)\n",
    "y <- dnorm(x, mean = 2.5, sd = 1.5)\n",
    "plot(x,y, type = \"l\")\n",
    "\n",
    "# pnorm() gives the probability of a normally distributed random \n",
    "# variable to be less that the value of a given number (cumulative\n",
    "# distribution function). Apply this function to create a plot of\n",
    "# the normal distribution function with mean 2.5 and standard \n",
    "# deviation 1.5. Furthermore evaluate the probabilities \n",
    "# P(X <= 2), P(X > 3.1), P(1 < X <= 3.5) if X ~ N(2.5, 1.5^2)\n",
    "x <- seq(-10,10,by = .1)\n",
    "y <- pnorm(x, mean = 2.5, sd = 1.5)\n",
    "plot(x,y, type = \"l\")\n",
    "pnorm(2, mean = 2.5, sd = 1.5) # P(X <= 2)\n",
    "1-pnorm(3.1, mean = 2.5, sd = 1.5) # P(X > 3.1)\n",
    "# P(1 < X <= 3.5) if X ~ N(2.5, 1.5^2)\n",
    "pnorm(3.5, mean = 2.5, sd = 1.5)  - pnorm(1, mean = 2.5, sd = 1.5) \n",
    "\n",
    "# qnorm() takes the probability value and gives a number whose\n",
    "# cumulative value matches the probability value (quantile). \n",
    "# Apply this function to plot the quantiles of the normal distribution\n",
    "# with mean 2.5 and standard deviation 1.5 and evaluate the 3 quartiles\n",
    "# of the distribution\n",
    "x <- seq(0, 1, by = 0.02)\n",
    "y <- qnorm(x, mean = 2, sd = 1.5)\n",
    "plot(x,y,type = \"l\")\n",
    "# Quartiles\n",
    "qnorm(c(0.25,0.5,0.75), mean = 2, sd = 1.5)\n",
    "\n",
    "# rnorm() is used to generate random numbers whose distribution is\n",
    "# normal. It takes the sample size as input and generates that many \n",
    "# random numbers. Draw a histogram to show the distribution of the \n",
    "# generated numbers which are normally distributed with mean 2.5 and \n",
    "# standard deviation 1.5.\n",
    "y <- rnorm(100,mean = 2.5, sd = 1.5)\n",
    "hist(y, main = \"Normal Distribution (mean=2.5, sd=1.5)\")\n"
   ]
  },
  {
   "cell_type": "code",
   "execution_count": 7,
   "metadata": {
    "vscode": {
     "languageId": "r"
    }
   },
   "outputs": [
    {
     "data": {
      "text/html": [
       "0.265985529048701"
      ],
      "text/latex": [
       "0.265985529048701"
      ],
      "text/markdown": [
       "0.265985529048701"
      ],
      "text/plain": [
       "[1] 0.2659855"
      ]
     },
     "metadata": {},
     "output_type": "display_data"
    },
    {
     "data": {
      "text/html": [
       "0.00620966532577616"
      ],
      "text/latex": [
       "0.00620966532577616"
      ],
      "text/markdown": [
       "0.00620966532577616"
      ],
      "text/plain": [
       "[1] 0.006209665"
      ]
     },
     "metadata": {},
     "output_type": "display_data"
    },
    {
     "data": {
      "text/html": [
       "7984320.28812368"
      ],
      "text/latex": [
       "7984320.28812368"
      ],
      "text/markdown": [
       "7984320.28812368"
      ],
      "text/plain": [
       "[1] 7984320"
      ]
     },
     "metadata": {},
     "output_type": "display_data"
    },
    {
     "data": {
      "text/html": [
       "8015679.71187632"
      ],
      "text/latex": [
       "8015679.71187632"
      ],
      "text/markdown": [
       "8015679.71187632"
      ],
      "text/plain": [
       "[1] 8015680"
      ]
     },
     "metadata": {},
     "output_type": "display_data"
    },
    {
     "data": {
      "text/html": [
       "852.524125243568"
      ],
      "text/latex": [
       "852.524125243568"
      ],
      "text/markdown": [
       "852.524125243568"
      ],
      "text/plain": [
       "[1] 852.5241"
      ]
     },
     "metadata": {},
     "output_type": "display_data"
    },
    {
     "data": {
      "text/html": [
       "0.209911760339968"
      ],
      "text/latex": [
       "0.209911760339968"
      ],
      "text/markdown": [
       "0.209911760339968"
      ],
      "text/plain": [
       "[1] 0.2099118"
      ]
     },
     "metadata": {},
     "output_type": "display_data"
    }
   ],
   "source": [
    "##################################################################\n",
    "# In a silk spinning mill, raw fibers from silk cocoons are\n",
    "# prepared to silk threads. It can be assumed that the useful silk\n",
    "# thread length per cocoon is a normally distributed variable with\n",
    "# expectation 800 m and variance 6400 m^2.\n",
    "#\n",
    "# file: prob_nd_silk_sol.R\n",
    "##################################################################\n",
    "\n",
    "# Calculate the probability that the useful silk thread length\n",
    "# from a randomly selected cocoon is at least 750 m. Also calculate\n",
    "# the probability that the useful silk thread length from a randomly\n",
    "# selected cocoon exceeds 1000 m.\n",
    "mu <- 800\n",
    "sigma <- 80\n",
    "pnorm(750,mu,sigma)\n",
    "1-pnorm(1000,mu,sigma)\n",
    "\n",
    "# Use appropriate assumptions and calculate the lower boundary\n",
    "# L and the upper boundary U for the total length of the useful silk\n",
    "# thread for 10000 cocoons. These boundaries should at the same time\n",
    "# be guaranteed with a probability of 95%. The boundaries should be\n",
    "# selected in such a way that the probability for exceeding U and going\n",
    "# below L should be equally high.\n",
    "n <- 10000\n",
    "L <- qnorm(0.025,n*mu,n^0.5*sigma)\n",
    "U <- qnorm(0.975,n*mu,n^0.5*sigma)\n",
    "L; U # 7984320, 8015680\n",
    "\n",
    "# Assume that the variance still is the same as before. How high\n",
    "# must the expetation of the useful silk thread length at least be, if\n",
    "# we would like the total useful silk length to be at least 750 m with\n",
    "# a probability of 0.90.\n",
    "mu_new <- 750-sigma*qnorm(0.1,0,1)\n",
    "mu_new # 852.5241\n",
    "\n",
    "# 10 cocoons are randomly chosen. With which probability is at\n",
    "# most for one of these cocoons the useful silk thread length less\n",
    "# than 750 m?\n",
    "p <- pnorm(750,mu,sigma)\n",
    "pbinom(1,10,p) # 0.2099118"
   ]
  },
  {
   "cell_type": "code",
   "execution_count": 8,
   "metadata": {
    "vscode": {
     "languageId": "r"
    }
   },
   "outputs": [],
   "source": [
    "##############################################################################\n",
    "# Exercise: Bayes and Binomial Distribution\n",
    "# Consider the following random experiment: A fair die is rolled. Then, a fair\n",
    "# coin is flipped many times according to the number of the die's points. The\n",
    "# number of times heads occur is counted with the random variable Score.\n",
    "#\n",
    "# file: prob_die_coin_sol.R\n",
    "##############################################################################\n",
    "\n",
    "library(tidyverse)\n",
    "\n",
    "# I: fair die rolled -> score\n",
    "# II: flip a fair coin score times and counts the number of heads\n",
    "\n",
    "# a) Determine the density of the random variable score. What are the expected\n",
    "#    value and variance of Score?\n",
    "tibble(\n",
    "  score = rep(1:6, each=7),\n",
    "  heads = rep(0:6, length.out = 6*7)\n",
    ") %>%\n",
    "  group_by(score,heads) %>%\n",
    "  mutate(\n",
    "    prob.heads.given.score = sum(dbinom(heads, size=score, prob=0.5)),\n",
    "    prob.score = 1/6,\n",
    "    prob.heads.and.score = prob.heads.given.score * prob.score\n",
    "  ) %>%\n",
    "  group_by(heads) %>%\n",
    "  mutate(prob.heads = sum(prob.heads.and.score),\n",
    "         prob.score.given.heads = prob.heads.and.score/prob.heads\n",
    "  ) -> ds \n",
    "\n",
    "ds %>%\n",
    "  select(heads, prob.heads) %>%\n",
    "  unique() -> density.heads\n",
    "\n",
    "E.X <- sum(density.heads$heads*density.heads$prob.heads) # 1.75\n",
    "E.X2 <- sum(density.heads$heads^2*density.heads$prob.heads)\n",
    "var.X <- E.X2-E.X^2 # 1.60417\n",
    "\n",
    "# Alternative Bestimmung der Dichte der Anzahl Kopf\n",
    "density.heads <- tibble(x=0:6) %>%\n",
    "  # rowwise evaluation!!!!!\n",
    "  rowwise() %>% \n",
    "  mutate(\n",
    "    # size >= 1!!!\n",
    "    dens.heads = sum(dbinom(x,size=max(1,x):6, prob = 0.5))/6\n",
    "  )\n",
    "\n",
    "# b) Let only the number of heads be known. What are the probabilities for the\n",
    "#    values of the score with respect to the different numbers of heads?\n",
    "# P(Score = s | heads = h) > 0 if s >= h!!!\n",
    "bayes <- ds %>%\n",
    "  select(heads,score,prob.score.given.heads) %>%\n",
    "  arrange(heads, score) %>%\n",
    "  filter(prob.score.given.heads>0)"
   ]
  },
  {
   "cell_type": "code",
   "execution_count": 9,
   "metadata": {
    "vscode": {
     "languageId": "r"
    }
   },
   "outputs": [
    {
     "data": {
      "text/html": [
       "<table class=\"dataframe\">\n",
       "<caption>A tibble: 4 x 3</caption>\n",
       "<thead>\n",
       "\t<tr><th scope=col>k</th><th scope=col>prob</th><th scope=col>r</th></tr>\n",
       "\t<tr><th scope=col>&lt;int&gt;</th><th scope=col>&lt;dbl&gt;</th><th scope=col>&lt;dbl&gt;</th></tr>\n",
       "</thead>\n",
       "<tbody>\n",
       "\t<tr><td>0</td><td>0.57870370</td><td>-1</td></tr>\n",
       "\t<tr><td>1</td><td>0.34722222</td><td> 1</td></tr>\n",
       "\t<tr><td>2</td><td>0.06944444</td><td> 2</td></tr>\n",
       "\t<tr><td>3</td><td>0.00462963</td><td> 3</td></tr>\n",
       "</tbody>\n",
       "</table>\n"
      ],
      "text/latex": [
       "A tibble: 4 x 3\n",
       "\\begin{tabular}{lll}\n",
       " k & prob & r\\\\\n",
       " <int> & <dbl> & <dbl>\\\\\n",
       "\\hline\n",
       "\t 0 & 0.57870370 & -1\\\\\n",
       "\t 1 & 0.34722222 &  1\\\\\n",
       "\t 2 & 0.06944444 &  2\\\\\n",
       "\t 3 & 0.00462963 &  3\\\\\n",
       "\\end{tabular}\n"
      ],
      "text/markdown": [
       "\n",
       "A tibble: 4 x 3\n",
       "\n",
       "| k &lt;int&gt; | prob &lt;dbl&gt; | r &lt;dbl&gt; |\n",
       "|---|---|---|\n",
       "| 0 | 0.57870370 | -1 |\n",
       "| 1 | 0.34722222 |  1 |\n",
       "| 2 | 0.06944444 |  2 |\n",
       "| 3 | 0.00462963 |  3 |\n",
       "\n"
      ],
      "text/plain": [
       "  k prob       r \n",
       "1 0 0.57870370 -1\n",
       "2 1 0.34722222  1\n",
       "3 2 0.06944444  2\n",
       "4 3 0.00462963  3"
      ]
     },
     "metadata": {},
     "output_type": "display_data"
    },
    {
     "data": {
      "text/html": [
       "-0.0787037037037038"
      ],
      "text/latex": [
       "-0.0787037037037038"
      ],
      "text/markdown": [
       "-0.0787037037037038"
      ],
      "text/plain": [
       "[1] -0.0787037"
      ]
     },
     "metadata": {},
     "output_type": "display_data"
    }
   ],
   "source": [
    "######################################################\n",
    "# In a game a player can bet 1$ on any of the numbers \n",
    "# 1, 2, 3, 4, 5 and 6. Three dice are rolled. If the \n",
    "# players number appears k times, where k >= 1, the player\n",
    "# gets k$ back plus the original stack of 1$. Over the \n",
    "# long run, how many cents per game a player expects to \n",
    "# win or lose playing this game?\n",
    "#\n",
    "# file: prob_rv_exp_value_sol.R\n",
    "#######################################################\n",
    "\n",
    "library(tidyverse)\n",
    "\n",
    "# create a tibble with the different outcomes and their\n",
    "# probabilities\n",
    "R <- tibble(\n",
    "    k=0:3,\n",
    "    prob=dbinom(k, size = 3, prob = 1/6), \n",
    "    #prob=choose(3,k)*(1/6)**k*(5/6)**(3-k),\n",
    "    r = if_else(k==0,-1,-1+1+k))\n",
    "R\n",
    "# expected value\n",
    "exp_r <- sum(R[,2]*R[,3])\n",
    "exp_r \n",
    "\n"
   ]
  },
  {
   "cell_type": "code",
   "execution_count": 10,
   "metadata": {
    "vscode": {
     "languageId": "r"
    }
   },
   "outputs": [
    {
     "data": {
      "text/html": [
       "<style>\n",
       ".list-inline {list-style: none; margin:0; padding: 0}\n",
       ".list-inline>li {display: inline-block}\n",
       ".list-inline>li:not(:last-child)::after {content: \"\\00b7\"; padding: 0 .5ex}\n",
       "</style>\n",
       "<ol class=list-inline><li>4</li><li>9</li><li>3</li><li>4</li><li>3</li><li>8</li><li>6</li><li>4</li><li>6</li><li>6</li><li>4</li><li>2</li><li>6</li><li>7</li><li>10</li><li>6</li><li>6</li><li>9</li><li>4</li><li>7</li></ol>\n"
      ],
      "text/latex": [
       "\\begin{enumerate*}\n",
       "\\item 4\n",
       "\\item 9\n",
       "\\item 3\n",
       "\\item 4\n",
       "\\item 3\n",
       "\\item 8\n",
       "\\item 6\n",
       "\\item 4\n",
       "\\item 6\n",
       "\\item 6\n",
       "\\item 4\n",
       "\\item 2\n",
       "\\item 6\n",
       "\\item 7\n",
       "\\item 10\n",
       "\\item 6\n",
       "\\item 6\n",
       "\\item 9\n",
       "\\item 4\n",
       "\\item 7\n",
       "\\end{enumerate*}\n"
      ],
      "text/markdown": [
       "1. 4\n",
       "2. 9\n",
       "3. 3\n",
       "4. 4\n",
       "5. 3\n",
       "6. 8\n",
       "7. 6\n",
       "8. 4\n",
       "9. 6\n",
       "10. 6\n",
       "11. 4\n",
       "12. 2\n",
       "13. 6\n",
       "14. 7\n",
       "15. 10\n",
       "16. 6\n",
       "17. 6\n",
       "18. 9\n",
       "19. 4\n",
       "20. 7\n",
       "\n",
       "\n"
      ],
      "text/plain": [
       " [1]  4  9  3  4  3  8  6  4  6  6  4  2  6  7 10  6  6  9  4  7"
      ]
     },
     "metadata": {},
     "output_type": "display_data"
    },
    {
     "data": {
      "text/html": [
       "0.583586230530565"
      ],
      "text/latex": [
       "0.583586230530565"
      ],
      "text/markdown": [
       "0.583586230530565"
      ],
      "text/plain": [
       "[1] 0.5835862"
      ]
     },
     "metadata": {},
     "output_type": "display_data"
    },
    {
     "data": {
      "text/html": [
       "0.583586230530565"
      ],
      "text/latex": [
       "0.583586230530565"
      ],
      "text/markdown": [
       "0.583586230530565"
      ],
      "text/plain": [
       "[1] 0.5835862"
      ]
     },
     "metadata": {},
     "output_type": "display_data"
    },
    {
     "data": {
      "text/html": [
       "<style>\n",
       ".list-inline {list-style: none; margin:0; padding: 0}\n",
       ".list-inline>li {display: inline-block}\n",
       ".list-inline>li:not(:last-child)::after {content: \"\\00b7\"; padding: 0 .5ex}\n",
       "</style>\n",
       "<ol class=list-inline><li>5</li><li>6</li><li>7</li></ol>\n"
      ],
      "text/latex": [
       "\\begin{enumerate*}\n",
       "\\item 5\n",
       "\\item 6\n",
       "\\item 7\n",
       "\\end{enumerate*}\n"
      ],
      "text/markdown": [
       "1. 5\n",
       "2. 6\n",
       "3. 7\n",
       "\n",
       "\n"
      ],
      "text/plain": [
       "[1] 5 6 7"
      ]
     },
     "metadata": {},
     "output_type": "display_data"
    },
    {
     "data": {
      "image/png": "[encoded data removed]",
      "text/plain": [
       "Plot with title \"B(n=20,p=0.3\""
      ]
     },
     "metadata": {
      "image/png": {
       "height": 420,
       "width": 420
      }
     },
     "output_type": "display_data"
    },
    {
     "data": {
      "text/html": [
       "<style>\n",
       ".list-inline {list-style: none; margin:0; padding: 0}\n",
       ".list-inline>li {display: inline-block}\n",
       ".list-inline>li:not(:last-child)::after {content: \"\\00b7\"; padding: 0 .5ex}\n",
       "</style>\n",
       "<ol class=list-inline><li>8</li><li>7</li><li>3</li><li>5</li><li>2</li><li>8</li><li>4</li><li>3</li><li>7</li><li>7</li><li>4</li><li>7</li><li>7</li><li>9</li><li>5</li><li>6</li><li>9</li><li>8</li><li>6</li><li>3</li></ol>\n"
      ],
      "text/latex": [
       "\\begin{enumerate*}\n",
       "\\item 8\n",
       "\\item 7\n",
       "\\item 3\n",
       "\\item 5\n",
       "\\item 2\n",
       "\\item 8\n",
       "\\item 4\n",
       "\\item 3\n",
       "\\item 7\n",
       "\\item 7\n",
       "\\item 4\n",
       "\\item 7\n",
       "\\item 7\n",
       "\\item 9\n",
       "\\item 5\n",
       "\\item 6\n",
       "\\item 9\n",
       "\\item 8\n",
       "\\item 6\n",
       "\\item 3\n",
       "\\end{enumerate*}\n"
      ],
      "text/markdown": [
       "1. 8\n",
       "2. 7\n",
       "3. 3\n",
       "4. 5\n",
       "5. 2\n",
       "6. 8\n",
       "7. 4\n",
       "8. 3\n",
       "9. 7\n",
       "10. 7\n",
       "11. 4\n",
       "12. 7\n",
       "13. 7\n",
       "14. 9\n",
       "15. 5\n",
       "16. 6\n",
       "17. 9\n",
       "18. 8\n",
       "19. 6\n",
       "20. 3\n",
       "\n",
       "\n"
      ],
      "text/plain": [
       " [1] 8 7 3 5 2 8 4 3 7 7 4 7 7 9 5 6 9 8 6 3"
      ]
     },
     "metadata": {},
     "output_type": "display_data"
    },
    {
     "data": {
      "text/html": [
       "0.599007442644728"
      ],
      "text/latex": [
       "0.599007442644728"
      ],
      "text/markdown": [
       "0.599007442644728"
      ],
      "text/plain": [
       "[1] 0.5990074"
      ]
     },
     "metadata": {},
     "output_type": "display_data"
    },
    {
     "data": {
      "text/html": [
       "0.599007442644728"
      ],
      "text/latex": [
       "0.599007442644728"
      ],
      "text/markdown": [
       "0.599007442644728"
      ],
      "text/plain": [
       "[1] 0.5990074"
      ]
     },
     "metadata": {},
     "output_type": "display_data"
    },
    {
     "data": {
      "text/html": [
       "<style>\n",
       ".list-inline {list-style: none; margin:0; padding: 0}\n",
       ".list-inline>li {display: inline-block}\n",
       ".list-inline>li:not(:last-child)::after {content: \"\\00b7\"; padding: 0 .5ex}\n",
       "</style>\n",
       "<ol class=list-inline><li>5</li><li>6</li><li>7</li></ol>\n"
      ],
      "text/latex": [
       "\\begin{enumerate*}\n",
       "\\item 5\n",
       "\\item 6\n",
       "\\item 7\n",
       "\\end{enumerate*}\n"
      ],
      "text/markdown": [
       "1. 5\n",
       "2. 6\n",
       "3. 7\n",
       "\n",
       "\n"
      ],
      "text/plain": [
       "[1] 5 6 7"
      ]
     },
     "metadata": {},
     "output_type": "display_data"
    },
    {
     "data": {
      "image/png": "[encoded data removed]",
      "text/plain": [
       "Plot with title \"H(n=20,M=30,N=100)\""
      ]
     },
     "metadata": {
      "image/png": {
       "height": 420,
       "width": 420
      }
     },
     "output_type": "display_data"
    }
   ],
   "source": [
    "#####################################################################\n",
    "# R offers for a large number of probability distributions functions.\n",
    "# The commands for each distribution are prepended with a letter to \n",
    "# indicate the functionality:\n",
    "# \"d\" \treturns the height of the probability density function\n",
    "# \"p\" \treturns the cumulative density function\n",
    "# \"q\" \treturns the inverse cumulative density function (quantiles)\n",
    "# \"r\" \treturns randomly generated numbers\n",
    "# Consider an urn with 100 balls, where are 30 balls of them are red. \n",
    "# 20 balls are randomly drawn and let X be the number of red drawn balls. \n",
    "# a) Determine the distribution of X if the balls are drawn with resp.\n",
    "# without replacement.\n",
    "# b) Plot the density of X.\n",
    "# c) Generate a sample of size 20 of values of X\n",
    "# d) Compute P(5 < X < 15). \n",
    "# e) Determine the 25% quantile, the median and the 75% quantile of X.\n",
    "# \n",
    "# file: prob_rv_rfunctions_sol.R\n",
    "########################################################################\n",
    "\n",
    "par(mfcol=c(1,1))\n",
    "\n",
    "# with replacement: X ~ B(n=20,p=0.3)\n",
    "\n",
    "# plot of the density\n",
    "k <- 0:20\n",
    "plot(k,dbinom(k,20,0.3), type = \"h\", main =\"B(n=20,p=0.3\", xlab=\"x\", \n",
    "     ylab=\"density\")\n",
    "# sample of size 20\n",
    "rbinom(n=20,size = 20,prob = 0.3)\n",
    "# P(5 < X < 15)\n",
    "sum(dbinom(6:14, size = 20, prob = 0.3))\n",
    "pbinom(14, size = 20, prob = 0.3) - pbinom(5, size = 20, prob = 0.3) \n",
    "# quantile\n",
    "qbinom(c(0.25,0.5,0.75), size = 20, prob = 0.3)\n",
    "\n",
    "# without replacement: X ~ H(n=20,M=30,N=100)\n",
    "\n",
    "# plot of the density\n",
    "k <- 0:20\n",
    "plot(k,dhyper(k,m=30,n=70,k=20), type = \"h\", main =\"H(n=20,M=30,N=100)\",\n",
    "     xlab=\"x\", ylab=\"density\")\n",
    "# sample of size 20\n",
    "rhyper(20,m=30,n=70,k=20)\n",
    "# P(5 < X < 20)\n",
    "sum(dhyper(6:14,m=30,n=70,k=20))\n",
    "phyper(14,m=30,n=70,k=20) - phyper(5,m=30,n=70,k=20)\n",
    "# quantile\n",
    "qhyper(c(0.25,0.5,0.75),m=30,n=70,k=20)\n"
   ]
  },
  {
   "cell_type": "code",
   "execution_count": 11,
   "metadata": {
    "vscode": {
     "languageId": "r"
    }
   },
   "outputs": [
    {
     "data": {
      "text/html": [
       "0.0677244582043344"
      ],
      "text/latex": [
       "0.0677244582043344"
      ],
      "text/markdown": [
       "0.0677244582043344"
      ],
      "text/plain": [
       "[1] 0.06772446"
      ]
     },
     "metadata": {},
     "output_type": "display_data"
    },
    {
     "data": {
      "text/html": [
       "0.0406346749226006"
      ],
      "text/latex": [
       "0.0406346749226006"
      ],
      "text/markdown": [
       "0.0406346749226006"
      ],
      "text/plain": [
       "[1] 0.04063467"
      ]
     },
     "metadata": {},
     "output_type": "display_data"
    },
    {
     "data": {
      "text/html": [
       "0.0880417956656347"
      ],
      "text/latex": [
       "0.0880417956656347"
      ],
      "text/markdown": [
       "0.0880417956656347"
      ],
      "text/plain": [
       "[1] 0.0880418"
      ]
     },
     "metadata": {},
     "output_type": "display_data"
    },
    {
     "data": {
      "text/html": [
       "<table class=\"dataframe\">\n",
       "<caption>A tibble: 11 x 10</caption>\n",
       "<thead>\n",
       "\t<tr><th scope=col>m</th><th scope=col>fp</th><th scope=col>sp</th><th scope=col>riv</th><th scope=col>pa_worepl</th><th scope=col>pa_wrepl</th><th scope=col>pb_worepl</th><th scope=col>pb_wrepl</th><th scope=col>pc_worepl</th><th scope=col>pc_wrepl</th></tr>\n",
       "\t<tr><th scope=col>&lt;dbl&gt;</th><th scope=col>&lt;dbl&gt;</th><th scope=col>&lt;dbl&gt;</th><th scope=col>&lt;dbl&gt;</th><th scope=col>&lt;dbl&gt;</th><th scope=col>&lt;dbl&gt;</th><th scope=col>&lt;dbl&gt;</th><th scope=col>&lt;dbl&gt;</th><th scope=col>&lt;dbl&gt;</th><th scope=col>&lt;dbl&gt;</th></tr>\n",
       "</thead>\n",
       "<tbody>\n",
       "\t<tr><td> 1</td><td> 1</td><td>  4</td><td> 15</td><td>0.06772446</td><td>0.08789063</td><td>0.04063467</td><td>0.03375</td><td>0.08804180</td><td>0.07910156</td></tr>\n",
       "\t<tr><td> 6</td><td> 6</td><td> 24</td><td> 90</td><td>0.08532096</td><td>0.08789063</td><td>0.03480086</td><td>0.03375</td><td>0.08044548</td><td>0.07910156</td></tr>\n",
       "\t<tr><td>11</td><td>11</td><td> 44</td><td>165</td><td>0.08652136</td><td>0.08789063</td><td>0.03431833</td><td>0.03375</td><td>0.07982820</td><td>0.07910156</td></tr>\n",
       "\t<tr><td>16</td><td>16</td><td> 64</td><td>240</td><td>0.08695743</td><td>0.08789063</td><td>0.03413947</td><td>0.03375</td><td>0.07959949</td><td>0.07910156</td></tr>\n",
       "\t<tr><td>21</td><td>21</td><td> 84</td><td>315</td><td>0.08718285</td><td>0.08789063</td><td>0.03404624</td><td>0.03375</td><td>0.07948029</td><td>0.07910156</td></tr>\n",
       "\t<tr><td>26</td><td>26</td><td>104</td><td>390</td><td>0.08732056</td><td>0.08789063</td><td>0.03398902</td><td>0.03375</td><td>0.07940714</td><td>0.07910156</td></tr>\n",
       "\t<tr><td>31</td><td>31</td><td>124</td><td>465</td><td>0.08741342</td><td>0.08789063</td><td>0.03395033</td><td>0.03375</td><td>0.07935767</td><td>0.07910156</td></tr>\n",
       "\t<tr><td>36</td><td>36</td><td>144</td><td>540</td><td>0.08748026</td><td>0.08789063</td><td>0.03392242</td><td>0.03375</td><td>0.07932199</td><td>0.07910156</td></tr>\n",
       "\t<tr><td>41</td><td>41</td><td>164</td><td>615</td><td>0.08753068</td><td>0.08789063</td><td>0.03390133</td><td>0.03375</td><td>0.07929503</td><td>0.07910156</td></tr>\n",
       "\t<tr><td>46</td><td>46</td><td>184</td><td>690</td><td>0.08757006</td><td>0.08789063</td><td>0.03388484</td><td>0.03375</td><td>0.07927395</td><td>0.07910156</td></tr>\n",
       "\t<tr><td>51</td><td>51</td><td>204</td><td>765</td><td>0.08760168</td><td>0.08789063</td><td>0.03387159</td><td>0.03375</td><td>0.07925701</td><td>0.07910156</td></tr>\n",
       "</tbody>\n",
       "</table>\n"
      ],
      "text/latex": [
       "A tibble: 11 x 10\n",
       "\\begin{tabular}{llllllllll}\n",
       " m & fp & sp & riv & pa\\_worepl & pa\\_wrepl & pb\\_worepl & pb\\_wrepl & pc\\_worepl & pc\\_wrepl\\\\\n",
       " <dbl> & <dbl> & <dbl> & <dbl> & <dbl> & <dbl> & <dbl> & <dbl> & <dbl> & <dbl>\\\\\n",
       "\\hline\n",
       "\t  1 &  1 &   4 &  15 & 0.06772446 & 0.08789063 & 0.04063467 & 0.03375 & 0.08804180 & 0.07910156\\\\\n",
       "\t  6 &  6 &  24 &  90 & 0.08532096 & 0.08789063 & 0.03480086 & 0.03375 & 0.08044548 & 0.07910156\\\\\n",
       "\t 11 & 11 &  44 & 165 & 0.08652136 & 0.08789063 & 0.03431833 & 0.03375 & 0.07982820 & 0.07910156\\\\\n",
       "\t 16 & 16 &  64 & 240 & 0.08695743 & 0.08789063 & 0.03413947 & 0.03375 & 0.07959949 & 0.07910156\\\\\n",
       "\t 21 & 21 &  84 & 315 & 0.08718285 & 0.08789063 & 0.03404624 & 0.03375 & 0.07948029 & 0.07910156\\\\\n",
       "\t 26 & 26 & 104 & 390 & 0.08732056 & 0.08789063 & 0.03398902 & 0.03375 & 0.07940714 & 0.07910156\\\\\n",
       "\t 31 & 31 & 124 & 465 & 0.08741342 & 0.08789063 & 0.03395033 & 0.03375 & 0.07935767 & 0.07910156\\\\\n",
       "\t 36 & 36 & 144 & 540 & 0.08748026 & 0.08789063 & 0.03392242 & 0.03375 & 0.07932199 & 0.07910156\\\\\n",
       "\t 41 & 41 & 164 & 615 & 0.08753068 & 0.08789063 & 0.03390133 & 0.03375 & 0.07929503 & 0.07910156\\\\\n",
       "\t 46 & 46 & 184 & 690 & 0.08757006 & 0.08789063 & 0.03388484 & 0.03375 & 0.07927395 & 0.07910156\\\\\n",
       "\t 51 & 51 & 204 & 765 & 0.08760168 & 0.08789063 & 0.03387159 & 0.03375 & 0.07925701 & 0.07910156\\\\\n",
       "\\end{tabular}\n"
      ],
      "text/markdown": [
       "\n",
       "A tibble: 11 x 10\n",
       "\n",
       "| m &lt;dbl&gt; | fp &lt;dbl&gt; | sp &lt;dbl&gt; | riv &lt;dbl&gt; | pa_worepl &lt;dbl&gt; | pa_wrepl &lt;dbl&gt; | pb_worepl &lt;dbl&gt; | pb_wrepl &lt;dbl&gt; | pc_worepl &lt;dbl&gt; | pc_wrepl &lt;dbl&gt; |\n",
       "|---|---|---|---|---|---|---|---|---|---|\n",
       "|  1 |  1 |   4 |  15 | 0.06772446 | 0.08789063 | 0.04063467 | 0.03375 | 0.08804180 | 0.07910156 |\n",
       "|  6 |  6 |  24 |  90 | 0.08532096 | 0.08789063 | 0.03480086 | 0.03375 | 0.08044548 | 0.07910156 |\n",
       "| 11 | 11 |  44 | 165 | 0.08652136 | 0.08789063 | 0.03431833 | 0.03375 | 0.07982820 | 0.07910156 |\n",
       "| 16 | 16 |  64 | 240 | 0.08695743 | 0.08789063 | 0.03413947 | 0.03375 | 0.07959949 | 0.07910156 |\n",
       "| 21 | 21 |  84 | 315 | 0.08718285 | 0.08789063 | 0.03404624 | 0.03375 | 0.07948029 | 0.07910156 |\n",
       "| 26 | 26 | 104 | 390 | 0.08732056 | 0.08789063 | 0.03398902 | 0.03375 | 0.07940714 | 0.07910156 |\n",
       "| 31 | 31 | 124 | 465 | 0.08741342 | 0.08789063 | 0.03395033 | 0.03375 | 0.07935767 | 0.07910156 |\n",
       "| 36 | 36 | 144 | 540 | 0.08748026 | 0.08789063 | 0.03392242 | 0.03375 | 0.07932199 | 0.07910156 |\n",
       "| 41 | 41 | 164 | 615 | 0.08753068 | 0.08789063 | 0.03390133 | 0.03375 | 0.07929503 | 0.07910156 |\n",
       "| 46 | 46 | 184 | 690 | 0.08757006 | 0.08789063 | 0.03388484 | 0.03375 | 0.07927395 | 0.07910156 |\n",
       "| 51 | 51 | 204 | 765 | 0.08760168 | 0.08789063 | 0.03387159 | 0.03375 | 0.07925701 | 0.07910156 |\n",
       "\n"
      ],
      "text/plain": [
       "   m  fp sp  riv pa_worepl  pa_wrepl   pb_worepl  pb_wrepl pc_worepl \n",
       "1   1  1   4  15 0.06772446 0.08789063 0.04063467 0.03375  0.08804180\n",
       "2   6  6  24  90 0.08532096 0.08789063 0.03480086 0.03375  0.08044548\n",
       "3  11 11  44 165 0.08652136 0.08789063 0.03431833 0.03375  0.07982820\n",
       "4  16 16  64 240 0.08695743 0.08789063 0.03413947 0.03375  0.07959949\n",
       "5  21 21  84 315 0.08718285 0.08789063 0.03404624 0.03375  0.07948029\n",
       "6  26 26 104 390 0.08732056 0.08789063 0.03398902 0.03375  0.07940714\n",
       "7  31 31 124 465 0.08741342 0.08789063 0.03395033 0.03375  0.07935767\n",
       "8  36 36 144 540 0.08748026 0.08789063 0.03392242 0.03375  0.07932199\n",
       "9  41 41 164 615 0.08753068 0.08789063 0.03390133 0.03375  0.07929503\n",
       "10 46 46 184 690 0.08757006 0.08789063 0.03388484 0.03375  0.07927395\n",
       "11 51 51 204 765 0.08760168 0.08789063 0.03387159 0.03375  0.07925701\n",
       "   pc_wrepl  \n",
       "1  0.07910156\n",
       "2  0.07910156\n",
       "3  0.07910156\n",
       "4  0.07910156\n",
       "5  0.07910156\n",
       "6  0.07910156\n",
       "7  0.07910156\n",
       "8  0.07910156\n",
       "9  0.07910156\n",
       "10 0.07910156\n",
       "11 0.07910156"
      ]
     },
     "metadata": {},
     "output_type": "display_data"
    }
   ],
   "source": [
    "####################################################################\n",
    "# Consider a lottery of 20 tickets. Among the tickets there \n",
    "# are a first prize, 4 second prizes and 15 rivets. 5 tickets\n",
    "# are drawn from the lottery drum. Determine the probability that\n",
    "# a) 2 rivets have been drawn.\n",
    "# b) 2 rivets, 2 second prizes and the first prize were drawn.\n",
    "# c) The 5th lot drawn is the first lot which is not a rivet.\n",
    "# Calculate the probabilities if the lots are drawn with replacement.\n",
    "# What results will be obtained if the number of lots in the drum is\n",
    "# increased (with equal proportions of first prizes, second prizes\n",
    "# and rivets)?\n",
    "#\n",
    "# file: prob_rv_rivet_sol.R\n",
    "#####################################################################\n",
    "\n",
    "library(tidyverse)\n",
    "\n",
    "fp <- 1\n",
    "sp <- 4\n",
    "riv <- 15\n",
    "n <- 5\n",
    "\n",
    "# without replacement\n",
    "# a) hypergeometric distribution\n",
    "# H(k, M, N+M) density:\n",
    "#dhyper(x = number of white balls drawn, \n",
    "#       m = number of white balls in the urn, \n",
    "#       n\t= number of black balls in the urn, \n",
    "#       k\t= the number of balls drawn from the urn)\n",
    "pa <- dhyper(2,riv,fp+sp,n)\n",
    "pa # = choose(15,2)*choose(5,3) / choose(20,5)\n",
    "\n",
    "# b) generalised hypergeometric distribution\n",
    "pb <- choose(riv,2)*choose(sp,2)*choose(fp,1) /\n",
    "  choose(riv+fp+sp,n)\n",
    "pb\n",
    "# c) geometric distribution\n",
    "pc <- (choose(riv,n-1)/choose(fp+sp+riv,n-1)) *\n",
    "  (fp+sp)/(fp+sp+riv-(n-1))\n",
    "pc\n",
    "\n",
    "# results with and without replacement for increasing\n",
    "# number of tickets but constant proportion of the\n",
    "# prizes\n",
    "results <-\n",
    "  tibble(\n",
    "    m = seq(from=1,to=55,by=5),\n",
    "    fp = m,\n",
    "    sp = 4*m,\n",
    "    riv = 15*m,\n",
    "    pa_worepl = dhyper(2,riv,fp+sp,5),\n",
    "    pa_wrepl = dbinom(2,5,riv/(riv+fp+sp)),\n",
    "    pb_worepl = choose(riv,2)*choose(sp,2)*choose(fp,1) /\n",
    "      choose(riv+fp+sp,1+2+2),\n",
    "    pb_wrepl = factorial(1+2+2)/\n",
    "      (factorial(2)*factorial(2)*factorial(1))*\n",
    "      (riv/(riv+fp+sp))^2 * (sp/(riv+fp+sp))^2 *\n",
    "      (fp/(riv+fp+sp))^1,\n",
    "    pc_worepl = (choose(riv,5-1)/choose(fp+sp+riv,5-1)) *\n",
    "      (fp+sp)/(fp+sp+riv-(5-1)),\n",
    "    pc_wrepl = dgeom(5-1,(fp+sp)/(fp+sp+riv))\n",
    "  )\n",
    "results\n"
   ]
  },
  {
   "cell_type": "code",
   "execution_count": 12,
   "metadata": {
    "vscode": {
     "languageId": "r"
    }
   },
   "outputs": [
    {
     "data": {
      "text/html": [
       "<table class=\"dataframe\">\n",
       "<caption>A tibble: 36 x 3</caption>\n",
       "<thead>\n",
       "\t<tr><th scope=col>x1</th><th scope=col>x2</th><th scope=col>prob</th></tr>\n",
       "\t<tr><th scope=col>&lt;int&gt;</th><th scope=col>&lt;int&gt;</th><th scope=col>&lt;dbl&gt;</th></tr>\n",
       "</thead>\n",
       "<tbody>\n",
       "\t<tr><td>1</td><td>1</td><td>0.02777778</td></tr>\n",
       "\t<tr><td>2</td><td>1</td><td>0.02777778</td></tr>\n",
       "\t<tr><td>3</td><td>1</td><td>0.02777778</td></tr>\n",
       "\t<tr><td>4</td><td>1</td><td>0.02777778</td></tr>\n",
       "\t<tr><td>5</td><td>1</td><td>0.02777778</td></tr>\n",
       "\t<tr><td>6</td><td>1</td><td>0.02777778</td></tr>\n",
       "\t<tr><td>1</td><td>2</td><td>0.02777778</td></tr>\n",
       "\t<tr><td>2</td><td>2</td><td>0.02777778</td></tr>\n",
       "\t<tr><td>3</td><td>2</td><td>0.02777778</td></tr>\n",
       "\t<tr><td>4</td><td>2</td><td>0.02777778</td></tr>\n",
       "\t<tr><td>5</td><td>2</td><td>0.02777778</td></tr>\n",
       "\t<tr><td>6</td><td>2</td><td>0.02777778</td></tr>\n",
       "\t<tr><td>1</td><td>3</td><td>0.02777778</td></tr>\n",
       "\t<tr><td>2</td><td>3</td><td>0.02777778</td></tr>\n",
       "\t<tr><td>3</td><td>3</td><td>0.02777778</td></tr>\n",
       "\t<tr><td>4</td><td>3</td><td>0.02777778</td></tr>\n",
       "\t<tr><td>5</td><td>3</td><td>0.02777778</td></tr>\n",
       "\t<tr><td>6</td><td>3</td><td>0.02777778</td></tr>\n",
       "\t<tr><td>1</td><td>4</td><td>0.02777778</td></tr>\n",
       "\t<tr><td>2</td><td>4</td><td>0.02777778</td></tr>\n",
       "\t<tr><td>3</td><td>4</td><td>0.02777778</td></tr>\n",
       "\t<tr><td>4</td><td>4</td><td>0.02777778</td></tr>\n",
       "\t<tr><td>5</td><td>4</td><td>0.02777778</td></tr>\n",
       "\t<tr><td>6</td><td>4</td><td>0.02777778</td></tr>\n",
       "\t<tr><td>1</td><td>5</td><td>0.02777778</td></tr>\n",
       "\t<tr><td>2</td><td>5</td><td>0.02777778</td></tr>\n",
       "\t<tr><td>3</td><td>5</td><td>0.02777778</td></tr>\n",
       "\t<tr><td>4</td><td>5</td><td>0.02777778</td></tr>\n",
       "\t<tr><td>5</td><td>5</td><td>0.02777778</td></tr>\n",
       "\t<tr><td>6</td><td>5</td><td>0.02777778</td></tr>\n",
       "\t<tr><td>1</td><td>6</td><td>0.02777778</td></tr>\n",
       "\t<tr><td>2</td><td>6</td><td>0.02777778</td></tr>\n",
       "\t<tr><td>3</td><td>6</td><td>0.02777778</td></tr>\n",
       "\t<tr><td>4</td><td>6</td><td>0.02777778</td></tr>\n",
       "\t<tr><td>5</td><td>6</td><td>0.02777778</td></tr>\n",
       "\t<tr><td>6</td><td>6</td><td>0.02777778</td></tr>\n",
       "</tbody>\n",
       "</table>\n"
      ],
      "text/latex": [
       "A tibble: 36 x 3\n",
       "\\begin{tabular}{lll}\n",
       " x1 & x2 & prob\\\\\n",
       " <int> & <int> & <dbl>\\\\\n",
       "\\hline\n",
       "\t 1 & 1 & 0.02777778\\\\\n",
       "\t 2 & 1 & 0.02777778\\\\\n",
       "\t 3 & 1 & 0.02777778\\\\\n",
       "\t 4 & 1 & 0.02777778\\\\\n",
       "\t 5 & 1 & 0.02777778\\\\\n",
       "\t 6 & 1 & 0.02777778\\\\\n",
       "\t 1 & 2 & 0.02777778\\\\\n",
       "\t 2 & 2 & 0.02777778\\\\\n",
       "\t 3 & 2 & 0.02777778\\\\\n",
       "\t 4 & 2 & 0.02777778\\\\\n",
       "\t 5 & 2 & 0.02777778\\\\\n",
       "\t 6 & 2 & 0.02777778\\\\\n",
       "\t 1 & 3 & 0.02777778\\\\\n",
       "\t 2 & 3 & 0.02777778\\\\\n",
       "\t 3 & 3 & 0.02777778\\\\\n",
       "\t 4 & 3 & 0.02777778\\\\\n",
       "\t 5 & 3 & 0.02777778\\\\\n",
       "\t 6 & 3 & 0.02777778\\\\\n",
       "\t 1 & 4 & 0.02777778\\\\\n",
       "\t 2 & 4 & 0.02777778\\\\\n",
       "\t 3 & 4 & 0.02777778\\\\\n",
       "\t 4 & 4 & 0.02777778\\\\\n",
       "\t 5 & 4 & 0.02777778\\\\\n",
       "\t 6 & 4 & 0.02777778\\\\\n",
       "\t 1 & 5 & 0.02777778\\\\\n",
       "\t 2 & 5 & 0.02777778\\\\\n",
       "\t 3 & 5 & 0.02777778\\\\\n",
       "\t 4 & 5 & 0.02777778\\\\\n",
       "\t 5 & 5 & 0.02777778\\\\\n",
       "\t 6 & 5 & 0.02777778\\\\\n",
       "\t 1 & 6 & 0.02777778\\\\\n",
       "\t 2 & 6 & 0.02777778\\\\\n",
       "\t 3 & 6 & 0.02777778\\\\\n",
       "\t 4 & 6 & 0.02777778\\\\\n",
       "\t 5 & 6 & 0.02777778\\\\\n",
       "\t 6 & 6 & 0.02777778\\\\\n",
       "\\end{tabular}\n"
      ],
      "text/markdown": [
       "\n",
       "A tibble: 36 x 3\n",
       "\n",
       "| x1 &lt;int&gt; | x2 &lt;int&gt; | prob &lt;dbl&gt; |\n",
       "|---|---|---|\n",
       "| 1 | 1 | 0.02777778 |\n",
       "| 2 | 1 | 0.02777778 |\n",
       "| 3 | 1 | 0.02777778 |\n",
       "| 4 | 1 | 0.02777778 |\n",
       "| 5 | 1 | 0.02777778 |\n",
       "| 6 | 1 | 0.02777778 |\n",
       "| 1 | 2 | 0.02777778 |\n",
       "| 2 | 2 | 0.02777778 |\n",
       "| 3 | 2 | 0.02777778 |\n",
       "| 4 | 2 | 0.02777778 |\n",
       "| 5 | 2 | 0.02777778 |\n",
       "| 6 | 2 | 0.02777778 |\n",
       "| 1 | 3 | 0.02777778 |\n",
       "| 2 | 3 | 0.02777778 |\n",
       "| 3 | 3 | 0.02777778 |\n",
       "| 4 | 3 | 0.02777778 |\n",
       "| 5 | 3 | 0.02777778 |\n",
       "| 6 | 3 | 0.02777778 |\n",
       "| 1 | 4 | 0.02777778 |\n",
       "| 2 | 4 | 0.02777778 |\n",
       "| 3 | 4 | 0.02777778 |\n",
       "| 4 | 4 | 0.02777778 |\n",
       "| 5 | 4 | 0.02777778 |\n",
       "| 6 | 4 | 0.02777778 |\n",
       "| 1 | 5 | 0.02777778 |\n",
       "| 2 | 5 | 0.02777778 |\n",
       "| 3 | 5 | 0.02777778 |\n",
       "| 4 | 5 | 0.02777778 |\n",
       "| 5 | 5 | 0.02777778 |\n",
       "| 6 | 5 | 0.02777778 |\n",
       "| 1 | 6 | 0.02777778 |\n",
       "| 2 | 6 | 0.02777778 |\n",
       "| 3 | 6 | 0.02777778 |\n",
       "| 4 | 6 | 0.02777778 |\n",
       "| 5 | 6 | 0.02777778 |\n",
       "| 6 | 6 | 0.02777778 |\n",
       "\n"
      ],
      "text/plain": [
       "   x1 x2 prob      \n",
       "1  1  1  0.02777778\n",
       "2  2  1  0.02777778\n",
       "3  3  1  0.02777778\n",
       "4  4  1  0.02777778\n",
       "5  5  1  0.02777778\n",
       "6  6  1  0.02777778\n",
       "7  1  2  0.02777778\n",
       "8  2  2  0.02777778\n",
       "9  3  2  0.02777778\n",
       "10 4  2  0.02777778\n",
       "11 5  2  0.02777778\n",
       "12 6  2  0.02777778\n",
       "13 1  3  0.02777778\n",
       "14 2  3  0.02777778\n",
       "15 3  3  0.02777778\n",
       "16 4  3  0.02777778\n",
       "17 5  3  0.02777778\n",
       "18 6  3  0.02777778\n",
       "19 1  4  0.02777778\n",
       "20 2  4  0.02777778\n",
       "21 3  4  0.02777778\n",
       "22 4  4  0.02777778\n",
       "23 5  4  0.02777778\n",
       "24 6  4  0.02777778\n",
       "25 1  5  0.02777778\n",
       "26 2  5  0.02777778\n",
       "27 3  5  0.02777778\n",
       "28 4  5  0.02777778\n",
       "29 5  5  0.02777778\n",
       "30 6  5  0.02777778\n",
       "31 1  6  0.02777778\n",
       "32 2  6  0.02777778\n",
       "33 3  6  0.02777778\n",
       "34 4  6  0.02777778\n",
       "35 5  6  0.02777778\n",
       "36 6  6  0.02777778"
      ]
     },
     "metadata": {},
     "output_type": "display_data"
    },
    {
     "data": {
      "text/html": [
       "<table class=\"dataframe\">\n",
       "<caption>A tibble: 11 x 2</caption>\n",
       "<thead>\n",
       "\t<tr><th scope=col>y</th><th scope=col>prob</th></tr>\n",
       "\t<tr><th scope=col>&lt;int&gt;</th><th scope=col>&lt;dbl&gt;</th></tr>\n",
       "</thead>\n",
       "<tbody>\n",
       "\t<tr><td> 2</td><td>0.02777778</td></tr>\n",
       "\t<tr><td> 3</td><td>0.05555556</td></tr>\n",
       "\t<tr><td> 4</td><td>0.08333333</td></tr>\n",
       "\t<tr><td> 5</td><td>0.11111111</td></tr>\n",
       "\t<tr><td> 6</td><td>0.13888889</td></tr>\n",
       "\t<tr><td> 7</td><td>0.16666667</td></tr>\n",
       "\t<tr><td> 8</td><td>0.13888889</td></tr>\n",
       "\t<tr><td> 9</td><td>0.11111111</td></tr>\n",
       "\t<tr><td>10</td><td>0.08333333</td></tr>\n",
       "\t<tr><td>11</td><td>0.05555556</td></tr>\n",
       "\t<tr><td>12</td><td>0.02777778</td></tr>\n",
       "</tbody>\n",
       "</table>\n"
      ],
      "text/latex": [
       "A tibble: 11 x 2\n",
       "\\begin{tabular}{ll}\n",
       " y & prob\\\\\n",
       " <int> & <dbl>\\\\\n",
       "\\hline\n",
       "\t  2 & 0.02777778\\\\\n",
       "\t  3 & 0.05555556\\\\\n",
       "\t  4 & 0.08333333\\\\\n",
       "\t  5 & 0.11111111\\\\\n",
       "\t  6 & 0.13888889\\\\\n",
       "\t  7 & 0.16666667\\\\\n",
       "\t  8 & 0.13888889\\\\\n",
       "\t  9 & 0.11111111\\\\\n",
       "\t 10 & 0.08333333\\\\\n",
       "\t 11 & 0.05555556\\\\\n",
       "\t 12 & 0.02777778\\\\\n",
       "\\end{tabular}\n"
      ],
      "text/markdown": [
       "\n",
       "A tibble: 11 x 2\n",
       "\n",
       "| y &lt;int&gt; | prob &lt;dbl&gt; |\n",
       "|---|---|\n",
       "|  2 | 0.02777778 |\n",
       "|  3 | 0.05555556 |\n",
       "|  4 | 0.08333333 |\n",
       "|  5 | 0.11111111 |\n",
       "|  6 | 0.13888889 |\n",
       "|  7 | 0.16666667 |\n",
       "|  8 | 0.13888889 |\n",
       "|  9 | 0.11111111 |\n",
       "| 10 | 0.08333333 |\n",
       "| 11 | 0.05555556 |\n",
       "| 12 | 0.02777778 |\n",
       "\n"
      ],
      "text/plain": [
       "   y  prob      \n",
       "1   2 0.02777778\n",
       "2   3 0.05555556\n",
       "3   4 0.08333333\n",
       "4   5 0.11111111\n",
       "5   6 0.13888889\n",
       "6   7 0.16666667\n",
       "7   8 0.13888889\n",
       "8   9 0.11111111\n",
       "9  10 0.08333333\n",
       "10 11 0.05555556\n",
       "11 12 0.02777778"
      ]
     },
     "metadata": {},
     "output_type": "display_data"
    },
    {
     "data": {
      "text/html": [
       "<table class=\"dataframe\">\n",
       "<caption>A rowwise_df: 6 x 2</caption>\n",
       "<thead>\n",
       "\t<tr><th scope=col>u</th><th scope=col>prob</th></tr>\n",
       "\t<tr><th scope=col>&lt;int&gt;</th><th scope=col>&lt;dbl&gt;</th></tr>\n",
       "</thead>\n",
       "<tbody>\n",
       "\t<tr><td>1</td><td>0.30555556</td></tr>\n",
       "\t<tr><td>2</td><td>0.25000000</td></tr>\n",
       "\t<tr><td>3</td><td>0.19444444</td></tr>\n",
       "\t<tr><td>4</td><td>0.13888889</td></tr>\n",
       "\t<tr><td>5</td><td>0.08333333</td></tr>\n",
       "\t<tr><td>6</td><td>0.02777778</td></tr>\n",
       "</tbody>\n",
       "</table>\n"
      ],
      "text/latex": [
       "A rowwise\\_df: 6 x 2\n",
       "\\begin{tabular}{ll}\n",
       " u & prob\\\\\n",
       " <int> & <dbl>\\\\\n",
       "\\hline\n",
       "\t 1 & 0.30555556\\\\\n",
       "\t 2 & 0.25000000\\\\\n",
       "\t 3 & 0.19444444\\\\\n",
       "\t 4 & 0.13888889\\\\\n",
       "\t 5 & 0.08333333\\\\\n",
       "\t 6 & 0.02777778\\\\\n",
       "\\end{tabular}\n"
      ],
      "text/markdown": [
       "\n",
       "A rowwise_df: 6 x 2\n",
       "\n",
       "| u &lt;int&gt; | prob &lt;dbl&gt; |\n",
       "|---|---|\n",
       "| 1 | 0.30555556 |\n",
       "| 2 | 0.25000000 |\n",
       "| 3 | 0.19444444 |\n",
       "| 4 | 0.13888889 |\n",
       "| 5 | 0.08333333 |\n",
       "| 6 | 0.02777778 |\n",
       "\n"
      ],
      "text/plain": [
       "  u prob      \n",
       "1 1 0.30555556\n",
       "2 2 0.25000000\n",
       "3 3 0.19444444\n",
       "4 4 0.13888889\n",
       "5 5 0.08333333\n",
       "6 6 0.02777778"
      ]
     },
     "metadata": {},
     "output_type": "display_data"
    },
    {
     "data": {
      "text/html": [
       "<table class=\"dataframe\">\n",
       "<caption>A rowwise_df: 6 x 2</caption>\n",
       "<thead>\n",
       "\t<tr><th scope=col>v</th><th scope=col>prob</th></tr>\n",
       "\t<tr><th scope=col>&lt;int&gt;</th><th scope=col>&lt;dbl&gt;</th></tr>\n",
       "</thead>\n",
       "<tbody>\n",
       "\t<tr><td>1</td><td>0.02777778</td></tr>\n",
       "\t<tr><td>2</td><td>0.08333333</td></tr>\n",
       "\t<tr><td>3</td><td>0.13888889</td></tr>\n",
       "\t<tr><td>4</td><td>0.19444444</td></tr>\n",
       "\t<tr><td>5</td><td>0.25000000</td></tr>\n",
       "\t<tr><td>6</td><td>0.30555556</td></tr>\n",
       "</tbody>\n",
       "</table>\n"
      ],
      "text/latex": [
       "A rowwise\\_df: 6 x 2\n",
       "\\begin{tabular}{ll}\n",
       " v & prob\\\\\n",
       " <int> & <dbl>\\\\\n",
       "\\hline\n",
       "\t 1 & 0.02777778\\\\\n",
       "\t 2 & 0.08333333\\\\\n",
       "\t 3 & 0.13888889\\\\\n",
       "\t 4 & 0.19444444\\\\\n",
       "\t 5 & 0.25000000\\\\\n",
       "\t 6 & 0.30555556\\\\\n",
       "\\end{tabular}\n"
      ],
      "text/markdown": [
       "\n",
       "A rowwise_df: 6 x 2\n",
       "\n",
       "| v &lt;int&gt; | prob &lt;dbl&gt; |\n",
       "|---|---|\n",
       "| 1 | 0.02777778 |\n",
       "| 2 | 0.08333333 |\n",
       "| 3 | 0.13888889 |\n",
       "| 4 | 0.19444444 |\n",
       "| 5 | 0.25000000 |\n",
       "| 6 | 0.30555556 |\n",
       "\n"
      ],
      "text/plain": [
       "  v prob      \n",
       "1 1 0.02777778\n",
       "2 2 0.08333333\n",
       "3 3 0.13888889\n",
       "4 4 0.19444444\n",
       "5 5 0.25000000\n",
       "6 6 0.30555556"
      ]
     },
     "metadata": {},
     "output_type": "display_data"
    },
    {
     "data": {
      "text/html": [
       "<table class=\"dataframe\">\n",
       "<caption>A rowwise_df: 21 x 3</caption>\n",
       "<thead>\n",
       "\t<tr><th scope=col>u</th><th scope=col>v</th><th scope=col>prob</th></tr>\n",
       "\t<tr><th scope=col>&lt;int&gt;</th><th scope=col>&lt;int&gt;</th><th scope=col>&lt;dbl&gt;</th></tr>\n",
       "</thead>\n",
       "<tbody>\n",
       "\t<tr><td>1</td><td>1</td><td>0.02777778</td></tr>\n",
       "\t<tr><td>1</td><td>2</td><td>0.05555556</td></tr>\n",
       "\t<tr><td>1</td><td>3</td><td>0.05555556</td></tr>\n",
       "\t<tr><td>1</td><td>4</td><td>0.05555556</td></tr>\n",
       "\t<tr><td>1</td><td>5</td><td>0.05555556</td></tr>\n",
       "\t<tr><td>1</td><td>6</td><td>0.05555556</td></tr>\n",
       "\t<tr><td>2</td><td>2</td><td>0.02777778</td></tr>\n",
       "\t<tr><td>2</td><td>3</td><td>0.05555556</td></tr>\n",
       "\t<tr><td>2</td><td>4</td><td>0.05555556</td></tr>\n",
       "\t<tr><td>2</td><td>5</td><td>0.05555556</td></tr>\n",
       "\t<tr><td>2</td><td>6</td><td>0.05555556</td></tr>\n",
       "\t<tr><td>3</td><td>3</td><td>0.02777778</td></tr>\n",
       "\t<tr><td>3</td><td>4</td><td>0.05555556</td></tr>\n",
       "\t<tr><td>3</td><td>5</td><td>0.05555556</td></tr>\n",
       "\t<tr><td>3</td><td>6</td><td>0.05555556</td></tr>\n",
       "\t<tr><td>4</td><td>4</td><td>0.02777778</td></tr>\n",
       "\t<tr><td>4</td><td>5</td><td>0.05555556</td></tr>\n",
       "\t<tr><td>4</td><td>6</td><td>0.05555556</td></tr>\n",
       "\t<tr><td>5</td><td>5</td><td>0.02777778</td></tr>\n",
       "\t<tr><td>5</td><td>6</td><td>0.05555556</td></tr>\n",
       "\t<tr><td>6</td><td>6</td><td>0.02777778</td></tr>\n",
       "</tbody>\n",
       "</table>\n"
      ],
      "text/latex": [
       "A rowwise\\_df: 21 x 3\n",
       "\\begin{tabular}{lll}\n",
       " u & v & prob\\\\\n",
       " <int> & <int> & <dbl>\\\\\n",
       "\\hline\n",
       "\t 1 & 1 & 0.02777778\\\\\n",
       "\t 1 & 2 & 0.05555556\\\\\n",
       "\t 1 & 3 & 0.05555556\\\\\n",
       "\t 1 & 4 & 0.05555556\\\\\n",
       "\t 1 & 5 & 0.05555556\\\\\n",
       "\t 1 & 6 & 0.05555556\\\\\n",
       "\t 2 & 2 & 0.02777778\\\\\n",
       "\t 2 & 3 & 0.05555556\\\\\n",
       "\t 2 & 4 & 0.05555556\\\\\n",
       "\t 2 & 5 & 0.05555556\\\\\n",
       "\t 2 & 6 & 0.05555556\\\\\n",
       "\t 3 & 3 & 0.02777778\\\\\n",
       "\t 3 & 4 & 0.05555556\\\\\n",
       "\t 3 & 5 & 0.05555556\\\\\n",
       "\t 3 & 6 & 0.05555556\\\\\n",
       "\t 4 & 4 & 0.02777778\\\\\n",
       "\t 4 & 5 & 0.05555556\\\\\n",
       "\t 4 & 6 & 0.05555556\\\\\n",
       "\t 5 & 5 & 0.02777778\\\\\n",
       "\t 5 & 6 & 0.05555556\\\\\n",
       "\t 6 & 6 & 0.02777778\\\\\n",
       "\\end{tabular}\n"
      ],
      "text/markdown": [
       "\n",
       "A rowwise_df: 21 x 3\n",
       "\n",
       "| u &lt;int&gt; | v &lt;int&gt; | prob &lt;dbl&gt; |\n",
       "|---|---|---|\n",
       "| 1 | 1 | 0.02777778 |\n",
       "| 1 | 2 | 0.05555556 |\n",
       "| 1 | 3 | 0.05555556 |\n",
       "| 1 | 4 | 0.05555556 |\n",
       "| 1 | 5 | 0.05555556 |\n",
       "| 1 | 6 | 0.05555556 |\n",
       "| 2 | 2 | 0.02777778 |\n",
       "| 2 | 3 | 0.05555556 |\n",
       "| 2 | 4 | 0.05555556 |\n",
       "| 2 | 5 | 0.05555556 |\n",
       "| 2 | 6 | 0.05555556 |\n",
       "| 3 | 3 | 0.02777778 |\n",
       "| 3 | 4 | 0.05555556 |\n",
       "| 3 | 5 | 0.05555556 |\n",
       "| 3 | 6 | 0.05555556 |\n",
       "| 4 | 4 | 0.02777778 |\n",
       "| 4 | 5 | 0.05555556 |\n",
       "| 4 | 6 | 0.05555556 |\n",
       "| 5 | 5 | 0.02777778 |\n",
       "| 5 | 6 | 0.05555556 |\n",
       "| 6 | 6 | 0.02777778 |\n",
       "\n"
      ],
      "text/plain": [
       "   u v prob      \n",
       "1  1 1 0.02777778\n",
       "2  1 2 0.05555556\n",
       "3  1 3 0.05555556\n",
       "4  1 4 0.05555556\n",
       "5  1 5 0.05555556\n",
       "6  1 6 0.05555556\n",
       "7  2 2 0.02777778\n",
       "8  2 3 0.05555556\n",
       "9  2 4 0.05555556\n",
       "10 2 5 0.05555556\n",
       "11 2 6 0.05555556\n",
       "12 3 3 0.02777778\n",
       "13 3 4 0.05555556\n",
       "14 3 5 0.05555556\n",
       "15 3 6 0.05555556\n",
       "16 4 4 0.02777778\n",
       "17 4 5 0.05555556\n",
       "18 4 6 0.05555556\n",
       "19 5 5 0.02777778\n",
       "20 5 6 0.05555556\n",
       "21 6 6 0.02777778"
      ]
     },
     "metadata": {},
     "output_type": "display_data"
    }
   ],
   "source": [
    "###################################################################\n",
    "# Suppose that two fair, standard dice are tossed and the sequence\n",
    "# of scores (X_1,X_2) are recorded. Let Y=X_1+X_2, denote the sum\n",
    "# of the scores, U=min (X_1,X_2), the minimum score, and\n",
    "# V=max (X_1,X_2) the maximum score.\n",
    "#\n",
    "# file: prob_rv_rolling_dice_sol.R\n",
    "###################################################################\n",
    "\n",
    "library(tidyverse)\n",
    "\n",
    "#################################################################\n",
    "# solution without gtools\n",
    "#################################################################\n",
    "# a) Find the probability density function of (X_1,X_2).\n",
    "# expand.grid() create a data frame from all combinations of the\n",
    "# supplied vectors or factors.\n",
    "x1_x2_dens <- tibble(\n",
    "  x1 = rep(1:6, length.out=6^2),\n",
    "  x2 = rep(1:6, each=6, length.out=6^2),\n",
    "  prob = 1/6^2\n",
    ")\n",
    "x1_x2_dens\n",
    "\n",
    "# b) Find the probability density function of Y.\n",
    "x1_x2_dens %>%\n",
    "  mutate(y = x1+x2) %>%\n",
    "  count(y) %>%\n",
    "  mutate(prob = n/36) %>%\n",
    "  select(-n) -> y_dens\n",
    "y_dens\n",
    "\n",
    "# c) Find the probability density function of U.\n",
    "# apply() returns a vector or array or list of values obtained by\n",
    "# applying a function to margins of an array or matrix.\n",
    "x1_x2_dens %>%\n",
    "  rowwise() %>%\n",
    "  mutate(u = min(x1,x2)) %>%\n",
    "  count(u) %>%\n",
    "  mutate(prob = n/36) %>%\n",
    "  select(-n) -> u_dens\n",
    "u_dens\n",
    "\n",
    "# d) Find the probability density function of V.\n",
    "x1_x2_dens %>%\n",
    "  rowwise() %>%\n",
    "  mutate(v = max(x1,x2)) %>%\n",
    "  count(v) %>%\n",
    "  mutate(prob = n/36) %>%\n",
    "  select(-n) -> v_dens\n",
    "v_dens\n",
    "\n",
    "# e) Find the probability density function of (U,V).\n",
    "x1_x2_dens %>%\n",
    "  rowwise() %>%\n",
    "  mutate(\n",
    "    u = min(x1,x2),\n",
    "    v = max(x1,x2)\n",
    "  ) %>%\n",
    "  count(u,v) %>%\n",
    "  mutate(prob = n/36) %>%\n",
    "  select(-n) -> uv_dens\n",
    "uv_dens"
   ]
  }
 ],
 "metadata": {
  "kernelspec": {
   "display_name": "R",
   "language": "R",
   "name": "ir"
  },
  "language_info": {
   "codemirror_mode": "r",
   "file_extension": ".r",
   "mimetype": "text/x-r-source",
   "name": "R",
   "pygments_lexer": "r",
   "version": "4.3.3"
  }
 },
 "nbformat": 4,
 "nbformat_minor": 2
}
